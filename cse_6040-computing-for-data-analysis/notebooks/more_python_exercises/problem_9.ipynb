{
 "cells": [
  {
   "cell_type": "markdown",
   "metadata": {},
   "source": [
    "# Problem 9\n",
    "\n",
    "This problem consists of a single exercise worth ten (10) points."
   ]
  },
  {
   "cell_type": "markdown",
   "metadata": {},
   "source": [
    "**Exercise 0** (10 points): Write a function, `digitize(n)` that given a positive number n, returns the digits of n as the integer elements of a list in reversed order. \n",
    "\n",
    "For example:\n",
    "```python\n",
    "    assert digitize(1345328) = [8, 2, 3, 5, 4, 3, 1]\n",
    "```"
   ]
  },
  {
   "cell_type": "code",
   "execution_count": 1,
   "metadata": {},
   "outputs": [],
   "source": [
    "my_int = 1345828"
   ]
  },
  {
   "cell_type": "code",
   "execution_count": 12,
   "metadata": {},
   "outputs": [
    {
     "data": {
      "text/plain": [
       "[8, 2, 8, 5, 4, 3, 1]"
      ]
     },
     "execution_count": 12,
     "metadata": {},
     "output_type": "execute_result"
    }
   ],
   "source": [
    "[int(ch) for ch in str(my_int)[::-1]]"
   ]
  },
  {
   "cell_type": "code",
   "execution_count": 13,
   "metadata": {},
   "outputs": [],
   "source": [
    "def digitize(n):\n",
    "    assert n > 0, '`n` is not a positive number'\n",
    "    assert type(n) is int, '`n` must be an `int`'\n",
    "    \n",
    "    return [int(ch) for ch in str(n)[::-1]]\n",
    "    \n",
    "    \n",
    "    "
   ]
  },
  {
   "cell_type": "code",
   "execution_count": 14,
   "metadata": {},
   "outputs": [
    {
     "name": "stdout",
     "output_type": "stream",
     "text": [
      "\n",
      "(Passed!)\n"
     ]
    }
   ],
   "source": [
    "# Test_cell: test_digitize\n",
    "\n",
    "assert digitize(1345328) == [8, 2, 3, 5, 4, 3, 1], 'Wrong output. Make sure your function returns the digits in reverse order'\n",
    "print(\"\\n(Passed!)\")"
   ]
  },
  {
   "cell_type": "code",
   "execution_count": null,
   "metadata": {},
   "outputs": [],
   "source": []
  }
 ],
 "metadata": {
  "kernelspec": {
   "display_name": "Python 3",
   "language": "python",
   "name": "python3"
  },
  "language_info": {
   "codemirror_mode": {
    "name": "ipython",
    "version": 3
   },
   "file_extension": ".py",
   "mimetype": "text/x-python",
   "name": "python",
   "nbconvert_exporter": "python",
   "pygments_lexer": "ipython3",
   "version": "3.6.5"
  }
 },
 "nbformat": 4,
 "nbformat_minor": 2
}
