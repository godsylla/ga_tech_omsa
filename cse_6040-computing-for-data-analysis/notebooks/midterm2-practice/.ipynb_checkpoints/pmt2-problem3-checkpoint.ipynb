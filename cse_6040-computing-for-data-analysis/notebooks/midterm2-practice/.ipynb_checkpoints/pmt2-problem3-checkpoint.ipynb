{
 "cells": [
  {
   "cell_type": "markdown",
   "metadata": {
    "nbgrader": {
     "grade": false,
     "locked": true,
     "solution": false
    }
   },
   "source": [
    "**Important note**! Before you turn in this lab notebook, make sure everything runs as expected:\n",
    "\n",
    "- First, restart the kernel -- in the menubar, select Kernel → Restart.\n",
    "- Then run all cells -- in the menubar, select Cell → Run All.\n",
    "\n",
    "Make sure you fill in any place that says YOUR CODE HERE or \"YOUR ANSWER HERE.\""
   ]
  },
  {
   "cell_type": "markdown",
   "metadata": {
    "nbgrader": {
     "grade": false,
     "locked": true,
     "solution": false
    }
   },
   "source": [
    "# Movie Revenue Analysis"
   ]
  },
  {
   "cell_type": "markdown",
   "metadata": {
    "nbgrader": {
     "grade": false,
     "locked": true,
     "solution": false
    }
   },
   "source": [
    "In this problem you are required to get your hands dirty with a (fairly clean) dataset. It contains information for about 5000 Hollywood movies. We will try to find how the movie revenue are related with budgets, ratings and genres.\n",
    "\n",
    "This dataset is sourced from https://www.kaggle.com/makray/tmdb-5000-movies/data.\n",
    "\n",
    "The original source for the data is the movie database is https://www.themoviedb.org\n",
    "\n",
    "Let's start by inspecting the dataset."
   ]
  },
  {
   "cell_type": "code",
   "execution_count": 1,
   "metadata": {
    "inputHidden": false,
    "outputHidden": false
   },
   "outputs": [
    {
     "name": "stdout",
     "output_type": "stream",
     "text": [
      "'tmdb_5000_movies.csv' is ready!\n"
     ]
    }
   ],
   "source": [
    "from cse6040utils import download_all\n",
    "datasets = {'tmdb_5000_movies.csv': '64346a71897b5741d553d34b86088603'}\n",
    "datapaths = download_all(datasets, local_suffix=\"tmdb/\", url_suffix=\"tmdb/\")"
   ]
  },
  {
   "cell_type": "code",
   "execution_count": 2,
   "metadata": {
    "nbgrader": {
     "grade": false,
     "locked": true,
     "solution": false
    }
   },
   "outputs": [
    {
     "data": {
      "text/html": [
       "<div>\n",
       "<style scoped>\n",
       "    .dataframe tbody tr th:only-of-type {\n",
       "        vertical-align: middle;\n",
       "    }\n",
       "\n",
       "    .dataframe tbody tr th {\n",
       "        vertical-align: top;\n",
       "    }\n",
       "\n",
       "    .dataframe thead th {\n",
       "        text-align: right;\n",
       "    }\n",
       "</style>\n",
       "<table border=\"1\" class=\"dataframe\">\n",
       "  <thead>\n",
       "    <tr style=\"text-align: right;\">\n",
       "      <th></th>\n",
       "      <th>budget</th>\n",
       "      <th>genres</th>\n",
       "      <th>homepage</th>\n",
       "      <th>id</th>\n",
       "      <th>keywords</th>\n",
       "      <th>original_language</th>\n",
       "      <th>original_title</th>\n",
       "      <th>overview</th>\n",
       "      <th>popularity</th>\n",
       "      <th>production_companies</th>\n",
       "      <th>production_countries</th>\n",
       "      <th>release_date</th>\n",
       "      <th>revenue</th>\n",
       "      <th>runtime</th>\n",
       "      <th>spoken_languages</th>\n",
       "      <th>status</th>\n",
       "      <th>tagline</th>\n",
       "      <th>title</th>\n",
       "      <th>vote_average</th>\n",
       "      <th>vote_count</th>\n",
       "    </tr>\n",
       "  </thead>\n",
       "  <tbody>\n",
       "    <tr>\n",
       "      <th>0</th>\n",
       "      <td>237000000</td>\n",
       "      <td>[{\"id\": 28, \"name\": \"Action\"}, {\"id\": 12, \"nam...</td>\n",
       "      <td>http://www.avatarmovie.com/</td>\n",
       "      <td>19995</td>\n",
       "      <td>[{\"id\": 1463, \"name\": \"culture clash\"}, {\"id\":...</td>\n",
       "      <td>en</td>\n",
       "      <td>Avatar</td>\n",
       "      <td>In the 22nd century, a paraplegic Marine is di...</td>\n",
       "      <td>150.437577</td>\n",
       "      <td>[{\"name\": \"Ingenious Film Partners\", \"id\": 289...</td>\n",
       "      <td>[{\"iso_3166_1\": \"US\", \"name\": \"United States o...</td>\n",
       "      <td>2009-12-10</td>\n",
       "      <td>2787965087</td>\n",
       "      <td>162.0</td>\n",
       "      <td>[{\"iso_639_1\": \"en\", \"name\": \"English\"}, {\"iso...</td>\n",
       "      <td>Released</td>\n",
       "      <td>Enter the World of Pandora.</td>\n",
       "      <td>Avatar</td>\n",
       "      <td>7.2</td>\n",
       "      <td>11800</td>\n",
       "    </tr>\n",
       "    <tr>\n",
       "      <th>1</th>\n",
       "      <td>300000000</td>\n",
       "      <td>[{\"id\": 12, \"name\": \"Adventure\"}, {\"id\": 14, \"...</td>\n",
       "      <td>http://disney.go.com/disneypictures/pirates/</td>\n",
       "      <td>285</td>\n",
       "      <td>[{\"id\": 270, \"name\": \"ocean\"}, {\"id\": 726, \"na...</td>\n",
       "      <td>en</td>\n",
       "      <td>Pirates of the Caribbean: At World's End</td>\n",
       "      <td>Captain Barbossa, long believed to be dead, ha...</td>\n",
       "      <td>139.082615</td>\n",
       "      <td>[{\"name\": \"Walt Disney Pictures\", \"id\": 2}, {\"...</td>\n",
       "      <td>[{\"iso_3166_1\": \"US\", \"name\": \"United States o...</td>\n",
       "      <td>2007-05-19</td>\n",
       "      <td>961000000</td>\n",
       "      <td>169.0</td>\n",
       "      <td>[{\"iso_639_1\": \"en\", \"name\": \"English\"}]</td>\n",
       "      <td>Released</td>\n",
       "      <td>At the end of the world, the adventure begins.</td>\n",
       "      <td>Pirates of the Caribbean: At World's End</td>\n",
       "      <td>6.9</td>\n",
       "      <td>4500</td>\n",
       "    </tr>\n",
       "    <tr>\n",
       "      <th>2</th>\n",
       "      <td>245000000</td>\n",
       "      <td>[{\"id\": 28, \"name\": \"Action\"}, {\"id\": 12, \"nam...</td>\n",
       "      <td>http://www.sonypictures.com/movies/spectre/</td>\n",
       "      <td>206647</td>\n",
       "      <td>[{\"id\": 470, \"name\": \"spy\"}, {\"id\": 818, \"name...</td>\n",
       "      <td>en</td>\n",
       "      <td>Spectre</td>\n",
       "      <td>A cryptic message from Bond’s past sends him o...</td>\n",
       "      <td>107.376788</td>\n",
       "      <td>[{\"name\": \"Columbia Pictures\", \"id\": 5}, {\"nam...</td>\n",
       "      <td>[{\"iso_3166_1\": \"GB\", \"name\": \"United Kingdom\"...</td>\n",
       "      <td>2015-10-26</td>\n",
       "      <td>880674609</td>\n",
       "      <td>148.0</td>\n",
       "      <td>[{\"iso_639_1\": \"fr\", \"name\": \"Fran\\u00e7ais\"},...</td>\n",
       "      <td>Released</td>\n",
       "      <td>A Plan No One Escapes</td>\n",
       "      <td>Spectre</td>\n",
       "      <td>6.3</td>\n",
       "      <td>4466</td>\n",
       "    </tr>\n",
       "    <tr>\n",
       "      <th>3</th>\n",
       "      <td>250000000</td>\n",
       "      <td>[{\"id\": 28, \"name\": \"Action\"}, {\"id\": 80, \"nam...</td>\n",
       "      <td>http://www.thedarkknightrises.com/</td>\n",
       "      <td>49026</td>\n",
       "      <td>[{\"id\": 849, \"name\": \"dc comics\"}, {\"id\": 853,...</td>\n",
       "      <td>en</td>\n",
       "      <td>The Dark Knight Rises</td>\n",
       "      <td>Following the death of District Attorney Harve...</td>\n",
       "      <td>112.312950</td>\n",
       "      <td>[{\"name\": \"Legendary Pictures\", \"id\": 923}, {\"...</td>\n",
       "      <td>[{\"iso_3166_1\": \"US\", \"name\": \"United States o...</td>\n",
       "      <td>2012-07-16</td>\n",
       "      <td>1084939099</td>\n",
       "      <td>165.0</td>\n",
       "      <td>[{\"iso_639_1\": \"en\", \"name\": \"English\"}]</td>\n",
       "      <td>Released</td>\n",
       "      <td>The Legend Ends</td>\n",
       "      <td>The Dark Knight Rises</td>\n",
       "      <td>7.6</td>\n",
       "      <td>9106</td>\n",
       "    </tr>\n",
       "    <tr>\n",
       "      <th>4</th>\n",
       "      <td>260000000</td>\n",
       "      <td>[{\"id\": 28, \"name\": \"Action\"}, {\"id\": 12, \"nam...</td>\n",
       "      <td>http://movies.disney.com/john-carter</td>\n",
       "      <td>49529</td>\n",
       "      <td>[{\"id\": 818, \"name\": \"based on novel\"}, {\"id\":...</td>\n",
       "      <td>en</td>\n",
       "      <td>John Carter</td>\n",
       "      <td>John Carter is a war-weary, former military ca...</td>\n",
       "      <td>43.926995</td>\n",
       "      <td>[{\"name\": \"Walt Disney Pictures\", \"id\": 2}]</td>\n",
       "      <td>[{\"iso_3166_1\": \"US\", \"name\": \"United States o...</td>\n",
       "      <td>2012-03-07</td>\n",
       "      <td>284139100</td>\n",
       "      <td>132.0</td>\n",
       "      <td>[{\"iso_639_1\": \"en\", \"name\": \"English\"}]</td>\n",
       "      <td>Released</td>\n",
       "      <td>Lost in our world, found in another.</td>\n",
       "      <td>John Carter</td>\n",
       "      <td>6.1</td>\n",
       "      <td>2124</td>\n",
       "    </tr>\n",
       "  </tbody>\n",
       "</table>\n",
       "</div>"
      ],
      "text/plain": [
       "      budget                                             genres  \\\n",
       "0  237000000  [{\"id\": 28, \"name\": \"Action\"}, {\"id\": 12, \"nam...   \n",
       "1  300000000  [{\"id\": 12, \"name\": \"Adventure\"}, {\"id\": 14, \"...   \n",
       "2  245000000  [{\"id\": 28, \"name\": \"Action\"}, {\"id\": 12, \"nam...   \n",
       "3  250000000  [{\"id\": 28, \"name\": \"Action\"}, {\"id\": 80, \"nam...   \n",
       "4  260000000  [{\"id\": 28, \"name\": \"Action\"}, {\"id\": 12, \"nam...   \n",
       "\n",
       "                                       homepage      id  \\\n",
       "0                   http://www.avatarmovie.com/   19995   \n",
       "1  http://disney.go.com/disneypictures/pirates/     285   \n",
       "2   http://www.sonypictures.com/movies/spectre/  206647   \n",
       "3            http://www.thedarkknightrises.com/   49026   \n",
       "4          http://movies.disney.com/john-carter   49529   \n",
       "\n",
       "                                            keywords original_language  \\\n",
       "0  [{\"id\": 1463, \"name\": \"culture clash\"}, {\"id\":...                en   \n",
       "1  [{\"id\": 270, \"name\": \"ocean\"}, {\"id\": 726, \"na...                en   \n",
       "2  [{\"id\": 470, \"name\": \"spy\"}, {\"id\": 818, \"name...                en   \n",
       "3  [{\"id\": 849, \"name\": \"dc comics\"}, {\"id\": 853,...                en   \n",
       "4  [{\"id\": 818, \"name\": \"based on novel\"}, {\"id\":...                en   \n",
       "\n",
       "                             original_title  \\\n",
       "0                                    Avatar   \n",
       "1  Pirates of the Caribbean: At World's End   \n",
       "2                                   Spectre   \n",
       "3                     The Dark Knight Rises   \n",
       "4                               John Carter   \n",
       "\n",
       "                                            overview  popularity  \\\n",
       "0  In the 22nd century, a paraplegic Marine is di...  150.437577   \n",
       "1  Captain Barbossa, long believed to be dead, ha...  139.082615   \n",
       "2  A cryptic message from Bond’s past sends him o...  107.376788   \n",
       "3  Following the death of District Attorney Harve...  112.312950   \n",
       "4  John Carter is a war-weary, former military ca...   43.926995   \n",
       "\n",
       "                                production_companies  \\\n",
       "0  [{\"name\": \"Ingenious Film Partners\", \"id\": 289...   \n",
       "1  [{\"name\": \"Walt Disney Pictures\", \"id\": 2}, {\"...   \n",
       "2  [{\"name\": \"Columbia Pictures\", \"id\": 5}, {\"nam...   \n",
       "3  [{\"name\": \"Legendary Pictures\", \"id\": 923}, {\"...   \n",
       "4        [{\"name\": \"Walt Disney Pictures\", \"id\": 2}]   \n",
       "\n",
       "                                production_countries release_date     revenue  \\\n",
       "0  [{\"iso_3166_1\": \"US\", \"name\": \"United States o...   2009-12-10  2787965087   \n",
       "1  [{\"iso_3166_1\": \"US\", \"name\": \"United States o...   2007-05-19   961000000   \n",
       "2  [{\"iso_3166_1\": \"GB\", \"name\": \"United Kingdom\"...   2015-10-26   880674609   \n",
       "3  [{\"iso_3166_1\": \"US\", \"name\": \"United States o...   2012-07-16  1084939099   \n",
       "4  [{\"iso_3166_1\": \"US\", \"name\": \"United States o...   2012-03-07   284139100   \n",
       "\n",
       "   runtime                                   spoken_languages    status  \\\n",
       "0    162.0  [{\"iso_639_1\": \"en\", \"name\": \"English\"}, {\"iso...  Released   \n",
       "1    169.0           [{\"iso_639_1\": \"en\", \"name\": \"English\"}]  Released   \n",
       "2    148.0  [{\"iso_639_1\": \"fr\", \"name\": \"Fran\\u00e7ais\"},...  Released   \n",
       "3    165.0           [{\"iso_639_1\": \"en\", \"name\": \"English\"}]  Released   \n",
       "4    132.0           [{\"iso_639_1\": \"en\", \"name\": \"English\"}]  Released   \n",
       "\n",
       "                                          tagline  \\\n",
       "0                     Enter the World of Pandora.   \n",
       "1  At the end of the world, the adventure begins.   \n",
       "2                           A Plan No One Escapes   \n",
       "3                                 The Legend Ends   \n",
       "4            Lost in our world, found in another.   \n",
       "\n",
       "                                      title  vote_average  vote_count  \n",
       "0                                    Avatar           7.2       11800  \n",
       "1  Pirates of the Caribbean: At World's End           6.9        4500  \n",
       "2                                   Spectre           6.3        4466  \n",
       "3                     The Dark Knight Rises           7.6        9106  \n",
       "4                               John Carter           6.1        2124  "
      ]
     },
     "metadata": {},
     "output_type": "display_data"
    }
   ],
   "source": [
    "import pandas as pd\n",
    "from IPython.display import display\n",
    "import ast\n",
    "\n",
    "# Import the dataset\n",
    "data = pd.read_csv(datapaths[\"tmdb_5000_movies.csv\"])\n",
    "\n",
    "# Display the data\n",
    "display(data.head())"
   ]
  },
  {
   "cell_type": "markdown",
   "metadata": {
    "nbgrader": {
     "grade": false,
     "locked": true,
     "solution": false
    }
   },
   "source": [
    "Here are the available variables:"
   ]
  },
  {
   "cell_type": "code",
   "execution_count": 3,
   "metadata": {
    "nbgrader": {
     "grade": false,
     "locked": true,
     "solution": false
    },
    "scrolled": true
   },
   "outputs": [
    {
     "data": {
      "text/plain": [
       "['budget',\n",
       " 'genres',\n",
       " 'homepage',\n",
       " 'id',\n",
       " 'keywords',\n",
       " 'original_language',\n",
       " 'original_title',\n",
       " 'overview',\n",
       " 'popularity',\n",
       " 'production_companies',\n",
       " 'production_countries',\n",
       " 'release_date',\n",
       " 'revenue',\n",
       " 'runtime',\n",
       " 'spoken_languages',\n",
       " 'status',\n",
       " 'tagline',\n",
       " 'title',\n",
       " 'vote_average',\n",
       " 'vote_count']"
      ]
     },
     "execution_count": 3,
     "metadata": {},
     "output_type": "execute_result"
    }
   ],
   "source": [
    "list(data.columns)"
   ]
  },
  {
   "cell_type": "markdown",
   "metadata": {
    "nbgrader": {
     "grade": false,
     "locked": true,
     "solution": false
    }
   },
   "source": [
    "That's a lot of variables! How many have missing values?"
   ]
  },
  {
   "cell_type": "markdown",
   "metadata": {
    "nbgrader": {
     "grade": false,
     "locked": true,
     "solution": false
    }
   },
   "source": [
    "**Exercise 0** (1 point). Write a function,\n",
    "\n",
    "```python\n",
    "    def find_missing_vals(df, colname):\n",
    "        ...\n",
    "```\n",
    "\n",
    "which should return the number of missing values given a dataframe `df` and column name `colname`.\n",
    "\n",
    "For example, observe that the row at offset 15 has a `NaN` in the `homepage` field:"
   ]
  },
  {
   "cell_type": "code",
   "execution_count": 4,
   "metadata": {
    "nbgrader": {
     "grade": false,
     "locked": true,
     "solution": false
    }
   },
   "outputs": [
    {
     "data": {
      "text/plain": [
       "budget                                                          225000000\n",
       "genres                  [{\"id\": 12, \"name\": \"Adventure\"}, {\"id\": 10751...\n",
       "homepage                                                              NaN\n",
       "id                                                                   2454\n",
       "keywords                [{\"id\": 818, \"name\": \"based on novel\"}, {\"id\":...\n",
       "original_language                                                      en\n",
       "original_title                   The Chronicles of Narnia: Prince Caspian\n",
       "overview                One year after their incredible adventures in ...\n",
       "popularity                                                        53.9786\n",
       "production_companies    [{\"name\": \"Walt Disney\", \"id\": 5888}, {\"name\":...\n",
       "production_countries    [{\"iso_3166_1\": \"CZ\", \"name\": \"Czech Republic\"...\n",
       "release_date                                                   2008-05-15\n",
       "revenue                                                         419651413\n",
       "runtime                                                               150\n",
       "spoken_languages                 [{\"iso_639_1\": \"en\", \"name\": \"English\"}]\n",
       "status                                                           Released\n",
       "tagline                                              Hope has a new face.\n",
       "title                            The Chronicles of Narnia: Prince Caspian\n",
       "vote_average                                                          6.3\n",
       "vote_count                                                           1630\n",
       "Name: 15, dtype: object"
      ]
     },
     "execution_count": 4,
     "metadata": {},
     "output_type": "execute_result"
    }
   ],
   "source": [
    "data.iloc[15]"
   ]
  },
  {
   "cell_type": "markdown",
   "metadata": {
    "nbgrader": {
     "grade": false,
     "locked": true,
     "solution": false
    }
   },
   "source": [
    "Therefore, a call to `find_missing_vals(data, 'homepage')` should include this row in its returned count."
   ]
  },
  {
   "cell_type": "code",
   "execution_count": 5,
   "metadata": {
    "collapsed": true,
    "nbgrader": {
     "grade": false,
     "grade_id": "Exercise0_response",
     "locked": false,
     "solution": true
    },
    "scrolled": true
   },
   "outputs": [],
   "source": [
    "def find_missing_vals(df, colname):\n",
    "    #\n",
    "    # YOUR CODE HERE\n",
    "    #\n"
   ]
  },
  {
   "cell_type": "code",
   "execution_count": 6,
   "metadata": {
    "nbgrader": {
     "grade": true,
     "grade_id": "exercise0",
     "locked": true,
     "points": "1",
     "solution": false
    }
   },
   "outputs": [
    {
     "name": "stdout",
     "output_type": "stream",
     "text": [
      "\n",
      "(Passed!)\n"
     ]
    }
   ],
   "source": [
    "# Test Cell: Exercise 0\n",
    "\n",
    "col_null = {'budget': 0,\n",
    " 'genres': 0,\n",
    " 'homepage': 3091,\n",
    " 'id': 0,\n",
    " 'keywords': 0,\n",
    " 'original_language': 0,\n",
    " 'original_title': 0,\n",
    " 'overview': 3,\n",
    " 'popularity': 0,\n",
    " 'production_companies': 0,\n",
    " 'production_countries': 0,\n",
    " 'release_date': 1,\n",
    " 'revenue': 0,\n",
    " 'runtime': 2,\n",
    " 'spoken_languages': 0,\n",
    " 'status': 0,\n",
    " 'tagline': 844,\n",
    " 'title': 0,\n",
    " 'vote_average': 0,\n",
    " 'vote_count': 0}\n",
    "for col in data.columns:\n",
    "    assert find_missing_vals(data, col) == col_null[col], \"Looks like you don't have the right count for at least one of the columns\"\n",
    "    \n",
    "print(\"\\n(Passed!)\")"
   ]
  },
  {
   "cell_type": "markdown",
   "metadata": {
    "nbgrader": {
     "grade": false,
     "locked": true,
     "solution": false
    }
   },
   "source": [
    "How many missing values do the columns have?"
   ]
  },
  {
   "cell_type": "code",
   "execution_count": 7,
   "metadata": {
    "nbgrader": {
     "grade": false,
     "locked": true,
     "solution": false
    }
   },
   "outputs": [
    {
     "name": "stdout",
     "output_type": "stream",
     "text": [
      "homepage has 3091 missing values out of 4803\n",
      "overview has 3 missing values out of 4803\n",
      "release_date has 1 missing values out of 4803\n",
      "runtime has 2 missing values out of 4803\n",
      "tagline has 844 missing values out of 4803\n"
     ]
    }
   ],
   "source": [
    "for col in data.columns:\n",
    "    if find_missing_vals(data, col):\n",
    "        print(\"{} has {} missing values out of {}\".format(col,find_missing_vals(data,col),len(data)))"
   ]
  },
  {
   "cell_type": "markdown",
   "metadata": {
    "nbgrader": {
     "grade": false,
     "locked": true,
     "solution": false
    }
   },
   "source": [
    "It looks like there are not any missing values except in these 5 columns. Let's plot a histogram of the budgets, revenues and vote counts."
   ]
  },
  {
   "cell_type": "code",
   "execution_count": 8,
   "metadata": {
    "nbgrader": {
     "grade": false,
     "locked": true,
     "solution": false
    }
   },
   "outputs": [
    {
     "data": {
      "image/png": "[encoded data removed]",
      "text/plain": [
       "<matplotlib.figure.Figure at 0x7f774313dc88>"
      ]
     },
     "metadata": {},
     "output_type": "display_data"
    }
   ],
   "source": [
    "import matplotlib.pyplot as plt\n",
    "import numpy as np\n",
    "\n",
    "%matplotlib inline\n",
    "\n",
    "plt.hist(x = data['budget'],bins = 50)\n",
    "plt.ylabel('Number of movies')\n",
    "plt.xlabel('Budget');"
   ]
  },
  {
   "cell_type": "code",
   "execution_count": 9,
   "metadata": {
    "nbgrader": {
     "grade": false,
     "locked": true,
     "solution": false
    }
   },
   "outputs": [
    {
     "data": {
      "image/png": "[encoded data removed]",
      "text/plain": [
       "<matplotlib.figure.Figure at 0x7f773e216fd0>"
      ]
     },
     "metadata": {},
     "output_type": "display_data"
    }
   ],
   "source": [
    "plt.hist(x = data['revenue'],bins = 50)\n",
    "plt.ylabel('Number of movies')\n",
    "plt.xlabel('Revenue');"
   ]
  },
  {
   "cell_type": "code",
   "execution_count": 10,
   "metadata": {
    "nbgrader": {
     "grade": false,
     "locked": true,
     "solution": false
    }
   },
   "outputs": [
    {
     "data": {
      "image/png": "[encoded data removed]",
      "text/plain": [
       "<matplotlib.figure.Figure at 0x7f773e12ca58>"
      ]
     },
     "metadata": {},
     "output_type": "display_data"
    }
   ],
   "source": [
    "plt.hist(x = data['vote_count'],bins = 50)\n",
    "plt.ylabel('Number of movies')\n",
    "plt.xlabel('Number of votes ');"
   ]
  },
  {
   "cell_type": "markdown",
   "metadata": {
    "nbgrader": {
     "grade": false,
     "locked": true,
     "solution": false
    }
   },
   "source": [
    "Observe the following:\n",
    "\n",
    "* There is a huge spike in near zero. The budget and revenue values are likely zero. In the industry from which these data are gathered, budget and revenue values below $100,000 don't make much sense.\n",
    "* We should also have a minimum vote count to consider the vote average an effective way to measure the quality of a movie. Let's filter the data to get more rows that have \"good\" budget, revenue and user ratings data."
   ]
  },
  {
   "cell_type": "markdown",
   "metadata": {
    "nbgrader": {
     "grade": false,
     "locked": true,
     "solution": false
    }
   },
   "source": [
    "**Exercise 1** (2 points): Write some code to create a new pandas dataframe **filtered_data** that implements the following\n",
    "\n",
    "0. Keep only the columns of interest for our analysis i.e. id, budget, revenue, vote_average, vote_count, genres, original_title, popularity\n",
    "1. keep rows with budget > 100,000\n",
    "2. keep rows with revenue > 100,000\n",
    "2. Keep movies with number of votes (vote_count) > 20\n"
   ]
  },
  {
   "cell_type": "code",
   "execution_count": 11,
   "metadata": {
    "nbgrader": {
     "grade": false,
     "grade_id": "Exercise1_response",
     "locked": false,
     "solution": true
    },
    "scrolled": false
   },
   "outputs": [
    {
     "name": "stdout",
     "output_type": "stream",
     "text": [
      "Rows remaining: 3065\n"
     ]
    },
    {
     "data": {
      "text/html": [
       "<div>\n",
       "<style scoped>\n",
       "    .dataframe tbody tr th:only-of-type {\n",
       "        vertical-align: middle;\n",
       "    }\n",
       "\n",
       "    .dataframe tbody tr th {\n",
       "        vertical-align: top;\n",
       "    }\n",
       "\n",
       "    .dataframe thead th {\n",
       "        text-align: right;\n",
       "    }\n",
       "</style>\n",
       "<table border=\"1\" class=\"dataframe\">\n",
       "  <thead>\n",
       "    <tr style=\"text-align: right;\">\n",
       "      <th></th>\n",
       "      <th>id</th>\n",
       "      <th>original_title</th>\n",
       "      <th>genres</th>\n",
       "      <th>budget</th>\n",
       "      <th>revenue</th>\n",
       "      <th>vote_average</th>\n",
       "      <th>vote_count</th>\n",
       "      <th>popularity</th>\n",
       "    </tr>\n",
       "  </thead>\n",
       "  <tbody>\n",
       "    <tr>\n",
       "      <th>0</th>\n",
       "      <td>19995</td>\n",
       "      <td>Avatar</td>\n",
       "      <td>[{\"id\": 28, \"name\": \"Action\"}, {\"id\": 12, \"nam...</td>\n",
       "      <td>237000000</td>\n",
       "      <td>2787965087</td>\n",
       "      <td>7.2</td>\n",
       "      <td>11800</td>\n",
       "      <td>150.437577</td>\n",
       "    </tr>\n",
       "    <tr>\n",
       "      <th>1</th>\n",
       "      <td>285</td>\n",
       "      <td>Pirates of the Caribbean: At World's End</td>\n",
       "      <td>[{\"id\": 12, \"name\": \"Adventure\"}, {\"id\": 14, \"...</td>\n",
       "      <td>300000000</td>\n",
       "      <td>961000000</td>\n",
       "      <td>6.9</td>\n",
       "      <td>4500</td>\n",
       "      <td>139.082615</td>\n",
       "    </tr>\n",
       "    <tr>\n",
       "      <th>2</th>\n",
       "      <td>206647</td>\n",
       "      <td>Spectre</td>\n",
       "      <td>[{\"id\": 28, \"name\": \"Action\"}, {\"id\": 12, \"nam...</td>\n",
       "      <td>245000000</td>\n",
       "      <td>880674609</td>\n",
       "      <td>6.3</td>\n",
       "      <td>4466</td>\n",
       "      <td>107.376788</td>\n",
       "    </tr>\n",
       "    <tr>\n",
       "      <th>3</th>\n",
       "      <td>49026</td>\n",
       "      <td>The Dark Knight Rises</td>\n",
       "      <td>[{\"id\": 28, \"name\": \"Action\"}, {\"id\": 80, \"nam...</td>\n",
       "      <td>250000000</td>\n",
       "      <td>1084939099</td>\n",
       "      <td>7.6</td>\n",
       "      <td>9106</td>\n",
       "      <td>112.312950</td>\n",
       "    </tr>\n",
       "    <tr>\n",
       "      <th>4</th>\n",
       "      <td>49529</td>\n",
       "      <td>John Carter</td>\n",
       "      <td>[{\"id\": 28, \"name\": \"Action\"}, {\"id\": 12, \"nam...</td>\n",
       "      <td>260000000</td>\n",
       "      <td>284139100</td>\n",
       "      <td>6.1</td>\n",
       "      <td>2124</td>\n",
       "      <td>43.926995</td>\n",
       "    </tr>\n",
       "  </tbody>\n",
       "</table>\n",
       "</div>"
      ],
      "text/plain": [
       "       id                            original_title  \\\n",
       "0   19995                                    Avatar   \n",
       "1     285  Pirates of the Caribbean: At World's End   \n",
       "2  206647                                   Spectre   \n",
       "3   49026                     The Dark Knight Rises   \n",
       "4   49529                               John Carter   \n",
       "\n",
       "                                              genres     budget     revenue  \\\n",
       "0  [{\"id\": 28, \"name\": \"Action\"}, {\"id\": 12, \"nam...  237000000  2787965087   \n",
       "1  [{\"id\": 12, \"name\": \"Adventure\"}, {\"id\": 14, \"...  300000000   961000000   \n",
       "2  [{\"id\": 28, \"name\": \"Action\"}, {\"id\": 12, \"nam...  245000000   880674609   \n",
       "3  [{\"id\": 28, \"name\": \"Action\"}, {\"id\": 80, \"nam...  250000000  1084939099   \n",
       "4  [{\"id\": 28, \"name\": \"Action\"}, {\"id\": 12, \"nam...  260000000   284139100   \n",
       "\n",
       "   vote_average  vote_count  popularity  \n",
       "0           7.2       11800  150.437577  \n",
       "1           6.9        4500  139.082615  \n",
       "2           6.3        4466  107.376788  \n",
       "3           7.6        9106  112.312950  \n",
       "4           6.1        2124   43.926995  "
      ]
     },
     "metadata": {},
     "output_type": "display_data"
    }
   ],
   "source": [
    "filtered_data = pd.DataFrame()\n",
    "\n",
    "#\n",
    "# YOUR CODE HERE\n",
    "#\n",
    "\n",
    "# Display the data and count the number of movies remaining\n",
    "print(\"Rows remaining: {}\".format(len(filtered_data)))\n",
    "display(filtered_data.head())"
   ]
  },
  {
   "cell_type": "code",
   "execution_count": 12,
   "metadata": {
    "nbgrader": {
     "grade": true,
     "grade_id": "Exercise1",
     "locked": true,
     "points": "2",
     "solution": false
    }
   },
   "outputs": [
    {
     "name": "stdout",
     "output_type": "stream",
     "text": [
      "\n",
      "(Passed!)\n"
     ]
    }
   ],
   "source": [
    "# Test cell: Exercise 1\n",
    "\n",
    "columns = ['id','original_title','genres','budget','revenue','vote_average','vote_count','popularity']\n",
    "for col in columns:\n",
    "    assert col in filtered_data.columns, \"You're missing a column\"\n",
    "\n",
    "assert len(filtered_data) == 3065, \"Hmm, your filtered data doesn't have the correct number of rows\"\n",
    "\n",
    "assert min(filtered_data.budget) > 100000, \"Hmm, you have some budget values less the required\"\n",
    "assert min(filtered_data.revenue) > 100000, \"Uh-oh, you have some revenue values less than the required\"\n",
    "assert min(filtered_data.vote_count) > 20, \"some vote_counts are less than required\"\n",
    "\n",
    "\n",
    "print(\"\\n(Passed!)\")"
   ]
  },
  {
   "cell_type": "markdown",
   "metadata": {
    "nbgrader": {
     "grade": false,
     "locked": true,
     "solution": false
    }
   },
   "source": [
    "Let's look at a paiwise plot for all the numerical variables to see if we see any obvious relationships."
   ]
  },
  {
   "cell_type": "code",
   "execution_count": 13,
   "metadata": {
    "nbgrader": {
     "grade": false,
     "locked": true,
     "solution": false
    }
   },
   "outputs": [
    {
     "data": {
      "text/plain": [
       "<seaborn.axisgrid.PairGrid at 0x7f773e01af28>"
      ]
     },
     "execution_count": 13,
     "metadata": {},
     "output_type": "execute_result"
    },
    {
     "data": {
      "image/png": "[encoded data removed]",
      "text/plain": [
       "<matplotlib.figure.Figure at 0x7f773e209358>"
      ]
     },
     "metadata": {},
     "output_type": "display_data"
    }
   ],
   "source": [
    "import seaborn as sns\n",
    "sns.pairplot(filtered_data[['revenue','budget','popularity', 'vote_average','vote_count']])"
   ]
  },
  {
   "cell_type": "markdown",
   "metadata": {
    "nbgrader": {
     "grade": false,
     "locked": true,
     "solution": false
    }
   },
   "source": [
    "It appears that revenue is correlated with budget, popularity and vote count. Let's back this visual analysis with correlation coefficients."
   ]
  },
  {
   "cell_type": "markdown",
   "metadata": {
    "nbgrader": {
     "grade": false,
     "locked": true,
     "solution": false
    }
   },
   "source": [
    "**Exercise 2** (1 point). Write a function,\n",
    "\n",
    "```python\n",
    "    def corr_coeff(col1, col2):\n",
    "        ...\n",
    "```\n",
    "\n",
    "which takes two **Pandas Series objects** (`col1` and `col2`) as an input and returns their [(Pearson) correlation coefficient](https://en.wikipedia.org/wiki/Correlation_coefficient)."
   ]
  },
  {
   "cell_type": "code",
   "execution_count": 14,
   "metadata": {
    "collapsed": true,
    "nbgrader": {
     "grade": false,
     "grade_id": "Exercise2_response",
     "locked": false,
     "solution": true
    }
   },
   "outputs": [],
   "source": [
    "def corr_coeff(col1,col2):\n",
    "#\n",
    "# YOUR CODE HERE\n",
    "#\n"
   ]
  },
  {
   "cell_type": "markdown",
   "metadata": {
    "nbgrader": {
     "grade": false,
     "locked": true,
     "solution": false
    }
   },
   "source": [
    "Let's check what are the correlation coefficients between the different variables we have"
   ]
  },
  {
   "cell_type": "code",
   "execution_count": 15,
   "metadata": {
    "nbgrader": {
     "grade": true,
     "grade_id": "Exercise2",
     "locked": true,
     "points": "1",
     "solution": false
    }
   },
   "outputs": [
    {
     "name": "stdout",
     "output_type": "stream",
     "text": [
      "\n",
      "(Passed!)\n"
     ]
    }
   ],
   "source": [
    "# Test Cell: Exercise 2\n",
    "import numpy.testing as npt\n",
    "\n",
    "npt.assert_almost_equal(corr_coeff(filtered_data.revenue, filtered_data.vote_count), 0.751209931882, decimal=5)\n",
    "npt.assert_almost_equal(corr_coeff(filtered_data.revenue, filtered_data.budget), 0.699955328476, decimal=5)\n",
    "npt.assert_almost_equal(corr_coeff(filtered_data.revenue, filtered_data.popularity), 0.593541205556, decimal=5)\n",
    "npt.assert_almost_equal(corr_coeff(filtered_data.revenue, filtered_data.vote_average), 0.181083687401, decimal=5)\n",
    "\n",
    "print(\"\\n(Passed!)\")"
   ]
  },
  {
   "cell_type": "code",
   "execution_count": 16,
   "metadata": {
    "nbgrader": {
     "grade": false,
     "locked": true,
     "solution": false
    }
   },
   "outputs": [
    {
     "name": "stdout",
     "output_type": "stream",
     "text": [
      "correleation coefficient for revenue and vote_count = 0.7512099318819577\n",
      "correleation coefficient for revenue and budget = 0.6999553284759344\n",
      "correleation coefficient for revenue and popularity = 0.5935412055558162\n",
      "correleation coefficient for revenue and vote_average = 0.18108368740083924\n"
     ]
    }
   ],
   "source": [
    "for col in ['vote_count','budget','popularity','vote_average']:\n",
    "    print(\"correleation coefficient for revenue and {} = {}\".format(col,\n",
    "                                                                    corr_coeff(filtered_data['revenue'],\n",
    "                                                                               filtered_data[col])))"
   ]
  },
  {
   "cell_type": "markdown",
   "metadata": {
    "nbgrader": {
     "grade": false,
     "locked": true,
     "solution": false
    }
   },
   "source": [
    "This confirms our speculation that budget, popularity, vote_average are highly correlated with the revenue.\n",
    "\n",
    "What about genre -- is it also a driver for movie revenues? And are some genres more popular than others? Let's look at the `genres` column for one specific movie:"
   ]
  },
  {
   "cell_type": "code",
   "execution_count": 17,
   "metadata": {
    "nbgrader": {
     "grade": false,
     "locked": true,
     "solution": false
    }
   },
   "outputs": [
    {
     "data": {
      "text/plain": [
       "'[{\"id\": 28, \"name\": \"Action\"}, {\"id\": 12, \"name\": \"Adventure\"}, {\"id\": 14, \"name\": \"Fantasy\"}, {\"id\": 878, \"name\": \"Science Fiction\"}]'"
      ]
     },
     "execution_count": 17,
     "metadata": {},
     "output_type": "execute_result"
    }
   ],
   "source": [
    "filtered_data['genres'][0]"
   ]
  },
  {
   "cell_type": "markdown",
   "metadata": {
    "nbgrader": {
     "grade": false,
     "locked": true,
     "solution": false
    }
   },
   "source": [
    "It looks like a movie has multiple genres: each entry of a genre is stored as a list of dictionaries, with each dictionary having a genre ID and name. In the example above, the corresponding movie has 4 genres, namely, _Action_, _Adventure_, _Fantasy_, and _Science Fiction_. Let's clean this up to find average revenue made by a movie in each genre."
   ]
  },
  {
   "cell_type": "markdown",
   "metadata": {
    "nbgrader": {
     "grade": false,
     "locked": true,
     "solution": false
    }
   },
   "source": [
    "**Instructions for Exercise 3 & 4** (6 points). You need to write some code to create a dataframe named **`avg_revenue_by_genre`** from `filtered_data`. The dataframe should have the following columns:\n",
    "\n",
    "- `'genre'`: a unique identifier in the dataframe\n",
    "- `'average_revenue'`: the average revenue for a genre (see below for instructions on how calculate this value)\n",
    "- `'movie_count'`: the number of movies that list this genre as one of its genres\n",
    "\n",
    "Here is an example of how to calculate the average revenue by genre.\n",
    "\n",
    "- If a movie has multiple genres, split the revenue equally to each assigned genre.\n",
    "\n",
    "For instance, consider the first entry in the row below for _Avatar_, which has 4 genres and a total revenue of $2,787,965,087. Since it is associated with 4 genres, each one will get a 1/4 share of the revenue, $2,787,965,087/4 = $696,991,271.75.\n",
    "\n",
    "- So, consider this input:\n",
    "\n",
    "|original_title|genres|revenue|\n",
    "|--------------|------|-------|\n",
    "|Avatar|[{\"id\": 28, \"name\": \"Action\"}, {\"id\": 12, \"nam...|2787965087|\n",
    "|Spectre|[{\"id\": 28, \"name\": \"Action\"}, {\"id\": 12, \"nam...|880674609|\n",
    "\n",
    "'Avatar'  = {'genre': ['Action', 'Adventure', 'Fantasy', 'Science Fiction'],  'revenue' : 2787965087 } and \n",
    "'Spectre' = {'genre': ['Action', 'Adventure', 'Crime'], 'revenue' : 880674609}\n",
    "\n",
    "Therefore, here is a sample output that you should get.\n",
    "\n",
    "|genre|average_revenue|movie_count|\n",
    "|-----|---------------|-----------|\n",
    "|Action|495274737.375|2|\n",
    "|Adventure|495274737.375|2|\n",
    "|Fantasy|696991271.75|1|\n",
    "|Science Fiction|696991271.75|1|\n",
    "|Crime|293558203|1|\n",
    "\n",
    "The average_revenue for Action = ```mean(2787965087/4,880674609/3)```\n",
    "The average_revenue for Adventure = ```mean(2787965087/4,880674609/3)```\n",
    "The average_revenue for Fantasy = ```mean(2787965087/4)```\n",
    "The average_revenue for Science fiction = ```mean(2787965087/4)```\n",
    "The average_revenue for Crime = ```mean(880674609/3)```\n",
    "\n",
    "*Hints*:\n",
    "1. The type of entries in genres in filtered data is currently `'str'`. It will be easier to first convert the entries to a list of dictionaries. (Try searching for [`ast.literal_eval`](https://docs.python.org/3/library/ast.html).)\n",
    "2. You can use default dictionaries to add the revenue contribution from each movie to each genre.\n",
    "3. You can use default dictionaries to count the number of movies in each genre.\n",
    "4. For each genre, using results from 2 and 3, $$average\\_revenue = \\frac{(total\\_revenue)}{(movie\\_count)}$$ \n",
    "\n",
    "To help you solve this problem, we've broken it up into two parts."
   ]
  },
  {
   "cell_type": "markdown",
   "metadata": {
    "nbgrader": {
     "grade": false,
     "locked": true,
     "solution": false
    }
   },
   "source": [
    "**Exercise 3** (3 points) Let's consider the first part of this problem. Create two dictionaries, **`revenue_by_genre`** and **`movie_count_by_genre`**, that contain a genre's total revenue and genre's movie count, respectively.\n",
    "\n",
    "- **`revenue_by_genre`**: the key is a genre's name, value is the genre's total revenue.\n",
    "- **`movie_count_by_genre`**: the key is the genre's name and value is the number of movies associated with the genre."
   ]
  },
  {
   "cell_type": "code",
   "execution_count": 18,
   "metadata": {
    "nbgrader": {
     "grade": false,
     "grade_id": "Exercise3_response",
     "locked": false,
     "solution": true
    },
    "scrolled": true
   },
   "outputs": [
    {
     "name": "stdout",
     "output_type": "stream",
     "text": [
      "defaultdict(<class 'float'>, {'Action': 52899681309.18096, 'Adventure': 49734211577.380974, 'Fantasy': 24299962138.55715, 'Science Fiction': 25406225182.907135, 'Crime': 14851826641.249994, 'Drama': 48255230180.207184, 'Thriller': 33212253669.46665, 'Animation': 16092739624.823812, 'Family': 25134994309.780945, 'Western': 1448994117.2833333, 'Comedy': 50741733944.980934, 'Romance': 19590306591.72379, 'Horror': 9587314760.133335, 'Mystery': 8111172219.566666, 'History': 3828170060.899999, 'War': 3976081139.583332, 'Music': 2709964832.9404774, 'Documentary': 525228207.3333333})\n",
      "\n",
      "defaultdict(<class 'int'>, {'Action': 893, 'Adventure': 648, 'Fantasy': 333, 'Science Fiction': 419, 'Crime': 507, 'Drama': 1351, 'Thriller': 906, 'Animation': 181, 'Family': 354, 'Western': 54, 'Comedy': 1054, 'Romance': 541, 'Horror': 314, 'Mystery': 254, 'History': 138, 'War': 113, 'Music': 101, 'Documentary': 27})\n"
     ]
    }
   ],
   "source": [
    "from collections import defaultdict # Hint\n",
    "import ast # Hint\n",
    "\n",
    "revenue_by_genre = defaultdict(float)\n",
    "movie_count_by_genre = defaultdict(int)\n",
    "#\n",
    "# YOUR CODE HERE\n",
    "#\n",
    "\n",
    "print(revenue_by_genre)\n",
    "print()\n",
    "print(movie_count_by_genre)"
   ]
  },
  {
   "cell_type": "code",
   "execution_count": 19,
   "metadata": {
    "nbgrader": {
     "grade": true,
     "grade_id": "Exercise3",
     "locked": true,
     "points": "3",
     "solution": false
    }
   },
   "outputs": [
    {
     "name": "stdout",
     "output_type": "stream",
     "text": [
      "\n",
      "(Passed!)\n"
     ]
    }
   ],
   "source": [
    "## Test cell: Exercise 3\n",
    "assert isinstance(revenue_by_genre, dict), \"type of revenue_by_genre is not dict\"\n",
    "assert isinstance(movie_count_by_genre, dict), \"type of movie_count_by_genre is not dict\"\n",
    "\n",
    "all_revs__ = sum(revenue_by_genre.values())\n",
    "all_revs_true__ = 390406088153.0\n",
    "rel_delta_all_revs__ = (all_revs__ - all_revs_true__) / all_revs_true__\n",
    "assert abs(rel_delta_all_revs__) <= 1e-7, \\\n",
    "       \"Your total sum of revenue: {} does not match the instructor's: {}\".format(all_revs__, all_revs_true__)\n",
    "\n",
    "all_movies__ = sum(movie_count_by_genre.values())\n",
    "assert all_movies__ == 8188, \"Your total sum of movie count, {}, does not match the instructor's sum, {}.\".format(all_movies__, 8188)\n",
    "\n",
    "assert len(revenue_by_genre) & len(movie_count_by_genre) == 18\n",
    "genres = ['Mystery', 'Romance', 'History', 'Family', 'Science Fiction', \n",
    "          'Horror', 'Crime', 'Drama', 'Fantasy', 'Animation', 'Music', 'Adventure',\n",
    "          'Action', 'Comedy', 'Documentary', 'War', 'Thriller', 'Western']\n",
    "\n",
    "for gen in genres:\n",
    "    assert gen in revenue_by_genre.keys(), \"{} is not in your revenue_by_genre dictionary\".format(gen)\n",
    "    assert gen in movie_count_by_genre.keys(), \"{} is not in your movie_count_by_genre dictionary\".format(gen)\n",
    "    \n",
    "sample_genres = {'Documentary': [525228204.0, 27],\n",
    "                 'Animation': [16092739561.0, 181],\n",
    "                 'Western': [1448994102.0, 54],\n",
    "                 'Mystery': [8111172141.0, 254]}\n",
    "\n",
    "for gen in sample_genres:\n",
    "    rev__ = revenue_by_genre[gen]\n",
    "    rev_true__ = sample_genres[gen][0]\n",
    "    rel_delta__ = (rev__ - rev_true__) / rev_true__\n",
    "    assert abs(rel_delta__) <= 1e-7, \"revenue for {} should be {} but you have {}\".format(gen, rev_true__, rev__)\n",
    "    assert movie_count_by_genre[gen] == sample_genres[gen][1], \"movie count for {} should be {} but you have {}\".format(gen, sample_genres[gen][1], movie_count_by_genre[gen])\n",
    "\n",
    "print(\"\\n(Passed!)\")"
   ]
  },
  {
   "cell_type": "markdown",
   "metadata": {
    "nbgrader": {
     "grade": false,
     "locked": true,
     "solution": false
    }
   },
   "source": [
    "**Exercise 4** (3 points): Write some code to create a dataframe **`avg_revenue_by_genre`** from `filtered_data`. The dataframe should include the following columns:\n",
    "\n",
    "- `'genre'`: a unique identifier in the dataframe.\n",
    "- `'average_revenue'` : the average revenue for a genre.\n",
    "- `'movie_count'`: the number of movies that list this genre as one of its genres.\n",
    "\n",
    "> *Hint: You can use the dictionaries created in Exercise 3 as a starting point!*"
   ]
  },
  {
   "cell_type": "code",
   "execution_count": 20,
   "metadata": {
    "nbgrader": {
     "grade": false,
     "grade_id": "Exercise4_response",
     "locked": false,
     "solution": true
    }
   },
   "outputs": [
    {
     "data": {
      "text/html": [
       "<div>\n",
       "<style scoped>\n",
       "    .dataframe tbody tr th:only-of-type {\n",
       "        vertical-align: middle;\n",
       "    }\n",
       "\n",
       "    .dataframe tbody tr th {\n",
       "        vertical-align: top;\n",
       "    }\n",
       "\n",
       "    .dataframe thead th {\n",
       "        text-align: right;\n",
       "    }\n",
       "</style>\n",
       "<table border=\"1\" class=\"dataframe\">\n",
       "  <thead>\n",
       "    <tr style=\"text-align: right;\">\n",
       "      <th></th>\n",
       "      <th>genre</th>\n",
       "      <th>average_revenue</th>\n",
       "      <th>movie_count</th>\n",
       "    </tr>\n",
       "  </thead>\n",
       "  <tbody>\n",
       "    <tr>\n",
       "      <th>0</th>\n",
       "      <td>Action</td>\n",
       "      <td>5.923816e+07</td>\n",
       "      <td>893</td>\n",
       "    </tr>\n",
       "    <tr>\n",
       "      <th>1</th>\n",
       "      <td>Adventure</td>\n",
       "      <td>7.675033e+07</td>\n",
       "      <td>648</td>\n",
       "    </tr>\n",
       "    <tr>\n",
       "      <th>2</th>\n",
       "      <td>Fantasy</td>\n",
       "      <td>7.297286e+07</td>\n",
       "      <td>333</td>\n",
       "    </tr>\n",
       "    <tr>\n",
       "      <th>3</th>\n",
       "      <td>Science Fiction</td>\n",
       "      <td>6.063538e+07</td>\n",
       "      <td>419</td>\n",
       "    </tr>\n",
       "    <tr>\n",
       "      <th>4</th>\n",
       "      <td>Crime</td>\n",
       "      <td>2.929354e+07</td>\n",
       "      <td>507</td>\n",
       "    </tr>\n",
       "    <tr>\n",
       "      <th>5</th>\n",
       "      <td>Drama</td>\n",
       "      <td>3.571816e+07</td>\n",
       "      <td>1351</td>\n",
       "    </tr>\n",
       "    <tr>\n",
       "      <th>6</th>\n",
       "      <td>Thriller</td>\n",
       "      <td>3.665812e+07</td>\n",
       "      <td>906</td>\n",
       "    </tr>\n",
       "    <tr>\n",
       "      <th>7</th>\n",
       "      <td>Animation</td>\n",
       "      <td>8.891016e+07</td>\n",
       "      <td>181</td>\n",
       "    </tr>\n",
       "    <tr>\n",
       "      <th>8</th>\n",
       "      <td>Family</td>\n",
       "      <td>7.100281e+07</td>\n",
       "      <td>354</td>\n",
       "    </tr>\n",
       "    <tr>\n",
       "      <th>9</th>\n",
       "      <td>Western</td>\n",
       "      <td>2.683322e+07</td>\n",
       "      <td>54</td>\n",
       "    </tr>\n",
       "    <tr>\n",
       "      <th>10</th>\n",
       "      <td>Comedy</td>\n",
       "      <td>4.814206e+07</td>\n",
       "      <td>1054</td>\n",
       "    </tr>\n",
       "    <tr>\n",
       "      <th>11</th>\n",
       "      <td>Romance</td>\n",
       "      <td>3.621129e+07</td>\n",
       "      <td>541</td>\n",
       "    </tr>\n",
       "    <tr>\n",
       "      <th>12</th>\n",
       "      <td>Horror</td>\n",
       "      <td>3.053285e+07</td>\n",
       "      <td>314</td>\n",
       "    </tr>\n",
       "    <tr>\n",
       "      <th>13</th>\n",
       "      <td>Mystery</td>\n",
       "      <td>3.193375e+07</td>\n",
       "      <td>254</td>\n",
       "    </tr>\n",
       "    <tr>\n",
       "      <th>14</th>\n",
       "      <td>History</td>\n",
       "      <td>2.774036e+07</td>\n",
       "      <td>138</td>\n",
       "    </tr>\n",
       "    <tr>\n",
       "      <th>15</th>\n",
       "      <td>War</td>\n",
       "      <td>3.518656e+07</td>\n",
       "      <td>113</td>\n",
       "    </tr>\n",
       "    <tr>\n",
       "      <th>16</th>\n",
       "      <td>Music</td>\n",
       "      <td>2.683133e+07</td>\n",
       "      <td>101</td>\n",
       "    </tr>\n",
       "    <tr>\n",
       "      <th>17</th>\n",
       "      <td>Documentary</td>\n",
       "      <td>1.945290e+07</td>\n",
       "      <td>27</td>\n",
       "    </tr>\n",
       "  </tbody>\n",
       "</table>\n",
       "</div>"
      ],
      "text/plain": [
       "              genre  average_revenue  movie_count\n",
       "0            Action     5.923816e+07          893\n",
       "1         Adventure     7.675033e+07          648\n",
       "2           Fantasy     7.297286e+07          333\n",
       "3   Science Fiction     6.063538e+07          419\n",
       "4             Crime     2.929354e+07          507\n",
       "5             Drama     3.571816e+07         1351\n",
       "6          Thriller     3.665812e+07          906\n",
       "7         Animation     8.891016e+07          181\n",
       "8            Family     7.100281e+07          354\n",
       "9           Western     2.683322e+07           54\n",
       "10           Comedy     4.814206e+07         1054\n",
       "11          Romance     3.621129e+07          541\n",
       "12           Horror     3.053285e+07          314\n",
       "13          Mystery     3.193375e+07          254\n",
       "14          History     2.774036e+07          138\n",
       "15              War     3.518656e+07          113\n",
       "16            Music     2.683133e+07          101\n",
       "17      Documentary     1.945290e+07           27"
      ]
     },
     "metadata": {},
     "output_type": "display_data"
    }
   ],
   "source": [
    "#\n",
    "# YOUR CODE HERE\n",
    "#\n",
    "\n",
    "# print your solution\n",
    "display(average_revenue_by_genre)"
   ]
  },
  {
   "cell_type": "code",
   "execution_count": 21,
   "metadata": {
    "nbgrader": {
     "grade": true,
     "grade_id": "Exercise4",
     "locked": true,
     "points": "3",
     "solution": false
    }
   },
   "outputs": [
    {
     "name": "stdout",
     "output_type": "stream",
     "text": [
      "\n",
      "(Passed!)\n"
     ]
    }
   ],
   "source": [
    "## Test cell : Exercise 4\n",
    "\n",
    "assert isinstance(average_revenue_by_genre, pd.DataFrame)\n",
    "assert len(average_revenue_by_genre) == len(revenue_by_genre)\n",
    "cols = ['genre', 'average_revenue', 'movie_count']\n",
    "for c in cols:\n",
    "    assert c in average_revenue_by_genre.columns\n",
    "\n",
    "test = average_revenue_by_genre.set_index('genre')\n",
    "for sample in sample_genres:\n",
    "    a__ = test.loc[sample, 'average_revenue']\n",
    "    b__ = sample_genres[sample][0] / sample_genres[sample][1]\n",
    "    assert (a__ - b__) / a__ <= 1e-7\n",
    "\n",
    "assert sum(average_revenue_by_genre['movie_count']) == 8188, \"Your total sum of movie count: {} does not match the instructor's sum of movie count: {}\".format(sum(movie_count_by_genre.values()), 8188)\n",
    "assert np.isclose(sum(average_revenue_by_genre['movie_count']*average_revenue_by_genre['average_revenue']),\n",
    "                  390406088153.0), \"Your total sum of revenue: {} does not match the instructor's sum of revenue: {}\".format(sum(revenue_by_genre.values()), 390406088153.0)\n",
    "\n",
    "print(\"\\n(Passed!)\")"
   ]
  },
  {
   "cell_type": "markdown",
   "metadata": {
    "nbgrader": {
     "grade": false,
     "locked": true,
     "solution": false
    }
   },
   "source": [
    "Let's make one last observation, looking specifically at the `average_revenues` by genre."
   ]
  },
  {
   "cell_type": "code",
   "execution_count": 22,
   "metadata": {
    "nbgrader": {
     "grade": false,
     "locked": true,
     "solution": false
    }
   },
   "outputs": [
    {
     "data": {
      "text/plain": [
       "<matplotlib.axes._subplots.AxesSubplot at 0x7f7734cd9f60>"
      ]
     },
     "execution_count": 22,
     "metadata": {},
     "output_type": "execute_result"
    },
    {
     "data": {
      "image/png": "[encoded data removed]",
      "text/plain": [
       "<matplotlib.figure.Figure at 0x7f7734e463c8>"
      ]
     },
     "metadata": {},
     "output_type": "display_data"
    }
   ],
   "source": [
    "import seaborn as sns\n",
    "sns.barplot(x=\"average_revenue\", y=\"genre\", data=average_revenue_by_genre.sort_values(['average_revenue'],ascending=False))"
   ]
  },
  {
   "cell_type": "markdown",
   "metadata": {
    "nbgrader": {
     "grade": false,
     "locked": true,
     "solution": false
    }
   },
   "source": [
    "Genre indeed affects the revenues. While adventure and action movies have high revenues, documentaries and history movies have lower revenue. What other exploratory analysis can you think of using this dataset?"
   ]
  },
  {
   "cell_type": "markdown",
   "metadata": {
    "nbgrader": {
     "grade": false,
     "locked": true,
     "solution": false
    }
   },
   "source": [
    "\n",
    "**Fin!** That's the end of this problem. Don't forget to restart and run this notebook from the beginning to verify that it works top-to-bottom before submitting. You can move on to the next problem"
   ]
  }
 ],
 "metadata": {
  "celltoolbar": "Create Assignment",
  "kernel_info": {
   "name": "python3"
  },
  "kernelspec": {
   "display_name": "Python 3.6 (beta)",
   "language": "python",
   "name": "python36"
  },
  "language_info": {
   "codemirror_mode": {
    "name": "ipython",
    "version": 3
   },
   "file_extension": ".py",
   "mimetype": "text/x-python",
   "name": "python",
   "nbconvert_exporter": "python",
   "pygments_lexer": "ipython3",
   "version": "3.6.4"
  },
  "nteract": {
   "version": "0.11.9"
  }
 },
 "nbformat": 4,
 "nbformat_minor": 2
}
