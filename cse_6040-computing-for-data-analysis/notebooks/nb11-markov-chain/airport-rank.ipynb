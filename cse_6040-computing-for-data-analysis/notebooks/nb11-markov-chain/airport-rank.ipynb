{
 "cells": [
  {
   "cell_type": "markdown",
   "metadata": {
    "nbgrader": {
     "grade": false,
     "grade_id": "intro",
     "locked": true,
     "schema_version": 1,
     "solution": false
    }
   },
   "source": [
    "# Markov chain analysis of the US airport network\n",
    "\n",
    "One way to view the airline transportation infrastructure is in the form of a directed _network_ or _graph_, in which vertices are airports and edges are the direct-flight segments that connect them. For instance, if there is a direct flight from Atlanta's Hartsfield-Jackson International Airport (\"ATL\") to Los Angeles International Airport (\"LAX\"), then the airport network would have a directed edge from ATL to LAX."
   ]
  },
  {
   "cell_type": "markdown",
   "metadata": {
    "nbgrader": {
     "grade": false,
     "grade_id": "intro_1",
     "locked": true,
     "schema_version": 1,
     "solution": false
    }
   },
   "source": [
    "Given the airport network, one question we might ask is, which airports are most critical to disruption of the overall network? That is, if an airport is shut down, thereby leading to all inbound and outbound flights being cancelled, will that catastrophic event have a big impact or a small impact on the overall network?\n",
    "\n",
    "You would expect \"importance\" to be related to whether an airport has lots of inbound or outgoing connections. In graph lingo, that's also called the _degree_ of a vertex or node. But if there are multiple routes that can work around a highly connected hub (i.e., a vertex with a high indegree or outdegree), that might not be the case. So let's try to use a PageRank-like scheme to see what we get and compare that to looking at degree."
   ]
  },
  {
   "cell_type": "markdown",
   "metadata": {
    "nbgrader": {
     "grade": false,
     "grade_id": "intro_2",
     "locked": true,
     "schema_version": 1,
     "solution": false
    }
   },
   "source": [
    "As it happens, the US Bureau of Transportation Statistics collects data on all flights originating or arriving in the United States. In this notebook, you'll use this data to build an airport network and then use Markov chain analysis to rank the networks by some measure of \"criticality.\""
   ]
  },
  {
   "cell_type": "markdown",
   "metadata": {
    "nbgrader": {
     "grade": false,
     "grade_id": "intro_3",
     "locked": true,
     "schema_version": 1,
     "solution": false
    }
   },
   "source": [
    "> Sources: This notebook is adapted from the following: https://www.mongodb.com/blog/post/pagerank-on-flights-dataset. The dataset you will use was taken from the repository available here: https://www.transtats.bts.gov/DL_SelectFields.asp?Table_ID=236"
   ]
  },
  {
   "cell_type": "markdown",
   "metadata": {
    "nbgrader": {
     "grade": false,
     "grade_id": "formalize",
     "locked": true,
     "schema_version": 1,
     "solution": false
    }
   },
   "source": [
    "## The formal analysis problem\n",
    "\n",
    "Let's model the analysis problem as follows.\n",
    "\n",
    "Consider a \"random flyer\" to be a person who arrives at an airport $i$, and then randomly selects any direct flight that departs from $i$ and arrives at $j$. We refer to the direct flight from $i$ to $j$ as the _flight segment_ $i \\rightarrow j$. Upon arriving at $j$, the flyer repeats the process of randomly selecting a new segment, $j \\rightarrow k$. He or she repeats this process forever."
   ]
  },
  {
   "cell_type": "markdown",
   "metadata": {
    "nbgrader": {
     "grade": false,
     "grade_id": "formalize_transition_scalar",
     "locked": true,
     "schema_version": 1,
     "solution": false
    }
   },
   "source": [
    "Let $x_i(t)$ be the probability that the flyer is at airport $i$ at time $t$. Take $t$ to be an integer count corresponding to the number of flight segments that the flyer has taken so far, starting at $t=0$. Let $p_{ij}$ be the probability of taking segment $i \\rightarrow j$, where $p_{ij} = 0$ means the segment $i \\rightarrow j$ is unavailable or does not exist. If there are $n$ airports in all, numbered from $0$ to $n-1$, then the probability that the flyer will be at airport $i$ at time $t+1$, given all the probabilities at time $t$, is\n",
    "\n",
    "$$\n",
    "  x_i(t+1) = \\sum_{j=0}^{n-1} p_{ji} \\cdot x_j(t).\n",
    "$$"
   ]
  },
  {
   "cell_type": "markdown",
   "metadata": {
    "nbgrader": {
     "grade": false,
     "grade_id": "formalize_transition_vector",
     "locked": true,
     "schema_version": 1,
     "solution": false
    }
   },
   "source": [
    "Let $P \\equiv [p_{ij}]$ be the matrix of transition probabilities and $x(t) = [x_i(t)]$ the column vector of prior probabilities. Then we can write the above more succinctly for all airports as the matrix-vector product,\n",
    "\n",
    "$$\n",
    "  x(t+1) = P^T x(t).\n",
    "$$"
   ]
  },
  {
   "cell_type": "markdown",
   "metadata": {
    "nbgrader": {
     "grade": false,
     "grade_id": "formalize_steady_state",
     "locked": true,
     "schema_version": 1,
     "solution": false
    }
   },
   "source": [
    "Since $P$ is a probability transition matrix then there exists a steady-state distribution, $x^*$, which is the limit of $x(t)$ as $t$ goes to infinity:\n",
    "\n",
    "$$\\displaystyle \\lim_{t \\rightarrow \\infty} x(t) = x^* \\equiv [x_i^*].$$\n",
    "\n",
    "The larger $x_i^*$, the more likely it is that the random flyer is to be at airport $i$ in the steady state. Therefore, we can take the \"importance\" or \"criticality\" of airport $i$ in the flight network to be its steady-state probability, $x_i^*$.\n",
    "\n",
    "Thus, our data pre-processing goal is to construct $P$ and our analysis goal is to compute the steady-state probability distribution, $x^*$, for a first-order Markov chain system."
   ]
  },
  {
   "cell_type": "markdown",
   "metadata": {
    "nbgrader": {
     "grade": false,
     "grade_id": "modules",
     "locked": true,
     "schema_version": 1,
     "solution": false
    }
   },
   "source": [
    "## Modules you'll need\n",
    "\n",
    "For this notebook, let's use Pandas for preprocessing the raw data and SciPy's sparse matrix libraries to implement the analysis.\n",
    "\n",
    "> One of the cells below defines a function, `spy()`, that can be used to visualize the non-zero structure of a sparse matrix."
   ]
  },
  {
   "cell_type": "code",
   "execution_count": 1,
   "metadata": {
    "collapsed": true,
    "nbgrader": {
     "grade": false,
     "grade_id": "setup",
     "locked": true,
     "schema_version": 1,
     "solution": false
    }
   },
   "outputs": [],
   "source": [
    "import numpy as np\n",
    "import scipy as sp\n",
    "import scipy.sparse\n",
    "\n",
    "import pandas as pd"
   ]
  },
  {
   "cell_type": "code",
   "execution_count": 2,
   "metadata": {
    "collapsed": true,
    "nbgrader": {
     "grade": false,
     "grade_id": "setup_spy",
     "locked": true,
     "schema_version": 1,
     "solution": false
    }
   },
   "outputs": [],
   "source": [
    "import matplotlib.pyplot as plt\n",
    "%matplotlib inline\n",
    "\n",
    "def spy(A, figsize=(6, 6), markersize=0.5):\n",
    "    \"\"\"Visualizes a sparse matrix.\"\"\"\n",
    "    fig = plt.figure(figsize=figsize)\n",
    "    plt.spy(A, markersize=markersize)\n",
    "    plt.show()"
   ]
  },
  {
   "cell_type": "code",
   "execution_count": 3,
   "metadata": {
    "collapsed": true,
    "nbgrader": {
     "grade": false,
     "grade_id": "display",
     "locked": true,
     "schema_version": 1,
     "solution": false
    }
   },
   "outputs": [],
   "source": [
    "from IPython.display import display, Markdown # For pretty-printing tibbles"
   ]
  },
  {
   "cell_type": "code",
   "execution_count": 4,
   "metadata": {
    "collapsed": true,
    "nbgrader": {
     "grade": false,
     "grade_id": "tibble_stuff",
     "locked": true,
     "schema_version": 1,
     "solution": false
    }
   },
   "outputs": [],
   "source": [
    "def canonicalize_tibble(X):\n",
    "    var_names = sorted(X.columns)\n",
    "    Y = X[var_names].copy()\n",
    "    Y.sort_values(by=var_names, inplace=True)\n",
    "    Y.reset_index(drop=True, inplace=True)\n",
    "    return Y\n",
    "\n",
    "def tibbles_are_equivalent (A, B):\n",
    "    A_canonical = canonicalize_tibble(A)\n",
    "    B_canonical = canonicalize_tibble(B)\n",
    "    cmp = A_canonical.eq(B_canonical)\n",
    "    return cmp.all().all()"
   ]
  },
  {
   "cell_type": "markdown",
   "metadata": {
    "nbgrader": {
     "grade": false,
     "grade_id": "download_intro",
     "locked": true,
     "schema_version": 1,
     "solution": false
    }
   },
   "source": [
    "## Part 0: Downloading, unpacking, and exploring the data\n",
    "\n",
    "You'll need some data for this assignment. The following code cell will check for it in your local environment, and if it doesn't exist, attempt to download it."
   ]
  },
  {
   "cell_type": "code",
   "execution_count": 5,
   "metadata": {
    "scrolled": true
   },
   "outputs": [
    {
     "name": "stdout",
     "output_type": "stream",
     "text": [
      "'L_AIRPORT_ID.csv' is ready!\n",
      "'L_CITY_MARKET_ID.csv' is ready!\n",
      "'L_UNIQUE_CARRIERS.csv' is ready!\n",
      "'us-flights--2017-08.csv' is ready!\n",
      "'flights_atl_to_lax_soln.csv' is ready!\n",
      "'origins_top10_soln.csv' is ready!\n",
      "'dests_soln.csv' is ready!\n",
      "'dests_top10_soln.csv' is ready!\n",
      "'segments_soln.csv' is ready!\n",
      "'segments_outdegree_soln.csv' is ready!\n",
      "\n",
      "(All data appears to be ready.)\n"
     ]
    }
   ],
   "source": [
    "import requests\n",
    "import os\n",
    "import hashlib\n",
    "import io\n",
    "\n",
    "def on_vocareum():\n",
    "    return os.path.exists('.voc')\n",
    "\n",
    "def download(file, local_dir=\"\", url_base=None, checksum=None):\n",
    "    local_file = \"{}{}\".format(local_dir, file)\n",
    "    if not os.path.exists(local_file):\n",
    "        if url_base is None:\n",
    "            url_base = \"https://cse6040.gatech.edu/datasets/\"\n",
    "        url = \"{}{}\".format(url_base, file)\n",
    "        print(\"Downloading: {} ...\".format(url))\n",
    "        r = requests.get(url)\n",
    "        with open(local_file, 'wb') as f:\n",
    "            f.write(r.content)\n",
    "            \n",
    "    if checksum is not None:\n",
    "        with io.open(local_file, 'rb') as f:\n",
    "            body = f.read()\n",
    "            body_checksum = hashlib.md5(body).hexdigest()\n",
    "            assert body_checksum == checksum, \\\n",
    "                \"Downloaded file '{}' has incorrect checksum: '{}' instead of '{}'\".format(local_file,\n",
    "                                                                                           body_checksum,\n",
    "                                                                                           checksum)\n",
    "    print(\"'{}' is ready!\".format(file))\n",
    "    \n",
    "if on_vocareum():\n",
    "    URL_BASE = \"https://cse6040.gatech.edu/datasets/us-flights/\"\n",
    "    DATA_PATH = \"../resource/asnlib/publicdata/\"\n",
    "else:\n",
    "    URL_BASE = \"https://github.com/cse6040/labs-fa17/raw/master/lab11-markov_chains/\"\n",
    "    DATA_PATH = \"\"\n",
    "\n",
    "datasets = {'L_AIRPORT_ID.csv': 'e9f250e3c93d625cce92d08648c4bbf0',\n",
    "            'L_CITY_MARKET_ID.csv': 'f430a16a5fe4b9a849accb5d332b2bb8',\n",
    "            'L_UNIQUE_CARRIERS.csv': 'bebe919e85e2cf72e7041dbf1ae5794e',\n",
    "            'us-flights--2017-08.csv': 'eeb259c0cdd00ff1027261ca0a7c0332',\n",
    "            'flights_atl_to_lax_soln.csv': '4591f6501411de90af72693cdbcc08bb',\n",
    "            'origins_top10_soln.csv': 'de85c321c45c7bf65612754be4567086',\n",
    "            'dests_soln.csv': '370f4c632623616b3bf26b6f79993fe4',\n",
    "            'dests_top10_soln.csv': '4c7dd7edf48c4d62466964d6b8c14184',\n",
    "            'segments_soln.csv': '516a78d2d9d768d78bfb012b77671f38',\n",
    "            'segments_outdegree_soln.csv': 'b29d60151c617ebafd3a1c58541477c8'\n",
    "           }\n",
    "\n",
    "for filename, checksum in datasets.items():\n",
    "    download(filename, local_dir=DATA_PATH, url_base=URL_BASE, checksum=checksum)\n",
    "    \n",
    "print(\"\\n(All data appears to be ready.)\")"
   ]
  },
  {
   "cell_type": "markdown",
   "metadata": {
    "nbgrader": {
     "grade": false,
     "grade_id": "cell-8e9b52d96a466a12",
     "locked": true,
     "schema_version": 1,
     "solution": false
    }
   },
   "source": [
    "**Airport codes.** Let's start with the airport codes."
   ]
  },
  {
   "cell_type": "code",
   "execution_count": 6,
   "metadata": {
    "nbgrader": {
     "grade": false,
     "grade_id": "show_airport_codes",
     "locked": true,
     "schema_version": 1,
     "solution": false
    }
   },
   "outputs": [
    {
     "data": {
      "text/html": [
       "<div>\n",
       "<style scoped>\n",
       "    .dataframe tbody tr th:only-of-type {\n",
       "        vertical-align: middle;\n",
       "    }\n",
       "\n",
       "    .dataframe tbody tr th {\n",
       "        vertical-align: top;\n",
       "    }\n",
       "\n",
       "    .dataframe thead th {\n",
       "        text-align: right;\n",
       "    }\n",
       "</style>\n",
       "<table border=\"1\" class=\"dataframe\">\n",
       "  <thead>\n",
       "    <tr style=\"text-align: right;\">\n",
       "      <th></th>\n",
       "      <th>Code</th>\n",
       "      <th>Description</th>\n",
       "    </tr>\n",
       "  </thead>\n",
       "  <tbody>\n",
       "    <tr>\n",
       "      <th>0</th>\n",
       "      <td>10001</td>\n",
       "      <td>Afognak Lake, AK: Afognak Lake Airport</td>\n",
       "    </tr>\n",
       "    <tr>\n",
       "      <th>1</th>\n",
       "      <td>10003</td>\n",
       "      <td>Granite Mountain, AK: Bear Creek Mining Strip</td>\n",
       "    </tr>\n",
       "    <tr>\n",
       "      <th>2</th>\n",
       "      <td>10004</td>\n",
       "      <td>Lik, AK: Lik Mining Camp</td>\n",
       "    </tr>\n",
       "    <tr>\n",
       "      <th>3</th>\n",
       "      <td>10005</td>\n",
       "      <td>Little Squaw, AK: Little Squaw Airport</td>\n",
       "    </tr>\n",
       "    <tr>\n",
       "      <th>4</th>\n",
       "      <td>10006</td>\n",
       "      <td>Kizhuyak, AK: Kizhuyak Bay</td>\n",
       "    </tr>\n",
       "  </tbody>\n",
       "</table>\n",
       "</div>"
      ],
      "text/plain": [
       "    Code                                    Description\n",
       "0  10001         Afognak Lake, AK: Afognak Lake Airport\n",
       "1  10003  Granite Mountain, AK: Bear Creek Mining Strip\n",
       "2  10004                       Lik, AK: Lik Mining Camp\n",
       "3  10005         Little Squaw, AK: Little Squaw Airport\n",
       "4  10006                     Kizhuyak, AK: Kizhuyak Bay"
      ]
     },
     "execution_count": 6,
     "metadata": {},
     "output_type": "execute_result"
    }
   ],
   "source": [
    "airport_codes = pd.read_csv(\"{}{}\".format(DATA_PATH, 'L_AIRPORT_ID.csv'))\n",
    "airport_codes.head()"
   ]
  },
  {
   "cell_type": "code",
   "execution_count": 7,
   "metadata": {
    "collapsed": true
   },
   "outputs": [],
   "source": [
    "airport_codes.to_csv('./airport_codes.csv')"
   ]
  },
  {
   "cell_type": "markdown",
   "metadata": {
    "nbgrader": {
     "grade": false,
     "grade_id": "download_flight_segments_intro",
     "locked": true,
     "schema_version": 1,
     "solution": false
    }
   },
   "source": [
    "**Flight segments.** Next, let's load a file that contains all of US flights that were scheduled for August 2017."
   ]
  },
  {
   "cell_type": "code",
   "execution_count": 8,
   "metadata": {
    "nbgrader": {
     "grade": false,
     "grade_id": "flights",
     "locked": true,
     "schema_version": 1,
     "solution": false
    }
   },
   "outputs": [
    {
     "name": "stdout",
     "output_type": "stream",
     "text": [
      "Number of flight segments: 510451 [0.5 million]\n"
     ]
    },
    {
     "data": {
      "text/html": [
       "<div>\n",
       "<style scoped>\n",
       "    .dataframe tbody tr th:only-of-type {\n",
       "        vertical-align: middle;\n",
       "    }\n",
       "\n",
       "    .dataframe tbody tr th {\n",
       "        vertical-align: top;\n",
       "    }\n",
       "\n",
       "    .dataframe thead th {\n",
       "        text-align: right;\n",
       "    }\n",
       "</style>\n",
       "<table border=\"1\" class=\"dataframe\">\n",
       "  <thead>\n",
       "    <tr style=\"text-align: right;\">\n",
       "      <th></th>\n",
       "      <th>FL_DATE</th>\n",
       "      <th>UNIQUE_CARRIER</th>\n",
       "      <th>FL_NUM</th>\n",
       "      <th>ORIGIN_AIRPORT_ID</th>\n",
       "      <th>ORIGIN_CITY_MARKET_ID</th>\n",
       "      <th>DEST_AIRPORT_ID</th>\n",
       "      <th>DEST_CITY_MARKET_ID</th>\n",
       "    </tr>\n",
       "  </thead>\n",
       "  <tbody>\n",
       "    <tr>\n",
       "      <th>0</th>\n",
       "      <td>2017-08-01</td>\n",
       "      <td>DL</td>\n",
       "      <td>2</td>\n",
       "      <td>12478</td>\n",
       "      <td>31703</td>\n",
       "      <td>14679</td>\n",
       "      <td>33570</td>\n",
       "    </tr>\n",
       "    <tr>\n",
       "      <th>1</th>\n",
       "      <td>2017-08-01</td>\n",
       "      <td>DL</td>\n",
       "      <td>4</td>\n",
       "      <td>12889</td>\n",
       "      <td>32211</td>\n",
       "      <td>12478</td>\n",
       "      <td>31703</td>\n",
       "    </tr>\n",
       "    <tr>\n",
       "      <th>2</th>\n",
       "      <td>2017-08-01</td>\n",
       "      <td>DL</td>\n",
       "      <td>6</td>\n",
       "      <td>12892</td>\n",
       "      <td>32575</td>\n",
       "      <td>14869</td>\n",
       "      <td>34614</td>\n",
       "    </tr>\n",
       "    <tr>\n",
       "      <th>3</th>\n",
       "      <td>2017-08-01</td>\n",
       "      <td>DL</td>\n",
       "      <td>7</td>\n",
       "      <td>14869</td>\n",
       "      <td>34614</td>\n",
       "      <td>12892</td>\n",
       "      <td>32575</td>\n",
       "    </tr>\n",
       "    <tr>\n",
       "      <th>4</th>\n",
       "      <td>2017-08-01</td>\n",
       "      <td>DL</td>\n",
       "      <td>10</td>\n",
       "      <td>11292</td>\n",
       "      <td>30325</td>\n",
       "      <td>13487</td>\n",
       "      <td>31650</td>\n",
       "    </tr>\n",
       "  </tbody>\n",
       "</table>\n",
       "</div>"
      ],
      "text/plain": [
       "      FL_DATE UNIQUE_CARRIER  FL_NUM  ORIGIN_AIRPORT_ID  \\\n",
       "0  2017-08-01             DL       2              12478   \n",
       "1  2017-08-01             DL       4              12889   \n",
       "2  2017-08-01             DL       6              12892   \n",
       "3  2017-08-01             DL       7              14869   \n",
       "4  2017-08-01             DL      10              11292   \n",
       "\n",
       "   ORIGIN_CITY_MARKET_ID  DEST_AIRPORT_ID  DEST_CITY_MARKET_ID  \n",
       "0                  31703            14679                33570  \n",
       "1                  32211            12478                31703  \n",
       "2                  32575            14869                34614  \n",
       "3                  34614            12892                32575  \n",
       "4                  30325            13487                31650  "
      ]
     },
     "execution_count": 8,
     "metadata": {},
     "output_type": "execute_result"
    }
   ],
   "source": [
    "flights = pd.read_csv('{}{}'.format(DATA_PATH, 'us-flights--2017-08.csv'))\n",
    "print(\"Number of flight segments: {} [{:.1f} million]\".format (len(flights), len(flights)*1e-6))\n",
    "del flights['Unnamed: 7'] # Cleanup extraneous column\n",
    "flights.head()"
   ]
  },
  {
   "cell_type": "code",
   "execution_count": 9,
   "metadata": {
    "collapsed": true
   },
   "outputs": [],
   "source": [
    "flights.to_csv('./us-flights--2017-08.csv')"
   ]
  },
  {
   "cell_type": "markdown",
   "metadata": {
    "nbgrader": {
     "grade": false,
     "grade_id": "download_time_range",
     "locked": true,
     "schema_version": 1,
     "solution": false
    }
   },
   "source": [
    "Each row of this tibble is a _(direct) flight segment_, that is, a flight that left some origin and arrived at a destination on a certain date. As noted earlier, these segments cover a one-month period (August 2017)."
   ]
  },
  {
   "cell_type": "markdown",
   "metadata": {},
   "source": [
    "**Exercise 0** (3 points). As a warmup to familiarize yourself with this dataset, complete the following exercise, which has two subparts.\n",
    "\n",
    "First, use the `airport_codes` data frame to figure out the integer airport codes (not the three-letter codes) for Atlanta's Hartsfield-Jackson International (ATL) and Los Angeles International (LAX). Store these codes in variables named `ATL_ID` and `LAX_ID`, respectively.\n",
    "\n",
    "Next, determine all direct flight segments that originated at ATL and traveled to LAX. Store the result in a dataframe named `flights_atl_to_lax`, which should be the corresponding subset of rows from `flights`."
   ]
  },
  {
   "cell_type": "code",
   "execution_count": 10,
   "metadata": {},
   "outputs": [
    {
     "data": {
      "text/html": [
       "<div>\n",
       "<style scoped>\n",
       "    .dataframe tbody tr th:only-of-type {\n",
       "        vertical-align: middle;\n",
       "    }\n",
       "\n",
       "    .dataframe tbody tr th {\n",
       "        vertical-align: top;\n",
       "    }\n",
       "\n",
       "    .dataframe thead th {\n",
       "        text-align: right;\n",
       "    }\n",
       "</style>\n",
       "<table border=\"1\" class=\"dataframe\">\n",
       "  <thead>\n",
       "    <tr style=\"text-align: right;\">\n",
       "      <th></th>\n",
       "      <th>Code</th>\n",
       "      <th>Description</th>\n",
       "    </tr>\n",
       "  </thead>\n",
       "  <tbody>\n",
       "    <tr>\n",
       "      <th>373</th>\n",
       "      <td>10397</td>\n",
       "      <td>Atlanta, GA: Hartsfield-Jackson Atlanta Intern...</td>\n",
       "    </tr>\n",
       "    <tr>\n",
       "      <th>571</th>\n",
       "      <td>10598</td>\n",
       "      <td>Bahia de Los Angeles, Mexico: Bahia de Los Ang...</td>\n",
       "    </tr>\n",
       "    <tr>\n",
       "      <th>1717</th>\n",
       "      <td>11790</td>\n",
       "      <td>Atlanta, GA: Fulton County Airport-Brown Field</td>\n",
       "    </tr>\n",
       "    <tr>\n",
       "      <th>1762</th>\n",
       "      <td>11838</td>\n",
       "      <td>Atlanta, GA: Newnan Coweta County</td>\n",
       "    </tr>\n",
       "    <tr>\n",
       "      <th>2350</th>\n",
       "      <td>12445</td>\n",
       "      <td>Atlanta, GA: Perimeter Mall Helipad</td>\n",
       "    </tr>\n",
       "    <tr>\n",
       "      <th>2354</th>\n",
       "      <td>12449</td>\n",
       "      <td>Atlanta, GA: Beaver Ruin</td>\n",
       "    </tr>\n",
       "    <tr>\n",
       "      <th>2387</th>\n",
       "      <td>12485</td>\n",
       "      <td>Atlanta, GA: Galleria</td>\n",
       "    </tr>\n",
       "    <tr>\n",
       "      <th>2765</th>\n",
       "      <td>12892</td>\n",
       "      <td>Los Angeles, CA: Los Angeles International</td>\n",
       "    </tr>\n",
       "    <tr>\n",
       "      <th>2951</th>\n",
       "      <td>13082</td>\n",
       "      <td>Los Angeles, Chile: Maria Dolores</td>\n",
       "    </tr>\n",
       "    <tr>\n",
       "      <th>3885</th>\n",
       "      <td>14050</td>\n",
       "      <td>Atlanta, GA: Dekalb Peachtree</td>\n",
       "    </tr>\n",
       "    <tr>\n",
       "      <th>4222</th>\n",
       "      <td>14430</td>\n",
       "      <td>Peachtree City, GA: Atlanta Regional Falcon Field</td>\n",
       "    </tr>\n",
       "    <tr>\n",
       "      <th>6339</th>\n",
       "      <td>16678</td>\n",
       "      <td>Los Angeles, CA: Whiteman</td>\n",
       "    </tr>\n",
       "  </tbody>\n",
       "</table>\n",
       "</div>"
      ],
      "text/plain": [
       "       Code                                        Description\n",
       "373   10397  Atlanta, GA: Hartsfield-Jackson Atlanta Intern...\n",
       "571   10598  Bahia de Los Angeles, Mexico: Bahia de Los Ang...\n",
       "1717  11790     Atlanta, GA: Fulton County Airport-Brown Field\n",
       "1762  11838                  Atlanta, GA: Newnan Coweta County\n",
       "2350  12445                Atlanta, GA: Perimeter Mall Helipad\n",
       "2354  12449                           Atlanta, GA: Beaver Ruin\n",
       "2387  12485                              Atlanta, GA: Galleria\n",
       "2765  12892         Los Angeles, CA: Los Angeles International\n",
       "2951  13082                  Los Angeles, Chile: Maria Dolores\n",
       "3885  14050                      Atlanta, GA: Dekalb Peachtree\n",
       "4222  14430  Peachtree City, GA: Atlanta Regional Falcon Field\n",
       "6339  16678                          Los Angeles, CA: Whiteman"
      ]
     },
     "metadata": {},
     "output_type": "display_data"
    },
    {
     "data": {
      "text/plain": [
       "10397"
      ]
     },
     "metadata": {},
     "output_type": "display_data"
    },
    {
     "data": {
      "text/plain": [
       "12892"
      ]
     },
     "metadata": {},
     "output_type": "display_data"
    },
    {
     "name": "stdout",
     "output_type": "stream",
     "text": [
      "10397: ATL -- Atlanta, GA: Hartsfield-Jackson Atlanta International\n",
      "12892: LAX -- Los Angeles, CA: Los Angeles International\n"
     ]
    }
   ],
   "source": [
    "# PART A) Define `ATL_ID` and `LAX_ID` to correspond to the\n",
    "# codes in `airport_codes` for ATL and LAX, respectively.\n",
    "#\n",
    "atl_lax_idx = [i for i, code in enumerate(airport_codes['Description']) \n",
    "               if 'Los Angeles' in code or 'Atlanta' in code]\n",
    "atl_lax_idx\n",
    "display(airport_codes.loc[atl_lax_idx, :])\n",
    "\n",
    "ATL_ID = airport_codes.loc[373, 'Code']\n",
    "LAX_ID = airport_codes.loc[2765, 'Code']\n",
    "\n",
    "display(ATL_ID)\n",
    "display(LAX_ID)\n",
    "#\n",
    "\n",
    "# Print the descriptions of the airports with your IDs:\n",
    "ATL_DESC = airport_codes[airport_codes['Code'] == ATL_ID]['Description'].iloc[0]\n",
    "LAX_DESC = airport_codes[airport_codes['Code'] == LAX_ID]['Description'].iloc[0]\n",
    "print(\"{}: ATL -- {}\".format(ATL_ID, ATL_DESC))\n",
    "print(\"{}: LAX -- {}\".format(LAX_ID, LAX_DESC))"
   ]
  },
  {
   "cell_type": "code",
   "execution_count": 11,
   "metadata": {
    "nbgrader": {
     "grade": false,
     "grade_id": "flights_atl_to_lax",
     "locked": false,
     "schema_version": 1,
     "solution": false
    }
   },
   "outputs": [
    {
     "name": "stdout",
     "output_type": "stream",
     "text": [
      "Your code found 586 flight segments.\n"
     ]
    },
    {
     "data": {
      "text/html": [
       "<div>\n",
       "<style scoped>\n",
       "    .dataframe tbody tr th:only-of-type {\n",
       "        vertical-align: middle;\n",
       "    }\n",
       "\n",
       "    .dataframe tbody tr th {\n",
       "        vertical-align: top;\n",
       "    }\n",
       "\n",
       "    .dataframe thead th {\n",
       "        text-align: right;\n",
       "    }\n",
       "</style>\n",
       "<table border=\"1\" class=\"dataframe\">\n",
       "  <thead>\n",
       "    <tr style=\"text-align: right;\">\n",
       "      <th></th>\n",
       "      <th>FL_DATE</th>\n",
       "      <th>UNIQUE_CARRIER</th>\n",
       "      <th>FL_NUM</th>\n",
       "      <th>ORIGIN_AIRPORT_ID</th>\n",
       "      <th>ORIGIN_CITY_MARKET_ID</th>\n",
       "      <th>DEST_AIRPORT_ID</th>\n",
       "      <th>DEST_CITY_MARKET_ID</th>\n",
       "    </tr>\n",
       "  </thead>\n",
       "  <tbody>\n",
       "    <tr>\n",
       "      <th>64</th>\n",
       "      <td>2017-08-01</td>\n",
       "      <td>DL</td>\n",
       "      <td>110</td>\n",
       "      <td>10397</td>\n",
       "      <td>30397</td>\n",
       "      <td>12892</td>\n",
       "      <td>32575</td>\n",
       "    </tr>\n",
       "    <tr>\n",
       "      <th>165</th>\n",
       "      <td>2017-08-01</td>\n",
       "      <td>DL</td>\n",
       "      <td>370</td>\n",
       "      <td>10397</td>\n",
       "      <td>30397</td>\n",
       "      <td>12892</td>\n",
       "      <td>32575</td>\n",
       "    </tr>\n",
       "    <tr>\n",
       "      <th>797</th>\n",
       "      <td>2017-08-01</td>\n",
       "      <td>DL</td>\n",
       "      <td>1125</td>\n",
       "      <td>10397</td>\n",
       "      <td>30397</td>\n",
       "      <td>12892</td>\n",
       "      <td>32575</td>\n",
       "    </tr>\n",
       "    <tr>\n",
       "      <th>806</th>\n",
       "      <td>2017-08-01</td>\n",
       "      <td>DL</td>\n",
       "      <td>1133</td>\n",
       "      <td>10397</td>\n",
       "      <td>30397</td>\n",
       "      <td>12892</td>\n",
       "      <td>32575</td>\n",
       "    </tr>\n",
       "    <tr>\n",
       "      <th>858</th>\n",
       "      <td>2017-08-01</td>\n",
       "      <td>DL</td>\n",
       "      <td>1172</td>\n",
       "      <td>10397</td>\n",
       "      <td>30397</td>\n",
       "      <td>12892</td>\n",
       "      <td>32575</td>\n",
       "    </tr>\n",
       "  </tbody>\n",
       "</table>\n",
       "</div>"
      ],
      "text/plain": [
       "        FL_DATE UNIQUE_CARRIER  FL_NUM  ORIGIN_AIRPORT_ID  \\\n",
       "64   2017-08-01             DL     110              10397   \n",
       "165  2017-08-01             DL     370              10397   \n",
       "797  2017-08-01             DL    1125              10397   \n",
       "806  2017-08-01             DL    1133              10397   \n",
       "858  2017-08-01             DL    1172              10397   \n",
       "\n",
       "     ORIGIN_CITY_MARKET_ID  DEST_AIRPORT_ID  DEST_CITY_MARKET_ID  \n",
       "64                   30397            12892                32575  \n",
       "165                  30397            12892                32575  \n",
       "797                  30397            12892                32575  \n",
       "806                  30397            12892                32575  \n",
       "858                  30397            12892                32575  "
      ]
     },
     "metadata": {},
     "output_type": "display_data"
    }
   ],
   "source": [
    "# PART B) Construct `flights_atl_to_lax`\n",
    "#\n",
    "ATL_origin_mask = flights['ORIGIN_AIRPORT_ID'] == ATL_ID\n",
    "LAX_dest_mask = flights['DEST_AIRPORT_ID'] == LAX_ID\n",
    "\n",
    "flights_atl_to_lax = flights[(ATL_origin_mask) & (LAX_dest_mask)]\n",
    "#\n",
    "\n",
    "# Displays a few of your results\n",
    "print(\"Your code found {} flight segments.\".format(len(flights_atl_to_lax)))\n",
    "display(flights_atl_to_lax.head())"
   ]
  },
  {
   "cell_type": "code",
   "execution_count": 12,
   "metadata": {
    "nbgrader": {
     "grade": true,
     "grade_id": "flights_atl_to_lax_test",
     "locked": true,
     "points": 3,
     "schema_version": 1,
     "solution": false
    }
   },
   "outputs": [
    {
     "name": "stdout",
     "output_type": "stream",
     "text": [
      "\n",
      "(Passed!)\n"
     ]
    }
   ],
   "source": [
    "# Test cell: `flights_atl_to_lax_test` (3 points)\n",
    "\n",
    "if False:\n",
    "    flights_atl_to_lax.to_csv('flights_atl_to_lax_soln.csv', index=False)\n",
    "flights_atl_to_lax_soln = pd.read_csv('{}{}'.format(DATA_PATH, 'flights_atl_to_lax_soln.csv'))\n",
    "\n",
    "assert tibbles_are_equivalent(flights_atl_to_lax, flights_atl_to_lax_soln), \\\n",
    "       \"Sorry, your solution does not match the instructor's solution.\"\n",
    "\n",
    "print(\"\\n(Passed!)\")"
   ]
  },
  {
   "cell_type": "code",
   "execution_count": 13,
   "metadata": {
    "collapsed": true
   },
   "outputs": [],
   "source": [
    "flights_atl_to_lax_soln.to_csv('./flights_atl_to_lax_soln.csv')"
   ]
  },
  {
   "cell_type": "markdown",
   "metadata": {
    "nbgrader": {
     "grade": false,
     "grade_id": "download_aggregation",
     "locked": true,
     "schema_version": 1,
     "solution": false
    }
   },
   "source": [
    "**Aggregation.** Observe that an (origin, destination) pair may appear many times. That's because the dataset includes a row for _every_ direct flight that occurred historically and there may have been multiple such flights on a given day.\n",
    "\n",
    "However, for the purpose of this analysis, let's simplify the problem by collapsing _all_ historical segments $i \\rightarrow j$ into a single segment. Let's also do so in a way that preserves the number of times the segment occurred (i.e., the number of rows containing the segment)."
   ]
  },
  {
   "cell_type": "markdown",
   "metadata": {
    "nbgrader": {
     "grade": false,
     "grade_id": "download_outline_agg_task",
     "locked": true,
     "schema_version": 1,
     "solution": false
    }
   },
   "source": [
    "To accomplish this task, the following code cell uses the [`groupby()`](http://pandas.pydata.org/pandas-docs/stable/generated/pandas.DataFrame.groupby.html) function available for Pandas tables and the [`count()`](http://pandas.pydata.org/pandas-docs/stable/groupby.html) aggregator in three steps:\n",
    "\n",
    "1. It considers just the flight date, origin, and destination columns.\n",
    "2. It _logically_ groups the rows having the same origin and destination, using `groupby()`.\n",
    "3. It then aggregates the rows, counting the number of rows in each (origin, destination) group."
   ]
  },
  {
   "cell_type": "code",
   "execution_count": 14,
   "metadata": {
    "nbgrader": {
     "grade": false,
     "grade_id": "segments",
     "locked": true,
     "schema_version": 1,
     "solution": false
    }
   },
   "outputs": [
    {
     "data": {
      "text/html": [
       "<div>\n",
       "<style scoped>\n",
       "    .dataframe tbody tr th:only-of-type {\n",
       "        vertical-align: middle;\n",
       "    }\n",
       "\n",
       "    .dataframe tbody tr th {\n",
       "        vertical-align: top;\n",
       "    }\n",
       "\n",
       "    .dataframe thead th {\n",
       "        text-align: right;\n",
       "    }\n",
       "</style>\n",
       "<table border=\"1\" class=\"dataframe\">\n",
       "  <thead>\n",
       "    <tr style=\"text-align: right;\">\n",
       "      <th></th>\n",
       "      <th>ORIGIN_AIRPORT_ID</th>\n",
       "      <th>DEST_AIRPORT_ID</th>\n",
       "      <th>FL_COUNT</th>\n",
       "    </tr>\n",
       "  </thead>\n",
       "  <tbody>\n",
       "    <tr>\n",
       "      <th>0</th>\n",
       "      <td>10135</td>\n",
       "      <td>10397</td>\n",
       "      <td>77</td>\n",
       "    </tr>\n",
       "    <tr>\n",
       "      <th>1</th>\n",
       "      <td>10135</td>\n",
       "      <td>11433</td>\n",
       "      <td>85</td>\n",
       "    </tr>\n",
       "    <tr>\n",
       "      <th>2</th>\n",
       "      <td>10135</td>\n",
       "      <td>13930</td>\n",
       "      <td>18</td>\n",
       "    </tr>\n",
       "    <tr>\n",
       "      <th>3</th>\n",
       "      <td>10140</td>\n",
       "      <td>10397</td>\n",
       "      <td>93</td>\n",
       "    </tr>\n",
       "    <tr>\n",
       "      <th>4</th>\n",
       "      <td>10140</td>\n",
       "      <td>10423</td>\n",
       "      <td>4</td>\n",
       "    </tr>\n",
       "  </tbody>\n",
       "</table>\n",
       "</div>"
      ],
      "text/plain": [
       "   ORIGIN_AIRPORT_ID  DEST_AIRPORT_ID  FL_COUNT\n",
       "0              10135            10397        77\n",
       "1              10135            11433        85\n",
       "2              10135            13930        18\n",
       "3              10140            10397        93\n",
       "4              10140            10423         4"
      ]
     },
     "execution_count": 14,
     "metadata": {},
     "output_type": "execute_result"
    }
   ],
   "source": [
    "flights_cols_subset = flights[['FL_DATE', 'ORIGIN_AIRPORT_ID', 'DEST_AIRPORT_ID']]\n",
    "segment_groups = flights_cols_subset.groupby(['ORIGIN_AIRPORT_ID', 'DEST_AIRPORT_ID'], as_index=False)\n",
    "segments = segment_groups.count()\n",
    "segments.rename(columns={'FL_DATE': 'FL_COUNT'}, inplace=True)\n",
    "segments.head()"
   ]
  },
  {
   "cell_type": "markdown",
   "metadata": {
    "nbgrader": {
     "grade": false,
     "grade_id": "download_segments_sanity",
     "locked": true,
     "schema_version": 1,
     "solution": false
    }
   },
   "source": [
    "As a last sanity check, let's verify that the counts are all at least 1."
   ]
  },
  {
   "cell_type": "code",
   "execution_count": 15,
   "metadata": {
    "collapsed": true,
    "nbgrader": {
     "grade": false,
     "grade_id": "segments_check_counts",
     "locked": true,
     "schema_version": 1,
     "solution": false
    }
   },
   "outputs": [],
   "source": [
    "assert (segments['FL_COUNT'] > 0).all()"
   ]
  },
  {
   "cell_type": "markdown",
   "metadata": {
    "nbgrader": {
     "grade": false,
     "grade_id": "download_actual_intro",
     "locked": true,
     "schema_version": 1,
     "solution": false
    }
   },
   "source": [
    "**Actual (as opposed to \"all possible\") origins and destinations.** Although there are many possible airport codes stored in the `airport_codes` dataframe (over six thousand), only a subset appear as actual origins in the data. The following code cell determines the actual origins and prints their number."
   ]
  },
  {
   "cell_type": "code",
   "execution_count": 16,
   "metadata": {
    "nbgrader": {
     "grade": false,
     "grade_id": "origins",
     "locked": true,
     "schema_version": 1,
     "solution": false
    }
   },
   "outputs": [
    {
     "name": "stdout",
     "output_type": "stream",
     "text": [
      "Number of actual origins: 300\n"
     ]
    },
    {
     "data": {
      "text/html": [
       "<div>\n",
       "<style scoped>\n",
       "    .dataframe tbody tr th:only-of-type {\n",
       "        vertical-align: middle;\n",
       "    }\n",
       "\n",
       "    .dataframe tbody tr th {\n",
       "        vertical-align: top;\n",
       "    }\n",
       "\n",
       "    .dataframe thead th {\n",
       "        text-align: right;\n",
       "    }\n",
       "</style>\n",
       "<table border=\"1\" class=\"dataframe\">\n",
       "  <thead>\n",
       "    <tr style=\"text-align: right;\">\n",
       "      <th></th>\n",
       "      <th>ORIGIN_AIRPORT_ID</th>\n",
       "      <th>ORIGIN_COUNT</th>\n",
       "    </tr>\n",
       "  </thead>\n",
       "  <tbody>\n",
       "    <tr>\n",
       "      <th>0</th>\n",
       "      <td>10135</td>\n",
       "      <td>180</td>\n",
       "    </tr>\n",
       "    <tr>\n",
       "      <th>1</th>\n",
       "      <td>10140</td>\n",
       "      <td>1761</td>\n",
       "    </tr>\n",
       "    <tr>\n",
       "      <th>2</th>\n",
       "      <td>10141</td>\n",
       "      <td>62</td>\n",
       "    </tr>\n",
       "    <tr>\n",
       "      <th>3</th>\n",
       "      <td>10146</td>\n",
       "      <td>41</td>\n",
       "    </tr>\n",
       "    <tr>\n",
       "      <th>4</th>\n",
       "      <td>10154</td>\n",
       "      <td>176</td>\n",
       "    </tr>\n",
       "  </tbody>\n",
       "</table>\n",
       "</div>"
      ],
      "text/plain": [
       "   ORIGIN_AIRPORT_ID  ORIGIN_COUNT\n",
       "0              10135           180\n",
       "1              10140          1761\n",
       "2              10141            62\n",
       "3              10146            41\n",
       "4              10154           176"
      ]
     },
     "execution_count": 16,
     "metadata": {},
     "output_type": "execute_result"
    }
   ],
   "source": [
    "origins = segments[['ORIGIN_AIRPORT_ID', 'FL_COUNT']].groupby('ORIGIN_AIRPORT_ID', as_index=False).sum()\n",
    "origins.rename(columns={'FL_COUNT': 'ORIGIN_COUNT'}, inplace=True)\n",
    "print(\"Number of actual origins:\", len(origins))\n",
    "origins.head()"
   ]
  },
  {
   "cell_type": "markdown",
   "metadata": {
    "nbgrader": {
     "grade": false,
     "grade_id": "download_rank_intro",
     "locked": true,
     "schema_version": 1,
     "solution": false
    }
   },
   "source": [
    "To get an idea of what airports are likely to be the most important in our Markov chain analysis, let's rank airports by the total number of _outgoing_ segments, i.e., flight segments that originate at the airport."
   ]
  },
  {
   "cell_type": "markdown",
   "metadata": {
    "nbgrader": {
     "grade": false,
     "grade_id": "exericse_1",
     "locked": true,
     "schema_version": 1,
     "solution": false
    }
   },
   "source": [
    "**Exercise 1** (3 points). Construct a dataframe, `origins_top10`, containing the top 10 airports in descending order of outgoing segments. This dataframe should have three columns:\n",
    "\n",
    "* `ID`: The ID of the airport\n",
    "* `Count`: Number of outgoing segments.\n",
    "* `Description`: The plaintext descriptor for the airport that comes from the `airport_codes` dataframe.\n",
    "\n",
    "> _Hint_: Look up and read about `numpy.argsort()`, which you can also apply to any Pandas Series object."
   ]
  },
  {
   "cell_type": "code",
   "execution_count": 17,
   "metadata": {
    "nbgrader": {
     "grade": false,
     "grade_id": "origin_ranks",
     "locked": false,
     "schema_version": 1,
     "solution": true
    },
    "scrolled": true
   },
   "outputs": [
    {
     "data": {
      "text/html": [
       "<div>\n",
       "<style scoped>\n",
       "    .dataframe tbody tr th:only-of-type {\n",
       "        vertical-align: middle;\n",
       "    }\n",
       "\n",
       "    .dataframe tbody tr th {\n",
       "        vertical-align: top;\n",
       "    }\n",
       "\n",
       "    .dataframe thead th {\n",
       "        text-align: right;\n",
       "    }\n",
       "</style>\n",
       "<table border=\"1\" class=\"dataframe\">\n",
       "  <thead>\n",
       "    <tr style=\"text-align: right;\">\n",
       "      <th></th>\n",
       "      <th>ID</th>\n",
       "      <th>Count</th>\n",
       "      <th>Description</th>\n",
       "    </tr>\n",
       "  </thead>\n",
       "  <tbody>\n",
       "    <tr>\n",
       "      <th>0</th>\n",
       "      <td>10397</td>\n",
       "      <td>31899</td>\n",
       "      <td>Atlanta, GA: Hartsfield-Jackson Atlanta Intern...</td>\n",
       "    </tr>\n",
       "    <tr>\n",
       "      <th>1</th>\n",
       "      <td>13930</td>\n",
       "      <td>25757</td>\n",
       "      <td>Chicago, IL: Chicago O'Hare International</td>\n",
       "    </tr>\n",
       "    <tr>\n",
       "      <th>2</th>\n",
       "      <td>11292</td>\n",
       "      <td>20891</td>\n",
       "      <td>Denver, CO: Denver International</td>\n",
       "    </tr>\n",
       "    <tr>\n",
       "      <th>3</th>\n",
       "      <td>12892</td>\n",
       "      <td>19399</td>\n",
       "      <td>Los Angeles, CA: Los Angeles International</td>\n",
       "    </tr>\n",
       "    <tr>\n",
       "      <th>4</th>\n",
       "      <td>14771</td>\n",
       "      <td>16641</td>\n",
       "      <td>San Francisco, CA: San Francisco International</td>\n",
       "    </tr>\n",
       "    <tr>\n",
       "      <th>5</th>\n",
       "      <td>11298</td>\n",
       "      <td>15977</td>\n",
       "      <td>Dallas/Fort Worth, TX: Dallas/Fort Worth Inter...</td>\n",
       "    </tr>\n",
       "    <tr>\n",
       "      <th>6</th>\n",
       "      <td>14747</td>\n",
       "      <td>13578</td>\n",
       "      <td>Seattle, WA: Seattle/Tacoma International</td>\n",
       "    </tr>\n",
       "    <tr>\n",
       "      <th>7</th>\n",
       "      <td>12889</td>\n",
       "      <td>13367</td>\n",
       "      <td>Las Vegas, NV: McCarran International</td>\n",
       "    </tr>\n",
       "    <tr>\n",
       "      <th>8</th>\n",
       "      <td>14107</td>\n",
       "      <td>13040</td>\n",
       "      <td>Phoenix, AZ: Phoenix Sky Harbor International</td>\n",
       "    </tr>\n",
       "    <tr>\n",
       "      <th>9</th>\n",
       "      <td>13487</td>\n",
       "      <td>12808</td>\n",
       "      <td>Minneapolis, MN: Minneapolis-St Paul Internati...</td>\n",
       "    </tr>\n",
       "  </tbody>\n",
       "</table>\n",
       "</div>"
      ],
      "text/plain": [
       "      ID  Count                                        Description\n",
       "0  10397  31899  Atlanta, GA: Hartsfield-Jackson Atlanta Intern...\n",
       "1  13930  25757          Chicago, IL: Chicago O'Hare International\n",
       "2  11292  20891                   Denver, CO: Denver International\n",
       "3  12892  19399         Los Angeles, CA: Los Angeles International\n",
       "4  14771  16641     San Francisco, CA: San Francisco International\n",
       "5  11298  15977  Dallas/Fort Worth, TX: Dallas/Fort Worth Inter...\n",
       "6  14747  13578          Seattle, WA: Seattle/Tacoma International\n",
       "7  12889  13367              Las Vegas, NV: McCarran International\n",
       "8  14107  13040      Phoenix, AZ: Phoenix Sky Harbor International\n",
       "9  13487  12808  Minneapolis, MN: Minneapolis-St Paul Internati..."
      ]
     },
     "execution_count": 17,
     "metadata": {},
     "output_type": "execute_result"
    }
   ],
   "source": [
    "###\n",
    "origins_top10 = pd.DataFrame()\n",
    "origins_temp = origins.sort_values(by='ORIGIN_COUNT', ascending=False)[:10]\n",
    "# display(origins_temp.shape)\n",
    "origins_top10 = origins_temp.merge(airport_codes, how='left', left_on='ORIGIN_AIRPORT_ID', right_on='Code')\n",
    "origins_top10.rename(columns={\n",
    "    'ORIGIN_AIRPORT_ID':'ID',\n",
    "    'ORIGIN_COUNT':'Count'\n",
    "}, inplace=True)\n",
    "origins_top10.drop('Code', axis=1, inplace=True)\n",
    "###\n",
    "\n",
    "# Prints the top 10, according to your calculation:\n",
    "origins_top10"
   ]
  },
  {
   "cell_type": "code",
   "execution_count": 18,
   "metadata": {
    "nbgrader": {
     "grade": true,
     "grade_id": "origin_ranks_test_entries",
     "locked": true,
     "points": "2",
     "solution": false
    }
   },
   "outputs": [
    {
     "name": "stdout",
     "output_type": "stream",
     "text": [
      "=== Instructor's solution ===\n"
     ]
    },
    {
     "data": {
      "text/html": [
       "<div>\n",
       "<style scoped>\n",
       "    .dataframe tbody tr th:only-of-type {\n",
       "        vertical-align: middle;\n",
       "    }\n",
       "\n",
       "    .dataframe tbody tr th {\n",
       "        vertical-align: top;\n",
       "    }\n",
       "\n",
       "    .dataframe thead th {\n",
       "        text-align: right;\n",
       "    }\n",
       "</style>\n",
       "<table border=\"1\" class=\"dataframe\">\n",
       "  <thead>\n",
       "    <tr style=\"text-align: right;\">\n",
       "      <th></th>\n",
       "      <th>ID</th>\n",
       "      <th>Count</th>\n",
       "      <th>Description</th>\n",
       "    </tr>\n",
       "  </thead>\n",
       "  <tbody>\n",
       "    <tr>\n",
       "      <th>0</th>\n",
       "      <td>10397</td>\n",
       "      <td>31899</td>\n",
       "      <td>Atlanta, GA: Hartsfield-Jackson Atlanta Intern...</td>\n",
       "    </tr>\n",
       "    <tr>\n",
       "      <th>1</th>\n",
       "      <td>13930</td>\n",
       "      <td>25757</td>\n",
       "      <td>Chicago, IL: Chicago O'Hare International</td>\n",
       "    </tr>\n",
       "    <tr>\n",
       "      <th>2</th>\n",
       "      <td>11292</td>\n",
       "      <td>20891</td>\n",
       "      <td>Denver, CO: Denver International</td>\n",
       "    </tr>\n",
       "    <tr>\n",
       "      <th>3</th>\n",
       "      <td>12892</td>\n",
       "      <td>19399</td>\n",
       "      <td>Los Angeles, CA: Los Angeles International</td>\n",
       "    </tr>\n",
       "    <tr>\n",
       "      <th>4</th>\n",
       "      <td>14771</td>\n",
       "      <td>16641</td>\n",
       "      <td>San Francisco, CA: San Francisco International</td>\n",
       "    </tr>\n",
       "    <tr>\n",
       "      <th>5</th>\n",
       "      <td>11298</td>\n",
       "      <td>15977</td>\n",
       "      <td>Dallas/Fort Worth, TX: Dallas/Fort Worth Inter...</td>\n",
       "    </tr>\n",
       "    <tr>\n",
       "      <th>6</th>\n",
       "      <td>14747</td>\n",
       "      <td>13578</td>\n",
       "      <td>Seattle, WA: Seattle/Tacoma International</td>\n",
       "    </tr>\n",
       "    <tr>\n",
       "      <th>7</th>\n",
       "      <td>12889</td>\n",
       "      <td>13367</td>\n",
       "      <td>Las Vegas, NV: McCarran International</td>\n",
       "    </tr>\n",
       "    <tr>\n",
       "      <th>8</th>\n",
       "      <td>14107</td>\n",
       "      <td>13040</td>\n",
       "      <td>Phoenix, AZ: Phoenix Sky Harbor International</td>\n",
       "    </tr>\n",
       "    <tr>\n",
       "      <th>9</th>\n",
       "      <td>13487</td>\n",
       "      <td>12808</td>\n",
       "      <td>Minneapolis, MN: Minneapolis-St Paul Internati...</td>\n",
       "    </tr>\n",
       "  </tbody>\n",
       "</table>\n",
       "</div>"
      ],
      "text/plain": [
       "      ID  Count                                        Description\n",
       "0  10397  31899  Atlanta, GA: Hartsfield-Jackson Atlanta Intern...\n",
       "1  13930  25757          Chicago, IL: Chicago O'Hare International\n",
       "2  11292  20891                   Denver, CO: Denver International\n",
       "3  12892  19399         Los Angeles, CA: Los Angeles International\n",
       "4  14771  16641     San Francisco, CA: San Francisco International\n",
       "5  11298  15977  Dallas/Fort Worth, TX: Dallas/Fort Worth Inter...\n",
       "6  14747  13578          Seattle, WA: Seattle/Tacoma International\n",
       "7  12889  13367              Las Vegas, NV: McCarran International\n",
       "8  14107  13040      Phoenix, AZ: Phoenix Sky Harbor International\n",
       "9  13487  12808  Minneapolis, MN: Minneapolis-St Paul Internati..."
      ]
     },
     "metadata": {},
     "output_type": "display_data"
    }
   ],
   "source": [
    "# Test cell: `origin_ranks_test_entries`\n",
    "\n",
    "if False:\n",
    "    origins_top10.to_csv('origins_top10_soln.csv', index=False)\n",
    "origins_top10_soln = pd.read_csv('{}{}'.format(DATA_PATH, 'origins_top10_soln.csv'))\n",
    "\n",
    "print(\"=== Instructor's solution ===\")\n",
    "display(origins_top10_soln)\n",
    "    \n",
    "assert tibbles_are_equivalent(origins_top10, origins_top10_soln), \\\n",
    "       \"Your table does not have the same entries as the solution.\""
   ]
  },
  {
   "cell_type": "code",
   "execution_count": 19,
   "metadata": {
    "nbgrader": {
     "grade": true,
     "grade_id": "origin_ranks_test_order",
     "locked": true,
     "points": "1",
     "schema_version": 1,
     "solution": false
    }
   },
   "outputs": [
    {
     "name": "stdout",
     "output_type": "stream",
     "text": [
      "\n",
      "(Passed!)\n"
     ]
    }
   ],
   "source": [
    "# Test cell: `origin_ranks_test_order`\n",
    "\n",
    "counts_0_9 = origins_top10['Count'].iloc[:9].values\n",
    "counts_1_10 = origins_top10['Count'].iloc[1:].values\n",
    "assert (counts_0_9 >= counts_1_10).all(), \\\n",
    "       \"Are your rows sorted in descending order?\"\n",
    "\n",
    "print(\"\\n(Passed!)\")"
   ]
  },
  {
   "cell_type": "markdown",
   "metadata": {
    "nbgrader": {
     "grade": false,
     "grade_id": "exercise_2",
     "locked": true,
     "schema_version": 1,
     "solution": false
    }
   },
   "source": [
    "**Exercise 2** (2 points). The preceding code computed a tibble, `origins`, containing all the unique origins and their number of outgoing flights. Write some code to compute a new tibble, `dests`, which contains all unique destinations and their number of _incoming_ flights. Its columns should be named `DEST_AIRPORT_ID` (airport code) and `DEST_COUNT` (number of direct inbound segments).\n",
    "\n",
    "The test cell that follows prints the number of unique destinations and the first few rows of your result, as well as some automatic checks."
   ]
  },
  {
   "cell_type": "code",
   "execution_count": 20,
   "metadata": {
    "scrolled": true
   },
   "outputs": [
    {
     "data": {
      "text/html": [
       "<div>\n",
       "<style scoped>\n",
       "    .dataframe tbody tr th:only-of-type {\n",
       "        vertical-align: middle;\n",
       "    }\n",
       "\n",
       "    .dataframe tbody tr th {\n",
       "        vertical-align: top;\n",
       "    }\n",
       "\n",
       "    .dataframe thead th {\n",
       "        text-align: right;\n",
       "    }\n",
       "</style>\n",
       "<table border=\"1\" class=\"dataframe\">\n",
       "  <thead>\n",
       "    <tr style=\"text-align: right;\">\n",
       "      <th></th>\n",
       "      <th>ORIGIN_AIRPORT_ID</th>\n",
       "      <th>DEST_AIRPORT_ID</th>\n",
       "      <th>FL_COUNT</th>\n",
       "    </tr>\n",
       "  </thead>\n",
       "  <tbody>\n",
       "    <tr>\n",
       "      <th>0</th>\n",
       "      <td>10135</td>\n",
       "      <td>10397</td>\n",
       "      <td>77</td>\n",
       "    </tr>\n",
       "    <tr>\n",
       "      <th>1</th>\n",
       "      <td>10135</td>\n",
       "      <td>11433</td>\n",
       "      <td>85</td>\n",
       "    </tr>\n",
       "    <tr>\n",
       "      <th>2</th>\n",
       "      <td>10135</td>\n",
       "      <td>13930</td>\n",
       "      <td>18</td>\n",
       "    </tr>\n",
       "    <tr>\n",
       "      <th>3</th>\n",
       "      <td>10140</td>\n",
       "      <td>10397</td>\n",
       "      <td>93</td>\n",
       "    </tr>\n",
       "    <tr>\n",
       "      <th>4</th>\n",
       "      <td>10140</td>\n",
       "      <td>10423</td>\n",
       "      <td>4</td>\n",
       "    </tr>\n",
       "  </tbody>\n",
       "</table>\n",
       "</div>"
      ],
      "text/plain": [
       "   ORIGIN_AIRPORT_ID  DEST_AIRPORT_ID  FL_COUNT\n",
       "0              10135            10397        77\n",
       "1              10135            11433        85\n",
       "2              10135            13930        18\n",
       "3              10140            10397        93\n",
       "4              10140            10423         4"
      ]
     },
     "execution_count": 20,
     "metadata": {},
     "output_type": "execute_result"
    }
   ],
   "source": [
    "segments.head()"
   ]
  },
  {
   "cell_type": "code",
   "execution_count": 21,
   "metadata": {
    "nbgrader": {
     "grade": false,
     "grade_id": "dests",
     "locked": false,
     "schema_version": 1,
     "solution": true
    },
    "scrolled": true
   },
   "outputs": [
    {
     "name": "stdout",
     "output_type": "stream",
     "text": [
      "Number of unique destinations: 300\n"
     ]
    },
    {
     "data": {
      "text/html": [
       "<div>\n",
       "<style scoped>\n",
       "    .dataframe tbody tr th:only-of-type {\n",
       "        vertical-align: middle;\n",
       "    }\n",
       "\n",
       "    .dataframe tbody tr th {\n",
       "        vertical-align: top;\n",
       "    }\n",
       "\n",
       "    .dataframe thead th {\n",
       "        text-align: right;\n",
       "    }\n",
       "</style>\n",
       "<table border=\"1\" class=\"dataframe\">\n",
       "  <thead>\n",
       "    <tr style=\"text-align: right;\">\n",
       "      <th></th>\n",
       "      <th>DEST_AIRPORT_ID</th>\n",
       "      <th>DEST_COUNT</th>\n",
       "    </tr>\n",
       "  </thead>\n",
       "  <tbody>\n",
       "    <tr>\n",
       "      <th>0</th>\n",
       "      <td>10135</td>\n",
       "      <td>179</td>\n",
       "    </tr>\n",
       "    <tr>\n",
       "      <th>1</th>\n",
       "      <td>10140</td>\n",
       "      <td>1763</td>\n",
       "    </tr>\n",
       "    <tr>\n",
       "      <th>2</th>\n",
       "      <td>10141</td>\n",
       "      <td>62</td>\n",
       "    </tr>\n",
       "    <tr>\n",
       "      <th>3</th>\n",
       "      <td>10146</td>\n",
       "      <td>40</td>\n",
       "    </tr>\n",
       "    <tr>\n",
       "      <th>4</th>\n",
       "      <td>10154</td>\n",
       "      <td>176</td>\n",
       "    </tr>\n",
       "  </tbody>\n",
       "</table>\n",
       "</div>"
      ],
      "text/plain": [
       "   DEST_AIRPORT_ID  DEST_COUNT\n",
       "0            10135         179\n",
       "1            10140        1763\n",
       "2            10141          62\n",
       "3            10146          40\n",
       "4            10154         176"
      ]
     },
     "execution_count": 21,
     "metadata": {},
     "output_type": "execute_result"
    }
   ],
   "source": [
    "#\n",
    "dests = segments[['DEST_AIRPORT_ID', 'FL_COUNT']].groupby('DEST_AIRPORT_ID', as_index=False).sum()\n",
    "dests.rename(columns={'FL_COUNT':'DEST_COUNT'}, inplace=True)\n",
    "#\n",
    "\n",
    "print(\"Number of unique destinations:\", len(dests))\n",
    "dests.head()"
   ]
  },
  {
   "cell_type": "code",
   "execution_count": 22,
   "metadata": {
    "nbgrader": {
     "grade": true,
     "grade_id": "dests_test",
     "locked": true,
     "points": 2,
     "schema_version": 1,
     "solution": false
    }
   },
   "outputs": [
    {
     "name": "stdout",
     "output_type": "stream",
     "text": [
      "\n",
      "(Passed!)\n"
     ]
    }
   ],
   "source": [
    "# Test cell: `dests_test`\n",
    "\n",
    "if False:\n",
    "    dests.to_csv('dests_soln.csv', index=False)\n",
    "dests_soln = pd.read_csv('{}{}'.format(DATA_PATH, 'dests_soln.csv'))\n",
    "\n",
    "assert tibbles_are_equivalent(dests, dests_soln), \"Your solution does not match the instructors'.\"\n",
    "\n",
    "print(\"\\n(Passed!)\")"
   ]
  },
  {
   "cell_type": "markdown",
   "metadata": {
    "nbgrader": {
     "grade": false,
     "grade_id": "exercise_3",
     "locked": true,
     "schema_version": 1,
     "solution": false
    }
   },
   "source": [
    "**Exercise 3** (2 points). Compute a tibble, `dests_top10`, containing the top 10 destinations (i.e., rows of `dests`) by inbound flight count. The column names should be the same as `origins_top10` and the rows should be sorted in decreasing order by count."
   ]
  },
  {
   "cell_type": "code",
   "execution_count": 23,
   "metadata": {},
   "outputs": [
    {
     "data": {
      "text/html": [
       "<div>\n",
       "<style scoped>\n",
       "    .dataframe tbody tr th:only-of-type {\n",
       "        vertical-align: middle;\n",
       "    }\n",
       "\n",
       "    .dataframe tbody tr th {\n",
       "        vertical-align: top;\n",
       "    }\n",
       "\n",
       "    .dataframe thead th {\n",
       "        text-align: right;\n",
       "    }\n",
       "</style>\n",
       "<table border=\"1\" class=\"dataframe\">\n",
       "  <thead>\n",
       "    <tr style=\"text-align: right;\">\n",
       "      <th></th>\n",
       "      <th>ID</th>\n",
       "      <th>Count</th>\n",
       "      <th>Description</th>\n",
       "    </tr>\n",
       "  </thead>\n",
       "  <tbody>\n",
       "    <tr>\n",
       "      <th>0</th>\n",
       "      <td>10397</td>\n",
       "      <td>31899</td>\n",
       "      <td>Atlanta, GA: Hartsfield-Jackson Atlanta Intern...</td>\n",
       "    </tr>\n",
       "    <tr>\n",
       "      <th>1</th>\n",
       "      <td>13930</td>\n",
       "      <td>25757</td>\n",
       "      <td>Chicago, IL: Chicago O'Hare International</td>\n",
       "    </tr>\n",
       "    <tr>\n",
       "      <th>2</th>\n",
       "      <td>11292</td>\n",
       "      <td>20891</td>\n",
       "      <td>Denver, CO: Denver International</td>\n",
       "    </tr>\n",
       "    <tr>\n",
       "      <th>3</th>\n",
       "      <td>12892</td>\n",
       "      <td>19399</td>\n",
       "      <td>Los Angeles, CA: Los Angeles International</td>\n",
       "    </tr>\n",
       "    <tr>\n",
       "      <th>4</th>\n",
       "      <td>14771</td>\n",
       "      <td>16641</td>\n",
       "      <td>San Francisco, CA: San Francisco International</td>\n",
       "    </tr>\n",
       "    <tr>\n",
       "      <th>5</th>\n",
       "      <td>11298</td>\n",
       "      <td>15977</td>\n",
       "      <td>Dallas/Fort Worth, TX: Dallas/Fort Worth Inter...</td>\n",
       "    </tr>\n",
       "    <tr>\n",
       "      <th>6</th>\n",
       "      <td>14747</td>\n",
       "      <td>13578</td>\n",
       "      <td>Seattle, WA: Seattle/Tacoma International</td>\n",
       "    </tr>\n",
       "    <tr>\n",
       "      <th>7</th>\n",
       "      <td>12889</td>\n",
       "      <td>13367</td>\n",
       "      <td>Las Vegas, NV: McCarran International</td>\n",
       "    </tr>\n",
       "    <tr>\n",
       "      <th>8</th>\n",
       "      <td>14107</td>\n",
       "      <td>13040</td>\n",
       "      <td>Phoenix, AZ: Phoenix Sky Harbor International</td>\n",
       "    </tr>\n",
       "    <tr>\n",
       "      <th>9</th>\n",
       "      <td>13487</td>\n",
       "      <td>12808</td>\n",
       "      <td>Minneapolis, MN: Minneapolis-St Paul Internati...</td>\n",
       "    </tr>\n",
       "  </tbody>\n",
       "</table>\n",
       "</div>"
      ],
      "text/plain": [
       "      ID  Count                                        Description\n",
       "0  10397  31899  Atlanta, GA: Hartsfield-Jackson Atlanta Intern...\n",
       "1  13930  25757          Chicago, IL: Chicago O'Hare International\n",
       "2  11292  20891                   Denver, CO: Denver International\n",
       "3  12892  19399         Los Angeles, CA: Los Angeles International\n",
       "4  14771  16641     San Francisco, CA: San Francisco International\n",
       "5  11298  15977  Dallas/Fort Worth, TX: Dallas/Fort Worth Inter...\n",
       "6  14747  13578          Seattle, WA: Seattle/Tacoma International\n",
       "7  12889  13367              Las Vegas, NV: McCarran International\n",
       "8  14107  13040      Phoenix, AZ: Phoenix Sky Harbor International\n",
       "9  13487  12808  Minneapolis, MN: Minneapolis-St Paul Internati..."
      ]
     },
     "execution_count": 23,
     "metadata": {},
     "output_type": "execute_result"
    }
   ],
   "source": [
    "origins_top10 = pd.DataFrame()\n",
    "origins_temp = origins.sort_values(by='ORIGIN_COUNT', ascending=False)[:10]\n",
    "# display(origins_temp.shape)\n",
    "origins_top10 = origins_temp.merge(airport_codes, how='left', left_on='ORIGIN_AIRPORT_ID', right_on='Code')\n",
    "origins_top10.rename(columns={\n",
    "    'ORIGIN_AIRPORT_ID':'ID',\n",
    "    'ORIGIN_COUNT':'Count'\n",
    "}, inplace=True)\n",
    "origins_top10.drop('Code', axis=1, inplace=True)\n",
    "###\n",
    "\n",
    "# Prints the top 10, according to your calculation:\n",
    "origins_top10"
   ]
  },
  {
   "cell_type": "code",
   "execution_count": 24,
   "metadata": {
    "nbgrader": {
     "grade": false,
     "grade_id": "dests_top10",
     "locked": false,
     "schema_version": 1,
     "solution": true
    }
   },
   "outputs": [
    {
     "name": "stdout",
     "output_type": "stream",
     "text": [
      "Your computed top 10 destinations:\n"
     ]
    },
    {
     "data": {
      "text/html": [
       "<div>\n",
       "<style scoped>\n",
       "    .dataframe tbody tr th:only-of-type {\n",
       "        vertical-align: middle;\n",
       "    }\n",
       "\n",
       "    .dataframe tbody tr th {\n",
       "        vertical-align: top;\n",
       "    }\n",
       "\n",
       "    .dataframe thead th {\n",
       "        text-align: right;\n",
       "    }\n",
       "</style>\n",
       "<table border=\"1\" class=\"dataframe\">\n",
       "  <thead>\n",
       "    <tr style=\"text-align: right;\">\n",
       "      <th></th>\n",
       "      <th>ID</th>\n",
       "      <th>Count</th>\n",
       "      <th>Description</th>\n",
       "    </tr>\n",
       "  </thead>\n",
       "  <tbody>\n",
       "    <tr>\n",
       "      <th>0</th>\n",
       "      <td>10397</td>\n",
       "      <td>31901</td>\n",
       "      <td>Atlanta, GA: Hartsfield-Jackson Atlanta Intern...</td>\n",
       "    </tr>\n",
       "    <tr>\n",
       "      <th>1</th>\n",
       "      <td>13930</td>\n",
       "      <td>25778</td>\n",
       "      <td>Chicago, IL: Chicago O'Hare International</td>\n",
       "    </tr>\n",
       "    <tr>\n",
       "      <th>2</th>\n",
       "      <td>11292</td>\n",
       "      <td>20897</td>\n",
       "      <td>Denver, CO: Denver International</td>\n",
       "    </tr>\n",
       "    <tr>\n",
       "      <th>3</th>\n",
       "      <td>12892</td>\n",
       "      <td>19387</td>\n",
       "      <td>Los Angeles, CA: Los Angeles International</td>\n",
       "    </tr>\n",
       "    <tr>\n",
       "      <th>4</th>\n",
       "      <td>14771</td>\n",
       "      <td>16651</td>\n",
       "      <td>San Francisco, CA: San Francisco International</td>\n",
       "    </tr>\n",
       "    <tr>\n",
       "      <th>5</th>\n",
       "      <td>11298</td>\n",
       "      <td>15978</td>\n",
       "      <td>Dallas/Fort Worth, TX: Dallas/Fort Worth Inter...</td>\n",
       "    </tr>\n",
       "    <tr>\n",
       "      <th>6</th>\n",
       "      <td>14747</td>\n",
       "      <td>13582</td>\n",
       "      <td>Seattle, WA: Seattle/Tacoma International</td>\n",
       "    </tr>\n",
       "    <tr>\n",
       "      <th>7</th>\n",
       "      <td>12889</td>\n",
       "      <td>13374</td>\n",
       "      <td>Las Vegas, NV: McCarran International</td>\n",
       "    </tr>\n",
       "    <tr>\n",
       "      <th>8</th>\n",
       "      <td>14107</td>\n",
       "      <td>13039</td>\n",
       "      <td>Phoenix, AZ: Phoenix Sky Harbor International</td>\n",
       "    </tr>\n",
       "    <tr>\n",
       "      <th>9</th>\n",
       "      <td>13487</td>\n",
       "      <td>12800</td>\n",
       "      <td>Minneapolis, MN: Minneapolis-St Paul Internati...</td>\n",
       "    </tr>\n",
       "  </tbody>\n",
       "</table>\n",
       "</div>"
      ],
      "text/plain": [
       "      ID  Count                                        Description\n",
       "0  10397  31901  Atlanta, GA: Hartsfield-Jackson Atlanta Intern...\n",
       "1  13930  25778          Chicago, IL: Chicago O'Hare International\n",
       "2  11292  20897                   Denver, CO: Denver International\n",
       "3  12892  19387         Los Angeles, CA: Los Angeles International\n",
       "4  14771  16651     San Francisco, CA: San Francisco International\n",
       "5  11298  15978  Dallas/Fort Worth, TX: Dallas/Fort Worth Inter...\n",
       "6  14747  13582          Seattle, WA: Seattle/Tacoma International\n",
       "7  12889  13374              Las Vegas, NV: McCarran International\n",
       "8  14107  13039      Phoenix, AZ: Phoenix Sky Harbor International\n",
       "9  13487  12800  Minneapolis, MN: Minneapolis-St Paul Internati..."
      ]
     },
     "execution_count": 24,
     "metadata": {},
     "output_type": "execute_result"
    }
   ],
   "source": [
    "#\n",
    "dests_top10 = pd.DataFrame()\n",
    "dests_temp = dests.sort_values(by='DEST_COUNT', ascending=False)[:10]\n",
    "dests_top10 = dests_temp.merge(airport_codes, how='left', left_on='DEST_AIRPORT_ID', right_on='Code')\n",
    "dests_top10.rename(columns={\n",
    "    'DEST_AIRPORT_ID':'ID',\n",
    "    'DEST_COUNT':'Count'\n",
    "}, inplace=True)\n",
    "dests_top10.drop('Code', axis=1, inplace=True)\n",
    "#\n",
    "\n",
    "print(\"Your computed top 10 destinations:\")\n",
    "dests_top10"
   ]
  },
  {
   "cell_type": "code",
   "execution_count": 25,
   "metadata": {
    "nbgrader": {
     "grade": true,
     "grade_id": "dests_top10_test_entries",
     "locked": true,
     "points": "1",
     "solution": false
    }
   },
   "outputs": [
    {
     "name": "stdout",
     "output_type": "stream",
     "text": [
      "=== Instructor's solution ===\n"
     ]
    },
    {
     "data": {
      "text/html": [
       "<div>\n",
       "<style scoped>\n",
       "    .dataframe tbody tr th:only-of-type {\n",
       "        vertical-align: middle;\n",
       "    }\n",
       "\n",
       "    .dataframe tbody tr th {\n",
       "        vertical-align: top;\n",
       "    }\n",
       "\n",
       "    .dataframe thead th {\n",
       "        text-align: right;\n",
       "    }\n",
       "</style>\n",
       "<table border=\"1\" class=\"dataframe\">\n",
       "  <thead>\n",
       "    <tr style=\"text-align: right;\">\n",
       "      <th></th>\n",
       "      <th>ID</th>\n",
       "      <th>Count</th>\n",
       "      <th>Description</th>\n",
       "    </tr>\n",
       "  </thead>\n",
       "  <tbody>\n",
       "    <tr>\n",
       "      <th>0</th>\n",
       "      <td>10397</td>\n",
       "      <td>31901</td>\n",
       "      <td>Atlanta, GA: Hartsfield-Jackson Atlanta Intern...</td>\n",
       "    </tr>\n",
       "    <tr>\n",
       "      <th>1</th>\n",
       "      <td>13930</td>\n",
       "      <td>25778</td>\n",
       "      <td>Chicago, IL: Chicago O'Hare International</td>\n",
       "    </tr>\n",
       "    <tr>\n",
       "      <th>2</th>\n",
       "      <td>11292</td>\n",
       "      <td>20897</td>\n",
       "      <td>Denver, CO: Denver International</td>\n",
       "    </tr>\n",
       "    <tr>\n",
       "      <th>3</th>\n",
       "      <td>12892</td>\n",
       "      <td>19387</td>\n",
       "      <td>Los Angeles, CA: Los Angeles International</td>\n",
       "    </tr>\n",
       "    <tr>\n",
       "      <th>4</th>\n",
       "      <td>14771</td>\n",
       "      <td>16651</td>\n",
       "      <td>San Francisco, CA: San Francisco International</td>\n",
       "    </tr>\n",
       "    <tr>\n",
       "      <th>5</th>\n",
       "      <td>11298</td>\n",
       "      <td>15978</td>\n",
       "      <td>Dallas/Fort Worth, TX: Dallas/Fort Worth Inter...</td>\n",
       "    </tr>\n",
       "    <tr>\n",
       "      <th>6</th>\n",
       "      <td>14747</td>\n",
       "      <td>13582</td>\n",
       "      <td>Seattle, WA: Seattle/Tacoma International</td>\n",
       "    </tr>\n",
       "    <tr>\n",
       "      <th>7</th>\n",
       "      <td>12889</td>\n",
       "      <td>13374</td>\n",
       "      <td>Las Vegas, NV: McCarran International</td>\n",
       "    </tr>\n",
       "    <tr>\n",
       "      <th>8</th>\n",
       "      <td>14107</td>\n",
       "      <td>13039</td>\n",
       "      <td>Phoenix, AZ: Phoenix Sky Harbor International</td>\n",
       "    </tr>\n",
       "    <tr>\n",
       "      <th>9</th>\n",
       "      <td>13487</td>\n",
       "      <td>12800</td>\n",
       "      <td>Minneapolis, MN: Minneapolis-St Paul Internati...</td>\n",
       "    </tr>\n",
       "  </tbody>\n",
       "</table>\n",
       "</div>"
      ],
      "text/plain": [
       "      ID  Count                                        Description\n",
       "0  10397  31901  Atlanta, GA: Hartsfield-Jackson Atlanta Intern...\n",
       "1  13930  25778          Chicago, IL: Chicago O'Hare International\n",
       "2  11292  20897                   Denver, CO: Denver International\n",
       "3  12892  19387         Los Angeles, CA: Los Angeles International\n",
       "4  14771  16651     San Francisco, CA: San Francisco International\n",
       "5  11298  15978  Dallas/Fort Worth, TX: Dallas/Fort Worth Inter...\n",
       "6  14747  13582          Seattle, WA: Seattle/Tacoma International\n",
       "7  12889  13374              Las Vegas, NV: McCarran International\n",
       "8  14107  13039      Phoenix, AZ: Phoenix Sky Harbor International\n",
       "9  13487  12800  Minneapolis, MN: Minneapolis-St Paul Internati..."
      ]
     },
     "metadata": {},
     "output_type": "display_data"
    }
   ],
   "source": [
    "# Test cell: `dests_top10_test_entries`\n",
    "\n",
    "if False:\n",
    "    dests_top10.to_csv('dests_top10_soln.csv', index=False)\n",
    "dests_top10_soln = pd.read_csv('{}{}'.format(DATA_PATH, 'dests_top10_soln.csv'))\n",
    "\n",
    "print(\"=== Instructor's solution ===\")\n",
    "display(dests_top10_soln)\n",
    "    \n",
    "assert tibbles_are_equivalent(dests_top10, dests_top10_soln), \\\n",
    "       \"Your table does not have the same entries as the solution.\""
   ]
  },
  {
   "cell_type": "code",
   "execution_count": 26,
   "metadata": {
    "nbgrader": {
     "grade": true,
     "grade_id": "dests_top10_test_order",
     "locked": true,
     "points": "1",
     "schema_version": 1,
     "solution": false
    },
    "scrolled": true
   },
   "outputs": [
    {
     "name": "stdout",
     "output_type": "stream",
     "text": [
      "\n",
      "(Passed!)\n"
     ]
    }
   ],
   "source": [
    "# Test cell: `dests_top10_test_order`\n",
    "\n",
    "counts_0_9 = dests_top10['Count'].iloc[:9].values\n",
    "counts_1_10 = dests_top10['Count'].iloc[1:].values\n",
    "assert (counts_0_9 >= counts_1_10).all(), \\\n",
    "       \"Are your rows sorted in descending order?\"\n",
    "\n",
    "print(\"\\n(Passed!)\")"
   ]
  },
  {
   "cell_type": "markdown",
   "metadata": {
    "nbgrader": {
     "grade": false,
     "grade_id": "n_actual_intro",
     "locked": true,
     "schema_version": 1,
     "solution": false
    }
   },
   "source": [
    "The number of actual origins does equal the number of actual destinations. Let's store this value for later use."
   ]
  },
  {
   "cell_type": "code",
   "execution_count": 27,
   "metadata": {
    "nbgrader": {
     "grade": false,
     "grade_id": "n_actual",
     "locked": true,
     "schema_version": 1,
     "solution": false
    }
   },
   "outputs": [
    {
     "name": "stdout",
     "output_type": "stream",
     "text": [
      "Number of actual locations (whether origin or destination): 300\n"
     ]
    }
   ],
   "source": [
    "n_actual = len(set(origins['ORIGIN_AIRPORT_ID']) | set(dests['DEST_AIRPORT_ID']))\n",
    "print(\"Number of actual locations (whether origin or destination):\", n_actual)"
   ]
  },
  {
   "cell_type": "markdown",
   "metadata": {
    "nbgrader": {
     "grade": false,
     "grade_id": "preprocess_intro",
     "locked": true,
     "schema_version": 1,
     "solution": false
    }
   },
   "source": [
    "## Part 1: Constructing the state-transition matrix\n",
    "\n",
    "Now that you have cleaned up the data, let's prepare it for subsequent analysis. Start by constructing the _probability state-transition matrix_ for the airport network. Denote this matrix by $P \\equiv [p_{ij}]$, where $p_{ij}$ is the conditional probability that a random flyer departs from airport $i$ and arrives at airport $j$ given that he or she is currently at airport $i$."
   ]
  },
  {
   "cell_type": "markdown",
   "metadata": {
    "nbgrader": {
     "grade": false,
     "grade_id": "preprocess_outline_tasks",
     "locked": true,
     "schema_version": 1,
     "solution": false
    }
   },
   "source": [
    "To build $P$, let's use SciPy's sparse matrix facilities. To do so, you will need to carry out the following two steps:\n",
    "\n",
    "1. _Map airport codes to matrix indices._ An `m`-by-`n` sparse matrix in SciPy uses the zero-based values 0, 1, ..., `m`-1 and 0, ..., `n`-1 to refer to row and column indices. Therefore, you will need to map the airport codes to such index values.\n",
    "2. _Derive weights, $p_{ij}$._ You will need to decide how to determine $p_{ij}$.\n",
    "\n",
    "Let's walk through each of these steps next."
   ]
  },
  {
   "cell_type": "markdown",
   "metadata": {
    "nbgrader": {
     "grade": false,
     "grade_id": "preprocess_step_1",
     "locked": true,
     "schema_version": 1,
     "solution": false
    }
   },
   "source": [
    "**Step 1: Mapping airport codes to integers.** Luckily, you already have a code-to-integer mapping, which is in the column `airport_codes['Code']` mapped to the dataframe's `index`.\n",
    "\n",
    "As a first step, let's make note of the number of airports, which is nothing more than the largest index value."
   ]
  },
  {
   "cell_type": "code",
   "execution_count": 28,
   "metadata": {
    "nbgrader": {
     "grade": false,
     "grade_id": "n_airports",
     "locked": true,
     "schema_version": 1,
     "solution": false
    }
   },
   "outputs": [
    {
     "name": "stdout",
     "output_type": "stream",
     "text": [
      "Note: There are 6436 airports.\n"
     ]
    }
   ],
   "source": [
    "n_airports = airport_codes.index.max() + 1\n",
    "print(\"Note: There are\", n_airports, \"airports.\")"
   ]
  },
  {
   "cell_type": "markdown",
   "metadata": {
    "nbgrader": {
     "grade": false,
     "grade_id": "preprocess_add_origin_id",
     "locked": true,
     "schema_version": 1,
     "solution": false
    }
   },
   "source": [
    "Next, let's add another column to `segments` called `ORIGIN_INDEX`, which will hold the id corresponding to the origin:"
   ]
  },
  {
   "cell_type": "code",
   "execution_count": 29,
   "metadata": {},
   "outputs": [
    {
     "data": {
      "text/plain": [
       "Index(['ORIGIN_AIRPORT_ID', 'DEST_AIRPORT_ID', 'FL_COUNT'], dtype='object')"
      ]
     },
     "execution_count": 29,
     "metadata": {},
     "output_type": "execute_result"
    }
   ],
   "source": [
    "# Recall:\n",
    "segments.columns"
   ]
  },
  {
   "cell_type": "code",
   "execution_count": 30,
   "metadata": {
    "nbgrader": {
     "grade": false,
     "grade_id": "origin_ids",
     "locked": true,
     "schema_version": 1,
     "solution": false
    }
   },
   "outputs": [
    {
     "data": {
      "text/html": [
       "<div>\n",
       "<style scoped>\n",
       "    .dataframe tbody tr th:only-of-type {\n",
       "        vertical-align: middle;\n",
       "    }\n",
       "\n",
       "    .dataframe tbody tr th {\n",
       "        vertical-align: top;\n",
       "    }\n",
       "\n",
       "    .dataframe thead th {\n",
       "        text-align: right;\n",
       "    }\n",
       "</style>\n",
       "<table border=\"1\" class=\"dataframe\">\n",
       "  <thead>\n",
       "    <tr style=\"text-align: right;\">\n",
       "      <th></th>\n",
       "      <th>ORIGIN_AIRPORT_ID</th>\n",
       "      <th>DEST_AIRPORT_ID</th>\n",
       "      <th>FL_COUNT</th>\n",
       "      <th>ORIGIN_INDEX</th>\n",
       "    </tr>\n",
       "  </thead>\n",
       "  <tbody>\n",
       "    <tr>\n",
       "      <th>0</th>\n",
       "      <td>10135</td>\n",
       "      <td>10397</td>\n",
       "      <td>77</td>\n",
       "      <td>119</td>\n",
       "    </tr>\n",
       "    <tr>\n",
       "      <th>1</th>\n",
       "      <td>10135</td>\n",
       "      <td>11433</td>\n",
       "      <td>85</td>\n",
       "      <td>119</td>\n",
       "    </tr>\n",
       "    <tr>\n",
       "      <th>2</th>\n",
       "      <td>10135</td>\n",
       "      <td>13930</td>\n",
       "      <td>18</td>\n",
       "      <td>119</td>\n",
       "    </tr>\n",
       "    <tr>\n",
       "      <th>3</th>\n",
       "      <td>10140</td>\n",
       "      <td>10397</td>\n",
       "      <td>93</td>\n",
       "      <td>124</td>\n",
       "    </tr>\n",
       "    <tr>\n",
       "      <th>4</th>\n",
       "      <td>10140</td>\n",
       "      <td>10423</td>\n",
       "      <td>4</td>\n",
       "      <td>124</td>\n",
       "    </tr>\n",
       "  </tbody>\n",
       "</table>\n",
       "</div>"
      ],
      "text/plain": [
       "   ORIGIN_AIRPORT_ID  DEST_AIRPORT_ID  FL_COUNT  ORIGIN_INDEX\n",
       "0              10135            10397        77           119\n",
       "1              10135            11433        85           119\n",
       "2              10135            13930        18           119\n",
       "3              10140            10397        93           124\n",
       "4              10140            10423         4           124"
      ]
     },
     "execution_count": 30,
     "metadata": {},
     "output_type": "execute_result"
    }
   ],
   "source": [
    "# Extract the `Code` column and index from `airport_codes`, storing them in\n",
    "# a temporary tibble with new names, `ORIGIN_AIRPORT_ID` and `ORIGIN_INDEX`.\n",
    "origin_indices = airport_codes[['Code']].rename(columns={'Code': 'ORIGIN_AIRPORT_ID'})\n",
    "origin_indices['ORIGIN_INDEX'] = airport_codes.index\n",
    "                               \n",
    "# Since you might run this code cell multiple times, the following\n",
    "# check prevents `ORIGIN_ID` from appearing more than once.\n",
    "if 'ORIGIN_INDEX' in segments.columns:\n",
    "    del segments['ORIGIN_INDEX']\n",
    "    \n",
    "# Perform the merge as a left-join of `segments` and `origin_ids`.\n",
    "segments = segments.merge(origin_indices, on='ORIGIN_AIRPORT_ID', how='left')\n",
    "segments.head()"
   ]
  },
  {
   "cell_type": "markdown",
   "metadata": {
    "nbgrader": {
     "grade": false,
     "grade_id": "exercise_4",
     "locked": true,
     "schema_version": 1,
     "solution": false
    }
   },
   "source": [
    "**Exercise 4** (1 point). Analogous to the preceding procedure, create a new column called `segments['DEST_INDEX']` to hold the integer index of each segment's _destination_."
   ]
  },
  {
   "cell_type": "code",
   "execution_count": 31,
   "metadata": {},
   "outputs": [
    {
     "data": {
      "text/html": [
       "<div>\n",
       "<style scoped>\n",
       "    .dataframe tbody tr th:only-of-type {\n",
       "        vertical-align: middle;\n",
       "    }\n",
       "\n",
       "    .dataframe tbody tr th {\n",
       "        vertical-align: top;\n",
       "    }\n",
       "\n",
       "    .dataframe thead th {\n",
       "        text-align: right;\n",
       "    }\n",
       "</style>\n",
       "<table border=\"1\" class=\"dataframe\">\n",
       "  <thead>\n",
       "    <tr style=\"text-align: right;\">\n",
       "      <th></th>\n",
       "      <th>Code</th>\n",
       "      <th>Description</th>\n",
       "    </tr>\n",
       "  </thead>\n",
       "  <tbody>\n",
       "    <tr>\n",
       "      <th>0</th>\n",
       "      <td>10001</td>\n",
       "      <td>Afognak Lake, AK: Afognak Lake Airport</td>\n",
       "    </tr>\n",
       "    <tr>\n",
       "      <th>1</th>\n",
       "      <td>10003</td>\n",
       "      <td>Granite Mountain, AK: Bear Creek Mining Strip</td>\n",
       "    </tr>\n",
       "    <tr>\n",
       "      <th>2</th>\n",
       "      <td>10004</td>\n",
       "      <td>Lik, AK: Lik Mining Camp</td>\n",
       "    </tr>\n",
       "  </tbody>\n",
       "</table>\n",
       "</div>"
      ],
      "text/plain": [
       "    Code                                    Description\n",
       "0  10001         Afognak Lake, AK: Afognak Lake Airport\n",
       "1  10003  Granite Mountain, AK: Bear Creek Mining Strip\n",
       "2  10004                       Lik, AK: Lik Mining Camp"
      ]
     },
     "execution_count": 31,
     "metadata": {},
     "output_type": "execute_result"
    }
   ],
   "source": [
    "airport_codes.head(3)"
   ]
  },
  {
   "cell_type": "code",
   "execution_count": 32,
   "metadata": {
    "nbgrader": {
     "grade": false,
     "grade_id": "dest_id",
     "locked": false,
     "schema_version": 1,
     "solution": true
    }
   },
   "outputs": [
    {
     "data": {
      "text/html": [
       "<div>\n",
       "<style scoped>\n",
       "    .dataframe tbody tr th:only-of-type {\n",
       "        vertical-align: middle;\n",
       "    }\n",
       "\n",
       "    .dataframe tbody tr th {\n",
       "        vertical-align: top;\n",
       "    }\n",
       "\n",
       "    .dataframe thead th {\n",
       "        text-align: right;\n",
       "    }\n",
       "</style>\n",
       "<table border=\"1\" class=\"dataframe\">\n",
       "  <thead>\n",
       "    <tr style=\"text-align: right;\">\n",
       "      <th></th>\n",
       "      <th>ORIGIN_AIRPORT_ID</th>\n",
       "      <th>DEST_AIRPORT_ID</th>\n",
       "      <th>FL_COUNT</th>\n",
       "      <th>ORIGIN_INDEX</th>\n",
       "      <th>DEST_INDEX</th>\n",
       "    </tr>\n",
       "  </thead>\n",
       "  <tbody>\n",
       "    <tr>\n",
       "      <th>0</th>\n",
       "      <td>10135</td>\n",
       "      <td>10397</td>\n",
       "      <td>77</td>\n",
       "      <td>119</td>\n",
       "      <td>373</td>\n",
       "    </tr>\n",
       "    <tr>\n",
       "      <th>1</th>\n",
       "      <td>10135</td>\n",
       "      <td>11433</td>\n",
       "      <td>85</td>\n",
       "      <td>119</td>\n",
       "      <td>1375</td>\n",
       "    </tr>\n",
       "    <tr>\n",
       "      <th>2</th>\n",
       "      <td>10135</td>\n",
       "      <td>13930</td>\n",
       "      <td>18</td>\n",
       "      <td>119</td>\n",
       "      <td>3770</td>\n",
       "    </tr>\n",
       "    <tr>\n",
       "      <th>3</th>\n",
       "      <td>10140</td>\n",
       "      <td>10397</td>\n",
       "      <td>93</td>\n",
       "      <td>124</td>\n",
       "      <td>373</td>\n",
       "    </tr>\n",
       "    <tr>\n",
       "      <th>4</th>\n",
       "      <td>10140</td>\n",
       "      <td>10423</td>\n",
       "      <td>4</td>\n",
       "      <td>124</td>\n",
       "      <td>399</td>\n",
       "    </tr>\n",
       "  </tbody>\n",
       "</table>\n",
       "</div>"
      ],
      "text/plain": [
       "   ORIGIN_AIRPORT_ID  DEST_AIRPORT_ID  FL_COUNT  ORIGIN_INDEX  DEST_INDEX\n",
       "0              10135            10397        77           119         373\n",
       "1              10135            11433        85           119        1375\n",
       "2              10135            13930        18           119        3770\n",
       "3              10140            10397        93           124         373\n",
       "4              10140            10423         4           124         399"
      ]
     },
     "execution_count": 32,
     "metadata": {},
     "output_type": "execute_result"
    }
   ],
   "source": [
    "#\n",
    "dest_indices = airport_codes[['Code']].rename(columns={'Code':'DEST_AIRPORT_ID'})\n",
    "dest_indices['DEST_INDEX'] = airport_codes.index\n",
    "\n",
    "if 'DEST_INDEX' in segments.columns:\n",
    "    del segments['DEST_INDEX']\n",
    "    \n",
    "segments = segments.merge(dest_indices, on='DEST_AIRPORT_ID', how='left')\n",
    "\n",
    "# Visually inspect your result:\n",
    "segments.head()"
   ]
  },
  {
   "cell_type": "code",
   "execution_count": 33,
   "metadata": {
    "nbgrader": {
     "grade": true,
     "grade_id": "dest_id_test",
     "locked": true,
     "points": 1,
     "schema_version": 1,
     "solution": false
    }
   },
   "outputs": [
    {
     "name": "stdout",
     "output_type": "stream",
     "text": [
      "\n",
      "(Passed!)\n"
     ]
    }
   ],
   "source": [
    "# Test cell: `dest_id_test`\n",
    "\n",
    "if False:\n",
    "    segments.to_csv('segments_soln.csv', index=False)\n",
    "segments_soln = pd.read_csv('{}{}'.format(DATA_PATH, 'segments_soln.csv'))\n",
    "\n",
    "assert tibbles_are_equivalent(segments, segments_soln), \\\n",
    "       \"Your solution does not match the instructors'.\"\n",
    "    \n",
    "print(\"\\n(Passed!)\")"
   ]
  },
  {
   "cell_type": "markdown",
   "metadata": {
    "nbgrader": {
     "grade": false,
     "grade_id": "preprocess_step_2",
     "locked": true,
     "schema_version": 1,
     "solution": false
    }
   },
   "source": [
    "**Step 2: Computing edge weights.** Armed with the preceding mapping, let's next determine each segment's transition probability, or \"weight,\" $p_{ij}$.\n",
    "\n",
    "For each origin $i$, let $d_i$ be the number of outgoing edges, or _outdegree_. Note that this value is *not* the same as the total number of (historical) outbound _segments_; rather, let's take $d_i$ to be just the number of airports reachable directly from $i$. For instance, consider all flights departing the airport whose airport code is 10135:"
   ]
  },
  {
   "cell_type": "code",
   "execution_count": 34,
   "metadata": {
    "nbgrader": {
     "grade": false,
     "grade_id": "abe_departures",
     "locked": true,
     "schema_version": 1,
     "solution": false
    },
    "scrolled": true
   },
   "outputs": [
    {
     "data": {
      "text/html": [
       "<div>\n",
       "<style scoped>\n",
       "    .dataframe tbody tr th:only-of-type {\n",
       "        vertical-align: middle;\n",
       "    }\n",
       "\n",
       "    .dataframe tbody tr th {\n",
       "        vertical-align: top;\n",
       "    }\n",
       "\n",
       "    .dataframe thead th {\n",
       "        text-align: right;\n",
       "    }\n",
       "</style>\n",
       "<table border=\"1\" class=\"dataframe\">\n",
       "  <thead>\n",
       "    <tr style=\"text-align: right;\">\n",
       "      <th></th>\n",
       "      <th>Code</th>\n",
       "      <th>Description</th>\n",
       "    </tr>\n",
       "  </thead>\n",
       "  <tbody>\n",
       "    <tr>\n",
       "      <th>119</th>\n",
       "      <td>10135</td>\n",
       "      <td>Allentown/Bethlehem/Easton, PA: Lehigh Valley ...</td>\n",
       "    </tr>\n",
       "  </tbody>\n",
       "</table>\n",
       "</div>"
      ],
      "text/plain": [
       "      Code                                        Description\n",
       "119  10135  Allentown/Bethlehem/Easton, PA: Lehigh Valley ..."
      ]
     },
     "metadata": {},
     "output_type": "display_data"
    },
    {
     "data": {
      "text/html": [
       "<div>\n",
       "<style scoped>\n",
       "    .dataframe tbody tr th:only-of-type {\n",
       "        vertical-align: middle;\n",
       "    }\n",
       "\n",
       "    .dataframe tbody tr th {\n",
       "        vertical-align: top;\n",
       "    }\n",
       "\n",
       "    .dataframe thead th {\n",
       "        text-align: right;\n",
       "    }\n",
       "</style>\n",
       "<table border=\"1\" class=\"dataframe\">\n",
       "  <thead>\n",
       "    <tr style=\"text-align: right;\">\n",
       "      <th></th>\n",
       "      <th>ORIGIN_AIRPORT_ID</th>\n",
       "      <th>DEST_AIRPORT_ID</th>\n",
       "      <th>FL_COUNT</th>\n",
       "      <th>ORIGIN_INDEX</th>\n",
       "      <th>DEST_INDEX</th>\n",
       "    </tr>\n",
       "  </thead>\n",
       "  <tbody>\n",
       "    <tr>\n",
       "      <th>0</th>\n",
       "      <td>10135</td>\n",
       "      <td>10397</td>\n",
       "      <td>77</td>\n",
       "      <td>119</td>\n",
       "      <td>373</td>\n",
       "    </tr>\n",
       "    <tr>\n",
       "      <th>1</th>\n",
       "      <td>10135</td>\n",
       "      <td>11433</td>\n",
       "      <td>85</td>\n",
       "      <td>119</td>\n",
       "      <td>1375</td>\n",
       "    </tr>\n",
       "    <tr>\n",
       "      <th>2</th>\n",
       "      <td>10135</td>\n",
       "      <td>13930</td>\n",
       "      <td>18</td>\n",
       "      <td>119</td>\n",
       "      <td>3770</td>\n",
       "    </tr>\n",
       "  </tbody>\n",
       "</table>\n",
       "</div>"
      ],
      "text/plain": [
       "   ORIGIN_AIRPORT_ID  DEST_AIRPORT_ID  FL_COUNT  ORIGIN_INDEX  DEST_INDEX\n",
       "0              10135            10397        77           119         373\n",
       "1              10135            11433        85           119        1375\n",
       "2              10135            13930        18           119        3770"
      ]
     },
     "metadata": {},
     "output_type": "display_data"
    },
    {
     "name": "stdout",
     "output_type": "stream",
     "text": [
      "Total outgoing segments: 180\n"
     ]
    }
   ],
   "source": [
    "display(airport_codes[airport_codes['Code'] == 10135])\n",
    "\n",
    "abe_segments = segments[segments['ORIGIN_AIRPORT_ID'] == 10135]\n",
    "display(abe_segments)\n",
    "\n",
    "print(\"Total outgoing segments:\", abe_segments['FL_COUNT'].sum())"
   ]
  },
  {
   "cell_type": "code",
   "execution_count": 35,
   "metadata": {
    "nbgrader": {
     "grade": false,
     "grade_id": "display_p_i_j_example",
     "locked": true,
     "schema_version": 1,
     "solution": false
    }
   },
   "outputs": [
    {
     "data": {
      "text/markdown": [
       "\n",
       "Though `ABE` has 180 outgoing segments,\n",
       "its outdegree or number of outgoing edges is just 3.\n",
       "Thus, `ABE`, whose airport id is $i=10135$, has $d_{10135} = 3$.\n"
      ],
      "text/plain": [
       "<IPython.core.display.Markdown object>"
      ]
     },
     "metadata": {},
     "output_type": "display_data"
    }
   ],
   "source": [
    "k_ABE = abe_segments['FL_COUNT'].sum()\n",
    "d_ABE = len(abe_segments)\n",
    "i_ABE = abe_segments['ORIGIN_AIRPORT_ID'].values[0]\n",
    "\n",
    "display(Markdown('''\n",
    "Though `ABE` has {} outgoing segments,\n",
    "its outdegree or number of outgoing edges is just {}.\n",
    "Thus, `ABE`, whose airport id is $i={}$, has $d_{{{}}} = {}$.\n",
    "'''.format(k_ABE, d_ABE, i_ABE, i_ABE, d_ABE)))"
   ]
  },
  {
   "cell_type": "markdown",
   "metadata": {
    "nbgrader": {
     "grade": false,
     "grade_id": "exercise_5",
     "locked": true,
     "schema_version": 1,
     "solution": false
    }
   },
   "source": [
    "**Exercise 5** (3 points). Add a new column named `OUTDEGREE` to the `segments` tibble that holds the outdegrees, $\\{d_i\\}$. That is, for each row whose airport _index_ (as opposed to code) is $i$, its entry of `OUTDEGREE` should be $d_i$.\n",
    "\n",
    "For instance, the rows of segments corresponding to airport ABE (code 10135 and matrix index 119) would look like this:\n",
    "\n",
    "ORIGIN_AIRPORT_ID | DEST_AIRPORT_ID | FL_COUNT | ORIGIN_INDEX | DEST_INDEX | OUTDEGREE\n",
    "------------------|-----------------|----------|--------------|------------|----------\n",
    "10135             | 10397           | 77       | 119          | 373        | 3\n",
    "10135             | 11433           | 85       | 119          | 1375       | 3\n",
    "10135             | 13930           | 18       | 119          | 3770       | 3"
   ]
  },
  {
   "cell_type": "code",
   "execution_count": 36,
   "metadata": {
    "scrolled": true
   },
   "outputs": [
    {
     "data": {
      "text/plain": [
       "(4191, 5)"
      ]
     },
     "execution_count": 36,
     "metadata": {},
     "output_type": "execute_result"
    }
   ],
   "source": [
    "segments.shape"
   ]
  },
  {
   "cell_type": "code",
   "execution_count": 37,
   "metadata": {
    "nbgrader": {
     "grade": false,
     "grade_id": "weights",
     "locked": false,
     "schema_version": 1,
     "solution": true
    }
   },
   "outputs": [
    {
     "data": {
      "text/html": [
       "<div>\n",
       "<style scoped>\n",
       "    .dataframe tbody tr th:only-of-type {\n",
       "        vertical-align: middle;\n",
       "    }\n",
       "\n",
       "    .dataframe tbody tr th {\n",
       "        vertical-align: top;\n",
       "    }\n",
       "\n",
       "    .dataframe thead th {\n",
       "        text-align: right;\n",
       "    }\n",
       "</style>\n",
       "<table border=\"1\" class=\"dataframe\">\n",
       "  <thead>\n",
       "    <tr style=\"text-align: right;\">\n",
       "      <th></th>\n",
       "      <th>ORIGIN_AIRPORT_ID</th>\n",
       "      <th>DEST_AIRPORT_ID</th>\n",
       "      <th>FL_COUNT</th>\n",
       "      <th>ORIGIN_INDEX</th>\n",
       "      <th>DEST_INDEX</th>\n",
       "      <th>OUTDEGREE</th>\n",
       "    </tr>\n",
       "  </thead>\n",
       "  <tbody>\n",
       "    <tr>\n",
       "      <th>0</th>\n",
       "      <td>10135</td>\n",
       "      <td>10397</td>\n",
       "      <td>77</td>\n",
       "      <td>119</td>\n",
       "      <td>373</td>\n",
       "      <td>3</td>\n",
       "    </tr>\n",
       "    <tr>\n",
       "      <th>1</th>\n",
       "      <td>10135</td>\n",
       "      <td>11433</td>\n",
       "      <td>85</td>\n",
       "      <td>119</td>\n",
       "      <td>1375</td>\n",
       "      <td>3</td>\n",
       "    </tr>\n",
       "    <tr>\n",
       "      <th>2</th>\n",
       "      <td>10135</td>\n",
       "      <td>13930</td>\n",
       "      <td>18</td>\n",
       "      <td>119</td>\n",
       "      <td>3770</td>\n",
       "      <td>3</td>\n",
       "    </tr>\n",
       "    <tr>\n",
       "      <th>3</th>\n",
       "      <td>10140</td>\n",
       "      <td>10397</td>\n",
       "      <td>93</td>\n",
       "      <td>124</td>\n",
       "      <td>373</td>\n",
       "      <td>23</td>\n",
       "    </tr>\n",
       "    <tr>\n",
       "      <th>4</th>\n",
       "      <td>10140</td>\n",
       "      <td>10423</td>\n",
       "      <td>4</td>\n",
       "      <td>124</td>\n",
       "      <td>399</td>\n",
       "      <td>23</td>\n",
       "    </tr>\n",
       "    <tr>\n",
       "      <th>5</th>\n",
       "      <td>10140</td>\n",
       "      <td>10821</td>\n",
       "      <td>64</td>\n",
       "      <td>124</td>\n",
       "      <td>792</td>\n",
       "      <td>23</td>\n",
       "    </tr>\n",
       "    <tr>\n",
       "      <th>6</th>\n",
       "      <td>10140</td>\n",
       "      <td>11259</td>\n",
       "      <td>143</td>\n",
       "      <td>124</td>\n",
       "      <td>1214</td>\n",
       "      <td>23</td>\n",
       "    </tr>\n",
       "    <tr>\n",
       "      <th>7</th>\n",
       "      <td>10140</td>\n",
       "      <td>11292</td>\n",
       "      <td>127</td>\n",
       "      <td>124</td>\n",
       "      <td>1245</td>\n",
       "      <td>23</td>\n",
       "    </tr>\n",
       "    <tr>\n",
       "      <th>8</th>\n",
       "      <td>10140</td>\n",
       "      <td>11298</td>\n",
       "      <td>150</td>\n",
       "      <td>124</td>\n",
       "      <td>1250</td>\n",
       "      <td>23</td>\n",
       "    </tr>\n",
       "    <tr>\n",
       "      <th>9</th>\n",
       "      <td>10140</td>\n",
       "      <td>12191</td>\n",
       "      <td>89</td>\n",
       "      <td>124</td>\n",
       "      <td>2106</td>\n",
       "      <td>23</td>\n",
       "    </tr>\n",
       "  </tbody>\n",
       "</table>\n",
       "</div>"
      ],
      "text/plain": [
       "   ORIGIN_AIRPORT_ID  DEST_AIRPORT_ID  FL_COUNT  ORIGIN_INDEX  DEST_INDEX  \\\n",
       "0              10135            10397        77           119         373   \n",
       "1              10135            11433        85           119        1375   \n",
       "2              10135            13930        18           119        3770   \n",
       "3              10140            10397        93           124         373   \n",
       "4              10140            10423         4           124         399   \n",
       "5              10140            10821        64           124         792   \n",
       "6              10140            11259       143           124        1214   \n",
       "7              10140            11292       127           124        1245   \n",
       "8              10140            11298       150           124        1250   \n",
       "9              10140            12191        89           124        2106   \n",
       "\n",
       "   OUTDEGREE  \n",
       "0          3  \n",
       "1          3  \n",
       "2          3  \n",
       "3         23  \n",
       "4         23  \n",
       "5         23  \n",
       "6         23  \n",
       "7         23  \n",
       "8         23  \n",
       "9         23  "
      ]
     },
     "execution_count": 37,
     "metadata": {},
     "output_type": "execute_result"
    }
   ],
   "source": [
    "# This `if` removes an existing `OUTDEGREE` column\n",
    "# in case you run this cell more than once.\n",
    "if 'OUTDEGREE' in segments.columns:\n",
    "    del segments['OUTDEGREE']\n",
    "\n",
    "###\n",
    "from collections import defaultdict\n",
    "\n",
    "# Create a defaultdict to hold the outdegrees\n",
    "outdegree_d = defaultdict(int)\n",
    "for i, code in enumerate(airport_codes['Code']):\n",
    "    sub_df = segments[segments['ORIGIN_AIRPORT_ID'] == code]\n",
    "    outdegree_d[code] = len(sub_df)\n",
    "outdegree_d = dict(outdegree_d)\n",
    "\n",
    "# Append this to the segments DataFrame\n",
    "outdegree_l = []\n",
    "for i, code in enumerate(segments['ORIGIN_AIRPORT_ID']):\n",
    "    outdegree_l.append(outdegree_d.get(code))\n",
    "\n",
    "# Create new column in segments\n",
    "segments['OUTDEGREE'] = outdegree_l\n",
    "    \n",
    "###\n",
    "\n",
    "# Visually inspect the first ten rows of your result:\n",
    "segments.head(10)"
   ]
  },
  {
   "cell_type": "code",
   "execution_count": 38,
   "metadata": {
    "nbgrader": {
     "grade": true,
     "grade_id": "weights_test",
     "locked": true,
     "points": 3,
     "schema_version": 1,
     "solution": false
    }
   },
   "outputs": [
    {
     "name": "stdout",
     "output_type": "stream",
     "text": [
      "\n",
      "(Passed!)\n"
     ]
    }
   ],
   "source": [
    "# Test cell: `weights_test`\n",
    "\n",
    "if False:\n",
    "    segments.to_csv('segments_outdegree_soln.csv', index=False)\n",
    "    \n",
    "segments_outdegree_soln = pd.read_csv('{}{}'.format(DATA_PATH, 'segments_outdegree_soln.csv'))\n",
    "\n",
    "assert tibbles_are_equivalent(segments, segments_outdegree_soln), \\\n",
    "       \"Your solution does not appear to match the instructors'.\"\n",
    "\n",
    "print(\"\\n(Passed!)\")"
   ]
  },
  {
   "cell_type": "markdown",
   "metadata": {
    "nbgrader": {
     "grade": false,
     "grade_id": "cell-ef03209a290ef1d1",
     "locked": true,
     "schema_version": 1,
     "solution": false
    }
   },
   "source": [
    "**From outdegree to weight.** Given the outdegree $d_i$, let $p_{ij} = \\frac{1}{d_i}$. In other words, suppose that a random flyer at airport $i$ is _equally likely_ to pick any of the destinations directly reachable from $i$. The following code cell stores that value in a new column, `WEIGHT`."
   ]
  },
  {
   "cell_type": "code",
   "execution_count": 39,
   "metadata": {
    "nbgrader": {
     "grade": false,
     "grade_id": "cell-03271168175f9c17",
     "locked": true,
     "schema_version": 1,
     "solution": false
    },
    "scrolled": true
   },
   "outputs": [
    {
     "data": {
      "text/html": [
       "<div>\n",
       "<style scoped>\n",
       "    .dataframe tbody tr th:only-of-type {\n",
       "        vertical-align: middle;\n",
       "    }\n",
       "\n",
       "    .dataframe tbody tr th {\n",
       "        vertical-align: top;\n",
       "    }\n",
       "\n",
       "    .dataframe thead th {\n",
       "        text-align: right;\n",
       "    }\n",
       "</style>\n",
       "<table border=\"1\" class=\"dataframe\">\n",
       "  <thead>\n",
       "    <tr style=\"text-align: right;\">\n",
       "      <th></th>\n",
       "      <th>ORIGIN_AIRPORT_ID</th>\n",
       "      <th>DEST_AIRPORT_ID</th>\n",
       "      <th>FL_COUNT</th>\n",
       "      <th>ORIGIN_INDEX</th>\n",
       "      <th>DEST_INDEX</th>\n",
       "      <th>OUTDEGREE</th>\n",
       "      <th>WEIGHT</th>\n",
       "    </tr>\n",
       "  </thead>\n",
       "  <tbody>\n",
       "    <tr>\n",
       "      <th>0</th>\n",
       "      <td>10135</td>\n",
       "      <td>10397</td>\n",
       "      <td>77</td>\n",
       "      <td>119</td>\n",
       "      <td>373</td>\n",
       "      <td>3</td>\n",
       "      <td>0.333333</td>\n",
       "    </tr>\n",
       "    <tr>\n",
       "      <th>1</th>\n",
       "      <td>10135</td>\n",
       "      <td>11433</td>\n",
       "      <td>85</td>\n",
       "      <td>119</td>\n",
       "      <td>1375</td>\n",
       "      <td>3</td>\n",
       "      <td>0.333333</td>\n",
       "    </tr>\n",
       "    <tr>\n",
       "      <th>2</th>\n",
       "      <td>10135</td>\n",
       "      <td>13930</td>\n",
       "      <td>18</td>\n",
       "      <td>119</td>\n",
       "      <td>3770</td>\n",
       "      <td>3</td>\n",
       "      <td>0.333333</td>\n",
       "    </tr>\n",
       "    <tr>\n",
       "      <th>3</th>\n",
       "      <td>10140</td>\n",
       "      <td>10397</td>\n",
       "      <td>93</td>\n",
       "      <td>124</td>\n",
       "      <td>373</td>\n",
       "      <td>23</td>\n",
       "      <td>0.043478</td>\n",
       "    </tr>\n",
       "    <tr>\n",
       "      <th>4</th>\n",
       "      <td>10140</td>\n",
       "      <td>10423</td>\n",
       "      <td>4</td>\n",
       "      <td>124</td>\n",
       "      <td>399</td>\n",
       "      <td>23</td>\n",
       "      <td>0.043478</td>\n",
       "    </tr>\n",
       "    <tr>\n",
       "      <th>5</th>\n",
       "      <td>10140</td>\n",
       "      <td>10821</td>\n",
       "      <td>64</td>\n",
       "      <td>124</td>\n",
       "      <td>792</td>\n",
       "      <td>23</td>\n",
       "      <td>0.043478</td>\n",
       "    </tr>\n",
       "    <tr>\n",
       "      <th>6</th>\n",
       "      <td>10140</td>\n",
       "      <td>11259</td>\n",
       "      <td>143</td>\n",
       "      <td>124</td>\n",
       "      <td>1214</td>\n",
       "      <td>23</td>\n",
       "      <td>0.043478</td>\n",
       "    </tr>\n",
       "    <tr>\n",
       "      <th>7</th>\n",
       "      <td>10140</td>\n",
       "      <td>11292</td>\n",
       "      <td>127</td>\n",
       "      <td>124</td>\n",
       "      <td>1245</td>\n",
       "      <td>23</td>\n",
       "      <td>0.043478</td>\n",
       "    </tr>\n",
       "    <tr>\n",
       "      <th>8</th>\n",
       "      <td>10140</td>\n",
       "      <td>11298</td>\n",
       "      <td>150</td>\n",
       "      <td>124</td>\n",
       "      <td>1250</td>\n",
       "      <td>23</td>\n",
       "      <td>0.043478</td>\n",
       "    </tr>\n",
       "    <tr>\n",
       "      <th>9</th>\n",
       "      <td>10140</td>\n",
       "      <td>12191</td>\n",
       "      <td>89</td>\n",
       "      <td>124</td>\n",
       "      <td>2106</td>\n",
       "      <td>23</td>\n",
       "      <td>0.043478</td>\n",
       "    </tr>\n",
       "  </tbody>\n",
       "</table>\n",
       "</div>"
      ],
      "text/plain": [
       "   ORIGIN_AIRPORT_ID  DEST_AIRPORT_ID  FL_COUNT  ORIGIN_INDEX  DEST_INDEX  \\\n",
       "0              10135            10397        77           119         373   \n",
       "1              10135            11433        85           119        1375   \n",
       "2              10135            13930        18           119        3770   \n",
       "3              10140            10397        93           124         373   \n",
       "4              10140            10423         4           124         399   \n",
       "5              10140            10821        64           124         792   \n",
       "6              10140            11259       143           124        1214   \n",
       "7              10140            11292       127           124        1245   \n",
       "8              10140            11298       150           124        1250   \n",
       "9              10140            12191        89           124        2106   \n",
       "\n",
       "   OUTDEGREE    WEIGHT  \n",
       "0          3  0.333333  \n",
       "1          3  0.333333  \n",
       "2          3  0.333333  \n",
       "3         23  0.043478  \n",
       "4         23  0.043478  \n",
       "5         23  0.043478  \n",
       "6         23  0.043478  \n",
       "7         23  0.043478  \n",
       "8         23  0.043478  \n",
       "9         23  0.043478  "
      ]
     },
     "metadata": {},
     "output_type": "display_data"
    }
   ],
   "source": [
    "if 'WEIGHT' in segments:\n",
    "    del segments['WEIGHT']\n",
    "    \n",
    "segments['WEIGHT'] = 1.0 / segments['OUTDEGREE']\n",
    "display(segments.head(10))\n",
    "\n",
    "# These should sum to 1.0!\n",
    "origin_groups = segments[['ORIGIN_INDEX', 'WEIGHT']].groupby('ORIGIN_INDEX')\n",
    "assert np.allclose(origin_groups.sum(), 1.0, atol=10*n_actual*np.finfo(float).eps), \"Rows of $P$ do not sum to 1.0\""
   ]
  },
  {
   "cell_type": "code",
   "execution_count": 40,
   "metadata": {
    "scrolled": true
   },
   "outputs": [
    {
     "data": {
      "text/plain": [
       "(4191, 7)"
      ]
     },
     "execution_count": 40,
     "metadata": {},
     "output_type": "execute_result"
    }
   ],
   "source": [
    "segments.shape"
   ]
  },
  {
   "cell_type": "code",
   "execution_count": 41,
   "metadata": {},
   "outputs": [
    {
     "data": {
      "text/plain": [
       "(array([0, 1, 2]),)"
      ]
     },
     "execution_count": 41,
     "metadata": {},
     "output_type": "execute_result"
    }
   ],
   "source": [
    "np.where(segments['ORIGIN_AIRPORT_ID'] == 10135)"
   ]
  },
  {
   "cell_type": "markdown",
   "metadata": {
    "nbgrader": {
     "grade": false,
     "grade_id": "exercise_6",
     "locked": true,
     "schema_version": 1,
     "solution": false
    }
   },
   "source": [
    "**Exercise 6** (2 points). With your updated `segments` tibble, construct a sparse matrix, `P`, corresponding to the state-transition matrix $P$. Use SciPy's [scipy.sparse.coo_matrix()](https://docs.scipy.org/doc/scipy/reference/generated/scipy.sparse.coo_matrix.html) function to construct this matrix.\n",
    "\n",
    "The dimension of the matrix should be `n_airports` by `n_airports`. If an airport does not have any outgoing segments in the data, it should appear as a row of zeroes."
   ]
  },
  {
   "cell_type": "code",
   "execution_count": 42,
   "metadata": {
    "collapsed": true
   },
   "outputs": [],
   "source": [
    "from scipy import sparse\n",
    "import numpy as np"
   ]
  },
  {
   "cell_type": "code",
   "execution_count": 43,
   "metadata": {
    "scrolled": false
   },
   "outputs": [
    {
     "data": {
      "text/html": [
       "<div>\n",
       "<style scoped>\n",
       "    .dataframe tbody tr th:only-of-type {\n",
       "        vertical-align: middle;\n",
       "    }\n",
       "\n",
       "    .dataframe tbody tr th {\n",
       "        vertical-align: top;\n",
       "    }\n",
       "\n",
       "    .dataframe thead th {\n",
       "        text-align: right;\n",
       "    }\n",
       "</style>\n",
       "<table border=\"1\" class=\"dataframe\">\n",
       "  <thead>\n",
       "    <tr style=\"text-align: right;\">\n",
       "      <th></th>\n",
       "      <th>ORIGIN_AIRPORT_ID</th>\n",
       "      <th>DEST_AIRPORT_ID</th>\n",
       "      <th>FL_COUNT</th>\n",
       "      <th>ORIGIN_INDEX</th>\n",
       "      <th>DEST_INDEX</th>\n",
       "      <th>OUTDEGREE</th>\n",
       "      <th>WEIGHT</th>\n",
       "    </tr>\n",
       "  </thead>\n",
       "  <tbody>\n",
       "    <tr>\n",
       "      <th>0</th>\n",
       "      <td>10135</td>\n",
       "      <td>10397</td>\n",
       "      <td>77</td>\n",
       "      <td>119</td>\n",
       "      <td>373</td>\n",
       "      <td>3</td>\n",
       "      <td>0.333333</td>\n",
       "    </tr>\n",
       "    <tr>\n",
       "      <th>1</th>\n",
       "      <td>10135</td>\n",
       "      <td>11433</td>\n",
       "      <td>85</td>\n",
       "      <td>119</td>\n",
       "      <td>1375</td>\n",
       "      <td>3</td>\n",
       "      <td>0.333333</td>\n",
       "    </tr>\n",
       "    <tr>\n",
       "      <th>2</th>\n",
       "      <td>10135</td>\n",
       "      <td>13930</td>\n",
       "      <td>18</td>\n",
       "      <td>119</td>\n",
       "      <td>3770</td>\n",
       "      <td>3</td>\n",
       "      <td>0.333333</td>\n",
       "    </tr>\n",
       "  </tbody>\n",
       "</table>\n",
       "</div>"
      ],
      "text/plain": [
       "   ORIGIN_AIRPORT_ID  DEST_AIRPORT_ID  FL_COUNT  ORIGIN_INDEX  DEST_INDEX  \\\n",
       "0              10135            10397        77           119         373   \n",
       "1              10135            11433        85           119        1375   \n",
       "2              10135            13930        18           119        3770   \n",
       "\n",
       "   OUTDEGREE    WEIGHT  \n",
       "0          3  0.333333  \n",
       "1          3  0.333333  \n",
       "2          3  0.333333  "
      ]
     },
     "execution_count": 43,
     "metadata": {},
     "output_type": "execute_result"
    }
   ],
   "source": [
    "segments.head(3)"
   ]
  },
  {
   "cell_type": "code",
   "execution_count": 44,
   "metadata": {
    "scrolled": false
   },
   "outputs": [
    {
     "data": {
      "text/plain": [
       "6436"
      ]
     },
     "execution_count": 44,
     "metadata": {},
     "output_type": "execute_result"
    }
   ],
   "source": [
    "len(airport_codes)"
   ]
  },
  {
   "cell_type": "code",
   "execution_count": 45,
   "metadata": {
    "collapsed": true
   },
   "outputs": [],
   "source": [
    "code_to_idx = defaultdict(int)\n",
    "idx_to_code = defaultdict(int)\n",
    "\n",
    "for i, code in enumerate(airport_codes['Code']):\n",
    "    code_to_idx[code] = i\n",
    "    idx_to_code[i] = code"
   ]
  },
  {
   "cell_type": "code",
   "execution_count": 46,
   "metadata": {},
   "outputs": [
    {
     "data": {
      "text/plain": [
       "array([10135, 10135, 10135, ..., 15991, 15991, 16218])"
      ]
     },
     "execution_count": 46,
     "metadata": {},
     "output_type": "execute_result"
    }
   ],
   "source": [
    "segments['ORIGIN_AIRPORT_ID'].values"
   ]
  },
  {
   "cell_type": "code",
   "execution_count": 47,
   "metadata": {},
   "outputs": [
    {
     "data": {
      "text/plain": [
       "10327"
      ]
     },
     "metadata": {},
     "output_type": "display_data"
    },
    {
     "data": {
      "text/plain": [
       "10327"
      ]
     },
     "metadata": {},
     "output_type": "display_data"
    },
    {
     "data": {
      "text/plain": [
       "10327"
      ]
     },
     "metadata": {},
     "output_type": "display_data"
    }
   ],
   "source": [
    "row_ind = []\n",
    "col_ind = []\n",
    "csr_val = []\n",
    "\n",
    "for code, idx in code_to_idx.items():\n",
    "    \n",
    "    if code in segments['ORIGIN_AIRPORT_ID'].values:\n",
    "        sub_df = segments[segments['ORIGIN_AIRPORT_ID'] == code]\n",
    "        idx_to_append = [code_to_idx[code]] * len(sub_df)\n",
    "        row_ind.extend(idx_to_append)\n",
    "\n",
    "        dests = sub_df['DEST_AIRPORT_ID']\n",
    "        for dest in dests:\n",
    "            col_ind.append(code_to_idx[code])\n",
    "            \n",
    "        csr_val.extend(sub_df['WEIGHT'].values)\n",
    "        \n",
    "    else:\n",
    "        row_ind.append(0)\n",
    "        col_ind.append(0)\n",
    "        csr_val.append(0)\n",
    "    \n",
    "display(len(row_ind))\n",
    "display(len(col_ind))\n",
    "display(len(csr_val))\n",
    "\n",
    "# conver them all to np.arrays\n",
    "row_ind = np.array(row_ind)\n",
    "col_ind = np.array(col_ind)\n",
    "csr_val = np.array(csr_val)"
   ]
  },
  {
   "cell_type": "code",
   "execution_count": 48,
   "metadata": {
    "scrolled": false
   },
   "outputs": [
    {
     "data": {
      "text/plain": [
       "(6436, 6436)"
      ]
     },
     "metadata": {},
     "output_type": "display_data"
    },
    {
     "data": {
      "text/plain": [
       "<6436x6436 sparse matrix of type '<class 'numpy.float64'>'\n",
       "\twith 10327 stored elements in COOrdinate format>"
      ]
     },
     "metadata": {},
     "output_type": "display_data"
    }
   ],
   "source": [
    "# coo_matrix((data, (row, col)), shape=(4, 4)).toarray()\n",
    "P = sparse.coo_matrix((csr_val, (row_ind, col_ind)), shape=(6436, 6436))\n",
    "display(P.shape)\n",
    "display(P)"
   ]
  },
  {
   "cell_type": "code",
   "execution_count": 49,
   "metadata": {
    "nbgrader": {
     "grade": true,
     "grade_id": "P_test",
     "locked": true,
     "points": 1,
     "schema_version": 1,
     "solution": false
    }
   },
   "outputs": [
    {
     "name": "stdout",
     "output_type": "stream",
     "text": [
      "\n",
      "(Passed!)\n"
     ]
    }
   ],
   "source": [
    "# Test cell: `P_test`\n",
    "\n",
    "assert type(P) is sp.sparse.coo.coo_matrix, \\\n",
    "       \"Matrix object has type {}, and is not a Numpy COO sparse matrix.\".format(type(P))\n",
    "assert P.shape == (n_airports, n_airports), \"Matrix has the wrong shape: it is {} x {} instead of {} x {}\".format(P.shape[0], P.shape[1], n_airports, n_airports)\n",
    "\n",
    "# Check row sums, which must be either 0 or 1\n",
    "n = P.shape[0]\n",
    "u = np.ones(n)\n",
    "row_sums = P.dot(u)\n",
    "is_near_zero = np.isclose(row_sums, 0.0, atol=10*n*np.finfo(float).eps)\n",
    "is_near_one = np.isclose(row_sums, 1.0, atol=10*n*np.finfo(float).eps)\n",
    "assert (is_near_zero | is_near_one).all()\n",
    "assert sum(is_near_one) == n_actual\n",
    "\n",
    "print(\"\\n(Passed!)\")"
   ]
  },
  {
   "cell_type": "markdown",
   "metadata": {
    "nbgrader": {
     "grade": false,
     "grade_id": "note_coo_csr",
     "locked": true,
     "schema_version": 1,
     "solution": false
    }
   },
   "source": [
    "> **Note: Other formats.** The preceding code asked you to use coordinate (\"COO\") format to store the matrix. However, you may sometimes need to convert or use other formats. For example, SciPy provides many general graph processing algorithms in its [`csgraph` submodule](https://docs.scipy.org/doc/scipy/reference/sparse.csgraph.html). These routines expect the input graph as a sparse matrix, but one stored in compressed sparse row (\"CSR\") format rather than COO."
   ]
  },
  {
   "cell_type": "markdown",
   "metadata": {
    "nbgrader": {
     "grade": false,
     "grade_id": "steady_state",
     "locked": true,
     "schema_version": 1,
     "solution": false
    }
   },
   "source": [
    "## Part 2, analysis: Computing the steady-state distribution\n",
    "\n",
    "Armed with the state-transition matrix $P$, you can now compute the steady-state distribution."
   ]
  },
  {
   "cell_type": "markdown",
   "metadata": {
    "nbgrader": {
     "grade": false,
     "grade_id": "exercise_7",
     "locked": true,
     "schema_version": 1,
     "solution": false
    }
   },
   "source": [
    "**Exercise 7** (1 point). At time $t=0$, suppose the random flyer is equally likely to be at any airport with an outbound segment, i.e., the flyer is at one of the \"actual\" origins. Create a NumPy vector `x0[:]` such that `x0[i]` equals this initial probability of being at airport `i`.\n",
    "\n",
    "> Note: If some airport $i$ has _no_ outbound flights, then be sure that $x_i(0) = 0$."
   ]
  },
  {
   "cell_type": "code",
   "execution_count": 50,
   "metadata": {
    "nbgrader": {
     "grade": false,
     "grade_id": "x0",
     "locked": false,
     "schema_version": 1,
     "solution": true
    }
   },
   "outputs": [
    {
     "name": "stdout",
     "output_type": "stream",
     "text": [
      "6436\n"
     ]
    },
    {
     "data": {
      "text/html": [
       "<div>\n",
       "<style scoped>\n",
       "    .dataframe tbody tr th:only-of-type {\n",
       "        vertical-align: middle;\n",
       "    }\n",
       "\n",
       "    .dataframe tbody tr th {\n",
       "        vertical-align: top;\n",
       "    }\n",
       "\n",
       "    .dataframe thead th {\n",
       "        text-align: right;\n",
       "    }\n",
       "</style>\n",
       "<table border=\"1\" class=\"dataframe\">\n",
       "  <thead>\n",
       "    <tr style=\"text-align: right;\">\n",
       "      <th></th>\n",
       "      <th>i</th>\n",
       "      <th>x0[i] (non-zero only)</th>\n",
       "    </tr>\n",
       "  </thead>\n",
       "  <tbody>\n",
       "    <tr>\n",
       "      <th>0</th>\n",
       "      <td>119</td>\n",
       "      <td>0.003333</td>\n",
       "    </tr>\n",
       "    <tr>\n",
       "      <th>1</th>\n",
       "      <td>124</td>\n",
       "      <td>0.003333</td>\n",
       "    </tr>\n",
       "    <tr>\n",
       "      <th>2</th>\n",
       "      <td>125</td>\n",
       "      <td>0.003333</td>\n",
       "    </tr>\n",
       "    <tr>\n",
       "      <th>3</th>\n",
       "      <td>130</td>\n",
       "      <td>0.003333</td>\n",
       "    </tr>\n",
       "    <tr>\n",
       "      <th>4</th>\n",
       "      <td>138</td>\n",
       "      <td>0.003333</td>\n",
       "    </tr>\n",
       "  </tbody>\n",
       "</table>\n",
       "</div>"
      ],
      "text/plain": [
       "     i  x0[i] (non-zero only)\n",
       "0  119               0.003333\n",
       "1  124               0.003333\n",
       "2  125               0.003333\n",
       "3  130               0.003333\n",
       "4  138               0.003333"
      ]
     },
     "metadata": {},
     "output_type": "display_data"
    },
    {
     "name": "stdout",
     "output_type": "stream",
     "text": [
      "...\n"
     ]
    },
    {
     "data": {
      "text/html": [
       "<div>\n",
       "<style scoped>\n",
       "    .dataframe tbody tr th:only-of-type {\n",
       "        vertical-align: middle;\n",
       "    }\n",
       "\n",
       "    .dataframe tbody tr th {\n",
       "        vertical-align: top;\n",
       "    }\n",
       "\n",
       "    .dataframe thead th {\n",
       "        text-align: right;\n",
       "    }\n",
       "</style>\n",
       "<table border=\"1\" class=\"dataframe\">\n",
       "  <thead>\n",
       "    <tr style=\"text-align: right;\">\n",
       "      <th></th>\n",
       "      <th>i</th>\n",
       "      <th>x0[i] (non-zero only)</th>\n",
       "    </tr>\n",
       "  </thead>\n",
       "  <tbody>\n",
       "    <tr>\n",
       "      <th>295</th>\n",
       "      <td>5565</td>\n",
       "      <td>0.003333</td>\n",
       "    </tr>\n",
       "    <tr>\n",
       "      <th>296</th>\n",
       "      <td>5612</td>\n",
       "      <td>0.003333</td>\n",
       "    </tr>\n",
       "    <tr>\n",
       "      <th>297</th>\n",
       "      <td>5630</td>\n",
       "      <td>0.003333</td>\n",
       "    </tr>\n",
       "    <tr>\n",
       "      <th>298</th>\n",
       "      <td>5685</td>\n",
       "      <td>0.003333</td>\n",
       "    </tr>\n",
       "    <tr>\n",
       "      <th>299</th>\n",
       "      <td>5908</td>\n",
       "      <td>0.003333</td>\n",
       "    </tr>\n",
       "  </tbody>\n",
       "</table>\n",
       "</div>"
      ],
      "text/plain": [
       "        i  x0[i] (non-zero only)\n",
       "295  5565               0.003333\n",
       "296  5612               0.003333\n",
       "297  5630               0.003333\n",
       "298  5685               0.003333\n",
       "299  5908               0.003333"
      ]
     },
     "metadata": {},
     "output_type": "display_data"
    }
   ],
   "source": [
    "# Your task: Create `x0` as directed above.\n",
    "x0 = [0 if airport not in segments['ORIGIN_AIRPORT_ID'].unique().tolist() \n",
    "      else 1/300 for airport in airport_codes['Code'] ]\n",
    "# print(x0)\n",
    "print(len(x0))\n",
    "x0 = np.array(x0)\n",
    "#\n",
    "\n",
    "\n",
    "# Visually inspect your result:\n",
    "def display_vec_sparsely(x, name='x'):\n",
    "    i_nz = np.argwhere(x).flatten()\n",
    "    df_x_nz = pd.DataFrame({'i': i_nz, '{}[i] (non-zero only)'.format(name): x[i_nz]})\n",
    "    display(df_x_nz.head())\n",
    "    print(\"...\")\n",
    "    display(df_x_nz.tail())\n",
    "    \n",
    "display_vec_sparsely(x0, name='x0')"
   ]
  },
  {
   "cell_type": "code",
   "execution_count": 51,
   "metadata": {
    "nbgrader": {
     "grade": true,
     "grade_id": "x0_test",
     "locked": true,
     "points": 1,
     "schema_version": 1,
     "solution": false
    }
   },
   "outputs": [
    {
     "name": "stdout",
     "output_type": "stream",
     "text": [
      "\n",
      "(Passed!)\n"
     ]
    }
   ],
   "source": [
    "# Test cell: `x0_test`\n",
    "\n",
    "assert type(x0) is np.ndarray, \"`x0` does not appear to be a Numpy array.\"\n",
    "assert np.isclose(x0.sum(), 1.0, atol=10*n*np.finfo(float).eps), \"`x0` does not sum to 1.0, but it should.\"\n",
    "assert np.isclose(x0.max(), 1.0/n_actual, atol=10*n*np.finfo(float).eps), \"`x0` values seem off...\"\n",
    "\n",
    "print(\"\\n(Passed!)\")"
   ]
  },
  {
   "cell_type": "markdown",
   "metadata": {
    "nbgrader": {
     "grade": false,
     "grade_id": "exercise_8",
     "locked": true,
     "schema_version": 1,
     "solution": false
    }
   },
   "source": [
    "**Exercise 8** (2 points). Given the state-transition matrix `P`, an initial vector `x0`, and the number of time steps `t_max`, complete the function `eval_markov_chain(P, x0, t_max)` so that it computes and returns $x(t_{\\textrm{max}})$."
   ]
  },
  {
   "cell_type": "code",
   "execution_count": 52,
   "metadata": {},
   "outputs": [
    {
     "data": {
      "text/plain": [
       "(6436,)"
      ]
     },
     "metadata": {},
     "output_type": "display_data"
    },
    {
     "data": {
      "text/plain": [
       "(6436, 6436)"
      ]
     },
     "metadata": {},
     "output_type": "display_data"
    }
   ],
   "source": [
    "display(x0.shape)\n",
    "display(P.shape)"
   ]
  },
  {
   "cell_type": "code",
   "execution_count": 53,
   "metadata": {},
   "outputs": [
    {
     "data": {
      "text/plain": [
       "(6436, 1)"
      ]
     },
     "execution_count": 53,
     "metadata": {},
     "output_type": "execute_result"
    }
   ],
   "source": [
    "x0.reshape(-1, 1).shape"
   ]
  },
  {
   "cell_type": "code",
   "execution_count": 54,
   "metadata": {
    "nbgrader": {
     "grade": false,
     "grade_id": "eval_markov_chain",
     "locked": false,
     "schema_version": 1,
     "solution": true
    },
    "scrolled": true
   },
   "outputs": [
    {
     "data": {
      "text/html": [
       "<div>\n",
       "<style scoped>\n",
       "    .dataframe tbody tr th:only-of-type {\n",
       "        vertical-align: middle;\n",
       "    }\n",
       "\n",
       "    .dataframe tbody tr th {\n",
       "        vertical-align: top;\n",
       "    }\n",
       "\n",
       "    .dataframe thead th {\n",
       "        text-align: right;\n",
       "    }\n",
       "</style>\n",
       "<table border=\"1\" class=\"dataframe\">\n",
       "  <thead>\n",
       "    <tr style=\"text-align: right;\">\n",
       "      <th></th>\n",
       "      <th>i</th>\n",
       "      <th>x[i] (non-zero only)</th>\n",
       "    </tr>\n",
       "  </thead>\n",
       "  <tbody>\n",
       "    <tr>\n",
       "      <th>0</th>\n",
       "      <td>119</td>\n",
       "      <td>0.003333</td>\n",
       "    </tr>\n",
       "    <tr>\n",
       "      <th>1</th>\n",
       "      <td>124</td>\n",
       "      <td>0.003333</td>\n",
       "    </tr>\n",
       "    <tr>\n",
       "      <th>2</th>\n",
       "      <td>125</td>\n",
       "      <td>0.003333</td>\n",
       "    </tr>\n",
       "    <tr>\n",
       "      <th>3</th>\n",
       "      <td>130</td>\n",
       "      <td>0.003333</td>\n",
       "    </tr>\n",
       "    <tr>\n",
       "      <th>4</th>\n",
       "      <td>138</td>\n",
       "      <td>0.003333</td>\n",
       "    </tr>\n",
       "  </tbody>\n",
       "</table>\n",
       "</div>"
      ],
      "text/plain": [
       "     i  x[i] (non-zero only)\n",
       "0  119              0.003333\n",
       "1  124              0.003333\n",
       "2  125              0.003333\n",
       "3  130              0.003333\n",
       "4  138              0.003333"
      ]
     },
     "metadata": {},
     "output_type": "display_data"
    },
    {
     "name": "stdout",
     "output_type": "stream",
     "text": [
      "...\n"
     ]
    },
    {
     "data": {
      "text/html": [
       "<div>\n",
       "<style scoped>\n",
       "    .dataframe tbody tr th:only-of-type {\n",
       "        vertical-align: middle;\n",
       "    }\n",
       "\n",
       "    .dataframe tbody tr th {\n",
       "        vertical-align: top;\n",
       "    }\n",
       "\n",
       "    .dataframe thead th {\n",
       "        text-align: right;\n",
       "    }\n",
       "</style>\n",
       "<table border=\"1\" class=\"dataframe\">\n",
       "  <thead>\n",
       "    <tr style=\"text-align: right;\">\n",
       "      <th></th>\n",
       "      <th>i</th>\n",
       "      <th>x[i] (non-zero only)</th>\n",
       "    </tr>\n",
       "  </thead>\n",
       "  <tbody>\n",
       "    <tr>\n",
       "      <th>295</th>\n",
       "      <td>5565</td>\n",
       "      <td>0.003333</td>\n",
       "    </tr>\n",
       "    <tr>\n",
       "      <th>296</th>\n",
       "      <td>5612</td>\n",
       "      <td>0.003333</td>\n",
       "    </tr>\n",
       "    <tr>\n",
       "      <th>297</th>\n",
       "      <td>5630</td>\n",
       "      <td>0.003333</td>\n",
       "    </tr>\n",
       "    <tr>\n",
       "      <th>298</th>\n",
       "      <td>5685</td>\n",
       "      <td>0.003333</td>\n",
       "    </tr>\n",
       "    <tr>\n",
       "      <th>299</th>\n",
       "      <td>5908</td>\n",
       "      <td>0.003333</td>\n",
       "    </tr>\n",
       "  </tbody>\n",
       "</table>\n",
       "</div>"
      ],
      "text/plain": [
       "        i  x[i] (non-zero only)\n",
       "295  5565              0.003333\n",
       "296  5612              0.003333\n",
       "297  5630              0.003333\n",
       "298  5685              0.003333\n",
       "299  5908              0.003333"
      ]
     },
     "metadata": {},
     "output_type": "display_data"
    },
    {
     "name": "stdout",
     "output_type": "stream",
     "text": [
      "\n",
      "=== Top 10 airports ===\n",
      "\n"
     ]
    },
    {
     "data": {
      "text/html": [
       "<div>\n",
       "<style scoped>\n",
       "    .dataframe tbody tr th:only-of-type {\n",
       "        vertical-align: middle;\n",
       "    }\n",
       "\n",
       "    .dataframe tbody tr th {\n",
       "        vertical-align: top;\n",
       "    }\n",
       "\n",
       "    .dataframe thead th {\n",
       "        text-align: right;\n",
       "    }\n",
       "</style>\n",
       "<table border=\"1\" class=\"dataframe\">\n",
       "  <thead>\n",
       "    <tr style=\"text-align: right;\">\n",
       "      <th></th>\n",
       "      <th>x(t)</th>\n",
       "      <th>Rank</th>\n",
       "      <th>Code</th>\n",
       "      <th>Description</th>\n",
       "    </tr>\n",
       "  </thead>\n",
       "  <tbody>\n",
       "    <tr>\n",
       "      <th>1245</th>\n",
       "      <td>0.003333</td>\n",
       "      <td>1</td>\n",
       "      <td>11292</td>\n",
       "      <td>Denver, CO: Denver International</td>\n",
       "    </tr>\n",
       "    <tr>\n",
       "      <th>1375</th>\n",
       "      <td>0.003333</td>\n",
       "      <td>2</td>\n",
       "      <td>11433</td>\n",
       "      <td>Detroit, MI: Detroit Metro Wayne County</td>\n",
       "    </tr>\n",
       "    <tr>\n",
       "      <th>4549</th>\n",
       "      <td>0.003333</td>\n",
       "      <td>3</td>\n",
       "      <td>14771</td>\n",
       "      <td>San Francisco, CA: San Francisco International</td>\n",
       "    </tr>\n",
       "    <tr>\n",
       "      <th>3347</th>\n",
       "      <td>0.003333</td>\n",
       "      <td>4</td>\n",
       "      <td>13487</td>\n",
       "      <td>Minneapolis, MN: Minneapolis-St Paul Internati...</td>\n",
       "    </tr>\n",
       "    <tr>\n",
       "      <th>1231</th>\n",
       "      <td>0.003333</td>\n",
       "      <td>5</td>\n",
       "      <td>11278</td>\n",
       "      <td>Washington, DC: Ronald Reagan Washington National</td>\n",
       "    </tr>\n",
       "    <tr>\n",
       "      <th>2106</th>\n",
       "      <td>0.003333</td>\n",
       "      <td>6</td>\n",
       "      <td>12191</td>\n",
       "      <td>Houston, TX: William P Hobby</td>\n",
       "    </tr>\n",
       "    <tr>\n",
       "      <th>3354</th>\n",
       "      <td>0.003333</td>\n",
       "      <td>7</td>\n",
       "      <td>13495</td>\n",
       "      <td>New Orleans, LA: Louis Armstrong New Orleans I...</td>\n",
       "    </tr>\n",
       "    <tr>\n",
       "      <th>5069</th>\n",
       "      <td>0.003333</td>\n",
       "      <td>8</td>\n",
       "      <td>15304</td>\n",
       "      <td>Tampa, FL: Tampa International</td>\n",
       "    </tr>\n",
       "    <tr>\n",
       "      <th>2824</th>\n",
       "      <td>0.003333</td>\n",
       "      <td>9</td>\n",
       "      <td>12953</td>\n",
       "      <td>New York, NY: LaGuardia</td>\n",
       "    </tr>\n",
       "    <tr>\n",
       "      <th>693</th>\n",
       "      <td>0.003333</td>\n",
       "      <td>10</td>\n",
       "      <td>10721</td>\n",
       "      <td>Boston, MA: Logan International</td>\n",
       "    </tr>\n",
       "  </tbody>\n",
       "</table>\n",
       "</div>"
      ],
      "text/plain": [
       "          x(t)  Rank   Code                                        Description\n",
       "1245  0.003333     1  11292                   Denver, CO: Denver International\n",
       "1375  0.003333     2  11433            Detroit, MI: Detroit Metro Wayne County\n",
       "4549  0.003333     3  14771     San Francisco, CA: San Francisco International\n",
       "3347  0.003333     4  13487  Minneapolis, MN: Minneapolis-St Paul Internati...\n",
       "1231  0.003333     5  11278  Washington, DC: Ronald Reagan Washington National\n",
       "2106  0.003333     6  12191                       Houston, TX: William P Hobby\n",
       "3354  0.003333     7  13495  New Orleans, LA: Louis Armstrong New Orleans I...\n",
       "5069  0.003333     8  15304                     Tampa, FL: Tampa International\n",
       "2824  0.003333     9  12953                            New York, NY: LaGuardia\n",
       "693   0.003333    10  10721                    Boston, MA: Logan International"
      ]
     },
     "execution_count": 54,
     "metadata": {},
     "output_type": "execute_result"
    }
   ],
   "source": [
    "def eval_markov_chain(P, x0, t_max):\n",
    "    #\n",
    "    xi = x0\n",
    "    \n",
    "    i = 0\n",
    "    while i < t_max:\n",
    "        xi = (P.T).dot(xi)\n",
    "        i += 1\n",
    "        \n",
    "    return xi\n",
    "    #\n",
    "\n",
    "T_MAX = 50\n",
    "x = eval_markov_chain(P, x0, T_MAX)\n",
    "display_vec_sparsely(x)\n",
    "\n",
    "print(\"\\n=== Top 10 airports ===\\n\")\n",
    "ranks = np.argsort(-x)\n",
    "top10 = pd.DataFrame({'Rank': np.arange(1, 11),\n",
    "                      'Code': airport_codes.iloc[ranks[:10]]['Code'],\n",
    "                      'Description': airport_codes.iloc[ranks[:10]]['Description'],\n",
    "                      'x(t)': x[ranks[:10]]})\n",
    "top10[['x(t)', 'Rank', 'Code', 'Description']]"
   ]
  },
  {
   "cell_type": "code",
   "execution_count": 55,
   "metadata": {},
   "outputs": [
    {
     "name": "stdout",
     "output_type": "stream",
     "text": [
      "2 3\n",
      "[124]\n",
      "[1.]\n",
      "[0.00333333]\n",
      "0.0033333333333333322\n"
     ]
    }
   ],
   "source": [
    "PT_csr = P.T.tocsr()\n",
    "row_start, row_end = PT_csr.indptr[124], PT_csr.indptr[125]\n",
    "J = PT_csr.indices[row_start:row_end]\n",
    "V = PT_csr.data[row_start:row_end]\n",
    "print(row_start, row_end)\n",
    "print(J)\n",
    "print(V)\n",
    "print(x0[J])\n",
    "print(sum(x0[J] * V))"
   ]
  },
  {
   "cell_type": "code",
   "execution_count": 56,
   "metadata": {
    "nbgrader": {
     "grade": true,
     "grade_id": "eval_markov_chain_test",
     "locked": true,
     "points": 2,
     "schema_version": 1,
     "solution": false
    }
   },
   "outputs": [
    {
     "name": "stdout",
     "output_type": "stream",
     "text": [
      "1.0\n",
      "\n",
      "Top 10 airports by Markov chain analysis:\n",
      " [11292, 11433, 14771, 13487, 11278, 12191, 13495, 15304, 12953, 10721]\n",
      "\n",
      "Compare that to the Top 10 by (historical) outbound segments:\n",
      " [10397, 13930, 11292, 12892, 14771, 11298, 14747, 12889, 14107, 13487]\n",
      "\n",
      "Airports that appear in one list but not the other:\n",
      "{14107, 10721, 11298, 15304, 11433, 13930, 11278, 12889, 13495, 12953, 14747, 12892, 10397, 12191}\n"
     ]
    },
    {
     "ename": "AssertionError",
     "evalue": "",
     "output_type": "error",
     "traceback": [
      "\u001b[0;31m---------------------------------------------------------------------------\u001b[0m",
      "\u001b[0;31mAssertionError\u001b[0m                            Traceback (most recent call last)",
      "\u001b[0;32m<ipython-input-56-4bfd2a51b5f4>\u001b[0m in \u001b[0;36m<module>\u001b[0;34m()\u001b[0m\n\u001b[1;32m     11\u001b[0m \u001b[0mC\u001b[0m \u001b[0;34m=\u001b[0m \u001b[0;34m(\u001b[0m\u001b[0mA\u001b[0m \u001b[0;34m-\u001b[0m \u001b[0mB\u001b[0m\u001b[0;34m)\u001b[0m \u001b[0;34m|\u001b[0m \u001b[0;34m(\u001b[0m\u001b[0mB\u001b[0m \u001b[0;34m-\u001b[0m \u001b[0mA\u001b[0m\u001b[0;34m)\u001b[0m\u001b[0;34m\u001b[0m\u001b[0m\n\u001b[1;32m     12\u001b[0m \u001b[0mprint\u001b[0m\u001b[0;34m(\u001b[0m\u001b[0;34m\"\\nAirports that appear in one list but not the other:\\n{}\"\u001b[0m\u001b[0;34m.\u001b[0m\u001b[0mformat\u001b[0m\u001b[0;34m(\u001b[0m\u001b[0mC\u001b[0m\u001b[0;34m)\u001b[0m\u001b[0;34m)\u001b[0m\u001b[0;34m\u001b[0m\u001b[0m\n\u001b[0;32m---> 13\u001b[0;31m \u001b[0;32massert\u001b[0m \u001b[0mC\u001b[0m \u001b[0;34m==\u001b[0m \u001b[0;34m{\u001b[0m\u001b[0;36m11618\u001b[0m\u001b[0;34m,\u001b[0m \u001b[0;36m11433\u001b[0m\u001b[0;34m,\u001b[0m \u001b[0;36m12266\u001b[0m\u001b[0;34m,\u001b[0m \u001b[0;36m14771\u001b[0m\u001b[0;34m,\u001b[0m \u001b[0;36m14869\u001b[0m\u001b[0;34m,\u001b[0m \u001b[0;36m12889\u001b[0m\u001b[0;34m,\u001b[0m \u001b[0;36m14747\u001b[0m\u001b[0;34m,\u001b[0m \u001b[0;36m12892\u001b[0m\u001b[0;34m}\u001b[0m\u001b[0;34m\u001b[0m\u001b[0m\n\u001b[0m\u001b[1;32m     14\u001b[0m \u001b[0;34m\u001b[0m\u001b[0m\n\u001b[1;32m     15\u001b[0m \u001b[0mprint\u001b[0m\u001b[0;34m(\u001b[0m\u001b[0;34m\"\\n(Passed!)\"\u001b[0m\u001b[0;34m)\u001b[0m\u001b[0;34m\u001b[0m\u001b[0m\n",
      "\u001b[0;31mAssertionError\u001b[0m: "
     ]
    }
   ],
   "source": [
    "# Test cell: `eval_markov_chain_test`\n",
    "\n",
    "print(x.sum())\n",
    "assert np.isclose(x.sum(), 1.0, atol=T_MAX*n_actual*np.finfo(float).eps)\n",
    "\n",
    "print(\"\\nTop 10 airports by Markov chain analysis:\\n\", list(top10['Code']))\n",
    "print(\"\\nCompare that to the Top 10 by (historical) outbound segments:\\n\", list(origins_top10['ID']))\n",
    "\n",
    "A = set(top10['Code'])\n",
    "B = set(origins_top10['ID'])\n",
    "C = (A - B) | (B - A)\n",
    "print(\"\\nAirports that appear in one list but not the other:\\n{}\".format(C))\n",
    "assert C == {11618, 11433, 12266, 14771, 14869, 12889, 14747, 12892}\n",
    "\n",
    "print(\"\\n(Passed!)\")"
   ]
  },
  {
   "cell_type": "markdown",
   "metadata": {},
   "source": [
    "**Comparing the two rankings.** Before ending this notebook, let's create a table that compares our two rankings, side-by-side, where the first ranking is the result of the Markov chain analysis and the second from a ranking based solely on number of segments."
   ]
  },
  {
   "cell_type": "code",
   "execution_count": 57,
   "metadata": {
    "nbgrader": {
     "grade": false,
     "grade_id": "compare_top10s",
     "locked": true,
     "schema_version": 1,
     "solution": false
    }
   },
   "outputs": [
    {
     "data": {
      "text/html": [
       "<div>\n",
       "<style scoped>\n",
       "    .dataframe tbody tr th:only-of-type {\n",
       "        vertical-align: middle;\n",
       "    }\n",
       "\n",
       "    .dataframe tbody tr th {\n",
       "        vertical-align: top;\n",
       "    }\n",
       "\n",
       "    .dataframe thead th {\n",
       "        text-align: right;\n",
       "    }\n",
       "</style>\n",
       "<table border=\"1\" class=\"dataframe\">\n",
       "  <thead>\n",
       "    <tr style=\"text-align: right;\">\n",
       "      <th></th>\n",
       "      <th>Code</th>\n",
       "      <th>Rank_MC</th>\n",
       "      <th>Description_MC</th>\n",
       "      <th>Rank_Seg</th>\n",
       "      <th>Description_Seg</th>\n",
       "    </tr>\n",
       "  </thead>\n",
       "  <tbody>\n",
       "    <tr>\n",
       "      <th>0</th>\n",
       "      <td>11292</td>\n",
       "      <td>1.0</td>\n",
       "      <td>Denver, CO: Denver International</td>\n",
       "      <td>3.0</td>\n",
       "      <td>Denver, CO: Denver International</td>\n",
       "    </tr>\n",
       "    <tr>\n",
       "      <th>1</th>\n",
       "      <td>11433</td>\n",
       "      <td>2.0</td>\n",
       "      <td>Detroit, MI: Detroit Metro Wayne County</td>\n",
       "      <td>NaN</td>\n",
       "      <td>NaN</td>\n",
       "    </tr>\n",
       "    <tr>\n",
       "      <th>2</th>\n",
       "      <td>14771</td>\n",
       "      <td>3.0</td>\n",
       "      <td>San Francisco, CA: San Francisco International</td>\n",
       "      <td>5.0</td>\n",
       "      <td>San Francisco, CA: San Francisco International</td>\n",
       "    </tr>\n",
       "    <tr>\n",
       "      <th>3</th>\n",
       "      <td>13487</td>\n",
       "      <td>4.0</td>\n",
       "      <td>Minneapolis, MN: Minneapolis-St Paul Internati...</td>\n",
       "      <td>10.0</td>\n",
       "      <td>Minneapolis, MN: Minneapolis-St Paul Internati...</td>\n",
       "    </tr>\n",
       "    <tr>\n",
       "      <th>4</th>\n",
       "      <td>11278</td>\n",
       "      <td>5.0</td>\n",
       "      <td>Washington, DC: Ronald Reagan Washington National</td>\n",
       "      <td>NaN</td>\n",
       "      <td>NaN</td>\n",
       "    </tr>\n",
       "    <tr>\n",
       "      <th>5</th>\n",
       "      <td>12191</td>\n",
       "      <td>6.0</td>\n",
       "      <td>Houston, TX: William P Hobby</td>\n",
       "      <td>NaN</td>\n",
       "      <td>NaN</td>\n",
       "    </tr>\n",
       "    <tr>\n",
       "      <th>6</th>\n",
       "      <td>13495</td>\n",
       "      <td>7.0</td>\n",
       "      <td>New Orleans, LA: Louis Armstrong New Orleans I...</td>\n",
       "      <td>NaN</td>\n",
       "      <td>NaN</td>\n",
       "    </tr>\n",
       "    <tr>\n",
       "      <th>7</th>\n",
       "      <td>15304</td>\n",
       "      <td>8.0</td>\n",
       "      <td>Tampa, FL: Tampa International</td>\n",
       "      <td>NaN</td>\n",
       "      <td>NaN</td>\n",
       "    </tr>\n",
       "    <tr>\n",
       "      <th>8</th>\n",
       "      <td>12953</td>\n",
       "      <td>9.0</td>\n",
       "      <td>New York, NY: LaGuardia</td>\n",
       "      <td>NaN</td>\n",
       "      <td>NaN</td>\n",
       "    </tr>\n",
       "    <tr>\n",
       "      <th>9</th>\n",
       "      <td>10721</td>\n",
       "      <td>10.0</td>\n",
       "      <td>Boston, MA: Logan International</td>\n",
       "      <td>NaN</td>\n",
       "      <td>NaN</td>\n",
       "    </tr>\n",
       "    <tr>\n",
       "      <th>10</th>\n",
       "      <td>10397</td>\n",
       "      <td>NaN</td>\n",
       "      <td>NaN</td>\n",
       "      <td>1.0</td>\n",
       "      <td>Atlanta, GA: Hartsfield-Jackson Atlanta Intern...</td>\n",
       "    </tr>\n",
       "    <tr>\n",
       "      <th>11</th>\n",
       "      <td>13930</td>\n",
       "      <td>NaN</td>\n",
       "      <td>NaN</td>\n",
       "      <td>2.0</td>\n",
       "      <td>Chicago, IL: Chicago O'Hare International</td>\n",
       "    </tr>\n",
       "    <tr>\n",
       "      <th>12</th>\n",
       "      <td>12892</td>\n",
       "      <td>NaN</td>\n",
       "      <td>NaN</td>\n",
       "      <td>4.0</td>\n",
       "      <td>Los Angeles, CA: Los Angeles International</td>\n",
       "    </tr>\n",
       "    <tr>\n",
       "      <th>13</th>\n",
       "      <td>11298</td>\n",
       "      <td>NaN</td>\n",
       "      <td>NaN</td>\n",
       "      <td>6.0</td>\n",
       "      <td>Dallas/Fort Worth, TX: Dallas/Fort Worth Inter...</td>\n",
       "    </tr>\n",
       "    <tr>\n",
       "      <th>14</th>\n",
       "      <td>14747</td>\n",
       "      <td>NaN</td>\n",
       "      <td>NaN</td>\n",
       "      <td>7.0</td>\n",
       "      <td>Seattle, WA: Seattle/Tacoma International</td>\n",
       "    </tr>\n",
       "    <tr>\n",
       "      <th>15</th>\n",
       "      <td>12889</td>\n",
       "      <td>NaN</td>\n",
       "      <td>NaN</td>\n",
       "      <td>8.0</td>\n",
       "      <td>Las Vegas, NV: McCarran International</td>\n",
       "    </tr>\n",
       "    <tr>\n",
       "      <th>16</th>\n",
       "      <td>14107</td>\n",
       "      <td>NaN</td>\n",
       "      <td>NaN</td>\n",
       "      <td>9.0</td>\n",
       "      <td>Phoenix, AZ: Phoenix Sky Harbor International</td>\n",
       "    </tr>\n",
       "  </tbody>\n",
       "</table>\n",
       "</div>"
      ],
      "text/plain": [
       "     Code  Rank_MC                                     Description_MC  \\\n",
       "0   11292      1.0                   Denver, CO: Denver International   \n",
       "1   11433      2.0            Detroit, MI: Detroit Metro Wayne County   \n",
       "2   14771      3.0     San Francisco, CA: San Francisco International   \n",
       "3   13487      4.0  Minneapolis, MN: Minneapolis-St Paul Internati...   \n",
       "4   11278      5.0  Washington, DC: Ronald Reagan Washington National   \n",
       "5   12191      6.0                       Houston, TX: William P Hobby   \n",
       "6   13495      7.0  New Orleans, LA: Louis Armstrong New Orleans I...   \n",
       "7   15304      8.0                     Tampa, FL: Tampa International   \n",
       "8   12953      9.0                            New York, NY: LaGuardia   \n",
       "9   10721     10.0                    Boston, MA: Logan International   \n",
       "10  10397      NaN                                                NaN   \n",
       "11  13930      NaN                                                NaN   \n",
       "12  12892      NaN                                                NaN   \n",
       "13  11298      NaN                                                NaN   \n",
       "14  14747      NaN                                                NaN   \n",
       "15  12889      NaN                                                NaN   \n",
       "16  14107      NaN                                                NaN   \n",
       "\n",
       "    Rank_Seg                                    Description_Seg  \n",
       "0        3.0                   Denver, CO: Denver International  \n",
       "1        NaN                                                NaN  \n",
       "2        5.0     San Francisco, CA: San Francisco International  \n",
       "3       10.0  Minneapolis, MN: Minneapolis-St Paul Internati...  \n",
       "4        NaN                                                NaN  \n",
       "5        NaN                                                NaN  \n",
       "6        NaN                                                NaN  \n",
       "7        NaN                                                NaN  \n",
       "8        NaN                                                NaN  \n",
       "9        NaN                                                NaN  \n",
       "10       1.0  Atlanta, GA: Hartsfield-Jackson Atlanta Intern...  \n",
       "11       2.0          Chicago, IL: Chicago O'Hare International  \n",
       "12       4.0         Los Angeles, CA: Los Angeles International  \n",
       "13       6.0  Dallas/Fort Worth, TX: Dallas/Fort Worth Inter...  \n",
       "14       7.0          Seattle, WA: Seattle/Tacoma International  \n",
       "15       8.0              Las Vegas, NV: McCarran International  \n",
       "16       9.0      Phoenix, AZ: Phoenix Sky Harbor International  "
      ]
     },
     "execution_count": 57,
     "metadata": {},
     "output_type": "execute_result"
    }
   ],
   "source": [
    "top10_with_ranks = top10[['Code', 'Rank', 'Description']].copy()\n",
    "\n",
    "origins_top10_with_ranks = origins_top10[['ID', 'Description']].copy()\n",
    "origins_top10_with_ranks.rename(columns={'ID': 'Code'}, inplace=True)\n",
    "origins_top10_with_ranks['Rank'] = origins_top10.index + 1\n",
    "origins_top10_with_ranks = origins_top10_with_ranks[['Code', 'Rank', 'Description']]\n",
    "\n",
    "top10_compare = top10_with_ranks.merge(origins_top10_with_ranks, how='outer', on='Code',\n",
    "                                       suffixes=['_MC', '_Seg'])\n",
    "top10_compare"
   ]
  },
  {
   "cell_type": "markdown",
   "metadata": {
    "collapsed": true,
    "nbgrader": {
     "grade": false,
     "grade_id": "fin",
     "locked": true,
     "schema_version": 1,
     "solution": false
    }
   },
   "source": [
    "**Fin!** That's it! You've determined the top 10 airports at which a random flyer ends up, assuming he or she randomly selects directly reachable destinations. How does it compare, qualitatively, to a ranking based instead on (historical) outbound segments? Which ranking is a better measure of importance to the overall airport network?\n",
    "\n",
    "Be sure to submit this notebook to get credit for it."
   ]
  }
 ],
 "metadata": {
  "celltoolbar": "Create Assignment",
  "kernelspec": {
   "display_name": "Python 3.6 [deprecated]",
   "language": "python",
   "name": "python36"
  },
  "language_info": {
   "codemirror_mode": {
    "name": "ipython",
    "version": 3
   },
   "file_extension": ".py",
   "mimetype": "text/x-python",
   "name": "python",
   "nbconvert_exporter": "python",
   "pygments_lexer": "ipython3",
   "version": "3.6.4"
  }
 },
 "nbformat": 4,
 "nbformat_minor": 1
}
