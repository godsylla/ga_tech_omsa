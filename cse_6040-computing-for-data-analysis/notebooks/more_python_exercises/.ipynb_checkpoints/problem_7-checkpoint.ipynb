{
 "cells": [
  {
   "cell_type": "markdown",
   "metadata": {},
   "source": [
    "# Problem 7\n",
    "\n",
    "**Letter frequencies.** This problem has three (3) exercises worth a total of ten (10) points."
   ]
  },
  {
   "cell_type": "markdown",
   "metadata": {},
   "source": [
    "Letter frequency in text has been studied in cryptoanalysis, in particular frequency analysis. Linguists use letter frequency analysis as a rudimentary technique for language identification, where it's particularly effective as an indicator of whether an unknown writing system is alphabetic, syllablic, or ideographic.\n",
    "\n",
    "Primarily, three different ways exist for letter frequency analysis. Each way generally results in very different charts for common letters. Based on the provided text, the first method is to count letter frequency in root words of a dictionary. The second way is to include all word variants when counting, such as gone, going and goes and not just the root word go. Such a system results in letters like \"s\" appearing much more frequently. The last variant is to count letters based on their frequency in the actual text that is being studied. \n",
    "\n",
    "For more details, refer to the link: \n",
    "https://en.wikipedia.org/wiki/Letter_frequency\n",
    "\n",
    "In this problem, we will focus on the 3rd methodology."
   ]
  },
  {
   "cell_type": "markdown",
   "metadata": {},
   "source": [
    "**Exercise 0** (2 points). First, given a string input, define a function  `preprocess` that returns a string with non-alphabetic characters removed and all the alphabets converted into a lower case. \n",
    "\n",
    "For example, 'We are coding letter Frequency! Yay!\" would be transformed into \"wearecodingletterfrequencyyay\""
   ]
  },
  {
   "cell_type": "markdown",
   "metadata": {},
   "source": [
    "### Scratch Work"
   ]
  },
  {
   "cell_type": "code",
   "execution_count": 1,
   "metadata": {},
   "outputs": [],
   "source": [
    "import string"
   ]
  },
  {
   "cell_type": "code",
   "execution_count": 2,
   "metadata": {
    "scrolled": true
   },
   "outputs": [
    {
     "data": {
      "text/plain": [
       "'abcdefghijklmnopqrstuvwxyzABCDEFGHIJKLMNOPQRSTUVWXYZ'"
      ]
     },
     "execution_count": 2,
     "metadata": {},
     "output_type": "execute_result"
    }
   ],
   "source": [
    "string.ascii_letters"
   ]
  },
  {
   "cell_type": "code",
   "execution_count": 3,
   "metadata": {},
   "outputs": [
    {
     "data": {
      "text/plain": [
       "'0123456789abcdefghijklmnopqrstuvwxyzABCDEFGHIJKLMNOPQRSTUVWXYZ!\"#$%&\\'()*+,-./:;<=>?@[\\\\]^_`{|}~ \\t\\n\\r\\x0b\\x0c'"
      ]
     },
     "execution_count": 3,
     "metadata": {},
     "output_type": "execute_result"
    }
   ],
   "source": [
    "string.printable"
   ]
  },
  {
   "cell_type": "code",
   "execution_count": 4,
   "metadata": {},
   "outputs": [
    {
     "data": {
      "text/plain": [
       "'!\"#$%&\\'()*+,-./:;<=>?@[\\\\]^_`{|}~ \\t\\n\\r\\x0b\\x0c'"
      ]
     },
     "execution_count": 4,
     "metadata": {},
     "output_type": "execute_result"
    }
   ],
   "source": [
    "string.printable[62:]"
   ]
  },
  {
   "cell_type": "markdown",
   "metadata": {},
   "source": [
    "### My Function (Exercise 0)"
   ]
  },
  {
   "cell_type": "code",
   "execution_count": 5,
   "metadata": {},
   "outputs": [],
   "source": [
    "def preprocess(S):\n",
    "    #\n",
    "    alphaonly = ''\n",
    "    for char in S:\n",
    "        if char not in string.ascii_letters:\n",
    "            S.strip(char)\n",
    "        else:\n",
    "            alphaonly += char\n",
    "    \n",
    "    return alphaonly.lower()\n",
    "    #"
   ]
  },
  {
   "cell_type": "code",
   "execution_count": 6,
   "metadata": {},
   "outputs": [
    {
     "name": "stdout",
     "output_type": "stream",
     "text": [
      "Input String:  14G+nS_9!\\>#-q~XcQKbd{c.|UPB:iPK[']4J9b,ZC{fIuD4B%i=lwV_\"!O\\lo/W!~H\\v=eg9Wlti\\!5$;T+Wo|Tb}hz|4WX]JFI\n",
      "|----Your function seems to work correct for the string----|\n",
      "\n",
      "Input String:  eS;6#84zM(MyS`i~_Ht3<NU[HeRX,oHAc@Zx:Ef`La;EDiNXm&1,ngG=Ei%X7!'*+lRXg#{k!(!8Zb$I/Vl\\eNC`:TW{>A67=lEF\n",
      "|----Your function seems to work correct for the string----|\n",
      "\n",
      "Input String:  ZW!2T(nRjC\"AnvPAy*gr]lkP=8v<WER`o{XhK(8k$voI/fQ!{~i$u8tnRxz+\\\"/$h/wc)q;6n_{bh}E*JQ)qn&\\5}[.kQ/1:.'K+\n",
      "|----Your function seems to work correct for the string----|\n",
      "\n",
      "\n",
      "(Passed)!\n"
     ]
    }
   ],
   "source": [
    "# Test cell: valid_string\n",
    "import random, string\n",
    "\n",
    "N_str = 100 #Length of random string\n",
    "\n",
    "def generate_str(n):\n",
    "    random_str = ''.join(random.choice(string.ascii_lowercase + string.ascii_uppercase + string.digits + string.punctuation) for _ in range(n))\n",
    "    return random_str\n",
    "\n",
    "def check_preprocess_str(n):\n",
    "    random_str = generate_str(n)\n",
    "    print(\"Input String: \",random_str)\n",
    "    assert preprocess('random_str').islower() == True\n",
    "    assert preprocess(random_str).isalpha() == True\n",
    "    print(\"|----Your function seems to work correct for the string----|\"+\"\\n\")\n",
    "\n",
    "check_preprocess_str(N_str)\n",
    "check_preprocess_str(N_str)\n",
    "check_preprocess_str(N_str)\n",
    "\n",
    "print(\"\\n(Passed)!\")"
   ]
  },
  {
   "cell_type": "markdown",
   "metadata": {},
   "source": [
    "**Exercise 1** (4 points). With the necessary pre-processing complete, the next step is to write a function `count_letters(S)` to count the number of occurrences of each letter in the alphabet.  \n",
    "\n",
    "You can assume that only letters will be present in the input string. It should output a dictionary and if any alphabet (a-z) is missing in the input string, it should still be a part of the output dictionary and its corresponding value should be equal to zero."
   ]
  },
  {
   "cell_type": "markdown",
   "metadata": {},
   "source": [
    "### Scratch"
   ]
  },
  {
   "cell_type": "code",
   "execution_count": 7,
   "metadata": {},
   "outputs": [],
   "source": [
    "raw_string = 'G>q#F!VdDOM?HD\\QU(>243{JHh`)&{&vO5IH(e[1>F?vO*s+RWd$H=>t]5Ul|VQ=VJ!Xw`dFit{f%Rp}^Kf}#U53c&NIWg;*ldy1'\n",
    "ppd_string = preprocess(raw_string)"
   ]
  },
  {
   "cell_type": "code",
   "execution_count": 8,
   "metadata": {},
   "outputs": [
    {
     "data": {
      "text/plain": [
       "'gqfvddomhdqujhhvoihefvosrwdhtulvqvjxwdfitfrpkfucniwgldy'"
      ]
     },
     "execution_count": 8,
     "metadata": {},
     "output_type": "execute_result"
    }
   ],
   "source": [
    "ppd_string"
   ]
  },
  {
   "cell_type": "code",
   "execution_count": 9,
   "metadata": {},
   "outputs": [],
   "source": [
    "from collections import Counter"
   ]
  },
  {
   "cell_type": "code",
   "execution_count": 10,
   "metadata": {},
   "outputs": [
    {
     "data": {
      "text/plain": [
       "'abcdefghijklmnopqrstuvwxyz'"
      ]
     },
     "execution_count": 10,
     "metadata": {},
     "output_type": "execute_result"
    }
   ],
   "source": [
    "string.ascii_lowercase"
   ]
  },
  {
   "cell_type": "code",
   "execution_count": 11,
   "metadata": {
    "scrolled": false
   },
   "outputs": [],
   "source": [
    "new_dict = dict(Counter(ppd_string))\n",
    "# new_dict"
   ]
  },
  {
   "cell_type": "code",
   "execution_count": 12,
   "metadata": {},
   "outputs": [],
   "source": [
    "for letter in string.ascii_lowercase:\n",
    "    if letter not in new_dict:\n",
    "        new_dict[letter] = 0\n",
    "    else:\n",
    "        continue"
   ]
  },
  {
   "cell_type": "code",
   "execution_count": 13,
   "metadata": {},
   "outputs": [
    {
     "data": {
      "text/plain": [
       "26"
      ]
     },
     "execution_count": 13,
     "metadata": {},
     "output_type": "execute_result"
    }
   ],
   "source": [
    "len(new_dict)"
   ]
  },
  {
   "cell_type": "markdown",
   "metadata": {},
   "source": [
    "### My Function (Exercise 1)"
   ]
  },
  {
   "cell_type": "code",
   "execution_count": 14,
   "metadata": {},
   "outputs": [],
   "source": [
    "def count_letters(S):\n",
    "    #\n",
    "    new_dict = Counter(S)\n",
    "    \n",
    "    for letter in string.ascii_lowercase:\n",
    "        if letter not in new_dict:\n",
    "            new_dict[letter] = 0\n",
    "        else:\n",
    "            continue\n",
    "            \n",
    "    return new_dict\n",
    "    #"
   ]
  },
  {
   "cell_type": "code",
   "execution_count": 15,
   "metadata": {},
   "outputs": [
    {
     "name": "stdout",
     "output_type": "stream",
     "text": [
      "Input String:  reaggjgyhgabcsrpedyhrtdfoqcbetxcejxqgdlufpqekpjcfvxgbqwmotuxlztqhpplhavbwulrrrodgvkmlobggwqoqbcuhenu\n",
      "Character frequency evaluated for:  s\n",
      "|----Your function seems to return correct freq for the char----|\n",
      "\n",
      "Input String:  vvacmhjgqmbogkdpskzriyouoqdzxiezgppxcwroqkmlvdxkxctgglcnofbyyjfzprkulhtccxlnyqodcyzaeanxnbnmauymnrfs\n",
      "Character frequency evaluated for:  b\n",
      "|----Your function seems to return correct freq for the char----|\n",
      "\n",
      "Input String:  cjzomdwgcbqmtcnvohoqmmmxwrfnwunjewbhqgfxklszcxngddsdpdzkxhrfaowbwrfrdvjyscmrmhgglbabkzjtljoalnlinsex\n",
      "Character frequency evaluated for:  g\n",
      "|----Your function seems to return correct freq for the char----|\n",
      "\n",
      "\n",
      "(Passed)!\n"
     ]
    }
   ],
   "source": [
    "# Test cell: count_letters\n",
    "import collections\n",
    "\n",
    "N_processed_str = 100\n",
    "\n",
    "def generate_processed_str(n):\n",
    "    random_processed_str = ''.join(random.choice(string.ascii_lowercase) for _ in range(n))\n",
    "    return random_processed_str\n",
    "\n",
    "def check_count_letters(S):\n",
    "    print(\"Input String: \",S)\n",
    "    random_char = chr(random.randint(97,122))\n",
    "    print(\"Character frequency evaluated for: \", random_char)\n",
    "    if(random_char in S):\n",
    "        assert count_letters(S)[random_char] == collections.Counter(S)[random_char]\n",
    "        print(\"|----Your function seems to return correct freq for the char----|\"+\"\\n\")\n",
    "    else:\n",
    "        assert count_letters(S)[random_char] == 0\n",
    "        print(\"|----Your function seems to return correct freq for the char----|\"+\"\\n\")\n",
    "        \n",
    "check_count_letters(generate_processed_str(N_processed_str))\n",
    "check_count_letters(generate_processed_str(N_processed_str))\n",
    "check_count_letters(generate_processed_str(N_processed_str))\n",
    "print(\"\\n(Passed)!\")"
   ]
  },
  {
   "cell_type": "markdown",
   "metadata": {},
   "source": [
    "**Exercise 2** (4 points). The next step is to sort the distribution of a dictionary containing all the letters in the alphabet as keys and number of occurrences in text as associated value. \n",
    "\n",
    "Sorting should be first done in decreasing order by occurrence count and for two elements with same count, the order should be alphabetic. The function  `find_top_letter(d)` should return the 1st character in the order."
   ]
  },
  {
   "cell_type": "markdown",
   "metadata": {},
   "source": [
    "### Scratch Work"
   ]
  },
  {
   "cell_type": "code",
   "execution_count": 16,
   "metadata": {},
   "outputs": [
    {
     "data": {
      "text/plain": [
       "[('d', 6),\n",
       " ('f', 5),\n",
       " ('v', 5),\n",
       " ('h', 5),\n",
       " ('q', 3),\n",
       " ('o', 3),\n",
       " ('u', 3),\n",
       " ('i', 3),\n",
       " ('w', 3),\n",
       " ('g', 2),\n",
       " ('j', 2),\n",
       " ('r', 2),\n",
       " ('t', 2),\n",
       " ('l', 2),\n",
       " ('m', 1),\n",
       " ('e', 1),\n",
       " ('s', 1),\n",
       " ('x', 1),\n",
       " ('p', 1),\n",
       " ('k', 1),\n",
       " ('c', 1),\n",
       " ('n', 1),\n",
       " ('y', 1),\n",
       " ('a', 0),\n",
       " ('b', 0),\n",
       " ('z', 0)]"
      ]
     },
     "execution_count": 16,
     "metadata": {},
     "output_type": "execute_result"
    }
   ],
   "source": [
    "sorted_d = sorted(new_dict.items(), key=lambda kv: kv[1], reverse=True)\n",
    "sorted_d"
   ]
  },
  {
   "cell_type": "markdown",
   "metadata": {},
   "source": [
    "### My Function (Exercise 2)"
   ]
  },
  {
   "cell_type": "code",
   "execution_count": 17,
   "metadata": {},
   "outputs": [],
   "source": [
    "def find_top_letter(d):\n",
    "    #\n",
    "    sorted_tup = sorted(d.items(), key=lambda kv: kv[1], reverse=True)\n",
    "    return sorted_tup[0][0]\n",
    "    #\n"
   ]
  },
  {
   "cell_type": "code",
   "execution_count": 18,
   "metadata": {},
   "outputs": [
    {
     "name": "stdout",
     "output_type": "stream",
     "text": [
      "Input Dictionary:  {'a': 11, 'b': 7, 'c': 1, 'd': 2, 'e': 16, 'f': 6, 'g': 3, 'h': 1, 'i': 6, 'j': 2, 'k': 17, 'l': 7, 'm': 6, 'n': 6, 'o': 15, 'p': 1, 'q': 4, 'r': 16, 's': 12, 't': 7, 'u': 12, 'v': 17, 'w': 7, 'x': 8, 'y': 11, 'z': 12}\n",
      "Your function correctly returned most frequent letter: k \n",
      "\n",
      "Input Dictionary:  {'a': 1, 'b': 2, 'c': 2, 'd': 2, 'e': 6, 'f': 4, 'g': 1, 'h': 0, 'i': 2, 'j': 7, 'k': 1, 'l': 2, 'm': 2, 'n': 0, 'o': 5, 'p': 7, 'q': 0, 'r': 0, 's': 3, 't': 3, 'u': 5, 'v': 0, 'w': 1, 'x': 2, 'y': 0, 'z': 5}\n",
      "Your function correctly returned most frequent letter: j \n",
      "\n",
      "Input Dictionary:  {'a': 0, 'b': 9, 'c': 10, 'd': 0, 'e': 1, 'f': 7, 'g': 5, 'h': 6, 'i': 4, 'j': 6, 'k': 6, 'l': 10, 'm': 7, 'n': 8, 'o': 7, 'p': 2, 'q': 4, 'r': 6, 's': 8, 't': 0, 'u': 4, 'v': 6, 'w': 7, 'x': 3, 'y': 3, 'z': 6}\n",
      "Your function correctly returned most frequent letter: c \n",
      "\n",
      "\n",
      "(Passed)!\n"
     ]
    }
   ],
   "source": [
    "# Test cell: highest_freq_letter\n",
    "\n",
    "def create_random_dict():\n",
    "    max_char_value = random.randint(5, 20)\n",
    "    random_dict = {c:random.randint(0,max_char_value-1) for c in string.ascii_lowercase}\n",
    "    random_letter1, random_letter2 = random.sample(string.ascii_lowercase, 2)\n",
    "    random_dict[random_letter1], random_dict[random_letter2] = max_char_value, max_char_value\n",
    "    if(random_letter1 < random_letter2):\n",
    "        return random_letter1, random_dict\n",
    "    else:\n",
    "        return random_letter2, random_dict\n",
    "\n",
    "def check_top_letter():\n",
    "    top_letter, random_dict = create_random_dict()\n",
    "    user_letter = find_top_letter(random_dict)\n",
    "    assert user_letter == top_letter\n",
    "    print(\"Input Dictionary: \", random_dict)\n",
    "    print(\"Your function correctly returned most frequent letter: {} \\n\".format(user_letter))\n",
    "    \n",
    "check_top_letter()\n",
    "check_top_letter()\n",
    "check_top_letter()\n",
    "print(\"\\n(Passed)!\")"
   ]
  },
  {
   "cell_type": "markdown",
   "metadata": {},
   "source": [
    "**Fin!** You've reached the end of this problem. Don't forget to restart the kernel and run the entire notebook from top-to-bottom to make sure you did everything correctly. If that is working, try submitting this problem. (Recall that you *must* submit and pass the autograder to get credit for your work!)"
   ]
  },
  {
   "cell_type": "code",
   "execution_count": null,
   "metadata": {},
   "outputs": [],
   "source": []
  }
 ],
 "metadata": {
  "kernelspec": {
   "display_name": "Python 3",
   "language": "python",
   "name": "python3"
  },
  "language_info": {
   "codemirror_mode": {
    "name": "ipython",
    "version": 3
   },
   "file_extension": ".py",
   "mimetype": "text/x-python",
   "name": "python",
   "nbconvert_exporter": "python",
   "pygments_lexer": "ipython3",
   "version": "3.6.5"
  }
 },
 "nbformat": 4,
 "nbformat_minor": 2
}
