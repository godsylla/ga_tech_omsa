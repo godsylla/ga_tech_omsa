{
 "cells": [
  {
   "cell_type": "markdown",
   "metadata": {},
   "source": [
    "# Association rule mining\n",
    "\n",
    "In this notebook, you'll implement the basic pairwise association rule mining algorithm.\n",
    "\n",
    "To keep the implementation simple, you will apply your implementation to a simplified dataset, namely, letters (\"items\") in words (\"receipts\" or \"baskets\"). Having finished that code, you will then apply that code to some grocery store market basket data. If you write the code well, it will not be difficult to reuse building blocks from the letter case in the basket data case."
   ]
  },
  {
   "cell_type": "markdown",
   "metadata": {},
   "source": [
    "## Problem definition\n",
    "\n",
    "Let's say you have a fragment of text in some language. You wish to know whether there are association rules among the letters that appear in a word. In this problem:\n",
    "\n",
    "- Words are \"receipts\"\n",
    "- Letters within a word are \"items\"\n",
    "\n",
    "You want to know whether there are _association rules_ of the form, $a \\implies b$, where $a$ and $b$ are letters. You will write code to do that by calculating for each rule its _confidence_, $\\mathrm{conf}(a \\implies b)$. \"Confidence\" will be another name for an estimate of the conditional probability of $b$ given $a$, or $\\mathrm{Pr}[b \\,|\\, a]$."
   ]
  },
  {
   "cell_type": "markdown",
   "metadata": {},
   "source": [
    "## Sample text input\n",
    "\n",
    "Let's carry out this analysis on a \"dummy\" text fragment, which graphic designers refer to as the [_lorem ipsum_](https://en.wikipedia.org/wiki/Lorem_ipsum):"
   ]
  },
  {
   "cell_type": "code",
   "execution_count": 1,
   "metadata": {},
   "outputs": [
    {
     "name": "stdout",
     "output_type": "stream",
     "text": [
      "First 100 characters:\n",
      "  \n",
      "Sed ut perspiciatis, unde omnis iste natus error sit\n",
      "voluptatem accusantium doloremque laudantium,  ...\n"
     ]
    }
   ],
   "source": [
    "latin_text = \"\"\"\n",
    "Sed ut perspiciatis, unde omnis iste natus error sit\n",
    "voluptatem accusantium doloremque laudantium, totam\n",
    "rem aperiam eaque ipsa, quae ab illo inventore\n",
    "veritatis et quasi architecto beatae vitae dicta\n",
    "sunt, explicabo. Nemo enim ipsam voluptatem, quia\n",
    "voluptas sit, aspernatur aut odit aut fugit, sed\n",
    "quia consequuntur magni dolores eos, qui ratione\n",
    "voluptatem sequi nesciunt, neque porro quisquam est,\n",
    "qui dolorem ipsum, quia dolor sit amet consectetur\n",
    "adipisci[ng] velit, sed quia non numquam [do] eius\n",
    "modi tempora inci[di]dunt, ut labore et dolore\n",
    "magnam aliquam quaerat voluptatem. Ut enim ad minima\n",
    "veniam, quis nostrum exercitationem ullam corporis\n",
    "suscipit laboriosam, nisi ut aliquid ex ea commodi\n",
    "consequatur? Quis autem vel eum iure reprehenderit,\n",
    "qui in ea voluptate velit esse, quam nihil molestiae\n",
    "consequatur, vel illum, qui dolorem eum fugiat, quo\n",
    "voluptas nulla pariatur?\n",
    "\n",
    "At vero eos et accusamus et iusto odio dignissimos\n",
    "ducimus, qui blanditiis praesentium voluptatum\n",
    "deleniti atque corrupti, quos dolores et quas\n",
    "molestias excepturi sint, obcaecati cupiditate non\n",
    "provident, similique sunt in culpa, qui officia\n",
    "deserunt mollitia animi, id est laborum et dolorum\n",
    "fuga. Et harum quidem rerum facilis est et expedita\n",
    "distinctio. Nam libero tempore, cum soluta nobis est\n",
    "eligendi optio, cumque nihil impedit, quo minus id,\n",
    "quod maxime placeat, facere possimus, omnis voluptas\n",
    "assumenda est, omnis dolor repellendus. Temporibus\n",
    "autem quibusdam et aut officiis debitis aut rerum\n",
    "necessitatibus saepe eveniet, ut et voluptates\n",
    "repudiandae sint et molestiae non recusandae. Itaque\n",
    "earum rerum hic tenetur a sapiente delectus, ut aut\n",
    "reiciendis voluptatibus maiores alias consequatur\n",
    "aut perferendis doloribus asperiores repellat.\n",
    "\"\"\"\n",
    "\n",
    "print(\"First 100 characters:\\n  {} ...\".format(latin_text[:100]))"
   ]
  },
  {
   "cell_type": "markdown",
   "metadata": {},
   "source": [
    "**Exercise 0** (ungraded). Look up and read the translation of _lorem ipsum_!"
   ]
  },
  {
   "cell_type": "markdown",
   "metadata": {},
   "source": [
    "**Data cleaning.** Like most data in the real world, this dataset is noisy. It has both uppercase and lowercase letters, words have repeated letters, and there are all sorts of non-alphabetic characters. For our analysis, we should keep all the letters and spaces (so we can identify distinct words), but we should ignore case and ignore repetition within a word.\n",
    "\n",
    "For example, the eighth word of this text is \"error.\" As an _itemset_, it consists of the three unique letters, $\\{e, o, r\\}$. That is, treat the word as a set, meaning you only keep the unique letters.\n",
    "\n",
    "This itemset has three possible _itempairs_: $\\{e, o\\}$, $\\{e, r\\}$, and $\\{o, r\\}$.\n",
    "\n",
    "Start by writing some code to help \"clean up\" the input."
   ]
  },
  {
   "cell_type": "markdown",
   "metadata": {},
   "source": [
    "**Exercise 1** (`normalize_string_test`: 2 points). Complete the following function, `normalize_string(s)`. The input `s` is a string (`str` object). The function should return a new string with (a) all characters converted to lowercase and (b) all non-alphabetic, non-whitespace characters removed.\n",
    "\n",
    "> _Clarification_. Scanning the sample text, `latin_text`, you may see things that look like special cases. For instance, `inci[di]dunt` and `[do]`. For these, simply remove the non-alphabetic characters and only separate the words if there is explicit whitespace.\n",
    ">\n",
    "> For instance, `inci[di]dunt` would become `incididunt` (as a single word) and `[do]` would become `do` as a standalone word because the original string has whitespace on either side. A period or comma without whitespace would, similarly, just be treated as a non-alphabetic character inside a word _unless_ there is explicit whitespace. So `e pluribus.unum basium` would become `e pluribusunum basium` even though your common-sense understanding might separate `pluribus` and `unum`.\n",
    ">\n",
    "> _Hint_. Regard as a whitespace character anything \"whitespace-like.\" That is, consider not just regular spaces, but also tabs, newlines, and perhaps others. To detect whitespaces easily, look for a \"high-level\" function that can help you do so rather than checking for literal space characters."
   ]
  },
  {
   "cell_type": "code",
   "execution_count": null,
   "metadata": {},
   "outputs": [],
   "source": []
  }
 ],
 "metadata": {
  "kernelspec": {
   "display_name": "Python 3",
   "language": "python",
   "name": "python3"
  },
  "language_info": {
   "codemirror_mode": {
    "name": "ipython",
    "version": 3
   },
   "file_extension": ".py",
   "mimetype": "text/x-python",
   "name": "python",
   "nbconvert_exporter": "python",
   "pygments_lexer": "ipython3",
   "version": "3.6.5"
  }
 },
 "nbformat": 4,
 "nbformat_minor": 2
}
