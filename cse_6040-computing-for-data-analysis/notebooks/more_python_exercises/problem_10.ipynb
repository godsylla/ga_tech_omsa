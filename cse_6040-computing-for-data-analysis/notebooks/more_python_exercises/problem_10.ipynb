{
 "cells": [
  {
   "cell_type": "markdown",
   "metadata": {},
   "source": [
    "# Problem 10"
   ]
  },
  {
   "cell_type": "markdown",
   "metadata": {},
   "source": [
    "\n",
    "The objective of this exercise is to check whether you can declare a winner based on the current state of a Tic-Tac-Toe (TTT) game (https://en.wikipedia.org/wiki/Tic-tac-toe).\n",
    "\n",
    "A state in the game of TTT can be represented as a list of lists as follows\n",
    "\n",
    "1. Crosses are represented by -1\n",
    "2. Circles are represented by +1\n",
    "3. Unused cells are represented by 0\n",
    "\n",
    "\n",
    "For example, the game below\n",
    "        ||col0|col1|col2|\n",
    "        |-|-|-|--|\n",
    "        |row0|0|0|-1|\n",
    "        |row1|1|-1|1|\n",
    "        |row2|-1|1|0|\n",
    "\n",
    "can be represented as a list of lists\n",
    "```python\n",
    "[[0,0,-1],\n",
    " [1,-1,1],\n",
    " [-1,1,0]]\n",
    "```"
   ]
  },
  {
   "cell_type": "markdown",
   "metadata": {},
   "source": [
    "**Exercise 0**  Write a function called `check_ttt(game)` that takes a list of 3 lists representing each row of a game's state and determines whether or not there is a winner. In particular, it should return one of the following strings:\n",
    "\n",
    "1. `\"Circles (+1) Win\"`\n",
    "2. `\"Crosses (-1) Win\"`\n",
    "3. `\"No Result\"`\n",
    "\n",
    "For example,\n",
    "\n",
    "```python\n",
    "    assert check_ttt([[0,0,-1],[1,-1,1],[-1,1,0]]) == \"Crosses (-1) Win\"\n",
    "```\n",
    "\n",
    "since there are three crosses (-1 values) along one of the diagonals of this board state.\n",
    "\n",
    "You may assume that the input is a valid game state, i.e., a list representing a $3 \\times 3$ grid with all cells having integer values in $\\{-1,0,1\\}$ and at most one current winner."
   ]
  },
  {
   "cell_type": "code",
   "execution_count": 1,
   "metadata": {},
   "outputs": [],
   "source": [
    "row = [1, 1, 1]"
   ]
  },
  {
   "cell_type": "code",
   "execution_count": 2,
   "metadata": {},
   "outputs": [
    {
     "data": {
      "text/plain": [
       "True"
      ]
     },
     "execution_count": 2,
     "metadata": {},
     "output_type": "execute_result"
    }
   ],
   "source": [
    "row.count(1) == 3"
   ]
  },
  {
   "cell_type": "code",
   "execution_count": 15,
   "metadata": {},
   "outputs": [],
   "source": [
    "def check_ttt(game):\n",
    "    # Check that the input is valid\n",
    "    assert type(game) == list\n",
    "    assert all([type(row) == list for row in game])\n",
    "    assert all([[elem in [0,1,-1] for elem in row] for row in game])\n",
    "    \n",
    "    diag_tlbr = []\n",
    "    diag_trbl = []\n",
    "    \n",
    "    col_0 = []\n",
    "    col_1 = []\n",
    "    col_2 = []\n",
    "    \n",
    "    i = 0\n",
    "    while i < len(game):\n",
    "        row = []\n",
    "        \n",
    "        j = 0\n",
    "        while j < len(game):\n",
    "            if i == j:\n",
    "                diag_tlbr.append(game[i][j])\n",
    "            \n",
    "            # diagonal trbl check\n",
    "            if i == 0 and j == 2:\n",
    "                diag_trbl.append(game[i][j])\n",
    "            elif i == 1 and j == 1:\n",
    "                diag_trbl.append(game[i][j])\n",
    "            elif i == 2 and j == 0:\n",
    "                diag_trbl.append(game[i][j])\n",
    "                 \n",
    "            row.append(game[i][j])        \n",
    "            col_0.append(game[0][j])\n",
    "            col_1.append(game[1][j])\n",
    "            col_2.append(game[2][j])\n",
    "            \n",
    "            j += 1\n",
    "        \n",
    "        # row-wise check or column-wise check:\n",
    "        if row.count(-1) == 3:\n",
    "            return (\"Crosses (-1) Win\")\n",
    "        if row.count(1) == 3 :\n",
    "            return (\"Circles (+1) Win\")\n",
    "        \n",
    "        i += 1\n",
    "    \n",
    "    if diag_tlbr.count(-1) == 3 or diag_trbl.count(-1) == 3 or col_0.count(-1) == 3 or col_1.count(-1) == 3 or col_2.count(-1) == 3:\n",
    "        return ('Crosses (-1) Win')\n",
    "    elif diag_tlbr.count(1) == 3 or diag_trbl.count(1) == 3 or col_0.count(1) == 3 or col_1.count(1) == 3 or col_2.count(1) == 3:\n",
    "        return ('Circles (+1) Win')\n",
    "    else:\n",
    "        return ('No Result')"
   ]
  },
  {
   "cell_type": "code",
   "execution_count": 20,
   "metadata": {},
   "outputs": [],
   "source": [
    "# Solution!!!\n",
    "\n",
    "# def check_ttt(game):\n",
    "#     # Check that the input is valid\n",
    "#     assert type(game) == list\n",
    "#     assert all([type(row) == list for row in game])\n",
    "#     assert all([[elem in [0,1,-1] for elem in row] for row in game])\n",
    "\n",
    "#     ### BEGIN SOLUTION\n",
    "#     # Check for horizontal and vertical sums\n",
    "#     for num in range(3):\n",
    "#         hor_sum = sum(game[num])\n",
    "#         vert_sum = sum([vert[num] for vert in game])\n",
    "#         if max(hor_sum,vert_sum)==3: return \"Circles (+1) Win\"\n",
    "#         elif min(hor_sum,vert_sum)==-3: return \"Crosses (-1) Win\"\n",
    "            \n",
    "#     # Check for diagonals\n",
    "#     diag_for = sum([diag[i] for i,diag in enumerate(game)])\n",
    "#     diag_back = sum([diag[2-i] for i,diag in enumerate(game)])\n",
    "#     if max(diag_for,diag_back)==3: return \"Circles (+1) Win\"\n",
    "#     elif min(diag_for,diag_back)==-3: return \"Crosses (-1) Win\"\n",
    "    \n",
    "#     return \"No Result\"\n",
    "#     ### END SOLUTION\n"
   ]
  },
  {
   "cell_type": "code",
   "execution_count": 16,
   "metadata": {},
   "outputs": [
    {
     "data": {
      "text/plain": [
       "'No Result'"
      ]
     },
     "execution_count": 16,
     "metadata": {},
     "output_type": "execute_result"
    }
   ],
   "source": [
    "check_ttt([[0,0,0] for elem in range(3)])"
   ]
  },
  {
   "cell_type": "code",
   "execution_count": 17,
   "metadata": {},
   "outputs": [
    {
     "name": "stdout",
     "output_type": "stream",
     "text": [
      "\n",
      "(Passed!)\n"
     ]
    }
   ],
   "source": [
    "# Test cell: test_cell_part0\n",
    "import random\n",
    "import numpy as np\n",
    "\n",
    "# test 1\n",
    "test_game1 = [[0,0,0] for elem in range(3)]\n",
    "assert check_ttt(test_game1) == \"No Result\"\n",
    "\n",
    "# test 2\n",
    "test_game2 = [[1,1,1],[-1,-1,0],[0,0,0]]\n",
    "assert check_ttt(test_game2) == \"Circles (+1) Win\"\n",
    "\n",
    "# test 3\n",
    "test_game3 = [[0,0,-1],[1,-1,1],[-1,1,0]]\n",
    "assert check_ttt(test_game3) == \"Crosses (-1) Win\"\n",
    "\n",
    "# test 4\n",
    "test_game4 = [[0,0,-1],[1,-1,-1],[1,1,-1]]\n",
    "assert check_ttt(test_game4) == \"Crosses (-1) Win\"\n",
    "\n",
    "print(\"\\n(Passed!)\")"
   ]
  },
  {
   "cell_type": "code",
   "execution_count": 19,
   "metadata": {},
   "outputs": [
    {
     "name": "stdout",
     "output_type": "stream",
     "text": [
      "testing function for random game states..\n",
      "---------- Game State 0 ----------\n",
      "[[ 0  0  1]\n",
      " [-1 -1  0]\n",
      " [ 0  1  0]]\n",
      "\n",
      "Your Result: Circles (+1) Win\n"
     ]
    },
    {
     "ename": "AssertionError",
     "evalue": "",
     "output_type": "error",
     "traceback": [
      "\u001b[0;31m---------------------------------------------------------------------------\u001b[0m",
      "\u001b[0;31mAssertionError\u001b[0m                            Traceback (most recent call last)",
      "\u001b[0;32m<ipython-input-19-7475d077aa89>\u001b[0m in \u001b[0;36m<module>\u001b[0;34m()\u001b[0m\n\u001b[1;32m     36\u001b[0m \u001b[0;32mfor\u001b[0m \u001b[0mi\u001b[0m \u001b[0;32min\u001b[0m \u001b[0mrange\u001b[0m\u001b[0;34m(\u001b[0m\u001b[0;36m20\u001b[0m\u001b[0;34m)\u001b[0m\u001b[0;34m:\u001b[0m\u001b[0;34m\u001b[0m\u001b[0m\n\u001b[1;32m     37\u001b[0m     \u001b[0mprint\u001b[0m\u001b[0;34m(\u001b[0m\u001b[0;34m\"---------- Game State {} ----------\"\u001b[0m\u001b[0;34m.\u001b[0m\u001b[0mformat\u001b[0m\u001b[0;34m(\u001b[0m\u001b[0mi\u001b[0m\u001b[0;34m)\u001b[0m\u001b[0;34m)\u001b[0m\u001b[0;34m\u001b[0m\u001b[0m\n\u001b[0;32m---> 38\u001b[0;31m     \u001b[0mtest_check_ttt\u001b[0m\u001b[0;34m(\u001b[0m\u001b[0;34m)\u001b[0m\u001b[0;34m\u001b[0m\u001b[0m\n\u001b[0m\u001b[1;32m     39\u001b[0m \u001b[0;34m\u001b[0m\u001b[0m\n\u001b[1;32m     40\u001b[0m \u001b[0mprint\u001b[0m\u001b[0;34m(\u001b[0m\u001b[0;34m\"\\n(Passed!)\"\u001b[0m\u001b[0;34m)\u001b[0m\u001b[0;34m\u001b[0m\u001b[0m\n",
      "\u001b[0;32m<ipython-input-19-7475d077aa89>\u001b[0m in \u001b[0;36mtest_check_ttt\u001b[0;34m()\u001b[0m\n\u001b[1;32m     31\u001b[0m     \u001b[0;32melif\u001b[0m \u001b[0mnp\u001b[0m\u001b[0;34m.\u001b[0m\u001b[0mflipud\u001b[0m\u001b[0;34m(\u001b[0m\u001b[0mtest_game_random\u001b[0m\u001b[0;34m)\u001b[0m\u001b[0;34m.\u001b[0m\u001b[0mtrace\u001b[0m\u001b[0;34m(\u001b[0m\u001b[0;34m)\u001b[0m \u001b[0;34m==\u001b[0m \u001b[0;34m-\u001b[0m\u001b[0;36m3\u001b[0m\u001b[0;34m:\u001b[0m \u001b[0;32massert\u001b[0m \u001b[0myour_answer\u001b[0m \u001b[0;34m==\u001b[0m \u001b[0;34m\"Crosses (-1) Win\"\u001b[0m\u001b[0;34m\u001b[0m\u001b[0m\n\u001b[1;32m     32\u001b[0m     \u001b[0;32melse\u001b[0m\u001b[0;34m:\u001b[0m\u001b[0;34m\u001b[0m\u001b[0m\n\u001b[0;32m---> 33\u001b[0;31m         \u001b[0;32massert\u001b[0m \u001b[0mcheck_ttt\u001b[0m\u001b[0;34m(\u001b[0m\u001b[0mtest_game_random\u001b[0m\u001b[0;34m)\u001b[0m \u001b[0;34m==\u001b[0m \u001b[0;34m\"No Result\"\u001b[0m\u001b[0;34m\u001b[0m\u001b[0m\n\u001b[0m\u001b[1;32m     34\u001b[0m \u001b[0;34m\u001b[0m\u001b[0m\n\u001b[1;32m     35\u001b[0m \u001b[0mprint\u001b[0m\u001b[0;34m(\u001b[0m\u001b[0;34m\"testing function for random game states..\"\u001b[0m\u001b[0;34m)\u001b[0m\u001b[0;34m\u001b[0m\u001b[0m\n",
      "\u001b[0;31mAssertionError\u001b[0m: "
     ]
    }
   ],
   "source": [
    "# Test cell: test_cell_part1\n",
    "import random\n",
    "import numpy as np\n",
    "\n",
    "\n",
    "def test_check_ttt():\n",
    "    test_game_random = [[0,0,0] for elem in range(3)]\n",
    "    boxes_filled = random.randint(0,8)\n",
    "    num_circles = int(boxes_filled/2)\n",
    "\n",
    "    circle_ind = random.sample(range(9),num_circles)\n",
    "    cross_ind = random.sample([elem for elem in range(9) if elem not in circle_ind],(boxes_filled-num_circles))        \n",
    "\n",
    "    for elem in circle_ind: test_game_random[int(elem/3)][elem%3] = 1\n",
    "    for elem in cross_ind: test_game_random[int(elem/3)][elem%3] = -1\n",
    "    print(np.array(test_game_random))\n",
    "    print(\"\\nYour Result: {}\".format(check_ttt(test_game_random)))\n",
    "\n",
    "    your_answer = check_ttt(test_game_random)\n",
    "    if 3 in np.sum(test_game_random,axis=0) and -3 in np.sum(test_game_random,axis=0): pass\n",
    "    elif 3 in np.sum(test_game_random,axis=1) and -3 in np.sum(test_game_random,axis=1): pass\n",
    "    elif 3 in np.sum(test_game_random,axis=0) and -3 in np.sum(test_game_random,axis=1): pass\n",
    "    elif 3 in np.sum(test_game_random,axis=1) and -3 in np.sum(test_game_random,axis=0): pass\n",
    "    elif 3 in np.sum(test_game_random,axis=0): assert your_answer == \"Circles (+1) Win\"\n",
    "    elif -3 in np.sum(test_game_random,axis=0): assert your_answer == \"Crosses (-1) Win\"\n",
    "    elif 3 in np.sum(test_game_random,axis=1): assert your_answer == \"Circles (+1) Win\"\n",
    "    elif -3 in np.sum(test_game_random,axis=1): assert your_answer == \"Crosses (-1) Win\"\n",
    "    elif np.trace(test_game_random) == 3: assert your_answer == \"Circles (+1) Win\"\n",
    "    elif np.trace(test_game_random) == -3: assert your_answer == \"Crosses (-1) Win\"\n",
    "    elif np.flipud(test_game_random).trace() == 3: assert your_answer == \"Circles (+1) Win\"\n",
    "    elif np.flipud(test_game_random).trace() == -3: assert your_answer == \"Crosses (-1) Win\"\n",
    "    else: \n",
    "        assert check_ttt(test_game_random) == \"No Result\"\n",
    "\n",
    "print(\"testing function for random game states..\")\n",
    "for i in range(20):\n",
    "    print(\"---------- Game State {} ----------\".format(i))\n",
    "    test_check_ttt()\n",
    "\n",
    "print(\"\\n(Passed!)\")"
   ]
  },
  {
   "cell_type": "code",
   "execution_count": null,
   "metadata": {},
   "outputs": [],
   "source": []
  }
 ],
 "metadata": {
  "kernelspec": {
   "display_name": "Python 3",
   "language": "python",
   "name": "python3"
  },
  "language_info": {
   "codemirror_mode": {
    "name": "ipython",
    "version": 3
   },
   "file_extension": ".py",
   "mimetype": "text/x-python",
   "name": "python",
   "nbconvert_exporter": "python",
   "pygments_lexer": "ipython3",
   "version": "3.6.5"
  }
 },
 "nbformat": 4,
 "nbformat_minor": 2
}
