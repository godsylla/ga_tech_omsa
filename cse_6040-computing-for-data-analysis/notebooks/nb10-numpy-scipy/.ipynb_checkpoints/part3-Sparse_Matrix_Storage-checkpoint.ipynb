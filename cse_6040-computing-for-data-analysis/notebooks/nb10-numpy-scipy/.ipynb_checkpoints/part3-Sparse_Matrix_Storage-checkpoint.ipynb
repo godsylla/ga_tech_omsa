{
 "cells": [
  {
   "cell_type": "markdown",
   "metadata": {
    "deletable": false,
    "editable": false,
    "nbgrader": {
     "grade": false,
     "grade_id": "cell-ef65176dd9b50242",
     "locked": true,
     "schema_version": 1,
     "solution": false
    }
   },
   "source": [
    "# Part 3: Sparse matrix storage\n",
    "\n",
    "This part is about sparse matrix storage in Numpy/Scipy. Start by running the following code cell to get some of the key modules you'll need."
   ]
  },
  {
   "cell_type": "code",
   "execution_count": 1,
   "metadata": {
    "deletable": false,
    "editable": false,
    "nbgrader": {
     "grade": false,
     "grade_id": "cell-6aa273f0bf5796d0",
     "locked": true,
     "schema_version": 1,
     "solution": false
    }
   },
   "outputs": [],
   "source": [
    "import numpy as np\n",
    "import pandas as pd\n",
    "from random import sample # Used to generate a random sample\n",
    "from IPython.display import display"
   ]
  },
  {
   "cell_type": "code",
   "execution_count": 2,
   "metadata": {},
   "outputs": [],
   "source": [
    "import requests\n",
    "import os\n",
    "import hashlib\n",
    "import io"
   ]
  },
  {
   "cell_type": "markdown",
   "metadata": {
    "deletable": false,
    "editable": false,
    "nbgrader": {
     "grade": false,
     "grade_id": "cell-6de0c71f2c3d02ac",
     "locked": true,
     "schema_version": 1,
     "solution": false
    }
   },
   "source": [
    "## Sample data\n",
    "\n",
    "For this part, you'll need to download the dataset below. It's a list of pairs of strings. The strings, it turns out, correspond to anonymized Yelp! user IDs; a pair $(a, b)$ exists if user $a$ is friends on Yelp! with user $b$."
   ]
  },
  {
   "cell_type": "markdown",
   "metadata": {
    "deletable": false,
    "editable": false,
    "nbgrader": {
     "grade": false,
     "grade_id": "cell-b2ac969cddb6c98c",
     "locked": true,
     "schema_version": 1,
     "solution": false
    }
   },
   "source": [
    "**Exercise 0** (ungraded). Verify that you can obtain the dataset and take a peek by running the two code cells that follow."
   ]
  },
  {
   "cell_type": "code",
   "execution_count": null,
   "metadata": {
    "deletable": false,
    "editable": false,
    "nbgrader": {
     "grade": true,
     "grade_id": "download",
     "locked": true,
     "points": 0,
     "schema_version": 1,
     "solution": false
    }
   },
   "outputs": [],
   "source": [
    "import requests\n",
    "import os\n",
    "import hashlib\n",
    "import io\n",
    "\n",
    "def is_vocareum():\n",
    "    return os.path.exists('.voc')\n",
    "\n",
    "if is_vocareum():\n",
    "    local_filename = '../resource/asnlib/publicdata/UserEdges-1M.csv'\n",
    "else:\n",
    "    local_filename = 'UserEdges-1M.csv'\n",
    "    url = 'https://cse6040.gatech.edu/datasets/{}'.format(url_suffix)\n",
    "    if os.path.exists(local_filename):\n",
    "        print(\"[{}]\\n==> '{}' is already available.\".format(url, file))\n",
    "    else:\n",
    "        print(\"[{}] Downloading...\".format(url))\n",
    "        r = requests.get(url)\n",
    "        with open(file, 'w', encoding=r.encoding) as f:\n",
    "            f.write(r.text)\n",
    "            \n",
    "checksum = '4668034bbcd2fa120915ea2d15eafa8d'\n",
    "with io.open(local_filename, 'r', encoding='utf-8', errors='replace') as f:\n",
    "    body = f.read()\n",
    "    body_checksum = hashlib.md5(body.encode('utf-8')).hexdigest()\n",
    "    assert body_checksum == checksum, \\\n",
    "        \"Downloaded file '{}' has incorrect checksum: '{}' instead of '{}'\".format(local_filename,\n",
    "                                                                                   body_checksum,\n",
    "                                                                                   checksum)\n",
    "    print(\"==> Checksum test passes: {}\".format(checksum))\n",
    "    \n",
    "print(\"==> '{}' is ready!\\n\".format(local_filename))\n",
    "print(\"(Auxiliary files appear to be ready.)\")"
   ]
  },
  {
   "cell_type": "code",
   "execution_count": null,
   "metadata": {
    "deletable": false,
    "editable": false,
    "nbgrader": {
     "grade": true,
     "grade_id": "peek",
     "locked": true,
     "points": 0,
     "schema_version": 1,
     "solution": false
    }
   },
   "outputs": [],
   "source": [
    "# Peek at the data:\n",
    "edges_raw = pd.read_csv(local_filename)\n",
    "display(edges_raw.head ())\n",
    "print(\"...\\n`edges_raw` has {} entries.\".format(len(edges_raw)))"
   ]
  },
  {
   "cell_type": "code",
   "execution_count": 3,
   "metadata": {
    "scrolled": true
   },
   "outputs": [
    {
     "data": {
      "text/html": [
       "<div>\n",
       "<style scoped>\n",
       "    .dataframe tbody tr th:only-of-type {\n",
       "        vertical-align: middle;\n",
       "    }\n",
       "\n",
       "    .dataframe tbody tr th {\n",
       "        vertical-align: top;\n",
       "    }\n",
       "\n",
       "    .dataframe thead th {\n",
       "        text-align: right;\n",
       "    }\n",
       "</style>\n",
       "<table border=\"1\" class=\"dataframe\">\n",
       "  <thead>\n",
       "    <tr style=\"text-align: right;\">\n",
       "      <th></th>\n",
       "      <th>Unnamed: 0</th>\n",
       "      <th>Source</th>\n",
       "      <th>Target</th>\n",
       "    </tr>\n",
       "  </thead>\n",
       "  <tbody>\n",
       "    <tr>\n",
       "      <th>0</th>\n",
       "      <td>0</td>\n",
       "      <td>18kPq7GPye-YQ3LyKyAZPw</td>\n",
       "      <td>rpOyqD_893cqmDAtJLbdog</td>\n",
       "    </tr>\n",
       "    <tr>\n",
       "      <th>1</th>\n",
       "      <td>1</td>\n",
       "      <td>18kPq7GPye-YQ3LyKyAZPw</td>\n",
       "      <td>4U9kSBLuBDU391x6bxU-YA</td>\n",
       "    </tr>\n",
       "    <tr>\n",
       "      <th>2</th>\n",
       "      <td>2</td>\n",
       "      <td>18kPq7GPye-YQ3LyKyAZPw</td>\n",
       "      <td>fHtTaujcyKvXglE33Z5yIw</td>\n",
       "    </tr>\n",
       "    <tr>\n",
       "      <th>3</th>\n",
       "      <td>3</td>\n",
       "      <td>18kPq7GPye-YQ3LyKyAZPw</td>\n",
       "      <td>8J4IIYcqBlFch8T90N923A</td>\n",
       "    </tr>\n",
       "    <tr>\n",
       "      <th>4</th>\n",
       "      <td>4</td>\n",
       "      <td>18kPq7GPye-YQ3LyKyAZPw</td>\n",
       "      <td>wy6l_zUo7SN0qrvNRWgySw</td>\n",
       "    </tr>\n",
       "  </tbody>\n",
       "</table>\n",
       "</div>"
      ],
      "text/plain": [
       "   Unnamed: 0                  Source                  Target\n",
       "0           0  18kPq7GPye-YQ3LyKyAZPw  rpOyqD_893cqmDAtJLbdog\n",
       "1           1  18kPq7GPye-YQ3LyKyAZPw  4U9kSBLuBDU391x6bxU-YA\n",
       "2           2  18kPq7GPye-YQ3LyKyAZPw  fHtTaujcyKvXglE33Z5yIw\n",
       "3           3  18kPq7GPye-YQ3LyKyAZPw  8J4IIYcqBlFch8T90N923A\n",
       "4           4  18kPq7GPye-YQ3LyKyAZPw  wy6l_zUo7SN0qrvNRWgySw"
      ]
     },
     "metadata": {},
     "output_type": "display_data"
    },
    {
     "name": "stdout",
     "output_type": "stream",
     "text": [
      "...\n",
      "`edges_raw` has 1,000,000 entries.\n"
     ]
    }
   ],
   "source": [
    "# Peek at the data:\n",
    "edges_raw = pd.read_csv('./edges_raw.csv')\n",
    "display(edges_raw.head ())\n",
    "print(\"...\\n`edges_raw` has {0:,d} entries.\".format(len(edges_raw)))"
   ]
  },
  {
   "cell_type": "markdown",
   "metadata": {
    "deletable": false,
    "editable": false,
    "nbgrader": {
     "grade": false,
     "locked": true,
     "solution": false
    }
   },
   "source": [
    "Evidently, this dataframe has one million entries."
   ]
  },
  {
   "cell_type": "markdown",
   "metadata": {
    "deletable": false,
    "editable": false,
    "nbgrader": {
     "grade": false,
     "grade_id": "cell-9be12247572b9e2c",
     "locked": true,
     "schema_version": 1,
     "solution": false
    }
   },
   "source": [
    "**Exercise 1** (ungraded). Explain what the following code cell does."
   ]
  },
  {
   "cell_type": "code",
   "execution_count": 4,
   "metadata": {},
   "outputs": [
    {
     "name": "stdout",
     "output_type": "stream",
     "text": [
      "edges_raw_trans has length 1,000,000\n",
      "edges_raw_symm has length 2,000,000\n"
     ]
    },
    {
     "name": "stderr",
     "output_type": "stream",
     "text": [
      "/opt/conda/lib/python3.6/site-packages/ipykernel_launcher.py:5: FutureWarning: Sorting because non-concatenation axis is not aligned. A future version\n",
      "of pandas will change to not sort by default.\n",
      "\n",
      "To accept the future behavior, pass 'sort=False'.\n",
      "\n",
      "To retain the current behavior and silence the warning, pass 'sort=True'.\n",
      "\n",
      "  \"\"\"\n"
     ]
    },
    {
     "name": "stdout",
     "output_type": "stream",
     "text": [
      "edges has length 882,640\n",
      "==> |V| == 107456, |E| == 882640\n"
     ]
    }
   ],
   "source": [
    "edges_raw_trans = pd.DataFrame({'Source': edges_raw['Target'],\n",
    "                                'Target': edges_raw['Source']})\n",
    "print('edges_raw_trans has length {0:,d}'.format(len(edges_raw_trans)))\n",
    "\n",
    "edges_raw_symm = pd.concat([edges_raw, edges_raw_trans])\n",
    "print('edges_raw_symm has length {0:,d}'.format(len(edges_raw_symm)))\n",
    "\n",
    "edges = edges_raw_symm.drop_duplicates(subset=(['Source', 'Target']))\n",
    "print('edges has length {0:,d}'.format(len(edges)))\n",
    "\n",
    "V_names = set(edges['Source'])\n",
    "V_names.update(set(edges['Target']))\n",
    "\n",
    "num_edges = len(edges)\n",
    "num_verts = len(V_names)\n",
    "print(\"==> |V| == {}, |E| == {}\".format(num_verts, num_edges))"
   ]
  },
  {
   "cell_type": "markdown",
   "metadata": {
    "deletable": false,
    "editable": false,
    "nbgrader": {
     "grade": false,
     "grade_id": "cell-fbdbd32e87cb254e",
     "locked": true,
     "schema_version": 1,
     "solution": false
    }
   },
   "source": [
    "**Answer.** Give this question some thought before peeking at our suggested answer, which follows.\n",
    "\n",
    "Recall that the input dataframe, `edges_raw`, has a row $(a, b)$ if $a$ and $b$ are friends. But here is what is unclear at the outset: if $(a, b)$ is an entry in this table, is $(b, a)$ also an entry? The code in the above cell effectively figures that out, by computing a dataframe, `edges`, that contains both $(a, b)$ and $(b, a)$, with no additional duplicates, i.e., no copies of $(a, b)$.\n",
    "\n",
    "It also uses sets to construct a set, `V_names`, that consists of all the names. Evidently, the dataset consists of 107,456 unique names and 441,320 unique pairs, or 882,640 pairs when you \"symmetrize\" to ensure that both $(a, b)$ and $(b, a)$ appear."
   ]
  },
  {
   "cell_type": "markdown",
   "metadata": {
    "deletable": false,
    "editable": false,
    "nbgrader": {
     "grade": false,
     "grade_id": "cell-be3161d594957194",
     "locked": true,
     "schema_version": 1,
     "solution": false
    }
   },
   "source": [
    "## Graphs\n",
    "\n",
    "One way a computer scientist thinks of this collection of pairs is as a _graph_: \n",
    "https://en.wikipedia.org/wiki/Graph_(discrete_mathematics%29)\n",
    "\n",
    "The names or user IDs are _nodes_ or _vertices_ of this graph; the pairs are _edges_, or arrows that connect vertices. That's why the final output objects are named `V_names` (for vertex names) and `edges` (for the vertex-to-vertex relationships). The process or calculation to ensure that both $(a, b)$ and $(b, a)$ are contained in `edges` is sometimes referred to as _symmetrizing_ the graph: it ensures that if an edge $a \\rightarrow b$ exists, then so does $b \\rightarrow a$. If that's true for all edges, then the graph is _undirected_. The Wikipedia page linked to above explains these terms with some examples and helpful pictures, so take a moment to review that material before moving on.\n",
    "\n",
    "We'll also refer to this collection of vertices and edges as the _connectivity graph_."
   ]
  },
  {
   "cell_type": "markdown",
   "metadata": {
    "deletable": false,
    "editable": false,
    "nbgrader": {
     "grade": false,
     "grade_id": "cell-d071e1c08339a51a",
     "locked": true,
     "schema_version": 1,
     "solution": false
    }
   },
   "source": [
    "## Sparse matrix storage: Baseline methods\n",
    "\n",
    "Let's start by reminding ourselves how our previous method for storing sparse matrices, based on nested default dictionaries, works and performs."
   ]
  },
  {
   "cell_type": "code",
   "execution_count": 5,
   "metadata": {
    "deletable": false,
    "editable": false,
    "nbgrader": {
     "grade": false,
     "grade_id": "cell-3d39f8d2b811b0cd",
     "locked": true,
     "schema_version": 1,
     "solution": false
    }
   },
   "outputs": [],
   "source": [
    "def sparse_matrix(base_type=float):\n",
    "    \"\"\"Returns a sparse matrix using nested default dictionaries.\"\"\"\n",
    "    from collections import defaultdict\n",
    "    return defaultdict(lambda: defaultdict (base_type))\n",
    "\n",
    "def dense_vector(init, base_type=float):\n",
    "    \"\"\"\n",
    "    Returns a dense vector, either of a given length\n",
    "    and initialized to 0 values or using a given list\n",
    "    of initial values.\n",
    "    \"\"\"\n",
    "    # Case 1: `init` is a list of initial values for the vector entries\n",
    "    if type(init) is list:\n",
    "        initial_values = init\n",
    "        return [base_type(x) for x in initial_values]\n",
    "    \n",
    "    # Else, case 2: `init` is a vector length.\n",
    "    assert type(init) is int\n",
    "    return [base_type(0)] * init"
   ]
  },
  {
   "cell_type": "markdown",
   "metadata": {
    "deletable": false,
    "editable": false,
    "nbgrader": {
     "grade": false,
     "grade_id": "cell-d8b0991e3ceff246",
     "locked": true,
     "schema_version": 1,
     "solution": false
    }
   },
   "source": [
    "**Exercise 2** (3 points). Implement a function to compute $y \\leftarrow A x$. Assume that the keys of the sparse matrix data structure are integers in the interval $[0, s)$ where $s$ is the number of rows or columns as appropriate."
   ]
  },
  {
   "cell_type": "code",
   "execution_count": 6,
   "metadata": {},
   "outputs": [
    {
     "data": {
      "text/plain": [
       "defaultdict(<function __main__.sparse_matrix.<locals>.<lambda>()>,\n",
       "            {0: defaultdict(float, {1: -2.5, 2: 1.2}),\n",
       "             1: defaultdict(float, {0: 0.1, 1: 1.0}),\n",
       "             2: defaultdict(float, {0: 6.0, 1: -1.0})})"
      ]
     },
     "execution_count": 6,
     "metadata": {},
     "output_type": "execute_result"
    }
   ],
   "source": [
    "test_A = sparse_matrix()\n",
    "test_A\n",
    "\n",
    "test_A[0][1] = -2.5\n",
    "test_A[0][2] = 1.2\n",
    "test_A[1][0] = 0.1\n",
    "test_A[1][1] = 1.\n",
    "test_A[2][0] = 6.\n",
    "test_A[2][1] = -1.\n",
    "\n",
    "test_A"
   ]
  },
  {
   "cell_type": "code",
   "execution_count": 7,
   "metadata": {
    "scrolled": false
   },
   "outputs": [
    {
     "data": {
      "text/plain": [
       "dict_keys([1, 2])"
      ]
     },
     "metadata": {},
     "output_type": "display_data"
    },
    {
     "data": {
      "text/plain": [
       "dict_values([-2.5, 1.2])"
      ]
     },
     "metadata": {},
     "output_type": "display_data"
    }
   ],
   "source": [
    "display(test_A.get(0).keys())\n",
    "display(test_A.get(0).values())"
   ]
  },
  {
   "cell_type": "code",
   "execution_count": 8,
   "metadata": {},
   "outputs": [
    {
     "data": {
      "text/plain": [
       "-2.5"
      ]
     },
     "execution_count": 8,
     "metadata": {},
     "output_type": "execute_result"
    }
   ],
   "source": [
    "test_A[0][1]"
   ]
  },
  {
   "cell_type": "code",
   "execution_count": 9,
   "metadata": {},
   "outputs": [
    {
     "data": {
      "text/plain": [
       "[(1, -2.5), (2, 1.2)]"
      ]
     },
     "execution_count": 9,
     "metadata": {},
     "output_type": "execute_result"
    }
   ],
   "source": [
    "list(zip(test_A.get(0).keys(), test_A.get(0).values()))"
   ]
  },
  {
   "cell_type": "code",
   "execution_count": 12,
   "metadata": {
    "deletable": false,
    "nbgrader": {
     "checksum": "955f962052f5c6c7312b202a1718c6b2",
     "grade": false,
     "grade_id": "spmv_baseline",
     "locked": false,
     "schema_version": 1,
     "solution": true
    }
   },
   "outputs": [],
   "source": [
    "def spmv(A, x, num_rows=None): \n",
    "    if num_rows is None:\n",
    "        num_rows = max(A.keys()) + 1\n",
    "    y = dense_vector(num_rows) \n",
    "    \n",
    "    # Recall: y = A*x is, conceptually,\n",
    "    # F or all i, y[i] == sum over all j of (A[i, j] * x[j])\n",
    "    \n",
    "    ###\n",
    "    for i in range(len(A)):\n",
    "        # Gets all the indices of that row in A w/ non-zero values\n",
    "        keys = A[i].keys() \n",
    "        \n",
    "        # Only perform the multiplcation for non-zero values of A[i], waste of time/energy/memory otherwise\n",
    "        to_sum = [(xj * A[i][j]) for j, xj in enumerate(x) if j in keys] \n",
    "\n",
    "        # Replace the zeros in the y above, which was assigned a dense vector of 0's\n",
    "        y[i] = np.sum(to_sum) \n",
    "    ###\n",
    "    \n",
    "    return y"
   ]
  },
  {
   "cell_type": "code",
   "execution_count": 13,
   "metadata": {
    "deletable": false,
    "editable": false,
    "nbgrader": {
     "checksum": "515643bf850dd079b899416eb1ff2308",
     "grade": true,
     "grade_id": "spmv_baseline_test",
     "locked": true,
     "points": 3,
     "schema_version": 1,
     "solution": false
    },
    "scrolled": true
   },
   "outputs": [
    {
     "name": "stdout",
     "output_type": "stream",
     "text": [
      "==> A: defaultdict(<function sparse_matrix.<locals>.<lambda> at 0x7f64abf55d90>, {0: defaultdict(<class 'float'>, {1: -2.5, 2: 1.2}), 1: defaultdict(<class 'float'>, {0: 0.1, 1: 1.0}), 2: defaultdict(<class 'float'>, {0: 6.0, 1: -1.0})})\n",
      "==> x: [1.0, 2.0, 3.0]\n",
      "==> True solution, y0: [-1.4, 2.1, 4.0]\n",
      "==> Your solution, y: [-1.4000000000000004, 2.1000000000000001, 4.0]\n",
      "==> Residual (infinity norm): 4.4408920985e-16\n",
      "\n",
      "(Passed.)\n"
     ]
    }
   ],
   "source": [
    "# Test cell: `spmv_baseline_test`\n",
    "\n",
    "#   / 0.   -2.5   1.2 \\   / 1. \\   / -1.4 \\\n",
    "#   | 0.1   1.    0.  | * | 2. | = |  2.1 |\n",
    "#   \\ 6.   -1.    0.  /   \\ 3. /   \\  4.0 /\n",
    "\n",
    "A = sparse_matrix ()\n",
    "A[0][1] = -2.5\n",
    "A[0][2] = 1.2\n",
    "A[1][0] = 0.1\n",
    "A[1][1] = 1.\n",
    "A[2][0] = 6.\n",
    "A[2][1] = -1.\n",
    "\n",
    "x = dense_vector ([1, 2, 3])\n",
    "y0 = dense_vector ([-1.4, 2.1, 4.0])\n",
    "\n",
    "\n",
    "# Try your code:\n",
    "y = spmv(A, x)\n",
    "\n",
    "max_abs_residual = max([abs(a-b) for a, b in zip(y, y0)])\n",
    "\n",
    "print (\"==> A:\", A)\n",
    "print (\"==> x:\", x)\n",
    "print (\"==> True solution, y0:\", y0)\n",
    "print (\"==> Your solution, y:\", y)\n",
    "print (\"==> Residual (infinity norm):\", max_abs_residual)\n",
    "assert max_abs_residual <= 1e-14\n",
    "\n",
    "print (\"\\n(Passed.)\")"
   ]
  },
  {
   "cell_type": "markdown",
   "metadata": {
    "deletable": false,
    "editable": false,
    "nbgrader": {
     "grade": false,
     "locked": true,
     "solution": false
    }
   },
   "source": [
    "Next, let's convert the `edges` input into a sparse matrix representing its connectivity graph. To do so, we'll first want to map names to integers."
   ]
  },
  {
   "cell_type": "code",
   "execution_count": 14,
   "metadata": {
    "deletable": false,
    "editable": false,
    "nbgrader": {
     "grade": false,
     "locked": true,
     "solution": false
    },
    "scrolled": true
   },
   "outputs": [
    {
     "name": "stdout",
     "output_type": "stream",
     "text": [
      "Name xUcwJRXMTIvlN7kWtPTXTQ -> Vertex id 0\n",
      "Name riefgRE-aAMfo37zdBX5nQ -> Vertex id 1\n",
      "Name q8X9k4dyFsBeeDRf5Fq2rw -> Vertex id 2\n",
      "Name SlfoQx3G6dQ40KyqrW-VrQ -> Vertex id 3\n",
      "Name FuUiZc7I0wQ5rkU6HPH5iw -> Vertex id 4\n",
      "Name 81oMXHvg9mmD1uLWLiR8kg -> Vertex id 5\n",
      "...\n"
     ]
    }
   ],
   "source": [
    "id2name = {} # id2name[id] == name\n",
    "name2id = {} # name2id[name] == id\n",
    "\n",
    "for k, v in enumerate (V_names):\n",
    "    # for debugging\n",
    "    if k <= 5: print (\"Name %s -> Vertex id %d\" % (v, k))\n",
    "    if k == 6: print (\"...\")\n",
    "        \n",
    "    id2name[k] = v\n",
    "    name2id[v] = k"
   ]
  },
  {
   "cell_type": "code",
   "execution_count": 15,
   "metadata": {},
   "outputs": [],
   "source": [
    "# id2name"
   ]
  },
  {
   "cell_type": "code",
   "execution_count": 38,
   "metadata": {},
   "outputs": [
    {
     "data": {
      "text/plain": [
       "{'xUcwJRXMTIvlN7kWtPTXTQ': 0,\n",
       " 'riefgRE-aAMfo37zdBX5nQ': 1,\n",
       " 'q8X9k4dyFsBeeDRf5Fq2rw': 2,\n",
       " 'SlfoQx3G6dQ40KyqrW-VrQ': 3,\n",
       " 'FuUiZc7I0wQ5rkU6HPH5iw': 4,\n",
       " '81oMXHvg9mmD1uLWLiR8kg': 5,\n",
       " 'jyYSR6DeqjhRFcm8lPpgNw': 6,\n",
       " 'kcWap4e0FS8DQdVvdO84Wg': 7,\n",
       " 'kK2WI8mE96hmPsntTo-pRg': 8,\n",
       " '-Od-1rUupxPXl9rCYYEeSg': 9,\n",
       " '9JR1jGKMkK2IzFEo_3i-jA': 10,\n",
       " 'S3IBZCBhHT_8l0Qt76wzLA': 11,\n",
       " 'AJOrnDVb_WWppU_wwoQIdg': 12,\n",
       " 'RSp71p9HBeQwQxXQuumtZA': 13,\n",
       " 'wgqeNUapayf_1bJ9JSUSZw': 14,\n",
       " 'jqjGDP4ZSH481EMa4h64KQ': 15,\n",
       " 'QFmFo6MLoRL8GQ9ptNI5pQ': 16,\n",
       " 'VJXn4VDpcMQmTDqz8JMb3w': 17,\n",
       " '-MT4pBq26tYibSs42UjX-w': 18,\n",
       " 'K-7se8zExLT_jvfz45-_Lg': 19,\n",
       " 's7UTshZKBmIsLpba-O1hfg': 20,\n",
       " 'lp7ybpJnQHBqo8CV4EbmnA': 21,\n",
       " '3QGhFUfEqHpk1NdrsarCzQ': 22,\n",
       " 'gNF8usOGLdvdJL4aVp8IOQ': 23,\n",
       " '5AxI11qlyk9irUegPOxMJg': 24,\n",
       " 'm0udKYRtHL9eA_tH-vs7Hg': 25,\n",
       " 'GdekSs5TvIHIe3157aOx3A': 26,\n",
       " 'dnWeMdNruhHbwKtKvY5d8w': 27,\n",
       " 'cwkK4H0O02GoeXpYZsEoJg': 28,\n",
       " 'YCqOvxKHZqk1Qi8JzCYCTA': 29,\n",
       " 'aiGYvxKzTu6T0aVwUpU2Yg': 30,\n",
       " 'mEtKZnis8x6cNr60JSsgmA': 31,\n",
       " 'ODwWlhhRvR7igDludQKUQg': 32,\n",
       " '9l9DCK0aCiAxCa63lXQdhw': 33,\n",
       " 'i2hmvgb4MOsr7r0o87hdaw': 34,\n",
       " 'rhNukHCiBrGuKoBLmthubg': 35,\n",
       " 'wWiHt5Pj5oFvhziUEfvqFw': 36,\n",
       " '1yMUJXEkDtCFWCZcl1uPdA': 37,\n",
       " 'J3g-vslaipq8oYqb-aatRg': 38,\n",
       " '655r4zXyr4h01LFLFLBSaA': 39,\n",
       " '6a35XRnYdwfC92ZadNOlkw': 40,\n",
       " '07kHg0w8iONH6KyPn1cPuQ': 41,\n",
       " 'brPRPh0zO-lfoiEJlNRLmw': 42,\n",
       " 'TK7yRocuroDWjSk7xH2A4w': 43,\n",
       " '8Bdd3GAN3GGLzAkHJREX6A': 44,\n",
       " 'p1dOksOeJa2PgZ5RSPNdcw': 45,\n",
       " '_jKweejaiA14hbDI9YTf6A': 46,\n",
       " 'p7Lda6KxqarDy05wu13zeA': 47,\n",
       " 'dTAfTGtvgY10JR-Fda8m_w': 48,\n",
       " 'wkg3vUgiAxtwOXiWHFOQCA': 49,\n",
       " 'D8JZnUA6XwlvGZM9pGOFgw': 50,\n",
       " 'qpRtKRxgjDrH16I9Xo2beA': 51,\n",
       " 'KOkF-ByKl3S5Z9tAzuT3lQ': 52,\n",
       " '30d4gQRfSACPeqmEHYw4Bw': 53,\n",
       " 'jmPJG1GNIeLuKjBb5B9rKw': 54,\n",
       " '8n3T57EUV79dZda2biGveA': 55,\n",
       " 'V0LugrEgWMcnXHPVHf0_xg': 56,\n",
       " 'JFgoh_2nrrJWg9zNA0OeOw': 57,\n",
       " 'vHpPIkPqP7BIRJSWx3OUqA': 58,\n",
       " 'G7W8ga90GlfzxUsbK7ammw': 59,\n",
       " 'bB0QQf-wOtWBbfZpn8PfHQ': 60,\n",
       " 'JbpK9S9-6_U-UJbUKciGUA': 61,\n",
       " 'ga3kCVaEJH1SClbFMVa0Mg': 62,\n",
       " 'zWzSGINcAet2ykfoFr7sDA': 63,\n",
       " '2N_Cd7ICNqIomSOpOqbeBw': 64,\n",
       " '5HU_bpuRrU06ougOcYcbzw': 65,\n",
       " 'oKnq3etc2jVRS-BYDJq88g': 66,\n",
       " '23bSLTn56zTqAcaA6LyvYQ': 67,\n",
       " 'LlAYDQFl7A_ii6VKRfTBCA': 68,\n",
       " 'CTiv6SrpNJyV3RTGc57Jgw': 69,\n",
       " 'h88uEsrXNPSf87XqFypzLA': 70,\n",
       " 'MzqO1g_U_5a8mSP2FTm-3A': 71,\n",
       " 'lIQWSLRM1w0APvFrZIODug': 72,\n",
       " 'spNqsxYL6xDMR_UbvtTJ_Q': 73,\n",
       " 'sSeyrnBkM6qkP6v_Xf2l4g': 74,\n",
       " 'eoE4Y-W-auosWy13LpXH1w': 75,\n",
       " 'dbxUuf4KjKtx9PECdC7LJw': 76,\n",
       " '1r0u_D78v8Ao8J7Mb0AeSw': 77,\n",
       " 'u5tn4GVrpTcvhzm_dv-qYA': 78,\n",
       " 'Nb6VWk7Oi0Aq8JD1w3w_2A': 79,\n",
       " 'tjq2Q0hhBlA-l2GCw1cRxg': 80,\n",
       " '_DvX3if919nMHv6Mcm-rTg': 81,\n",
       " 'sVS0a9QMBVrA5cJCZr5PqQ': 82,\n",
       " 'hYYtPei7V1p4S_WirtV_Jw': 83,\n",
       " 'wdcG3dkRDAk20E82MwJm3A': 84,\n",
       " '_iQtmNa_CJUPdX7-OwlsXg': 85,\n",
       " 'b0FbzM4BB9qQhfwcfQtWRA': 86,\n",
       " 'ocj5JHxeNeHnLqOLf6KuQg': 87,\n",
       " 'A6NzIh1quCXyqGtt--WnfQ': 88,\n",
       " '0wJD3Th7IulPNYDx3BgA8w': 89,\n",
       " 'Mck3OMJSoLZCFpr_wRC72w': 90,\n",
       " 'GwzCBBt-kZf_prHziQQEsA': 91,\n",
       " 'VMGSjB7sprcxQp-Wg_Iaiw': 92,\n",
       " 'MnFFGQRYeGFxX9UfngbzJg': 93,\n",
       " 'WxeD74JGiwjljzHndYSvmw': 94,\n",
       " 'KCz3b3E6DUZEEZqDH2-hoA': 95,\n",
       " 'D0ZzhnWmAs0Wq0gaGdFIjA': 96,\n",
       " 'jIvz8ZpwC1xpLIbB8oT1fQ': 97,\n",
       " 'hjbjUfuePA9QG62oWGI7XA': 98,\n",
       " 'KczTCMN4KB-BfK851ZlcMQ': 99,\n",
       " 'UQftk0QACDEf3n2Xe6LGOg': 100,\n",
       " 'AseTez2js_EH-zKKzRuaAQ': 101,\n",
       " 'pb-v4zMXSnJ5AnblhBkWCQ': 102,\n",
       " 'ZUSvtaypw9_X6tkC1G3PvQ': 103,\n",
       " 'GHfBR9yVXkLeKgobH52Jiw': 104,\n",
       " 'kcOH1mdRy9OgSNXb6bTFfw': 105,\n",
       " '3BAQfSjFfUwqlFXJdcsEEg': 106,\n",
       " '7Rfg_PLtU-Kny47JFj3jYQ': 107,\n",
       " 'mHvkRbN8-uAIOHwRSPewNA': 108,\n",
       " 'Nugl2IYSaHE-JlEDH8K1yQ': 109,\n",
       " 'XGlkEk9X_bcP2deSfOvCpQ': 110,\n",
       " 'LCF7WRXtVbFXd-H78EPFBA': 111,\n",
       " 'A44fsxUzm-XFNs7a9QGk4w': 112,\n",
       " 'mKdzt7wa73H1CVY6sHZNKg': 113,\n",
       " 'OVVWKixXN3E_f0uVhwXMmA': 114,\n",
       " 'HEjEYwYkWLJK12oi19N9uw': 115,\n",
       " '1qZCQNeHzOpii2o6Ep2RSg': 116,\n",
       " 'Y396iyIndDSZKcVs-2M9hQ': 117,\n",
       " 'cT2S9BA9-wtFuXP2ELfy_g': 118,\n",
       " 'KLZcEBdlJ5rC4jJ10F7FNQ': 119,\n",
       " 'slFkHmC36WIK26w8KCuSEw': 120,\n",
       " 'KT-eLZzICsY1NkFTyfW0yA': 121,\n",
       " 'ugzrG73rgqpuQtoQ7O3Wyw': 122,\n",
       " 'gx1gLCM5FDeJXyMb7B3njQ': 123,\n",
       " '6rTpWLpIa3PMMM_MYzwneQ': 124,\n",
       " 'XW8B9JAn5XpC6FWuMbditQ': 125,\n",
       " 'TfT1W9ogzRjGLTo2fa_-SA': 126,\n",
       " 'Bqh1OUXH2OcHeHsi3juVqA': 127,\n",
       " '4d6gHTch3Mytp02o-tzV9Q': 128,\n",
       " 'QQxKZ4mSghVDqVPt9dFdLg': 129,\n",
       " 'NkpdKgJLLjRmzkagL76Oww': 130,\n",
       " 'DW3iqYxSO2Ti2t4oF49jzw': 131,\n",
       " '9-hzs7rUpkfiFsTztp6bPA': 132,\n",
       " 'nfW86elqE-uS8yfiKiHWlQ': 133,\n",
       " 'K2xnNzcEw1DdqbLGqTF9Rw': 134,\n",
       " 'HquCK6xTmqpybGrysHo7Bw': 135,\n",
       " 'ylhdUr8BHQq--4iBASeX1w': 136,\n",
       " 'S6dMSg6glAJjZKQzPJh6qQ': 137,\n",
       " 'EnQBKI933UQhMWQUXkSnOQ': 138,\n",
       " 'K3Y1sEzw7Lo12wI9KM2T7Q': 139,\n",
       " 'PBnaEyGkXjeqXzZ_U1yofQ': 140,\n",
       " 'Oo0AAdkcS3h5xiqgQWbiQA': 141,\n",
       " 'kkbEkF1aiydfokVy-pawIw': 142,\n",
       " 'v6hapcCh7wEqANNd_KkYrw': 143,\n",
       " '5fC_3pB0fy61tv23jm6PBg': 144,\n",
       " 'i6AaIdh3FM_oXdNnpLI05w': 145,\n",
       " 'iGomG4ZgDIkpcL5uvXIj4g': 146,\n",
       " 'pItXpz7wvsURTl0L5GgVRg': 147,\n",
       " 'AgU6rFvzO37P5uphP-p0Ow': 148,\n",
       " 'w0UA6Fa_gDDfEUYJmbV3dg': 149,\n",
       " '41zdrUXgq1aVNLtCPcPt0w': 150,\n",
       " 'gCoMmycydex_Mg-qVzWJYg': 151,\n",
       " 'x2EMc8oul9oVsDp4LzezZQ': 152,\n",
       " '3Kn23qXbgPFmtV-CbHPJ2A': 153,\n",
       " 'ZPGN-7umHCPTUJcN6ixLCA': 154,\n",
       " 'f2Vm0etnyNxaTPZRlOOsQA': 155,\n",
       " 'i4k2w0zDLKGglPMG0pwwoQ': 156,\n",
       " 'DsTnWeGDxEAGSYLvHKXQGA': 157,\n",
       " 'fjSCTfTOd2JU2gnsgUyNRw': 158,\n",
       " '2cZXWEELHZ7pY4JMsiKnUA': 159,\n",
       " 'C2pLOzFQnghxzCFgxsyzqA': 160,\n",
       " 'KkNUGU5vgzj-841CZqSOfw': 161,\n",
       " '8W0ewZ8XGLpx_ihd0Xb-3g': 162,\n",
       " '5fO3VztZ5aBaCWQhrHWKCA': 163,\n",
       " 'xP030nUfQnM2pT4J3K9LvQ': 164,\n",
       " 'jiVEWHYob_KHReimkvUSfA': 165,\n",
       " 'Qgupxwm_bHehtat82fvtog': 166,\n",
       " 'OzYCrV_DbEWZzWFixoE2Rg': 167,\n",
       " 'ecIC9QhY0_49Zax1WE13mQ': 168,\n",
       " 'ME7BOK4LNk-hFmIUPkrwGw': 169,\n",
       " 'F6y_axw_NM_tA0CqGPma_w': 170,\n",
       " 'uTeN0serbHdwvipgiqrHKg': 171,\n",
       " 'kiIcorej6GQg-PN5KonX7w': 172,\n",
       " 'CWrpgBzcnQvWZix0pnl5og': 173,\n",
       " '0AIa9nMsLavHW9AxaYL3xA': 174,\n",
       " '-egtN10xBjRy5lLe8waDPQ': 175,\n",
       " 'CZQBy5ik1ILz7iZcEQQp-Q': 176,\n",
       " 'xcWjuUDlCbyhM_32XPol4Q': 177,\n",
       " 'Zqy2-npt9oqgeg5sJlW7eQ': 178,\n",
       " 'xYirngE-3hlVQf1f0jEu5A': 179,\n",
       " 'tkJsmZeZqjCdZnVSh0qtOw': 180,\n",
       " 'gTpT1bBK9APC_Ao7_tJ7DQ': 181,\n",
       " 'yS-HxCvy4ikfb6ZH6tdhAA': 182,\n",
       " 'Pv1TU5OoKqfWHCznUWnckw': 183,\n",
       " 'qxfmlODI0Y1EZBFIZ5vaiw': 184,\n",
       " 'ZiQ8s1IpnbF59rkkYR3uDw': 185,\n",
       " 'Bj--kVuMa9h_Ouiert0I1A': 186,\n",
       " 'o8nHiMrSCuKnomt9NEg0zg': 187,\n",
       " 'r0nKFYzoSTBeD1f3qfBchg': 188,\n",
       " '869I99DiJsVI6Mj5NM1y1Q': 189,\n",
       " 'NPnFRH2rgRf6eegMsnWBkQ': 190,\n",
       " '96-WVJBbvbVzrcf4B2TuPg': 191,\n",
       " 'YlbpFXayZvupT3YSazID2w': 192,\n",
       " 'D7fQoPiOtQEbOy2gCpSTJA': 193,\n",
       " 'DhN8xrHqTwrvqibPuD1ZwA': 194,\n",
       " 'c2IGxPz-H-TbuYDrJG8UkA': 195,\n",
       " 'zOqomIulxnqmwhPSmSIUSw': 196,\n",
       " 'KJYACjvQw4CWEJLwuK1fFA': 197,\n",
       " 'y2Phxp9GQpDqdWhziltn9A': 198,\n",
       " 'DBeha4FDb3kTLKSfzWmB3Q': 199,\n",
       " '7iCmFkvtDUK6BTPTeGrM8w': 200,\n",
       " 'T5crbvhKFW-BeZC22jH1-A': 201,\n",
       " 'kNReSATccut9FCe66fWwFQ': 202,\n",
       " 'yrcpEAtjBbCE_djJBu5sOw': 203,\n",
       " 'f7Jp-Ld2UEZu6oM5o5FLfg': 204,\n",
       " 'DOdGnU11u1jjCkW23jbrpQ': 205,\n",
       " '5UFpp58ROmczZFTFZUIOog': 206,\n",
       " 'Ilp86xcm4LdoOIptto3tCQ': 207,\n",
       " 'iDs0mr1LAb7m3K2L-KcAAA': 208,\n",
       " 'zy-AKMASHkjnnZo2FplEEQ': 209,\n",
       " 'TV7PDL5eOtAeGpvYlle8Tw': 210,\n",
       " '18V9xN02l0-CC2t1ESOC2Q': 211,\n",
       " 'alOh-qoKHNF27KbnJBOzvA': 212,\n",
       " 'ubuOOmkO52uWPEwHUZpzMQ': 213,\n",
       " 'jzLyraImyGjWS5lSPv0DsA': 214,\n",
       " 'rRUyUFuw7stzENRJ1ZLAeQ': 215,\n",
       " '_-TlUll04hyADbXbLTW4jg': 216,\n",
       " 'ejdOE7LREVL9vI0O9aYBHQ': 217,\n",
       " 'b80eaJtb36cCbA6T-_yEFA': 218,\n",
       " '9feTE_-3EFK3xei03W8XNw': 219,\n",
       " 'Rr9oul0IOSugaHiyxObgww': 220,\n",
       " 'XhDU4yLnP23Hx9rBf03eDQ': 221,\n",
       " 'LWu73sgzMgmUOZlIxGSBQw': 222,\n",
       " 'LmgLj3xnJXjEmMwXRuH8UQ': 223,\n",
       " 'K1oHQwri5CvwsDCNZb5Vwg': 224,\n",
       " 'Ek30EV-tc3rWSCitvyd-QA': 225,\n",
       " '1iKvWIygLx5_VdKfhIVomw': 226,\n",
       " 'Hn5kxQQ4dyjiBsvOgO6v5g': 227,\n",
       " 'U2MXpZ2OlOdHmnhDbKk1Yw': 228,\n",
       " 'uHU1GbhlOz0KrAmT0GOZKA': 229,\n",
       " 'dck7hP7rhB8exdD0WpHCxQ': 230,\n",
       " 'ZHGWFsrmCbnKWeM-Ul6Asw': 231,\n",
       " 'K5wSs6TnOp7Vg4vPgoWFpA': 232,\n",
       " 'z15pgm-EX7AThy9DR0BpKg': 233,\n",
       " '7EIw_kN7zpKffTvoTcBcSg': 234,\n",
       " 'a-VGrj5Ic6fBKOkgcy7P4g': 235,\n",
       " '2xd_VGPa7qtdODly0NeVqA': 236,\n",
       " 'w78RZMdn1qyEc1pHPajhbA': 237,\n",
       " '3AWY6ilx4acBR08xNJnWew': 238,\n",
       " '95uFy3Db5TwX3zlKIekSsg': 239,\n",
       " 'DPRuvIWm4Iqus2_LLb7i4Q': 240,\n",
       " '2CI_HxYSKKSB4CuRpMGKTg': 241,\n",
       " 'eRQ4Skuw6aLHNTkj5jOjGQ': 242,\n",
       " '2N9MxvKx1JMpQIVT1OU7XQ': 243,\n",
       " '89z2m5rqHpjErFVZJx-wrg': 244,\n",
       " 'QTWp08epdNiZ-l0VrJUbVQ': 245,\n",
       " 'ESrbyc_lYdZ8q-mGjBYNBQ': 246,\n",
       " '_v1DmsDThDSRjBwmiRVbnA': 247,\n",
       " '-5t2M6n6cYmkqWHo1p9lIQ': 248,\n",
       " '4sbKCZJRnPgNIFaPL64ivw': 249,\n",
       " 'TgTW8VLaLRUGPOr6YEvsLw': 250,\n",
       " 'tFo6dkk3-HW9NMn4aRVsrQ': 251,\n",
       " 'umk_6ysXhErEbSRaWTZn8Q': 252,\n",
       " '7kRN8IkOWlLblEltNlnfRQ': 253,\n",
       " 'sdNghkyFZDCPJG_UC5UYog': 254,\n",
       " 'G7Leene9OZPn3JhU3la8zw': 255,\n",
       " '2Mx5cejH2dJh6bxmqxfIdA': 256,\n",
       " 'IB4Oxk8IlNG2K0oH0I9Dkg': 257,\n",
       " '9XHxCKEvJCQ-YijoWh21oQ': 258,\n",
       " 'tfE5UXf-MKsbil7GVRKHow': 259,\n",
       " 'OJHvxkDf7ys1pWPcp-N84w': 260,\n",
       " 'akjaV3M3qumD5HYkjU9dtw': 261,\n",
       " 't5uZ6VX5o6PUZ90EXyNkkA': 262,\n",
       " '4kK00lZ9G2-wyjhOV4aZ_w': 263,\n",
       " 'gCABnvxFr22KE78zBlG0cg': 264,\n",
       " 'f_cU2g8BS4JR440rMNqu9A': 265,\n",
       " 'R2fSLhCwDAFHfVCNx6h7_w': 266,\n",
       " 'HRz4BPXrfMgQ2kso6p4HYA': 267,\n",
       " 'V8pOwKvxWKwtBdA0tahdjA': 268,\n",
       " 'Cu9K5PW4gxcDkBzO3ciGbg': 269,\n",
       " 'Xf4uQE0GYz0P35s6J8C9Xw': 270,\n",
       " 'lfy-rLXKF9g3YPlbRwDq9Q': 271,\n",
       " 'IfjbdjVIEo7cqX9aJSzJBA': 272,\n",
       " 'sizdhQQuqeKzlL_MjPFGAA': 273,\n",
       " 'iCl_4Tt9WxmN3kmZMynIVw': 274,\n",
       " 'TpxzPhjvgb8O-SQgXoaE6A': 275,\n",
       " 'AuPJRHo1WVM_yofp_cZ5sA': 276,\n",
       " 'LorlFRnT1Tmcisu0nzTM5w': 277,\n",
       " 'aDr2o1V-2RrPwPctWGL7hQ': 278,\n",
       " 'J4T8a0GA67ujAlq_41c0qQ': 279,\n",
       " 'I345QfgnO418SJohz4ryxw': 280,\n",
       " 'MibR-2dhTV8AW9Rl62B6mQ': 281,\n",
       " 'FsBb6rmZMa_GUgEoXR_1zQ': 282,\n",
       " 'lFHfGdMdeiPgkWXdT3NLOw': 283,\n",
       " 'yQZhcEFC12MEJhQ2xqD9MA': 284,\n",
       " '_XNH2IOUeAOpiRsv30ZDWA': 285,\n",
       " 'kxUv-w-Z0J3VbAXpFr9h2g': 286,\n",
       " 'rroaRS255f7QlyyDYpnMeA': 287,\n",
       " 'q1qRNWWVZL3Rfccorj-pog': 288,\n",
       " 'A0TbZ6rVVrPxiLQQDApQcA': 289,\n",
       " 'NiSlXZlRz5KX7Q_dS1Fibg': 290,\n",
       " 'HQoNhMaC8btQ3XhnGIvmNA': 291,\n",
       " 'EAJ2iJqE4QqKoElCf-JHtw': 292,\n",
       " 'sDKx16ztYDKtUHgpzYv2gQ': 293,\n",
       " 'bLj0lp4nHPQNsiskvXilqw': 294,\n",
       " 'A_6AnNyNm8G8GEhHz42hZA': 295,\n",
       " 'u9CdQEJbDGZYJCgcxAgbsw': 296,\n",
       " 'Ku2laTn2XmnD5u83kjEHmw': 297,\n",
       " 'neD7MRj-i4LTEY2hB2vt0w': 298,\n",
       " 'Mq-_Gg84j4wpDJmpzyCADA': 299,\n",
       " '-la6YVHqiwf2fR8o617mBQ': 300,\n",
       " '27s2cPCGpSukgVCQMThqaQ': 301,\n",
       " 'YB3q7IuakSI5WxmpeTgAmQ': 302,\n",
       " 'N_o8Yhuw1afXs20jBcU9Sw': 303,\n",
       " 'hU52OFVKxahPNg-x4yajYQ': 304,\n",
       " 'c5MhnwHzKaSI8c7NfY1Bpw': 305,\n",
       " 'BJYgAjAaA2PFloRfNCZEFw': 306,\n",
       " 'umKZDw9tUDDv4DRfk5cIQg': 307,\n",
       " '4A-3wgJAjvmpffWaxRrgEQ': 308,\n",
       " 'nCPjqspHO3_2Bm14l_oonw': 309,\n",
       " 'lrnegtxpxPhACzOd3DpxBQ': 310,\n",
       " 'RLrDDAkZQzxkWYeD18ujyQ': 311,\n",
       " 'dzmCxUHUi4dDmtaP_uXGOA': 312,\n",
       " '2e4KNedF7Y78mLjytAw3yg': 313,\n",
       " 'I7-dDivHKejg-zQExjrLHQ': 314,\n",
       " 'yrXCDuHsWLt14ql-aLOCYg': 315,\n",
       " 'Cr6xqCWkuh1L927NKtDnbA': 316,\n",
       " 'GDHoRJ6PI-_TUlRAgG0Gzg': 317,\n",
       " 'RW4t_y1o9jmxj0i_vOwoSQ': 318,\n",
       " 'n9KIOtGz1oPgP3PlW4aleg': 319,\n",
       " 'OQdtwZ6kVgJUZdVq5lbaVA': 320,\n",
       " '-8cQykVJmLlmMLRniTcYbQ': 321,\n",
       " 'UOQV5lA_8ic2MAMQy3iGIw': 322,\n",
       " '5TTyU0dtNB3TN5_UyE4Kpw': 323,\n",
       " 'kE7e1I22h7ymiJtcESjNxQ': 324,\n",
       " 'Buqf-GA-bTv7eN0jqL2gdA': 325,\n",
       " '0V0UGMeDFfcDPn4WwQ0rtw': 326,\n",
       " 'oJ8-3FbaobvWntcd7QMazg': 327,\n",
       " '-Px0j8IIbYHDC43eL6Mp5A': 328,\n",
       " 'KM5fxjXSlNBF7Bnr-b3stw': 329,\n",
       " 'Cnz5MG6ei6EFotekIvMJHA': 330,\n",
       " 'zC9IVxQMvJWbmPxaKVKiFA': 331,\n",
       " 'OGxuqUZtoynJ6ayz_VCfyQ': 332,\n",
       " 'Y_DPOOhG1TzqFRkKOLsrvQ': 333,\n",
       " 'e7Bx33vqWt-plgpgc7bggw': 334,\n",
       " 'UecjxYD0yqwBFKDojUxFoQ': 335,\n",
       " 'Vm0UkmP1mSeCtz4gBcV-PQ': 336,\n",
       " 'v-tdfcVcghxjSaac5Itm-Q': 337,\n",
       " 'vB6-7mjP9LzqqtKdbVY5WA': 338,\n",
       " 'nexPWyVO_ZCe3vNSx-yITA': 339,\n",
       " 'D0GBoQ3hXjVXsyXRsKfG0Q': 340,\n",
       " 'CbqhHQFpWpB8BCTNkU_ppA': 341,\n",
       " 'XhG_q7HiKqMiApnj_6ghqA': 342,\n",
       " 'SGXvYRzulqgV0lUxt61oXA': 343,\n",
       " 'DhReYOx3lRN4pq22J_7jag': 344,\n",
       " 'fm6vnjtXqe5-1q6i_jiB4w': 345,\n",
       " 'yOU9XtcinODXF-2pniMDVg': 346,\n",
       " 'kGJ5-3f4EM6yUDgsGS-N7w': 347,\n",
       " 'UfHRWjxwVRx4tMtoyOqOFg': 348,\n",
       " 'LcIyCUMJpJ9h5VR6sbQMhw': 349,\n",
       " 'CbMCOeeHVeafcD-6-CJrPg': 350,\n",
       " 'y_r-yK9JcQB_HcQzSMkx5Q': 351,\n",
       " 'It2WN8OZZw-FhR1lUumnNQ': 352,\n",
       " 'YYTZtxXZtwrA2CoqC2aUjg': 353,\n",
       " 'BCT7dyWL-wtnq15YftxexA': 354,\n",
       " 'B3-5muBFMf5hwh0D2F8X5A': 355,\n",
       " 'Y3Sb1nWrjjMSbweA9RutFA': 356,\n",
       " '-r1J3cJRr7dL-G-HWsNtGQ': 357,\n",
       " 'xJ4RZlP1Lotl5y9bu0u5pg': 358,\n",
       " 'jAVKFq7iAE_IQYdRT--hiA': 359,\n",
       " 'NkNnFUpZVB0C1UmFWJTluQ': 360,\n",
       " 'hYe-xTyyG4r4jF_JSEkumw': 361,\n",
       " 'Q_DR7wM5fZ4E245_A3M_cQ': 362,\n",
       " 'UUUa3QKthaYPrfkE2aQujQ': 363,\n",
       " 'RkHwI4D23UVxWyUG6pe2vg': 364,\n",
       " 'py9Fq-bNZcSYh28BgIEDzQ': 365,\n",
       " 'rLyaw3spwQmuNPxf6QwVKQ': 366,\n",
       " 'gzRfPpisIqYiAGz-locQPw': 367,\n",
       " 'NO4XVFYFxBvUNixEH6N6_w': 368,\n",
       " 'iaOA-QANssnqfL7DxLZ2rQ': 369,\n",
       " 'd_TsSH1PEKdeMDnddk3OJQ': 370,\n",
       " 'PVhEsKe5qcR-b1Ibo2P-_A': 371,\n",
       " 'XPWuf6Bvqzz-Ns5i1YzpkQ': 372,\n",
       " 'ql4yBhm7m3gecndwkL_Dlw': 373,\n",
       " 'IAKwb34AYk1C__lOr07Avg': 374,\n",
       " 'Gz6a5ATa6Sg0QlfiCHPcZg': 375,\n",
       " 'OXf2ELbh-I7TL39Z5qNREg': 376,\n",
       " '5-zDa3uehYmGqrzc7esK6A': 377,\n",
       " '82OP6nH-Wi3D-CPYQWXveA': 378,\n",
       " 'r7pKpf44bF79r8sWfzMvSA': 379,\n",
       " 'Y7HSbGfdo5Gjup57C1lpQA': 380,\n",
       " 'gSwQOcHzJ9pBcGw6wTJuEw': 381,\n",
       " 'HPDicrF2DiSUsfU-wDEuVQ': 382,\n",
       " '-nTDyHvJaaxds7k0m4nOnA': 383,\n",
       " 'FK-5v4IfjeyiWNKviZqgdA': 384,\n",
       " '9BtrZn2ROpzVNmMZWYTegQ': 385,\n",
       " 'nxMDetqEbDZ_OPtFt2KwAg': 386,\n",
       " 'KjSluHb2ALKcyjqLfo-wxA': 387,\n",
       " '1i4LuQk5Lpj9oHRIR6gFXQ': 388,\n",
       " 'VcEuz3MDNbGUNzuLuouNfQ': 389,\n",
       " 'hFfSNQOYdOFEwpfMrndM5w': 390,\n",
       " '9uwbF6bDNYYhcMpIBzm2rQ': 391,\n",
       " 'NBK-q3cHrrntonyVvftl5A': 392,\n",
       " 'zzActUcH80dSBxepTCVYlA': 393,\n",
       " '1wT8MfTNpGpJs1a0OoneNw': 394,\n",
       " 'rAaDn_lokqEIrUrc2_5BNw': 395,\n",
       " 'wedV_XLzJqaRD6ptSWuIyQ': 396,\n",
       " 'McFRyseLCLGswTXZ4WJIhg': 397,\n",
       " 'p1sHzAM8N3zPLKdW8ysTdw': 398,\n",
       " 'pgrQVmOQqUDp1mRKXOcvmg': 399,\n",
       " '-mHZO5ydYBimzkFxySGUmA': 400,\n",
       " 'mial-rnISU88Q_z5i9ZytA': 401,\n",
       " 'B6MlRHiAGsRwOUGU80HJlg': 402,\n",
       " 'B27MiIZZtdfdiVEChGadRw': 403,\n",
       " 'GW28ozM30i9RHC0i7AsmPg': 404,\n",
       " 'hBFZG9bCkrTY7liDKH8Thg': 405,\n",
       " 'R1wiQvjFijWPfv90uKQ15w': 406,\n",
       " 'y6OZFVlAM1BJ3iez-UzJyw': 407,\n",
       " 'JDVevBOiXiaMOtARpn8uBw': 408,\n",
       " 'xxhY44D3WMEF-LlCKUAWMw': 409,\n",
       " 'GqUXiaBUejaDk8GDoOf3yw': 410,\n",
       " 'tbyNTuuU0544uhuSG_oAYg': 411,\n",
       " 'BUdOXd4y2pP_DkS-dux9Ag': 412,\n",
       " 'j5NEIHQ-HyOPVxcf-n71wA': 413,\n",
       " 'Kr9sVkYBUOHSQruQ_71-wQ': 414,\n",
       " 'bVEdn_jwJpaUCAhjOgk12w': 415,\n",
       " '8Q9VbEvw4cfiVjY1Eiq7Dw': 416,\n",
       " '9J3xtamewwWQhQ0tkjRoRw': 417,\n",
       " '-QQ34RSvvRgUaR2YbCGXbg': 418,\n",
       " 'Zi9M_hH44UT46x2pR63d9w': 419,\n",
       " '5i95fGfEaNJjeINbtNemdA': 420,\n",
       " 'GFbcceXZn6CjcEJfiqgHqA': 421,\n",
       " 'ZsLWBJ59OIeUM1sl9n_NDw': 422,\n",
       " 'kvGCQB-mF37QHvmUB-TyBA': 423,\n",
       " 'PC7LW8J6fMydlNApvzcxlw': 424,\n",
       " 'rCebsNjsBmZ3xMlf9u2OaQ': 425,\n",
       " 'PFtbOIt89VdJB6OLLNaEGw': 426,\n",
       " '8d69zkbTj3Erx87JegIu0g': 427,\n",
       " 'CJMF28XN3X4GiiYGRo7zLA': 428,\n",
       " 'njT1dABcLz06tP9wlyUeng': 429,\n",
       " 'kZ1KR-aTB7pyo4kT_NGTZg': 430,\n",
       " 'VYyiWP1VLYmdAgqxa7Ktrw': 431,\n",
       " 'JmMUpu7q6hXqFgiZT8UvKg': 432,\n",
       " '19e30cLtErbISO43wWZPMg': 433,\n",
       " 'gNGhG5m1LqImIDQbKef3sQ': 434,\n",
       " '9ALptEpBl6qSfnaxlimQ5A': 435,\n",
       " 'l0BjpFn5mE28q8R3nGvWJA': 436,\n",
       " 'Y-ds6SmTZ3o063P0bqE3pw': 437,\n",
       " 'WVwmEJdrsAlh_oaeWuHQFw': 438,\n",
       " '80F2PO2BfG7AbMCRNO4C1w': 439,\n",
       " 'IaouSXgP_UbkpjchW4u4Ew': 440,\n",
       " 'tRWAI4oyEmmZBfcyUXUtLA': 441,\n",
       " 'FIuMt7vNZ812YYJ24rgBhw': 442,\n",
       " 'W-nZOTjduD4mrv0kkHOlgQ': 443,\n",
       " 'YWV8MKNJrbnnaoXPuio6QA': 444,\n",
       " 'Wd_T-99ChNh8myb4xYgRSg': 445,\n",
       " 'fw8JBHT4cWFqtoljljN5qQ': 446,\n",
       " 'uDuWsLHUT806NWWTcwEDPg': 447,\n",
       " 'm7xrh2zGVYf_BgKhXjiiIA': 448,\n",
       " 'IAF4A5ilMT3nO6r-Rtrsrg': 449,\n",
       " 'ZOMMwhHDcD2sae-uDFC3Rg': 450,\n",
       " 'Pj5Wo-ir-rJ1WuFlpFzB_A': 451,\n",
       " '5zNidCosoGmUGbDtx2R4PA': 452,\n",
       " '7wkXS0AjsfGWKIE3F79qTg': 453,\n",
       " 'D1lUErZW8JZJGsYuhtYzUA': 454,\n",
       " 'qc_9Sex0i56iEBX3ugaOzA': 455,\n",
       " 'uc_NcMQmtayx4PYIQteYXQ': 456,\n",
       " 'Tudbb5VIJPdzEl2zRndwLw': 457,\n",
       " 'zT-lVBbDHmmAi0KolfJD-w': 458,\n",
       " 'F1SC4MDV3ZFPDHiWHGzqKw': 459,\n",
       " 'KvQunRcGWe6qa3iHV2frKQ': 460,\n",
       " 'nie2pRIeoL9l-RlWSImwvw': 461,\n",
       " 'Upu1g4tacyXQBS-Qo7KI1A': 462,\n",
       " 'd9cvXr6xogNuUOZ0U-MXcQ': 463,\n",
       " 'H4MFsWk4NyYXLpyX1s5B6A': 464,\n",
       " '_P_2xo-PpX0_8BlLR4Asqg': 465,\n",
       " 'ruRbhtptqV1ygJS6xVnvNQ': 466,\n",
       " 'b0QWjjQNSGVvmK8a7pNGAg': 467,\n",
       " 'ItHNRNM2mqKLH37X9_ytPg': 468,\n",
       " 'WL3r8HA9wIOYUYb3gid6TQ': 469,\n",
       " 'NJrORpa13zeHIv5t37E78g': 470,\n",
       " 'PW2VusZW6XFnbVJ83b0iTg': 471,\n",
       " 'Td7ssfbjNSkPMK_ifcJmCg': 472,\n",
       " 'Vxe1NW2xZJjfY_rYo2dLoQ': 473,\n",
       " 'kaZATa-kVy2-TdafF59oXA': 474,\n",
       " 'y5Yx4YY-zK5rwSaKctJcoQ': 475,\n",
       " 'wy6wPRdIB2RZ_vtV60OSxg': 476,\n",
       " 'I51OQxTBbPAUmdmHKmcbFw': 477,\n",
       " 'ar_vC3ImUJVPutbmCFFJ4Q': 478,\n",
       " 'p63WlxrjcOugaim2DQi9_Q': 479,\n",
       " 'PaCaxNUNen9e2KVPxDJoaA': 480,\n",
       " 'notoKwLExKrMrLGQVD77bA': 481,\n",
       " '6MxCIhIhaAt-6qDHUfLBgg': 482,\n",
       " 'utE4BOXUATwoiRPj4SpX_Q': 483,\n",
       " 'i3xyCKYLeqxA-2e5pZxPWQ': 484,\n",
       " 'NeUoVg_lLiHtaoI9wBj94g': 485,\n",
       " '_5RK4rFhEinlVRLcWPk1nA': 486,\n",
       " 'IM_VvcVAZMVQbisb0_Hsfg': 487,\n",
       " 'w9oZOfJsvVQTw4bYZzvVCw': 488,\n",
       " 'BvyjngIwpMZ60Qqx12jDUA': 489,\n",
       " 'UTt5FjJwB_vleU_BWveOOQ': 490,\n",
       " 'Hlhkl7RB3GIHp-MHgdt0ag': 491,\n",
       " 'Jec3_EQVa0Muda7YBiaiXg': 492,\n",
       " 'OpZqYP-vLHtH_H8ytLt40w': 493,\n",
       " 'SI76CYpHMowyrdkWwZPl3g': 494,\n",
       " '0vsXoyFeNNRVTNDUqJnfIQ': 495,\n",
       " 'jfv1ysOMCbdJfcT55UVaCw': 496,\n",
       " '4yzz4teWTdXdWH-cVffpxA': 497,\n",
       " 'xk8cQj4056ShrDis7FjR8w': 498,\n",
       " 'NO6bCa1R4g3GILePVKlRKg': 499,\n",
       " 'uFfUWsxOC2q7nniBnmdy4Q': 500,\n",
       " 'yz2YBxE9azWZCYJgsCXosw': 501,\n",
       " '9RV4laRsAf2QJxQes6kL1A': 502,\n",
       " 'a4-1lCq6GVWhkLDWqw4-Vg': 503,\n",
       " 'EPGHX1F21qqIPfT4q8JwjA': 504,\n",
       " 'NPx5rKCAeqHpNFhn5Q-6gQ': 505,\n",
       " 'jgUP6_NC5l8lXHI434M-bw': 506,\n",
       " 'DO7Cp5E3AbIneU7pSgBldA': 507,\n",
       " 'z1zs5fR7xcfxoNLxNGY71Q': 508,\n",
       " '_hU2Qq4KUtCYxdZBFuZ9Cw': 509,\n",
       " 'gfYUldBsH-FafU5qReaylQ': 510,\n",
       " 'dXrxH8x-INKUddNKZV57XA': 511,\n",
       " 'INWbJtk0ik4kwwZmR8y4Ww': 512,\n",
       " 'O1hiiDm1d-iT5aVcPKzTtw': 513,\n",
       " 'FogTp1YFVoymZN5vNlAYUg': 514,\n",
       " '2LZNE87dqxcn-TU5u5UKdg': 515,\n",
       " 'Rf4ldVXX_zHwRauT6ICk2A': 516,\n",
       " 'hLXeeKq7sdSznNs7W2LKEg': 517,\n",
       " '8aZPPVSUgHLReAmED7e0lg': 518,\n",
       " '8Blc7qFaCNmFvYX8VtcFpQ': 519,\n",
       " 'zUevRG3RNoocIobuHJ9Dxg': 520,\n",
       " 'q8ED3DCHmVvUaUmvvz9v1w': 521,\n",
       " 'z1DvpvSuT2H07tqbfxWPpA': 522,\n",
       " 'GxmHA4Vt2uLae1oVVUYuKw': 523,\n",
       " '9nGrf3SbG44K3Zi8uDovkQ': 524,\n",
       " 'nt-XxGxkII8JcmAykKi7Wg': 525,\n",
       " 'p7aJlgHRjUG9oSKd6wIdLA': 526,\n",
       " 'hnzx7Q7IWq5EDVe0yjKK8w': 527,\n",
       " 'jUZF9zYnLmex0pwPJjuSgA': 528,\n",
       " '2d1uShRNNXFkjwpqQ2BP8g': 529,\n",
       " 'kxu8sfaGTwvATANUEmSABg': 530,\n",
       " 'O1JPW0Z3tKwMWORi4EP39A': 531,\n",
       " '74jwCN8x5fEFNNJ50vA0Xg': 532,\n",
       " 'HAnkQMDMRSAsLTVkQ01nCQ': 533,\n",
       " 'fO5dqIldTQdVWmeIbn6XhQ': 534,\n",
       " 'kj5O3qxSmXlPIWxiD9Evdw': 535,\n",
       " 'yY3nLK8Yq8leAA877f23kg': 536,\n",
       " 'Vj0BnAETHLdCpYB8FhLeaA': 537,\n",
       " 'lBQY9H-3jCvlOc6isxuHHg': 538,\n",
       " 'jkIvfziIpLFZc4NZkRk1vQ': 539,\n",
       " 'su8IeSr_tLQGxPZQppVyhw': 540,\n",
       " 'ThmfdgNFoJcGBb_tn9NDBg': 541,\n",
       " 'ejvVEZGTDJH0FBO4SMviPg': 542,\n",
       " 'kzhDmERmWKvzacMdiBrblQ': 543,\n",
       " 'dVa-oOGjHQWboLdNlqWSgw': 544,\n",
       " 'WLj-RRxdJja0lx2f5yt1Hg': 545,\n",
       " 'hUP9JRfRIWpPNeRFowUBqA': 546,\n",
       " 'l-ptmJXeDjAJse9b3zJJrw': 547,\n",
       " 'SIfJLNMv7vBwo-fSipxNgg': 548,\n",
       " 'TPpfXJ-1usSy8-4hS7u7sw': 549,\n",
       " 'STXMV02jzxFYogQxhQPshQ': 550,\n",
       " '6jDumMIpdrvV5gosbHcdZw': 551,\n",
       " 'fmHvE3TIoW3QY3Rg8gKG0A': 552,\n",
       " 'DWpQ9KoJ8WObr-tfxMLZ7Q': 553,\n",
       " '37It_Z8qeZ2wWdeMUdKqaw': 554,\n",
       " 'pqmv0ax9RxNrnx9uTQYZOw': 555,\n",
       " 'W2Jx-wXw4THM-0iYAJeH4g': 556,\n",
       " 'gmxFtUbG2hpBAKu7pAfi1g': 557,\n",
       " 'lgmOjH9opo5JNxQKZs361g': 558,\n",
       " '_rEYC00L2WCGQpE_Eij9xw': 559,\n",
       " 'um8v9ocAEorpBf_yK6SEvA': 560,\n",
       " 'P7_r-ZinJfr9hiotRRJ58w': 561,\n",
       " 'YZGK9ZGJA_tlggqhovI8Lw': 562,\n",
       " 'spTd5-YZKaYKB_xpOzeKWQ': 563,\n",
       " 'mNK7m1ezmAMxzzuOaoeNaQ': 564,\n",
       " 'HlnPQvT5UrQPzW5igvZCBQ': 565,\n",
       " '_C7qAjT6roimyTrGKLmW7Q': 566,\n",
       " 'XAz4I30tssPn373BzAduug': 567,\n",
       " '11ujwHIIEyLNIBcHdj2ypg': 568,\n",
       " 'sL8Ygw_QS4b9WTflCv-UPw': 569,\n",
       " 'EzQJIHO7etETwJJbRw2REA': 570,\n",
       " 'GzG6ebrV8Q1nsnz0i1Hqfw': 571,\n",
       " 'OPmdIZeS02aZc1xVV3z5og': 572,\n",
       " 'Owxqox5HZDUtliTezIfzfA': 573,\n",
       " '3bzRCGOYL_HrHa7ajoewTg': 574,\n",
       " 'knwVXVWbiRUEKIubnKl4Sw': 575,\n",
       " 'iuxlXGUh_75-3vzDaxEHDQ': 576,\n",
       " 'tXsDhgpQ2VtDmLBh_Mbf8w': 577,\n",
       " '1DljsBU-xv_C9YAnQk808w': 578,\n",
       " 'vuQ9qySafoEELVFpkzeKNw': 579,\n",
       " 'aC_6CDME0gBG9fJTJlyfLg': 580,\n",
       " 'NzEp6uHX1H9YOGKshvbvwg': 581,\n",
       " '2HZK56q-gS3H7WhBPq0rOg': 582,\n",
       " 'MJyJ0Xb93r-Btkb5Nw5J_Q': 583,\n",
       " 'MZGFrKpBJGHvam69FHNPoA': 584,\n",
       " 'NPdBozBZwsi_QLB-QZ7C9A': 585,\n",
       " 'SDvNuVkxmQTu3NeRjvSJwA': 586,\n",
       " 'K1oONRUgZkUXx5TSEO454g': 587,\n",
       " 'hmjp9RCO-aciC25Vf_NzvQ': 588,\n",
       " 'AIgPugPNXnrBHm3uVHn5iA': 589,\n",
       " 'izH8q_046XXEekcXFQ446Q': 590,\n",
       " '8unr6H8UeIXpUIiRdD20Fg': 591,\n",
       " 'JXzo2PuLBRbAoVbE2R_BFQ': 592,\n",
       " 'iOQt-pwKuWb-vR01NY0tlw': 593,\n",
       " 'v7gpLggAb2qpjw0ioD_Stw': 594,\n",
       " '1flWN7Rdntbl4a33Ic75VQ': 595,\n",
       " 'cDQvCXmEVd311heTrERtaQ': 596,\n",
       " 'o5Uot_QoTnTJB8CTKnPltA': 597,\n",
       " 'VqxenxK0iTYLNSntVh6g1g': 598,\n",
       " 'zmS-dVVovTr2Ez5CvNXRMQ': 599,\n",
       " '7FCQyCvu6My5WkKsLInVKw': 600,\n",
       " 'YulkXE0qdJeO6sURvt17PA': 601,\n",
       " 'prMY7MM2Q8UdEbsM8JxbqA': 602,\n",
       " 'xt-g8aJkABvClUIn4m-ESQ': 603,\n",
       " 'Lf-0jZEy3PA8dGAV_PJVxg': 604,\n",
       " 'aLqV3fpQxxXafw4z57Umhg': 605,\n",
       " '__c_50ejOT6ysMRWNemsPg': 606,\n",
       " '-MpCn_MIy6Dnq3tK8i1TEw': 607,\n",
       " 'GXx5wjxRUu4QnKJJB2M0Ig': 608,\n",
       " 'zBtjByZEStTPsZj4LkvpAg': 609,\n",
       " 'XUeX8Sq6lVSmvsTmNsgiww': 610,\n",
       " '3EjByeGjEiJEvOXG5BU-5Q': 611,\n",
       " '5SUShfO78OrPVDtUR6oSug': 612,\n",
       " 'MiquLol7LTCJBLERMKwhuw': 613,\n",
       " 'xWvi7ovo-bkOwxFkh4ChPA': 614,\n",
       " 'eRq470FAOZOFxlcfmgV9FQ': 615,\n",
       " 'yPhzGOPoQvzfrG1OhUOO2Q': 616,\n",
       " 'kWHt4MPt15XroK8g6i0ojA': 617,\n",
       " 'HrnGedNUIo7L7WJ64Z65Hw': 618,\n",
       " 'qx_FODF1cVE2b7Lsw-jFIQ': 619,\n",
       " 'XodDmFk6-gQYXjMNGdB0mg': 620,\n",
       " 'wYAGCkykyBnBlZo7VuKGpA': 621,\n",
       " 'sVtiyPk0B4Hfnz3IKoazjg': 622,\n",
       " 'AaRfvxxghELtGzX59BTAww': 623,\n",
       " 'bnRhnsa8zcfFJBVg3vyjBQ': 624,\n",
       " '-ooOd0fq0ZLRTT5l9sNVqg': 625,\n",
       " 'JHGIhfv8WE6EfyvXdWVh1w': 626,\n",
       " 'p8SdsORePzPWNEIySb1oTw': 627,\n",
       " 'llgJTQ7d2FAsm_WdKXWMtA': 628,\n",
       " 'fJtr5Eunis8AH2VntPqcYg': 629,\n",
       " 'GlbiSVNXDO1OzXE_kEfOlA': 630,\n",
       " 'XUWLIxSAkBFj7UldEqIOWg': 631,\n",
       " '0EhC2WLaTKlZ6gRBxp9tMw': 632,\n",
       " 'KQNxeoCnzVXixvizlDTzag': 633,\n",
       " 'fzy5CCuLns6n9IUTsdTI8w': 634,\n",
       " 'KTWr-eDT2TbCKi_o9IYKmA': 635,\n",
       " 'E25MoqXPy-dLDr93sY-Dfw': 636,\n",
       " 'lhL0MUA9U3fp2T7jJXMUkw': 637,\n",
       " '7E_XUGH5x5s-b7Qo7vAGfA': 638,\n",
       " '-mRrD-gBAnMKY1iJMjmUUA': 639,\n",
       " 'RTkp_mHFq9qT94Hp6-2f6w': 640,\n",
       " 'LMaqOoDHWcYc85LUdwTvbg': 641,\n",
       " 'fi5y6-daDzTIQ7wOKaR7xg': 642,\n",
       " '0uA_TVsj7QkZcRrz1lfKsA': 643,\n",
       " 'VBEbhE0ISjg6xowGNiGmgQ': 644,\n",
       " 'HWVi5gk58dlZF_2gegoZHw': 645,\n",
       " 'YeJm0h4LWdqRLLVycDaIjw': 646,\n",
       " 'GRYEjhO_-STLi-2pE2iFTw': 647,\n",
       " 'JMm_KtWQd1ORngDPbqEIfQ': 648,\n",
       " 'oWcJDi9V0oqp5bQqnaWeCQ': 649,\n",
       " 'bVZ4dcaJGLFmfkhgdPEpSg': 650,\n",
       " '1PJW60IFwiIVCHmY7Tpw_Q': 651,\n",
       " 'OiVQsCtV5nNlllur6ICz7g': 652,\n",
       " 'UhnL26-Y0N0bdrCRhBzn4g': 653,\n",
       " 'zawu9qH_OV7s5MK9sKmKtQ': 654,\n",
       " 'tLNu1Rx6_PHWaMruply9kA': 655,\n",
       " 'Iu7jBPEWP8ZMH979B67wCA': 656,\n",
       " 'Brf6KFlbcNtUKqLlNAREQA': 657,\n",
       " 'pYpjpN-ys3k-4yxtO-XlRg': 658,\n",
       " 'mvRxJzAADVhUE4wGm5Nj_A': 659,\n",
       " 'm4FdYQJeYi9ZVPVTxReYxw': 660,\n",
       " '8d2GYztJBPR8FcxyBjk1yg': 661,\n",
       " 'duriRX9tt5pLDO4Es6bu5w': 662,\n",
       " 'DZy5Q5ASDDplkvEAfH7SRg': 663,\n",
       " 'eTCq5GuIp6m0ySzDMfVnnQ': 664,\n",
       " 'nDAM5bkOYAhRuzyxgaoDIA': 665,\n",
       " 'd-IDJx0CnZwndikKjYdnsw': 666,\n",
       " 'clmzHZrQXw8qu8WwROFr6A': 667,\n",
       " '-RnsLbzpVmQC41khSBD3Kw': 668,\n",
       " 'mIcwqpxhV74Vj6x51kRlwg': 669,\n",
       " 'rAT10wZ6w4GRLGvvHG5tNg': 670,\n",
       " 'oDSHdhTf8CbixEvVqjp3fA': 671,\n",
       " 'NPFY1lZeC2NiL0YKhJYa8g': 672,\n",
       " 'm25wf0nQuqG8zbpq9hP6pw': 673,\n",
       " 'G01m_XGhxTBkBkUpxTQAAQ': 674,\n",
       " 'mO8MTddErkRX0DobxJTPqw': 675,\n",
       " '7sKvXXHhDVA-fM5Dpa78nQ': 676,\n",
       " 'TWrBu2lt6Gsz8Qw8UodRGg': 677,\n",
       " 'IjZFNCbV4sOvGyaWNYV5tg': 678,\n",
       " '09BzZB1KOTKUvExWtXgnHg': 679,\n",
       " '9f73h9Wnzy1nAimAtJ6Qzw': 680,\n",
       " 'KJ1UmqI2r5ynjgvWXpTx4A': 681,\n",
       " 'YbM3C-PNe-5EPc_FeyPMxQ': 682,\n",
       " 'HTtBYI1OsXGTfOTaaEDFQA': 683,\n",
       " 'xihky303x7qdmMpCEJuD1g': 684,\n",
       " '-DTavtE5G0uAQHSVtDfFlg': 685,\n",
       " 'GFXJECbUf3zO_ocGfdhlww': 686,\n",
       " '53mffYyMtmSKl7NLPtRn9w': 687,\n",
       " 't6h-aT65at-gr2fe-EuwxA': 688,\n",
       " '08fQ03TquEkERny-5YcYCg': 689,\n",
       " 'luk-xxYoKF429O0KS8fWlw': 690,\n",
       " 'qTLV-OGDbCp98Nt9E8HbLQ': 691,\n",
       " 'tPTQ7dOR63nSkG4bza-lEA': 692,\n",
       " '4Q3r-c6VNgCA4zps5R0lJA': 693,\n",
       " 'yzxNvgDmp_NqfVBk_ORPHw': 694,\n",
       " '0H60AJ3Kerkhj9rePQ149A': 695,\n",
       " 'K2TQ1HBU51Y8i6MCDI7gLQ': 696,\n",
       " '3VJYdKwmRmZFHNHdxRRNCQ': 697,\n",
       " '6wrnG5setc3GYFiKrxl3Hw': 698,\n",
       " 'qv9neoUyUz63RHmmzry0hA': 699,\n",
       " '6jxXm8zlCgzOPTZ3cDgdFg': 700,\n",
       " 'RenOpB9KRRx3_MFWIzI3UQ': 701,\n",
       " 'RNBIcYaaock-aUTLBA5oMw': 702,\n",
       " 'xRtYp2lO6RnPoFLBhSddug': 703,\n",
       " 'eJOLXZgOjSulzenx78Rauw': 704,\n",
       " 'UT3hS6TM9wOOas1-2K1tfQ': 705,\n",
       " 'FcUVfATxARfURHfZq1DNTg': 706,\n",
       " 'RhK5IcphjZ3IThGnsRG5uw': 707,\n",
       " '7uksXo1fm_QWFSBUc62IhA': 708,\n",
       " 'UIFbaRkFzcge6sBEE_53NQ': 709,\n",
       " '26IFNMqJ6JH42J_y1-cQ7Q': 710,\n",
       " 'oC_7qxRNN1moc-36V-cFZQ': 711,\n",
       " 'WpjKo8GTgNV_9a9YzXvhUQ': 712,\n",
       " 'AI6yACdKCmIceF9FIlYo7A': 713,\n",
       " 'd3RnjsZe-WwL6jMU8HXReQ': 714,\n",
       " 'vX__ty7oB1IG_Hlmo8EVag': 715,\n",
       " '2cs8f-qLi6vGFGN9RXFRCQ': 716,\n",
       " 'zHvBHjiWcMK-Q7tGQrImFA': 717,\n",
       " 'EiJ_9SMGu0JeHwZAWzVxcw': 718,\n",
       " 'NP17KxiYKDVxvybK-5RKbw': 719,\n",
       " 'lbdOwDbXKA0__6sPdngieQ': 720,\n",
       " 'qMzgx126DViYqlV28xwy-A': 721,\n",
       " 'yuDjWsw4h4tLSOHF7Am-ZA': 722,\n",
       " 'SbgmlC-ff7gKFdVac0jZvg': 723,\n",
       " 'kstqM2MOIKxFNzKNAd37bA': 724,\n",
       " 'LBokpLrlFMWAIsn0FqINlg': 725,\n",
       " '846825dqe8K_ZUBU4iz51w': 726,\n",
       " 'XEA9TCvIHVIGfXGcBM6w0g': 727,\n",
       " 'QzSSTtbQY1K7g1UQjxPwfQ': 728,\n",
       " '4S2umDXd5Ppg2XcBqTqiwA': 729,\n",
       " 'zrNSMIV9h14KJr_qd2nVsg': 730,\n",
       " '2HMvI5faaqWQyPdVOS8VyA': 731,\n",
       " 'IYfb9QkRTmlby8Q9vR0mug': 732,\n",
       " 'oXWJC9iQMFFBdMH_VopYQQ': 733,\n",
       " 'kxIs2EkZR8ipVIgg6xyQGw': 734,\n",
       " '4x2Q8EiMgM7vpIibn9F0Vw': 735,\n",
       " 'nVkJCAtHZUOKczxeLa8OAg': 736,\n",
       " 'r23QHzFAAmwgpiWO_oDvnw': 737,\n",
       " 'd661KHBkl5mvQnv7xdSzrg': 738,\n",
       " 'BOAZmk2Kvf5w3rFEOC02pQ': 739,\n",
       " 'Q53q6U9ueOSEohqlOO9hGQ': 740,\n",
       " 'TK7UNtlWh97fFURNFSoxyw': 741,\n",
       " 'Sry2gAz6uhLYSNTXq5sMOg': 742,\n",
       " 'QpPl6VBul33CU5T3YG4RQQ': 743,\n",
       " 'aTMHlXzPVGvE3-7crp_IvA': 744,\n",
       " 'nI5XFkGrxvB8Il4kNf5mvg': 745,\n",
       " 'r1LS3TWin4Q8c1Gc0iY_VA': 746,\n",
       " '253B2aoWRN8Je6XjF_EDwg': 747,\n",
       " 'qkqBoqzuXbtum9z--3NxTQ': 748,\n",
       " 'XPmXCqt11_4X5Y9UhJ6LxQ': 749,\n",
       " '3P8bkdZqCZXGQcMjZFz4uQ': 750,\n",
       " 'qNUUy3GlU09wU86hSbB67g': 751,\n",
       " '-EzGHgrXXuiT8VNbp4hIsQ': 752,\n",
       " '2KEL3rc2ETiiK_7WaZDWpA': 753,\n",
       " 'IL5GLyJbd_eJ4xkYE9jA1Q': 754,\n",
       " 'M43mKvssfsPXgwX4Bu5o5g': 755,\n",
       " '7b16Sf2Znu8rx40q_1ePHA': 756,\n",
       " 'VPPeiwagXlt7j9jeB0G3zw': 757,\n",
       " '9bFrIkIBb9Borjkps1-Uxg': 758,\n",
       " 'UocrZsngzDSXM5xR-r8AlA': 759,\n",
       " 'M9ZEX0iNVhs5liDW1i8XPQ': 760,\n",
       " 'OvSCKm8fU52QEfLoY6DUCg': 761,\n",
       " 'ClRQ6zIZwj9fmbGHmWjfJA': 762,\n",
       " '1LcJXcxXXwyxmmoyJqCy1w': 763,\n",
       " 'HY1B7o6hBpn_1ud2cN5CyA': 764,\n",
       " 'oOAnUnH3nHrKCAEzpaDuAQ': 765,\n",
       " 'ua4SS1L1WnS_aLVK9HEE3g': 766,\n",
       " 'ecYz579PyUuTTAyIJDbC2w': 767,\n",
       " 'HlyrSDy5VqqxnFdnED_3jg': 768,\n",
       " 'CepCmY5DDYoskMh0cmxLfA': 769,\n",
       " 'hVvHjGIAgW1odMGCatT9yQ': 770,\n",
       " '6QJ9eS4urNatNyL5sAw-Lg': 771,\n",
       " 'p45GEe4lhMZ9ovWc0Nk7sw': 772,\n",
       " 'nz8fzTdGvQQcB2dXXgQ_5g': 773,\n",
       " 'V0mCFwCzkSWC_-htGIPtjg': 774,\n",
       " 'vJkL15o_3W8_LBOTn6VBqA': 775,\n",
       " 'ClADsnpXjw8fDJcPnHIr6Q': 776,\n",
       " 'Z6J0lVg4s-RfrxnNv2bpBA': 777,\n",
       " '0ItqxKwFSTgkifR6Fv13dQ': 778,\n",
       " 'U9ENQJ8tnKz_K6Z3Srv3qw': 779,\n",
       " '8pxW_zyNAB7srNtTx6O7lQ': 780,\n",
       " 'ezeTmCj4TWf8nd6-LXphLA': 781,\n",
       " '4RjLNi9_wsvoWdrNCf-fnw': 782,\n",
       " 'L36kE0q4-yLgsuH7H5rNXw': 783,\n",
       " 'tuEBdrvJ6FICdYOWzRRFdw': 784,\n",
       " 'HJTloHYD4nlWQtG1ZC2_2Q': 785,\n",
       " 'OuhvJcmIJ6042oybYng8sA': 786,\n",
       " 'LfyPBnuvj-GKhVCf5Yo9zQ': 787,\n",
       " '3s6Wzc1PG3_ITs7yfPj6MA': 788,\n",
       " 'feYOA747rAKb-n1uiBJFvQ': 789,\n",
       " '4uB6Q76gVvjSdeQF81I5Lw': 790,\n",
       " 'y5NJ0Q2f32qGt4mY0XsGZw': 791,\n",
       " 'cBRBb3rrCx10UZDchqzATw': 792,\n",
       " 'aPiYymY9fkZBkv_uWqeeRQ': 793,\n",
       " 'hNjNdeBk_uXsaVfkGlXJrg': 794,\n",
       " 'lsyHUVmYQE2TvQk0FnILQg': 795,\n",
       " 'vNt8GN7oEOs1--nn1Hp9ag': 796,\n",
       " '8zz0lDDiJMRekT098q18yQ': 797,\n",
       " 't5VMGY_Q5rOkF2pTOvDLFw': 798,\n",
       " 'jSuOBrIMWGRyGXeN7CBLOQ': 799,\n",
       " 's4U86sWIetauJNGQ4xpkyA': 800,\n",
       " 'TsVKy_rLZ0_dkAIp4iPODw': 801,\n",
       " '_dTUbHm0hefYXoGCpv36WA': 802,\n",
       " 'dz_sBsL69aWzsxksT2O_Mg': 803,\n",
       " 'a2hffBJ3Y5wvF8BOI9BPZQ': 804,\n",
       " '6gmMsQfZ6ShS_IiEutjOLw': 805,\n",
       " 'bl8mPrTM1lzqGqa1RaDB8w': 806,\n",
       " '6ocdI613WmO1n3mbiL3Jyw': 807,\n",
       " 'OXYkxHX1JL7Bc2puBiZoqw': 808,\n",
       " 'skcsJAOHWNHknY4c6bceEQ': 809,\n",
       " 'KKkCGjYhTI-VdUQ31ks_ww': 810,\n",
       " 'wYHTRC305wU4pz8ubLlK9A': 811,\n",
       " '6MIOFt4xJt6CvFbtdnU20Q': 812,\n",
       " 'BB-ktpRLn0hpVfZ1KZ8kKQ': 813,\n",
       " 'X0nlCUcqPIiW4zhUZIHiVQ': 814,\n",
       " 'naYBMcTkn7uw-j6bL4hxfw': 815,\n",
       " 'ZS40QzDAjN8T888bVDz5Ow': 816,\n",
       " 'd2ptlSFHiNdGjvfSFK1JfA': 817,\n",
       " 'Hs_7b2sg1PyNkp-_oIE2ZA': 818,\n",
       " '6J_V3M-6k7hziNfuWTGh2A': 819,\n",
       " 'kxeD5RuRWMjx__veKu_dmw': 820,\n",
       " 'N7lSh49zQ13sG3Jpa9E6cw': 821,\n",
       " 'lPxkh-yJoxJqBgKLkEmCxg': 822,\n",
       " 'O_xTbx6LTPLqoBWYvXG45g': 823,\n",
       " 'XTKoMJTzDCJN0uSBjZ6EGA': 824,\n",
       " '_9vR0FErl8MsydhUWuxYfw': 825,\n",
       " 'wjWGwlULercZe5zWmDJfyA': 826,\n",
       " 'esh-S2ZDV9OLkuw8KUGLUA': 827,\n",
       " 'UO5rHAQo0pRfV_6OUrljow': 828,\n",
       " 'oL6qNz67NI4h7XVBcOLo7A': 829,\n",
       " '-L-x7VqXdR7prDFEi15qrA': 830,\n",
       " 'HNWz385SUqZT6Tc1NrMVtg': 831,\n",
       " 'HdxFAMNiUCFCx8et1kkftA': 832,\n",
       " 'OSVIQMHxqNC4DdD-hrYMKg': 833,\n",
       " 'VxeuTDya-OLYkNINuTtimA': 834,\n",
       " 'qNdIpyQ_pXKhEwCRIN0HLA': 835,\n",
       " 'nOgZno60SieLh4TuX6dG7A': 836,\n",
       " 'ymohuxSXtj1Qwo2fBQW0_g': 837,\n",
       " 'bbOwzXS4WMBSHOSmnWkudw': 838,\n",
       " 'zax9qO4p8OZDkcpPqwjBGA': 839,\n",
       " 'gTTWCAp2GjpKXk7bR-Tvuw': 840,\n",
       " 'AlfxkyU9l6uXDIDuKm1tIQ': 841,\n",
       " 'DLXZycNu_80lB44gSEdpHg': 842,\n",
       " 'P0DFkYRQA6Y3ItVf3QRWug': 843,\n",
       " 'zFxh0F2_87Q0IrEXAZLv-g': 844,\n",
       " 'P5UXSXqKGIBIRvENqIzG1Q': 845,\n",
       " 'uKlA738TMH1uj3yVPJX-Jg': 846,\n",
       " '8BfMuiVMKi_rN-pROfbWpQ': 847,\n",
       " 'S7QieWvT_CGpP9YZ3JTiMg': 848,\n",
       " 'EPh3-HApg1KOMsWlc9k51w': 849,\n",
       " 'lDaE-XykTYCaKiOx7VEUJQ': 850,\n",
       " 'KDXt6tfQPA1o2WhQlOl24w': 851,\n",
       " 'bTgZZ03AJEs7t2EFLiMxzw': 852,\n",
       " '1zdlV1fZ84cQvkhIhUBfqw': 853,\n",
       " 'khCcoOw86EFHLeFSZypm2Q': 854,\n",
       " 'y4onYQOmkvkDuZ9Y_akm2Q': 855,\n",
       " 'cXePRp0oenx1qmPngj2LNA': 856,\n",
       " 'EuD8NqquMeLsVl1ZHhLYEw': 857,\n",
       " 'bOuWg5a7R8K2tap9cPNUmw': 858,\n",
       " '-4TK0-FmIwqxL9kl2Dq9Vg': 859,\n",
       " 'Jt7sJz8BbnrZ4DNlgUXfwA': 860,\n",
       " 'o5RwRyPTSkstv49XuJ66iQ': 861,\n",
       " 'Zhcmiu02ocKTmOCFVlgP0Q': 862,\n",
       " 'mQiNQrGkZlBj4dFQuAB7cA': 863,\n",
       " 'fUzVovJVi20bwfRUKRgMpA': 864,\n",
       " 'LLOWWnJ9XctClLOBZgBy1g': 865,\n",
       " 'Iez-mXKbRjv4sZTPKkXSVA': 866,\n",
       " 'WF1-YUaltl_6MM-MDd7nuw': 867,\n",
       " '-z0XiBC54wWBaitA37ZcWg': 868,\n",
       " 'gfd-I4QrHPD_mpMHUDmBNw': 869,\n",
       " 'Jy7qAiG05GBnkt5uVQcH0A': 870,\n",
       " 'n2vkncTMBK79hzTEE_zg-g': 871,\n",
       " 'ipKxASmgBBKOCNslFUZb-Q': 872,\n",
       " 'zkhOTlhe6dn-jrwDpYDN6Q': 873,\n",
       " 'Vj_iVJPzyRMnSwaX3rEh4A': 874,\n",
       " 'oPRMocaFlaRF_990RA4x2A': 875,\n",
       " 'NIqZLXL6p-pVcT9Akt-hhQ': 876,\n",
       " '851Bhrn-UhASCbD95tC2jw': 877,\n",
       " 'VENEV-ttGjQB9p-9j3tx7g': 878,\n",
       " 'VsGlXCCjzsKyuel6Gpu-7A': 879,\n",
       " 'FzaOHxiH08fFl-ScVA9Ilg': 880,\n",
       " 'DYRtBSE9kSW9ZHZllVP00A': 881,\n",
       " 'BNA6IYS0N2dp6AWDtXhddA': 882,\n",
       " '5HOcY5b992Tq8-zL4Ev1ZA': 883,\n",
       " 'adCENSNBDP_-nWE4pS72TQ': 884,\n",
       " 'X6StkGi6BE92mdhlVX2CaA': 885,\n",
       " '3x6uhKKH5RkguBOS2yuipw': 886,\n",
       " 'WrXeqQyn3NkMkOWKWVKUjg': 887,\n",
       " 'G-7IQE8t0u3T9BT8aiVWjQ': 888,\n",
       " 'FCpppiiZWuKO9nNb60Bo1Q': 889,\n",
       " 'R0iP9B7gPpsed68_23J05A': 890,\n",
       " 'smYXfx1NqKFEZHPQQdBpTQ': 891,\n",
       " 'Dnzzk95qjAQ5H_g6tBw6QQ': 892,\n",
       " 'NNe6FsqyrMSFen-FPwVksA': 893,\n",
       " 'WH2q2oGpXEhk5iaW0xREmw': 894,\n",
       " 'Vtey4fTvKn5SsZ0SZ0m62A': 895,\n",
       " 'PaWxNKB5dgLtjzUWuGRxRw': 896,\n",
       " 'Bj6uQbQEtc-mFjZXmfmuow': 897,\n",
       " 'krDm4aB8q42_L-EW3-Yjvg': 898,\n",
       " 'QyqarMxzI9MxD-G0_4Acvw': 899,\n",
       " '-OZZ2_IqOVIyazlPLcZxcA': 900,\n",
       " 'h-BP-EaadBq-HIfXqzBP8A': 901,\n",
       " '84aqjXX8mkp_tZxaD9ld_g': 902,\n",
       " 'wzmdB-xjGi4s8YTJvau9qQ': 903,\n",
       " 'ZBO57NHazxkQtTyOusm02w': 904,\n",
       " 'b2GXDZPW_eppSQfDarDNHg': 905,\n",
       " '5cDMXc3qwNeDPX-MyCNubQ': 906,\n",
       " 'mp84pohTldEvcRwQ3uqcHg': 907,\n",
       " 'vx3hIIV7FPWOZzXqA4_xjQ': 908,\n",
       " 'BOClREx20etBugkIGnVclg': 909,\n",
       " 'naKm9d88OBk9HEgGAwU45w': 910,\n",
       " 'aviK_NrYGP6Z4FOLFtXFiQ': 911,\n",
       " 'NT-qMS_lArbGaK8UK8f7yg': 912,\n",
       " 'Hc_TjvjaYInA4j8Lb6ojxQ': 913,\n",
       " 'af-kIZmVbBi4bR_qlEmUZQ': 914,\n",
       " '24EEEKrm8EBX83PqPZ5thg': 915,\n",
       " 'P3x1FOULHk9F6iaRYAXqSg': 916,\n",
       " 't-zC1ZanRiiGiiktNKbgXQ': 917,\n",
       " 'ctUXQhR7kEKa4p1HvrbBOA': 918,\n",
       " 'qdu_0aR7C3bLs_UXh7PTug': 919,\n",
       " 'Wiu7nhLXHuoxLg5mFWqlIw': 920,\n",
       " 'nxQ8f_-oWqMy0q9y6sr2Tw': 921,\n",
       " 'j3AIbrxu7qc-vi6gdKzONA': 922,\n",
       " '_t9EAsbXZagjiI2wNGS-Eg': 923,\n",
       " 'L5ztmyayjKSslrT7-FF0kA': 924,\n",
       " 'nGREVDpbo9RjfIjqvJFLrQ': 925,\n",
       " 'eGslKjsq1e1Fqk-yaWPsqQ': 926,\n",
       " 'l81ILmOhky5bG7o4r3rkhQ': 927,\n",
       " 'YJXQrON5IlW-MSibGtNrXw': 928,\n",
       " 'fdSfg45S-P-FcVF-VIUOew': 929,\n",
       " 'zlb-oKTuwMz-vu1QWE3ofw': 930,\n",
       " 'wIqLN6eeDP0rMnnHz_vL4g': 931,\n",
       " 'Gecy-MP3s97FVMkj7dkikg': 932,\n",
       " 'u3UV8hJmqX4KQ8VyIwAkPQ': 933,\n",
       " 'x1LO8l2mq1cXBxHlzfXcew': 934,\n",
       " 'EXVypC-lA9_GNNWbu7PXOw': 935,\n",
       " '7M1YfB2KaRIxzE7V3VduMQ': 936,\n",
       " 'LCJYjMhy-2Zu5lEUQWN4Cg': 937,\n",
       " 'l0JQw7qCGGfQeH0a8TE_nA': 938,\n",
       " 'PPegmEGH9YDDkjjS8opSuw': 939,\n",
       " 'vYExs_Uft6HSvHTP8tGFWQ': 940,\n",
       " 'wYnWKf64JZilVyLUbaeg0Q': 941,\n",
       " '7X5bRhEkeZMJX1sBks_FaQ': 942,\n",
       " '-ujoFyKzm09YlR2AfAY2Lw': 943,\n",
       " '9chalSgpN_RRUf7hLSEtLw': 944,\n",
       " 'ei_eL54XklFdCTrJVUIf0w': 945,\n",
       " 'BGuTdedkfas8oljaXYRHew': 946,\n",
       " 'Kir_O4_skOLh0imig7MBlQ': 947,\n",
       " 'CLnIlJRpkvaUf-6E_uTcYw': 948,\n",
       " 'W-ef8QaX8OLJVCFLD_Q-8g': 949,\n",
       " 'P5hsiPwbUX83ic8gcLfEDA': 950,\n",
       " 'gLkrjLPwsyVP0Sc4FkFjDA': 951,\n",
       " 'eORxPpdhxDQIo1mabVLv7Q': 952,\n",
       " 'JMHv5_e41yFW6-Jybsdf5g': 953,\n",
       " 'Bh7gtC8Spjy-49mHXbGAvw': 954,\n",
       " 'NfccgroIzkNyiJe_AEsMOg': 955,\n",
       " '5XfAUaix9pBTgreBG79I9Q': 956,\n",
       " 'GJ7fTsUejRAG8U5fPq5RKw': 957,\n",
       " 'p5fQq3ooM84XgEnd2aCkgg': 958,\n",
       " 'GOr23uU4pBGuHSIxaTaP2Q': 959,\n",
       " 'XASzahqAM3JDx0hxBy099w': 960,\n",
       " 'MnCEMnzDc63UxCvnom3R1w': 961,\n",
       " 'gcz5rw0-L8eGJjySOlmK9A': 962,\n",
       " '-jNtbFJ_ilNhMMKhhUb80Q': 963,\n",
       " '_br5iAvYZNPuc-z0rfrCJw': 964,\n",
       " 'ZWyF_7mxXlNtyOVrfGuKzQ': 965,\n",
       " '3fbCExNkS61J9S5CZyCQXQ': 966,\n",
       " 'eUVEH9RpMjl1wxVXvVyB9A': 967,\n",
       " 'wz3HOPNBxr8DDAAFX_8Agw': 968,\n",
       " 'oaTzVc17aKnLvgnG3ochzQ': 969,\n",
       " 'gxOZMidTXSm2z_0AecgbGw': 970,\n",
       " 'v2nvcd71W1J0uBdH23H4OQ': 971,\n",
       " 'YpFUig5R8_XMEixCsorM3g': 972,\n",
       " 'Ft-i74HyCpMDi3R7EDAUWA': 973,\n",
       " 'VYtx0MRhnqEpCqAEge0OVQ': 974,\n",
       " 'QswzyHSZ0hz_ZblfwugQ6g': 975,\n",
       " '-CX52Rm0mfKeWb1_5ZJumw': 976,\n",
       " 'dJCsC0ylKZf8eOpjB40tiA': 977,\n",
       " 'Ili7At4EceaxA2aeAN-Bog': 978,\n",
       " 'CZdGu0nnlt92W0vmzbNTTw': 979,\n",
       " 'ab5LMDx_uraOLlIiwfKI2Q': 980,\n",
       " 'L5ezfFq1Zx_ahKQG3X-OLQ': 981,\n",
       " 'VaBcoKQHmRnwtVkUypsvwA': 982,\n",
       " '20aa2VO2R44oiVnN9mTSSg': 983,\n",
       " 'fSdsJCrP0wxOkvHYZC33ew': 984,\n",
       " 'LK1POYLdvIBWzbqDxaxKRg': 985,\n",
       " '5bgoKpg8uDWLuBFUKAeaWQ': 986,\n",
       " 'esuD-TgK-88BFHRR8cRi3w': 987,\n",
       " 'A0Lar85YRlKUN3h3vCNkNQ': 988,\n",
       " 'O4tuEmvsvxTOXHJMP_OpSg': 989,\n",
       " '5ejg6l7j97gVCOJGHeW0gw': 990,\n",
       " '6SoaATMLiTd2P47CfqSWbA': 991,\n",
       " 'KVKA3GAzEObL_imQ-kvMvw': 992,\n",
       " 'SfoBU4lMJQYAgy45U7NI5g': 993,\n",
       " 'Bg72l3OQBx5tgHLVHRc3Zg': 994,\n",
       " 'nUS4FhEgVbuwpiEdmqocXA': 995,\n",
       " 'm5_nIQKqcSS3IiattX9EcA': 996,\n",
       " '4aTO802JPl724sNCrZ4rKA': 997,\n",
       " '7C6KgUM00NgYZsT6PuUqng': 998,\n",
       " 'NEq5hQ53IFbfSBNl4_GEew': 999,\n",
       " ...}"
      ]
     },
     "execution_count": 38,
     "metadata": {},
     "output_type": "execute_result"
    }
   ],
   "source": [
    "name2id"
   ]
  },
  {
   "cell_type": "markdown",
   "metadata": {
    "deletable": false,
    "editable": false,
    "nbgrader": {
     "grade": false,
     "grade_id": "cell-e6c177e3e661b3f4",
     "locked": true,
     "schema_version": 1,
     "solution": false
    }
   },
   "source": [
    "**Exercise 3** (3 points). Given `id2name` and `name2id` as computed above, convert `edges` into a sparse matrix, `G`, where there is an entry `G[s][t] == 1.0` wherever an edge `(s, t)` exists.\n",
    "\n",
    "**Note** - This step might take time for the kernel to process as there are 1 million rows"
   ]
  },
  {
   "cell_type": "code",
   "execution_count": 29,
   "metadata": {
    "scrolled": true
   },
   "outputs": [
    {
     "data": {
      "text/plain": [
       "False"
      ]
     },
     "execution_count": 29,
     "metadata": {},
     "output_type": "execute_result"
    }
   ],
   "source": [
    "412 in edges.index"
   ]
  },
  {
   "cell_type": "code",
   "execution_count": 30,
   "metadata": {
    "scrolled": true
   },
   "outputs": [
    {
     "data": {
      "text/plain": [
       "Int64Index([     0,      1,      2,      3,      4,      5,      6,      7,\n",
       "                 8,      9,\n",
       "            ...\n",
       "            999994, 999997, 999998, 999999, 999990, 999991, 999992, 999993,\n",
       "            999994, 999997],\n",
       "           dtype='int64', length=882640)"
      ]
     },
     "execution_count": 30,
     "metadata": {},
     "output_type": "execute_result"
    }
   ],
   "source": [
    "edges.index"
   ]
  },
  {
   "cell_type": "code",
   "execution_count": 18,
   "metadata": {
    "scrolled": false
   },
   "outputs": [
    {
     "data": {
      "text/html": [
       "<div>\n",
       "<style scoped>\n",
       "    .dataframe tbody tr th:only-of-type {\n",
       "        vertical-align: middle;\n",
       "    }\n",
       "\n",
       "    .dataframe tbody tr th {\n",
       "        vertical-align: top;\n",
       "    }\n",
       "\n",
       "    .dataframe thead th {\n",
       "        text-align: right;\n",
       "    }\n",
       "</style>\n",
       "<table border=\"1\" class=\"dataframe\">\n",
       "  <thead>\n",
       "    <tr style=\"text-align: right;\">\n",
       "      <th></th>\n",
       "      <th>Source</th>\n",
       "      <th>Target</th>\n",
       "      <th>Unnamed: 0</th>\n",
       "    </tr>\n",
       "  </thead>\n",
       "  <tbody>\n",
       "    <tr>\n",
       "      <th>0</th>\n",
       "      <td>18kPq7GPye-YQ3LyKyAZPw</td>\n",
       "      <td>rpOyqD_893cqmDAtJLbdog</td>\n",
       "      <td>0.0</td>\n",
       "    </tr>\n",
       "    <tr>\n",
       "      <th>1</th>\n",
       "      <td>18kPq7GPye-YQ3LyKyAZPw</td>\n",
       "      <td>4U9kSBLuBDU391x6bxU-YA</td>\n",
       "      <td>1.0</td>\n",
       "    </tr>\n",
       "    <tr>\n",
       "      <th>2</th>\n",
       "      <td>18kPq7GPye-YQ3LyKyAZPw</td>\n",
       "      <td>fHtTaujcyKvXglE33Z5yIw</td>\n",
       "      <td>2.0</td>\n",
       "    </tr>\n",
       "    <tr>\n",
       "      <th>3</th>\n",
       "      <td>18kPq7GPye-YQ3LyKyAZPw</td>\n",
       "      <td>8J4IIYcqBlFch8T90N923A</td>\n",
       "      <td>3.0</td>\n",
       "    </tr>\n",
       "    <tr>\n",
       "      <th>4</th>\n",
       "      <td>18kPq7GPye-YQ3LyKyAZPw</td>\n",
       "      <td>wy6l_zUo7SN0qrvNRWgySw</td>\n",
       "      <td>4.0</td>\n",
       "    </tr>\n",
       "  </tbody>\n",
       "</table>\n",
       "</div>"
      ],
      "text/plain": [
       "                   Source                  Target  Unnamed: 0\n",
       "0  18kPq7GPye-YQ3LyKyAZPw  rpOyqD_893cqmDAtJLbdog         0.0\n",
       "1  18kPq7GPye-YQ3LyKyAZPw  4U9kSBLuBDU391x6bxU-YA         1.0\n",
       "2  18kPq7GPye-YQ3LyKyAZPw  fHtTaujcyKvXglE33Z5yIw         2.0\n",
       "3  18kPq7GPye-YQ3LyKyAZPw  8J4IIYcqBlFch8T90N923A         3.0\n",
       "4  18kPq7GPye-YQ3LyKyAZPw  wy6l_zUo7SN0qrvNRWgySw         4.0"
      ]
     },
     "execution_count": 18,
     "metadata": {},
     "output_type": "execute_result"
    }
   ],
   "source": [
    "edges.head()"
   ]
  },
  {
   "cell_type": "code",
   "execution_count": 40,
   "metadata": {
    "deletable": false,
    "nbgrader": {
     "checksum": "e7b93bdd30160b78cbdaadd4536220be",
     "grade": false,
     "grade_id": "edges2spmat1",
     "locked": false,
     "schema_version": 1,
     "solution": true
    }
   },
   "outputs": [],
   "source": [
    "G = sparse_matrix()\n",
    "\n",
    "###\n",
    "\n",
    "# Make a copy of the edges DataFrame and reset the index\n",
    "# edges as it is right now does not have ordered indices\n",
    "edges_copy = edges.copy()\n",
    "edges_copy.reset_index(drop=True, inplace=True)\n",
    "\n",
    "for i in range(len(edges_copy)):\n",
    "    \n",
    "    # get the corresponding Source and corresponding Target\n",
    "    s = edges_copy.loc[i, 'Source']\n",
    "    t = edges_copy.loc[i, 'Target']\n",
    "    \n",
    "    # have to get the id's in order to assign as keys for G (sparse matrix)\n",
    "    s_id = name2id[s]\n",
    "    t_id = name2id[t]\n",
    "    \n",
    "    G[s_id][t_id] = 1.0\n",
    "###"
   ]
  },
  {
   "cell_type": "code",
   "execution_count": 41,
   "metadata": {
    "deletable": false,
    "editable": false,
    "nbgrader": {
     "checksum": "43664e40d066f164c4c7656131a3cce4",
     "grade": true,
     "grade_id": "edges2spmat1_test",
     "locked": true,
     "points": 3,
     "schema_version": 1,
     "solution": false
    }
   },
   "outputs": [
    {
     "name": "stdout",
     "output_type": "stream",
     "text": [
      "G has 107456 vertices and 882640 edges.\n",
      "\n",
      "(Passed.)\n"
     ]
    }
   ],
   "source": [
    "# Test cell: `edges2spmat1_test`\n",
    "\n",
    "G_rows_nnz = [len(row_i) for row_i in G.values()]\n",
    "print (\"G has {} vertices and {} edges.\".format(len(G.keys()), sum(G_rows_nnz)))\n",
    "\n",
    "assert len(G.keys()) == num_verts\n",
    "assert sum(G_rows_nnz) == num_edges\n",
    "\n",
    "# Check a random sample\n",
    "for k in sample(range(num_edges), 1000):\n",
    "    i = name2id[edges['Source'].iloc[k]]\n",
    "    j = name2id[edges['Target'].iloc[k]]\n",
    "    assert i in G\n",
    "    assert j in G[i]\n",
    "    assert G[i][j] == 1.0\n",
    "\n",
    "print (\"\\n(Passed.)\")"
   ]
  },
  {
   "cell_type": "markdown",
   "metadata": {
    "deletable": false,
    "editable": false,
    "nbgrader": {
     "grade": false,
     "grade_id": "cell-2cea4ccc61e8292b",
     "locked": true,
     "schema_version": 1,
     "solution": false
    }
   },
   "source": [
    "**Exercise 4** (3 points). In the above, we asked you to construct `G` using integer keys. However, since we are, after all, using default dictionaries, we could also use the vertex _names_ as keys. Construct a new sparse matrix, `H`, which uses the vertex names as keys instead of integers."
   ]
  },
  {
   "cell_type": "code",
   "execution_count": null,
   "metadata": {
    "deletable": false,
    "nbgrader": {
     "checksum": "49c43b1118692f51dc39daf77e4a0ed1",
     "grade": false,
     "grade_id": "create_H",
     "locked": false,
     "schema_version": 1,
     "solution": true
    }
   },
   "outputs": [],
   "source": [
    "H = sparse_matrix()\n",
    "\n",
    "###\n",
    "### YOUR CODE HERE\n",
    "###\n"
   ]
  },
  {
   "cell_type": "code",
   "execution_count": null,
   "metadata": {
    "deletable": false,
    "editable": false,
    "nbgrader": {
     "checksum": "74f09f66321a81b92f9a069056c3839a",
     "grade": true,
     "grade_id": "create_H_test",
     "locked": true,
     "points": 3,
     "schema_version": 1,
     "solution": false
    }
   },
   "outputs": [],
   "source": [
    "# Test cell: `create_H_test`\n",
    "\n",
    "H_rows_nnz = [len(h) for h in H.values()]\n",
    "print(\"`H` has {} vertices and {} edges.\".format(len(H.keys()), sum(H_rows_nnz)))\n",
    "\n",
    "assert len(H.keys()) == num_verts\n",
    "assert sum(H_rows_nnz) == num_edges\n",
    "\n",
    "# Check a random sample\n",
    "for i in sample(G.keys(), 100):\n",
    "    i_name = id2name[i]\n",
    "    assert i_name in H\n",
    "    assert len(G[i]) == len(H[i_name])\n",
    "    \n",
    "print (\"\\n(Passed.)\")"
   ]
  },
  {
   "cell_type": "markdown",
   "metadata": {
    "deletable": false,
    "editable": false,
    "nbgrader": {
     "grade": false,
     "grade_id": "cell-70283ef6ee2ba97b",
     "locked": true,
     "schema_version": 1,
     "solution": false
    }
   },
   "source": [
    "**Exercise 5** (3 points). Implement a sparse matrix-vector multiply for matrices with named keys. In this case, it will be convenient to have vectors that also have named keys; assume we use dictionaries to hold these vectors as suggested in the code skeleton, below.\n",
    "\n",
    "**Hint** - To help you understand more about the exercise, go back to **Exercise 2** and see what we did there. There is only one technical change between Ex2 and Ex5"
   ]
  },
  {
   "cell_type": "code",
   "execution_count": null,
   "metadata": {
    "deletable": false,
    "nbgrader": {
     "checksum": "e2b8ff94eabca106055961f330e2e1e9",
     "grade": false,
     "grade_id": "spmv_keyed",
     "locked": false,
     "schema_version": 1,
     "solution": true
    }
   },
   "outputs": [],
   "source": [
    "def vector_keyed(keys=None, values=0, base_type=float):\n",
    "    if keys is not None:\n",
    "        if type(values) is not list:\n",
    "            values = [base_type(values)] * len(keys)\n",
    "        else:\n",
    "            values = [base_type(v) for v in values]\n",
    "        x = dict(zip(keys, values))\n",
    "    else:\n",
    "        x = {}\n",
    "    return x\n",
    "\n",
    "def spmv_keyed(A, x):\n",
    "    \"\"\"Performs a sparse matrix-vector multiply for keyed matrices and vectors.\"\"\"\n",
    "    assert type(x) is dict\n",
    "    \n",
    "    y = vector_keyed(keys=A.keys(), values=0.0)\n",
    "    \n",
    "    ###\n",
    "    ### YOUR CODE HERE\n",
    "    ###\n",
    "    \n",
    "    return y"
   ]
  },
  {
   "cell_type": "code",
   "execution_count": null,
   "metadata": {
    "deletable": false,
    "editable": false,
    "nbgrader": {
     "checksum": "b9e1a425ae61c024c90aec900c302200",
     "grade": true,
     "grade_id": "spmv_keyed_test",
     "locked": true,
     "points": 3,
     "schema_version": 1,
     "solution": false
    },
    "scrolled": true
   },
   "outputs": [],
   "source": [
    "# Test cell: `spmv_keyed_test`\n",
    "\n",
    "#   'row':  / 0.   -2.5   1.2 \\   / 1. \\   / -1.4 \\\n",
    "#  'your':  | 0.1   1.    0.  | * | 2. | = |  2.1 |\n",
    "#  'boat':  \\ 6.   -1.    0.  /   \\ 3. /   \\  4.0 /\n",
    "\n",
    "KEYS = ['row', 'your', 'boat']\n",
    "\n",
    "A_keyed = sparse_matrix ()\n",
    "A_keyed['row']['your'] = -2.5\n",
    "A_keyed['row']['boat'] = 1.2\n",
    "A_keyed['your']['row'] = 0.1\n",
    "A_keyed['your']['your'] = 1.\n",
    "A_keyed['boat']['row'] = 6.\n",
    "A_keyed['boat']['your'] = -1.\n",
    "\n",
    "x_keyed = vector_keyed (KEYS, [1, 2, 3])\n",
    "y0_keyed = vector_keyed (KEYS, [-1.4, 2.1, 4.0])\n",
    "\n",
    "\n",
    "# Try your code:\n",
    "y_keyed = spmv_keyed (A_keyed, x_keyed)\n",
    "\n",
    "# Measure the residual:\n",
    "residuals = [(y_keyed[k] - y0_keyed[k]) for k in KEYS]\n",
    "max_abs_residual = max ([abs (r) for r in residuals])\n",
    "\n",
    "print (\"==> A_keyed:\", A_keyed)\n",
    "print (\"==> x_keyed:\", x_keyed)\n",
    "print (\"==> True solution, y0_keyed:\", y0_keyed)\n",
    "print (\"==> Your solution:\", y_keyed)\n",
    "print (\"==> Residual (infinity norm):\", max_abs_residual)\n",
    "assert max_abs_residual <= 1e-14\n",
    "\n",
    "print (\"\\n(Passed.)\")"
   ]
  },
  {
   "cell_type": "markdown",
   "metadata": {
    "deletable": false,
    "editable": false,
    "nbgrader": {
     "grade": false,
     "grade_id": "cell-082a92f6bf532765",
     "locked": true,
     "schema_version": 1,
     "solution": false
    }
   },
   "source": [
    "Let's benchmark `spmv()` against `spmv_keyed()` on the full data set. Do they perform differently?"
   ]
  },
  {
   "cell_type": "code",
   "execution_count": null,
   "metadata": {},
   "outputs": [],
   "source": [
    "x = dense_vector ([1.] * num_verts)\n",
    "%timeit spmv (G, x)\n",
    "\n",
    "x_keyed = vector_keyed (keys=[v for v in V_names], values=1.)\n",
    "%timeit spmv_keyed (H, x_keyed)"
   ]
  },
  {
   "cell_type": "markdown",
   "metadata": {
    "deletable": false,
    "editable": false,
    "nbgrader": {
     "grade": false,
     "grade_id": "cell-5d768ea95d0ca6c1",
     "locked": true,
     "schema_version": 1,
     "solution": false
    }
   },
   "source": [
    "## Alternative formats: \n",
    "\n",
    "Take a look at the following slides: [link](https://www.dropbox.com/s/4fwq21dy60g4w4u/cse6040-matrix-storage-notes.pdf?dl=0). These slides cover the basics of two list-based sparse matrix formats known as _coordinate format_ (COO) and _compressed sparse row_ (CSR). We will also discuss them briefly below."
   ]
  },
  {
   "cell_type": "markdown",
   "metadata": {
    "deletable": false,
    "editable": false,
    "nbgrader": {
     "grade": false,
     "grade_id": "cell-4bf324e720a3e630",
     "locked": true,
     "schema_version": 1,
     "solution": false
    }
   },
   "source": [
    "### Coordinate Format (COO)\n",
    "In this format we store three lists, one each for rows, columns and the elements of the matrix. Look at the below picture to understand how these lists are formed."
   ]
  },
  {
   "cell_type": "markdown",
   "metadata": {
    "deletable": false,
    "editable": false,
    "nbgrader": {
     "grade": false,
     "grade_id": "cell-6bdb33cc2c955d82",
     "locked": true,
     "schema_version": 1,
     "solution": false
    }
   },
   "source": [
    "![Coordinate (COO) storage](https://github.com/cse6040/labs-fa17/raw/master/lab10-numpy/coo.png)"
   ]
  },
  {
   "cell_type": "markdown",
   "metadata": {
    "deletable": false,
    "editable": false,
    "nbgrader": {
     "grade": false,
     "locked": true,
     "solution": false
    }
   },
   "source": [
    "**Exercise 6** (3 points). Convert the `edges[:]` data into a coordinate (COO) data structure in native Python using three lists, `coo_rows[:]`, `coo_cols[:]`, and `coo_vals[:]`, to store the row indices, column indices, and matrix values, respectively. Use integer indices and set all values to 1.\n",
    "\n",
    "**Hint** - Think of what rows, columns and values mean conceptually when you relate it with our dataset of edges"
   ]
  },
  {
   "cell_type": "code",
   "execution_count": null,
   "metadata": {
    "deletable": false,
    "nbgrader": {
     "checksum": "743f3f0274ab64002cbfc488f983ab48",
     "grade": false,
     "grade_id": "create_coo",
     "locked": false,
     "schema_version": 1,
     "solution": true
    }
   },
   "outputs": [],
   "source": [
    "###\n",
    "### YOUR CODE HERE\n",
    "###\n"
   ]
  },
  {
   "cell_type": "code",
   "execution_count": null,
   "metadata": {
    "deletable": false,
    "editable": false,
    "nbgrader": {
     "checksum": "3c761a47d930eb8aea76ed98ea41e5ef",
     "grade": true,
     "grade_id": "create_coo_test",
     "locked": true,
     "points": 3,
     "schema_version": 1,
     "solution": false
    }
   },
   "outputs": [],
   "source": [
    "# Test cell: `create_coo_test`\n",
    "\n",
    "assert len (coo_rows) == num_edges\n",
    "assert len (coo_cols) == num_edges\n",
    "assert len (coo_vals) == num_edges\n",
    "assert all ([v == 1. for v in coo_vals])\n",
    "\n",
    "# Randomly check a bunch of values\n",
    "coo_zip = zip (coo_rows, coo_cols, coo_vals)\n",
    "for i, j, a_ij in sample (list (coo_zip), 1000):\n",
    "    assert (i in G) and j in G[i]\n",
    "    \n",
    "print (\"\\n(Passed.)\")"
   ]
  },
  {
   "cell_type": "markdown",
   "metadata": {
    "deletable": false,
    "editable": false,
    "nbgrader": {
     "grade": false,
     "locked": true,
     "solution": false
    }
   },
   "source": [
    "**Exercise 7** (3 points). Implement a sparse matrix-vector multiply routine for COO implementation."
   ]
  },
  {
   "cell_type": "code",
   "execution_count": null,
   "metadata": {
    "deletable": false,
    "nbgrader": {
     "checksum": "8e4c1e238b164289ec574900551ba0b4",
     "grade": false,
     "grade_id": "spmv_coo",
     "locked": false,
     "schema_version": 1,
     "solution": true
    }
   },
   "outputs": [],
   "source": [
    "def spmv_coo(R, C, V, x, num_rows=None):\n",
    "    \"\"\"\n",
    "    Returns y = A*x, where A has 'm' rows and is stored in\n",
    "    COO format by the array triples, (R, C, V).\n",
    "    \"\"\"\n",
    "    assert type(x) is list\n",
    "    assert type(R) is list\n",
    "    assert type(C) is list\n",
    "    assert type(V) is list\n",
    "    assert len(R) == len(C) == len(V)\n",
    "    if num_rows is None:\n",
    "        num_rows = max(R) + 1\n",
    "    \n",
    "    y = dense_vector(num_rows)\n",
    "    \n",
    "    ###\n",
    "    ### YOUR CODE HERE\n",
    "    ###\n",
    "    \n",
    "    return y"
   ]
  },
  {
   "cell_type": "code",
   "execution_count": null,
   "metadata": {
    "deletable": false,
    "editable": false,
    "nbgrader": {
     "grade": true,
     "grade_id": "spmv_coo_test",
     "locked": true,
     "points": 3,
     "schema_version": 1,
     "solution": false
    }
   },
   "outputs": [],
   "source": [
    "# Test cell: `spmv_coo_test`\n",
    "\n",
    "#   / 0.   -2.5   1.2 \\   / 1. \\   / -1.4 \\\n",
    "#   | 0.1   1.    0.  | * | 2. | = |  2.1 |\n",
    "#   \\ 6.   -1.    0.  /   \\ 3. /   \\  4.0 /\n",
    "\n",
    "A_coo_rows = [0, 0, 1, 1, 2, 2]\n",
    "A_coo_cols = [1, 2, 0, 1, 0, 1]\n",
    "A_coo_vals = [-2.5, 1.2, 0.1, 1., 6., -1.]\n",
    "\n",
    "x = dense_vector([1, 2, 3])\n",
    "y0 = dense_vector([-1.4, 2.1, 4.0])\n",
    "\n",
    "# Try your code:\n",
    "y_coo = spmv_coo(A_coo_rows, A_coo_cols, A_coo_vals, x)\n",
    "\n",
    "max_abs_residual = max ([abs(a-b) for a, b in zip(y_coo, y0)])\n",
    "\n",
    "print(\"==> A_coo:\", list(zip(A_coo_rows, A_coo_cols, A_coo_vals)))\n",
    "print(\"==> x:\", x)\n",
    "print(\"==> True solution, y0:\", y0)\n",
    "print(\"==> Your solution:\", y_coo)\n",
    "print(\"==> Residual (infinity norm):\", max_abs_residual)\n",
    "assert max_abs_residual <= 1e-15\n",
    "\n",
    "print(\"\\n(Passed.)\")"
   ]
  },
  {
   "cell_type": "markdown",
   "metadata": {
    "deletable": false,
    "editable": false,
    "nbgrader": {
     "grade": false,
     "locked": true,
     "solution": false
    }
   },
   "source": [
    "Let's see how fast this is..."
   ]
  },
  {
   "cell_type": "code",
   "execution_count": null,
   "metadata": {
    "deletable": false,
    "editable": false,
    "nbgrader": {
     "grade": false,
     "locked": true,
     "solution": false
    }
   },
   "outputs": [],
   "source": [
    "x = dense_vector([1.] * num_verts)\n",
    "%timeit spmv_coo(coo_rows, coo_cols, coo_vals, x)"
   ]
  },
  {
   "cell_type": "markdown",
   "metadata": {
    "deletable": false,
    "editable": false,
    "nbgrader": {
     "grade": false,
     "locked": true,
     "solution": false
    }
   },
   "source": [
    "### Compressed Sparse Row Format\n",
    "This is similar to the COO format excpet that it is much more compact and takes up less storage. Look at the picture below to understand more about this representation\n",
    "\n",
    "![Compressed sparse row (CSR) format](https://github.com/cse6040/labs-fa17/raw/master/lab10-numpy/csr.png)"
   ]
  },
  {
   "cell_type": "markdown",
   "metadata": {
    "deletable": false,
    "editable": false,
    "nbgrader": {
     "grade": false,
     "locked": true,
     "solution": false
    }
   },
   "source": [
    "**Exercise 8** (3 points). Now create a CSR data structure, again using native Python lists. Name your output CSR lists `csr_ptrs`, `csr_inds`, and `csr_vals`.\n",
    "\n",
    "It's easiest to start with the COO representation. We've given you some starter code. Unlike most of the exercises, instead of creating a function, you have to compute csr_ptrs here"
   ]
  },
  {
   "cell_type": "code",
   "execution_count": null,
   "metadata": {
    "deletable": false,
    "nbgrader": {
     "checksum": "acbf14ee94e8438caba40607669769f4",
     "grade": false,
     "grade_id": "create_csr",
     "locked": false,
     "schema_version": 1,
     "solution": true
    }
   },
   "outputs": [],
   "source": [
    "from operator import itemgetter\n",
    "C = sorted(zip(coo_rows, coo_cols, coo_vals), key=itemgetter(0))\n",
    "nnz = len(C)\n",
    "assert nnz >= 1\n",
    "\n",
    "assert (C[-1][0] + 1) == num_verts  # Why?\n",
    "\n",
    "csr_inds = [j for _, j, _ in C]\n",
    "csr_vals = [a_ij for _, _, a_ij in C]\n",
    "\n",
    "# Your task: Compute `csr_ptrs`\n",
    "###\n",
    "### YOUR CODE HERE\n",
    "###\n"
   ]
  },
  {
   "cell_type": "code",
   "execution_count": null,
   "metadata": {
    "deletable": false,
    "editable": false,
    "nbgrader": {
     "checksum": "9156246198d95d0bad5e0a0c3986c1d7",
     "grade": true,
     "grade_id": "create_csr_test",
     "locked": true,
     "points": 3,
     "schema_version": 1,
     "solution": false
    }
   },
   "outputs": [],
   "source": [
    "# Test cell: `create_csr_test`\n",
    "\n",
    "assert type(csr_ptrs) is list, \"`csr_ptrs` is not a list.\"\n",
    "assert type(csr_inds) is list, \"`csr_inds` is not a list.\"\n",
    "assert type(csr_vals) is list, \"`csr_vals` is not a list.\"\n",
    "\n",
    "assert len(csr_ptrs) == (num_verts + 1), \"`csr_ptrs` has {} values instead of {}\".format(len(csr_ptrs), num_verts+1)\n",
    "assert len(csr_inds) == num_edges, \"`csr_inds` has {} values instead of {}\".format(len(csr_inds), num_edges)\n",
    "assert len(csr_vals) == num_edges, \"`csr_vals` has {} values instead of {}\".format(len(csr_vals), num_edges)\n",
    "assert csr_ptrs[num_verts] == num_edges, \"`csr_ptrs[{}]` == {} instead of {}\".format(num_verts, csr_ptrs[num_verts], num_edges)\n",
    "\n",
    "# Check some random entries\n",
    "for i in sample(range(num_verts), 10000):\n",
    "    assert i in G\n",
    "    a, b = csr_ptrs[i], csr_ptrs[i+1]\n",
    "    msg_prefix = \"Row {} should have these nonzeros: {}\".format(i, G[i])\n",
    "    assert (b-a) == len(G[i]), \"{}, which is {} nonzeros; instead, it has just {}.\".format(msg_prefix, len(G[i]), b-a)\n",
    "    assert all([(j in G[i]) for j in csr_inds[a:b]]), \"{}. However, it may have missing or incorrect column indices: csr_inds[{}:{}] == {}\".format(msg_prefix, a, b, csr_inds[a:b])\n",
    "    assert all([(j in csr_inds[a:b] for j in G[i].keys())]), \"{}. However, it may have missing or incorrect column indices: csr_inds[{}:{}] == {}\".format(msg_prefix, a, b, csr_inds[a:b])\n",
    "\n",
    "print (\"\\n(Passed.)\")"
   ]
  },
  {
   "cell_type": "markdown",
   "metadata": {
    "deletable": false,
    "editable": false,
    "nbgrader": {
     "grade": false,
     "locked": true,
     "solution": false
    }
   },
   "source": [
    "**Exercise 9** (3 points). Now implement a CSR-based sparse matrix-vector multiply."
   ]
  },
  {
   "cell_type": "code",
   "execution_count": null,
   "metadata": {
    "deletable": false,
    "nbgrader": {
     "checksum": "39b0d6c563be4d5edbf19ba4b84513ae",
     "grade": false,
     "grade_id": "spmv_csr",
     "locked": false,
     "schema_version": 1,
     "solution": true
    }
   },
   "outputs": [],
   "source": [
    "def spmv_csr(ptr, ind, val, x, num_rows=None):\n",
    "    assert type(ptr) == list\n",
    "    assert type(ind) == list\n",
    "    assert type(val) == list\n",
    "    assert type(x) == list\n",
    "    if num_rows is None: num_rows = len(ptr) - 1\n",
    "    assert len(ptr) >= (num_rows+1)  # Why?\n",
    "    assert len(ind) >= ptr[num_rows]  # Why?\n",
    "    assert len(val) >= ptr[num_rows]  # Why?\n",
    "    \n",
    "    y = dense_vector(num_rows)\n",
    "    \n",
    "    ###\n",
    "    ### YOUR CODE HERE\n",
    "    ###\n",
    "    \n",
    "    return y"
   ]
  },
  {
   "cell_type": "code",
   "execution_count": null,
   "metadata": {
    "deletable": false,
    "editable": false,
    "nbgrader": {
     "checksum": "2dfa835e02cb220d37c1cf42d15cabc2",
     "grade": true,
     "grade_id": "spmv_csr_test",
     "locked": true,
     "points": 3,
     "schema_version": 1,
     "solution": false
    }
   },
   "outputs": [],
   "source": [
    "# Test cell: `spmv_csr_test`\n",
    "\n",
    "#   / 0.   -2.5   1.2 \\   / 1. \\   / -1.4 \\\n",
    "#   | 0.1   1.    0.  | * | 2. | = |  2.1 |\n",
    "#   \\ 6.   -1.    0.  /   \\ 3. /   \\  4.0 /\n",
    "\n",
    "A_csr_ptrs = [ 0,        2,       4,       6]\n",
    "A_csr_cols = [ 1,   2,   0,   1,  0,   1]\n",
    "A_csr_vals = [-2.5, 1.2, 0.1, 1., 6., -1.]\n",
    "\n",
    "x = dense_vector([1, 2, 3])\n",
    "y0 = dense_vector([-1.4, 2.1, 4.0])\n",
    "\n",
    "# Try your code:\n",
    "y_csr = spmv_csr(A_csr_ptrs, A_csr_cols, A_csr_vals, x)\n",
    "\n",
    "max_abs_residual = max([abs(a-b) for a, b in zip(y_csr, y0)])\n",
    "\n",
    "print (\"==> A_csr_ptrs:\", A_csr_ptrs)\n",
    "print (\"==> A_csr_{cols, vals}:\", list(zip(A_csr_cols, A_csr_vals)))\n",
    "print (\"==> x:\", x)\n",
    "print (\"==> True solution, y0:\", y0)\n",
    "print (\"==> Your solution:\", y_csr)\n",
    "print (\"==> Residual (infinity norm):\", max_abs_residual)\n",
    "assert max_abs_residual <= 1e-14\n",
    "\n",
    "print (\"\\n(Passed.)\")"
   ]
  },
  {
   "cell_type": "code",
   "execution_count": null,
   "metadata": {
    "deletable": false,
    "editable": false,
    "nbgrader": {
     "grade": false,
     "locked": true,
     "solution": false
    }
   },
   "outputs": [],
   "source": [
    "x = dense_vector([1.] * num_verts)\n",
    "%timeit spmv_csr(csr_ptrs, csr_inds, csr_vals, x)"
   ]
  },
  {
   "cell_type": "markdown",
   "metadata": {
    "collapsed": true,
    "deletable": false,
    "editable": false,
    "nbgrader": {
     "grade": false,
     "locked": true,
     "solution": false
    }
   },
   "source": [
    "## Using Scipy's implementations\n",
    "\n",
    "What you should have noticed is that the list-based COO and CSR formats do not really lead to sparse matrix-vector multiply implementations that are much faster than the dictionary-based methods. Let's instead try Scipy's native COO and CSR implementations."
   ]
  },
  {
   "cell_type": "code",
   "execution_count": null,
   "metadata": {
    "deletable": false,
    "editable": false,
    "nbgrader": {
     "grade": false,
     "locked": true,
     "solution": false
    }
   },
   "outputs": [],
   "source": [
    "import numpy as np\n",
    "import scipy.sparse as sp\n",
    "\n",
    "A_coo_sp = sp.coo_matrix((coo_vals, (coo_rows, coo_cols)))\n",
    "A_csr_sp = A_coo_sp.tocsr() # Alternatively: sp.csr_matrix((val, ind, ptr))\n",
    "x_sp = np.ones(num_verts)\n",
    "\n",
    "print (\"\\n==> COO in Scipy:\")\n",
    "%timeit A_coo_sp.dot (x_sp)\n",
    "\n",
    "print (\"\\n==> CSR in Scipy:\")\n",
    "%timeit A_csr_sp.dot (x_sp)"
   ]
  },
  {
   "cell_type": "markdown",
   "metadata": {
    "deletable": false,
    "editable": false,
    "nbgrader": {
     "grade": false,
     "grade_id": "cell-32d6c000d64253c6",
     "locked": true,
     "schema_version": 1,
     "solution": false
    }
   },
   "source": [
    "**Fin!** If your notebook runs to this point without error, try submitting it."
   ]
  }
 ],
 "metadata": {
  "anaconda-cloud": [],
  "celltoolbar": "Create Assignment",
  "kernelspec": {
   "display_name": "Python 3",
   "language": "python",
   "name": "python3"
  },
  "language_info": {
   "codemirror_mode": {
    "name": "ipython",
    "version": 3
   },
   "file_extension": ".py",
   "mimetype": "text/x-python",
   "name": "python",
   "nbconvert_exporter": "python",
   "pygments_lexer": "ipython3",
   "version": "3.6.5"
  }
 },
 "nbformat": 4,
 "nbformat_minor": 1
}
