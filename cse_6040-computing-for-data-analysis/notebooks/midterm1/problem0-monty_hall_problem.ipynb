{
 "cells": [
  {
   "cell_type": "markdown",
   "metadata": {
    "nbgrader": {
     "grade": false,
     "locked": true,
     "solution": false
    }
   },
   "source": [
    "## Simulating Monty Hall Problem"
   ]
  },
  {
   "cell_type": "markdown",
   "metadata": {
    "nbgrader": {
     "grade": false,
     "locked": true,
     "solution": false
    }
   },
   "source": [
    "In this problem, we will be writing pieces to simulate the [Monty hall problem](https://en.wikipedia.org/wiki/Monty_Hall_problem). Monty Hall was the host of \"Let's Make a Deal\" in the 1960's and 70's.\n",
    "\n",
    "The problem can be summarized by the following:\n",
    "\n",
    "> Suppose you're on a game show, and you're given the choice of three doors: Behind one door is a car; behind the others, goats. You pick a door, say No. 1, and the host, who knows what's behind the doors, opens another door, say No. 3, which has a goat. He then says to you, \"Do you want to pick door No. 2?\" Is it to your advantage to switch your choice?\n",
    "\n",
    "> 1. The host must always open a door that was not picked by the contestant.\n",
    "1. The host must always open a door to reveal a goat and never the car.\n",
    "1. The host must always offer the chance to switch between the originally chosen door and the remaining closed door.\n",
    "\n",
    "\n",
    "The typical problem is for 3 doors but we can easily extend it to any number of doors. The simulation for this problem can be designed in different ways. However, we will focus our design using Python's dictionary and string objects along with some basic concepts of probability theory. \n",
    "\n",
    "**Caveat for the whole notebook** - This problem specifically deals with probabilities and simulations. Wherever required, we have implemented 99.7% confidence intervals for checking your answers. Do keep in mind that there is a probability (very small) that your answer lies beyond this interval. In such a scenario, you might want to re-run the test cell. "
   ]
  },
  {
   "cell_type": "markdown",
   "metadata": {
    "nbgrader": {
     "grade": false,
     "locked": true,
     "solution": false
    }
   },
   "source": [
    "**Exercise 0** (2 points) Complete the function `initialize_game()` which has 1 input argument:\n",
    "- `n`: The total number of doors\n",
    "\n",
    "The function will place a car behind one of the **n** doors **randomly and uniformly** (following Uniform Distribution).  \n",
    "\n",
    "The function returns a dictionary with:\n",
    "\n",
    "- keys as strings in the pattern 'Door _x_', where $1 \\leq x \\leq n$, and \n",
    "- values as either the string 'Goat' or the string 'Car'.\n",
    "\n",
    "There can only be one 'Car' in the dictionary. All the other values shall be 'Goat'.\n",
    "\n",
    "**Example**: For `n = 5`, `'Car'` can be behind any door from `'Door 1'` to `'Door 5'`. In this case, `'Car'` is behind `'Door 2'`, the function should return:   \n",
    "`{'Door 1': 'Goat', 'Door 2': 'Car', 'Door 3': 'Goat', 'Door 4': 'Goat', 'Door 5': 'Goat'}` "
   ]
  },
  {
   "cell_type": "code",
   "execution_count": null,
   "metadata": {
    "collapsed": true
   },
   "outputs": [],
   "source": [
    "def initialize_game(n):\n",
    "    from random import randrange\n",
    "    #\n",
    "    # YOUR CODE HERE\n",
    "    #\n"
   ]
  },
  {
   "cell_type": "code",
   "execution_count": null,
   "metadata": {
    "collapsed": true,
    "nbgrader": {
     "grade": true,
     "grade_id": "test_ex_0",
     "locked": true,
     "points": "2",
     "solution": false
    }
   },
   "outputs": [],
   "source": [
    "## Test code\n",
    "import numpy as np\n",
    "# Testing for 3 Doors\n",
    "door_dict = initialize_game(3)\n",
    "assert type(door_dict) is dict, \"Make sure returned object is a dictionary\"\n",
    "assert len(door_dict) == 3, \"Incorrect number of keys in dictionary\"\n",
    "assert 'Door 1' in door_dict and 'Door 2' in door_dict and 'Door 3' in door_dict, \"Some keys missing in returned dictionary\"\n",
    "\n",
    "d1 = d2 = d3 = 0\n",
    "\n",
    "\n",
    "for  i in range(10000):\n",
    "    door_dict = initialize_game(3)\n",
    "    if door_dict['Door 1'] == 'Car':\n",
    "        d1 += 1/10000\n",
    "    elif door_dict['Door 2'] == 'Car':\n",
    "        d2 += 1/10000\n",
    "    else:\n",
    "        d3 += 1/10000\n",
    "\n",
    "assert  0.36 > d1 and d1 >= 0.30, 'Function initialize_game() might not be doing correct random assignments'\n",
    "assert  0.36 > d2 and d2 >= 0.30, 'Function initialize_game() might not be doing correct random assignments'\n",
    "assert  0.36 > d3 and d3 >= 0.30, 'Function initialize_game() might not be doing correct random assignments'\n",
    "\n",
    "\n",
    "# Testing for 5 Doors\n",
    "door_dict = initialize_game(5)\n",
    "assert type(door_dict) is dict, \"Make sure returned object is a dictionary\"\n",
    "assert len(door_dict) == 5, \"Incorrect number of keys in dictionary\"\n",
    "assert 'Door 1' in door_dict and 'Door 2' in door_dict and 'Door 3' in door_dict and 'Door 4' in door_dict and 'Door 5' in door_dict, \"Some keys missing in returnd dictionary\"\n",
    "\n",
    "d = [0]*5\n",
    "for  i in range(10000):\n",
    "    door_dict = initialize_game(5)\n",
    "    if door_dict['Door 1'] == 'Car':\n",
    "        d[0] += 1/10000\n",
    "    elif door_dict['Door 2'] == 'Car':\n",
    "        d[1] += 1/10000\n",
    "    elif door_dict['Door 3'] == 'Car':\n",
    "        d[2] += 1/10000\n",
    "    elif door_dict['Door 4'] == 'Car':\n",
    "        d[3] += 1/10000\n",
    "    else:\n",
    "        d[4] += 1/10000\n",
    "\n",
    "for i in range(len(d)):\n",
    "    assert 0.24 > d[i] and d[i] >= 0.16, 'Function might not be intializing game following uniform distribution'\n",
    "\n",
    "print(\"\\nPassed!\")"
   ]
  },
  {
   "cell_type": "markdown",
   "metadata": {
    "nbgrader": {
     "grade": false,
     "locked": true,
     "solution": false
    }
   },
   "source": [
    "**Exercise 1** (1 point) Complete the function `first_choice()` which has 1 input argument: \n",
    "\n",
    "- `door_dict`:  A dictionary representing every numbered door and what that door is hiding (a dictionary similar to that returned by function `intitialize_game(n)`)\n",
    "\n",
    "The goal here is to create a function where the player decides his/her first choice of door **randomly and uniformly** (following Uniform Distribution). \n",
    "\n",
    "The function returns `int` value indicating the door number selected by player depending on number of doors in `door_dict`"
   ]
  },
  {
   "cell_type": "code",
   "execution_count": null,
   "metadata": {
    "collapsed": true
   },
   "outputs": [],
   "source": [
    "def first_choice(door_dict):\n",
    "#\n",
    "# YOUR CODE HERE\n",
    "#\n"
   ]
  },
  {
   "cell_type": "code",
   "execution_count": null,
   "metadata": {
    "collapsed": true,
    "nbgrader": {
     "grade": true,
     "grade_id": "test_ex_1",
     "locked": true,
     "points": "1",
     "solution": false
    }
   },
   "outputs": [],
   "source": [
    "# Test code\n",
    "door_dict = {'Door 1': 'Car', 'Door 2': 'Goat', 'Door 3': 'Goat'}\n",
    "door = first_choice(door_dict)\n",
    "assert type(door) is int, 'Expected int found {}'.format(type(door))\n",
    "# Test for 3 doors\n",
    "d = [0]*3\n",
    "for  i in range(10000):\n",
    "    door = first_choice(door_dict)\n",
    "    d[door - 1] += 1/10000\n",
    "for i in range(3):\n",
    "    assert  0.36 >= d[i] and d[i]>= 0.30, 'Function might not be choosing players first choice uniformly for 3 door game'\n",
    "\n",
    "# Testing for 5 Doors\n",
    "d = [0]*5\n",
    "door_dict = {'Door 1': 'Car', 'Door 2': 'Goat', 'Door 3': 'Goat', 'Door 4': 'Goat', 'Door 5': 'Goat'}\n",
    "for  i in range(10000):\n",
    "    door = first_choice(door_dict)\n",
    "    d[door -1] += 1/10000\n",
    "for i in range(5):\n",
    "    assert  0.25 > d[i] and d[i] >= 0.15, 'Function might not be choosing players first choice uniformly for 5 door game'\n",
    "\n",
    "print(\"\\nPassed!\")"
   ]
  },
  {
   "cell_type": "markdown",
   "metadata": {
    "nbgrader": {
     "grade": false,
     "locked": true,
     "solution": false
    }
   },
   "source": [
    "**Exercise 2** (3 points) Complete the function `monty_opens()` which has 3 input arguments. \n",
    "\n",
    "- `door_dict`: A dictionary similar to that returned by function `initialize_game()`\n",
    "- `player_door`: An integer value denoting the player's first choice of door\n",
    "- `k`: The number of doors to be opened by Monty\n",
    "\n",
    "The function simulates Monty opening a door after the player has already picked an unopened door as their first choice. Opening a door is modelled by deleting goat doors from dictionary `door_dict`. \n",
    "\n",
    "The function returns the modified `door_dict`.\n",
    "\n",
    "There are 2 situations you need to consider:\n",
    "\n",
    "- **Case 1**: If the player's first choice has a `Goat` behind the door, then Monty will open **k** goat doors out of the remaining **n-2** goat doors randomly and uniformly. (Each goat door except player door equally likely to be opened). \n",
    "\n",
    "- **Case 2**: If the player's first choice has a `Car` behind the door, then Monty will open **k** goat doors out of the remaining **n-1** goat doors randomly and uniformly. (Each goat door equally likely to be opened). \n",
    "\n",
    "**Note:** Player door and car door can never be opened. \n",
    "\n",
    "**Example**: Given input:\n",
    "- `door_dict` = `{'Door 1': 'Goat', 'Door 2': 'Car', 'Door 3': 'Goat', 'Door 4': 'Goat', 'Door 5': 'Goat'}`\n",
    "- The player's first choice is `player_door` = 1 (meaning 'Door 1')\n",
    "- `k = 2`, means Monty will open 2 doors out of `n-2=3` goat doors, which are Door 3, 4 and 5.\n",
    "\n",
    "Therefore, your function should return  `door_dict = {'Door 1': 'Goat', 'Door 2': 'Car', 'Door x': 'Goat'}`.\n",
    "- If Monty opens Door 3 and 4 -> x = 5    \n",
    "- If Monty opens Door 3 and 5 -> x = 4    \n",
    "- If Monty opens Door 4 and 5 -> x = 3   \n"
   ]
  },
  {
   "cell_type": "code",
   "execution_count": null,
   "metadata": {
    "collapsed": true
   },
   "outputs": [],
   "source": [
    "import random\n",
    "\n",
    "def monty_opens(door_dict, player_door, k):\n",
    "    assert type(door_dict) is dict, \"input variable door_dict should be a dictionary\"\n",
    "    assert k <= len(door_dict) - 2, \"Incorrect number of doors to be opened in dictionary\"\n",
    "#\n",
    "# YOUR CODE HERE\n",
    "#\n",
    "    return door_dict"
   ]
  },
  {
   "cell_type": "code",
   "execution_count": null,
   "metadata": {
    "collapsed": true,
    "nbgrader": {
     "grade": true,
     "grade_id": "test_ex_2",
     "locked": true,
     "points": "3",
     "solution": false
    }
   },
   "outputs": [],
   "source": [
    "##### Test code\n",
    "\n",
    "# Case 1: Player's first choice has Goat in 3 door Monty hall Game\n",
    "door_dict = {'Door 1': 'Goat', 'Door 2': 'Car', 'Door 3': 'Goat'}\n",
    "door_dict = monty_opens(door_dict, 1, 1)\n",
    "assert type(door_dict) is dict, \"Make sure returned object is a dictionary\"\n",
    "assert len(door_dict) == 2, \"Incorrect number of keys in dictionary\"\n",
    "assert 'Door 1' in door_dict and 'Door 2' in door_dict, \"Incorrect key removed\"\n",
    "door_dict = {'Door 1': 'Car', 'Door 2': 'Goat', 'Door 3': 'Goat'}\n",
    "door_dict = monty_opens(door_dict, 3, 1)\n",
    "assert len(door_dict) == 2, \"Incorrect number of keys in dictionary\"\n",
    "assert 'Door 1' in door_dict and 'Door 3' in door_dict, \"Incorrect key removed\"\n",
    "\n",
    "# Case 2: Player's first choice has Car\n",
    "d1 = 0\n",
    "d3 = 0\n",
    "for i in range(10000):\n",
    "    door_dict = {'Door 1': 'Goat', 'Door 2': 'Car', 'Door 3': 'Goat'}\n",
    "    player_door = 2\n",
    "    door_dict = monty_opens(door_dict, 2, 1)\n",
    "    if 'Door 1' in door_dict:\n",
    "        d1 += 1/10000\n",
    "    else:\n",
    "        d3 += 1/10000\n",
    "assert  0.53 > d1 and d1 >= 0.47, 'Make sure that door is being opened randomly and uniformly'\n",
    "assert  0.53 > d3 and d3 >= 0.47, 'Make sure that door is being opened randomly and uniformly'\n",
    "\n",
    "# Case 3: Checking Random number of intial doors and random number of doors opened by Monty\n",
    "import random\n",
    "n_doors = random.randint(8, 13) \n",
    "k = random.randint(3, 6) \n",
    "car_door = 'Door ' + str(n_doors) \n",
    "player_door = 'Door 1'\n",
    "d = [0]*n_doors\n",
    "for i in range(10000):\n",
    "    door_dict = {}\n",
    "    for i in range(n_doors):\n",
    "        door_dict[\"Door \" + str(i + 1) ] = \"Goat\"\n",
    "    door_dict[\"Door \" + str(n_doors) ] = \"Car\"\n",
    "    door_dict = monty_opens(door_dict, 1, k)\n",
    "    for key, val in door_dict.items():\n",
    "        d[int(key[5:]) - 1] += 1\n",
    "assert d[0] == 10000, 'Player door should never be removed from door dict'\n",
    "assert d[n_doors -1] == 10000, 'Car door should never be removed from doo dict'\n",
    "for i in range(1, n_doors - 1):\n",
    "    assert  k/(n_doors - 2)*(0.8) <= (1 -  d[i]/10000) <= k/(n_doors - 2)*(1.2), 'Doors not opening not uniformly and randomly'\n",
    "\n",
    "print(\"\\nPassed!\")"
   ]
  },
  {
   "cell_type": "markdown",
   "metadata": {
    "nbgrader": {
     "grade": false,
     "locked": true,
     "solution": false
    }
   },
   "source": [
    "**Exercise 3** (2 points) Complete the function `final_decision()` which has 3 input arguments:\n",
    "\n",
    "- `door_dict`: A dictionary after Monty has opened `k` doors using `monty_opens()` function\n",
    "- `player_door`: An integer value denoting player's first choice\n",
    "- `decision`: A string value, either `'Stay'` or `'Switch'`, depending on whether player decides to stay with first choice or switch to another door\n",
    "\n",
    "The function returns string `'Won'` if player wins the game and string `'Lost'` if he/she loses, depending on the player's decision to switch the door or not. \n",
    "\n",
    "The function simulates either: \n",
    "\n",
    "- staying with the first choice of doors, in which case the first choice door (`player_door`) is opened, and either a car or a goat is revealed, or\n",
    "- switching to another door, in which case any of the doors that were NOT the first choice could be selected uniformly and randomly. The selected door is then opened, and either a car or a goat is revealed."
   ]
  },
  {
   "cell_type": "code",
   "execution_count": null,
   "metadata": {
    "collapsed": true
   },
   "outputs": [],
   "source": [
    "def final_decision(door_dict, player_door, decision):\n",
    "    #\n",
    "    # YOUR CODE HERE\n",
    "    #\n"
   ]
  },
  {
   "cell_type": "code",
   "execution_count": null,
   "metadata": {
    "collapsed": true,
    "nbgrader": {
     "grade": true,
     "grade_id": "test_ex_3",
     "locked": true,
     "points": "2",
     "solution": false
    }
   },
   "outputs": [],
   "source": [
    "##### Test code\n",
    "\n",
    "# Case 1\n",
    "door_dict = {'Door 1': 'Goat', 'Door 2': 'Car', 'Door 4': 'Goat'}\n",
    "result = final_decision(door_dict, 1, 'Stay')\n",
    "# General return statement check\n",
    "assert result is 'Lost', \"Please check the return value\"\n",
    "\n",
    "# Case 2\n",
    "door_dict = {'Door 1': 'Goat', 'Door 2': 'Car', 'Door 4': 'Goat'}\n",
    "result = final_decision(door_dict, 2, 'Stay')\n",
    "assert result is 'Won', \"Please check the return value\"\n",
    "\n",
    "# Case 3\n",
    "door_dict = {'Door 1': 'Goat', 'Door 2': 'Car', 'Door 4': 'Goat','Door 5': 'Goat','Door 6': 'Goat'}\n",
    "result = final_decision(door_dict, 2, 'Switch')\n",
    "assert result is 'Lost', \"Please check the return value\"\n",
    "\n",
    "# Case 4\n",
    "door_dict = {'Door 1': 'Goat', 'Door 2': 'Car', 'Door 4': 'Goat','Door 5': 'Goat','Door 6': 'Goat'}\n",
    "result_won = 0\n",
    "result_lost = 0\n",
    "for i in range(10000):\n",
    "    result = final_decision(door_dict, 1, 'Switch')\n",
    "    if result == \"Lost\":\n",
    "        result_lost += 1\n",
    "    else:\n",
    "        result_won += 1\n",
    "prob_winning = result_won/10000\n",
    "#print(prob_winning)\n",
    "assert prob_winning <= 0.27 and prob_winning >= 0.23 , \"Doors not selected at random\"\n",
    "\n",
    "print(\"\\nPassed!\")"
   ]
  },
  {
   "cell_type": "markdown",
   "metadata": {
    "nbgrader": {
     "grade": false,
     "locked": true,
     "solution": false
    }
   },
   "source": [
    "**Exercise 4** (2 points) Now, let's bring the pieces together and simulate a game. In this exercise, you will complete the given `simulate_game` function that simulates Monty Hall game 10000 times. The function has 2 input arguments:\n",
    "\n",
    "- `n`: Number of doors\n",
    "- `k`: Number of doors to be opened be Monty\n",
    "\n",
    "The function returns a tuple with the number of wins each for staying and switching:\n",
    "\n",
    "- `stay_won`: An integer count of the number of wins resulting from a `'Stay'` decision\n",
    "- `switch_won`: An integer count of the number of wins resulting from a `'Switch'` decision\n",
    "\n",
    "**Hint**: You have to think about how you will use the following functions - `first_choice` , `initialize_game` , `final_decision` and `monty_opens` and what their input parameters should be to complete the exercise."
   ]
  },
  {
   "cell_type": "code",
   "execution_count": null,
   "metadata": {
    "collapsed": true
   },
   "outputs": [],
   "source": [
    "def simulate_game(n, k):\n",
    "    stay_won = 0  #Variable to keep a track of the number of times the player won when he/she decided to stay\n",
    "    switch_won = 0  #Variable to keep a track of the number of times the player won when he/she decided to switch\n",
    "    \n",
    "    for i in range(10000):\n",
    "        #\n",
    "        # YOUR CODE HERE\n",
    "        #\n",
    "    return(stay_won, switch_won)"
   ]
  },
  {
   "cell_type": "code",
   "execution_count": null,
   "metadata": {
    "collapsed": true,
    "nbgrader": {
     "grade": true,
     "grade_id": "test_ex_4",
     "locked": true,
     "points": "2",
     "solution": false
    }
   },
   "outputs": [],
   "source": [
    "##### Test code\n",
    "\n",
    "#Case 1\n",
    "stay_won, switch_won = simulate_game(3,1)\n",
    "prob_switch_won = switch_won/10000\n",
    "\n",
    "assert prob_switch_won <= 0.7  and prob_switch_won >= 0.64\n",
    "\n",
    "#Case 2\n",
    "stay_won, switch_won = simulate_game(10,2)\n",
    "prob_switch_won = switch_won/10000\n",
    "\n",
    "assert prob_switch_won <= 0.142  and prob_switch_won >= 0.10\n",
    "\n",
    "\n",
    "#Case 3\n",
    "\n",
    "n_doors = random.randint(8, 13) \n",
    "k = random.randint(3, 6) \n",
    "\n",
    "stay_won, switch_won = simulate_game(n_doors, k)\n",
    "prob_switch_won = switch_won/10000\n",
    "\n",
    "population_prob =  (1/n_doors)*((n_doors-1)/ (n_doors-1 - k))\n",
    "\n",
    "assert prob_switch_won < population_prob * 1.2   and prob_switch_won >= population_prob *(0.80)\n",
    "\n",
    "print(\"\\nPassed!\")"
   ]
  },
  {
   "cell_type": "markdown",
   "metadata": {
    "nbgrader": {
     "grade": false,
     "locked": true,
     "solution": false
    }
   },
   "source": [
    "**Fin!** You've reached the end of this problem. Don't forget to restart the kernel and run the entire notebook from top-to-bottom to make sure you did everything correctly. If that is working, try submitting this problem. (Recall that you must submit and pass the autograder to get credit for your work!)"
   ]
  }
 ],
 "metadata": {
  "kernelspec": {
   "display_name": "Python 3",
   "language": "python",
   "name": "python3"
  },
  "language_info": {
   "codemirror_mode": {
    "name": "ipython",
    "version": 3
   },
   "file_extension": ".py",
   "mimetype": "text/x-python",
   "name": "python",
   "nbconvert_exporter": "python",
   "pygments_lexer": "ipython3",
   "version": "3.6.5"
  }
 },
 "nbformat": 4,
 "nbformat_minor": 2
}
