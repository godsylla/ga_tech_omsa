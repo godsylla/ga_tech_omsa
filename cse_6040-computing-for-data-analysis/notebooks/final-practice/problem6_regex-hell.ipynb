{
 "cells": [
  {
   "cell_type": "markdown",
   "metadata": {
    "deletable": false,
    "editable": false,
    "nbgrader": {
     "grade": false,
     "grade_id": "cell-95547b0d46db0665",
     "locked": true,
     "schema_version": 1,
     "solution": false
    }
   },
   "source": [
    "# Problem 6\n",
    "\n",
    "In this problem, you will write code to \"parse\" a restricted form of SQL queries. These exercises are about string processing and regular expressions. There are five (5) exercises, numbered 0-4, which are worth a total of ten (10) points."
   ]
  },
  {
   "cell_type": "code",
   "execution_count": 1,
   "metadata": {
    "collapsed": true,
    "deletable": false,
    "editable": false,
    "nbgrader": {
     "grade": false,
     "grade_id": "cell-8bdacbbe5933030e",
     "locked": true,
     "schema_version": 1,
     "solution": false
    }
   },
   "outputs": [],
   "source": [
    "from IPython.display import display\n",
    "\n",
    "import re\n",
    "import pandas as pd\n",
    "\n",
    "# Random number generation for generating test cases:\n",
    "from random import randrange, randint, choice, sample"
   ]
  },
  {
   "cell_type": "markdown",
   "metadata": {
    "deletable": false,
    "editable": false,
    "nbgrader": {
     "grade": false,
     "grade_id": "cell-547a5e78dc5c8da9",
     "locked": true,
     "schema_version": 1,
     "solution": false
    }
   },
   "source": [
    "**Background: SQL review.** Suppose you have two SQL tables, `OneTable` and `AnotherTable`, and you wish to perform an inner-join on that links a column named `ColA` in `OneTable` with `ColB` in `AnotherTable`. Recall that one simple way to do that in SQL would be:\n",
    "\n",
    "```SQL\n",
    "    SELECT * FROM OneTable, AnotherTable\n",
    "        WHERE OneTable.ColA = AnotherTable.ColB\n",
    "```"
   ]
  },
  {
   "cell_type": "markdown",
   "metadata": {
    "deletable": false,
    "editable": false,
    "nbgrader": {
     "grade": false,
     "grade_id": "cell-766e9020a27cf85a",
     "locked": true,
     "schema_version": 1,
     "solution": false
    }
   },
   "source": [
    "Or, consider the following more complex example. Suppose you have an additional table named `YetAThird` and you wish to extend the inner-join to include matches between its column, `ColC`, and a second column from `AnotherTable` named `ColB2`:\n",
    "\n",
    "```SQL\n",
    "    SELECT * FROM OneTable, AnotherTable, YetAThird\n",
    "        WHERE OneTable.ColA = AnotherTable.ColB AND AnotherTable.ColB2 = YetAThird.ColC\n",
    "```"
   ]
  },
  {
   "cell_type": "markdown",
   "metadata": {
    "deletable": false,
    "editable": false,
    "nbgrader": {
     "grade": false,
     "grade_id": "cell-03fc9bc5335821ff",
     "locked": true,
     "schema_version": 1,
     "solution": false
    }
   },
   "source": [
    "**Exercise 0** (2 points). Suppose you are given a string containing an SQL query in the restricted form,\n",
    "\n",
    "```SQL\n",
    "    SELECT * FROM [tbls] WHERE [conds]\n",
    "```\n",
    "\n",
    "Implement the function, **`split_simple_join(q)`**, so that it takes a query string **`q`** in the form shown above and **returns a pair of substrings** corresponding to `[tbls]` and `[conds]`.\n",
    "\n",
    "For example, if\n",
    "\n",
    "```python\n",
    "    q == \"\"\"SELECT * FROM OneTable, AnotherTable, YetAThird\n",
    "              WHERE OneTable.ColA = AnotherTable.ColB AND AnotherTable.ColB2=YetAThird.ColC\"\"\"\n",
    "```\n",
    "\n",
    "then\n",
    "\n",
    "```python\n",
    "    split_simple_join(q) == (\"OneTable, AnotherTable, YetAThird\",\n",
    "                             \"OneTable.ColA = AnotherTable.ColB AND AnotherTable.ColB2=YetAThird.ColC\")\n",
    "```\n",
    "\n",
    "**IMPORTANT NOTE!** In this problem, you only need to return the substring between `FROM` and `WHERE` and the one after `WHERE`. You will extract the table names and conditions later on, below.\n",
    "\n",
    "You should make the following assumptions:\n",
    "\n",
    "* The input string `q` contains exactly one such query, with no nesting of queries (e.g., no instances of `\"SELECT * FROM (SELECT ...)\"`). However, the query may (or may not) be a multiline string as shown in the example. (Treat newlines as whitespace.)\n",
    "* Your function should ignore any leading or trailing whitespace around the SQL keywords, e.g., `SELECT`, `FROM`, and `WHERE`.\n",
    "* The substring between `SELECT` and `FROM` will be any amount of whitespace, followed by an asterisk (`*`). \n",
    "* You should **not** treat the SQL keywords in a case-sensitive way; for example, you would regard `SELECT`, `select`, and `sElEct` as the same. However, do **not** change or ignore the case of the non-SQL keywords.\n",
    "* The `[tbls]` substring contains only a simple list of table names and no other substrings that might be interpreted as SQL keywords.\n",
    "* The `[conds]` substring contains only table and column names (e.g., `OneTable.ColA`), the equal sign, the `AND` SQL keyword, and whitespace, but no other SQL keywords or symbols.\n",
    "\n",
    "> Assuming you are using regular expressions for this problem, recall that you can pass [`re.VERBOSE`](https://docs.python.org/3/library/re.html#re.VERBOSE) when writing a multiline regex pattern."
   ]
  },
  {
   "cell_type": "code",
   "execution_count": 2,
   "metadata": {
    "collapsed": true
   },
   "outputs": [],
   "source": [
    "test_query = '''\n",
    "SELECT * FROM OneTable, AnotherTable, YetAThird\n",
    "              WHERE OneTable.ColA = AnotherTable.ColB AND AnotherTable.ColB2=YetAThird.ColC\n",
    "'''.lower()\n",
    "# should not lower it because we need to return the exact query from portion sand where statements\n",
    "# and it should not be case sensitive / case altered"
   ]
  },
  {
   "cell_type": "code",
   "execution_count": 3,
   "metadata": {
    "scrolled": true
   },
   "outputs": [
    {
     "data": {
      "text/plain": [
       "'\\nselect * from onetable, anothertable, yetathird\\n              where onetable.cola = anothertable.colb and anothertable.colb2=yetathird.colc\\n'"
      ]
     },
     "execution_count": 3,
     "metadata": {},
     "output_type": "execute_result"
    }
   ],
   "source": [
    "test_query"
   ]
  },
  {
   "cell_type": "code",
   "execution_count": 4,
   "metadata": {
    "nbgrader": {
     "grade": false,
     "grade_id": "split_simple_join",
     "locked": false,
     "schema_version": 1,
     "solution": true
    }
   },
   "outputs": [
    {
     "name": "stdout",
     "output_type": "stream",
     "text": [
      "('OneTable, AnotherTable, YetAThird', 'OneTable.ColA = AnotherTable.ColB AND AnotherTable.ColB2=YetAThird.ColC')\n"
     ]
    }
   ],
   "source": [
    "def split_simple_join(q):\n",
    "    assert type(q) is str\n",
    "    ###\n",
    "    query_match = re.match(r\"\"\"\\s*[sS][eE][lL][eE][cC][tT]\\s+\\*\n",
    "                                \\s+[fF][rR][oO][mM]\\s+(.*)\n",
    "                                \\s+[wW][hH][eE][rR][eE]\\s+(.*)\n",
    "                                \\s*\"\"\",\n",
    "                     q,\n",
    "                     re.VERBOSE)\n",
    "    assert query_match is not None\n",
    "    return query_match.groups()[0], query_match.groups()[1]\n",
    "    ###\n",
    "    \n",
    "# Demo\n",
    "q_demo = \"\"\"SELECT * FROM OneTable, AnotherTable, YetAThird\n",
    "              WHERE OneTable.ColA = AnotherTable.ColB AND AnotherTable.ColB2=YetAThird.ColC\"\"\"\n",
    "print(split_simple_join(q_demo))"
   ]
  },
  {
   "cell_type": "code",
   "execution_count": 5,
   "metadata": {
    "deletable": false,
    "editable": false,
    "nbgrader": {
     "grade": true,
     "grade_id": "split_simple_join_test1",
     "locked": true,
     "points": 1,
     "schema_version": 1,
     "solution": false
    }
   },
   "outputs": [
    {
     "name": "stdout",
     "output_type": "stream",
     "text": [
      "\n",
      "(Passed!)\n"
     ]
    }
   ],
   "source": [
    "# Test cell: `split_simple_join_test1`\n",
    "\n",
    "assert split_simple_join(q_demo) == \\\n",
    "           ('OneTable, AnotherTable, YetAThird',\n",
    "            'OneTable.ColA = AnotherTable.ColB AND AnotherTable.ColB2=YetAThird.ColC')\n",
    "print(\"\\n(Passed!)\")"
   ]
  },
  {
   "cell_type": "code",
   "execution_count": 6,
   "metadata": {
    "deletable": false,
    "editable": false,
    "nbgrader": {
     "grade": true,
     "grade_id": "split_simple_join_test2",
     "locked": true,
     "points": 1,
     "schema_version": 1,
     "solution": false
    }
   },
   "outputs": [
    {
     "name": "stdout",
     "output_type": "stream",
     "text": [
      "=== Test Statement 0 ===\n",
      "'''\n",
      "\tSELEct \n",
      "\t*\t  frOm hX \n",
      "\n",
      ",\n",
      "\ty\t,Ue,  ZHf14kFA\t\tWheRe\n",
      "Ue.xeZlHGvl \n",
      "\t\t=\t\t\n",
      "\ty.aTes28T AND \t\n",
      "\n",
      "y.b3Xt=\thX.EreAJgJkU \n",
      "\n",
      " AND Ue.Zhi\t=hX.wV5D\t\t\n",
      " AND \n",
      "hX.E88 \t\n",
      "=\n",
      "\n",
      " y.VCcvbf8'''\n",
      "\n",
      "True 'FROM' clause substring: '''hX \n",
      "\n",
      ",\n",
      "\ty\t,Ue,  ZHf14kFA'''\n",
      "\n",
      "True 'WHERE' clause substring: '''Ue.xeZlHGvl \n",
      "\t\t=\t\t\n",
      "\ty.aTes28T AND \t\n",
      "\n",
      "y.b3Xt=\thX.EreAJgJkU \n",
      "\n",
      " AND Ue.Zhi\t=hX.wV5D\t\t\n",
      " AND \n",
      "hX.E88 \t\n",
      "=\n",
      "\n",
      " y.VCcvbf8'''\n",
      "\n",
      "=== Test Statement 1 ===\n",
      "'''  SELEct *\n",
      "from\t\n",
      "_heZLwo23m,\t  JsuI3iQ\t, \t mVo5 ,\n",
      " \tRkWyGHoAm\n",
      "\n",
      ",CHSfPSQ\n",
      "\t\tWHERe \n",
      "JsuI3iQ.Sy\t\t= _heZLwo23m.y\t AND \tCHSfPSQ.aGTNL7\n",
      "\n",
      "=\t RkWyGHoAm.ouzNaIG\t\n",
      " AND  CHSfPSQ.KGyq1fZJ3\t\n",
      "\t =  JsuI3iQ.ZUnz4pTmc'''\n",
      "\n",
      "True 'FROM' clause substring: '''_heZLwo23m,\t  JsuI3iQ\t, \t mVo5 ,\n",
      " \tRkWyGHoAm\n",
      "\n",
      ",CHSfPSQ'''\n",
      "\n",
      "True 'WHERE' clause substring: '''JsuI3iQ.Sy\t\t= _heZLwo23m.y\t AND \tCHSfPSQ.aGTNL7\n",
      "\n",
      "=\t RkWyGHoAm.ouzNaIG\t\n",
      " AND  CHSfPSQ.KGyq1fZJ3\t\n",
      "\t =  JsuI3iQ.ZUnz4pTmc'''\n",
      "\n",
      "=== Test Statement 2 ===\n",
      "'''  \tSELECT\n",
      "\n",
      "*\t\n",
      "From\t\tKcwh\t ,\t\n",
      "\tc4J7yv\t\t ,\n",
      "Q0t_ wHERe \tKcwh.mh8V\t\t=\t\n",
      " \n",
      "c4J7yv.t2\t\n",
      "\n",
      " AND  \n",
      "\tKcwh.EL  =\n",
      "\n",
      "\n",
      "c4J7yv.t2'''\n",
      "\n",
      "True 'FROM' clause substring: '''Kcwh\t ,\t\n",
      "\tc4J7yv\t\t ,\n",
      "Q0t_'''\n",
      "\n",
      "True 'WHERE' clause substring: '''Kcwh.mh8V\t\t=\t\n",
      " \n",
      "c4J7yv.t2\t\n",
      "\n",
      " AND  \n",
      "\tKcwh.EL  =\n",
      "\n",
      "\n",
      "c4J7yv.t2'''\n",
      "\n",
      "=== Test Statement 3 ===\n",
      "'''   sELect\n",
      " *\n",
      "fRom\n",
      "\t\tBj\n",
      "\n",
      "\t,\n",
      "\t\n",
      "_Q7aIC3 \n",
      "WhEre Bj.sHfU_WEM\t =  \n",
      "\t_Q7aIC3.e8fXokx3KY'''\n",
      "\n",
      "True 'FROM' clause substring: '''Bj\n",
      "\n",
      "\t,\n",
      "\t\n",
      "_Q7aIC3'''\n",
      "\n",
      "True 'WHERE' clause substring: '''Bj.sHfU_WEM\t =  \n",
      "\t_Q7aIC3.e8fXokx3KY'''\n",
      "\n",
      "=== Test Statement 4 ===\n",
      "'''\n",
      "\t SelECt \t\n",
      "*\n",
      "FRoM\n",
      " \tYNB3 \n",
      "\n",
      ",\t\n",
      "\n",
      "hK9kyjGVz\n",
      ", ZDsOdEaxi6\tWhere\t \n",
      "ZDsOdEaxi6.JatY   =\t\n",
      "hK9kyjGVz.mKjCr  \t AND \n",
      "ZDsOdEaxi6.JatY\n",
      "\t\n",
      "=\n",
      " \n",
      " YNB3.ltdA\n",
      " AND hK9kyjGVz.E\n",
      "\n",
      "\t =YNB3.aak\t \t AND \n",
      "ZDsOdEaxi6.AsjG=YNB3.ltdA'''\n",
      "\n",
      "True 'FROM' clause substring: '''YNB3 \n",
      "\n",
      ",\t\n",
      "\n",
      "hK9kyjGVz\n",
      ", ZDsOdEaxi6'''\n",
      "\n",
      "True 'WHERE' clause substring: '''ZDsOdEaxi6.JatY   =\t\n",
      "hK9kyjGVz.mKjCr  \t AND \n",
      "ZDsOdEaxi6.JatY\n",
      "\t\n",
      "=\n",
      " \n",
      " YNB3.ltdA\n",
      " AND hK9kyjGVz.E\n",
      "\n",
      "\t =YNB3.aak\t \t AND \n",
      "ZDsOdEaxi6.AsjG=YNB3.ltdA'''\n",
      "\n",
      "\n",
      "(Passed!)\n"
     ]
    }
   ],
   "source": [
    "# Test cell: `split_simple_join_test2`\n",
    "\n",
    "__SQL = {'SELECT', 'FROM', 'WHERE'} # SQL keywords\n",
    "\n",
    "# Different character classes\n",
    "__ALPHA = 'abcdefghijklmnopqrstuvwxyzABCDEFGHIJKLMNOPQRSTUVWXYZ_'\n",
    "__ALPHA_VARS = __ALPHA + '_'\n",
    "__NUM = '0123456789'\n",
    "__ALPHA_NUM_VARS = __ALPHA_VARS + __NUM\n",
    "__DOT = '.'\n",
    "__SPACES = ' \\t\\n'\n",
    "__EQ = '='\n",
    "__ALL = __ALPHA_NUM_VARS + __DOT + __SPACES + __EQ\n",
    "\n",
    "def flip_coin():\n",
    "    from random import choice\n",
    "    return choice([True, False])\n",
    "\n",
    "def rand_str(k_min, k_max, alphabet):\n",
    "    \"\"\"\n",
    "    Returns a random string of `k` letters chosen uniformly from\n",
    "    from `alphabet` with replacement, where `k_min <= k <= k_max`\n",
    "    where `k` is also chosen uniformly at random.\n",
    "    \"\"\"\n",
    "    assert k_max >= k_min >= 0\n",
    "    k = k_min + randint(0, k_max-k_min)\n",
    "    return ''.join([choice(alphabet) for _ in range(k)])\n",
    "\n",
    "def rand_spaces(k_max, k_min=0):\n",
    "    assert k_max >= k_min >= 0\n",
    "    return rand_str(k_min, k_max, __SPACES)\n",
    "\n",
    "def rand_case(s):\n",
    "    \"\"\"Randomly changes the case of each letter in a string.\"\"\"\n",
    "    return ''.join([c.upper() if flip_coin() else c.lower() for c in s])\n",
    "\n",
    "def rand_var(k_min=1, k_max=10):\n",
    "    assert k_max >= k_min >= 1\n",
    "    s = choice(__ALPHA_VARS)\n",
    "    s += rand_str(k_min-1, k_max-1, __ALPHA_NUM_VARS)\n",
    "    if s.upper() in __SQL: # Don't generate keywords -- try again\n",
    "        return rand_var(k_min, k_max)\n",
    "    return s\n",
    "\n",
    "def rand_vars(k_min, k_max):\n",
    "    V = set()\n",
    "    dk = randint(0, k_max-k_min)\n",
    "    for k in range(k_min + dk + 1):\n",
    "        v = rand_var()\n",
    "        V.add(v)\n",
    "    return V\n",
    "\n",
    "def rand_table(max_cols):\n",
    "    table = rand_var()\n",
    "    columns = rand_vars(1, max_cols)\n",
    "    return (table, columns)\n",
    "\n",
    "def rand_tables(k_min, k_max, c_max=4):\n",
    "    assert k_max >= k_min >= 1\n",
    "    num_tables = k_min + randint(0, k_max-k_min)\n",
    "    tables = {}\n",
    "    for _ in range(num_tables):\n",
    "        table, columns = rand_table(c_max)\n",
    "        while table in tables:\n",
    "            table, columns = rand_table(v_max, c_max)\n",
    "        tables = {**tables, **{table: columns}}\n",
    "    return tables\n",
    "\n",
    "def rand_field(table_name, col_names):\n",
    "    return table_name + \".\" + choice(list(col_names))\n",
    "\n",
    "def rand_cond(tables):\n",
    "    assert type(tables) is dict\n",
    "    assert len(tables) >= 2\n",
    "    a, b = sample(tables.keys(), 2)\n",
    "    a_col = rand_field(a, tables[a])\n",
    "    b_col = rand_field(b, tables[b])\n",
    "    return (a_col, b_col)\n",
    "\n",
    "def rand_cond_set(tables, k_min, k_max):\n",
    "    k = k_min + randint(0, k_max-k_min)\n",
    "    conds = set()\n",
    "    while len(conds) < k:\n",
    "        (a, b) = rand_cond(tables)\n",
    "        if ((a, b) not in conds) and ((b, a) not in conds):\n",
    "            conds.add((a, b))\n",
    "    return conds\n",
    "\n",
    "def cond_set_to_substrs(conds, max_wspad=4):\n",
    "    substrs = []\n",
    "    for a, b in conds:\n",
    "        s = \"{}{}{}{}{}\".format(a,\n",
    "                                rand_spaces(max_wspad),\n",
    "                                __EQ,\n",
    "                                rand_spaces(max_wspad),\n",
    "                                b)\n",
    "        substrs.append(s)\n",
    "    return substrs\n",
    "\n",
    "def substrs_to_str(substrings, sep=',', max_wspad=4):\n",
    "    s_final = ''\n",
    "    for k, s in enumerate(substrings):\n",
    "        if k > 0:\n",
    "            s_final += rand_spaces(max_wspad) + sep + rand_spaces(max_wspad)\n",
    "        s_final += s\n",
    "    return s_final\n",
    "\n",
    "def rand_query_ans(max_tables, max_conds, max_wspad=4):\n",
    "    tables = rand_tables(2, max_tables)\n",
    "    cond_set = rand_cond_set(tables, 1, 4)\n",
    "    return tables, cond_set\n",
    "\n",
    "def pad_1(max_wspad):\n",
    "    return rand_spaces(max(1, max_wspad), 1)\n",
    "\n",
    "def form_select(max_wspad=4):\n",
    "    return pad_1(max_wspad) + rand_case(\"SELECT\") + pad_1(max_wspad) + \"*\"\n",
    "\n",
    "def form_from(tables, max_wspad=4):\n",
    "    from_ans = substrs_to_str(list(tables.keys()), sep=',', max_wspad=max_wspad)\n",
    "    return pad_1(max_wspad) + rand_case(\"FROM\") + pad_1(max_wspad) + from_ans, from_ans\n",
    "\n",
    "def form_where(cond_set, max_wspad=4):\n",
    "    cond_substrs = cond_set_to_substrs(cond_set)\n",
    "    cond_ans = substrs_to_str(cond_substrs, sep=' AND ', max_wspad=max_wspad)\n",
    "    return pad_1(max_wspad) + rand_case(\"WHERE\") + pad_1(max_wspad) + cond_ans, cond_ans\n",
    "\n",
    "def form_query_str(tables, cond_set, max_wspad=4):\n",
    "    select_clause = form_select(max_wspad)\n",
    "    from_clause, from_ans = form_from(tables, max_wspad)\n",
    "    where_clause, cond_ans = form_where(cond_set, max_wspad)\n",
    "    query = select_clause + from_clause + where_clause\n",
    "    return query, from_ans, cond_ans\n",
    "\n",
    "def split_simple_join_battery(num_tests, max_wspad=4):\n",
    "    for k in range(num_tests):\n",
    "        tables, cond_set = rand_query_ans(5, 5, max_wspad)\n",
    "        qstmt, from_ans, where_ans = form_query_str(tables, cond_set, max_wspad)\n",
    "        print(\"=== Test Statement {} ===\\n'''{}'''\\n\".format(k, qstmt))\n",
    "        print(\"True 'FROM' clause substring: '''{}'''\\n\".format(from_ans))\n",
    "        print(\"True 'WHERE' clause substring: '''{}'''\\n\".format(where_ans))\n",
    "    \n",
    "split_simple_join_battery(5, 3)\n",
    "\n",
    "print(\"\\n(Passed!)\")"
   ]
  },
  {
   "cell_type": "markdown",
   "metadata": {
    "deletable": false,
    "editable": false,
    "nbgrader": {
     "grade": false,
     "grade_id": "cell-4096fa783ea56068",
     "locked": true,
     "schema_version": 1,
     "solution": false
    }
   },
   "source": [
    "**Variable names.** For this problem, let a valid _variable name_ be a sequence of alphanumeric characters or underscores, where the very first character _cannot_ be a number. For example,\n",
    "\n",
    "    some_variable\n",
    "    __another_VariAble\n",
    "    Yet_a_3rd_var\n",
    "    _A_CSE_6040_inspired_var\n",
    "    \n",
    "are all valid variable names, whereas the following are not.\n",
    "\n",
    "    123var_is_bad\n",
    "    0_is_not_good_either\n",
    "    4goodnessSakeStopItAlready"
   ]
  },
  {
   "cell_type": "markdown",
   "metadata": {
    "deletable": false,
    "editable": false,
    "nbgrader": {
     "grade": false,
     "grade_id": "cell-4cbb6f325bbf577e",
     "locked": true,
     "schema_version": 1,
     "solution": false
    }
   },
   "source": [
    "**Exercise 1** (2 points). Implement a function, **`is_var(s)`**, that checks whether a valid variable name. That is, it should return `True` if and only if `s` is valid according to the above definition. Your function should ignore any leading or trailing spaces in `s`.\n",
    "\n",
    "For example:\n",
    "\n",
    "```python\n",
    "    assert is_var(\"__another_VariAble\")\n",
    "    assert not is_var(\"0_is_not_good_either\")\n",
    "    assert is_var(\"   foo\")\n",
    "    assert is_var(\"_A_CSE_6040_inspired_var   \")\n",
    "    assert not is_var(\"#getMe2\")\n",
    "    assert is_var(\"   Yet_a_3rd_var  \")\n",
    "    assert not is_var(\"123var_is_bad\")\n",
    "    assert not is_var(\"  A.okay\")\n",
    "```"
   ]
  },
  {
   "cell_type": "code",
   "execution_count": 7,
   "metadata": {},
   "outputs": [
    {
     "data": {
      "text/plain": [
       "False"
      ]
     },
     "execution_count": 7,
     "metadata": {},
     "output_type": "execute_result"
    }
   ],
   "source": [
    "match = re.match(r'\\s*([a-zA-Z_]\\w*)\\s*', '0_is_not_good_either', re.VERBOSE)\n",
    "match is not None"
   ]
  },
  {
   "cell_type": "code",
   "execution_count": 8,
   "metadata": {
    "collapsed": true,
    "nbgrader": {
     "grade": false,
     "grade_id": "is_var",
     "locked": false,
     "schema_version": 1,
     "solution": true
    }
   },
   "outputs": [],
   "source": [
    "def is_var(s):\n",
    "    assert type(s) is str\n",
    "    ###\n",
    "    match = re.match('''^\n",
    "                        \\s*\n",
    "                        (\n",
    "                        [a-zA-Z_]\n",
    "                        \\w*\n",
    "                        )\n",
    "                        \\s*\n",
    "                        $''', \n",
    "                     s, \n",
    "                     re.VERBOSE)\n",
    "    return match is not None\n",
    "    ###"
   ]
  },
  {
   "cell_type": "code",
   "execution_count": 9,
   "metadata": {
    "deletable": false,
    "editable": false,
    "nbgrader": {
     "grade": true,
     "grade_id": "is_var_test0",
     "locked": true,
     "points": 1,
     "schema_version": 1,
     "solution": false
    }
   },
   "outputs": [
    {
     "name": "stdout",
     "output_type": "stream",
     "text": [
      "\n",
      "(Passed part 1 of 2.)\n"
     ]
    }
   ],
   "source": [
    "# Test cell, part 1: `is_var_test0`\n",
    "\n",
    "assert is_var(\"__another_VariAble\")\n",
    "assert not is_var(\"0_is_not_good_either\")\n",
    "assert is_var(\"   foo\")\n",
    "assert is_var(\"_A_CSE_6040_inspired_var   \")\n",
    "assert not is_var(\"#getMe2\")\n",
    "assert is_var(\"   Yet_a_3rd_var  \")\n",
    "assert not is_var(\"123var_is_bad\")\n",
    "assert not is_var(\"  A.okay\")\n",
    "\n",
    "print(\"\\n(Passed part 1 of 2.)\")"
   ]
  },
  {
   "cell_type": "code",
   "execution_count": 10,
   "metadata": {
    "deletable": false,
    "editable": false,
    "nbgrader": {
     "grade": true,
     "grade_id": "is_var_test1",
     "locked": true,
     "points": 1,
     "schema_version": 1,
     "solution": false
    }
   },
   "outputs": [
    {
     "name": "stdout",
     "output_type": "stream",
     "text": [
      "\n",
      "(Passed part 2 of 2.)\n"
     ]
    }
   ],
   "source": [
    "# Test cell: `is_var_test2`\n",
    "\n",
    "for v in rand_vars(20, 30):\n",
    "    ans = flip_coin()\n",
    "    if not ans:\n",
    "        v = choice(__NUM) + v\n",
    "    v = rand_spaces(3) + v + rand_spaces(3)\n",
    "    your_ans = is_var(v)\n",
    "    assert your_ans == ans, \"is_var('{}') == {} instead of {}.\".format(v, your_ans, ans)\n",
    "    \n",
    "print(\"\\n(Passed part 2 of 2.)\")"
   ]
  },
  {
   "cell_type": "markdown",
   "metadata": {},
   "source": [
    "**Column variables.** A _column variable_ consists of two valid variable names separated by a single period. For example,\n",
    "\n",
    "    A.okay\n",
    "    a32X844._387b\n",
    "    __C__.B3am\n",
    "    \n",
    "are all examples of column variables: in each case, the substrings to the left and right of the period are valid variables."
   ]
  },
  {
   "cell_type": "markdown",
   "metadata": {
    "deletable": false,
    "editable": false,
    "nbgrader": {
     "grade": false,
     "grade_id": "cell-9adc95893b02a9b3",
     "locked": true,
     "schema_version": 1,
     "solution": false
    }
   },
   "source": [
    "**Exercise 2** (1 point). Implement a function, **`is_col(s)`**, so that it returns `True` if and only if **`s`** is a column variable, per the definition above.\n",
    "\n",
    "For example:\n",
    "\n",
    "```python\n",
    "    assert is_col(\"A.okay\")\n",
    "    assert is_col(\"a32X844._387b\")\n",
    "    assert is_col(\"__C__.B3am\")\n",
    "    assert not is_col(\"123.abc\")\n",
    "    assert not is_col(\"abc.123\")\n",
    "```\n",
    "\n",
    "As with Exercise 1, your function should ignore any leading or trailing spaces."
   ]
  },
  {
   "cell_type": "code",
   "execution_count": 11,
   "metadata": {
    "collapsed": true
   },
   "outputs": [],
   "source": [
    "s = 'A.okay'"
   ]
  },
  {
   "cell_type": "code",
   "execution_count": 12,
   "metadata": {
    "collapsed": true,
    "scrolled": true
   },
   "outputs": [],
   "source": [
    "split_s = s.split('.')"
   ]
  },
  {
   "cell_type": "code",
   "execution_count": 13,
   "metadata": {
    "scrolled": true
   },
   "outputs": [
    {
     "data": {
      "text/plain": [
       "True"
      ]
     },
     "metadata": {},
     "output_type": "display_data"
    },
    {
     "data": {
      "text/plain": [
       "True"
      ]
     },
     "metadata": {},
     "output_type": "display_data"
    }
   ],
   "source": [
    "display(is_var(split_s[0]))\n",
    "display(is_var(split_s[1]))"
   ]
  },
  {
   "cell_type": "code",
   "execution_count": 14,
   "metadata": {
    "collapsed": true,
    "nbgrader": {
     "grade": false,
     "grade_id": "is_col",
     "locked": false,
     "schema_version": 1,
     "solution": true
    }
   },
   "outputs": [],
   "source": [
    "def is_col(s):\n",
    "    ###\n",
    "    col_matches = re.match(\"\"\"^\n",
    "                            \\s*            # Leading spaces\n",
    "                            (              # Start of group for var name\n",
    "                            [a-zA-Z_]      # Match all letters + underscores\n",
    "                            \\w*            # Any word character *\n",
    "                            )              # End of the group for var name\n",
    "                            \\.              # Separator\n",
    "                            (              # Start of group for var name\n",
    "                            [a-zA-Z_]      # Match all letters + underscores\n",
    "                            \\w*            # Any word character *\n",
    "                            )              # End of the group for var name\n",
    "                            \\s*\n",
    "                            $\"\"\", s, re.VERBOSE)\n",
    "    \n",
    "    return col_matches is not None\n",
    "    ###\n"
   ]
  },
  {
   "cell_type": "code",
   "execution_count": 15,
   "metadata": {
    "deletable": false,
    "editable": false,
    "nbgrader": {
     "grade": true,
     "grade_id": "is_col_test0",
     "locked": true,
     "points": 1,
     "schema_version": 1,
     "solution": false
    }
   },
   "outputs": [
    {
     "name": "stdout",
     "output_type": "stream",
     "text": [
      "\n",
      "(Passed part 1.)\n"
     ]
    }
   ],
   "source": [
    "# Test cell: `is_col_test0`\n",
    "\n",
    "assert is_col(\"A.okay\")\n",
    "assert is_col(\"a32X844._387b\")\n",
    "assert is_col(\"__C__.B3am\")\n",
    "assert not is_col(\"123.abc\")\n",
    "assert not is_col(\"abc.123\")\n",
    "\n",
    "print(\"\\n(Passed part 1.)\")"
   ]
  },
  {
   "cell_type": "code",
   "execution_count": 16,
   "metadata": {
    "deletable": false,
    "editable": false,
    "nbgrader": {
     "grade": true,
     "grade_id": "is_col_test1",
     "locked": true,
     "points": 1,
     "schema_version": 1,
     "solution": false
    }
   },
   "outputs": [
    {
     "name": "stdout",
     "output_type": "stream",
     "text": [
      "==> is_col('\t\n",
      "nYL0I.58\n",
      " ') == False\n",
      "==> is_col('\t\n",
      "\n",
      "17686.yQ ') == False\n",
      "==> is_col('\t hr75cDj0D.457 \n",
      "\n",
      "') == False\n",
      "==> is_col(' \n",
      "\tQaexc5yVP.1451\n",
      "') == False\n",
      "==> is_col('\twL3hSnLMA.566\n",
      " \t') == False\n",
      "==> is_col('\n",
      "27043.733') == False\n",
      "==> is_col(' 4.61731\n",
      "  ') == False\n",
      "==> is_col('\n",
      "\t r3_.AmvEsAX') == True\n",
      "==> is_col('FTGVd1.67') == False\n",
      "==> is_col('VzpG932YLe.JLyDyDu ') == True\n",
      "==> is_col('\n",
      " ovV.5651\n",
      "') == False\n",
      "==> is_col('\t XBzSfqdd.OAtHQ\t\n",
      "') == True\n",
      "==> is_col('\t\t\tAK3aru.hRq4kma9D\n",
      "') == True\n",
      "==> is_col('CE.TVsFaNH') == True\n",
      "==> is_col('1508.604 \n",
      "\t') == False\n",
      "==> is_col('UR.nsW36') == True\n",
      "==> is_col('9814.QzJDHyajtN  ') == False\n",
      "==> is_col('  1.zOTNAyt\t\n",
      "') == False\n",
      "==> is_col(' 9557.64050\t \t') == False\n",
      "==> is_col('  \t9.gY\n",
      "') == False\n",
      "\n",
      "(Passed part 2.)\n"
     ]
    }
   ],
   "source": [
    "# Test cell: `is_col_test1`\n",
    "\n",
    "def test_is_col_1():\n",
    "    a = rand_var()\n",
    "    assert not is_col(a), \"is_col('{}') == {} instead of {}.\".format(a, is_col(a), False)\n",
    "    a_valid = flip_coin()\n",
    "    if not a_valid:\n",
    "        a = rand_str(1, 5, __NUM)\n",
    "    return a, a_valid\n",
    "\n",
    "for _ in range(20):\n",
    "    a, a_valid = test_is_col_1()\n",
    "    b, b_valid = test_is_col_1()\n",
    "    ans = a_valid and b_valid\n",
    "    \n",
    "    c = \"{}{}.{}{}\".format(rand_spaces(3), a, b, rand_spaces(3))\n",
    "    your_ans = is_col(c)\n",
    "    print(\"==> is_col('{}') == {}\".format(c, your_ans))\n",
    "    assert your_ans == ans\n",
    "\n",
    "print(\"\\n(Passed part 2.)\")"
   ]
  },
  {
   "cell_type": "markdown",
   "metadata": {
    "deletable": false,
    "editable": false,
    "nbgrader": {
     "grade": false,
     "grade_id": "cell-9c1950ffd7f697b1",
     "locked": true,
     "schema_version": 1,
     "solution": false
    }
   },
   "source": [
    "**Equality strings.** An _equality string_ is a string of the form,\n",
    "\n",
    "    A.x = B.y\n",
    "\n",
    "where `A.x` and `B.y` are _column variable_ names and `=` is an equals sign. There may be any amount of whitespace---including none---before or after each variable and the equals sign."
   ]
  },
  {
   "cell_type": "markdown",
   "metadata": {
    "deletable": false,
    "editable": false,
    "nbgrader": {
     "grade": false,
     "grade_id": "cell-3e77f57c4474bd19",
     "locked": true,
     "schema_version": 1,
     "solution": false
    }
   },
   "source": [
    "**Exercise 3** (2 points). Implement the function, **`extract_eqcols(s)`**, below. Given an input string **`s`**, if it is an equality string, your function should return a pair `(u, v)`, where `u` and `v` are the two column variables in the equality string. For example:\n",
    "\n",
    "```python\n",
    "    assert extract_eqcols(\"F3b._xyz =AB0_.def\") == (\"F3b._xyz\", \"AB0_.def\")\n",
    "```\n",
    "\n",
    "If `s` is not a valid equality string, then your function should return `None`."
   ]
  },
  {
   "cell_type": "code",
   "execution_count": 17,
   "metadata": {
    "nbgrader": {
     "grade": false,
     "grade_id": "extract_eqcols",
     "locked": false,
     "schema_version": 1,
     "solution": true
    }
   },
   "outputs": [
    {
     "name": "stdout",
     "output_type": "stream",
     "text": [
      "('F3b._xyz', 'AB0_.def')\n"
     ]
    }
   ],
   "source": [
    "def extract_eqcols(s):\n",
    "    ###\n",
    "    eqcols_pattern = re.match(\"\"\"\n",
    "                            \\s*([a-zA-Z_]\\w*\\.[a-zA-Z_]\\w*)\n",
    "                            \\s*\\=\n",
    "                            \\s*([a-zA-Z_]\\w*\\.[a-zA-Z_]\\w*)\n",
    "                            \"\"\", s, re.VERBOSE)\n",
    "    \n",
    "    if eqcols_pattern is None:\n",
    "        return None\n",
    "    else:\n",
    "        return eqcols_pattern.groups()\n",
    "    ###\n",
    "    \n",
    "print(extract_eqcols(\"F3b._xyz =AB0_.def\"))"
   ]
  },
  {
   "cell_type": "code",
   "execution_count": 18,
   "metadata": {
    "deletable": false,
    "editable": false,
    "nbgrader": {
     "grade": true,
     "grade_id": "extract_eqcols0",
     "locked": true,
     "points": 1,
     "schema_version": 1,
     "solution": false
    },
    "scrolled": true
   },
   "outputs": [
    {
     "name": "stdout",
     "output_type": "stream",
     "text": [
      "\n",
      "(Passed part 1 of 2.)\n"
     ]
    }
   ],
   "source": [
    "# Test cell: `extract_eqcols0`\n",
    "\n",
    "assert extract_eqcols(\"F3b._xyz =AB0_.def\") == (\"F3b._xyz\", \"AB0_.def\")\n",
    "assert extract_eqcols(\"0F3b._xyz =AB0_.def\") is None\n",
    "\n",
    "print(\"\\n(Passed part 1 of 2.)\")"
   ]
  },
  {
   "cell_type": "code",
   "execution_count": 19,
   "metadata": {
    "deletable": false,
    "editable": false,
    "nbgrader": {
     "grade": true,
     "grade_id": "extract_eqcols1",
     "locked": true,
     "points": 1,
     "schema_version": 1,
     "solution": false
    }
   },
   "outputs": [
    {
     "name": "stdout",
     "output_type": "stream",
     "text": [
      "==> Processing:\n",
      "'''H.pmlKFHaL \t=Z2eTIQRp.tNBBvxxju'''\n",
      "\n",
      "    *** Found: ('H.pmlKFHaL', 'Z2eTIQRp.tNBBvxxju') ***\n",
      "==> Processing:\n",
      "'''H.pG_bh \n",
      " =Z2eTIQRp.lzLZZnHB'''\n",
      "\n",
      "    *** Found: ('H.pG_bh', 'Z2eTIQRp.lzLZZnHB') ***\n",
      "==> Processing:\n",
      "'''H.pmlKFHaL=Z2eTIQRp.jGW9kj'''\n",
      "\n",
      "    *** Found: ('H.pmlKFHaL', 'Z2eTIQRp.jGW9kj') ***\n",
      "==> Processing:\n",
      "'''Z2eTIQRp.LIv \n",
      " =H.MxlVZZ'''\n",
      "\n",
      "    *** Found: ('Z2eTIQRp.LIv', 'H.MxlVZZ') ***\n",
      "==> Processing:\n",
      "'''Kwj10.v5ThW  =\n",
      "\t JW_q1.OHedlmrRwm'''\n",
      "\n",
      "    *** Found: ('Kwj10.v5ThW', 'JW_q1.OHedlmrRwm') ***\n",
      "==> Processing:\n",
      "'''Kwj10.G\n",
      "\t\n",
      "=\tJW_q1.cAF524'''\n",
      "\n",
      "    *** Found: ('Kwj10.G', 'JW_q1.cAF524') ***\n",
      "==> Processing:\n",
      "'''JW_q1.HlRNmOI= Kwj10.tVh'''\n",
      "\n",
      "    *** Found: ('JW_q1.HlRNmOI', 'Kwj10.tVh') ***\n",
      "==> Processing:\n",
      "'''Kwj10.tVh\n",
      "  =  JW_q1.cAF524'''\n",
      "\n",
      "    *** Found: ('Kwj10.tVh', 'JW_q1.cAF524') ***\n",
      "==> Processing:\n",
      "'''EqstLwk9.LLc5N578V\n",
      "=\n",
      "n3sWkcum._8dL'''\n",
      "\n",
      "    *** Found: ('EqstLwk9.LLc5N578V', 'n3sWkcum._8dL') ***\n",
      "==> Processing:\n",
      "'''EqstLwk9.qQi \t= \n",
      "n3sWkcum.skFPzSCM8'''\n",
      "\n",
      "    *** Found: ('EqstLwk9.qQi', 'n3sWkcum.skFPzSCM8') ***\n",
      "==> Processing:\n",
      "'''NtKfHkpd.d_0I\t\n",
      "=\t\n",
      "\n",
      "irjo.pO'''\n",
      "\n",
      "    *** Found: ('NtKfHkpd.d_0I', 'irjo.pO') ***\n",
      "==> Processing:\n",
      "'''irjo.AGZu\n",
      " = \tNtKfHkpd.A47DDtFtn'''\n",
      "\n",
      "    *** Found: ('irjo.AGZu', 'NtKfHkpd.A47DDtFtn') ***\n",
      "==> Processing:\n",
      "'''irjo.e6Bl=\n",
      "\n",
      "\tNtKfHkpd.A47DDtFtn'''\n",
      "\n",
      "    *** Found: ('irjo.e6Bl', 'NtKfHkpd.A47DDtFtn') ***\n",
      "==> Processing:\n",
      "'''z532p.qZ4EPTloB  \t=\n",
      "\n",
      "_559vc.paGP38AS'''\n",
      "\n",
      "    *** Found: ('z532p.qZ4EPTloB', '_559vc.paGP38AS') ***\n",
      "==> Processing:\n",
      "'''_559vc.Hy= z532p.qZ4EPTloB'''\n",
      "\n",
      "    *** Found: ('_559vc.Hy', 'z532p.qZ4EPTloB') ***\n",
      "==> Processing:\n",
      "'''z532p.eDQ1IM\t =_559vc.paGP38AS'''\n",
      "\n",
      "    *** Found: ('z532p.eDQ1IM', '_559vc.paGP38AS') ***\n",
      "\n",
      "(Passed part 2 of 2.)\n"
     ]
    }
   ],
   "source": [
    "# Test cell: `extract_eqcols1`\n",
    "\n",
    "for _ in range(5):\n",
    "    _, cond_set = rand_query_ans(2, 10, 5)\n",
    "    for a, b in cond_set:\n",
    "        s = a + rand_spaces(3) + __EQ + rand_spaces(3) + b\n",
    "        print(\"==> Processing:\\n'''{}'''\\n\".format(s))\n",
    "        ans = extract_eqcols(s)\n",
    "        print(\"    *** Found: {} ***\".format(ans))\n",
    "        assert ans is not None, \"Did not detect an equality string where there was one!\"\n",
    "        assert ans[0] == a and ans[1] == b, \"Returned {} instead of ({}, {})\".format(ans, a, b)\n",
    "\n",
    "print(\"\\n(Passed part 2 of 2.)\")"
   ]
  },
  {
   "cell_type": "markdown",
   "metadata": {
    "deletable": false,
    "editable": false,
    "nbgrader": {
     "grade": false,
     "grade_id": "cell-106b025066561080",
     "locked": true,
     "schema_version": 1,
     "solution": false
    }
   },
   "source": [
    "**Exercise 4** (2 points). Given an SQL query in the restricted form described above, write a function that extracts all of the join conditions from the `WHERE` clause. Name this fuction, **`extract_join_conds(q)`**, where `q` is the query string. It should return a list of pairs, where each pair `(a, b)` is the name of the left- and right-hand sides in one of these conditions.\n",
    "\n",
    "For example, suppose:\n",
    "\n",
    "```python\n",
    "    q == \"\"\"SELECT * FROM OneTable, AnotherTable, YetAThird\n",
    "              WHERE OneTable.ColA = AnotherTable.ColB AND AnotherTable.ColB2=YetAThird.ColC\"\"\"\n",
    "```\n",
    "\n",
    "Notice that the `WHERE` clause contains two conditions: `OneTable.ColA = AnotherTable.ColB` and `AnotherTable.ColB2=YetAThird.ColC`. Therefore, your function should return a list of two pairs,\n",
    "as follows:\n",
    "\n",
    "```python\n",
    "    extract_join_conds(q) == [(\"OneTable.ColA\", \"AnotherTable.ColB\"),\n",
    "                              (\"AnotherTable.ColB2\", \"YetAThird.ColC\")]\n",
    "```"
   ]
  },
  {
   "cell_type": "code",
   "execution_count": 95,
   "metadata": {
    "nbgrader": {
     "grade": false,
     "grade_id": "extract_join_conds",
     "locked": false,
     "schema_version": 1,
     "solution": true
    },
    "scrolled": false
   },
   "outputs": [
    {
     "name": "stdout",
     "output_type": "stream",
     "text": [
      "==> Query:\n",
      "\t'SELECT * FROM OneTable, AnotherTable, YetAThird\n",
      "              WHERE OneTable.ColA = AnotherTable.ColB AND AnotherTable.ColB2=YetAThird.ColC'\n",
      "\n",
      "==> Results:\n",
      "[('OneTable.ColA', 'AnotherTable.ColB'), ('AnotherTable.ColB2', 'YetAThird.ColC')]\n"
     ]
    }
   ],
   "source": [
    "def extract_join_conds(q:str) -> list:\n",
    "    ###\n",
    "    # Get the WHERE clause from the query\n",
    "    _, where = split_simple_join(q)\n",
    "    \n",
    "    # Using the WHERE clause, split on the AND\n",
    "    and_pattern = re.split(\"\\s+[Aa][Nn][Dd]\\s+\", where)\n",
    "    \n",
    "    pairs = []\n",
    "    for pattern in and_pattern:\n",
    "        pairs.append(extract_eqcols(pattern))\n",
    "#         left_l.append(left_right[0])\n",
    "#         right_l.append(left_right[0])\n",
    "\n",
    "    return pairs\n",
    "    ###\n",
    "    \n",
    "print(\"==> Query:\\n\\t'{}'\\n\".format(q_demo))\n",
    "print(\"==> Results:\\n{}\".format(extract_join_conds(q_demo)))"
   ]
  },
  {
   "cell_type": "code",
   "execution_count": 96,
   "metadata": {
    "deletable": false,
    "editable": false,
    "nbgrader": {
     "grade": true,
     "grade_id": "extract_join_conds_test",
     "locked": true,
     "points": 2,
     "schema_version": 1,
     "solution": false
    }
   },
   "outputs": [
    {
     "name": "stdout",
     "output_type": "stream",
     "text": [
      "===  sELecT * frOm rRYd3rvtC,rE03YvzP_d,El_iJ wHEre rRYd3rvtC.qqB    =  El_iJ.uPGnpLr_v ===\n",
      "\n",
      "  True solution: {('rRYd3rvtC.qqB', 'El_iJ.uPGnpLr_v')}\n",
      "\n",
      "  Your solution: [('rRYd3rvtC.qqB', 'El_iJ.uPGnpLr_v')]\n",
      "\n",
      "===  SELect * frOM IzCGoho,cuAejcF,quFZc wheRE IzCGoho.k   =    quFZc.x AND quFZc.Z7NdQxLy   =IzCGoho.D8X AND cuAejcF.M=    quFZc.Z7NdQxLy ===\n",
      "\n",
      "  True solution: {('IzCGoho.k', 'quFZc.x'), ('quFZc.Z7NdQxLy', 'IzCGoho.D8X'), ('cuAejcF.M', 'quFZc.Z7NdQxLy')}\n",
      "\n",
      "  Your solution: [('IzCGoho.k', 'quFZc.x'), ('quFZc.Z7NdQxLy', 'IzCGoho.D8X'), ('cuAejcF.M', 'quFZc.Z7NdQxLy')]\n",
      "\n",
      "===  SeLecT * FRoM vnmBBrVQ_,QDEZE,eT,z2ujfO_2B WHeRe z2ujfO_2B.fY_6S=eT.b2b AND eT.rB_Z=    QDEZE.U_ge3w7FZI ===\n",
      "\n",
      "  True solution: {('z2ujfO_2B.fY_6S', 'eT.b2b'), ('eT.rB_Z', 'QDEZE.U_ge3w7FZI')}\n",
      "\n",
      "  Your solution: [('z2ujfO_2B.fY_6S', 'eT.b2b'), ('eT.rB_Z', 'QDEZE.U_ge3w7FZI')]\n",
      "\n",
      "===  SeleCt * fRom CCS,sXJup0y,BW2UZAr,k2YtJ WHerE k2YtJ.q    = CCS.vZxAZch AND sXJup0y.B    = CCS.vZxAZch AND k2YtJ.mckX8txb  =sXJup0y.AmvUI6 ===\n",
      "\n",
      "  True solution: {('k2YtJ.q', 'CCS.vZxAZch'), ('sXJup0y.B', 'CCS.vZxAZch'), ('k2YtJ.mckX8txb', 'sXJup0y.AmvUI6')}\n",
      "\n",
      "  Your solution: [('k2YtJ.q', 'CCS.vZxAZch'), ('sXJup0y.B', 'CCS.vZxAZch'), ('k2YtJ.mckX8txb', 'sXJup0y.AmvUI6')]\n",
      "\n",
      "===  selECT * FROM Z,rx2S0n,r6xV8M1T,_SyX4Zah WHerE Z.WVY  =   _SyX4Zah.Uij6 AND rx2S0n.p =   r6xV8M1T.Lc8Ds42_q ===\n",
      "\n",
      "  True solution: {('Z.WVY', '_SyX4Zah.Uij6'), ('rx2S0n.p', 'r6xV8M1T.Lc8Ds42_q')}\n",
      "\n",
      "  Your solution: [('Z.WVY', '_SyX4Zah.Uij6'), ('rx2S0n.p', 'r6xV8M1T.Lc8Ds42_q')]\n",
      "\n",
      "===  seLeCT * FrOm _EV1X1r,cqW,Nrbe03Rh4 WHeRe _EV1X1r.Nn5K  =   Nrbe03Rh4.laf1gvlok AND cqW.l1BMN= Nrbe03Rh4.gBNUv AND Nrbe03Rh4.laf1gvlok   =    cqW.BP ===\n",
      "\n",
      "  True solution: {('_EV1X1r.Nn5K', 'Nrbe03Rh4.laf1gvlok'), ('cqW.l1BMN', 'Nrbe03Rh4.gBNUv'), ('Nrbe03Rh4.laf1gvlok', 'cqW.BP')}\n",
      "\n",
      "  Your solution: [('_EV1X1r.Nn5K', 'Nrbe03Rh4.laf1gvlok'), ('cqW.l1BMN', 'Nrbe03Rh4.gBNUv'), ('Nrbe03Rh4.laf1gvlok', 'cqW.BP')]\n",
      "\n",
      "===  sELeCt * FROM L86IFd,FBhQ7lHFW,FF3i5M wHEre L86IFd.a0lpIv=FF3i5M.s2 AND L86IFd.vV    = FBhQ7lHFW.w37DAKJrs_ AND L86IFd.T =   FF3i5M.s2 ===\n",
      "\n",
      "  True solution: {('L86IFd.a0lpIv', 'FF3i5M.s2'), ('L86IFd.vV', 'FBhQ7lHFW.w37DAKJrs_'), ('L86IFd.T', 'FF3i5M.s2')}\n",
      "\n",
      "  Your solution: [('L86IFd.a0lpIv', 'FF3i5M.s2'), ('L86IFd.vV', 'FBhQ7lHFW.w37DAKJrs_'), ('L86IFd.T', 'FF3i5M.s2')]\n",
      "\n",
      "===  SEleCT * FROM mq,j38YKU,x,V,tuEV8JgaF WHERe j38YKU.etdlS   = V.r8I8qOHP AND j38YKU.Lo3aoTOvsF  = V.r8I8qOHP AND j38YKU.Lo3aoTOvsF=   V.oLsTIUGK ===\n",
      "\n",
      "  True solution: {('j38YKU.etdlS', 'V.r8I8qOHP'), ('j38YKU.Lo3aoTOvsF', 'V.r8I8qOHP'), ('j38YKU.Lo3aoTOvsF', 'V.oLsTIUGK')}\n",
      "\n",
      "  Your solution: [('j38YKU.etdlS', 'V.r8I8qOHP'), ('j38YKU.Lo3aoTOvsF', 'V.r8I8qOHP'), ('j38YKU.Lo3aoTOvsF', 'V.oLsTIUGK')]\n",
      "\n",
      "===  Select * FRoM Mngz4UnSme,Mh9,OMH_wXAuF,r8PZXw7uv9 WHerE OMH_wXAuF.yEvJ3K    =    Mh9.pLDCZc8 AND Mh9._vMn=    r8PZXw7uv9.JQOrmNZ AND OMH_wXAuF.P7Q=Mh9.e4puK AND OMH_wXAuF.P7Q   =r8PZXw7uv9.fHP4pr2gf ===\n",
      "\n",
      "  True solution: {('OMH_wXAuF.yEvJ3K', 'Mh9.pLDCZc8'), ('Mh9._vMn', 'r8PZXw7uv9.JQOrmNZ'), ('OMH_wXAuF.P7Q', 'Mh9.e4puK'), ('OMH_wXAuF.P7Q', 'r8PZXw7uv9.fHP4pr2gf')}\n",
      "\n",
      "  Your solution: [('OMH_wXAuF.yEvJ3K', 'Mh9.pLDCZc8'), ('Mh9._vMn', 'r8PZXw7uv9.JQOrmNZ'), ('OMH_wXAuF.P7Q', 'Mh9.e4puK'), ('OMH_wXAuF.P7Q', 'r8PZXw7uv9.fHP4pr2gf')]\n",
      "\n",
      "===  SELeCT * FrOM E2Z,Lnu WHeRe E2Z.FlFwHAU=  Lnu.s9 AND E2Z.FlFwHAU= Lnu.otrz ===\n",
      "\n",
      "  True solution: {('E2Z.FlFwHAU', 'Lnu.s9'), ('E2Z.FlFwHAU', 'Lnu.otrz')}\n",
      "\n",
      "  Your solution: [('E2Z.FlFwHAU', 'Lnu.s9'), ('E2Z.FlFwHAU', 'Lnu.otrz')]\n",
      "\n",
      "\n",
      "(Passed!)\n"
     ]
    }
   ],
   "source": [
    "# Test cell: `extract_join_conds_test`\n",
    "\n",
    "def test_extract_join_conds_1():\n",
    "    tables, cond_set = rand_query_ans(5, 5, 0)\n",
    "    qstmt, _, _ = form_query_str(tables, cond_set, 0)\n",
    "    qstmt = re.sub(\"[\\n\\t]\", \" \", qstmt)\n",
    "    print(\"=== {} ===\\n\".format(qstmt))\n",
    "    print(\"  True solution: {}\\n\".format(cond_set))\n",
    "    your_conds = extract_join_conds(qstmt)\n",
    "    print(\"  Your solution: {}\\n\".format(your_conds))\n",
    "    assert set(your_conds) == cond_set, \"*** Mismatch? ***\"\n",
    "    \n",
    "for _ in range(10):\n",
    "    test_extract_join_conds_1()\n",
    "    \n",
    "print(\"\\n(Passed!)\")"
   ]
  },
  {
   "cell_type": "markdown",
   "metadata": {
    "deletable": false,
    "editable": false,
    "nbgrader": {
     "grade": false,
     "grade_id": "cell-8907087cc62c0193",
     "locked": true,
     "schema_version": 1,
     "solution": false
    }
   },
   "source": [
    "**Fin!** This marks the end of this problem. Don't forget to submit it to get credit."
   ]
  }
 ],
 "metadata": {
  "celltoolbar": "Create Assignment",
  "kernelspec": {
   "display_name": "Python 3.5",
   "language": "python",
   "name": "python35"
  },
  "language_info": {
   "codemirror_mode": {
    "name": "ipython",
    "version": 3
   },
   "file_extension": ".py",
   "mimetype": "text/x-python",
   "name": "python",
   "nbconvert_exporter": "python",
   "pygments_lexer": "ipython3",
   "version": "3.5.2"
  }
 },
 "nbformat": 4,
 "nbformat_minor": 1
}
