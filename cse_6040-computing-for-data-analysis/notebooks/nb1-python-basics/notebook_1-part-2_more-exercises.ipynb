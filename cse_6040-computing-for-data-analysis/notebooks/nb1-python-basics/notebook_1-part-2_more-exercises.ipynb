{
 "cells": [
  {
   "cell_type": "markdown",
   "metadata": {},
   "source": [
    "# Python review: More exercises\n",
    "\n",
    "This notebook continues the review of Python basics based on [Chris Simpkins's](https://www.cc.gatech.edu/~simpkins/) [Python Bootcamp](http://datamastery.gitlab.io/msabc/august2018.html)."
   ]
  },
  {
   "cell_type": "markdown",
   "metadata": {},
   "source": [
    "Consider the following dataset of exam grades, organized as a 2-D table and stored in Python as a \"list of lists\" under the variable name, `grades`."
   ]
  },
  {
   "cell_type": "code",
   "execution_count": 1,
   "metadata": {},
   "outputs": [],
   "source": [
    "grades = [\n",
    "    # First line is descriptive header. Subsequent lines hold data\n",
    "    ['Student', 'Exam 1', 'Exam 2', 'Exam 3'],\n",
    "    ['Thorny', '100', '90', '80'],\n",
    "    ['Mac', '88', '99', '111'],\n",
    "    ['Farva', '45', '56', '67'],\n",
    "    ['Rabbit', '59', '61', '67'],\n",
    "    ['Ursula', '73', '79', '83'],\n",
    "    ['Foster', '89', '97', '101']\n",
    "]\n",
    "import numpy as np\n",
    "\n",
    "Newgrade = []\n",
    "a = np.array(grades)\n",
    "Newgrade.append(list(a[0:,1]))\n",
    "Newgrade.append(list(a[0:,2]))\n",
    "Newgrade.append(list(a[0:,3]))"
   ]
  },
  {
   "attachments": {},
   "cell_type": "markdown",
   "metadata": {},
   "source": [
    "**Exercise 0** (`students_test`: 1 point). Write some code that computes a new list named `students[:]`, which holds the names of the students as they from \"top to bottom\" in the table."
   ]
  },
  {
   "cell_type": "code",
   "execution_count": 2,
   "metadata": {},
   "outputs": [
    {
     "data": {
      "text/plain": [
       "['Thorny', 'Mac', 'Farva', 'Rabbit', 'Ursula', 'Foster']"
      ]
     },
     "execution_count": 2,
     "metadata": {},
     "output_type": "execute_result"
    }
   ],
   "source": [
    "students = []\n",
    "for row in grades[1:]:\n",
    "    students.append(row[0])\n",
    "students"
   ]
  },
  {
   "cell_type": "markdown",
   "metadata": {},
   "source": [
    "**Exercise 1** (`assignments_test`: 1 point). Write some code to compute a new list named `assignments[:]`, to hold the names of the class assignments. (These appear in the descriptive header element of `grades`.)\n"
   ]
  },
  {
   "cell_type": "code",
   "execution_count": 3,
   "metadata": {},
   "outputs": [],
   "source": [
    "assignments = grades[0][1:]"
   ]
  },
  {
   "cell_type": "code",
   "execution_count": 4,
   "metadata": {},
   "outputs": [
    {
     "name": "stdout",
     "output_type": "stream",
     "text": [
      "['Exam 1', 'Exam 2', 'Exam 3']\n",
      "\n",
      "(Passed!)\n"
     ]
    }
   ],
   "source": [
    "# `assignments_test`: Test cell\n",
    "print(assignments)\n",
    "assert type(assignments) is list\n",
    "assert assignments == ['Exam 1', 'Exam 2', 'Exam 3']\n",
    "print(\"\\n(Passed!)\")"
   ]
  },
  {
   "cell_type": "markdown",
   "metadata": {},
   "source": [
    "**Exercise 2** (`grade_lists_test`: 1 point). Write some code to compute a new _dictionary_, named `grade_lists`, that maps names of students to _lists_ of their exam grades. The grades should be converted from strings to integers. For instance, `grade_lists['Thorny'] == [100, 90, 80]`."
   ]
  },
  {
   "cell_type": "code",
   "execution_count": 5,
   "metadata": {},
   "outputs": [],
   "source": [
    "# Create a dict mapping names to lists of grades.\n",
    "#\n",
    "from collections import defaultdict\n",
    "\n",
    "grade_lists = defaultdict(list)\n",
    "for student_info in grades[1:]:\n",
    "    grade_lists[student_info[0]].extend([int(info) for info in student_info[1:]])\n",
    "    \n",
    "grade_lists = dict(grade_lists)\n",
    "#"
   ]
  },
  {
   "cell_type": "code",
   "execution_count": 6,
   "metadata": {},
   "outputs": [
    {
     "name": "stdout",
     "output_type": "stream",
     "text": [
      "{'Thorny': [100, 90, 80], 'Mac': [88, 99, 111], 'Farva': [45, 56, 67], 'Rabbit': [59, 61, 67], 'Ursula': [73, 79, 83], 'Foster': [89, 97, 101]}\n",
      "\n",
      "(Passed!)\n"
     ]
    }
   ],
   "source": [
    "# `grade_lists_test`: Test cell\n",
    "print(grade_lists)\n",
    "assert type(grade_lists) is dict, \"Did not create a dictionary.\"\n",
    "assert len(grade_lists) == len(grades)-1, \"Dictionary has the wrong number of entries.\"\n",
    "assert {'Thorny', 'Mac', 'Farva', 'Rabbit', 'Ursula', 'Foster'} == set(grade_lists.keys()), \"Dictionary has the wrong keys.\"\n",
    "assert grade_lists['Thorny'] == [100, 90, 80], 'Wrong grades for: Thorny'\n",
    "assert grade_lists['Mac'] == [88, 99, 111], 'Wrong grades for: Mac'\n",
    "assert grade_lists['Farva'] == [45, 56, 67], 'Wrong grades for: Farva'\n",
    "assert grade_lists['Rabbit'] == [59, 61, 67], 'Wrong grades for: Rabbit'\n",
    "assert grade_lists['Ursula'] == [73, 79, 83], 'Wrong grades for: Ursula'\n",
    "assert grade_lists['Foster'] == [89, 97, 101], 'Wrong grades for: Foster'\n",
    "print(\"\\n(Passed!)\")"
   ]
  },
  {
   "cell_type": "markdown",
   "metadata": {},
   "source": [
    "**Exercise 3** (`grade_dicts_test`: 2 points). Write some code to compute a new dictionary, `grade_dicts`, that maps names of students to _dictionaries_ containing their scores. Each entry of this scores dictionary should be keyed on assignment name and hold the corresponding grade as an integer. For instance, `grade_dicts['Thorny']['Exam 1'] == 100`."
   ]
  },
  {
   "cell_type": "code",
   "execution_count": 7,
   "metadata": {},
   "outputs": [
    {
     "data": {
      "text/plain": [
       "dict_values([[100, 90, 80], [88, 99, 111], [45, 56, 67], [59, 61, 67], [73, 79, 83], [89, 97, 101]])"
      ]
     },
     "execution_count": 7,
     "metadata": {},
     "output_type": "execute_result"
    }
   ],
   "source": [
    "grade_lists.values()"
   ]
  },
  {
   "cell_type": "code",
   "execution_count": 8,
   "metadata": {},
   "outputs": [
    {
     "name": "stdout",
     "output_type": "stream",
     "text": [
      "{'Thorny': {'Exam 1': 100, 'Exam 2': 90, 'Exam 3': 80}, 'Mac': {'Exam 1': 88, 'Exam 2': 99, 'Exam 3': 111}, 'Farva': {'Exam 1': 45, 'Exam 2': 56, 'Exam 3': 67}, 'Rabbit': {'Exam 1': 59, 'Exam 2': 61, 'Exam 3': 67}, 'Ursula': {'Exam 1': 73, 'Exam 2': 79, 'Exam 3': 83}, 'Foster': {'Exam 1': 89, 'Exam 2': 97, 'Exam 3': 101}}\n"
     ]
    }
   ],
   "source": [
    "grades_working = grades[:]\n",
    "student_copy = students[:]\n",
    "#assignments is the variable from a previous question. \n",
    "\n",
    "#grade_lists is from problem 1.2.2\n",
    "\n",
    "grades_working = grades[:]\n",
    "student_copy = students[:]\n",
    " \n",
    "grade_dicts = {}\n",
    "for i,val in grade_lists.items(): \n",
    "     grade_dicts[i] = dict(zip(assignments,val))\n",
    "print(grade_dicts)"
   ]
  },
  {
   "cell_type": "code",
   "execution_count": 9,
   "metadata": {},
   "outputs": [
    {
     "name": "stdout",
     "output_type": "stream",
     "text": [
      "{'Thorny': {'Exam 1': 100, 'Exam 2': 90, 'Exam 3': 80}, 'Mac': {'Exam 1': 88, 'Exam 2': 99, 'Exam 3': 111}, 'Farva': {'Exam 1': 45, 'Exam 2': 56, 'Exam 3': 67}, 'Rabbit': {'Exam 1': 59, 'Exam 2': 61, 'Exam 3': 67}, 'Ursula': {'Exam 1': 73, 'Exam 2': 79, 'Exam 3': 83}, 'Foster': {'Exam 1': 89, 'Exam 2': 97, 'Exam 3': 101}}\n",
      "\n",
      "(Passed!)\n"
     ]
    }
   ],
   "source": [
    "# `grade_dicts_test`: Test cell\n",
    "print(grade_dicts)\n",
    "assert type(grade_dicts) is dict, \"Did not create a dictionary.\"\n",
    "assert len(grade_dicts) == len(grades)-1, \"Dictionary has the wrong number of entries.\"\n",
    "assert {'Thorny', 'Mac', 'Farva', 'Rabbit', 'Ursula', 'Foster'} == set(grade_dicts.keys()), \"Dictionary has the wrong keys.\"\n",
    "assert grade_dicts['Foster']['Exam 1'] == 89, 'Wrong score'\n",
    "assert grade_dicts['Foster']['Exam 3'] == 101, 'Wrong score'\n",
    "assert grade_dicts['Foster']['Exam 2'] == 97, 'Wrong score'\n",
    "assert grade_dicts['Ursula']['Exam 1'] == 73, 'Wrong score'\n",
    "assert grade_dicts['Ursula']['Exam 3'] == 83, 'Wrong score'\n",
    "assert grade_dicts['Ursula']['Exam 2'] == 79, 'Wrong score'\n",
    "assert grade_dicts['Rabbit']['Exam 1'] == 59, 'Wrong score'\n",
    "assert grade_dicts['Rabbit']['Exam 3'] == 67, 'Wrong score'\n",
    "assert grade_dicts['Rabbit']['Exam 2'] == 61, 'Wrong score'\n",
    "assert grade_dicts['Mac']['Exam 1'] == 88, 'Wrong score'\n",
    "assert grade_dicts['Mac']['Exam 3'] == 111, 'Wrong score'\n",
    "assert grade_dicts['Mac']['Exam 2'] == 99, 'Wrong score'\n",
    "assert grade_dicts['Farva']['Exam 1'] == 45, 'Wrong score'\n",
    "assert grade_dicts['Farva']['Exam 3'] == 67, 'Wrong score'\n",
    "assert grade_dicts['Farva']['Exam 2'] == 56, 'Wrong score'\n",
    "assert grade_dicts['Thorny']['Exam 1'] == 100, 'Wrong score'\n",
    "assert grade_dicts['Thorny']['Exam 3'] == 80, 'Wrong score'\n",
    "assert grade_dicts['Thorny']['Exam 2'] == 90, 'Wrong score'\n",
    "print(\"\\n(Passed!)\")"
   ]
  },
  {
   "cell_type": "markdown",
   "metadata": {},
   "source": [
    "**Exercise 4** (`avg_grades_by_student_test`: 1 point). Write some code to compute a dictionary named `avg_grades_by_student` that maps each student to his or her average exam score. For instance, `avg_grades_by_student['Thorny'] == 90`.\n",
    "\n",
    "> **Hint.** The [`statistics`](https://docs.python.org/3.5/library/statistics.html) module of Python has at least one helpful function."
   ]
  },
  {
   "cell_type": "code",
   "execution_count": 10,
   "metadata": {},
   "outputs": [],
   "source": [
    "# Create a dict mapping names to grade averages.\n",
    "#\n",
    "import numpy as np\n",
    "avg_grades_by_student = defaultdict(float)\n",
    "\n",
    "for k, v in grade_lists.items():\n",
    "    avg_grades_by_student[k] = np.mean(v)\n",
    "    \n",
    "avg_grades_by_student = dict(avg_grades_by_student)\n",
    "#"
   ]
  },
  {
   "cell_type": "code",
   "execution_count": 11,
   "metadata": {},
   "outputs": [
    {
     "name": "stdout",
     "output_type": "stream",
     "text": [
      "{'Thorny': 90.0, 'Mac': 99.333333333333329, 'Farva': 56.0, 'Rabbit': 62.333333333333336, 'Ursula': 78.333333333333329, 'Foster': 95.666666666666671}\n",
      "\n",
      "(Passed!)\n"
     ]
    }
   ],
   "source": [
    "# `avg_grades_by_student_test`: Test cell\n",
    "print(avg_grades_by_student)\n",
    "assert type(avg_grades_by_student) is dict, \"Did not create a dictionary.\"\n",
    "assert len(avg_grades_by_student) == len(students), \"Output has the wrong number of students.\"\n",
    "assert abs(avg_grades_by_student['Mac'] - 99.33333333333333) <= 4e-15, 'Mean is incorrect'\n",
    "assert abs(avg_grades_by_student['Foster'] - 95.66666666666667) <= 4e-15, 'Mean is incorrect'\n",
    "assert abs(avg_grades_by_student['Farva'] - 56) <= 4e-15, 'Mean is incorrect'\n",
    "assert abs(avg_grades_by_student['Rabbit'] - 62.333333333333336) <= 4e-15, 'Mean is incorrect'\n",
    "assert abs(avg_grades_by_student['Thorny'] - 90) <= 4e-15, 'Mean is incorrect'\n",
    "assert abs(avg_grades_by_student['Ursula'] - 78.33333333333333) <= 4e-15, 'Mean is incorrect'\n",
    "print(\"\\n(Passed!)\")"
   ]
  },
  {
   "cell_type": "markdown",
   "metadata": {},
   "source": [
    "**Exercise 5** (`grades_by_assignment_test`: 2 points). Write some code to compute a dictionary named `grades_by_assignment`, whose keys are assignment (exam) names and whose values are lists of scores over all students on that assignment. For instance, `grades_by_assignment['Exam 1'] == [100, 88, 45, 59, 73, 89]`."
   ]
  },
  {
   "cell_type": "code",
   "execution_count": 12,
   "metadata": {},
   "outputs": [],
   "source": [
    "grades_by_assignment = defaultdict(list)\n",
    "\n",
    "for k, v in grade_dicts.items():\n",
    "    for k1, v1 in v.items():\n",
    "        grades_by_assignment[k1].append(v1)\n",
    "    \n",
    "grades_by_assignment = dict(grades_by_assignment)"
   ]
  },
  {
   "cell_type": "code",
   "execution_count": 13,
   "metadata": {},
   "outputs": [
    {
     "name": "stdout",
     "output_type": "stream",
     "text": [
      "{'Exam 1': [100, 88, 45, 59, 73, 89], 'Exam 2': [90, 99, 56, 61, 79, 97], 'Exam 3': [80, 111, 67, 67, 83, 101]}\n",
      "\n",
      "(Passed!)\n"
     ]
    }
   ],
   "source": [
    "# `grades_by_assignment_test`: Test cell\n",
    "print(grades_by_assignment)\n",
    "assert type(grades_by_assignment) is dict, \"Output is not a dictionary.\"\n",
    "assert len(grades_by_assignment) == 3, \"Wrong number of assignments.\"\n",
    "assert grades_by_assignment['Exam 1'] == [100, 88, 45, 59, 73, 89], 'Wrong grades list'\n",
    "assert grades_by_assignment['Exam 3'] == [80, 111, 67, 67, 83, 101], 'Wrong grades list'\n",
    "assert grades_by_assignment['Exam 2'] == [90, 99, 56, 61, 79, 97], 'Wrong grades list'\n",
    "print(\"\\n(Passed!)\")"
   ]
  },
  {
   "cell_type": "markdown",
   "metadata": {},
   "source": [
    "**Exercise 6** (`avg_grades_by_assignment_test`: 1 point). Write some code to compute a dictionary, `avg_grades_by_assignment`, which maps each exam to its average score."
   ]
  },
  {
   "cell_type": "code",
   "execution_count": 14,
   "metadata": {},
   "outputs": [],
   "source": [
    "avg_grades_by_assignment = defaultdict(float)\n",
    "\n",
    "for k,v in grades_by_assignment.items():\n",
    "    avg_grades_by_assignment[k] = np.mean(v)\n",
    "    \n",
    "avg_grades_by_assignment = dict(avg_grades_by_assignment)"
   ]
  },
  {
   "cell_type": "code",
   "execution_count": 15,
   "metadata": {},
   "outputs": [
    {
     "name": "stdout",
     "output_type": "stream",
     "text": [
      "{'Exam 1': 75.666666666666671, 'Exam 2': 80.333333333333329, 'Exam 3': 84.833333333333329}\n",
      "\n",
      "(Passed!)\n"
     ]
    }
   ],
   "source": [
    "# `avg_grades_by_assignment_test`: Test cell\n",
    "print(avg_grades_by_assignment)\n",
    "assert type(avg_grades_by_assignment) is dict\n",
    "assert len(avg_grades_by_assignment) == 3\n",
    "assert abs((100+88+45+59+73+89)/6 - avg_grades_by_assignment['Exam 1']) <= 7e-15\n",
    "assert abs((80+111+67+67+83+101)/6 - avg_grades_by_assignment['Exam 3']) <= 7e-15\n",
    "assert abs((90+99+56+61+79+97)/6 - avg_grades_by_assignment['Exam 2']) <= 7e-15\n",
    "print(\"\\n(Passed!)\")"
   ]
  },
  {
   "cell_type": "markdown",
   "metadata": {},
   "source": [
    "**Exercise 7** (`rank_test`: 2 points). Write some code to create a new list, `rank`, which contains the names of students in order by _decreasing_ score. That is, `rank[0]` should contain the name of the top student (highest average exam score), and `rank[-1]` should have the name of the bottom student (lowest average exam score)."
   ]
  },
  {
   "cell_type": "code",
   "execution_count": 16,
   "metadata": {},
   "outputs": [
    {
     "data": {
      "text/plain": [
       "{'Thorny': 90.0,\n",
       " 'Mac': 99.333333333333329,\n",
       " 'Farva': 56.0,\n",
       " 'Rabbit': 62.333333333333336,\n",
       " 'Ursula': 78.333333333333329,\n",
       " 'Foster': 95.666666666666671}"
      ]
     },
     "execution_count": 16,
     "metadata": {},
     "output_type": "execute_result"
    }
   ],
   "source": [
    "avg_grades_by_student"
   ]
  },
  {
   "cell_type": "code",
   "execution_count": 17,
   "metadata": {},
   "outputs": [],
   "source": [
    "zipped_l = [(k,v) for k, v in avg_grades_by_student.items()]\n",
    "sorted_l = sorted(zipped_l, key=lambda x: x[1], reverse=True)\n",
    "rank = [tup[0] for tup in sorted_l]"
   ]
  },
  {
   "cell_type": "code",
   "execution_count": 18,
   "metadata": {},
   "outputs": [
    {
     "name": "stdout",
     "output_type": "stream",
     "text": [
      "['Mac', 'Foster', 'Thorny', 'Ursula', 'Rabbit', 'Farva']\n",
      "\n",
      "=== Ranking ===\n",
      "1. Mac: 99.33333333333333\n",
      "2. Foster: 95.66666666666667\n",
      "3. Thorny: 90.0\n",
      "4. Ursula: 78.33333333333333\n",
      "5. Rabbit: 62.333333333333336\n",
      "6. Farva: 56.0\n",
      "\n",
      "(Passed!)\n"
     ]
    }
   ],
   "source": [
    "# `rank_test`: Test cell\n",
    "print(rank)\n",
    "print(\"\\n=== Ranking ===\")\n",
    "for i, s in enumerate(rank):\n",
    "    print(\"{}. {}: {}\".format(i+1, s, avg_grades_by_student[s]))\n",
    "    \n",
    "assert rank == ['Mac', 'Foster', 'Thorny', 'Ursula', 'Rabbit', 'Farva']\n",
    "for i in range(len(rank)-1):\n",
    "    assert avg_grades_by_student[rank[i]] >= avg_grades_by_student[rank[i+1]]\n",
    "print(\"\\n(Passed!)\")"
   ]
  },
  {
   "cell_type": "code",
   "execution_count": 19,
   "metadata": {},
   "outputs": [
    {
     "name": "stdout",
     "output_type": "stream",
     "text": [
      "[99.333333333333329, 95.666666666666671, 90.0, 78.333333333333329, 62.333333333333336, 56.0] ['Mac', 'Foster', 'Thorny', 'Ursula', 'Rabbit', 'Farva']\n"
     ]
    }
   ],
   "source": [
    "sorted_grades=(list(avg_grades_by_student.values()))\n",
    "sorted_grades.sort(reverse=True)\n",
    "temp_people ={'Mac': sorted_grades[0], 'Foster': sorted_grades[1], 'Thorny' : sorted_grades[2], \n",
    "              'Ursula': sorted_grades[3], 'Rabbit':sorted_grades[4], 'Farva':sorted_grades[4]}\n",
    "rank = [v for v in sorted(temp_people, key=temp_people.get, reverse=True)]\n",
    "print(sorted_grades, rank)"
   ]
  }
 ],
 "metadata": {
  "kernelspec": {
   "display_name": "Python 3",
   "language": "python",
   "name": "python3"
  },
  "language_info": {
   "codemirror_mode": {
    "name": "ipython",
    "version": 3
   },
   "file_extension": ".py",
   "mimetype": "text/x-python",
   "name": "python",
   "nbconvert_exporter": "python",
   "pygments_lexer": "ipython3",
   "version": "3.6.5"
  }
 },
 "nbformat": 4,
 "nbformat_minor": 2
}
