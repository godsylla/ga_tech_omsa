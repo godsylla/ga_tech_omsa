{
 "cells": [
  {
   "cell_type": "markdown",
   "metadata": {
    "nbgrader": {
     "grade": false,
     "locked": true,
     "solution": false
    }
   },
   "source": [
    "**Important note**! Before you turn in this lab notebook, make sure everything runs as expected:\n",
    "\n",
    "- First, restart the kernel -- in the menubar, select Kernel → Restart.\n",
    "- Then run all cells -- in the menubar, select Cell → Run All.\n",
    "\n",
    "Make sure you fill in any place that says YOUR CODE HERE or \"YOUR ANSWER HERE.\""
   ]
  },
  {
   "cell_type": "markdown",
   "metadata": {
    "nbgrader": {
     "grade": false,
     "locked": true,
     "solution": false
    }
   },
   "source": [
    "# Data Wrangling for Machine Learning"
   ]
  },
  {
   "cell_type": "markdown",
   "metadata": {
    "nbgrader": {
     "grade": false,
     "locked": true,
     "solution": false
    }
   },
   "source": [
    "In this exercise we will take you through the basics of data cleaning that often is the majority of your work before fitting a training a machine learning model.\n",
    "\n",
    "Data often has a lot of missing values, incorrect data types, rows that need to be removed etc., and this problemgives you a flavor of what is often required before any sort of descriptive, predictive, or prescriptive analysis.\n",
    "\n",
    "For this exercise, we will be using a dataset with credit approval scores."
   ]
  },
  {
   "cell_type": "code",
   "execution_count": null,
   "metadata": {
    "collapsed": true,
    "nbgrader": {
     "grade": false,
     "locked": true,
     "solution": false
    }
   },
   "outputs": [],
   "source": [
    "import pandas as pd\n",
    "import numpy as np\n",
    "import re\n",
    "\n",
    "pd.options.mode.chained_assignment = None"
   ]
  },
  {
   "cell_type": "code",
   "execution_count": null,
   "metadata": {
    "collapsed": true,
    "nbgrader": {
     "grade": false,
     "locked": true,
     "solution": false
    }
   },
   "outputs": [],
   "source": [
    "credit = pd.read_csv('creditapproval.csv')"
   ]
  },
  {
   "cell_type": "markdown",
   "metadata": {
    "nbgrader": {
     "grade": false,
     "locked": true,
     "solution": false
    }
   },
   "source": [
    "Let us take a look at the data."
   ]
  },
  {
   "cell_type": "code",
   "execution_count": null,
   "metadata": {
    "collapsed": true,
    "nbgrader": {
     "grade": false,
     "locked": true,
     "solution": false
    }
   },
   "outputs": [],
   "source": [
    "print('The dataset has {} rows.'.format(len(credit))) \n",
    "credit.head()"
   ]
  },
  {
   "cell_type": "markdown",
   "metadata": {
    "nbgrader": {
     "grade": false,
     "locked": true,
     "solution": false
    }
   },
   "source": [
    "The data hence has 7 predictors and 1 response variable.\n",
    "\n",
    "In machine learning or predictive modelling in general, you use predictors (in this case 7 of them) to predict its corresponding response."
   ]
  },
  {
   "cell_type": "markdown",
   "metadata": {
    "nbgrader": {
     "grade": false,
     "locked": true,
     "solution": false
    }
   },
   "source": [
    "But before we can move onto predictive modelling, we need to clean the data. Data cleaning often is the most important part of machine learning and we exactly going to do that bit.\n",
    "\n",
    "For instance, let's check for columns having missing values."
   ]
  },
  {
   "cell_type": "code",
   "execution_count": null,
   "metadata": {
    "collapsed": true,
    "nbgrader": {
     "grade": false,
     "locked": true,
     "solution": false
    }
   },
   "outputs": [],
   "source": [
    "credit.isnull().any()"
   ]
  },
  {
   "cell_type": "markdown",
   "metadata": {
    "nbgrader": {
     "grade": false,
     "locked": true,
     "solution": false
    }
   },
   "source": [
    "So the columns **Predictor A, Predictor B, Predictor F, and Response** all have missing values. You'll treat these cases through the exercises below."
   ]
  },
  {
   "cell_type": "markdown",
   "metadata": {
    "nbgrader": {
     "grade": false,
     "locked": true,
     "solution": false
    }
   },
   "source": [
    "Data without a **Response variable** can neither be used in training the model or in testing it. We would hence like to remove rows that have **both Predictor F** and **Response as NaN values**\n",
    "\n",
    "\n",
    "**Exercise 0** (1 point): Create a new dataframe named **`creditwithresponse`** that is a copy of **`credit`** but with any rows missing **either** `Predictor F` **or** `Response` removed."
   ]
  },
  {
   "cell_type": "code",
   "execution_count": null,
   "metadata": {
    "collapsed": true,
    "nbgrader": {
     "grade": false,
     "grade_id": "Exercise0Response",
     "locked": false,
     "solution": true
    }
   },
   "outputs": [],
   "source": [
    "#\n",
    "# YOUR CODE HERE\n",
    "#\n"
   ]
  },
  {
   "cell_type": "code",
   "execution_count": null,
   "metadata": {
    "collapsed": true,
    "nbgrader": {
     "grade": true,
     "grade_id": "Exercise 0",
     "locked": true,
     "points": "1",
     "solution": false
    }
   },
   "outputs": [],
   "source": [
    "##Test cell: Exercise 0\n",
    "assert len(creditwithresponse) == 612, \"The length of your newly created dataframe does not match the solution\"\n",
    "assert len(creditwithresponse[creditwithresponse['Predictor F'].isnull()]) == 0, \"Some NaN values still exist in your new dataframe.\"\n",
    "assert len(creditwithresponse[creditwithresponse['Response'].isnull()]) == 0, \"Almost there! Though some NaN values still exist in your new dataframe.\"\n",
    "\n",
    "print(\"\\n(Passed!)\")"
   ]
  },
  {
   "cell_type": "markdown",
   "metadata": {
    "nbgrader": {
     "grade": false,
     "locked": true,
     "solution": false
    }
   },
   "source": [
    "What about the other predictors?\n",
    "\n",
    "One technique is to replace missing values with sensible substitutes. For instance, we might replace a missing value with the **mean** of the remaining values in the case of a numerical variable, or the **mode** in the case of a categorical (discrete) variable.\n",
    "\n",
    "So, for instance, suppose a numerical predictor has the values `[1.0, 6.5, 3.5, NaN, 5.0]`. Then, you might replace the `NaN` with the mean of the known values, `[1.0, 6.5, 3.5, 5.0]`, which is 4.0."
   ]
  },
  {
   "cell_type": "markdown",
   "metadata": {
    "nbgrader": {
     "grade": false,
     "locked": true,
     "solution": false
    }
   },
   "source": [
    "**Exercise 1 (3 points)**: Create a function called **`imputevalue()`** that takes, as its inputs, a dataframe, the name of a column in that dataframe, and the replacement method. The replacement method will be a string, either `\"mean\"` or `\"mode\"`.\n",
    "\n",
    "With these three inputs, your function should do the following:\n",
    "\n",
    "1. Create a copy of the dataframe (i.e., the original should remain intact).\n",
    "2. Compute the **mean** or **mode** of the column **without** the NaN values.\n",
    "3. Replace the NaN's in that column with the computed mean/mode.\n",
    "4. Return this new dataframe (i.e., not just the column containing the newly imputed values)."
   ]
  },
  {
   "cell_type": "code",
   "execution_count": null,
   "metadata": {
    "collapsed": true,
    "nbgrader": {
     "grade": false,
     "grade_id": "Exercise1Response",
     "locked": false,
     "solution": true
    }
   },
   "outputs": [],
   "source": [
    "def imputevalue(df, col, func):\n",
    "    assert func in ['mean', 'mode'], \"You might have edited the assertion in this code cell, please reload this cell\"\n",
    "\n",
    "    #\n",
    "    # YOUR CODE HERE\n",
    "    #\n"
   ]
  },
  {
   "cell_type": "code",
   "execution_count": null,
   "metadata": {
    "collapsed": true,
    "nbgrader": {
     "grade": true,
     "grade_id": "Exercise 1",
     "locked": true,
     "points": "3",
     "solution": false
    }
   },
   "outputs": [],
   "source": [
    "##Test cell: Exercise 1\n",
    "pd.options.mode.chained_assignment = None\n",
    "\n",
    "df2 = imputevalue(creditwithresponse, 'Predictor A', 'mean')\n",
    "assert not(df2.equals(creditwithresponse)), 'You have not created a copy of the dataframe'\n",
    "assert (round(np.mean(df2['Predictor A']), 2) >= 31.8) & (round(np.mean(df2['Predictor A']), 2)<=31.9), \"The imputed value is incorrect. Please check your code\"\n",
    "\n",
    "df2 = imputevalue(creditwithresponse, 'Predictor B', 'mode')\n",
    "assert df2.loc[:,'Predictor B'].mode()[0] == 'B', \"The imputed value is incorrect. Please check your code\"\n",
    "\n",
    "credit_imputed_temp = imputevalue(creditwithresponse, 'Predictor A', 'mean')\n",
    "credit_imputed = imputevalue(credit_imputed_temp, 'Predictor B', 'mode')\n",
    "\n",
    "assert credit_imputed['Predictor A'].notnull().all()==True, 'There are still some missing values in Predictor A'\n",
    "assert credit_imputed['Predictor B'].notnull().all()==True, 'There are still some missing values in Predictor B'\n",
    "\n",
    "print(\"\\n(Passed!)\")"
   ]
  },
  {
   "cell_type": "markdown",
   "metadata": {
    "nbgrader": {
     "grade": false,
     "locked": true,
     "solution": false
    }
   },
   "source": [
    "Using the preceding techniques (removing missing rows or imputing values), we've covered all variables except `Predictor G`. Let's treat that one next. First, let's inspect it:"
   ]
  },
  {
   "cell_type": "code",
   "execution_count": null,
   "metadata": {
    "collapsed": true,
    "nbgrader": {
     "grade": false,
     "locked": true,
     "solution": false
    }
   },
   "outputs": [],
   "source": [
    "credit_imputed['Predictor G'].head()"
   ]
  },
  {
   "cell_type": "markdown",
   "metadata": {
    "nbgrader": {
     "grade": false,
     "locked": true,
     "solution": false
    }
   },
   "source": [
    "This column actually contains marketing expenditures in thousands of dollars. For example, `'Marketing 1'` means that a total of $1000 was spent on this marketing campaign.\n",
    "\n",
    "As you can see, these data were not entered in a consistent way, except that a numerical value does appear. In this exercise you are required to extract the numbers from the column's values, e.g., extract **`1`** from `'Marketing 1'`.\n",
    "\n",
    "Please note that the following facts about the values in the column 'Predictor G'.\n",
    "1. Each value begins with a string of alphabetic characters. This string may vary from row to row.\n",
    "2. A space may or may not follow that initial string of alphabetic characters.\n",
    "3. The string ends with a sequence of digits.\n",
    "\n",
    "Refer to the sample values from the call to `.head()` above."
   ]
  },
  {
   "cell_type": "markdown",
   "metadata": {
    "nbgrader": {
     "grade": false,
     "locked": true,
     "solution": false
    }
   },
   "source": [
    "**Exercise 2 (3 points)**: Create a function **`strip_text()`** that takes a **`(dataframe, column)`** as inputs and returns a **dataframe** according to the desciption below.\n",
    "\n",
    "With these two inputs, your function should:\n",
    "\n",
    "1. Create a copy of the dataframe, i.e., the original should remain intact.\n",
    "2. For the given column, remove all the text in the column so that it contains only numbers (integers).\n",
    "3. Return this new dataframe, i.e., not just the column containing the newly imputed values."
   ]
  },
  {
   "cell_type": "code",
   "execution_count": null,
   "metadata": {
    "collapsed": true,
    "nbgrader": {
     "grade": false,
     "grade_id": "Exercise2Response",
     "locked": false,
     "solution": true
    }
   },
   "outputs": [],
   "source": [
    "def strip_text(df, col):\n",
    "    #\n",
    "    # YOUR CODE HERE\n",
    "    #\n"
   ]
  },
  {
   "cell_type": "code",
   "execution_count": null,
   "metadata": {
    "collapsed": true,
    "nbgrader": {
     "grade": true,
     "grade_id": "Exercise 2",
     "locked": true,
     "points": "3",
     "solution": false
    }
   },
   "outputs": [],
   "source": [
    "##Test cell: Exercise 2\n",
    "\n",
    "instr = pd.DataFrame(['Rich0','Rachel    2', 'Sam123', 'Ben 012', 'Evan 999', 'Chinmay12', '   Raghav12'])\n",
    "instr2 = instr.rename(columns={0:'col1'})\n",
    "assert strip_text(instr2,'col1').equals(pd.DataFrame([0,2,123,12,999,12,12]).rename(columns={0:'col1'})),\"Please check your output by running your function on the 'instr' dataframe\"\n",
    "\n",
    "credit_cleaned = strip_text(credit_imputed,'Predictor G')\n",
    "assert not(credit_cleaned.equals(credit_imputed)), 'You have not created a copy of the dataframe'\n",
    "assert credit_cleaned['Predictor G'].dtype  == 'int64', \"Output data type does not match\"\n",
    "assert len(credit_cleaned) == 612, \"Your dataframe output is not of the appropriate length\"\n",
    "assert (round(np.mean(credit_cleaned['Predictor G']),2) >= 2.62) & (round(np.mean(credit_cleaned['Predictor G']),2)<=2.64), \"The imputed data does not match. You could try replicating these tests on the 'instr' dataframe above.\"\n",
    "assert (round(np.sum(credit_cleaned['Predictor G']),2) >= 1611.0) & (round(np.sum(credit_cleaned['Predictor G']),2) <= 1613.0) , \"The imputed data does not match. You could try replicating these tests on the 'instr' dataframe above.\"\n",
    "\n",
    "print(\"\\n(Passed!)\")"
   ]
  },
  {
   "cell_type": "markdown",
   "metadata": {
    "nbgrader": {
     "grade": false,
     "locked": true,
     "solution": false
    }
   },
   "source": [
    "Now that you have cleaned your dataset, let's do one final check to see if we still have any missing values."
   ]
  },
  {
   "cell_type": "code",
   "execution_count": null,
   "metadata": {
    "collapsed": true,
    "nbgrader": {
     "grade": false,
     "locked": true,
     "solution": false
    }
   },
   "outputs": [],
   "source": [
    "credit_cleaned.isnull().any()"
   ]
  },
  {
   "cell_type": "markdown",
   "metadata": {
    "nbgrader": {
     "grade": false,
     "locked": true,
     "solution": false
    }
   },
   "source": [
    "You should see all `False` values, meaning there is no missing data in any of the columns. If so, great!"
   ]
  },
  {
   "cell_type": "markdown",
   "metadata": {
    "nbgrader": {
     "grade": false,
     "locked": true,
     "solution": false
    }
   },
   "source": [
    "**Creating Interaction Terms in the Data**\n",
    "\n",
    "Sometimes, for analysis purposes, it is better to create _interaction predictors_, which are new predictors that modify or combine existing predictors. For example, in a marketing scenario, spending on TV marketing might have a quadratic relationship with the sales of the product. We would hence want to include ** $(\\mathrm{TV\\ marketing})^2$ **  as a predictor to better capture the relationship."
   ]
  },
  {
   "cell_type": "markdown",
   "metadata": {
    "nbgrader": {
     "grade": false,
     "locked": true,
     "solution": false
    }
   },
   "source": [
    "In this final exercise we will create a new predictor that is a combination of the predictors in the dataset **`credit_cleaned`**."
   ]
  },
  {
   "cell_type": "markdown",
   "metadata": {
    "nbgrader": {
     "grade": false,
     "locked": true,
     "solution": false
    }
   },
   "source": [
    "**Exercise 3 (3 points):** Create a function **`familiarity()`** that takes as its inputs a dataframe (`df`), the names of three input columns (`column1`, `column2`, `column3`), and the name of a new output column (`columnnew`). It should compute for the values of this new column what appears in the formula below.\n",
    "\n",
    "**$$\\mathtt{columnnew} = \\frac{\\mathtt{column1}}{e^{\\mathtt{column2}}} - \\sqrt{\\mathtt{column3}},$$**\n",
    "\n",
    "where **$$\\sqrt{\\mathtt{column3}} = (\\mathtt{column3})^{0.5}.$$**\n",
    "\n",
    "The return value for the function will be a dataframe with the new column, **`columnnew`**, **in addition** to all the original columns in the dataframe.\n",
    "\n",
    "> **Note.** If a value in column 3 is negative, so that the square-root is undefined, set the corresponding value in `columnnew` to zero (0)."
   ]
  },
  {
   "cell_type": "code",
   "execution_count": null,
   "metadata": {
    "collapsed": true,
    "nbgrader": {
     "grade": false,
     "grade_id": "Exercise3Response",
     "locked": false,
     "solution": true
    }
   },
   "outputs": [],
   "source": [
    "def familiarity(df, column1, column2, column3, columnnew):\n",
    "    #\n",
    "    # YOUR CODE HERE\n",
    "    #\n"
   ]
  },
  {
   "cell_type": "code",
   "execution_count": null,
   "metadata": {
    "collapsed": true,
    "nbgrader": {
     "grade": true,
     "grade_id": "Exercise 3",
     "locked": true,
     "points": "3",
     "solution": false
    }
   },
   "outputs": [],
   "source": [
    "##Test cell: Exercise 3\n",
    "\n",
    "d={'col1':[1,2,3,4,5], 'col2':[2,3,4,0,4], 'col3':[-9,2,-8,0,0]}\n",
    "df = pd.DataFrame(d)\n",
    "dffamiliarity = familiarity(df, 'col1', 'col2', 'col3', 'colnew')\n",
    "assert dffamiliarity.loc[dffamiliarity['col3']<0,'colnew'].all()==0, \"The non negative case for col3 is failing. Please check your code\"\n",
    "\n",
    "\n",
    "credit_final = familiarity(credit_cleaned, 'Predictor A', 'Predictor C', 'Predictor G', 'Predictor H')\n",
    "assert 'Predictor H' in credit_final, \"Column 'Predictor H' does not exist\"\n",
    "assert len(credit_final) == 612, \"The length of the dataframe does not match the required length\"\n",
    "assert (round(np.sum(credit_final['Predictor H']),2) >= 7262.4) & (round(np.sum(credit_final['Predictor H']),2) <= 7262.5), \"The sum of values in Predictor H do not match the required vlue\"\n",
    "\n",
    "print(\"\\n(Passed!)\")"
   ]
  },
  {
   "cell_type": "markdown",
   "metadata": {
    "nbgrader": {
     "grade": false,
     "locked": true,
     "solution": false
    }
   },
   "source": [
    "At this point, you have completed all the exercises and can go ahead and submit the notebook!\n",
    "\n",
    "However, we have however added a small piece of code below to give you an idea of how simple it is to create a predicitive model in Python. It is **not graded** and hence you can submit this notebook, complete other notebooks and come back and have a look at it!"
   ]
  },
  {
   "cell_type": "code",
   "execution_count": null,
   "metadata": {
    "collapsed": true,
    "nbgrader": {
     "grade": false,
     "locked": false,
     "solution": false
    }
   },
   "outputs": [],
   "source": [
    "from sklearn.cross_validation import train_test_split\n",
    "from sklearn.metrics import accuracy_score\n",
    "from sklearn.ensemble import RandomForestClassifier\n",
    "\n",
    "#Split the dataset into predictors and response\n",
    "datax = credit_final[['Predictor A', 'Predictor C', 'Predictor D', 'Predictor F', 'Predictor G', 'Predictor H']]\n",
    "datay = credit_final[['Response']]\n",
    "\n",
    "#Traintest split - Test sets are created to test the accuracy of your model on a piece of data that is not used to train the model\n",
    "X_train, X_test, y_train, y_test = train_test_split(datax, np.ravel(datay), test_size=0.20, random_state=42)\n",
    "\n",
    "forest = RandomForestClassifier(n_estimators=500) #Number of decision trees in the forest = 500\n",
    "forest.fit(X_train,y_train) #Train the classifier using the train data\n",
    "forest_pred = forest.predict(X_test) #Predict the classes for the test data\n",
    "print(\"The testing accuracy of the random forest classifier is: \",accuracy_score(y_test, forest_pred)) #Print the accuracy of the model"
   ]
  },
  {
   "cell_type": "markdown",
   "metadata": {
    "nbgrader": {
     "grade": false,
     "locked": true,
     "solution": false
    }
   },
   "source": [
    "The accuracy of the model above is about 70% or so. Due to the nature of the dataset being artificial, we don't expect a higher accuracy. Instead, our purpose here is to give you an idea as to how easy it is to do predictive modelling (machine learning) in Python."
   ]
  },
  {
   "cell_type": "markdown",
   "metadata": {
    "nbgrader": {
     "grade": false,
     "locked": true,
     "solution": false
    }
   },
   "source": [
    "\n",
    "**Fin!** That's the end of this problem. Don't forget to restart and run this notebook from the beginning to verify that it works top-to-bottom before submitting. You can move on to the next problem"
   ]
  }
 ],
 "metadata": {
  "celltoolbar": "Create Assignment",
  "kernelspec": {
   "display_name": "Python 3.6 (beta)",
   "language": "python",
   "name": "python36"
  },
  "language_info": {
   "codemirror_mode": {
    "name": "ipython",
    "version": 3
   },
   "file_extension": ".py",
   "mimetype": "text/x-python",
   "name": "python",
   "nbconvert_exporter": "python",
   "pygments_lexer": "ipython3",
   "version": "3.6.4"
  }
 },
 "nbformat": 4,
 "nbformat_minor": 2
}
