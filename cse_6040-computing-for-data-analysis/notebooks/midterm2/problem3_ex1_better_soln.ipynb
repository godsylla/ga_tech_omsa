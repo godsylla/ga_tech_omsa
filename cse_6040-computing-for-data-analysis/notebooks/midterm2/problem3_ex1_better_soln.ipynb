{
 "cells": [
  {
   "cell_type": "code",
   "execution_count": 1,
   "metadata": {},
   "outputs": [],
   "source": [
    "def islandPerimeter(grid):\n",
    "    assert type(grid) is list\n",
    "    import numpy as np\n",
    "    from scipy.signal import convolve2d\n",
    " \n",
    "    island = np.array(grid) # convert given list of lists island into a numpy array\n",
    "    kernel = np.array([[0, 1, 0], [1, 0, 1], [0, 1, 0]]) # create the kernel\n",
    " \n",
    "    conv = convolve2d(island, kernel, mode = 'same') # convolve island with kernel\n",
    "    neighbors = island*conv # then multiply island by convolution to get a count of neighbors for each cell\n",
    " \n",
    "    idx = island.astype(bool) # boolean mask for island non-zero values\n",
    "    ymxb = lambda x: (4-x) # anonymous function to determine perimeter value for each neighbor cell\n",
    "    perimeter = np.sum(ymxb(neighbors[idx])) # use island boolean mask on neighbors (b/c matrices are the same size) and broadcast anonymous function to each cell, then sum values to obtain total perimeter value\n",
    "    return perimeter"
   ]
  },
  {
   "cell_type": "code",
   "execution_count": null,
   "metadata": {},
   "outputs": [],
   "source": []
  }
 ],
 "metadata": {
  "kernelspec": {
   "display_name": "Python 3",
   "language": "python",
   "name": "python3"
  },
  "language_info": {
   "codemirror_mode": {
    "name": "ipython",
    "version": 3
   },
   "file_extension": ".py",
   "mimetype": "text/x-python",
   "name": "python",
   "nbconvert_exporter": "python",
   "pygments_lexer": "ipython3",
   "version": "3.6.5"
  }
 },
 "nbformat": 4,
 "nbformat_minor": 2
}
