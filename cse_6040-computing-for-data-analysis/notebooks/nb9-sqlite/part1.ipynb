{
 "cells": [
  {
   "cell_type": "markdown",
   "metadata": {
    "nbgrader": {
     "grade": false,
     "locked": true,
     "solution": false
    },
    "nbpresent": {
     "id": "ac05e2a5-19d3-459a-be72-15ac33423f4f"
    }
   },
   "source": [
    "# Part 1: NYC 311 calls\n",
    "\n",
    "This notebook derives from a [demo by the makers of plot.ly](https://plot.ly/ipython-notebooks/big-data-analytics-with-pandas-and-sqlite/). We've adapted it to use [Bokeh (and HoloViews)](http://bokeh.pydata.org/en/latest/).\n",
    "\n",
    "You will start with a large database of complaints filed by residents of New York City since 2010 via 311 calls. The full dataset is available at the [NYC open data portal](https://nycopendata.socrata.com/data). At about 6 GB and 10 million complaints, you can infer that a) you might not want to read it all into memory at once, and b) NYC residents have a lot to complain about. (Maybe only conclusion \"a\" is valid.) The notebook then combines the use of `sqlite`, `pandas`, and `bokeh`."
   ]
  },
  {
   "cell_type": "markdown",
   "metadata": {
    "nbgrader": {
     "grade": false,
     "locked": true,
     "solution": false
    }
   },
   "source": [
    "> **Important note.** Due to a limitation in Vocareum's software stack, this notebook is set to use the Python 3.5 kernel (rather than a more up-to-date 3.6 or 3.7 kernel). If you are developing on your local machine and are using a different version of Python, you may need to adapt your solution before submitting to the autograder."
   ]
  },
  {
   "cell_type": "code",
   "execution_count": 1,
   "metadata": {
    "nbgrader": {
     "grade": false,
     "locked": true,
     "solution": false
    }
   },
   "outputs": [
    {
     "name": "stdout",
     "output_type": "stream",
     "text": [
      "=== Python version info ===\n",
      "3.6.5 | packaged by conda-forge | (default, Apr  6 2018, 13:39:56) \n",
      "[GCC 4.8.2 20140120 (Red Hat 4.8.2-15)]\n"
     ]
    }
   ],
   "source": [
    "import sys\n",
    "print(\"=== Python version info ===\\n{}\".format(sys.version))"
   ]
  },
  {
   "cell_type": "markdown",
   "metadata": {
    "nbgrader": {
     "grade": false,
     "locked": true,
     "solution": false
    }
   },
   "source": [
    "## Module setup\n",
    "\n",
    "Before diving in, run the following cells to preload some functions you'll need later."
   ]
  },
  {
   "cell_type": "code",
   "execution_count": 2,
   "metadata": {
    "nbpresent": {
     "id": "19cc7eb8-4336-46cc-b3e3-fe64f194fc73"
    }
   },
   "outputs": [],
   "source": [
    "from IPython.display import display\n",
    "import pandas as pd"
   ]
  },
  {
   "cell_type": "markdown",
   "metadata": {
    "nbgrader": {
     "grade": false,
     "locked": true,
     "solution": false
    },
    "nbpresent": {
     "id": "e5550663-09e1-42e4-a183-f7a2289dd76c"
    }
   },
   "source": [
    "We'll also need some functionality from earlier notebooks."
   ]
  },
  {
   "cell_type": "code",
   "execution_count": 3,
   "metadata": {
    "nbpresent": {
     "id": "48fbd005-a500-48f3-ad9f-66d4658824af"
    }
   },
   "outputs": [],
   "source": [
    "def canonicalize_tibble(X):\n",
    "    var_names = sorted(X.columns)\n",
    "    Y = X[var_names].copy()\n",
    "    Y.sort_values(by=var_names, inplace=True)\n",
    "    Y.reset_index(drop=True, inplace=True)\n",
    "    return Y\n",
    "\n",
    "def tibbles_are_equivalent (A, B):\n",
    "    A_canonical = canonicalize_tibble(A)\n",
    "    B_canonical = canonicalize_tibble(B)\n",
    "    cmp = A_canonical.eq(B_canonical)\n",
    "    return cmp.all().all()\n",
    "\n",
    "def cast(df, key, value, join_how='outer'):\n",
    "    \"\"\"Casts the input data frame into a tibble,\n",
    "    given the key column and value column.\n",
    "    \"\"\"\n",
    "    assert type(df) is pd.DataFrame\n",
    "    assert key in df.columns and value in df.columns\n",
    "    assert join_how in ['outer', 'inner']\n",
    "    \n",
    "    fixed_vars = df.columns.difference([key, value])\n",
    "    tibble = pd.DataFrame(columns=fixed_vars) # empty frame    \n",
    "    new_vars = df[key].unique()\n",
    "    for v in new_vars:\n",
    "        df_v = df[df[key] == v]\n",
    "        del df_v[key]\n",
    "        df_v = df_v.rename(columns={value: v})\n",
    "        tibble = tibble.merge(df_v,\n",
    "                              on=list(fixed_vars),\n",
    "                              how=join_how)    \n",
    "    return tibble"
   ]
  },
  {
   "cell_type": "markdown",
   "metadata": {
    "nbgrader": {
     "grade": false,
     "locked": true,
     "solution": false
    }
   },
   "source": [
    "Lastly, some of the test cells will need some auxiliary files, which the following code cell will check for and, if they are missing, download."
   ]
  },
  {
   "cell_type": "code",
   "execution_count": 4,
   "metadata": {},
   "outputs": [
    {
     "name": "stdout",
     "output_type": "stream",
     "text": [
      "[https://github.com/cse6040/labs-fa17/raw/master/lab9-sql/df_complaints_by_city_soln.csv]\n",
      "==> 'df_complaints_by_city_soln.csv' is already available.\n",
      "==> Checksum test passes: 2a82e5856d5a267db9aafc26f16c3ae1\n",
      "==> 'df_complaints_by_city_soln.csv' is ready!\n",
      "\n",
      "[https://github.com/cse6040/labs-fa17/raw/master/lab9-sql/df_complaints_by_hour_soln.csv]\n",
      "==> 'df_complaints_by_hour_soln.csv' is already available.\n",
      "==> Checksum test passes: f06fcd917876d51ad52ddc13b2fee69e\n",
      "==> 'df_complaints_by_hour_soln.csv' is ready!\n",
      "\n",
      "[https://github.com/cse6040/labs-fa17/raw/master/lab9-sql/df_noisy_by_hour_soln.csv]\n",
      "==> 'df_noisy_by_hour_soln.csv' is already available.\n",
      "==> Checksum test passes: 30f3fa7c753d4d3f4b3edfa1f6d05bcc\n",
      "==> 'df_noisy_by_hour_soln.csv' is ready!\n",
      "\n",
      "[https://github.com/cse6040/labs-fa17/raw/master/lab9-sql/df_plot_stacked_fraction_soln.csv]\n",
      "==> 'df_plot_stacked_fraction_soln.csv' is already available.\n",
      "==> Checksum test passes: 2ca04a3eb24ccc37ddd0f8f5917fb27a\n",
      "==> 'df_plot_stacked_fraction_soln.csv' is ready!\n",
      "\n",
      "(Auxiliary files appear to be ready.)\n"
     ]
    }
   ],
   "source": [
    "import requests\n",
    "import os\n",
    "import hashlib\n",
    "import io\n",
    "\n",
    "def download(file, url_suffix=None, checksum=None):\n",
    "    if url_suffix is None:\n",
    "        url_suffix = file\n",
    "        \n",
    "    if os.path.exists('.voc'):\n",
    "        url = 'https://cse6040.gatech.edu/datasets/{}'.format(url_suffix)\n",
    "    else:\n",
    "        url = 'https://github.com/cse6040/labs-fa17/raw/master/{}'.format(url_suffix)\n",
    "    if os.path.exists(file):\n",
    "        print(\"[{}]\\n==> '{}' is already available.\".format(url, file))\n",
    "    else:\n",
    "        print(\"[{}] Downloading...\".format(url))\n",
    "        r = requests.get(url)\n",
    "        with open(file, 'w', encoding=r.encoding) as f:\n",
    "            f.write(r.text)\n",
    "            \n",
    "    if checksum is not None:\n",
    "        with io.open(file, 'r', encoding='utf-8', errors='replace') as f:\n",
    "            body = f.read()\n",
    "            body_checksum = hashlib.md5(body.encode('utf-8')).hexdigest()\n",
    "            assert body_checksum == checksum, \\\n",
    "                \"Downloaded file '{}' has incorrect checksum: '{}' instead of '{}'\".format(file, body_checksum, checksum)\n",
    "            print(\"==> Checksum test passes: {}\".format(checksum))\n",
    "    \n",
    "    print(\"==> '{}' is ready!\\n\".format(file))\n",
    "    \n",
    "auxfiles = {'df_complaints_by_city_soln.csv': '2a82e5856d5a267db9aafc26f16c3ae1',\n",
    "            'df_complaints_by_hour_soln.csv': 'f06fcd917876d51ad52ddc13b2fee69e',\n",
    "            'df_noisy_by_hour_soln.csv': '30f3fa7c753d4d3f4b3edfa1f6d05bcc',\n",
    "            'df_plot_stacked_fraction_soln.csv': '2ca04a3eb24ccc37ddd0f8f5917fb27a'}\n",
    "\n",
    "for filename, checksum in auxfiles.items():\n",
    "    download(filename, url_suffix='{}/{}'.format('lab9-sql', filename), checksum=checksum)\n",
    "    \n",
    "print(\"(Auxiliary files appear to be ready.)\")"
   ]
  },
  {
   "cell_type": "markdown",
   "metadata": {
    "nbgrader": {
     "grade": false,
     "locked": true,
     "solution": false
    },
    "nbpresent": {
     "id": "e1cd3bf9-e15d-4d7a-98d0-33ba5f0d3bc8"
    }
   },
   "source": [
    "## Viz setup\n",
    "\n",
    "This notebook includes some simple visualizations. This section just ensures you have the right software setup to follow along."
   ]
  },
  {
   "cell_type": "code",
   "execution_count": 5,
   "metadata": {},
   "outputs": [
    {
     "data": {
      "text/html": [
       "\n",
       "    <div class=\"bk-root\">\n",
       "        <a href=\"https://bokeh.pydata.org\" target=\"_blank\" class=\"bk-logo bk-logo-small bk-logo-notebook\"></a>\n",
       "        <span id=\"e1b101f1-ca22-42a3-b817-cef952f96928\">Loading BokehJS ...</span>\n",
       "    </div>"
      ]
     },
     "metadata": {},
     "output_type": "display_data"
    },
    {
     "data": {
      "application/javascript": [
       "\n",
       "(function(root) {\n",
       "  function now() {\n",
       "    return new Date();\n",
       "  }\n",
       "\n",
       "  var force = true;\n",
       "\n",
       "  if (typeof (root._bokeh_onload_callbacks) === \"undefined\" || force === true) {\n",
       "    root._bokeh_onload_callbacks = [];\n",
       "    root._bokeh_is_loading = undefined;\n",
       "  }\n",
       "\n",
       "  var JS_MIME_TYPE = 'application/javascript';\n",
       "  var HTML_MIME_TYPE = 'text/html';\n",
       "  var EXEC_MIME_TYPE = 'application/vnd.bokehjs_exec.v0+json';\n",
       "  var CLASS_NAME = 'output_bokeh rendered_html';\n",
       "\n",
       "  /**\n",
       "   * Render data to the DOM node\n",
       "   */\n",
       "  function render(props, node) {\n",
       "    var script = document.createElement(\"script\");\n",
       "    node.appendChild(script);\n",
       "  }\n",
       "\n",
       "  /**\n",
       "   * Handle when an output is cleared or removed\n",
       "   */\n",
       "  function handleClearOutput(event, handle) {\n",
       "    var cell = handle.cell;\n",
       "\n",
       "    var id = cell.output_area._bokeh_element_id;\n",
       "    var server_id = cell.output_area._bokeh_server_id;\n",
       "    // Clean up Bokeh references\n",
       "    if (id !== undefined) {\n",
       "      Bokeh.index[id].model.document.clear();\n",
       "      delete Bokeh.index[id];\n",
       "    }\n",
       "\n",
       "    if (server_id !== undefined) {\n",
       "      // Clean up Bokeh references\n",
       "      var cmd = \"from bokeh.io.state import curstate; print(curstate().uuid_to_server['\" + server_id + \"'].get_sessions()[0].document.roots[0]._id)\";\n",
       "      cell.notebook.kernel.execute(cmd, {\n",
       "        iopub: {\n",
       "          output: function(msg) {\n",
       "            var element_id = msg.content.text.trim();\n",
       "            Bokeh.index[element_id].model.document.clear();\n",
       "            delete Bokeh.index[element_id];\n",
       "          }\n",
       "        }\n",
       "      });\n",
       "      // Destroy server and session\n",
       "      var cmd = \"import bokeh.io.notebook as ion; ion.destroy_server('\" + server_id + \"')\";\n",
       "      cell.notebook.kernel.execute(cmd);\n",
       "    }\n",
       "  }\n",
       "\n",
       "  /**\n",
       "   * Handle when a new output is added\n",
       "   */\n",
       "  function handleAddOutput(event, handle) {\n",
       "    var output_area = handle.output_area;\n",
       "    var output = handle.output;\n",
       "\n",
       "    // limit handleAddOutput to display_data with EXEC_MIME_TYPE content only\n",
       "    if ((output.output_type != \"display_data\") || (!output.data.hasOwnProperty(EXEC_MIME_TYPE))) {\n",
       "      return\n",
       "    }\n",
       "\n",
       "    var toinsert = output_area.element.find(\".\" + CLASS_NAME.split(' ')[0]);\n",
       "\n",
       "    if (output.metadata[EXEC_MIME_TYPE][\"id\"] !== undefined) {\n",
       "      toinsert[toinsert.length - 1].firstChild.textContent = output.data[JS_MIME_TYPE];\n",
       "      // store reference to embed id on output_area\n",
       "      output_area._bokeh_element_id = output.metadata[EXEC_MIME_TYPE][\"id\"];\n",
       "    }\n",
       "    if (output.metadata[EXEC_MIME_TYPE][\"server_id\"] !== undefined) {\n",
       "      var bk_div = document.createElement(\"div\");\n",
       "      bk_div.innerHTML = output.data[HTML_MIME_TYPE];\n",
       "      var script_attrs = bk_div.children[0].attributes;\n",
       "      for (var i = 0; i < script_attrs.length; i++) {\n",
       "        toinsert[toinsert.length - 1].firstChild.setAttribute(script_attrs[i].name, script_attrs[i].value);\n",
       "      }\n",
       "      // store reference to server id on output_area\n",
       "      output_area._bokeh_server_id = output.metadata[EXEC_MIME_TYPE][\"server_id\"];\n",
       "    }\n",
       "  }\n",
       "\n",
       "  function register_renderer(events, OutputArea) {\n",
       "\n",
       "    function append_mime(data, metadata, element) {\n",
       "      // create a DOM node to render to\n",
       "      var toinsert = this.create_output_subarea(\n",
       "        metadata,\n",
       "        CLASS_NAME,\n",
       "        EXEC_MIME_TYPE\n",
       "      );\n",
       "      this.keyboard_manager.register_events(toinsert);\n",
       "      // Render to node\n",
       "      var props = {data: data, metadata: metadata[EXEC_MIME_TYPE]};\n",
       "      render(props, toinsert[toinsert.length - 1]);\n",
       "      element.append(toinsert);\n",
       "      return toinsert\n",
       "    }\n",
       "\n",
       "    /* Handle when an output is cleared or removed */\n",
       "    events.on('clear_output.CodeCell', handleClearOutput);\n",
       "    events.on('delete.Cell', handleClearOutput);\n",
       "\n",
       "    /* Handle when a new output is added */\n",
       "    events.on('output_added.OutputArea', handleAddOutput);\n",
       "\n",
       "    /**\n",
       "     * Register the mime type and append_mime function with output_area\n",
       "     */\n",
       "    OutputArea.prototype.register_mime_type(EXEC_MIME_TYPE, append_mime, {\n",
       "      /* Is output safe? */\n",
       "      safe: true,\n",
       "      /* Index of renderer in `output_area.display_order` */\n",
       "      index: 0\n",
       "    });\n",
       "  }\n",
       "\n",
       "  // register the mime type if in Jupyter Notebook environment and previously unregistered\n",
       "  if (root.Jupyter !== undefined) {\n",
       "    var events = require('base/js/events');\n",
       "    var OutputArea = require('notebook/js/outputarea').OutputArea;\n",
       "\n",
       "    if (OutputArea.prototype.mime_types().indexOf(EXEC_MIME_TYPE) == -1) {\n",
       "      register_renderer(events, OutputArea);\n",
       "    }\n",
       "  }\n",
       "\n",
       "  \n",
       "  if (typeof (root._bokeh_timeout) === \"undefined\" || force === true) {\n",
       "    root._bokeh_timeout = Date.now() + 5000;\n",
       "    root._bokeh_failed_load = false;\n",
       "  }\n",
       "\n",
       "  var NB_LOAD_WARNING = {'data': {'text/html':\n",
       "     \"<div style='background-color: #fdd'>\\n\"+\n",
       "     \"<p>\\n\"+\n",
       "     \"BokehJS does not appear to have successfully loaded. If loading BokehJS from CDN, this \\n\"+\n",
       "     \"may be due to a slow or bad network connection. Possible fixes:\\n\"+\n",
       "     \"</p>\\n\"+\n",
       "     \"<ul>\\n\"+\n",
       "     \"<li>re-rerun `output_notebook()` to attempt to load from CDN again, or</li>\\n\"+\n",
       "     \"<li>use INLINE resources instead, as so:</li>\\n\"+\n",
       "     \"</ul>\\n\"+\n",
       "     \"<code>\\n\"+\n",
       "     \"from bokeh.resources import INLINE\\n\"+\n",
       "     \"output_notebook(resources=INLINE)\\n\"+\n",
       "     \"</code>\\n\"+\n",
       "     \"</div>\"}};\n",
       "\n",
       "  function display_loaded() {\n",
       "    var el = document.getElementById(\"e1b101f1-ca22-42a3-b817-cef952f96928\");\n",
       "    if (el != null) {\n",
       "      el.textContent = \"BokehJS is loading...\";\n",
       "    }\n",
       "    if (root.Bokeh !== undefined) {\n",
       "      if (el != null) {\n",
       "        el.textContent = \"BokehJS \" + root.Bokeh.version + \" successfully loaded.\";\n",
       "      }\n",
       "    } else if (Date.now() < root._bokeh_timeout) {\n",
       "      setTimeout(display_loaded, 100)\n",
       "    }\n",
       "  }\n",
       "\n",
       "\n",
       "  function run_callbacks() {\n",
       "    try {\n",
       "      root._bokeh_onload_callbacks.forEach(function(callback) { callback() });\n",
       "    }\n",
       "    finally {\n",
       "      delete root._bokeh_onload_callbacks\n",
       "    }\n",
       "    console.info(\"Bokeh: all callbacks have finished\");\n",
       "  }\n",
       "\n",
       "  function load_libs(js_urls, callback) {\n",
       "    root._bokeh_onload_callbacks.push(callback);\n",
       "    if (root._bokeh_is_loading > 0) {\n",
       "      console.log(\"Bokeh: BokehJS is being loaded, scheduling callback at\", now());\n",
       "      return null;\n",
       "    }\n",
       "    if (js_urls == null || js_urls.length === 0) {\n",
       "      run_callbacks();\n",
       "      return null;\n",
       "    }\n",
       "    console.log(\"Bokeh: BokehJS not loaded, scheduling load and callback at\", now());\n",
       "    root._bokeh_is_loading = js_urls.length;\n",
       "    for (var i = 0; i < js_urls.length; i++) {\n",
       "      var url = js_urls[i];\n",
       "      var s = document.createElement('script');\n",
       "      s.src = url;\n",
       "      s.async = false;\n",
       "      s.onreadystatechange = s.onload = function() {\n",
       "        root._bokeh_is_loading--;\n",
       "        if (root._bokeh_is_loading === 0) {\n",
       "          console.log(\"Bokeh: all BokehJS libraries loaded\");\n",
       "          run_callbacks()\n",
       "        }\n",
       "      };\n",
       "      s.onerror = function() {\n",
       "        console.warn(\"failed to load library \" + url);\n",
       "      };\n",
       "      console.log(\"Bokeh: injecting script tag for BokehJS library: \", url);\n",
       "      document.getElementsByTagName(\"head\")[0].appendChild(s);\n",
       "    }\n",
       "  };var element = document.getElementById(\"e1b101f1-ca22-42a3-b817-cef952f96928\");\n",
       "  if (element == null) {\n",
       "    console.log(\"Bokeh: ERROR: autoload.js configured with elementid 'e1b101f1-ca22-42a3-b817-cef952f96928' but no matching script tag was found. \")\n",
       "    return false;\n",
       "  }\n",
       "\n",
       "  var js_urls = [\"https://cdn.pydata.org/bokeh/release/bokeh-0.12.16.min.js\", \"https://cdn.pydata.org/bokeh/release/bokeh-widgets-0.12.16.min.js\", \"https://cdn.pydata.org/bokeh/release/bokeh-tables-0.12.16.min.js\", \"https://cdn.pydata.org/bokeh/release/bokeh-gl-0.12.16.min.js\"];\n",
       "\n",
       "  var inline_js = [\n",
       "    function(Bokeh) {\n",
       "      Bokeh.set_log_level(\"info\");\n",
       "    },\n",
       "    \n",
       "    function(Bokeh) {\n",
       "      \n",
       "    },\n",
       "    function(Bokeh) {\n",
       "      console.log(\"Bokeh: injecting CSS: https://cdn.pydata.org/bokeh/release/bokeh-0.12.16.min.css\");\n",
       "      Bokeh.embed.inject_css(\"https://cdn.pydata.org/bokeh/release/bokeh-0.12.16.min.css\");\n",
       "      console.log(\"Bokeh: injecting CSS: https://cdn.pydata.org/bokeh/release/bokeh-widgets-0.12.16.min.css\");\n",
       "      Bokeh.embed.inject_css(\"https://cdn.pydata.org/bokeh/release/bokeh-widgets-0.12.16.min.css\");\n",
       "      console.log(\"Bokeh: injecting CSS: https://cdn.pydata.org/bokeh/release/bokeh-tables-0.12.16.min.css\");\n",
       "      Bokeh.embed.inject_css(\"https://cdn.pydata.org/bokeh/release/bokeh-tables-0.12.16.min.css\");\n",
       "    }\n",
       "  ];\n",
       "\n",
       "  function run_inline_js() {\n",
       "    \n",
       "    if ((root.Bokeh !== undefined) || (force === true)) {\n",
       "      for (var i = 0; i < inline_js.length; i++) {\n",
       "        inline_js[i].call(root, root.Bokeh);\n",
       "      }if (force === true) {\n",
       "        display_loaded();\n",
       "      }} else if (Date.now() < root._bokeh_timeout) {\n",
       "      setTimeout(run_inline_js, 100);\n",
       "    } else if (!root._bokeh_failed_load) {\n",
       "      console.log(\"Bokeh: BokehJS failed to load within specified timeout.\");\n",
       "      root._bokeh_failed_load = true;\n",
       "    } else if (force !== true) {\n",
       "      var cell = $(document.getElementById(\"e1b101f1-ca22-42a3-b817-cef952f96928\")).parents('.cell').data().cell;\n",
       "      cell.output_area.append_execute_result(NB_LOAD_WARNING)\n",
       "    }\n",
       "\n",
       "  }\n",
       "\n",
       "  if (root._bokeh_is_loading === 0) {\n",
       "    console.log(\"Bokeh: BokehJS loaded, going straight to plotting\");\n",
       "    run_inline_js();\n",
       "  } else {\n",
       "    load_libs(js_urls, function() {\n",
       "      console.log(\"Bokeh: BokehJS plotting callback run at\", now());\n",
       "      run_inline_js();\n",
       "    });\n",
       "  }\n",
       "}(window));"
      ],
      "application/vnd.bokehjs_load.v0+json": "\n(function(root) {\n  function now() {\n    return new Date();\n  }\n\n  var force = true;\n\n  if (typeof (root._bokeh_onload_callbacks) === \"undefined\" || force === true) {\n    root._bokeh_onload_callbacks = [];\n    root._bokeh_is_loading = undefined;\n  }\n\n  \n\n  \n  if (typeof (root._bokeh_timeout) === \"undefined\" || force === true) {\n    root._bokeh_timeout = Date.now() + 5000;\n    root._bokeh_failed_load = false;\n  }\n\n  var NB_LOAD_WARNING = {'data': {'text/html':\n     \"<div style='background-color: #fdd'>\\n\"+\n     \"<p>\\n\"+\n     \"BokehJS does not appear to have successfully loaded. If loading BokehJS from CDN, this \\n\"+\n     \"may be due to a slow or bad network connection. Possible fixes:\\n\"+\n     \"</p>\\n\"+\n     \"<ul>\\n\"+\n     \"<li>re-rerun `output_notebook()` to attempt to load from CDN again, or</li>\\n\"+\n     \"<li>use INLINE resources instead, as so:</li>\\n\"+\n     \"</ul>\\n\"+\n     \"<code>\\n\"+\n     \"from bokeh.resources import INLINE\\n\"+\n     \"output_notebook(resources=INLINE)\\n\"+\n     \"</code>\\n\"+\n     \"</div>\"}};\n\n  function display_loaded() {\n    var el = document.getElementById(\"e1b101f1-ca22-42a3-b817-cef952f96928\");\n    if (el != null) {\n      el.textContent = \"BokehJS is loading...\";\n    }\n    if (root.Bokeh !== undefined) {\n      if (el != null) {\n        el.textContent = \"BokehJS \" + root.Bokeh.version + \" successfully loaded.\";\n      }\n    } else if (Date.now() < root._bokeh_timeout) {\n      setTimeout(display_loaded, 100)\n    }\n  }\n\n\n  function run_callbacks() {\n    try {\n      root._bokeh_onload_callbacks.forEach(function(callback) { callback() });\n    }\n    finally {\n      delete root._bokeh_onload_callbacks\n    }\n    console.info(\"Bokeh: all callbacks have finished\");\n  }\n\n  function load_libs(js_urls, callback) {\n    root._bokeh_onload_callbacks.push(callback);\n    if (root._bokeh_is_loading > 0) {\n      console.log(\"Bokeh: BokehJS is being loaded, scheduling callback at\", now());\n      return null;\n    }\n    if (js_urls == null || js_urls.length === 0) {\n      run_callbacks();\n      return null;\n    }\n    console.log(\"Bokeh: BokehJS not loaded, scheduling load and callback at\", now());\n    root._bokeh_is_loading = js_urls.length;\n    for (var i = 0; i < js_urls.length; i++) {\n      var url = js_urls[i];\n      var s = document.createElement('script');\n      s.src = url;\n      s.async = false;\n      s.onreadystatechange = s.onload = function() {\n        root._bokeh_is_loading--;\n        if (root._bokeh_is_loading === 0) {\n          console.log(\"Bokeh: all BokehJS libraries loaded\");\n          run_callbacks()\n        }\n      };\n      s.onerror = function() {\n        console.warn(\"failed to load library \" + url);\n      };\n      console.log(\"Bokeh: injecting script tag for BokehJS library: \", url);\n      document.getElementsByTagName(\"head\")[0].appendChild(s);\n    }\n  };var element = document.getElementById(\"e1b101f1-ca22-42a3-b817-cef952f96928\");\n  if (element == null) {\n    console.log(\"Bokeh: ERROR: autoload.js configured with elementid 'e1b101f1-ca22-42a3-b817-cef952f96928' but no matching script tag was found. \")\n    return false;\n  }\n\n  var js_urls = [\"https://cdn.pydata.org/bokeh/release/bokeh-0.12.16.min.js\", \"https://cdn.pydata.org/bokeh/release/bokeh-widgets-0.12.16.min.js\", \"https://cdn.pydata.org/bokeh/release/bokeh-tables-0.12.16.min.js\", \"https://cdn.pydata.org/bokeh/release/bokeh-gl-0.12.16.min.js\"];\n\n  var inline_js = [\n    function(Bokeh) {\n      Bokeh.set_log_level(\"info\");\n    },\n    \n    function(Bokeh) {\n      \n    },\n    function(Bokeh) {\n      console.log(\"Bokeh: injecting CSS: https://cdn.pydata.org/bokeh/release/bokeh-0.12.16.min.css\");\n      Bokeh.embed.inject_css(\"https://cdn.pydata.org/bokeh/release/bokeh-0.12.16.min.css\");\n      console.log(\"Bokeh: injecting CSS: https://cdn.pydata.org/bokeh/release/bokeh-widgets-0.12.16.min.css\");\n      Bokeh.embed.inject_css(\"https://cdn.pydata.org/bokeh/release/bokeh-widgets-0.12.16.min.css\");\n      console.log(\"Bokeh: injecting CSS: https://cdn.pydata.org/bokeh/release/bokeh-tables-0.12.16.min.css\");\n      Bokeh.embed.inject_css(\"https://cdn.pydata.org/bokeh/release/bokeh-tables-0.12.16.min.css\");\n    }\n  ];\n\n  function run_inline_js() {\n    \n    if ((root.Bokeh !== undefined) || (force === true)) {\n      for (var i = 0; i < inline_js.length; i++) {\n        inline_js[i].call(root, root.Bokeh);\n      }if (force === true) {\n        display_loaded();\n      }} else if (Date.now() < root._bokeh_timeout) {\n      setTimeout(run_inline_js, 100);\n    } else if (!root._bokeh_failed_load) {\n      console.log(\"Bokeh: BokehJS failed to load within specified timeout.\");\n      root._bokeh_failed_load = true;\n    } else if (force !== true) {\n      var cell = $(document.getElementById(\"e1b101f1-ca22-42a3-b817-cef952f96928\")).parents('.cell').data().cell;\n      cell.output_area.append_execute_result(NB_LOAD_WARNING)\n    }\n\n  }\n\n  if (root._bokeh_is_loading === 0) {\n    console.log(\"Bokeh: BokehJS loaded, going straight to plotting\");\n    run_inline_js();\n  } else {\n    load_libs(js_urls, function() {\n      console.log(\"Bokeh: BokehJS plotting callback run at\", now());\n      run_inline_js();\n    });\n  }\n}(window));"
     },
     "metadata": {},
     "output_type": "display_data"
    }
   ],
   "source": [
    "from bokeh.io import show, output_notebook\n",
    "output_notebook()\n",
    "\n",
    "from bokeh.plotting import figure\n",
    "\n",
    "def make_barchart(df, labels, values, kwargs_figure={}):\n",
    "    assert type(df) is pd.DataFrame\n",
    "    assert type(labels) is str and type(values) is str\n",
    "    p = figure(x_range=list(df[labels].unique()), **kwargs_figure)\n",
    "    p.vbar(x=list(df[labels]), top=list(df[values]), width=0.9)\n",
    "    return p"
   ]
  },
  {
   "cell_type": "code",
   "execution_count": 6,
   "metadata": {},
   "outputs": [
    {
     "data": {
      "text/html": [
       "<div>\n",
       "<style scoped>\n",
       "    .dataframe tbody tr th:only-of-type {\n",
       "        vertical-align: middle;\n",
       "    }\n",
       "\n",
       "    .dataframe tbody tr th {\n",
       "        vertical-align: top;\n",
       "    }\n",
       "\n",
       "    .dataframe thead th {\n",
       "        text-align: right;\n",
       "    }\n",
       "</style>\n",
       "<table border=\"1\" class=\"dataframe\">\n",
       "  <thead>\n",
       "    <tr style=\"text-align: right;\">\n",
       "      <th>category</th>\n",
       "      <th>cat1</th>\n",
       "      <th>cat2</th>\n",
       "      <th>cat3</th>\n",
       "    </tr>\n",
       "    <tr>\n",
       "      <th>week</th>\n",
       "      <th></th>\n",
       "      <th></th>\n",
       "      <th></th>\n",
       "    </tr>\n",
       "  </thead>\n",
       "  <tbody>\n",
       "    <tr>\n",
       "      <th>201720</th>\n",
       "      <td>20</td>\n",
       "      <td>30</td>\n",
       "      <td>40</td>\n",
       "    </tr>\n",
       "    <tr>\n",
       "      <th>201721</th>\n",
       "      <td>20</td>\n",
       "      <td>0</td>\n",
       "      <td>40</td>\n",
       "    </tr>\n",
       "    <tr>\n",
       "      <th>201722</th>\n",
       "      <td>50</td>\n",
       "      <td>60</td>\n",
       "      <td>10</td>\n",
       "    </tr>\n",
       "  </tbody>\n",
       "</table>\n",
       "</div>"
      ],
      "text/plain": [
       "category  cat1  cat2  cat3\n",
       "week                      \n",
       "201720      20    30    40\n",
       "201721      20     0    40\n",
       "201722      50    60    10"
      ]
     },
     "execution_count": 6,
     "metadata": {},
     "output_type": "execute_result"
    }
   ],
   "source": [
    "def demo():\n",
    "    from bokeh.plotting import figure, output_file, show\n",
    "    from bokeh.models import ColumnDataSource\n",
    "    data = [\n",
    "        ['201720', 'cat1', 20],\n",
    "        ['201720', 'cat2', 30],\n",
    "        ['201720', 'cat3', 40],\n",
    "        ['201721', 'cat1', 20],\n",
    "        ['201721', 'cat2', 0],\n",
    "        ['201721', 'cat3', 40],\n",
    "        ['201722', 'cat1', 50],\n",
    "        ['201722', 'cat2', 60],\n",
    "        ['201722', 'cat3', 10],\n",
    "    ]\n",
    "    df = pd.DataFrame(data, columns=['week', 'category', 'count'])\n",
    "    pt = df.pivot('week', 'category', 'count')\n",
    "    pt.cumsum(axis=1)\n",
    "    return df, pt\n",
    "\n",
    "df_demo, pt_demo = demo()\n",
    "pt_demo"
   ]
  },
  {
   "cell_type": "code",
   "execution_count": 7,
   "metadata": {},
   "outputs": [
    {
     "data": {
      "text/html": [
       "\n",
       "<div class=\"bk-root\">\n",
       "    <div class=\"bk-plotdiv\" id=\"33a060c8-44ec-42de-a7a2-ff69bb5db274\"></div>\n",
       "</div>"
      ]
     },
     "metadata": {},
     "output_type": "display_data"
    },
    {
     "data": {
      "application/javascript": [
       "(function(root) {\n",
       "  function embed_document(root) {\n",
       "    \n",
       "  var docs_json = {\"4967dc50-7032-45ed-b3d4-3cc08915b09c\":{\"roots\":{\"references\":[{\"attributes\":{},\"id\":\"1dacf700-15f9-4577-8736-bff2c32b4f46\",\"type\":\"WheelZoomTool\"},{\"attributes\":{\"overlay\":{\"id\":\"c4b719b8-935d-48e6-9a79-c3b8c473a300\",\"type\":\"BoxAnnotation\"}},\"id\":\"8f6c04a1-3b69-4e5b-9c9c-9fb5b07c9b42\",\"type\":\"BoxZoomTool\"},{\"attributes\":{},\"id\":\"bcbb862c-204c-4c00-8264-005daae45a2e\",\"type\":\"SaveTool\"},{\"attributes\":{},\"id\":\"050df03a-fba6-4a27-ae70-fe827013850b\",\"type\":\"ResetTool\"},{\"attributes\":{},\"id\":\"af8cb9ac-3e91-4df4-921f-a6e131fb5cab\",\"type\":\"HelpTool\"},{\"attributes\":{\"bottom_units\":\"screen\",\"fill_alpha\":{\"value\":0.5},\"fill_color\":{\"value\":\"lightgrey\"},\"left_units\":\"screen\",\"level\":\"overlay\",\"line_alpha\":{\"value\":1.0},\"line_color\":{\"value\":\"black\"},\"line_dash\":[4,4],\"line_width\":{\"value\":2},\"plot\":null,\"render_mode\":\"css\",\"right_units\":\"screen\",\"top_units\":\"screen\"},\"id\":\"c4b719b8-935d-48e6-9a79-c3b8c473a300\",\"type\":\"BoxAnnotation\"},{\"attributes\":{\"data_source\":{\"id\":\"ce8eb13d-5d8b-43be-b7d7-59df000c3eb1\",\"type\":\"ColumnDataSource\"},\"glyph\":{\"id\":\"632ff949-5626-4f6d-9d15-4f125f7e2939\",\"type\":\"VBar\"},\"hover_glyph\":null,\"muted_glyph\":null,\"nonselection_glyph\":{\"id\":\"30c73793-634d-4406-b7cd-647746775889\",\"type\":\"VBar\"},\"selection_glyph\":null,\"view\":{\"id\":\"1007d3c3-31cf-4204-8235-d842ea7240dc\",\"type\":\"CDSView\"}},\"id\":\"ac08d60c-7980-4e22-b15e-e368b68f14fa\",\"type\":\"GlyphRenderer\"},{\"attributes\":{\"active_drag\":\"auto\",\"active_inspect\":\"auto\",\"active_scroll\":\"auto\",\"active_tap\":\"auto\",\"tools\":[{\"id\":\"1509f3a8-fd01-4294-a9eb-eecc29d4a7a1\",\"type\":\"PanTool\"},{\"id\":\"1dacf700-15f9-4577-8736-bff2c32b4f46\",\"type\":\"WheelZoomTool\"},{\"id\":\"8f6c04a1-3b69-4e5b-9c9c-9fb5b07c9b42\",\"type\":\"BoxZoomTool\"},{\"id\":\"bcbb862c-204c-4c00-8264-005daae45a2e\",\"type\":\"SaveTool\"},{\"id\":\"050df03a-fba6-4a27-ae70-fe827013850b\",\"type\":\"ResetTool\"},{\"id\":\"af8cb9ac-3e91-4df4-921f-a6e131fb5cab\",\"type\":\"HelpTool\"}]},\"id\":\"201a01f5-f147-4dab-b483-a9b5b60cc72c\",\"type\":\"Toolbar\"},{\"attributes\":{\"label\":{\"value\":\"cat1\"},\"renderers\":[{\"id\":\"ac08d60c-7980-4e22-b15e-e368b68f14fa\",\"type\":\"GlyphRenderer\"}]},\"id\":\"6836beac-d1a9-46d3-93fa-0985df2da906\",\"type\":\"LegendItem\"},{\"attributes\":{\"source\":{\"id\":\"ce8eb13d-5d8b-43be-b7d7-59df000c3eb1\",\"type\":\"ColumnDataSource\"}},\"id\":\"1007d3c3-31cf-4204-8235-d842ea7240dc\",\"type\":\"CDSView\"},{\"attributes\":{\"callback\":null,\"data\":{\"bottom\":[30,0,60],\"top\":[40,40,10],\"x\":[\"201720\",\"201721\",\"201722\"]},\"selected\":{\"id\":\"417cd506-80ac-4f03-b463-546a13dcac2d\",\"type\":\"Selection\"},\"selection_policy\":{\"id\":\"ad90cf16-7ad0-482a-bac6-a66e82cb59d4\",\"type\":\"UnionRenderers\"}},\"id\":\"d094e710-2597-45ad-a894-04bf5b3af806\",\"type\":\"ColumnDataSource\"},{\"attributes\":{},\"id\":\"d583955f-6afe-4df4-bb51-2cd1e4e0f309\",\"type\":\"CategoricalTickFormatter\"},{\"attributes\":{\"fill_color\":{\"value\":\"red\"},\"line_color\":{\"value\":\"red\"},\"top\":{\"field\":\"top\"},\"width\":{\"value\":0.2},\"x\":{\"field\":\"x\"}},\"id\":\"632ff949-5626-4f6d-9d15-4f125f7e2939\",\"type\":\"VBar\"},{\"attributes\":{\"items\":[{\"id\":\"6836beac-d1a9-46d3-93fa-0985df2da906\",\"type\":\"LegendItem\"},{\"id\":\"b10d07f8-7659-40f7-853a-25b1ff686639\",\"type\":\"LegendItem\"},{\"id\":\"aaa2818a-3875-42f4-aa2c-0183f28b9970\",\"type\":\"LegendItem\"}],\"plot\":{\"id\":\"2a586422-530f-4837-a0d9-caea16bedc75\",\"subtype\":\"Figure\",\"type\":\"Plot\"}},\"id\":\"854292a6-fc9a-483b-a991-41d9daf7ff44\",\"type\":\"Legend\"},{\"attributes\":{\"callback\":null,\"factors\":[\"201720\",\"201721\",\"201722\"]},\"id\":\"0619c9d7-70bd-47d5-a993-705e660a7e99\",\"type\":\"FactorRange\"},{\"attributes\":{\"callback\":null,\"data\":{\"bottom\":[20,20,50],\"top\":[30,0,60],\"x\":[\"201720\",\"201721\",\"201722\"]},\"selected\":{\"id\":\"7df8b9be-28de-4eff-b0fc-7746e06a09f9\",\"type\":\"Selection\"},\"selection_policy\":{\"id\":\"f9f12e4e-efba-482d-be57-a05d1f0108d4\",\"type\":\"UnionRenderers\"}},\"id\":\"3816078c-519f-4401-bbcf-ffd1aec91147\",\"type\":\"ColumnDataSource\"},{\"attributes\":{\"data_source\":{\"id\":\"3816078c-519f-4401-bbcf-ffd1aec91147\",\"type\":\"ColumnDataSource\"},\"glyph\":{\"id\":\"d5df5c91-3427-40d7-b13b-d957bec7e632\",\"type\":\"VBar\"},\"hover_glyph\":null,\"muted_glyph\":null,\"nonselection_glyph\":{\"id\":\"6ff9b90e-d98c-4742-bc73-9ddbfff28f6b\",\"type\":\"VBar\"},\"selection_glyph\":null,\"view\":{\"id\":\"73e63975-bfd7-427d-9421-cf72f74e4728\",\"type\":\"CDSView\"}},\"id\":\"7ed85553-978f-4be7-b8ba-f338350a5f78\",\"type\":\"GlyphRenderer\"},{\"attributes\":{\"bottom\":{\"field\":\"bottom\"},\"fill_alpha\":{\"value\":0.1},\"fill_color\":{\"value\":\"#1f77b4\"},\"line_alpha\":{\"value\":0.1},\"line_color\":{\"value\":\"#1f77b4\"},\"top\":{\"field\":\"top\"},\"width\":{\"value\":0.2},\"x\":{\"field\":\"x\"}},\"id\":\"6ff9b90e-d98c-4742-bc73-9ddbfff28f6b\",\"type\":\"VBar\"},{\"attributes\":{\"source\":{\"id\":\"3816078c-519f-4401-bbcf-ffd1aec91147\",\"type\":\"ColumnDataSource\"}},\"id\":\"73e63975-bfd7-427d-9421-cf72f74e4728\",\"type\":\"CDSView\"},{\"attributes\":{\"data_source\":{\"id\":\"d094e710-2597-45ad-a894-04bf5b3af806\",\"type\":\"ColumnDataSource\"},\"glyph\":{\"id\":\"94b61312-e30a-44db-8ed7-6a937f025e6a\",\"type\":\"VBar\"},\"hover_glyph\":null,\"muted_glyph\":null,\"nonselection_glyph\":{\"id\":\"11003a4d-1b00-48bd-8dcd-4abadd780aef\",\"type\":\"VBar\"},\"selection_glyph\":null,\"view\":{\"id\":\"f13fcd4e-53ea-41c2-93ee-0f402ab88901\",\"type\":\"CDSView\"}},\"id\":\"f76408e9-971f-4c68-a5d8-7c36ef952470\",\"type\":\"GlyphRenderer\"},{\"attributes\":{},\"id\":\"1ae4d54a-b683-4df2-8951-bf51d893a113\",\"type\":\"BasicTicker\"},{\"attributes\":{},\"id\":\"b6b266d8-d2c3-4103-a20f-96f212b53581\",\"type\":\"UnionRenderers\"},{\"attributes\":{\"below\":[{\"id\":\"457c9d13-ec77-4c15-a8b8-e8e52d8cab40\",\"type\":\"CategoricalAxis\"}],\"left\":[{\"id\":\"0f75d608-255e-4cb5-81d4-f6a008675165\",\"type\":\"LinearAxis\"}],\"plot_height\":300,\"plot_width\":500,\"renderers\":[{\"id\":\"457c9d13-ec77-4c15-a8b8-e8e52d8cab40\",\"type\":\"CategoricalAxis\"},{\"id\":\"757fd0c8-4392-4e31-8a27-74601b62265c\",\"type\":\"Grid\"},{\"id\":\"0f75d608-255e-4cb5-81d4-f6a008675165\",\"type\":\"LinearAxis\"},{\"id\":\"42747d96-3f44-49a7-a537-62ac31c2706b\",\"type\":\"Grid\"},{\"id\":\"c4b719b8-935d-48e6-9a79-c3b8c473a300\",\"type\":\"BoxAnnotation\"},{\"id\":\"854292a6-fc9a-483b-a991-41d9daf7ff44\",\"type\":\"Legend\"},{\"id\":\"ac08d60c-7980-4e22-b15e-e368b68f14fa\",\"type\":\"GlyphRenderer\"},{\"id\":\"7ed85553-978f-4be7-b8ba-f338350a5f78\",\"type\":\"GlyphRenderer\"},{\"id\":\"f76408e9-971f-4c68-a5d8-7c36ef952470\",\"type\":\"GlyphRenderer\"}],\"title\":{\"id\":\"f22882d2-aa9d-44aa-9d11-ee401c674041\",\"type\":\"Title\"},\"toolbar\":{\"id\":\"201a01f5-f147-4dab-b483-a9b5b60cc72c\",\"type\":\"Toolbar\"},\"x_range\":{\"id\":\"0619c9d7-70bd-47d5-a993-705e660a7e99\",\"type\":\"FactorRange\"},\"x_scale\":{\"id\":\"a35348ce-3116-422b-952f-8bb105f6e746\",\"type\":\"CategoricalScale\"},\"y_range\":{\"id\":\"0f787c8d-2f86-4d1f-833c-f15633667899\",\"type\":\"DataRange1d\"},\"y_scale\":{\"id\":\"cffdf59d-2323-427a-aaf1-18d35bf159e7\",\"type\":\"LinearScale\"}},\"id\":\"2a586422-530f-4837-a0d9-caea16bedc75\",\"subtype\":\"Figure\",\"type\":\"Plot\"},{\"attributes\":{},\"id\":\"af0aa059-63f7-4479-908a-0c391a07fff3\",\"type\":\"Selection\"},{\"attributes\":{\"axis_label\":\"category\",\"formatter\":{\"id\":\"29696f98-9247-420c-92ef-b6a5d4426d45\",\"type\":\"BasicTickFormatter\"},\"plot\":{\"id\":\"2a586422-530f-4837-a0d9-caea16bedc75\",\"subtype\":\"Figure\",\"type\":\"Plot\"},\"ticker\":{\"id\":\"1ae4d54a-b683-4df2-8951-bf51d893a113\",\"type\":\"BasicTicker\"}},\"id\":\"0f75d608-255e-4cb5-81d4-f6a008675165\",\"type\":\"LinearAxis\"},{\"attributes\":{},\"id\":\"7df8b9be-28de-4eff-b0fc-7746e06a09f9\",\"type\":\"Selection\"},{\"attributes\":{},\"id\":\"8a1191c2-bf2d-4e9e-93cf-c8d99ed8a762\",\"type\":\"CategoricalTicker\"},{\"attributes\":{\"bottom\":{\"field\":\"bottom\"},\"fill_alpha\":{\"value\":0.1},\"fill_color\":{\"value\":\"#1f77b4\"},\"line_alpha\":{\"value\":0.1},\"line_color\":{\"value\":\"#1f77b4\"},\"top\":{\"field\":\"top\"},\"width\":{\"value\":0.2},\"x\":{\"field\":\"x\"}},\"id\":\"11003a4d-1b00-48bd-8dcd-4abadd780aef\",\"type\":\"VBar\"},{\"attributes\":{\"plot\":{\"id\":\"2a586422-530f-4837-a0d9-caea16bedc75\",\"subtype\":\"Figure\",\"type\":\"Plot\"},\"ticker\":{\"id\":\"8a1191c2-bf2d-4e9e-93cf-c8d99ed8a762\",\"type\":\"CategoricalTicker\"}},\"id\":\"757fd0c8-4392-4e31-8a27-74601b62265c\",\"type\":\"Grid\"},{\"attributes\":{\"bottom\":{\"field\":\"bottom\"},\"fill_color\":{\"value\":\"green\"},\"line_color\":{\"value\":\"green\"},\"top\":{\"field\":\"top\"},\"width\":{\"value\":0.2},\"x\":{\"field\":\"x\"}},\"id\":\"94b61312-e30a-44db-8ed7-6a937f025e6a\",\"type\":\"VBar\"},{\"attributes\":{},\"id\":\"29696f98-9247-420c-92ef-b6a5d4426d45\",\"type\":\"BasicTickFormatter\"},{\"attributes\":{\"label\":{\"value\":\"cat2\"},\"renderers\":[{\"id\":\"7ed85553-978f-4be7-b8ba-f338350a5f78\",\"type\":\"GlyphRenderer\"}]},\"id\":\"b10d07f8-7659-40f7-853a-25b1ff686639\",\"type\":\"LegendItem\"},{\"attributes\":{},\"id\":\"a35348ce-3116-422b-952f-8bb105f6e746\",\"type\":\"CategoricalScale\"},{\"attributes\":{\"dimension\":1,\"plot\":{\"id\":\"2a586422-530f-4837-a0d9-caea16bedc75\",\"subtype\":\"Figure\",\"type\":\"Plot\"},\"ticker\":{\"id\":\"1ae4d54a-b683-4df2-8951-bf51d893a113\",\"type\":\"BasicTicker\"}},\"id\":\"42747d96-3f44-49a7-a537-62ac31c2706b\",\"type\":\"Grid\"},{\"attributes\":{\"source\":{\"id\":\"d094e710-2597-45ad-a894-04bf5b3af806\",\"type\":\"ColumnDataSource\"}},\"id\":\"f13fcd4e-53ea-41c2-93ee-0f402ab88901\",\"type\":\"CDSView\"},{\"attributes\":{\"axis_label\":\"week\",\"formatter\":{\"id\":\"d583955f-6afe-4df4-bb51-2cd1e4e0f309\",\"type\":\"CategoricalTickFormatter\"},\"plot\":{\"id\":\"2a586422-530f-4837-a0d9-caea16bedc75\",\"subtype\":\"Figure\",\"type\":\"Plot\"},\"ticker\":{\"id\":\"8a1191c2-bf2d-4e9e-93cf-c8d99ed8a762\",\"type\":\"CategoricalTicker\"}},\"id\":\"457c9d13-ec77-4c15-a8b8-e8e52d8cab40\",\"type\":\"CategoricalAxis\"},{\"attributes\":{},\"id\":\"ad90cf16-7ad0-482a-bac6-a66e82cb59d4\",\"type\":\"UnionRenderers\"},{\"attributes\":{\"callback\":null},\"id\":\"0f787c8d-2f86-4d1f-833c-f15633667899\",\"type\":\"DataRange1d\"},{\"attributes\":{},\"id\":\"f9f12e4e-efba-482d-be57-a05d1f0108d4\",\"type\":\"UnionRenderers\"},{\"attributes\":{\"plot\":null,\"text\":\"count\"},\"id\":\"f22882d2-aa9d-44aa-9d11-ee401c674041\",\"type\":\"Title\"},{\"attributes\":{\"bottom\":{\"field\":\"bottom\"},\"fill_color\":{\"value\":\"blue\"},\"line_color\":{\"value\":\"blue\"},\"top\":{\"field\":\"top\"},\"width\":{\"value\":0.2},\"x\":{\"field\":\"x\"}},\"id\":\"d5df5c91-3427-40d7-b13b-d957bec7e632\",\"type\":\"VBar\"},{\"attributes\":{},\"id\":\"cffdf59d-2323-427a-aaf1-18d35bf159e7\",\"type\":\"LinearScale\"},{\"attributes\":{\"label\":{\"value\":\"cat3\"},\"renderers\":[{\"id\":\"f76408e9-971f-4c68-a5d8-7c36ef952470\",\"type\":\"GlyphRenderer\"}]},\"id\":\"aaa2818a-3875-42f4-aa2c-0183f28b9970\",\"type\":\"LegendItem\"},{\"attributes\":{\"fill_alpha\":{\"value\":0.1},\"fill_color\":{\"value\":\"#1f77b4\"},\"line_alpha\":{\"value\":0.1},\"line_color\":{\"value\":\"#1f77b4\"},\"top\":{\"field\":\"top\"},\"width\":{\"value\":0.2},\"x\":{\"field\":\"x\"}},\"id\":\"30c73793-634d-4406-b7cd-647746775889\",\"type\":\"VBar\"},{\"attributes\":{\"callback\":null,\"data\":{\"top\":[20,20,50],\"x\":[\"201720\",\"201721\",\"201722\"]},\"selected\":{\"id\":\"af0aa059-63f7-4479-908a-0c391a07fff3\",\"type\":\"Selection\"},\"selection_policy\":{\"id\":\"b6b266d8-d2c3-4103-a20f-96f212b53581\",\"type\":\"UnionRenderers\"}},\"id\":\"ce8eb13d-5d8b-43be-b7d7-59df000c3eb1\",\"type\":\"ColumnDataSource\"},{\"attributes\":{},\"id\":\"417cd506-80ac-4f03-b463-546a13dcac2d\",\"type\":\"Selection\"},{\"attributes\":{},\"id\":\"1509f3a8-fd01-4294-a9eb-eecc29d4a7a1\",\"type\":\"PanTool\"}],\"root_ids\":[\"2a586422-530f-4837-a0d9-caea16bedc75\"]},\"title\":\"Bokeh Application\",\"version\":\"0.12.16\"}};\n",
       "  var render_items = [{\"docid\":\"4967dc50-7032-45ed-b3d4-3cc08915b09c\",\"elementid\":\"33a060c8-44ec-42de-a7a2-ff69bb5db274\",\"modelid\":\"2a586422-530f-4837-a0d9-caea16bedc75\"}];\n",
       "  root.Bokeh.embed.embed_items_notebook(docs_json, render_items);\n",
       "\n",
       "  }\n",
       "  if (root.Bokeh !== undefined) {\n",
       "    embed_document(root);\n",
       "  } else {\n",
       "    var attempts = 0;\n",
       "    var timer = setInterval(function(root) {\n",
       "      if (root.Bokeh !== undefined) {\n",
       "        embed_document(root);\n",
       "        clearInterval(timer);\n",
       "      }\n",
       "      attempts++;\n",
       "      if (attempts > 100) {\n",
       "        console.log(\"Bokeh: ERROR: Unable to run BokehJS code because BokehJS library is missing\")\n",
       "        clearInterval(timer);\n",
       "      }\n",
       "    }, 10, root)\n",
       "  }\n",
       "})(window);"
      ],
      "application/vnd.bokehjs_exec.v0+json": ""
     },
     "metadata": {
      "application/vnd.bokehjs_exec.v0+json": {
       "id": "2a586422-530f-4837-a0d9-caea16bedc75"
      }
     },
     "output_type": "display_data"
    }
   ],
   "source": [
    "def demo_stacked_bar(pt):\n",
    "    from bokeh.models.ranges import FactorRange\n",
    "    p = figure(title=\"count\",\n",
    "               x_axis_label='week', y_axis_label='category',\n",
    "               x_range = FactorRange(factors=list(pt.index)),\n",
    "               plot_height=300, plot_width=500)\n",
    "    p.vbar(x=pt.index, bottom=0, top=pt.cat1, width=0.2, color='red', legend='cat1')\n",
    "    p.vbar(x=pt.index, bottom=pt.cat1, top=pt.cat2, width=0.2, color='blue', legend='cat2')\n",
    "    p.vbar(x=pt.index, bottom=pt.cat2, top=pt.cat3, width=0.2, color='green', legend='cat3')\n",
    "    show(p)\n",
    "    \n",
    "demo_stacked_bar(pt_demo)"
   ]
  },
  {
   "cell_type": "code",
   "execution_count": 8,
   "metadata": {},
   "outputs": [],
   "source": [
    "# Adapted from a mashup of:\n",
    "# - https://bokeh.pydata.org/en/latest/docs/user_guide/categorical.html#userguide-categorical\n",
    "# - https://groups.google.com/a/continuum.io/forum/#!topic/bokeh/x8j6EvJRty8\n",
    "#\n",
    "# This code is a hack to workaround an old installation of bokeh on Vocareum.\n",
    "\n",
    "from bokeh.models import ColumnDataSource\n",
    "from bokeh.plotting import figure\n",
    "\n",
    "def make_stacked_bar(df, x_var, cat_var, y_var, fillna=True,\n",
    "                     x_labels=None, bar_labels=None,\n",
    "                     kwargs_figure={}):\n",
    "    from bokeh.core.properties import value\n",
    "    from bokeh.models.ranges import FactorRange\n",
    "\n",
    "    assert type(x_var) is str, \"x-variable should be a string but isn't.\"\n",
    "    assert type(cat_var) is str, \"category variable should be a string but isn't.\"\n",
    "    assert type(y_var) is str, \"y-variable should be a string but isn't.\"\n",
    "    \n",
    "    pt = df.pivot(x_var, cat_var, y_var)\n",
    "    if fillna:\n",
    "        pt.fillna(0, inplace=True)\n",
    "    pt = pt.cumsum(axis=1)\n",
    "    bar_vars = pt.columns\n",
    "    \n",
    "    from bokeh.palettes import brewer\n",
    "    assert len(bar_vars) in brewer['Dark2'], \"Not enough colors.\"\n",
    "\n",
    "    x = x_labels if x_labels is not None else FactorRange(factors=list(pt.index))\n",
    "    legend = bar_labels if bar_labels is not None else list(bar_vars)\n",
    "    colors = brewer['Dark2'][len(bar_vars)]\n",
    "    source = ColumnDataSource(data=df)\n",
    "\n",
    "    p = figure(x_range=x, **kwargs_figure)\n",
    "    bot = 0\n",
    "    for k, var in enumerate(bar_vars):\n",
    "        p.vbar(x=pt.index, bottom=bot, top=pt[var], color=colors[k], legend=var, width=0.25)\n",
    "        bot = pt[var]\n",
    "    return p"
   ]
  },
  {
   "cell_type": "code",
   "execution_count": 9,
   "metadata": {
    "nbpresent": {
     "id": "44a7ba22-db47-4da9-bf5c-1fae5abe3119"
    },
    "scrolled": true
   },
   "outputs": [
    {
     "data": {
      "text/html": [
       "<div>\n",
       "<style scoped>\n",
       "    .dataframe tbody tr th:only-of-type {\n",
       "        vertical-align: middle;\n",
       "    }\n",
       "\n",
       "    .dataframe tbody tr th {\n",
       "        vertical-align: top;\n",
       "    }\n",
       "\n",
       "    .dataframe thead th {\n",
       "        text-align: right;\n",
       "    }\n",
       "</style>\n",
       "<table border=\"1\" class=\"dataframe\">\n",
       "  <thead>\n",
       "    <tr style=\"text-align: right;\">\n",
       "      <th></th>\n",
       "      <th>Names</th>\n",
       "      <th>Births</th>\n",
       "    </tr>\n",
       "  </thead>\n",
       "  <tbody>\n",
       "    <tr>\n",
       "      <th>0</th>\n",
       "      <td>Bob</td>\n",
       "      <td>968</td>\n",
       "    </tr>\n",
       "    <tr>\n",
       "      <th>1</th>\n",
       "      <td>Jessica</td>\n",
       "      <td>155</td>\n",
       "    </tr>\n",
       "    <tr>\n",
       "      <th>2</th>\n",
       "      <td>Mary</td>\n",
       "      <td>77</td>\n",
       "    </tr>\n",
       "    <tr>\n",
       "      <th>3</th>\n",
       "      <td>John</td>\n",
       "      <td>578</td>\n",
       "    </tr>\n",
       "    <tr>\n",
       "      <th>4</th>\n",
       "      <td>Mel</td>\n",
       "      <td>973</td>\n",
       "    </tr>\n",
       "  </tbody>\n",
       "</table>\n",
       "</div>"
      ],
      "text/plain": [
       "     Names  Births\n",
       "0      Bob     968\n",
       "1  Jessica     155\n",
       "2     Mary      77\n",
       "3     John     578\n",
       "4      Mel     973"
      ]
     },
     "metadata": {},
     "output_type": "display_data"
    }
   ],
   "source": [
    "# Build a Pandas data frame\n",
    "names = ['Bob','Jessica','Mary','John','Mel']\n",
    "births = [968, 155, 77, 578, 973]\n",
    "name_birth_pairs = list(zip(names, births))\n",
    "baby_names = pd.DataFrame(data=name_birth_pairs, columns=['Names', 'Births'])\n",
    "display(baby_names)"
   ]
  },
  {
   "cell_type": "markdown",
   "metadata": {},
   "source": [
    "> When you run `make_barchart()`, in the following code cell as well as subsequent ones, you can safely ignore any `FutureWarning` messages you see from Bokeh."
   ]
  },
  {
   "cell_type": "code",
   "execution_count": 10,
   "metadata": {
    "nbpresent": {
     "id": "11732f28-b968-4f34-95fe-df6198342524"
    }
   },
   "outputs": [
    {
     "data": {
      "text/html": [
       "\n",
       "<div class=\"bk-root\">\n",
       "    <div class=\"bk-plotdiv\" id=\"30a36867-1195-4868-b755-cdad0e269b6e\"></div>\n",
       "</div>"
      ]
     },
     "metadata": {},
     "output_type": "display_data"
    },
    {
     "data": {
      "application/javascript": [
       "(function(root) {\n",
       "  function embed_document(root) {\n",
       "    \n",
       "  var docs_json = {\"76e9cb0c-9abf-44be-827d-02a7fe462d0a\":{\"roots\":{\"references\":[{\"attributes\":{},\"id\":\"d61c73e8-b284-4a7e-ba52-258abb7229b4\",\"type\":\"HelpTool\"},{\"attributes\":{\"overlay\":{\"id\":\"58fa689a-c5ba-433d-a20e-60a0f6c57dbd\",\"type\":\"BoxAnnotation\"}},\"id\":\"fb944c30-12b5-4c82-bd32-666cd27beea2\",\"type\":\"BoxZoomTool\"},{\"attributes\":{\"formatter\":{\"id\":\"d00fdb48-0ec6-43e2-82b6-94dc6877ef59\",\"type\":\"BasicTickFormatter\"},\"plot\":{\"id\":\"f8417992-6c41-409d-9707-e2ba6242285b\",\"subtype\":\"Figure\",\"type\":\"Plot\"},\"ticker\":{\"id\":\"6a62f5cc-916c-4daf-b30f-38cba18b03ac\",\"type\":\"BasicTicker\"}},\"id\":\"5e4dc6a2-2354-427f-bfdc-c08cd70b8b5b\",\"type\":\"LinearAxis\"},{\"attributes\":{\"callback\":null,\"factors\":[\"Bob\",\"Jessica\",\"Mary\",\"John\",\"Mel\"]},\"id\":\"b28800e3-06a5-4572-94ab-920f34dbab83\",\"type\":\"FactorRange\"},{\"attributes\":{},\"id\":\"1232812e-b876-4d8f-8c7d-1f7d085c523e\",\"type\":\"ResetTool\"},{\"attributes\":{\"bottom_units\":\"screen\",\"fill_alpha\":{\"value\":0.5},\"fill_color\":{\"value\":\"lightgrey\"},\"left_units\":\"screen\",\"level\":\"overlay\",\"line_alpha\":{\"value\":1.0},\"line_color\":{\"value\":\"black\"},\"line_dash\":[4,4],\"line_width\":{\"value\":2},\"plot\":null,\"render_mode\":\"css\",\"right_units\":\"screen\",\"top_units\":\"screen\"},\"id\":\"58fa689a-c5ba-433d-a20e-60a0f6c57dbd\",\"type\":\"BoxAnnotation\"},{\"attributes\":{\"fill_color\":{\"value\":\"#1f77b4\"},\"line_color\":{\"value\":\"#1f77b4\"},\"top\":{\"field\":\"top\"},\"width\":{\"value\":0.9},\"x\":{\"field\":\"x\"}},\"id\":\"e67fdc3f-4f10-4cfc-b00d-b43a60a7ed1d\",\"type\":\"VBar\"},{\"attributes\":{},\"id\":\"090bdc8a-dbac-4160-8d11-5bde93e009f7\",\"type\":\"WheelZoomTool\"},{\"attributes\":{},\"id\":\"732bcee5-667a-442f-b82e-f904584085bb\",\"type\":\"LinearScale\"},{\"attributes\":{},\"id\":\"bbc1cfce-dcc1-4897-bc99-85d790770d1d\",\"type\":\"PanTool\"},{\"attributes\":{\"callback\":null,\"data\":{\"top\":[968,155,77,578,973],\"x\":[\"Bob\",\"Jessica\",\"Mary\",\"John\",\"Mel\"]},\"selected\":{\"id\":\"b42bc927-90d8-4bf9-866a-9f0073a2cc99\",\"type\":\"Selection\"},\"selection_policy\":{\"id\":\"0d74ed40-c60c-4c34-9ca6-fbb36e055013\",\"type\":\"UnionRenderers\"}},\"id\":\"6c65d9e8-5647-42cf-881b-d1194aea5404\",\"type\":\"ColumnDataSource\"},{\"attributes\":{},\"id\":\"b42bc927-90d8-4bf9-866a-9f0073a2cc99\",\"type\":\"Selection\"},{\"attributes\":{\"fill_alpha\":{\"value\":0.1},\"fill_color\":{\"value\":\"#1f77b4\"},\"line_alpha\":{\"value\":0.1},\"line_color\":{\"value\":\"#1f77b4\"},\"top\":{\"field\":\"top\"},\"width\":{\"value\":0.9},\"x\":{\"field\":\"x\"}},\"id\":\"9f424279-f088-41b9-9002-9b1a3b98a346\",\"type\":\"VBar\"},{\"attributes\":{\"formatter\":{\"id\":\"c2740ad6-a2e0-4746-b9f5-53e1207cee1e\",\"type\":\"CategoricalTickFormatter\"},\"plot\":{\"id\":\"f8417992-6c41-409d-9707-e2ba6242285b\",\"subtype\":\"Figure\",\"type\":\"Plot\"},\"ticker\":{\"id\":\"d44e0ce8-3917-4661-8ab5-438f1f2df78b\",\"type\":\"CategoricalTicker\"}},\"id\":\"1a57abe0-3c76-4eca-9372-26a73bdd07c9\",\"type\":\"CategoricalAxis\"},{\"attributes\":{\"plot\":null,\"text\":\"\"},\"id\":\"5e7bdbfe-8723-4a50-bc50-7d5b5fbe3d38\",\"type\":\"Title\"},{\"attributes\":{},\"id\":\"0d74ed40-c60c-4c34-9ca6-fbb36e055013\",\"type\":\"UnionRenderers\"},{\"attributes\":{\"dimension\":1,\"plot\":{\"id\":\"f8417992-6c41-409d-9707-e2ba6242285b\",\"subtype\":\"Figure\",\"type\":\"Plot\"},\"ticker\":{\"id\":\"6a62f5cc-916c-4daf-b30f-38cba18b03ac\",\"type\":\"BasicTicker\"}},\"id\":\"b8e7433a-960b-424f-9782-ba3f98c8d587\",\"type\":\"Grid\"},{\"attributes\":{},\"id\":\"c2740ad6-a2e0-4746-b9f5-53e1207cee1e\",\"type\":\"CategoricalTickFormatter\"},{\"attributes\":{\"callback\":null},\"id\":\"fbc07b10-94e7-41d3-8fcc-ef761efa2764\",\"type\":\"DataRange1d\"},{\"attributes\":{\"data_source\":{\"id\":\"6c65d9e8-5647-42cf-881b-d1194aea5404\",\"type\":\"ColumnDataSource\"},\"glyph\":{\"id\":\"e67fdc3f-4f10-4cfc-b00d-b43a60a7ed1d\",\"type\":\"VBar\"},\"hover_glyph\":null,\"muted_glyph\":null,\"nonselection_glyph\":{\"id\":\"9f424279-f088-41b9-9002-9b1a3b98a346\",\"type\":\"VBar\"},\"selection_glyph\":null,\"view\":{\"id\":\"799d2869-b536-4a39-b675-1ccb54042b99\",\"type\":\"CDSView\"}},\"id\":\"85c2d97c-d9fd-44ec-9507-887e12f21de1\",\"type\":\"GlyphRenderer\"},{\"attributes\":{\"plot\":{\"id\":\"f8417992-6c41-409d-9707-e2ba6242285b\",\"subtype\":\"Figure\",\"type\":\"Plot\"},\"ticker\":{\"id\":\"d44e0ce8-3917-4661-8ab5-438f1f2df78b\",\"type\":\"CategoricalTicker\"}},\"id\":\"ccc562d5-0555-4893-94e0-087cdb4312d9\",\"type\":\"Grid\"},{\"attributes\":{\"below\":[{\"id\":\"1a57abe0-3c76-4eca-9372-26a73bdd07c9\",\"type\":\"CategoricalAxis\"}],\"left\":[{\"id\":\"5e4dc6a2-2354-427f-bfdc-c08cd70b8b5b\",\"type\":\"LinearAxis\"}],\"plot_height\":320,\"plot_width\":640,\"renderers\":[{\"id\":\"1a57abe0-3c76-4eca-9372-26a73bdd07c9\",\"type\":\"CategoricalAxis\"},{\"id\":\"ccc562d5-0555-4893-94e0-087cdb4312d9\",\"type\":\"Grid\"},{\"id\":\"5e4dc6a2-2354-427f-bfdc-c08cd70b8b5b\",\"type\":\"LinearAxis\"},{\"id\":\"b8e7433a-960b-424f-9782-ba3f98c8d587\",\"type\":\"Grid\"},{\"id\":\"58fa689a-c5ba-433d-a20e-60a0f6c57dbd\",\"type\":\"BoxAnnotation\"},{\"id\":\"85c2d97c-d9fd-44ec-9507-887e12f21de1\",\"type\":\"GlyphRenderer\"}],\"title\":{\"id\":\"5e7bdbfe-8723-4a50-bc50-7d5b5fbe3d38\",\"type\":\"Title\"},\"toolbar\":{\"id\":\"829337e7-6a22-4981-8c84-49ff23bb169a\",\"type\":\"Toolbar\"},\"x_range\":{\"id\":\"b28800e3-06a5-4572-94ab-920f34dbab83\",\"type\":\"FactorRange\"},\"x_scale\":{\"id\":\"1ab47c58-98fe-4255-ad55-60eacd206a88\",\"type\":\"CategoricalScale\"},\"y_range\":{\"id\":\"fbc07b10-94e7-41d3-8fcc-ef761efa2764\",\"type\":\"DataRange1d\"},\"y_scale\":{\"id\":\"732bcee5-667a-442f-b82e-f904584085bb\",\"type\":\"LinearScale\"}},\"id\":\"f8417992-6c41-409d-9707-e2ba6242285b\",\"subtype\":\"Figure\",\"type\":\"Plot\"},{\"attributes\":{\"active_drag\":\"auto\",\"active_inspect\":\"auto\",\"active_scroll\":\"auto\",\"active_tap\":\"auto\",\"tools\":[{\"id\":\"bbc1cfce-dcc1-4897-bc99-85d790770d1d\",\"type\":\"PanTool\"},{\"id\":\"090bdc8a-dbac-4160-8d11-5bde93e009f7\",\"type\":\"WheelZoomTool\"},{\"id\":\"fb944c30-12b5-4c82-bd32-666cd27beea2\",\"type\":\"BoxZoomTool\"},{\"id\":\"2e92736b-3dce-4e65-b91b-1446565bfa76\",\"type\":\"SaveTool\"},{\"id\":\"1232812e-b876-4d8f-8c7d-1f7d085c523e\",\"type\":\"ResetTool\"},{\"id\":\"d61c73e8-b284-4a7e-ba52-258abb7229b4\",\"type\":\"HelpTool\"}]},\"id\":\"829337e7-6a22-4981-8c84-49ff23bb169a\",\"type\":\"Toolbar\"},{\"attributes\":{},\"id\":\"d44e0ce8-3917-4661-8ab5-438f1f2df78b\",\"type\":\"CategoricalTicker\"},{\"attributes\":{},\"id\":\"2e92736b-3dce-4e65-b91b-1446565bfa76\",\"type\":\"SaveTool\"},{\"attributes\":{},\"id\":\"6a62f5cc-916c-4daf-b30f-38cba18b03ac\",\"type\":\"BasicTicker\"},{\"attributes\":{\"source\":{\"id\":\"6c65d9e8-5647-42cf-881b-d1194aea5404\",\"type\":\"ColumnDataSource\"}},\"id\":\"799d2869-b536-4a39-b675-1ccb54042b99\",\"type\":\"CDSView\"},{\"attributes\":{},\"id\":\"1ab47c58-98fe-4255-ad55-60eacd206a88\",\"type\":\"CategoricalScale\"},{\"attributes\":{},\"id\":\"d00fdb48-0ec6-43e2-82b6-94dc6877ef59\",\"type\":\"BasicTickFormatter\"}],\"root_ids\":[\"f8417992-6c41-409d-9707-e2ba6242285b\"]},\"title\":\"Bokeh Application\",\"version\":\"0.12.16\"}};\n",
       "  var render_items = [{\"docid\":\"76e9cb0c-9abf-44be-827d-02a7fe462d0a\",\"elementid\":\"30a36867-1195-4868-b755-cdad0e269b6e\",\"modelid\":\"f8417992-6c41-409d-9707-e2ba6242285b\"}];\n",
       "  root.Bokeh.embed.embed_items_notebook(docs_json, render_items);\n",
       "\n",
       "  }\n",
       "  if (root.Bokeh !== undefined) {\n",
       "    embed_document(root);\n",
       "  } else {\n",
       "    var attempts = 0;\n",
       "    var timer = setInterval(function(root) {\n",
       "      if (root.Bokeh !== undefined) {\n",
       "        embed_document(root);\n",
       "        clearInterval(timer);\n",
       "      }\n",
       "      attempts++;\n",
       "      if (attempts > 100) {\n",
       "        console.log(\"Bokeh: ERROR: Unable to run BokehJS code because BokehJS library is missing\")\n",
       "        clearInterval(timer);\n",
       "      }\n",
       "    }, 10, root)\n",
       "  }\n",
       "})(window);"
      ],
      "application/vnd.bokehjs_exec.v0+json": ""
     },
     "metadata": {
      "application/vnd.bokehjs_exec.v0+json": {
       "id": "f8417992-6c41-409d-9707-e2ba6242285b"
      }
     },
     "output_type": "display_data"
    }
   ],
   "source": [
    "p = make_barchart(baby_names, 'Names', 'Births', kwargs_figure={'plot_width': 640, 'plot_height': 320})\n",
    "show(p)"
   ]
  },
  {
   "cell_type": "markdown",
   "metadata": {
    "nbgrader": {
     "grade": false,
     "locked": true,
     "solution": false
    }
   },
   "source": [
    "## Data setup\n",
    "\n",
    "You'll also need the NYC 311 calls dataset. What we've provided is actually a small subset (about 250+ MB) of the full data as of 2015."
   ]
  },
  {
   "cell_type": "code",
   "execution_count": 11,
   "metadata": {},
   "outputs": [
    {
     "name": "stdout",
     "output_type": "stream",
     "text": [
      "'NYC-311-2M.db' is ready!\n",
      "\n",
      "(All data appears to be ready.)\n"
     ]
    }
   ],
   "source": [
    "import requests\n",
    "import os\n",
    "import hashlib\n",
    "import io\n",
    "\n",
    "def on_vocareum():\n",
    "    return os.path.exists('.voc')\n",
    "\n",
    "if on_vocareum():\n",
    "    DB_FILENAME = \"../resource/asnlib/publicdata/NYC-311-2M.db\"\n",
    "else:\n",
    "    DB_FILENAME = 'NYC-311-2M.db'\n",
    "    if not os.path.exists(DB_FILENAME):\n",
    "        url = 'https://onedrive.live.com/download?cid=FD520DDC6BE92730&resid=FD520DDC6BE92730%21616&authkey=AEeP_4E1uh-vyDE'\n",
    "        print(\"Downloading: {} ...\".format(url))\n",
    "        r = requests.get(url)\n",
    "        with open(DB_FILENAME, 'w', encoding=r.encoding) as f:\n",
    "            f.write(r.text)\n",
    "\n",
    "DB_CHECKSUM = 'f48eba2fb06e8ece7479461ea8c6dee9'\n",
    "with io.open(DB_FILENAME, 'rb') as f:\n",
    "    body = f.read()\n",
    "    body_checksum = hashlib.md5(body).hexdigest()\n",
    "    assert body_checksum == DB_CHECKSUM, \\\n",
    "        \"Database file '{}' has an incorrect checksum: '{}' instead of '{}'\".format(DB_FILENAME,\n",
    "                                                                                    body_checksum,\n",
    "                                                                                    DB_CHECKSUM)\n",
    "    \n",
    "print(\"'{}' is ready!\".format(DB_FILENAME))  \n",
    "print(\"\\n(All data appears to be ready.)\")"
   ]
  },
  {
   "cell_type": "markdown",
   "metadata": {
    "nbgrader": {
     "grade": false,
     "locked": true,
     "solution": false
    }
   },
   "source": [
    "**Connecting.** Let's open up a connection to this dataset."
   ]
  },
  {
   "cell_type": "code",
   "execution_count": 12,
   "metadata": {
    "nbpresent": {
     "id": "e2134172-76ad-4ffb-86c9-161df8a53355"
    }
   },
   "outputs": [],
   "source": [
    "# Connect\n",
    "import sqlite3 as db\n",
    "disk_engine = db.connect(DB_FILENAME)"
   ]
  },
  {
   "cell_type": "markdown",
   "metadata": {
    "nbgrader": {
     "grade": false,
     "locked": true,
     "solution": false
    },
    "nbpresent": {
     "id": "31873b5c-d2fc-4d92-853a-9a4bb84b0510"
    }
   },
   "source": [
    "**Preview the data.** This sample database has just a single table, named `data`. Let's query it and see how long it takes to read. To carry out the query, we will use the SQL reader built into `pandas`."
   ]
  },
  {
   "cell_type": "code",
   "execution_count": 13,
   "metadata": {
    "nbpresent": {
     "id": "f6dbf63b-4745-4f56-8d73-d4ce71e68f7c"
    }
   },
   "outputs": [
    {
     "name": "stdout",
     "output_type": "stream",
     "text": [
      "Reading ...\n",
      "==> Took 10.2353 seconds.\n"
     ]
    },
    {
     "data": {
      "text/html": [
       "<div>\n",
       "<style scoped>\n",
       "    .dataframe tbody tr th:only-of-type {\n",
       "        vertical-align: middle;\n",
       "    }\n",
       "\n",
       "    .dataframe tbody tr th {\n",
       "        vertical-align: top;\n",
       "    }\n",
       "\n",
       "    .dataframe thead th {\n",
       "        text-align: right;\n",
       "    }\n",
       "</style>\n",
       "<table border=\"1\" class=\"dataframe\">\n",
       "  <thead>\n",
       "    <tr style=\"text-align: right;\">\n",
       "      <th></th>\n",
       "      <th>index</th>\n",
       "      <th>CreatedDate</th>\n",
       "      <th>ClosedDate</th>\n",
       "      <th>Agency</th>\n",
       "      <th>ComplaintType</th>\n",
       "      <th>Descriptor</th>\n",
       "      <th>City</th>\n",
       "    </tr>\n",
       "  </thead>\n",
       "  <tbody>\n",
       "    <tr>\n",
       "      <th>0</th>\n",
       "      <td>1</td>\n",
       "      <td>2015-09-15 02:14:04.000000</td>\n",
       "      <td>None</td>\n",
       "      <td>NYPD</td>\n",
       "      <td>Illegal Parking</td>\n",
       "      <td>Blocked Hydrant</td>\n",
       "      <td>None</td>\n",
       "    </tr>\n",
       "    <tr>\n",
       "      <th>1</th>\n",
       "      <td>2</td>\n",
       "      <td>2015-09-15 02:12:49.000000</td>\n",
       "      <td>None</td>\n",
       "      <td>NYPD</td>\n",
       "      <td>Noise - Street/Sidewalk</td>\n",
       "      <td>Loud Talking</td>\n",
       "      <td>NEW YORK</td>\n",
       "    </tr>\n",
       "    <tr>\n",
       "      <th>2</th>\n",
       "      <td>3</td>\n",
       "      <td>2015-09-15 02:11:19.000000</td>\n",
       "      <td>None</td>\n",
       "      <td>NYPD</td>\n",
       "      <td>Noise - Street/Sidewalk</td>\n",
       "      <td>Loud Talking</td>\n",
       "      <td>NEW YORK</td>\n",
       "    </tr>\n",
       "    <tr>\n",
       "      <th>3</th>\n",
       "      <td>4</td>\n",
       "      <td>2015-09-15 02:09:46.000000</td>\n",
       "      <td>None</td>\n",
       "      <td>NYPD</td>\n",
       "      <td>Noise - Commercial</td>\n",
       "      <td>Loud Talking</td>\n",
       "      <td>BRONX</td>\n",
       "    </tr>\n",
       "    <tr>\n",
       "      <th>4</th>\n",
       "      <td>5</td>\n",
       "      <td>2015-09-15 02:08:01.000000</td>\n",
       "      <td>2015-09-15 02:08:18.000000</td>\n",
       "      <td>DHS</td>\n",
       "      <td>Homeless Person Assistance</td>\n",
       "      <td>Status Call</td>\n",
       "      <td>NEW YORK</td>\n",
       "    </tr>\n",
       "  </tbody>\n",
       "</table>\n",
       "</div>"
      ],
      "text/plain": [
       "   index                 CreatedDate                  ClosedDate Agency  \\\n",
       "0      1  2015-09-15 02:14:04.000000                        None   NYPD   \n",
       "1      2  2015-09-15 02:12:49.000000                        None   NYPD   \n",
       "2      3  2015-09-15 02:11:19.000000                        None   NYPD   \n",
       "3      4  2015-09-15 02:09:46.000000                        None   NYPD   \n",
       "4      5  2015-09-15 02:08:01.000000  2015-09-15 02:08:18.000000    DHS   \n",
       "\n",
       "                ComplaintType       Descriptor      City  \n",
       "0             Illegal Parking  Blocked Hydrant      None  \n",
       "1     Noise - Street/Sidewalk     Loud Talking  NEW YORK  \n",
       "2     Noise - Street/Sidewalk     Loud Talking  NEW YORK  \n",
       "3          Noise - Commercial     Loud Talking     BRONX  \n",
       "4  Homeless Person Assistance      Status Call  NEW YORK  "
      ]
     },
     "execution_count": 13,
     "metadata": {},
     "output_type": "execute_result"
    }
   ],
   "source": [
    "import time\n",
    "\n",
    "print (\"Reading ...\")\n",
    "start_time = time.time ()\n",
    "\n",
    "# Perform SQL query through the disk_engine connection.\n",
    "# The return value is a pandas data frame.\n",
    "df = pd.read_sql_query ('SELECT * FROM data', disk_engine)\n",
    "\n",
    "elapsed_time = time.time () - start_time\n",
    "print (\"==> Took %g seconds.\" % elapsed_time)\n",
    "\n",
    "# Dump the first few rows\n",
    "df.head()"
   ]
  },
  {
   "cell_type": "markdown",
   "metadata": {
    "nbgrader": {
     "grade": false,
     "locked": true,
     "solution": false
    },
    "nbpresent": {
     "id": "90bcd6d3-b28a-4d65-8967-1fe09939c407"
    }
   },
   "source": [
    "**Partial queries: `LIMIT` clause.** The preceding command was overkill for what we wanted, which was just to preview the table. Instead, we could have used the `LIMIT` option to ask for just a few results."
   ]
  },
  {
   "cell_type": "code",
   "execution_count": 14,
   "metadata": {
    "nbpresent": {
     "id": "d2e06725-6f72-4b90-858c-80861cd77086"
    }
   },
   "outputs": [
    {
     "name": "stdout",
     "output_type": "stream",
     "text": [
      "==> LIMIT version took 0.018513 seconds.\n"
     ]
    },
    {
     "data": {
      "text/html": [
       "<div>\n",
       "<style scoped>\n",
       "    .dataframe tbody tr th:only-of-type {\n",
       "        vertical-align: middle;\n",
       "    }\n",
       "\n",
       "    .dataframe tbody tr th {\n",
       "        vertical-align: top;\n",
       "    }\n",
       "\n",
       "    .dataframe thead th {\n",
       "        text-align: right;\n",
       "    }\n",
       "</style>\n",
       "<table border=\"1\" class=\"dataframe\">\n",
       "  <thead>\n",
       "    <tr style=\"text-align: right;\">\n",
       "      <th></th>\n",
       "      <th>index</th>\n",
       "      <th>CreatedDate</th>\n",
       "      <th>ClosedDate</th>\n",
       "      <th>Agency</th>\n",
       "      <th>ComplaintType</th>\n",
       "      <th>Descriptor</th>\n",
       "      <th>City</th>\n",
       "    </tr>\n",
       "  </thead>\n",
       "  <tbody>\n",
       "    <tr>\n",
       "      <th>0</th>\n",
       "      <td>1</td>\n",
       "      <td>2015-09-15 02:14:04.000000</td>\n",
       "      <td>None</td>\n",
       "      <td>NYPD</td>\n",
       "      <td>Illegal Parking</td>\n",
       "      <td>Blocked Hydrant</td>\n",
       "      <td>None</td>\n",
       "    </tr>\n",
       "    <tr>\n",
       "      <th>1</th>\n",
       "      <td>2</td>\n",
       "      <td>2015-09-15 02:12:49.000000</td>\n",
       "      <td>None</td>\n",
       "      <td>NYPD</td>\n",
       "      <td>Noise - Street/Sidewalk</td>\n",
       "      <td>Loud Talking</td>\n",
       "      <td>NEW YORK</td>\n",
       "    </tr>\n",
       "    <tr>\n",
       "      <th>2</th>\n",
       "      <td>3</td>\n",
       "      <td>2015-09-15 02:11:19.000000</td>\n",
       "      <td>None</td>\n",
       "      <td>NYPD</td>\n",
       "      <td>Noise - Street/Sidewalk</td>\n",
       "      <td>Loud Talking</td>\n",
       "      <td>NEW YORK</td>\n",
       "    </tr>\n",
       "    <tr>\n",
       "      <th>3</th>\n",
       "      <td>4</td>\n",
       "      <td>2015-09-15 02:09:46.000000</td>\n",
       "      <td>None</td>\n",
       "      <td>NYPD</td>\n",
       "      <td>Noise - Commercial</td>\n",
       "      <td>Loud Talking</td>\n",
       "      <td>BRONX</td>\n",
       "    </tr>\n",
       "    <tr>\n",
       "      <th>4</th>\n",
       "      <td>5</td>\n",
       "      <td>2015-09-15 02:08:01.000000</td>\n",
       "      <td>2015-09-15 02:08:18.000000</td>\n",
       "      <td>DHS</td>\n",
       "      <td>Homeless Person Assistance</td>\n",
       "      <td>Status Call</td>\n",
       "      <td>NEW YORK</td>\n",
       "    </tr>\n",
       "  </tbody>\n",
       "</table>\n",
       "</div>"
      ],
      "text/plain": [
       "   index                 CreatedDate                  ClosedDate Agency  \\\n",
       "0      1  2015-09-15 02:14:04.000000                        None   NYPD   \n",
       "1      2  2015-09-15 02:12:49.000000                        None   NYPD   \n",
       "2      3  2015-09-15 02:11:19.000000                        None   NYPD   \n",
       "3      4  2015-09-15 02:09:46.000000                        None   NYPD   \n",
       "4      5  2015-09-15 02:08:01.000000  2015-09-15 02:08:18.000000    DHS   \n",
       "\n",
       "                ComplaintType       Descriptor      City  \n",
       "0             Illegal Parking  Blocked Hydrant      None  \n",
       "1     Noise - Street/Sidewalk     Loud Talking  NEW YORK  \n",
       "2     Noise - Street/Sidewalk     Loud Talking  NEW YORK  \n",
       "3          Noise - Commercial     Loud Talking     BRONX  \n",
       "4  Homeless Person Assistance      Status Call  NEW YORK  "
      ]
     },
     "execution_count": 14,
     "metadata": {},
     "output_type": "execute_result"
    }
   ],
   "source": [
    "query = '''\n",
    "  SELECT *\n",
    "    FROM data\n",
    "    LIMIT 5\n",
    "'''\n",
    "start_time = time.time ()\n",
    "df = pd.read_sql_query (query, disk_engine)\n",
    "elapsed_time = time.time () - start_time\n",
    "print (\"==> LIMIT version took %g seconds.\" % elapsed_time)\n",
    "\n",
    "df"
   ]
  },
  {
   "cell_type": "markdown",
   "metadata": {
    "nbgrader": {
     "grade": false,
     "locked": true,
     "solution": false
    },
    "nbpresent": {
     "id": "202da090-d21b-4e0c-ab74-e82da32305a6"
    }
   },
   "source": [
    "**Grouping Information: GROUP BY operator.** The GROUP BY operator lets you group information using a particular column or multiple columns of the table. The output generated is more of a pivot table."
   ]
  },
  {
   "cell_type": "code",
   "execution_count": 15,
   "metadata": {
    "nbpresent": {
     "id": "07d42c35-bfc1-4083-b851-af26039ab7d0"
    },
    "scrolled": true
   },
   "outputs": [
    {
     "data": {
      "text/html": [
       "<div>\n",
       "<style scoped>\n",
       "    .dataframe tbody tr th:only-of-type {\n",
       "        vertical-align: middle;\n",
       "    }\n",
       "\n",
       "    .dataframe tbody tr th {\n",
       "        vertical-align: top;\n",
       "    }\n",
       "\n",
       "    .dataframe thead th {\n",
       "        text-align: right;\n",
       "    }\n",
       "</style>\n",
       "<table border=\"1\" class=\"dataframe\">\n",
       "  <thead>\n",
       "    <tr style=\"text-align: right;\">\n",
       "      <th></th>\n",
       "      <th>ComplaintType</th>\n",
       "      <th>Descriptor</th>\n",
       "      <th>Agency</th>\n",
       "    </tr>\n",
       "  </thead>\n",
       "  <tbody>\n",
       "    <tr>\n",
       "      <th>0</th>\n",
       "      <td>AGENCY</td>\n",
       "      <td>HOUSING QUALITY STANDARDS</td>\n",
       "      <td>HPD</td>\n",
       "    </tr>\n",
       "    <tr>\n",
       "      <th>1</th>\n",
       "      <td>APPLIANCE</td>\n",
       "      <td>REFRIGERATOR</td>\n",
       "      <td>HPD</td>\n",
       "    </tr>\n",
       "    <tr>\n",
       "      <th>2</th>\n",
       "      <td>Adopt-A-Basket</td>\n",
       "      <td>10A Adopt-A-Basket</td>\n",
       "      <td>DSNY</td>\n",
       "    </tr>\n",
       "    <tr>\n",
       "      <th>3</th>\n",
       "      <td>Agency Issues</td>\n",
       "      <td>Call Center Compliment</td>\n",
       "      <td>3-1-1</td>\n",
       "    </tr>\n",
       "    <tr>\n",
       "      <th>4</th>\n",
       "      <td>Air Quality</td>\n",
       "      <td>Air: Odor/Fumes, Vehicle Idling (AD3)</td>\n",
       "      <td>DEP</td>\n",
       "    </tr>\n",
       "  </tbody>\n",
       "</table>\n",
       "</div>"
      ],
      "text/plain": [
       "    ComplaintType                             Descriptor Agency\n",
       "0          AGENCY              HOUSING QUALITY STANDARDS    HPD\n",
       "1       APPLIANCE                           REFRIGERATOR    HPD\n",
       "2  Adopt-A-Basket                     10A Adopt-A-Basket   DSNY\n",
       "3   Agency Issues                 Call Center Compliment  3-1-1\n",
       "4     Air Quality  Air: Odor/Fumes, Vehicle Idling (AD3)    DEP"
      ]
     },
     "execution_count": 15,
     "metadata": {},
     "output_type": "execute_result"
    }
   ],
   "source": [
    "query = '''\n",
    "  SELECT ComplaintType, Descriptor, Agency\n",
    "    FROM data\n",
    "    GROUP BY ComplaintType\n",
    "    ORDER BY ComplaintType\n",
    "    LIMIT 10\n",
    "'''\n",
    "\n",
    "df = pd.read_sql_query(query, disk_engine)\n",
    "df.head()"
   ]
  },
  {
   "cell_type": "code",
   "execution_count": 16,
   "metadata": {
    "nbpresent": {
     "id": "df7cfcaa-10e4-4374-8f39-3d2ead1b4e34"
    }
   },
   "outputs": [
    {
     "data": {
      "text/html": [
       "<div>\n",
       "<style scoped>\n",
       "    .dataframe tbody tr th:only-of-type {\n",
       "        vertical-align: middle;\n",
       "    }\n",
       "\n",
       "    .dataframe tbody tr th {\n",
       "        vertical-align: top;\n",
       "    }\n",
       "\n",
       "    .dataframe thead th {\n",
       "        text-align: right;\n",
       "    }\n",
       "</style>\n",
       "<table border=\"1\" class=\"dataframe\">\n",
       "  <thead>\n",
       "    <tr style=\"text-align: right;\">\n",
       "      <th></th>\n",
       "      <th>ComplaintType</th>\n",
       "      <th>Descriptor</th>\n",
       "      <th>Agency</th>\n",
       "    </tr>\n",
       "  </thead>\n",
       "  <tbody>\n",
       "    <tr>\n",
       "      <th>0</th>\n",
       "      <td>AGENCY</td>\n",
       "      <td>HOUSING QUALITY STANDARDS</td>\n",
       "      <td>HPD</td>\n",
       "    </tr>\n",
       "    <tr>\n",
       "      <th>1</th>\n",
       "      <td>AGENCY</td>\n",
       "      <td>HOUSING QUALITY STANDARDS</td>\n",
       "      <td>HPD</td>\n",
       "    </tr>\n",
       "    <tr>\n",
       "      <th>2</th>\n",
       "      <td>APPLIANCE</td>\n",
       "      <td>ELECTRIC/GAS RANGE</td>\n",
       "      <td>HPD</td>\n",
       "    </tr>\n",
       "    <tr>\n",
       "      <th>3</th>\n",
       "      <td>APPLIANCE</td>\n",
       "      <td>REFRIGERATOR</td>\n",
       "      <td>HPD</td>\n",
       "    </tr>\n",
       "    <tr>\n",
       "      <th>4</th>\n",
       "      <td>APPLIANCE</td>\n",
       "      <td>ELECTRIC/GAS RANGE</td>\n",
       "      <td>HPD</td>\n",
       "    </tr>\n",
       "  </tbody>\n",
       "</table>\n",
       "</div>"
      ],
      "text/plain": [
       "  ComplaintType                 Descriptor Agency\n",
       "0        AGENCY  HOUSING QUALITY STANDARDS    HPD\n",
       "1        AGENCY  HOUSING QUALITY STANDARDS    HPD\n",
       "2     APPLIANCE         ELECTRIC/GAS RANGE    HPD\n",
       "3     APPLIANCE               REFRIGERATOR    HPD\n",
       "4     APPLIANCE         ELECTRIC/GAS RANGE    HPD"
      ]
     },
     "execution_count": 16,
     "metadata": {},
     "output_type": "execute_result"
    }
   ],
   "source": [
    "query = '''\n",
    "  SELECT ComplaintType, Descriptor, Agency\n",
    "    FROM data\n",
    "    ORDER BY ComplaintType\n",
    "    LIMIT 10\n",
    "'''\n",
    "\n",
    "df = pd.read_sql_query(query, disk_engine)\n",
    "df.head()"
   ]
  },
  {
   "cell_type": "markdown",
   "metadata": {
    "nbgrader": {
     "grade": false,
     "locked": true,
     "solution": false
    },
    "nbpresent": {
     "id": "de9b4364-16ef-4c59-8d9a-1c6749c93f19"
    }
   },
   "source": [
    "**Set membership: `IN` operator.** Another common idiom is to ask for rows whose attributes fall within a set, for which you can use the `IN` operator."
   ]
  },
  {
   "cell_type": "code",
   "execution_count": 17,
   "metadata": {
    "nbpresent": {
     "id": "0d0041f8-097f-4a64-a2c0-ad0a4ea6a71a"
    }
   },
   "outputs": [
    {
     "data": {
      "text/html": [
       "<div>\n",
       "<style scoped>\n",
       "    .dataframe tbody tr th:only-of-type {\n",
       "        vertical-align: middle;\n",
       "    }\n",
       "\n",
       "    .dataframe tbody tr th {\n",
       "        vertical-align: top;\n",
       "    }\n",
       "\n",
       "    .dataframe thead th {\n",
       "        text-align: right;\n",
       "    }\n",
       "</style>\n",
       "<table border=\"1\" class=\"dataframe\">\n",
       "  <thead>\n",
       "    <tr style=\"text-align: right;\">\n",
       "      <th></th>\n",
       "      <th>ComplaintType</th>\n",
       "      <th>Descriptor</th>\n",
       "      <th>Agency</th>\n",
       "    </tr>\n",
       "  </thead>\n",
       "  <tbody>\n",
       "    <tr>\n",
       "      <th>0</th>\n",
       "      <td>Illegal Parking</td>\n",
       "      <td>Blocked Hydrant</td>\n",
       "      <td>NYPD</td>\n",
       "    </tr>\n",
       "    <tr>\n",
       "      <th>1</th>\n",
       "      <td>Noise - Street/Sidewalk</td>\n",
       "      <td>Loud Talking</td>\n",
       "      <td>NYPD</td>\n",
       "    </tr>\n",
       "    <tr>\n",
       "      <th>2</th>\n",
       "      <td>Noise - Street/Sidewalk</td>\n",
       "      <td>Loud Talking</td>\n",
       "      <td>NYPD</td>\n",
       "    </tr>\n",
       "    <tr>\n",
       "      <th>3</th>\n",
       "      <td>Noise - Commercial</td>\n",
       "      <td>Loud Talking</td>\n",
       "      <td>NYPD</td>\n",
       "    </tr>\n",
       "    <tr>\n",
       "      <th>4</th>\n",
       "      <td>Blocked Driveway</td>\n",
       "      <td>Partial Access</td>\n",
       "      <td>NYPD</td>\n",
       "    </tr>\n",
       "  </tbody>\n",
       "</table>\n",
       "</div>"
      ],
      "text/plain": [
       "             ComplaintType       Descriptor Agency\n",
       "0          Illegal Parking  Blocked Hydrant   NYPD\n",
       "1  Noise - Street/Sidewalk     Loud Talking   NYPD\n",
       "2  Noise - Street/Sidewalk     Loud Talking   NYPD\n",
       "3       Noise - Commercial     Loud Talking   NYPD\n",
       "4         Blocked Driveway   Partial Access   NYPD"
      ]
     },
     "execution_count": 17,
     "metadata": {},
     "output_type": "execute_result"
    }
   ],
   "source": [
    "query = '''\n",
    "  SELECT ComplaintType, Descriptor, Agency\n",
    "    FROM data\n",
    "    WHERE Agency IN (\"NYPD\", \"DOB\")\n",
    "    LIMIT 10\n",
    "'''\n",
    "\n",
    "df = pd.read_sql_query (query, disk_engine)\n",
    "df.head ()"
   ]
  },
  {
   "cell_type": "markdown",
   "metadata": {
    "nbgrader": {
     "grade": false,
     "locked": true,
     "solution": false
    },
    "nbpresent": {
     "id": "35d500f1-b17b-48cf-ab12-1267d8aeb485"
    }
   },
   "source": [
    "**Finding unique values: `DISTINCT` qualifier.** Yet another common idiom is to ask for the unique values of some attribute, for which you can use the `DISTINCT` qualifier."
   ]
  },
  {
   "cell_type": "code",
   "execution_count": 18,
   "metadata": {
    "nbpresent": {
     "id": "a9206a4f-7d5e-4055-9221-cbd3c52fd6e2"
    }
   },
   "outputs": [
    {
     "name": "stdout",
     "output_type": "stream",
     "text": [
      "Found 547 unique cities. The first few are:\n"
     ]
    },
    {
     "data": {
      "text/html": [
       "<div>\n",
       "<style scoped>\n",
       "    .dataframe tbody tr th:only-of-type {\n",
       "        vertical-align: middle;\n",
       "    }\n",
       "\n",
       "    .dataframe tbody tr th {\n",
       "        vertical-align: top;\n",
       "    }\n",
       "\n",
       "    .dataframe thead th {\n",
       "        text-align: right;\n",
       "    }\n",
       "</style>\n",
       "<table border=\"1\" class=\"dataframe\">\n",
       "  <thead>\n",
       "    <tr style=\"text-align: right;\">\n",
       "      <th></th>\n",
       "      <th>City</th>\n",
       "    </tr>\n",
       "  </thead>\n",
       "  <tbody>\n",
       "    <tr>\n",
       "      <th>0</th>\n",
       "      <td>None</td>\n",
       "    </tr>\n",
       "    <tr>\n",
       "      <th>1</th>\n",
       "      <td>NEW YORK</td>\n",
       "    </tr>\n",
       "    <tr>\n",
       "      <th>2</th>\n",
       "      <td>BRONX</td>\n",
       "    </tr>\n",
       "    <tr>\n",
       "      <th>3</th>\n",
       "      <td>STATEN ISLAND</td>\n",
       "    </tr>\n",
       "    <tr>\n",
       "      <th>4</th>\n",
       "      <td>ELMHURST</td>\n",
       "    </tr>\n",
       "  </tbody>\n",
       "</table>\n",
       "</div>"
      ],
      "text/plain": [
       "            City\n",
       "0           None\n",
       "1       NEW YORK\n",
       "2          BRONX\n",
       "3  STATEN ISLAND\n",
       "4       ELMHURST"
      ]
     },
     "execution_count": 18,
     "metadata": {},
     "output_type": "execute_result"
    }
   ],
   "source": [
    "query = 'SELECT DISTINCT City FROM data'\n",
    "df = pd.read_sql_query(query, disk_engine)\n",
    "\n",
    "print(\"Found {} unique cities. The first few are:\".format(len(df)))\n",
    "df.head()"
   ]
  },
  {
   "cell_type": "markdown",
   "metadata": {
    "nbgrader": {
     "grade": false,
     "locked": true,
     "solution": false
    },
    "nbpresent": {
     "id": "b1c2afab-abbf-47c7-9938-7aa36d3382d7"
    }
   },
   "source": [
    "**Renaming columns: `AS` operator.** Sometimes you might want to rename a result column. For instance, the following query counts the number of complaints by \"Agency,\" using the `COUNT(*)` function and `GROUP BY` clause, which we discussed in an earlier lab. If you wish to refer to the counts column of the resulting data frame, you can give it a more \"friendly\" name using the `AS` operator."
   ]
  },
  {
   "cell_type": "code",
   "execution_count": 19,
   "metadata": {
    "nbpresent": {
     "id": "9b495c9d-28a8-4074-a2ff-43e5481a9d5f"
    }
   },
   "outputs": [
    {
     "data": {
      "text/html": [
       "<div>\n",
       "<style scoped>\n",
       "    .dataframe tbody tr th:only-of-type {\n",
       "        vertical-align: middle;\n",
       "    }\n",
       "\n",
       "    .dataframe tbody tr th {\n",
       "        vertical-align: top;\n",
       "    }\n",
       "\n",
       "    .dataframe thead th {\n",
       "        text-align: right;\n",
       "    }\n",
       "</style>\n",
       "<table border=\"1\" class=\"dataframe\">\n",
       "  <thead>\n",
       "    <tr style=\"text-align: right;\">\n",
       "      <th></th>\n",
       "      <th>Agency</th>\n",
       "      <th>NumComplaints</th>\n",
       "    </tr>\n",
       "  </thead>\n",
       "  <tbody>\n",
       "    <tr>\n",
       "      <th>0</th>\n",
       "      <td>3-1-1</td>\n",
       "      <td>1289</td>\n",
       "    </tr>\n",
       "    <tr>\n",
       "      <th>1</th>\n",
       "      <td>ACS</td>\n",
       "      <td>3</td>\n",
       "    </tr>\n",
       "    <tr>\n",
       "      <th>2</th>\n",
       "      <td>AJC</td>\n",
       "      <td>6</td>\n",
       "    </tr>\n",
       "    <tr>\n",
       "      <th>3</th>\n",
       "      <td>CAU</td>\n",
       "      <td>1</td>\n",
       "    </tr>\n",
       "    <tr>\n",
       "      <th>4</th>\n",
       "      <td>CCRB</td>\n",
       "      <td>1</td>\n",
       "    </tr>\n",
       "  </tbody>\n",
       "</table>\n",
       "</div>"
      ],
      "text/plain": [
       "  Agency  NumComplaints\n",
       "0  3-1-1           1289\n",
       "1    ACS              3\n",
       "2    AJC              6\n",
       "3    CAU              1\n",
       "4   CCRB              1"
      ]
     },
     "execution_count": 19,
     "metadata": {},
     "output_type": "execute_result"
    }
   ],
   "source": [
    "query = '''\n",
    "  SELECT Agency, COUNT(*) AS NumComplaints\n",
    "    FROM data\n",
    "    GROUP BY Agency\n",
    "'''\n",
    "df = pd.read_sql_query(query, disk_engine)\n",
    "df.head()"
   ]
  },
  {
   "cell_type": "markdown",
   "metadata": {
    "nbgrader": {
     "grade": false,
     "locked": true,
     "solution": false
    },
    "nbpresent": {
     "id": "b27b5f58-ffc9-4e1c-bf5b-76149575dfa5"
    }
   },
   "source": [
    "**Ordering results: `ORDER` clause.** You can also order the results. For instance, suppose we want to execute the previous query by number of complaints."
   ]
  },
  {
   "cell_type": "code",
   "execution_count": 20,
   "metadata": {
    "nbpresent": {
     "id": "2f09ad6d-3920-465c-ac44-6438fc3f3ee5"
    }
   },
   "outputs": [
    {
     "data": {
      "text/html": [
       "<div>\n",
       "<style scoped>\n",
       "    .dataframe tbody tr th:only-of-type {\n",
       "        vertical-align: middle;\n",
       "    }\n",
       "\n",
       "    .dataframe tbody tr th {\n",
       "        vertical-align: top;\n",
       "    }\n",
       "\n",
       "    .dataframe thead th {\n",
       "        text-align: right;\n",
       "    }\n",
       "</style>\n",
       "<table border=\"1\" class=\"dataframe\">\n",
       "  <thead>\n",
       "    <tr style=\"text-align: right;\">\n",
       "      <th></th>\n",
       "      <th>Agency</th>\n",
       "      <th>NumComplaints</th>\n",
       "    </tr>\n",
       "  </thead>\n",
       "  <tbody>\n",
       "    <tr>\n",
       "      <th>45</th>\n",
       "      <td>DSNY</td>\n",
       "      <td>152004</td>\n",
       "    </tr>\n",
       "    <tr>\n",
       "      <th>46</th>\n",
       "      <td>DEP</td>\n",
       "      <td>181121</td>\n",
       "    </tr>\n",
       "    <tr>\n",
       "      <th>47</th>\n",
       "      <td>DOT</td>\n",
       "      <td>322969</td>\n",
       "    </tr>\n",
       "    <tr>\n",
       "      <th>48</th>\n",
       "      <td>NYPD</td>\n",
       "      <td>340694</td>\n",
       "    </tr>\n",
       "    <tr>\n",
       "      <th>49</th>\n",
       "      <td>HPD</td>\n",
       "      <td>640096</td>\n",
       "    </tr>\n",
       "  </tbody>\n",
       "</table>\n",
       "</div>"
      ],
      "text/plain": [
       "   Agency  NumComplaints\n",
       "45   DSNY         152004\n",
       "46    DEP         181121\n",
       "47    DOT         322969\n",
       "48   NYPD         340694\n",
       "49    HPD         640096"
      ]
     },
     "execution_count": 20,
     "metadata": {},
     "output_type": "execute_result"
    }
   ],
   "source": [
    "query = '''\n",
    "  SELECT Agency, COUNT(*) AS NumComplaints\n",
    "    FROM data\n",
    "    GROUP BY Agency\n",
    "    ORDER BY NumComplaints\n",
    "'''\n",
    "df = pd.read_sql_query(query, disk_engine)\n",
    "df.tail()"
   ]
  },
  {
   "cell_type": "markdown",
   "metadata": {
    "nbgrader": {
     "grade": false,
     "locked": true,
     "solution": false
    },
    "nbpresent": {
     "id": "1cb6f520-9cda-49ef-bf62-1863dad7414a"
    }
   },
   "source": [
    "Note that the above example prints the bottom (tail) of the data frame. You could have also asked for the query results in reverse (descending) order, by prefixing the `ORDER BY` attribute with a `-` (minus) symbol. Alternatively, you can use `DESC` to achieve the same result."
   ]
  },
  {
   "cell_type": "code",
   "execution_count": 21,
   "metadata": {
    "nbpresent": {
     "id": "304e200a-2d98-482c-8f29-c011ec2c5482"
    }
   },
   "outputs": [
    {
     "data": {
      "text/html": [
       "<div>\n",
       "<style scoped>\n",
       "    .dataframe tbody tr th:only-of-type {\n",
       "        vertical-align: middle;\n",
       "    }\n",
       "\n",
       "    .dataframe tbody tr th {\n",
       "        vertical-align: top;\n",
       "    }\n",
       "\n",
       "    .dataframe thead th {\n",
       "        text-align: right;\n",
       "    }\n",
       "</style>\n",
       "<table border=\"1\" class=\"dataframe\">\n",
       "  <thead>\n",
       "    <tr style=\"text-align: right;\">\n",
       "      <th></th>\n",
       "      <th>Agency</th>\n",
       "      <th>NumComplaints</th>\n",
       "    </tr>\n",
       "  </thead>\n",
       "  <tbody>\n",
       "    <tr>\n",
       "      <th>0</th>\n",
       "      <td>HPD</td>\n",
       "      <td>640096</td>\n",
       "    </tr>\n",
       "    <tr>\n",
       "      <th>1</th>\n",
       "      <td>NYPD</td>\n",
       "      <td>340694</td>\n",
       "    </tr>\n",
       "    <tr>\n",
       "      <th>2</th>\n",
       "      <td>DOT</td>\n",
       "      <td>322969</td>\n",
       "    </tr>\n",
       "    <tr>\n",
       "      <th>3</th>\n",
       "      <td>DEP</td>\n",
       "      <td>181121</td>\n",
       "    </tr>\n",
       "    <tr>\n",
       "      <th>4</th>\n",
       "      <td>DSNY</td>\n",
       "      <td>152004</td>\n",
       "    </tr>\n",
       "  </tbody>\n",
       "</table>\n",
       "</div>"
      ],
      "text/plain": [
       "  Agency  NumComplaints\n",
       "0    HPD         640096\n",
       "1   NYPD         340694\n",
       "2    DOT         322969\n",
       "3    DEP         181121\n",
       "4   DSNY         152004"
      ]
     },
     "execution_count": 21,
     "metadata": {},
     "output_type": "execute_result"
    }
   ],
   "source": [
    "query = '''\n",
    "  SELECT Agency, COUNT(*) AS NumComplaints\n",
    "    FROM data\n",
    "    GROUP BY Agency\n",
    "    ORDER BY -NumComplaints \n",
    "'''\n",
    "\n",
    "# Alternative: query =\n",
    "'''\n",
    "SELECT Agency, COUNT(*) AS NumComplaints \n",
    "    FROM data \n",
    "    GROUP BY Agency\n",
    "    ORDER BY NumComplaints DESC \n",
    "'''\n",
    "\n",
    "df = pd.read_sql_query(query, disk_engine)\n",
    "df.head()"
   ]
  },
  {
   "cell_type": "markdown",
   "metadata": {
    "nbgrader": {
     "grade": false,
     "locked": true,
     "solution": false
    },
    "nbpresent": {
     "id": "aeaca6a3-b097-4844-8174-07fca9d185cc"
    }
   },
   "source": [
    "And of course we can plot all of this data!\n",
    "\n",
    "**Exercise 0** (ungraded). Run the following code cell, which will create an interactive bar chart from the data in the previous query."
   ]
  },
  {
   "cell_type": "code",
   "execution_count": 22,
   "metadata": {
    "nbgrader": {
     "grade": true,
     "grade_id": "exercise_0",
     "locked": true,
     "points": 0,
     "schema_version": 1,
     "solution": false
    }
   },
   "outputs": [
    {
     "data": {
      "text/html": [
       "\n",
       "<div class=\"bk-root\">\n",
       "    <div class=\"bk-plotdiv\" id=\"7c559731-a61c-47dc-b089-718ff3b1ef5e\"></div>\n",
       "</div>"
      ]
     },
     "metadata": {},
     "output_type": "display_data"
    },
    {
     "data": {
      "application/javascript": [
       "(function(root) {\n",
       "  function embed_document(root) {\n",
       "    \n",
       "  var docs_json = {\"fc52b319-ff98-4540-9fd2-b19c9539ce8d\":{\"roots\":{\"references\":[{\"attributes\":{\"source\":{\"id\":\"6a0bda0c-3f11-4676-806f-7ab0d42aff2c\",\"type\":\"ColumnDataSource\"}},\"id\":\"388ef701-6e57-4fc2-9540-9a6f709ee8e4\",\"type\":\"CDSView\"},{\"attributes\":{\"active_drag\":\"auto\",\"active_inspect\":\"auto\",\"active_scroll\":\"auto\",\"active_tap\":\"auto\",\"tools\":[{\"id\":\"99b8f919-3955-4699-b4b7-f2600d9ef559\",\"type\":\"PanTool\"},{\"id\":\"69abec59-8e43-4a31-8a52-75947c9427f9\",\"type\":\"WheelZoomTool\"},{\"id\":\"30679197-842e-409f-8405-9ce53f9c7dcf\",\"type\":\"BoxZoomTool\"},{\"id\":\"ba7235fd-3652-468f-90f0-32902763610b\",\"type\":\"SaveTool\"},{\"id\":\"7735d205-48f1-4fdf-867f-607e596b7324\",\"type\":\"ResetTool\"},{\"id\":\"97330ff1-75b9-432b-a33e-ec136b7cb1da\",\"type\":\"HelpTool\"}]},\"id\":\"d538ecef-d968-49fd-b672-0bdba255e532\",\"type\":\"Toolbar\"},{\"attributes\":{\"data_source\":{\"id\":\"6a0bda0c-3f11-4676-806f-7ab0d42aff2c\",\"type\":\"ColumnDataSource\"},\"glyph\":{\"id\":\"39b8bacc-8beb-4abe-a0f3-62f99c8a510e\",\"type\":\"VBar\"},\"hover_glyph\":null,\"muted_glyph\":null,\"nonselection_glyph\":{\"id\":\"cdffee10-5275-4e16-a97d-4b1c03429e1d\",\"type\":\"VBar\"},\"selection_glyph\":null,\"view\":{\"id\":\"388ef701-6e57-4fc2-9540-9a6f709ee8e4\",\"type\":\"CDSView\"}},\"id\":\"bb8fb1c7-9b57-4e5d-b73e-0ac10b96e059\",\"type\":\"GlyphRenderer\"},{\"attributes\":{\"plot\":{\"id\":\"8e597a3c-61c5-4a31-8e11-a5c82c2df546\",\"subtype\":\"Figure\",\"type\":\"Plot\"},\"ticker\":{\"id\":\"f7fc0c78-c416-4211-98db-e36eb488c2c4\",\"type\":\"CategoricalTicker\"}},\"id\":\"546602f5-93fe-4607-bd94-017adcaa275e\",\"type\":\"Grid\"},{\"attributes\":{\"formatter\":{\"id\":\"96b14476-d83f-4ab5-843d-4f0dbae22018\",\"type\":\"BasicTickFormatter\"},\"plot\":{\"id\":\"8e597a3c-61c5-4a31-8e11-a5c82c2df546\",\"subtype\":\"Figure\",\"type\":\"Plot\"},\"ticker\":{\"id\":\"e11c0f0b-3f45-4f7b-b7e9-3509977deba3\",\"type\":\"BasicTicker\"}},\"id\":\"0c276d41-0199-46d6-80a3-910f79b9eb38\",\"type\":\"LinearAxis\"},{\"attributes\":{},\"id\":\"f7fc0c78-c416-4211-98db-e36eb488c2c4\",\"type\":\"CategoricalTicker\"},{\"attributes\":{\"fill_color\":{\"value\":\"#1f77b4\"},\"line_color\":{\"value\":\"#1f77b4\"},\"top\":{\"field\":\"top\"},\"width\":{\"value\":0.9},\"x\":{\"field\":\"x\"}},\"id\":\"39b8bacc-8beb-4abe-a0f3-62f99c8a510e\",\"type\":\"VBar\"},{\"attributes\":{},\"id\":\"cc194efd-e0ba-441f-8708-d0df64ba3ffe\",\"type\":\"Selection\"},{\"attributes\":{},\"id\":\"e11c0f0b-3f45-4f7b-b7e9-3509977deba3\",\"type\":\"BasicTicker\"},{\"attributes\":{\"dimension\":1,\"plot\":{\"id\":\"8e597a3c-61c5-4a31-8e11-a5c82c2df546\",\"subtype\":\"Figure\",\"type\":\"Plot\"},\"ticker\":{\"id\":\"e11c0f0b-3f45-4f7b-b7e9-3509977deba3\",\"type\":\"BasicTicker\"}},\"id\":\"47c70d4d-b957-4804-aa70-243a9ea5b79e\",\"type\":\"Grid\"},{\"attributes\":{},\"id\":\"345e4716-6601-4913-bdfc-e5a30bf2222a\",\"type\":\"LinearScale\"},{\"attributes\":{\"fill_alpha\":{\"value\":0.1},\"fill_color\":{\"value\":\"#1f77b4\"},\"line_alpha\":{\"value\":0.1},\"line_color\":{\"value\":\"#1f77b4\"},\"top\":{\"field\":\"top\"},\"width\":{\"value\":0.9},\"x\":{\"field\":\"x\"}},\"id\":\"cdffee10-5275-4e16-a97d-4b1c03429e1d\",\"type\":\"VBar\"},{\"attributes\":{\"callback\":null,\"data\":{\"top\":[640096,340694,322969,181121,152004,87532,73499,57808,41915,27482,24214,20731,12282,7057,4559,1715,1679,1289,488,406],\"x\":[\"HPD\",\"NYPD\",\"DOT\",\"DEP\",\"DSNY\",\"DOB\",\"DPR\",\"DOHMH\",\"DOF\",\"HRA\",\"TLC\",\"DCA\",\"CHALL\",\"FDNY\",\"DHS\",\"EDC\",\"DOE\",\"3-1-1\",\"DOITT\",\"DFTA\"]},\"selected\":{\"id\":\"cc194efd-e0ba-441f-8708-d0df64ba3ffe\",\"type\":\"Selection\"},\"selection_policy\":{\"id\":\"ca5b5f7a-8bec-4347-a1e6-5409456e3bae\",\"type\":\"UnionRenderers\"}},\"id\":\"6a0bda0c-3f11-4676-806f-7ab0d42aff2c\",\"type\":\"ColumnDataSource\"},{\"attributes\":{},\"id\":\"ca5b5f7a-8bec-4347-a1e6-5409456e3bae\",\"type\":\"UnionRenderers\"},{\"attributes\":{\"bottom_units\":\"screen\",\"fill_alpha\":{\"value\":0.5},\"fill_color\":{\"value\":\"lightgrey\"},\"left_units\":\"screen\",\"level\":\"overlay\",\"line_alpha\":{\"value\":1.0},\"line_color\":{\"value\":\"black\"},\"line_dash\":[4,4],\"line_width\":{\"value\":2},\"plot\":null,\"render_mode\":\"css\",\"right_units\":\"screen\",\"top_units\":\"screen\"},\"id\":\"293fdc3c-0025-4b8c-b4ed-4982d43353d9\",\"type\":\"BoxAnnotation\"},{\"attributes\":{\"formatter\":{\"id\":\"ceddf6ff-d364-4177-8656-a89e45040b5e\",\"type\":\"CategoricalTickFormatter\"},\"major_label_orientation\":0.66,\"plot\":{\"id\":\"8e597a3c-61c5-4a31-8e11-a5c82c2df546\",\"subtype\":\"Figure\",\"type\":\"Plot\"},\"ticker\":{\"id\":\"f7fc0c78-c416-4211-98db-e36eb488c2c4\",\"type\":\"CategoricalTicker\"}},\"id\":\"f46dd9de-02a6-4cdf-b1b6-ec85fef15595\",\"type\":\"CategoricalAxis\"},{\"attributes\":{},\"id\":\"99b8f919-3955-4699-b4b7-f2600d9ef559\",\"type\":\"PanTool\"},{\"attributes\":{},\"id\":\"963ef54d-370c-4c47-a06f-76c4e734e820\",\"type\":\"CategoricalScale\"},{\"attributes\":{\"callback\":null},\"id\":\"af945495-fdb1-4647-8748-492bfc9d5498\",\"type\":\"DataRange1d\"},{\"attributes\":{},\"id\":\"69abec59-8e43-4a31-8a52-75947c9427f9\",\"type\":\"WheelZoomTool\"},{\"attributes\":{\"overlay\":{\"id\":\"293fdc3c-0025-4b8c-b4ed-4982d43353d9\",\"type\":\"BoxAnnotation\"}},\"id\":\"30679197-842e-409f-8405-9ce53f9c7dcf\",\"type\":\"BoxZoomTool\"},{\"attributes\":{},\"id\":\"ceddf6ff-d364-4177-8656-a89e45040b5e\",\"type\":\"CategoricalTickFormatter\"},{\"attributes\":{},\"id\":\"96b14476-d83f-4ab5-843d-4f0dbae22018\",\"type\":\"BasicTickFormatter\"},{\"attributes\":{},\"id\":\"ba7235fd-3652-468f-90f0-32902763610b\",\"type\":\"SaveTool\"},{\"attributes\":{\"below\":[{\"id\":\"f46dd9de-02a6-4cdf-b1b6-ec85fef15595\",\"type\":\"CategoricalAxis\"}],\"left\":[{\"id\":\"0c276d41-0199-46d6-80a3-910f79b9eb38\",\"type\":\"LinearAxis\"}],\"plot_height\":320,\"plot_width\":800,\"renderers\":[{\"id\":\"f46dd9de-02a6-4cdf-b1b6-ec85fef15595\",\"type\":\"CategoricalAxis\"},{\"id\":\"546602f5-93fe-4607-bd94-017adcaa275e\",\"type\":\"Grid\"},{\"id\":\"0c276d41-0199-46d6-80a3-910f79b9eb38\",\"type\":\"LinearAxis\"},{\"id\":\"47c70d4d-b957-4804-aa70-243a9ea5b79e\",\"type\":\"Grid\"},{\"id\":\"293fdc3c-0025-4b8c-b4ed-4982d43353d9\",\"type\":\"BoxAnnotation\"},{\"id\":\"bb8fb1c7-9b57-4e5d-b73e-0ac10b96e059\",\"type\":\"GlyphRenderer\"}],\"title\":{\"id\":\"3c56c6c8-aa20-4baf-a5b3-7b25a4a3ac34\",\"type\":\"Title\"},\"toolbar\":{\"id\":\"d538ecef-d968-49fd-b672-0bdba255e532\",\"type\":\"Toolbar\"},\"x_range\":{\"id\":\"c100ef75-81c8-4245-835c-9fa45787e0b7\",\"type\":\"FactorRange\"},\"x_scale\":{\"id\":\"963ef54d-370c-4c47-a06f-76c4e734e820\",\"type\":\"CategoricalScale\"},\"y_range\":{\"id\":\"af945495-fdb1-4647-8748-492bfc9d5498\",\"type\":\"DataRange1d\"},\"y_scale\":{\"id\":\"345e4716-6601-4913-bdfc-e5a30bf2222a\",\"type\":\"LinearScale\"}},\"id\":\"8e597a3c-61c5-4a31-8e11-a5c82c2df546\",\"subtype\":\"Figure\",\"type\":\"Plot\"},{\"attributes\":{\"plot\":null,\"text\":\"Top 20 agencies by number of complaints\"},\"id\":\"3c56c6c8-aa20-4baf-a5b3-7b25a4a3ac34\",\"type\":\"Title\"},{\"attributes\":{},\"id\":\"7735d205-48f1-4fdf-867f-607e596b7324\",\"type\":\"ResetTool\"},{\"attributes\":{},\"id\":\"97330ff1-75b9-432b-a33e-ec136b7cb1da\",\"type\":\"HelpTool\"},{\"attributes\":{\"callback\":null,\"factors\":[\"HPD\",\"NYPD\",\"DOT\",\"DEP\",\"DSNY\",\"DOB\",\"DPR\",\"DOHMH\",\"DOF\",\"HRA\",\"TLC\",\"DCA\",\"CHALL\",\"FDNY\",\"DHS\",\"EDC\",\"DOE\",\"3-1-1\",\"DOITT\",\"DFTA\"]},\"id\":\"c100ef75-81c8-4245-835c-9fa45787e0b7\",\"type\":\"FactorRange\"}],\"root_ids\":[\"8e597a3c-61c5-4a31-8e11-a5c82c2df546\"]},\"title\":\"Bokeh Application\",\"version\":\"0.12.16\"}};\n",
       "  var render_items = [{\"docid\":\"fc52b319-ff98-4540-9fd2-b19c9539ce8d\",\"elementid\":\"7c559731-a61c-47dc-b089-718ff3b1ef5e\",\"modelid\":\"8e597a3c-61c5-4a31-8e11-a5c82c2df546\"}];\n",
       "  root.Bokeh.embed.embed_items_notebook(docs_json, render_items);\n",
       "\n",
       "  }\n",
       "  if (root.Bokeh !== undefined) {\n",
       "    embed_document(root);\n",
       "  } else {\n",
       "    var attempts = 0;\n",
       "    var timer = setInterval(function(root) {\n",
       "      if (root.Bokeh !== undefined) {\n",
       "        embed_document(root);\n",
       "        clearInterval(timer);\n",
       "      }\n",
       "      attempts++;\n",
       "      if (attempts > 100) {\n",
       "        console.log(\"Bokeh: ERROR: Unable to run BokehJS code because BokehJS library is missing\")\n",
       "        clearInterval(timer);\n",
       "      }\n",
       "    }, 10, root)\n",
       "  }\n",
       "})(window);"
      ],
      "application/vnd.bokehjs_exec.v0+json": ""
     },
     "metadata": {
      "application/vnd.bokehjs_exec.v0+json": {
       "id": "8e597a3c-61c5-4a31-8e11-a5c82c2df546"
      }
     },
     "output_type": "display_data"
    }
   ],
   "source": [
    "p = make_barchart(df[:20], 'Agency', 'NumComplaints',\n",
    "                  {'title': 'Top 20 agencies by number of complaints',\n",
    "                   'plot_width': 800, 'plot_height': 320})\n",
    "p.xaxis.major_label_orientation = 0.66\n",
    "show(p)"
   ]
  },
  {
   "cell_type": "markdown",
   "metadata": {
    "nbgrader": {
     "grade": false,
     "locked": true,
     "solution": false
    },
    "nbpresent": {
     "id": "c2798673-ea3c-4699-a6e3-d260ea898fe7"
    }
   },
   "source": [
    "**Exercise 1** (2 points). Create a string, `query`, containing an SQL query that will return the number of complaints by type. The columns should be named `type` and `freq`, and the results should be sorted in descending order by `freq`.\n",
    "\n",
    "> What is the most common type of complaint? What, if anything, does it tell you about NYC?"
   ]
  },
  {
   "cell_type": "code",
   "execution_count": 23,
   "metadata": {
    "deletable": false,
    "nbgrader": {
     "checksum": "02c545e88c5dbdd207e79390140a6648",
     "grade": false,
     "grade_id": "complaints",
     "locked": false,
     "schema_version": 1,
     "solution": true
    },
    "nbpresent": {
     "id": "e295216c-a5d8-498c-884d-a971991f23a0"
    }
   },
   "outputs": [
    {
     "data": {
      "text/html": [
       "<div>\n",
       "<style scoped>\n",
       "    .dataframe tbody tr th:only-of-type {\n",
       "        vertical-align: middle;\n",
       "    }\n",
       "\n",
       "    .dataframe tbody tr th {\n",
       "        vertical-align: top;\n",
       "    }\n",
       "\n",
       "    .dataframe thead th {\n",
       "        text-align: right;\n",
       "    }\n",
       "</style>\n",
       "<table border=\"1\" class=\"dataframe\">\n",
       "  <thead>\n",
       "    <tr style=\"text-align: right;\">\n",
       "      <th></th>\n",
       "      <th>type</th>\n",
       "      <th>freq</th>\n",
       "    </tr>\n",
       "  </thead>\n",
       "  <tbody>\n",
       "    <tr>\n",
       "      <th>0</th>\n",
       "      <td>HEAT/HOT WATER</td>\n",
       "      <td>241430</td>\n",
       "    </tr>\n",
       "    <tr>\n",
       "      <th>1</th>\n",
       "      <td>Street Condition</td>\n",
       "      <td>124347</td>\n",
       "    </tr>\n",
       "    <tr>\n",
       "      <th>2</th>\n",
       "      <td>Street Light Condition</td>\n",
       "      <td>98577</td>\n",
       "    </tr>\n",
       "    <tr>\n",
       "      <th>3</th>\n",
       "      <td>Blocked Driveway</td>\n",
       "      <td>95080</td>\n",
       "    </tr>\n",
       "    <tr>\n",
       "      <th>4</th>\n",
       "      <td>Illegal Parking</td>\n",
       "      <td>83961</td>\n",
       "    </tr>\n",
       "  </tbody>\n",
       "</table>\n",
       "</div>"
      ],
      "text/plain": [
       "                     type    freq\n",
       "0          HEAT/HOT WATER  241430\n",
       "1        Street Condition  124347\n",
       "2  Street Light Condition   98577\n",
       "3        Blocked Driveway   95080\n",
       "4         Illegal Parking   83961"
      ]
     },
     "execution_count": 23,
     "metadata": {},
     "output_type": "execute_result"
    }
   ],
   "source": [
    "del query\n",
    "\n",
    "# Define a variable named `query` containing your solution\n",
    "###\n",
    "query = '''\n",
    "    SELECT ComplaintType as type, COUNT(*) as freq\n",
    "    FROM data\n",
    "    GROUP BY type\n",
    "    ORDER BY freq DESC\n",
    "'''\n",
    "###\n",
    "\n",
    "# Runs your `query`:\n",
    "df_complaint_freq = pd.read_sql_query(query, disk_engine)\n",
    "df_complaint_freq.head()"
   ]
  },
  {
   "cell_type": "code",
   "execution_count": 24,
   "metadata": {
    "deletable": false,
    "nbgrader": {
     "checksum": "ba2225530b41553e9533a726e87b0546",
     "grade": true,
     "grade_id": "complaints_test",
     "locked": true,
     "points": 2,
     "schema_version": 1,
     "solution": false
    },
    "nbpresent": {
     "id": "30c8f31e-b2f3-46fb-b07c-38af40417e8e"
    }
   },
   "outputs": [
    {
     "name": "stdout",
     "output_type": "stream",
     "text": [
      "Top 10 complaints:\n"
     ]
    },
    {
     "data": {
      "text/html": [
       "<div>\n",
       "<style scoped>\n",
       "    .dataframe tbody tr th:only-of-type {\n",
       "        vertical-align: middle;\n",
       "    }\n",
       "\n",
       "    .dataframe tbody tr th {\n",
       "        vertical-align: top;\n",
       "    }\n",
       "\n",
       "    .dataframe thead th {\n",
       "        text-align: right;\n",
       "    }\n",
       "</style>\n",
       "<table border=\"1\" class=\"dataframe\">\n",
       "  <thead>\n",
       "    <tr style=\"text-align: right;\">\n",
       "      <th></th>\n",
       "      <th>type</th>\n",
       "      <th>freq</th>\n",
       "    </tr>\n",
       "  </thead>\n",
       "  <tbody>\n",
       "    <tr>\n",
       "      <th>0</th>\n",
       "      <td>HEAT/HOT WATER</td>\n",
       "      <td>241430</td>\n",
       "    </tr>\n",
       "    <tr>\n",
       "      <th>1</th>\n",
       "      <td>Street Condition</td>\n",
       "      <td>124347</td>\n",
       "    </tr>\n",
       "    <tr>\n",
       "      <th>2</th>\n",
       "      <td>Street Light Condition</td>\n",
       "      <td>98577</td>\n",
       "    </tr>\n",
       "    <tr>\n",
       "      <th>3</th>\n",
       "      <td>Blocked Driveway</td>\n",
       "      <td>95080</td>\n",
       "    </tr>\n",
       "    <tr>\n",
       "      <th>4</th>\n",
       "      <td>Illegal Parking</td>\n",
       "      <td>83961</td>\n",
       "    </tr>\n",
       "    <tr>\n",
       "      <th>5</th>\n",
       "      <td>UNSANITARY CONDITION</td>\n",
       "      <td>81394</td>\n",
       "    </tr>\n",
       "    <tr>\n",
       "      <th>6</th>\n",
       "      <td>PAINT/PLASTER</td>\n",
       "      <td>69929</td>\n",
       "    </tr>\n",
       "    <tr>\n",
       "      <th>7</th>\n",
       "      <td>Water System</td>\n",
       "      <td>69209</td>\n",
       "    </tr>\n",
       "    <tr>\n",
       "      <th>8</th>\n",
       "      <td>PLUMBING</td>\n",
       "      <td>55445</td>\n",
       "    </tr>\n",
       "    <tr>\n",
       "      <th>9</th>\n",
       "      <td>Noise</td>\n",
       "      <td>54165</td>\n",
       "    </tr>\n",
       "  </tbody>\n",
       "</table>\n",
       "</div>"
      ],
      "text/plain": [
       "                     type    freq\n",
       "0          HEAT/HOT WATER  241430\n",
       "1        Street Condition  124347\n",
       "2  Street Light Condition   98577\n",
       "3        Blocked Driveway   95080\n",
       "4         Illegal Parking   83961\n",
       "5    UNSANITARY CONDITION   81394\n",
       "6           PAINT/PLASTER   69929\n",
       "7            Water System   69209\n",
       "8                PLUMBING   55445\n",
       "9                   Noise   54165"
      ]
     },
     "metadata": {},
     "output_type": "display_data"
    },
    {
     "name": "stdout",
     "output_type": "stream",
     "text": [
      "\n",
      "(Passed.)\n"
     ]
    }
   ],
   "source": [
    "# Test cell: `complaints_test`\n",
    "\n",
    "print(\"Top 10 complaints:\")\n",
    "display(df_complaint_freq.head(10))\n",
    "\n",
    "assert set(df_complaint_freq.columns) == {'type', 'freq'}, \"Output columns should be named 'type' and 'freq', not {}\".format(set(df_complaint_freq.columns))\n",
    "\n",
    "soln = ['HEAT/HOT WATER', 'Street Condition', 'Street Light Condition', 'Blocked Driveway', 'Illegal Parking', 'UNSANITARY CONDITION', 'PAINT/PLASTER', 'Water System', 'PLUMBING', 'Noise', 'Noise - Street/Sidewalk', 'Traffic Signal Condition', 'Noise - Commercial', 'DOOR/WINDOW', 'WATER LEAK', 'Dirty Conditions', 'Sewer', 'Sanitation Condition', 'DOF Literature Request', 'ELECTRIC', 'Rodent', 'FLOORING/STAIRS', 'General Construction/Plumbing', 'Building/Use', 'Broken Muni Meter', 'GENERAL', 'Missed Collection (All Materials)', 'Benefit Card Replacement', 'Derelict Vehicle', 'Noise - Vehicle', 'Damaged Tree', 'Consumer Complaint', 'Derelict Vehicles', 'Taxi Complaint', 'Overgrown Tree/Branches', 'Graffiti', 'Snow', 'Opinion for the Mayor', 'APPLIANCE', 'Maintenance or Facility', 'Animal Abuse', 'Dead Tree', 'HPD Literature Request', 'Root/Sewer/Sidewalk Condition', 'SAFETY', 'Elevator', 'Food Establishment', 'SCRIE', 'Air Quality', 'Agency Issues', 'Construction', 'Highway Condition', 'Other Enforcement', 'Water Conservation', 'Sidewalk Condition', 'Indoor Air Quality', 'Street Sign - Damaged', 'Traffic', 'Plumbing', 'Fire Safety Director - F58', 'Homeless Person Assistance', 'Homeless Encampment', 'Special Enforcement', 'Street Sign - Missing', 'Noise - Park', 'Vending', 'For Hire Vehicle Complaint', 'Food Poisoning', 'Special Projects Inspection Team (SPIT)', 'Hazardous Materials', 'Electrical', 'DOT Literature Request', 'Litter Basket / Request', 'Taxi Report', 'Illegal Tree Damage', 'DOF Property - Reduction Issue', 'Unsanitary Animal Pvt Property', 'Asbestos', 'Lead', 'Vacant Lot', 'DCA / DOH New License Application Request', 'Street Sign - Dangling', 'Smoking', 'Violation of Park Rules', 'OUTSIDE BUILDING', 'Animal in a Park', 'Noise - Helicopter', 'School Maintenance', 'DPR Internal', 'Boilers', 'Industrial Waste', 'Sweeping/Missed', 'Overflowing Litter Baskets', 'Non-Residential Heat', 'Curb Condition', 'Drinking', 'Standing Water', 'Indoor Sewage', 'Water Quality', 'EAP Inspection - F59', 'Derelict Bicycle', 'Noise - House of Worship', 'DCA Literature Request', 'Recycling Enforcement', 'ELEVATOR', 'DOF Parking - Tax Exemption', 'Broken Parking Meter', 'Request for Information', 'Taxi Compliment', 'Unleashed Dog', 'Urinating in Public', 'Unsanitary Pigeon Condition', 'Investigations and Discipline (IAD)', 'Bridge Condition', 'Ferry Inquiry', 'Bike/Roller/Skate Chronic', 'Public Payphone Complaint', 'Vector', 'BEST/Site Safety', 'Sweeping/Inadequate', 'Disorderly Youth', 'Found Property', 'Mold', 'Senior Center Complaint', 'Fire Alarm - Reinspection', 'For Hire Vehicle Report', 'City Vehicle Placard Complaint', 'Cranes and Derricks', 'Ferry Complaint', 'Illegal Animal Kept as Pet', 'Posting Advertisement', 'Harboring Bees/Wasps', 'Panhandling', 'Scaffold Safety', 'OEM Literature Request', 'Plant', 'Bus Stop Shelter Placement', 'Collection Truck Noise', 'Beach/Pool/Sauna Complaint', 'Complaint', 'Compliment', 'Illegal Fireworks', 'Fire Alarm - Modification', 'DEP Literature Request', 'Drinking Water', 'Fire Alarm - New System', 'Poison Ivy', 'Bike Rack Condition', 'Emergency Response Team (ERT)', 'Municipal Parking Facility', 'Tattooing', 'Unsanitary Animal Facility', 'Animal Facility - No Permit', 'Miscellaneous Categories', 'Misc. Comments', 'Literature Request', 'Special Natural Area District (SNAD)', 'Highway Sign - Damaged', 'Public Toilet', 'Adopt-A-Basket', 'Ferry Permit', 'Invitation', 'Window Guard', 'Parking Card', 'Illegal Animal Sold', 'Stalled Sites', 'Open Flame Permit', 'Overflowing Recycling Baskets', 'Highway Sign - Missing', 'Public Assembly', 'DPR Literature Request', 'Fire Alarm - Addition', 'Lifeguard', 'Transportation Provider Complaint', 'DFTA Literature Request', 'Bottled Water', 'Highway Sign - Dangling', 'DHS Income Savings Requirement', 'Legal Services Provider Complaint', 'Foam Ban Enforcement', 'Tunnel Condition', 'Calorie Labeling', 'Fire Alarm - Replacement', 'X-Ray Machine/Equipment', 'Sprinkler - Mechanical', 'Hazmat Storage/Use', 'Tanning', 'Radioactive Material', 'Rangehood', 'SRDE', 'Squeegee', 'Building Condition', 'SG-98', 'Standpipe - Mechanical', 'AGENCY', 'Forensic Engineering', 'Public Assembly - Temporary', 'VACANT APARTMENT', 'Laboratory', 'SG-99']\n",
    "assert all(soln == df_complaint_freq['type'])\n",
    "\n",
    "print(\"\\n(Passed.)\")"
   ]
  },
  {
   "cell_type": "markdown",
   "metadata": {
    "nbgrader": {
     "grade": false,
     "locked": true,
     "solution": false
    },
    "nbpresent": {
     "id": "044baaf9-9926-4afb-9e03-85073ca711c3"
    }
   },
   "source": [
    "Let's also visualize the result, as a bar chart showing complaint types on the x-axis and the number of complaints on the y-axis."
   ]
  },
  {
   "cell_type": "code",
   "execution_count": 25,
   "metadata": {
    "nbpresent": {
     "id": "e61968e4-5052-4825-9c07-d5221f507ed2"
    }
   },
   "outputs": [
    {
     "data": {
      "text/html": [
       "\n",
       "<div class=\"bk-root\">\n",
       "    <div class=\"bk-plotdiv\" id=\"d3b9189e-06c5-40d9-aca2-78826bfb1ef4\"></div>\n",
       "</div>"
      ]
     },
     "metadata": {},
     "output_type": "display_data"
    },
    {
     "data": {
      "application/javascript": [
       "(function(root) {\n",
       "  function embed_document(root) {\n",
       "    \n",
       "  var docs_json = {\"420f9659-1e7e-4fb9-84f2-2524095d36af\":{\"roots\":{\"references\":[{\"attributes\":{\"source\":{\"id\":\"c735bab5-f6af-40ce-9b4b-4779dd834c7c\",\"type\":\"ColumnDataSource\"}},\"id\":\"20a7a2eb-53dd-4d33-9484-8cd63063f017\",\"type\":\"CDSView\"},{\"attributes\":{},\"id\":\"b3256701-a3e0-40fd-b5de-25f670bd71ab\",\"type\":\"BasicTicker\"},{\"attributes\":{},\"id\":\"507726f4-855d-4e9b-a375-c9e5686dd313\",\"type\":\"CategoricalScale\"},{\"attributes\":{\"data_source\":{\"id\":\"c735bab5-f6af-40ce-9b4b-4779dd834c7c\",\"type\":\"ColumnDataSource\"},\"glyph\":{\"id\":\"5291b076-25a4-4bc1-938f-f702a256812d\",\"type\":\"VBar\"},\"hover_glyph\":null,\"muted_glyph\":null,\"nonselection_glyph\":{\"id\":\"6fbb9879-2ac8-4a49-a006-fbad6bf4612e\",\"type\":\"VBar\"},\"selection_glyph\":null,\"view\":{\"id\":\"20a7a2eb-53dd-4d33-9484-8cd63063f017\",\"type\":\"CDSView\"}},\"id\":\"5e68ae85-e3db-42b2-8053-87d4f6e5b068\",\"type\":\"GlyphRenderer\"},{\"attributes\":{\"dimension\":1,\"plot\":{\"id\":\"87405b0d-dd97-4b90-9c20-1eec6fe948d8\",\"subtype\":\"Figure\",\"type\":\"Plot\"},\"ticker\":{\"id\":\"b3256701-a3e0-40fd-b5de-25f670bd71ab\",\"type\":\"BasicTicker\"}},\"id\":\"d2cba41c-9a23-4c82-9bdc-69dbacaf2b85\",\"type\":\"Grid\"},{\"attributes\":{},\"id\":\"e0177f4f-2061-49b0-90cb-cb6ec69eb8b2\",\"type\":\"Selection\"},{\"attributes\":{},\"id\":\"0fbaeaad-2a18-4715-b5c0-6d01ee1a734a\",\"type\":\"CategoricalTicker\"},{\"attributes\":{},\"id\":\"3925ba5f-8137-4114-bd36-fe37f8b8ff1b\",\"type\":\"CategoricalTickFormatter\"},{\"attributes\":{\"callback\":null,\"factors\":[\"HEAT/HOT WATER\",\"Street Condition\",\"Street Light Condition\",\"Blocked Driveway\",\"Illegal Parking\",\"UNSANITARY CONDITION\",\"PAINT/PLASTER\",\"Water System\",\"PLUMBING\",\"Noise\",\"Noise - Street/Sidewalk\",\"Traffic Signal Condition\",\"Noise - Commercial\",\"DOOR/WINDOW\",\"WATER LEAK\",\"Dirty Conditions\",\"Sewer\",\"Sanitation Condition\",\"DOF Literature Request\",\"ELECTRIC\",\"Rodent\",\"FLOORING/STAIRS\",\"General Construction/Plumbing\",\"Building/Use\",\"Broken Muni Meter\"]},\"id\":\"4e70f89e-f961-4512-b0fd-55eb3a1f8870\",\"type\":\"FactorRange\"},{\"attributes\":{},\"id\":\"ef275e1f-b413-45a9-af2c-290e26896c65\",\"type\":\"UnionRenderers\"},{\"attributes\":{\"callback\":null,\"data\":{\"top\":[241430,124347,98577,95080,83961,81394,69929,69209,55445,54165,48436,44229,42422,39695,36149,35122,33628,31260,30326,30248,28454,27007,26861,25807,25428],\"x\":[\"HEAT/HOT WATER\",\"Street Condition\",\"Street Light Condition\",\"Blocked Driveway\",\"Illegal Parking\",\"UNSANITARY CONDITION\",\"PAINT/PLASTER\",\"Water System\",\"PLUMBING\",\"Noise\",\"Noise - Street/Sidewalk\",\"Traffic Signal Condition\",\"Noise - Commercial\",\"DOOR/WINDOW\",\"WATER LEAK\",\"Dirty Conditions\",\"Sewer\",\"Sanitation Condition\",\"DOF Literature Request\",\"ELECTRIC\",\"Rodent\",\"FLOORING/STAIRS\",\"General Construction/Plumbing\",\"Building/Use\",\"Broken Muni Meter\"]},\"selected\":{\"id\":\"e0177f4f-2061-49b0-90cb-cb6ec69eb8b2\",\"type\":\"Selection\"},\"selection_policy\":{\"id\":\"ef275e1f-b413-45a9-af2c-290e26896c65\",\"type\":\"UnionRenderers\"}},\"id\":\"c735bab5-f6af-40ce-9b4b-4779dd834c7c\",\"type\":\"ColumnDataSource\"},{\"attributes\":{},\"id\":\"0eeaa516-1ebb-40ec-b9ed-59f5058559f0\",\"type\":\"BasicTickFormatter\"},{\"attributes\":{\"bottom_units\":\"screen\",\"fill_alpha\":{\"value\":0.5},\"fill_color\":{\"value\":\"lightgrey\"},\"left_units\":\"screen\",\"level\":\"overlay\",\"line_alpha\":{\"value\":1.0},\"line_color\":{\"value\":\"black\"},\"line_dash\":[4,4],\"line_width\":{\"value\":2},\"plot\":null,\"render_mode\":\"css\",\"right_units\":\"screen\",\"top_units\":\"screen\"},\"id\":\"85b75092-9985-442b-b0ac-4812e9a82763\",\"type\":\"BoxAnnotation\"},{\"attributes\":{},\"id\":\"6e3670ba-7683-439f-8c6f-5f7dad6f5afe\",\"type\":\"PanTool\"},{\"attributes\":{\"formatter\":{\"id\":\"3925ba5f-8137-4114-bd36-fe37f8b8ff1b\",\"type\":\"CategoricalTickFormatter\"},\"major_label_orientation\":0.66,\"plot\":{\"id\":\"87405b0d-dd97-4b90-9c20-1eec6fe948d8\",\"subtype\":\"Figure\",\"type\":\"Plot\"},\"ticker\":{\"id\":\"0fbaeaad-2a18-4715-b5c0-6d01ee1a734a\",\"type\":\"CategoricalTicker\"}},\"id\":\"e57bd98a-0a3a-479d-aa20-874dacc87b2c\",\"type\":\"CategoricalAxis\"},{\"attributes\":{},\"id\":\"8f0c1f14-daf0-48ee-99d1-39aa060972c9\",\"type\":\"WheelZoomTool\"},{\"attributes\":{\"fill_alpha\":{\"value\":0.1},\"fill_color\":{\"value\":\"#1f77b4\"},\"line_alpha\":{\"value\":0.1},\"line_color\":{\"value\":\"#1f77b4\"},\"top\":{\"field\":\"top\"},\"width\":{\"value\":0.9},\"x\":{\"field\":\"x\"}},\"id\":\"6fbb9879-2ac8-4a49-a006-fbad6bf4612e\",\"type\":\"VBar\"},{\"attributes\":{\"plot\":{\"id\":\"87405b0d-dd97-4b90-9c20-1eec6fe948d8\",\"subtype\":\"Figure\",\"type\":\"Plot\"},\"ticker\":{\"id\":\"0fbaeaad-2a18-4715-b5c0-6d01ee1a734a\",\"type\":\"CategoricalTicker\"}},\"id\":\"efcff8b7-8285-470e-a441-ab8eebd62374\",\"type\":\"Grid\"},{\"attributes\":{\"overlay\":{\"id\":\"85b75092-9985-442b-b0ac-4812e9a82763\",\"type\":\"BoxAnnotation\"}},\"id\":\"1cd2c8bc-43f7-4a84-8422-092ec22e6891\",\"type\":\"BoxZoomTool\"},{\"attributes\":{\"below\":[{\"id\":\"e57bd98a-0a3a-479d-aa20-874dacc87b2c\",\"type\":\"CategoricalAxis\"}],\"left\":[{\"id\":\"b1c78f92-aecc-446f-9e95-252815579881\",\"type\":\"LinearAxis\"}],\"plot_height\":320,\"plot_width\":800,\"renderers\":[{\"id\":\"e57bd98a-0a3a-479d-aa20-874dacc87b2c\",\"type\":\"CategoricalAxis\"},{\"id\":\"efcff8b7-8285-470e-a441-ab8eebd62374\",\"type\":\"Grid\"},{\"id\":\"b1c78f92-aecc-446f-9e95-252815579881\",\"type\":\"LinearAxis\"},{\"id\":\"d2cba41c-9a23-4c82-9bdc-69dbacaf2b85\",\"type\":\"Grid\"},{\"id\":\"85b75092-9985-442b-b0ac-4812e9a82763\",\"type\":\"BoxAnnotation\"},{\"id\":\"5e68ae85-e3db-42b2-8053-87d4f6e5b068\",\"type\":\"GlyphRenderer\"}],\"title\":{\"id\":\"2b765fff-4072-428d-8901-57b105393361\",\"type\":\"Title\"},\"toolbar\":{\"id\":\"7c0d84cc-1c48-41c5-8374-16354b8dfafb\",\"type\":\"Toolbar\"},\"x_range\":{\"id\":\"4e70f89e-f961-4512-b0fd-55eb3a1f8870\",\"type\":\"FactorRange\"},\"x_scale\":{\"id\":\"507726f4-855d-4e9b-a375-c9e5686dd313\",\"type\":\"CategoricalScale\"},\"y_range\":{\"id\":\"6c09b242-da35-4b66-9dac-baa16949b898\",\"type\":\"DataRange1d\"},\"y_scale\":{\"id\":\"9a1fc644-7b43-4066-9142-314e38155803\",\"type\":\"LinearScale\"}},\"id\":\"87405b0d-dd97-4b90-9c20-1eec6fe948d8\",\"subtype\":\"Figure\",\"type\":\"Plot\"},{\"attributes\":{\"callback\":null},\"id\":\"6c09b242-da35-4b66-9dac-baa16949b898\",\"type\":\"DataRange1d\"},{\"attributes\":{},\"id\":\"b5c93c95-4a16-4f6a-a298-1a2070524cd8\",\"type\":\"SaveTool\"},{\"attributes\":{\"active_drag\":\"auto\",\"active_inspect\":\"auto\",\"active_scroll\":\"auto\",\"active_tap\":\"auto\",\"tools\":[{\"id\":\"6e3670ba-7683-439f-8c6f-5f7dad6f5afe\",\"type\":\"PanTool\"},{\"id\":\"8f0c1f14-daf0-48ee-99d1-39aa060972c9\",\"type\":\"WheelZoomTool\"},{\"id\":\"1cd2c8bc-43f7-4a84-8422-092ec22e6891\",\"type\":\"BoxZoomTool\"},{\"id\":\"b5c93c95-4a16-4f6a-a298-1a2070524cd8\",\"type\":\"SaveTool\"},{\"id\":\"f51a7c39-4d4e-49df-9735-3006c67610b4\",\"type\":\"ResetTool\"},{\"id\":\"d4765ee4-6ef7-4d70-9ba8-2829442d3891\",\"type\":\"HelpTool\"}]},\"id\":\"7c0d84cc-1c48-41c5-8374-16354b8dfafb\",\"type\":\"Toolbar\"},{\"attributes\":{\"formatter\":{\"id\":\"0eeaa516-1ebb-40ec-b9ed-59f5058559f0\",\"type\":\"BasicTickFormatter\"},\"plot\":{\"id\":\"87405b0d-dd97-4b90-9c20-1eec6fe948d8\",\"subtype\":\"Figure\",\"type\":\"Plot\"},\"ticker\":{\"id\":\"b3256701-a3e0-40fd-b5de-25f670bd71ab\",\"type\":\"BasicTicker\"}},\"id\":\"b1c78f92-aecc-446f-9e95-252815579881\",\"type\":\"LinearAxis\"},{\"attributes\":{},\"id\":\"f51a7c39-4d4e-49df-9735-3006c67610b4\",\"type\":\"ResetTool\"},{\"attributes\":{\"plot\":null,\"text\":\"Top 25 complaints by type\"},\"id\":\"2b765fff-4072-428d-8901-57b105393361\",\"type\":\"Title\"},{\"attributes\":{},\"id\":\"9a1fc644-7b43-4066-9142-314e38155803\",\"type\":\"LinearScale\"},{\"attributes\":{},\"id\":\"d4765ee4-6ef7-4d70-9ba8-2829442d3891\",\"type\":\"HelpTool\"},{\"attributes\":{\"fill_color\":{\"value\":\"#1f77b4\"},\"line_color\":{\"value\":\"#1f77b4\"},\"top\":{\"field\":\"top\"},\"width\":{\"value\":0.9},\"x\":{\"field\":\"x\"}},\"id\":\"5291b076-25a4-4bc1-938f-f702a256812d\",\"type\":\"VBar\"}],\"root_ids\":[\"87405b0d-dd97-4b90-9c20-1eec6fe948d8\"]},\"title\":\"Bokeh Application\",\"version\":\"0.12.16\"}};\n",
       "  var render_items = [{\"docid\":\"420f9659-1e7e-4fb9-84f2-2524095d36af\",\"elementid\":\"d3b9189e-06c5-40d9-aca2-78826bfb1ef4\",\"modelid\":\"87405b0d-dd97-4b90-9c20-1eec6fe948d8\"}];\n",
       "  root.Bokeh.embed.embed_items_notebook(docs_json, render_items);\n",
       "\n",
       "  }\n",
       "  if (root.Bokeh !== undefined) {\n",
       "    embed_document(root);\n",
       "  } else {\n",
       "    var attempts = 0;\n",
       "    var timer = setInterval(function(root) {\n",
       "      if (root.Bokeh !== undefined) {\n",
       "        embed_document(root);\n",
       "        clearInterval(timer);\n",
       "      }\n",
       "      attempts++;\n",
       "      if (attempts > 100) {\n",
       "        console.log(\"Bokeh: ERROR: Unable to run BokehJS code because BokehJS library is missing\")\n",
       "        clearInterval(timer);\n",
       "      }\n",
       "    }, 10, root)\n",
       "  }\n",
       "})(window);"
      ],
      "application/vnd.bokehjs_exec.v0+json": ""
     },
     "metadata": {
      "application/vnd.bokehjs_exec.v0+json": {
       "id": "87405b0d-dd97-4b90-9c20-1eec6fe948d8"
      }
     },
     "output_type": "display_data"
    }
   ],
   "source": [
    "p = make_barchart(df_complaint_freq[:25], 'type', 'freq',\n",
    "                  {'title': 'Top 25 complaints by type',\n",
    "                   'plot_width': 800, 'plot_height': 320})\n",
    "p.xaxis.major_label_orientation = 0.66\n",
    "show(p)"
   ]
  },
  {
   "cell_type": "markdown",
   "metadata": {
    "deletable": false,
    "nbgrader": {
     "grade": false,
     "locked": true,
     "solution": false
    },
    "nbpresent": {
     "id": "887dcef2-10b4-4cbb-a282-ad93dd89332c"
    }
   },
   "source": [
    "# Lesson 3: More SQL stuff"
   ]
  },
  {
   "cell_type": "markdown",
   "metadata": {
    "nbgrader": {
     "grade": false,
     "locked": true,
     "solution": false
    },
    "nbpresent": {
     "id": "13ad6402-b7cf-4426-8a8f-6758fa07aec0"
    }
   },
   "source": [
    "**Simple substring matching: the `LIKE` operator.** Suppose we just want to look at the counts for all complaints that have the word `noise` in them. You can use the `LIKE` operator combined with the string wildcard, `%`, to look for case-insensitive substring matches."
   ]
  },
  {
   "cell_type": "code",
   "execution_count": 26,
   "metadata": {
    "nbpresent": {
     "id": "cdc97977-5b18-4e09-aa88-49458e4f6921"
    }
   },
   "outputs": [
    {
     "data": {
      "text/html": [
       "<div>\n",
       "<style scoped>\n",
       "    .dataframe tbody tr th:only-of-type {\n",
       "        vertical-align: middle;\n",
       "    }\n",
       "\n",
       "    .dataframe tbody tr th {\n",
       "        vertical-align: top;\n",
       "    }\n",
       "\n",
       "    .dataframe thead th {\n",
       "        text-align: right;\n",
       "    }\n",
       "</style>\n",
       "<table border=\"1\" class=\"dataframe\">\n",
       "  <thead>\n",
       "    <tr style=\"text-align: right;\">\n",
       "      <th></th>\n",
       "      <th>type</th>\n",
       "      <th>freq</th>\n",
       "    </tr>\n",
       "  </thead>\n",
       "  <tbody>\n",
       "    <tr>\n",
       "      <th>0</th>\n",
       "      <td>Noise</td>\n",
       "      <td>54165</td>\n",
       "    </tr>\n",
       "    <tr>\n",
       "      <th>1</th>\n",
       "      <td>Noise - Street/Sidewalk</td>\n",
       "      <td>48436</td>\n",
       "    </tr>\n",
       "    <tr>\n",
       "      <th>2</th>\n",
       "      <td>Noise - Commercial</td>\n",
       "      <td>42422</td>\n",
       "    </tr>\n",
       "    <tr>\n",
       "      <th>3</th>\n",
       "      <td>Noise - Vehicle</td>\n",
       "      <td>18370</td>\n",
       "    </tr>\n",
       "    <tr>\n",
       "      <th>4</th>\n",
       "      <td>Noise - Park</td>\n",
       "      <td>4020</td>\n",
       "    </tr>\n",
       "    <tr>\n",
       "      <th>5</th>\n",
       "      <td>Noise - Helicopter</td>\n",
       "      <td>1715</td>\n",
       "    </tr>\n",
       "    <tr>\n",
       "      <th>6</th>\n",
       "      <td>Noise - House of Worship</td>\n",
       "      <td>1143</td>\n",
       "    </tr>\n",
       "    <tr>\n",
       "      <th>7</th>\n",
       "      <td>Collection Truck Noise</td>\n",
       "      <td>184</td>\n",
       "    </tr>\n",
       "  </tbody>\n",
       "</table>\n",
       "</div>"
      ],
      "text/plain": [
       "                       type   freq\n",
       "0                     Noise  54165\n",
       "1   Noise - Street/Sidewalk  48436\n",
       "2        Noise - Commercial  42422\n",
       "3           Noise - Vehicle  18370\n",
       "4              Noise - Park   4020\n",
       "5        Noise - Helicopter   1715\n",
       "6  Noise - House of Worship   1143\n",
       "7    Collection Truck Noise    184"
      ]
     },
     "execution_count": 26,
     "metadata": {},
     "output_type": "execute_result"
    }
   ],
   "source": [
    "query = '''\n",
    "  SELECT ComplaintType AS type, COUNT(*) AS freq\n",
    "    FROM data\n",
    "    WHERE ComplaintType LIKE '%noise%'\n",
    "    GROUP BY type\n",
    "    ORDER BY -freq\n",
    "'''\n",
    "\n",
    "df_noisy = pd.read_sql_query(query, disk_engine)\n",
    "df_noisy"
   ]
  },
  {
   "cell_type": "markdown",
   "metadata": {
    "nbgrader": {
     "grade": false,
     "locked": true,
     "solution": false
    },
    "nbpresent": {
     "id": "e86be66c-aec9-4135-8f3e-b7fabaa2e800"
    }
   },
   "source": [
    "**Exercise 2** (2 points). Create a string variable, `query`, that contains an SQL query that will return the top 10 cities with the largest number of complaints, in descending order. It should return a table with two columns, one named `name` holding the name of the city, and one named `freq` holding the number of complaints by that city."
   ]
  },
  {
   "cell_type": "code",
   "execution_count": 27,
   "metadata": {
    "deletable": false,
    "nbgrader": {
     "checksum": "1360beba933bca514fb725bb499e512a",
     "grade": false,
     "grade_id": "whiny_cities",
     "locked": false,
     "schema_version": 1,
     "solution": true
    },
    "nbpresent": {
     "id": "c18e68d3-61ed-4258-8e1b-aac0e538bca4"
    }
   },
   "outputs": [
    {
     "data": {
      "text/html": [
       "<div>\n",
       "<style scoped>\n",
       "    .dataframe tbody tr th:only-of-type {\n",
       "        vertical-align: middle;\n",
       "    }\n",
       "\n",
       "    .dataframe tbody tr th {\n",
       "        vertical-align: top;\n",
       "    }\n",
       "\n",
       "    .dataframe thead th {\n",
       "        text-align: right;\n",
       "    }\n",
       "</style>\n",
       "<table border=\"1\" class=\"dataframe\">\n",
       "  <thead>\n",
       "    <tr style=\"text-align: right;\">\n",
       "      <th></th>\n",
       "      <th>name</th>\n",
       "      <th>freq</th>\n",
       "    </tr>\n",
       "  </thead>\n",
       "  <tbody>\n",
       "    <tr>\n",
       "      <th>0</th>\n",
       "      <td>BROOKLYN</td>\n",
       "      <td>579363</td>\n",
       "    </tr>\n",
       "    <tr>\n",
       "      <th>1</th>\n",
       "      <td>NEW YORK</td>\n",
       "      <td>385655</td>\n",
       "    </tr>\n",
       "    <tr>\n",
       "      <th>2</th>\n",
       "      <td>BRONX</td>\n",
       "      <td>342533</td>\n",
       "    </tr>\n",
       "    <tr>\n",
       "      <th>3</th>\n",
       "      <td>None</td>\n",
       "      <td>168692</td>\n",
       "    </tr>\n",
       "    <tr>\n",
       "      <th>4</th>\n",
       "      <td>STATEN ISLAND</td>\n",
       "      <td>92509</td>\n",
       "    </tr>\n",
       "    <tr>\n",
       "      <th>5</th>\n",
       "      <td>Jamaica</td>\n",
       "      <td>30435</td>\n",
       "    </tr>\n",
       "    <tr>\n",
       "      <th>6</th>\n",
       "      <td>Flushing</td>\n",
       "      <td>20708</td>\n",
       "    </tr>\n",
       "    <tr>\n",
       "      <th>7</th>\n",
       "      <td>Astoria</td>\n",
       "      <td>18068</td>\n",
       "    </tr>\n",
       "    <tr>\n",
       "      <th>8</th>\n",
       "      <td>JAMAICA</td>\n",
       "      <td>16248</td>\n",
       "    </tr>\n",
       "    <tr>\n",
       "      <th>9</th>\n",
       "      <td>FLUSHING</td>\n",
       "      <td>14796</td>\n",
       "    </tr>\n",
       "  </tbody>\n",
       "</table>\n",
       "</div>"
      ],
      "text/plain": [
       "            name    freq\n",
       "0       BROOKLYN  579363\n",
       "1       NEW YORK  385655\n",
       "2          BRONX  342533\n",
       "3           None  168692\n",
       "4  STATEN ISLAND   92509\n",
       "5        Jamaica   30435\n",
       "6       Flushing   20708\n",
       "7        Astoria   18068\n",
       "8        JAMAICA   16248\n",
       "9       FLUSHING   14796"
      ]
     },
     "execution_count": 27,
     "metadata": {},
     "output_type": "execute_result"
    }
   ],
   "source": [
    "del query\n",
    "\n",
    "# Define your `query`, here:\n",
    "###\n",
    "query = '''\n",
    "    SELECT City as name, COUNT(*) as freq\n",
    "    FROM data\n",
    "    GROUP BY name\n",
    "    ORDER BY freq DESC\n",
    "    LIMIT 10 \n",
    "'''\n",
    "###\n",
    "\n",
    "# Runs your `query`:\n",
    "df_whiny_cities = pd.read_sql_query(query, disk_engine)\n",
    "df_whiny_cities"
   ]
  },
  {
   "cell_type": "code",
   "execution_count": 28,
   "metadata": {
    "deletable": false,
    "nbgrader": {
     "checksum": "134dd8ec7fdcb89fca3685b9a4cc7722",
     "grade": true,
     "grade_id": "whiny_cities__test",
     "locked": true,
     "points": 2,
     "schema_version": 1,
     "solution": false
    },
    "nbpresent": {
     "id": "2cb6a7f7-2e1c-4d88-aef6-ea93a256fc17"
    }
   },
   "outputs": [
    {
     "name": "stdout",
     "output_type": "stream",
     "text": [
      "\n",
      "(Passed partial test.)\n"
     ]
    }
   ],
   "source": [
    "# Test cell: `whiny_cities__test`\n",
    "\n",
    "assert df_whiny_cities['name'][0] == 'BROOKLYN'\n",
    "assert df_whiny_cities['name'][1] == 'NEW YORK'\n",
    "assert df_whiny_cities['name'][2] == 'BRONX'\n",
    "assert df_whiny_cities['name'][3] is None\n",
    "assert df_whiny_cities['name'][4] == 'STATEN ISLAND'\n",
    "\n",
    "print (\"\\n(Passed partial test.)\")"
   ]
  },
  {
   "cell_type": "markdown",
   "metadata": {
    "collapsed": true,
    "nbgrader": {
     "grade": false,
     "locked": true,
     "solution": false
    },
    "nbpresent": {
     "id": "d5440726-77c1-4467-b6a6-dcb584cdf831"
    }
   },
   "source": [
    "You should notice two odd bits: cities are treated in a _case-sensitive_ manner and `None` appears as a city. (Presumably this setting occurs when a complaint is non-localized or the city is not otherwise specified.)"
   ]
  },
  {
   "cell_type": "markdown",
   "metadata": {
    "nbgrader": {
     "grade": false,
     "locked": true,
     "solution": false
    },
    "nbpresent": {
     "id": "dc4f178f-e10c-48e3-9b89-e3864b1bd2b9"
    }
   },
   "source": [
    "**Case-insensitive grouping: `COLLATE NOCASE`.** One way to carry out the preceding query in a case-insensitive way is to add a `COLLATE NOCASE` qualifier to the `GROUP BY` clause.\n",
    "\n",
    "Let's filter out the 'None' cases as well, while we are at it. We can use `<>` to denote \"not equal to\" in SQL."
   ]
  },
  {
   "cell_type": "code",
   "execution_count": 29,
   "metadata": {
    "nbpresent": {
     "id": "224ca27b-cf76-47d5-a914-918d217aa2d4"
    }
   },
   "outputs": [
    {
     "data": {
      "text/html": [
       "<div>\n",
       "<style scoped>\n",
       "    .dataframe tbody tr th:only-of-type {\n",
       "        vertical-align: middle;\n",
       "    }\n",
       "\n",
       "    .dataframe tbody tr th {\n",
       "        vertical-align: top;\n",
       "    }\n",
       "\n",
       "    .dataframe thead th {\n",
       "        text-align: right;\n",
       "    }\n",
       "</style>\n",
       "<table border=\"1\" class=\"dataframe\">\n",
       "  <thead>\n",
       "    <tr style=\"text-align: right;\">\n",
       "      <th></th>\n",
       "      <th>name</th>\n",
       "      <th>freq</th>\n",
       "    </tr>\n",
       "  </thead>\n",
       "  <tbody>\n",
       "    <tr>\n",
       "      <th>0</th>\n",
       "      <td>BROOKLYN</td>\n",
       "      <td>579363</td>\n",
       "    </tr>\n",
       "    <tr>\n",
       "      <th>1</th>\n",
       "      <td>NEW YORK</td>\n",
       "      <td>385655</td>\n",
       "    </tr>\n",
       "    <tr>\n",
       "      <th>2</th>\n",
       "      <td>BRONX</td>\n",
       "      <td>342533</td>\n",
       "    </tr>\n",
       "    <tr>\n",
       "      <th>3</th>\n",
       "      <td>STATEN ISLAND</td>\n",
       "      <td>92509</td>\n",
       "    </tr>\n",
       "    <tr>\n",
       "      <th>4</th>\n",
       "      <td>Jamaica</td>\n",
       "      <td>46683</td>\n",
       "    </tr>\n",
       "    <tr>\n",
       "      <th>5</th>\n",
       "      <td>Flushing</td>\n",
       "      <td>35504</td>\n",
       "    </tr>\n",
       "    <tr>\n",
       "      <th>6</th>\n",
       "      <td>ASTORIA</td>\n",
       "      <td>31873</td>\n",
       "    </tr>\n",
       "    <tr>\n",
       "      <th>7</th>\n",
       "      <td>Ridgewood</td>\n",
       "      <td>21618</td>\n",
       "    </tr>\n",
       "    <tr>\n",
       "      <th>8</th>\n",
       "      <td>Woodside</td>\n",
       "      <td>15932</td>\n",
       "    </tr>\n",
       "    <tr>\n",
       "      <th>9</th>\n",
       "      <td>Corona</td>\n",
       "      <td>15740</td>\n",
       "    </tr>\n",
       "  </tbody>\n",
       "</table>\n",
       "</div>"
      ],
      "text/plain": [
       "            name    freq\n",
       "0       BROOKLYN  579363\n",
       "1       NEW YORK  385655\n",
       "2          BRONX  342533\n",
       "3  STATEN ISLAND   92509\n",
       "4        Jamaica   46683\n",
       "5       Flushing   35504\n",
       "6        ASTORIA   31873\n",
       "7      Ridgewood   21618\n",
       "8       Woodside   15932\n",
       "9         Corona   15740"
      ]
     },
     "execution_count": 29,
     "metadata": {},
     "output_type": "execute_result"
    }
   ],
   "source": [
    "query = '''\n",
    "  SELECT City AS name, COUNT(*) AS freq\n",
    "    FROM data\n",
    "    WHERE name <> 'None'\n",
    "    GROUP BY name COLLATE NOCASE\n",
    "    ORDER BY -freq\n",
    "    LIMIT 10\n",
    "'''\n",
    "df_whiny_cities2 = pd.read_sql_query(query, disk_engine)\n",
    "df_whiny_cities2"
   ]
  },
  {
   "cell_type": "markdown",
   "metadata": {
    "nbgrader": {
     "grade": false,
     "locked": true,
     "solution": false
    },
    "nbpresent": {
     "id": "806365e8-6902-48d4-b0b8-eef52f8149eb"
    }
   },
   "source": [
    "Brooklynites are complainers, evidently.\n",
    "\n",
    "Lastly, for later use, let's save the names of just the top seven (7) cities by numbers of complaints."
   ]
  },
  {
   "cell_type": "code",
   "execution_count": 30,
   "metadata": {
    "nbpresent": {
     "id": "1d631691-ecf6-4b06-b040-ccdef6216d7f"
    }
   },
   "outputs": [
    {
     "data": {
      "text/plain": [
       "['BROOKLYN',\n",
       " 'NEW YORK',\n",
       " 'BRONX',\n",
       " 'STATEN ISLAND',\n",
       " 'Jamaica',\n",
       " 'Flushing',\n",
       " 'ASTORIA']"
      ]
     },
     "execution_count": 30,
     "metadata": {},
     "output_type": "execute_result"
    }
   ],
   "source": [
    "TOP_CITIES = list(df_whiny_cities2.head(7)['name'])\n",
    "TOP_CITIES"
   ]
  },
  {
   "cell_type": "markdown",
   "metadata": {
    "nbgrader": {
     "grade": false,
     "locked": true,
     "solution": false
    },
    "nbpresent": {
     "id": "28e3107b-1c28-4cb5-b939-ceb17b2b7797"
    }
   },
   "source": [
    "**Exercise 3** (1 point). Implement a function that takes a list of strings, `str_list`, and returns a single string consisting of each value, `str_list[i]`, enclosed by double-quotes and separated by a comma-space delimiters. For example, if\n",
    "\n",
    "```python\n",
    "   assert str_list == ['a', 'b', 'c', 'd']\n",
    "```\n",
    "\n",
    "then\n",
    "\n",
    "```python\n",
    "   assert strs_to_args(str_list) == '\"a\", \"b\", \"c\", \"d\"'\n",
    "```\n",
    "\n",
    "> **Tip.** Try to avoid manipulating the input `str_list` directly and returning the updated `str_list`. This may result in your function adding `\"\"` to the strings in your list each time the function is used (which will be more than once in this notebook!)"
   ]
  },
  {
   "cell_type": "code",
   "execution_count": 31,
   "metadata": {},
   "outputs": [],
   "source": [
    "test_str_list = ['a', 'b', 'c', 'd']"
   ]
  },
  {
   "cell_type": "code",
   "execution_count": 32,
   "metadata": {},
   "outputs": [
    {
     "data": {
      "text/plain": [
       "['BROOKLYN',\n",
       " 'NEW YORK',\n",
       " 'BRONX',\n",
       " 'STATEN ISLAND',\n",
       " 'Jamaica',\n",
       " 'Flushing',\n",
       " 'ASTORIA']"
      ]
     },
     "execution_count": 32,
     "metadata": {},
     "output_type": "execute_result"
    }
   ],
   "source": [
    "test_top_cities = TOP_CITIES.copy()\n",
    "test_top_cities"
   ]
  },
  {
   "cell_type": "code",
   "execution_count": 33,
   "metadata": {},
   "outputs": [
    {
     "data": {
      "text/plain": [
       "'\"BROOKLYN\", \"NEW YORK\", \"BRONX\", \"STATEN ISLAND\", \"Jamaica\", \"Flushing\", \"ASTORIA\"'"
      ]
     },
     "execution_count": 33,
     "metadata": {},
     "output_type": "execute_result"
    }
   ],
   "source": [
    "interim_cities = str(test_top_cities)\n",
    "interim_cities = interim_cities.replace(\"'\", '\"',)\n",
    "interim_cities = interim_cities.strip('[]')\n",
    "interim_cities"
   ]
  },
  {
   "cell_type": "code",
   "execution_count": 34,
   "metadata": {},
   "outputs": [
    {
     "ename": "SyntaxError",
     "evalue": "EOL while scanning string literal (<ipython-input-34-52d6e20aeb28>, line 2)",
     "output_type": "error",
     "traceback": [
      "\u001b[0;36m  File \u001b[0;32m\"<ipython-input-34-52d6e20aeb28>\"\u001b[0;36m, line \u001b[0;32m2\u001b[0m\n\u001b[0;31m    elem.replace(', \")\u001b[0m\n\u001b[0m                      ^\u001b[0m\n\u001b[0;31mSyntaxError\u001b[0m\u001b[0;31m:\u001b[0m EOL while scanning string literal\n"
     ]
    }
   ],
   "source": [
    "for elem in test_str_list:\n",
    "    elem.replace(', \")"
   ]
  },
  {
   "cell_type": "code",
   "execution_count": 35,
   "metadata": {},
   "outputs": [
    {
     "data": {
      "text/plain": [
       "'a, b, c, d'"
      ]
     },
     "execution_count": 35,
     "metadata": {},
     "output_type": "execute_result"
    }
   ],
   "source": [
    "', '.join(test_str_list)"
   ]
  },
  {
   "cell_type": "code",
   "execution_count": 36,
   "metadata": {
    "deletable": false,
    "nbgrader": {
     "checksum": "7442fc9df222086ca28971e94bfd9f74",
     "grade": false,
     "grade_id": "strs_to_args",
     "locked": false,
     "schema_version": 1,
     "solution": true
    },
    "nbpresent": {
     "id": "c43f2173-4a9f-48c2-8c3f-2a0fafaa8487"
    }
   },
   "outputs": [],
   "source": [
    "def strs_to_args(str_list:list) -> str:\n",
    "    assert type (str_list) is list\n",
    "    assert all ([type (s) is str for s in str_list])\n",
    "    \n",
    "    ###\n",
    "    mystr = str(str_list)\n",
    "    mystr = mystr.replace(\"'\", '\"',)\n",
    "    mystr = mystr.strip('[]')\n",
    "    return mystr\n",
    "    ###"
   ]
  },
  {
   "cell_type": "code",
   "execution_count": 37,
   "metadata": {},
   "outputs": [
    {
     "data": {
      "text/plain": [
       "'\"a\", \"b\", \"c\", \"d\"'"
      ]
     },
     "execution_count": 37,
     "metadata": {},
     "output_type": "execute_result"
    }
   ],
   "source": [
    "strs_to_args(test_str_list)"
   ]
  },
  {
   "cell_type": "code",
   "execution_count": 38,
   "metadata": {
    "deletable": false,
    "nbgrader": {
     "checksum": "97d71d1cd959303e8da89843e4a57623",
     "grade": true,
     "grade_id": "strs_to_args__test",
     "locked": true,
     "points": 1,
     "schema_version": 1,
     "solution": false
    },
    "nbpresent": {
     "id": "8e2b525d-2a5e-466f-928a-d41cc00caa49"
    },
    "scrolled": true
   },
   "outputs": [
    {
     "name": "stdout",
     "output_type": "stream",
     "text": [
      "Your solution, applied to TOP_CITIES: \"BROOKLYN\", \"NEW YORK\", \"BRONX\", \"STATEN ISLAND\", \"Jamaica\", \"Flushing\", \"ASTORIA\"\n",
      "\n",
      "(Passed.)\n"
     ]
    }
   ],
   "source": [
    "# Test cell: `strs_to_args__test`\n",
    "\n",
    "print (\"Your solution, applied to TOP_CITIES:\", strs_to_args(TOP_CITIES))\n",
    "\n",
    "TOP_CITIES_as_args = strs_to_args(TOP_CITIES)\n",
    "assert TOP_CITIES_as_args.lower() == \\\n",
    "       '\"BROOKLYN\", \"NEW YORK\", \"BRONX\", \"STATEN ISLAND\", \"Jamaica\", \"Flushing\", \"ASTORIA\"'.lower ()\n",
    "    \n",
    "print (\"\\n(Passed.)\")"
   ]
  },
  {
   "cell_type": "markdown",
   "metadata": {
    "nbgrader": {
     "grade": false,
     "locked": true,
     "solution": false
    },
    "nbpresent": {
     "id": "3286ec81-ea7b-4693-a5d9-84100e1cf922"
    }
   },
   "source": [
    "**Exercise 4** (3 points). Suppose we want to look at the number of complaints by type _and_ by city **for only the top cities**, i.e., those in the list `TOP_CITIES` computed above. Execute an SQL query to produce a tibble named `df_complaints_by_city` with the variables {`complaint_type`, `city_name`, `complaint_count`}."
   ]
  },
  {
   "cell_type": "code",
   "execution_count": 39,
   "metadata": {
    "deletable": false,
    "nbgrader": {
     "checksum": "678fce2c1c227a8e94d34045f548da32",
     "grade": false,
     "grade_id": "df_complaints_by_city",
     "locked": false,
     "schema_version": 1,
     "solution": true
    },
    "nbpresent": {
     "id": "2e529060-0407-4e54-871c-e8220c567e7d"
    }
   },
   "outputs": [
    {
     "data": {
      "text/html": [
       "<div>\n",
       "<style scoped>\n",
       "    .dataframe tbody tr th:only-of-type {\n",
       "        vertical-align: middle;\n",
       "    }\n",
       "\n",
       "    .dataframe tbody tr th {\n",
       "        vertical-align: top;\n",
       "    }\n",
       "\n",
       "    .dataframe thead th {\n",
       "        text-align: right;\n",
       "    }\n",
       "</style>\n",
       "<table border=\"1\" class=\"dataframe\">\n",
       "  <thead>\n",
       "    <tr style=\"text-align: right;\">\n",
       "      <th></th>\n",
       "      <th>city_name</th>\n",
       "      <th>complaint_type</th>\n",
       "      <th>complaint_count</th>\n",
       "    </tr>\n",
       "  </thead>\n",
       "  <tbody>\n",
       "    <tr>\n",
       "      <th>0</th>\n",
       "      <td>ASTORIA</td>\n",
       "      <td>Animal Abuse</td>\n",
       "      <td>174</td>\n",
       "    </tr>\n",
       "    <tr>\n",
       "      <th>1</th>\n",
       "      <td>ASTORIA</td>\n",
       "      <td>Animal Facility - No Permit</td>\n",
       "      <td>3</td>\n",
       "    </tr>\n",
       "    <tr>\n",
       "      <th>2</th>\n",
       "      <td>ASTORIA</td>\n",
       "      <td>Animal in a Park</td>\n",
       "      <td>29</td>\n",
       "    </tr>\n",
       "    <tr>\n",
       "      <th>3</th>\n",
       "      <td>ASTORIA</td>\n",
       "      <td>Asbestos</td>\n",
       "      <td>8</td>\n",
       "    </tr>\n",
       "    <tr>\n",
       "      <th>4</th>\n",
       "      <td>ASTORIA</td>\n",
       "      <td>Beach/Pool/Sauna Complaint</td>\n",
       "      <td>2</td>\n",
       "    </tr>\n",
       "    <tr>\n",
       "      <th>5</th>\n",
       "      <td>ASTORIA</td>\n",
       "      <td>Bike Rack Condition</td>\n",
       "      <td>3</td>\n",
       "    </tr>\n",
       "    <tr>\n",
       "      <th>6</th>\n",
       "      <td>ASTORIA</td>\n",
       "      <td>Bike/Roller/Skate Chronic</td>\n",
       "      <td>7</td>\n",
       "    </tr>\n",
       "    <tr>\n",
       "      <th>7</th>\n",
       "      <td>ASTORIA</td>\n",
       "      <td>Blocked Driveway</td>\n",
       "      <td>3338</td>\n",
       "    </tr>\n",
       "    <tr>\n",
       "      <th>8</th>\n",
       "      <td>ASTORIA</td>\n",
       "      <td>Bottled Water</td>\n",
       "      <td>1</td>\n",
       "    </tr>\n",
       "    <tr>\n",
       "      <th>9</th>\n",
       "      <td>ASTORIA</td>\n",
       "      <td>Bridge Condition</td>\n",
       "      <td>1</td>\n",
       "    </tr>\n",
       "  </tbody>\n",
       "</table>\n",
       "</div>"
      ],
      "text/plain": [
       "  city_name               complaint_type  complaint_count\n",
       "0   ASTORIA                 Animal Abuse              174\n",
       "1   ASTORIA  Animal Facility - No Permit                3\n",
       "2   ASTORIA             Animal in a Park               29\n",
       "3   ASTORIA                     Asbestos                8\n",
       "4   ASTORIA   Beach/Pool/Sauna Complaint                2\n",
       "5   ASTORIA          Bike Rack Condition                3\n",
       "6   ASTORIA    Bike/Roller/Skate Chronic                7\n",
       "7   ASTORIA             Blocked Driveway             3338\n",
       "8   ASTORIA                Bottled Water                1\n",
       "9   ASTORIA             Bridge Condition                1"
      ]
     },
     "metadata": {},
     "output_type": "display_data"
    },
    {
     "data": {
      "text/plain": [
       "(843, 3)"
      ]
     },
     "metadata": {},
     "output_type": "display_data"
    }
   ],
   "source": [
    "###\n",
    "query = '''\n",
    "    SELECT City as city_name, ComplaintType as complaint_type, COUNT(*) as complaint_count\n",
    "    FROM data\n",
    "    WHERE City IN ({})\n",
    "    GROUP BY city_name, complaint_type\n",
    "'''.format(TOP_CITIES_as_args)\n",
    "###\n",
    "\n",
    "df_complaints_by_city = pd.read_sql_query(query, disk_engine)\n",
    "\n",
    "# Previews the results of your query:\n",
    "display(df_complaints_by_city.head(10))\n",
    "display(df_complaints_by_city.shape)"
   ]
  },
  {
   "cell_type": "code",
   "execution_count": 40,
   "metadata": {
    "deletable": false,
    "nbgrader": {
     "checksum": "2c60ed9d8fd234544a16c52da1931414",
     "grade": true,
     "grade_id": "df_complaints_by_city__test",
     "locked": true,
     "points": 3,
     "schema_version": 1,
     "solution": false
    },
    "nbpresent": {
     "id": "e025ec55-5163-496d-881d-e35ab0730926"
    }
   },
   "outputs": [
    {
     "name": "stdout",
     "output_type": "stream",
     "text": [
      "Reading instructor's solution...\n",
      "Checking...\n",
      "\n",
      "(Passed.)\n"
     ]
    }
   ],
   "source": [
    "# Test cell: `df_complaints_by_city__test`\n",
    "\n",
    "print(\"Reading instructor's solution...\")\n",
    "df_complaints_by_city_soln = pd.read_csv('df_complaints_by_city_soln.csv')\n",
    "\n",
    "print(\"Checking...\")\n",
    "assert tibbles_are_equivalent(df_complaints_by_city,\n",
    "                              df_complaints_by_city_soln)\n",
    "\n",
    "print(\"\\n(Passed.)\")\n",
    "del df_complaints_by_city_soln"
   ]
  },
  {
   "cell_type": "markdown",
   "metadata": {
    "nbgrader": {
     "grade": false,
     "locked": true,
     "solution": false
    },
    "nbpresent": {
     "id": "6a9f7704-ce8d-421d-8831-e67a1041a54d"
    }
   },
   "source": [
    "Let's use Bokeh to visualize the results as a stacked bar chart."
   ]
  },
  {
   "cell_type": "code",
   "execution_count": 41,
   "metadata": {
    "nbpresent": {
     "id": "9ed520ef-1f82-42c9-9cc1-feba81254403"
    }
   },
   "outputs": [
    {
     "name": "stdout",
     "output_type": "stream",
     "text": [
      "Top complaints:\n"
     ]
    },
    {
     "data": {
      "text/html": [
       "<div>\n",
       "<style scoped>\n",
       "    .dataframe tbody tr th:only-of-type {\n",
       "        vertical-align: middle;\n",
       "    }\n",
       "\n",
       "    .dataframe tbody tr th {\n",
       "        vertical-align: top;\n",
       "    }\n",
       "\n",
       "    .dataframe thead th {\n",
       "        text-align: right;\n",
       "    }\n",
       "</style>\n",
       "<table border=\"1\" class=\"dataframe\">\n",
       "  <thead>\n",
       "    <tr style=\"text-align: right;\">\n",
       "      <th></th>\n",
       "      <th>type</th>\n",
       "      <th>freq</th>\n",
       "    </tr>\n",
       "  </thead>\n",
       "  <tbody>\n",
       "    <tr>\n",
       "      <th>0</th>\n",
       "      <td>HEAT/HOT WATER</td>\n",
       "      <td>241430</td>\n",
       "    </tr>\n",
       "    <tr>\n",
       "      <th>1</th>\n",
       "      <td>Street Condition</td>\n",
       "      <td>124347</td>\n",
       "    </tr>\n",
       "    <tr>\n",
       "      <th>2</th>\n",
       "      <td>Street Light Condition</td>\n",
       "      <td>98577</td>\n",
       "    </tr>\n",
       "    <tr>\n",
       "      <th>3</th>\n",
       "      <td>Blocked Driveway</td>\n",
       "      <td>95080</td>\n",
       "    </tr>\n",
       "    <tr>\n",
       "      <th>4</th>\n",
       "      <td>Illegal Parking</td>\n",
       "      <td>83961</td>\n",
       "    </tr>\n",
       "    <tr>\n",
       "      <th>5</th>\n",
       "      <td>UNSANITARY CONDITION</td>\n",
       "      <td>81394</td>\n",
       "    </tr>\n",
       "    <tr>\n",
       "      <th>6</th>\n",
       "      <td>PAINT/PLASTER</td>\n",
       "      <td>69929</td>\n",
       "    </tr>\n",
       "    <tr>\n",
       "      <th>7</th>\n",
       "      <td>Water System</td>\n",
       "      <td>69209</td>\n",
       "    </tr>\n",
       "    <tr>\n",
       "      <th>8</th>\n",
       "      <td>PLUMBING</td>\n",
       "      <td>55445</td>\n",
       "    </tr>\n",
       "    <tr>\n",
       "      <th>9</th>\n",
       "      <td>Noise</td>\n",
       "      <td>54165</td>\n",
       "    </tr>\n",
       "    <tr>\n",
       "      <th>10</th>\n",
       "      <td>Noise - Street/Sidewalk</td>\n",
       "      <td>48436</td>\n",
       "    </tr>\n",
       "    <tr>\n",
       "      <th>11</th>\n",
       "      <td>Traffic Signal Condition</td>\n",
       "      <td>44229</td>\n",
       "    </tr>\n",
       "    <tr>\n",
       "      <th>12</th>\n",
       "      <td>Noise - Commercial</td>\n",
       "      <td>42422</td>\n",
       "    </tr>\n",
       "    <tr>\n",
       "      <th>13</th>\n",
       "      <td>DOOR/WINDOW</td>\n",
       "      <td>39695</td>\n",
       "    </tr>\n",
       "    <tr>\n",
       "      <th>14</th>\n",
       "      <td>WATER LEAK</td>\n",
       "      <td>36149</td>\n",
       "    </tr>\n",
       "    <tr>\n",
       "      <th>15</th>\n",
       "      <td>Dirty Conditions</td>\n",
       "      <td>35122</td>\n",
       "    </tr>\n",
       "    <tr>\n",
       "      <th>16</th>\n",
       "      <td>Sewer</td>\n",
       "      <td>33628</td>\n",
       "    </tr>\n",
       "    <tr>\n",
       "      <th>17</th>\n",
       "      <td>Sanitation Condition</td>\n",
       "      <td>31260</td>\n",
       "    </tr>\n",
       "    <tr>\n",
       "      <th>18</th>\n",
       "      <td>DOF Literature Request</td>\n",
       "      <td>30326</td>\n",
       "    </tr>\n",
       "    <tr>\n",
       "      <th>19</th>\n",
       "      <td>ELECTRIC</td>\n",
       "      <td>30248</td>\n",
       "    </tr>\n",
       "    <tr>\n",
       "      <th>20</th>\n",
       "      <td>Rodent</td>\n",
       "      <td>28454</td>\n",
       "    </tr>\n",
       "    <tr>\n",
       "      <th>21</th>\n",
       "      <td>FLOORING/STAIRS</td>\n",
       "      <td>27007</td>\n",
       "    </tr>\n",
       "    <tr>\n",
       "      <th>22</th>\n",
       "      <td>General Construction/Plumbing</td>\n",
       "      <td>26861</td>\n",
       "    </tr>\n",
       "    <tr>\n",
       "      <th>23</th>\n",
       "      <td>Building/Use</td>\n",
       "      <td>25807</td>\n",
       "    </tr>\n",
       "    <tr>\n",
       "      <th>24</th>\n",
       "      <td>Broken Muni Meter</td>\n",
       "      <td>25428</td>\n",
       "    </tr>\n",
       "  </tbody>\n",
       "</table>\n",
       "</div>"
      ],
      "text/plain": [
       "                             type    freq\n",
       "0                  HEAT/HOT WATER  241430\n",
       "1                Street Condition  124347\n",
       "2          Street Light Condition   98577\n",
       "3                Blocked Driveway   95080\n",
       "4                 Illegal Parking   83961\n",
       "5            UNSANITARY CONDITION   81394\n",
       "6                   PAINT/PLASTER   69929\n",
       "7                    Water System   69209\n",
       "8                        PLUMBING   55445\n",
       "9                           Noise   54165\n",
       "10        Noise - Street/Sidewalk   48436\n",
       "11       Traffic Signal Condition   44229\n",
       "12             Noise - Commercial   42422\n",
       "13                    DOOR/WINDOW   39695\n",
       "14                     WATER LEAK   36149\n",
       "15               Dirty Conditions   35122\n",
       "16                          Sewer   33628\n",
       "17           Sanitation Condition   31260\n",
       "18         DOF Literature Request   30326\n",
       "19                       ELECTRIC   30248\n",
       "20                         Rodent   28454\n",
       "21                FLOORING/STAIRS   27007\n",
       "22  General Construction/Plumbing   26861\n",
       "23                   Building/Use   25807\n",
       "24              Broken Muni Meter   25428"
      ]
     },
     "metadata": {},
     "output_type": "display_data"
    }
   ],
   "source": [
    "# Let's consider only the top 25 complaints (by total)\n",
    "top_complaints = df_complaint_freq[:25]\n",
    "print(\"Top complaints:\")\n",
    "display(top_complaints)"
   ]
  },
  {
   "cell_type": "code",
   "execution_count": 42,
   "metadata": {},
   "outputs": [
    {
     "name": "stdout",
     "output_type": "stream",
     "text": [
      "Data to plot (first few rows):\n"
     ]
    },
    {
     "data": {
      "text/html": [
       "<div>\n",
       "<style scoped>\n",
       "    .dataframe tbody tr th:only-of-type {\n",
       "        vertical-align: middle;\n",
       "    }\n",
       "\n",
       "    .dataframe tbody tr th {\n",
       "        vertical-align: top;\n",
       "    }\n",
       "\n",
       "    .dataframe thead th {\n",
       "        text-align: right;\n",
       "    }\n",
       "</style>\n",
       "<table border=\"1\" class=\"dataframe\">\n",
       "  <thead>\n",
       "    <tr style=\"text-align: right;\">\n",
       "      <th></th>\n",
       "      <th>type</th>\n",
       "      <th>freq</th>\n",
       "      <th>city_name</th>\n",
       "      <th>complaint_type</th>\n",
       "      <th>complaint_count</th>\n",
       "    </tr>\n",
       "  </thead>\n",
       "  <tbody>\n",
       "    <tr>\n",
       "      <th>0</th>\n",
       "      <td>HEAT/HOT WATER</td>\n",
       "      <td>241430</td>\n",
       "      <td>BRONX</td>\n",
       "      <td>HEAT/HOT WATER</td>\n",
       "      <td>79690.0</td>\n",
       "    </tr>\n",
       "    <tr>\n",
       "      <th>1</th>\n",
       "      <td>HEAT/HOT WATER</td>\n",
       "      <td>241430</td>\n",
       "      <td>BROOKLYN</td>\n",
       "      <td>HEAT/HOT WATER</td>\n",
       "      <td>72410.0</td>\n",
       "    </tr>\n",
       "    <tr>\n",
       "      <th>2</th>\n",
       "      <td>HEAT/HOT WATER</td>\n",
       "      <td>241430</td>\n",
       "      <td>Flushing</td>\n",
       "      <td>HEAT/HOT WATER</td>\n",
       "      <td>2741.0</td>\n",
       "    </tr>\n",
       "    <tr>\n",
       "      <th>3</th>\n",
       "      <td>HEAT/HOT WATER</td>\n",
       "      <td>241430</td>\n",
       "      <td>Jamaica</td>\n",
       "      <td>HEAT/HOT WATER</td>\n",
       "      <td>3376.0</td>\n",
       "    </tr>\n",
       "    <tr>\n",
       "      <th>4</th>\n",
       "      <td>HEAT/HOT WATER</td>\n",
       "      <td>241430</td>\n",
       "      <td>NEW YORK</td>\n",
       "      <td>HEAT/HOT WATER</td>\n",
       "      <td>55545.0</td>\n",
       "    </tr>\n",
       "  </tbody>\n",
       "</table>\n",
       "</div>"
      ],
      "text/plain": [
       "             type    freq city_name  complaint_type  complaint_count\n",
       "0  HEAT/HOT WATER  241430     BRONX  HEAT/HOT WATER          79690.0\n",
       "1  HEAT/HOT WATER  241430  BROOKLYN  HEAT/HOT WATER          72410.0\n",
       "2  HEAT/HOT WATER  241430  Flushing  HEAT/HOT WATER           2741.0\n",
       "3  HEAT/HOT WATER  241430   Jamaica  HEAT/HOT WATER           3376.0\n",
       "4  HEAT/HOT WATER  241430  NEW YORK  HEAT/HOT WATER          55545.0"
      ]
     },
     "metadata": {},
     "output_type": "display_data"
    },
    {
     "name": "stdout",
     "output_type": "stream",
     "text": [
      "...\n"
     ]
    }
   ],
   "source": [
    "# Plot subset of data corresponding to the top complaints\n",
    "df_plot = top_complaints.merge(df_complaints_by_city,\n",
    "                               left_on=['type'],\n",
    "                               right_on=['complaint_type'],\n",
    "                               how='left')\n",
    "df_plot.dropna(inplace=True)\n",
    "print(\"Data to plot (first few rows):\")\n",
    "display(df_plot.head())\n",
    "print(\"...\")"
   ]
  },
  {
   "cell_type": "code",
   "execution_count": 43,
   "metadata": {},
   "outputs": [
    {
     "data": {
      "text/html": [
       "\n",
       "<div class=\"bk-root\">\n",
       "    <div class=\"bk-plotdiv\" id=\"d1e5d371-f6c7-45be-9227-ebf5d50efcd4\"></div>\n",
       "</div>"
      ]
     },
     "metadata": {},
     "output_type": "display_data"
    },
    {
     "data": {
      "application/javascript": [
       "(function(root) {\n",
       "  function embed_document(root) {\n",
       "    \n",
       "  var docs_json = {\"2c1cc8d1-4aa7-4459-ade2-f74c5c447e21\":{\"roots\":{\"references\":[{\"attributes\":{\"bottom_units\":\"screen\",\"fill_alpha\":{\"value\":0.5},\"fill_color\":{\"value\":\"lightgrey\"},\"left_units\":\"screen\",\"level\":\"overlay\",\"line_alpha\":{\"value\":1.0},\"line_color\":{\"value\":\"black\"},\"line_dash\":[4,4],\"line_width\":{\"value\":2},\"plot\":null,\"render_mode\":\"css\",\"right_units\":\"screen\",\"top_units\":\"screen\"},\"id\":\"2f2d44c7-d5dd-486d-85cb-022f3beb1b64\",\"type\":\"BoxAnnotation\"},{\"attributes\":{},\"id\":\"329ca318-9410-44ab-acf2-6ebf9ffbd142\",\"type\":\"ResetTool\"},{\"attributes\":{},\"id\":\"c0dc385a-fe08-4a6e-8038-fe31ba6f7651\",\"type\":\"HelpTool\"},{\"attributes\":{\"items\":[{\"id\":\"a9f3b73e-a6f9-4d3e-9685-e68584e4f6e6\",\"type\":\"LegendItem\"},{\"id\":\"b90ce44f-efd2-4e7e-b144-42b92c280007\",\"type\":\"LegendItem\"},{\"id\":\"2f5ee499-b3db-4594-b964-84aca45e8410\",\"type\":\"LegendItem\"},{\"id\":\"c8fc8a48-d3a2-464a-a626-6b719b7e951e\",\"type\":\"LegendItem\"},{\"id\":\"70169b0e-9aa7-4b69-b5f7-d7b6f01cbb82\",\"type\":\"LegendItem\"},{\"id\":\"9bb75edf-760e-4d14-a3c6-93c27f4da62e\",\"type\":\"LegendItem\"},{\"id\":\"2167cb73-f3ef-421f-b731-08c132e05ac1\",\"type\":\"LegendItem\"}],\"plot\":{\"id\":\"13d78e35-760c-47cf-963f-6a36d67aee4a\",\"subtype\":\"Figure\",\"type\":\"Plot\"}},\"id\":\"12348a26-a009-4df2-acc6-f1e5f5fdea31\",\"type\":\"Legend\"},{\"attributes\":{\"bottom\":{\"field\":\"bottom\"},\"fill_alpha\":{\"value\":0.1},\"fill_color\":{\"value\":\"#1f77b4\"},\"line_alpha\":{\"value\":0.1},\"line_color\":{\"value\":\"#1f77b4\"},\"top\":{\"field\":\"top\"},\"width\":{\"value\":0.25},\"x\":{\"field\":\"x\"}},\"id\":\"517f1a8f-92ca-4880-b9bd-32b2505affed\",\"type\":\"VBar\"},{\"attributes\":{},\"id\":\"2d24dc4d-d053-4efd-8c05-c2bb021c11b8\",\"type\":\"BasicTickFormatter\"},{\"attributes\":{\"label\":{\"value\":\"ASTORIA\"},\"renderers\":[{\"id\":\"a29809ec-5e11-45aa-a1ae-8fc77d6c1b68\",\"type\":\"GlyphRenderer\"}]},\"id\":\"a9f3b73e-a6f9-4d3e-9685-e68584e4f6e6\",\"type\":\"LegendItem\"},{\"attributes\":{},\"id\":\"701ddf13-cee0-45e3-9020-747bf846280e\",\"type\":\"CategoricalTickFormatter\"},{\"attributes\":{\"bottom\":{\"field\":\"bottom\"},\"fill_color\":{\"value\":\"#d95f02\"},\"line_color\":{\"value\":\"#d95f02\"},\"top\":{\"field\":\"top\"},\"width\":{\"value\":0.25},\"x\":{\"field\":\"x\"}},\"id\":\"0cb7b5ab-b46b-4803-a8c3-479659d6f378\",\"type\":\"VBar\"},{\"attributes\":{},\"id\":\"b402d14a-fdc1-411c-a386-cdcddd848d23\",\"type\":\"UnionRenderers\"},{\"attributes\":{\"callback\":null,\"data\":{\"bottom\":{\"__ndarray__\":\"AAAAAAAUqkAAAAAAABiKQAAAAAAAAAAAAAAAAAAAAAAAAAAAAAAAAAAAAAAAAAAAAAAAAAAAAAAAAAAAAAAAAAAAAAAAAAAAAAAAAAC8lkAAAAAAAAAAAAAAAAAACqBAAAAAAADYgEAAAAAAAAAAAAAAAAAAAAAAAAAAAACASkAAAAAAAAAAAAAAAAAAAAAAAAAAAADYgEAAAAAAAAAAAAAAAAAAAAAAAAAAAAAAAAAAAAAAAAAAAAAAAAAAAAAA\",\"dtype\":\"float64\",\"shape\":[24]},\"top\":{\"__ndarray__\":\"AAAAAICA0kAAAAAAAGKqQAAAAAAApKdAAAAAAAD3x0AAAAAAADazQAAAAACAzMBAAAAAAACxv0AAAAAAAIyjQAAAAACgdPNAAAAAAIDIxEAAAAAAAKimQAAAAAAAlLJAAAAAAAAVwkAAAAAAAOLVQAAAAABAiNBAAAAAAADluUAAAAAAAJyrQAAAAAAA/KpAAAAAAIC1yEAAAAAAAPS+QAAAAAAAJJtAAAAAAADk1kAAAAAAAF/FQAAAAACAasVA\",\"dtype\":\"float64\",\"shape\":[24]},\"x\":[\"Blocked Driveway\",\"Broken Muni Meter\",\"Building/Use\",\"DOOR/WINDOW\",\"Dirty Conditions\",\"ELECTRIC\",\"FLOORING/STAIRS\",\"General Construction/Plumbing\",\"HEAT/HOT WATER\",\"Illegal Parking\",\"Noise\",\"Noise - Commercial\",\"Noise - Street/Sidewalk\",\"PAINT/PLASTER\",\"PLUMBING\",\"Rodent\",\"Sanitation Condition\",\"Sewer\",\"Street Condition\",\"Street Light Condition\",\"Traffic Signal Condition\",\"UNSANITARY CONDITION\",\"WATER LEAK\",\"Water System\"]},\"selected\":{\"id\":\"24517e8e-fc09-44be-9d12-66463e44f7bb\",\"type\":\"Selection\"},\"selection_policy\":{\"id\":\"da418685-f777-4f5d-bcd6-ec33f7e3bd78\",\"type\":\"UnionRenderers\"}},\"id\":\"28ffac6e-80a4-4e12-bf2d-057ccdffad9e\",\"type\":\"ColumnDataSource\"},{\"attributes\":{\"data_source\":{\"id\":\"3ed5d235-e85d-4deb-9bbd-2831b12e7be5\",\"type\":\"ColumnDataSource\"},\"glyph\":{\"id\":\"79d7e78d-11e1-4a77-9bee-d9e70446b3cc\",\"type\":\"VBar\"},\"hover_glyph\":null,\"muted_glyph\":null,\"nonselection_glyph\":{\"id\":\"5862587d-0764-48e2-93fb-79b425b49f27\",\"type\":\"VBar\"},\"selection_glyph\":null,\"view\":{\"id\":\"05fdbb71-a772-42eb-ba88-1d11419d4898\",\"type\":\"CDSView\"}},\"id\":\"a29809ec-5e11-45aa-a1ae-8fc77d6c1b68\",\"type\":\"GlyphRenderer\"},{\"attributes\":{\"source\":{\"id\":\"28ffac6e-80a4-4e12-bf2d-057ccdffad9e\",\"type\":\"ColumnDataSource\"}},\"id\":\"780150f6-4a0b-4d14-b713-8ffc5a27a7e8\",\"type\":\"CDSView\"},{\"attributes\":{\"callback\":null,\"data\":{\"bottom\":{\"__ndarray__\":\"AAAAACAG6kAAAAAAAMbAQAAAAAAAa8lAAAAAAEDX2kAAAAAAgAbSQAAAAADAR9RAAAAAAEDm0UAAAAAAALvJQAAAAABIUANBAAAAAAAW5EAAAAAAAA/SQAAAAADAndFAAAAAAACl1UAAAAAAIJ/nQAAAAADgTOJAAAAAAEAJ0EAAAAAAAJzQQAAAAAAArM5AAAAAAOBJ6UAAAAAAwIHeQAAAAAAArs5AAAAAAMCJ6kAAAAAAQOrYQAAAAABgheBA\",\"dtype\":\"float64\",\"shape\":[24]},\"top\":{\"__ndarray__\":\"AAAAAOBY60AAAAAAQB3TQAAAAAAA/cxAAAAAAMAp4UAAAAAAAD/XQAAAAACAO9lAAAAAAEC110AAAAAAgLbTQAAAAAAQGApBAAAAAKCW6kAAAAAAYLLlQAAAAAAgpOFAAAAAAGD35EAAAAAAgKTuQAAAAAAA7udAAAAAAICt1kAAAAAAANbTQAAAAACAstJAAAAAAFBP8UAAAAAAQEfgQAAAAADAj9BAAAAAAGAR8UAAAAAAQJzfQAAAAACgneZA\",\"dtype\":\"float64\",\"shape\":[24]},\"x\":[\"Blocked Driveway\",\"Broken Muni Meter\",\"Building/Use\",\"DOOR/WINDOW\",\"Dirty Conditions\",\"ELECTRIC\",\"FLOORING/STAIRS\",\"General Construction/Plumbing\",\"HEAT/HOT WATER\",\"Illegal Parking\",\"Noise\",\"Noise - Commercial\",\"Noise - Street/Sidewalk\",\"PAINT/PLASTER\",\"PLUMBING\",\"Rodent\",\"Sanitation Condition\",\"Sewer\",\"Street Condition\",\"Street Light Condition\",\"Traffic Signal Condition\",\"UNSANITARY CONDITION\",\"WATER LEAK\",\"Water System\"]},\"selected\":{\"id\":\"60a5a551-54fd-4739-af03-61d023dcdcc9\",\"type\":\"Selection\"},\"selection_policy\":{\"id\":\"ba026deb-7253-4f23-b465-df7c15b1e812\",\"type\":\"UnionRenderers\"}},\"id\":\"d82e2c19-0fa1-45fd-a837-48b68c24312f\",\"type\":\"ColumnDataSource\"},{\"attributes\":{\"data_source\":{\"id\":\"28ffac6e-80a4-4e12-bf2d-057ccdffad9e\",\"type\":\"ColumnDataSource\"},\"glyph\":{\"id\":\"0cb7b5ab-b46b-4803-a8c3-479659d6f378\",\"type\":\"VBar\"},\"hover_glyph\":null,\"muted_glyph\":null,\"nonselection_glyph\":{\"id\":\"517f1a8f-92ca-4880-b9bd-32b2505affed\",\"type\":\"VBar\"},\"selection_glyph\":null,\"view\":{\"id\":\"780150f6-4a0b-4d14-b713-8ffc5a27a7e8\",\"type\":\"CDSView\"}},\"id\":\"6d8f7360-de63-4a01-8c5d-295924105199\",\"type\":\"GlyphRenderer\"},{\"attributes\":{\"label\":{\"value\":\"BRONX\"},\"renderers\":[{\"id\":\"6d8f7360-de63-4a01-8c5d-295924105199\",\"type\":\"GlyphRenderer\"}]},\"id\":\"b90ce44f-efd2-4e7e-b144-42b92c280007\",\"type\":\"LegendItem\"},{\"attributes\":{},\"id\":\"561f0051-84f4-455d-8c63-fabff2c2c944\",\"type\":\"UnionRenderers\"},{\"attributes\":{},\"id\":\"cf3561b9-77c5-471c-8f18-df5d239a655e\",\"type\":\"Selection\"},{\"attributes\":{\"callback\":null,\"data\":{\"bottom\":{\"__ndarray__\":\"AAAAAICA0kAAAAAAAGKqQAAAAAAApKdAAAAAAAD3x0AAAAAAADazQAAAAACAzMBAAAAAAACxv0AAAAAAAIyjQAAAAACgdPNAAAAAAIDIxEAAAAAAAKimQAAAAAAAlLJAAAAAAAAVwkAAAAAAAOLVQAAAAABAiNBAAAAAAADluUAAAAAAAJyrQAAAAAAA/KpAAAAAAIC1yEAAAAAAAPS+QAAAAAAAJJtAAAAAAADk1kAAAAAAAF/FQAAAAACAasVA\",\"dtype\":\"float64\",\"shape\":[24]},\"top\":{\"__ndarray__\":\"AAAAACAG6kAAAAAAAMbAQAAAAACAuMRAAAAAAADg2UAAAAAAQA/QQAAAAACAY9NAAAAAAIBQ0UAAAAAAAGLHQAAAAAAgkQJBAAAAAAAW5EAAAAAAgNvQQAAAAADAndFAAAAAAACl1UAAAAAAAMfmQAAAAAAAgeFAAAAAAICpzkAAAAAAAC3NQAAAAAAAzshAAAAAAKD85kAAAAAAAF/aQAAAAAAAdMtAAAAAAIBx6UAAAAAAAPrXQAAAAACAgN1A\",\"dtype\":\"float64\",\"shape\":[24]},\"x\":[\"Blocked Driveway\",\"Broken Muni Meter\",\"Building/Use\",\"DOOR/WINDOW\",\"Dirty Conditions\",\"ELECTRIC\",\"FLOORING/STAIRS\",\"General Construction/Plumbing\",\"HEAT/HOT WATER\",\"Illegal Parking\",\"Noise\",\"Noise - Commercial\",\"Noise - Street/Sidewalk\",\"PAINT/PLASTER\",\"PLUMBING\",\"Rodent\",\"Sanitation Condition\",\"Sewer\",\"Street Condition\",\"Street Light Condition\",\"Traffic Signal Condition\",\"UNSANITARY CONDITION\",\"WATER LEAK\",\"Water System\"]},\"selected\":{\"id\":\"fabb5491-bc7f-45cc-b900-738c3ccafb0f\",\"type\":\"Selection\"},\"selection_policy\":{\"id\":\"303f84c2-cd16-4f97-ab79-b81b0ba65c1c\",\"type\":\"UnionRenderers\"}},\"id\":\"ddec9793-bd56-4792-9ee4-2fdcb3460dd2\",\"type\":\"ColumnDataSource\"},{\"attributes\":{\"bottom\":{\"field\":\"bottom\"},\"fill_color\":{\"value\":\"#7570b3\"},\"line_color\":{\"value\":\"#7570b3\"},\"top\":{\"field\":\"top\"},\"width\":{\"value\":0.25},\"x\":{\"field\":\"x\"}},\"id\":\"d47edea0-5695-4d1e-a7cd-7be5c30634ef\",\"type\":\"VBar\"},{\"attributes\":{\"below\":[{\"id\":\"9ec53bb7-8227-49c6-a74b-7b3c53757b34\",\"type\":\"CategoricalAxis\"}],\"left\":[{\"id\":\"ed4b9e45-ffc0-4767-ab29-74025b950fd9\",\"type\":\"LinearAxis\"}],\"plot_height\":400,\"plot_width\":800,\"renderers\":[{\"id\":\"9ec53bb7-8227-49c6-a74b-7b3c53757b34\",\"type\":\"CategoricalAxis\"},{\"id\":\"bc1db5f6-dae0-4bbb-99ff-1231a9792f3c\",\"type\":\"Grid\"},{\"id\":\"ed4b9e45-ffc0-4767-ab29-74025b950fd9\",\"type\":\"LinearAxis\"},{\"id\":\"9bf6e6cd-26f5-4f15-ae95-744a308d88a8\",\"type\":\"Grid\"},{\"id\":\"2f2d44c7-d5dd-486d-85cb-022f3beb1b64\",\"type\":\"BoxAnnotation\"},{\"id\":\"12348a26-a009-4df2-acc6-f1e5f5fdea31\",\"type\":\"Legend\"},{\"id\":\"a29809ec-5e11-45aa-a1ae-8fc77d6c1b68\",\"type\":\"GlyphRenderer\"},{\"id\":\"6d8f7360-de63-4a01-8c5d-295924105199\",\"type\":\"GlyphRenderer\"},{\"id\":\"a5cf5c1a-094b-42a5-8dff-581aa4e209c1\",\"type\":\"GlyphRenderer\"},{\"id\":\"f66fcfba-d1cf-46c8-ace7-171e2c4b7c7d\",\"type\":\"GlyphRenderer\"},{\"id\":\"240ed7e7-9e8e-42d0-a06e-151b6b1b0c76\",\"type\":\"GlyphRenderer\"},{\"id\":\"86426d4c-89de-4e76-98c3-1279a4f3bdd5\",\"type\":\"GlyphRenderer\"},{\"id\":\"c18d5bd2-6082-4a94-8edb-9a2475acd23f\",\"type\":\"GlyphRenderer\"}],\"title\":{\"id\":\"90a7cbe9-6303-4a99-810f-dfcaf03cc001\",\"type\":\"Title\"},\"toolbar\":{\"id\":\"9b65ca1b-49e8-49ac-bc07-38de26ae6f74\",\"type\":\"Toolbar\"},\"x_range\":{\"id\":\"415f5ae9-aea1-46a5-a330-80359f7b9e9e\",\"type\":\"FactorRange\"},\"x_scale\":{\"id\":\"5fd64878-4318-4d1a-ae12-9cad256b10d7\",\"type\":\"CategoricalScale\"},\"y_range\":{\"id\":\"067a6b30-e39a-4254-9999-49aef4b122bf\",\"type\":\"DataRange1d\"},\"y_scale\":{\"id\":\"434c22c8-db14-4c08-be9f-1b4b840d08f8\",\"type\":\"LinearScale\"}},\"id\":\"13d78e35-760c-47cf-963f-6a36d67aee4a\",\"subtype\":\"Figure\",\"type\":\"Plot\"},{\"attributes\":{},\"id\":\"24517e8e-fc09-44be-9d12-66463e44f7bb\",\"type\":\"Selection\"},{\"attributes\":{\"data_source\":{\"id\":\"ddec9793-bd56-4792-9ee4-2fdcb3460dd2\",\"type\":\"ColumnDataSource\"},\"glyph\":{\"id\":\"d47edea0-5695-4d1e-a7cd-7be5c30634ef\",\"type\":\"VBar\"},\"hover_glyph\":null,\"muted_glyph\":null,\"nonselection_glyph\":{\"id\":\"ee88319f-efb0-4ba7-bf81-0ff9f8561924\",\"type\":\"VBar\"},\"selection_glyph\":null,\"view\":{\"id\":\"9d3ff4ea-04e0-4b96-8500-f6f6b3ed911c\",\"type\":\"CDSView\"}},\"id\":\"a5cf5c1a-094b-42a5-8dff-581aa4e209c1\",\"type\":\"GlyphRenderer\"},{\"attributes\":{\"bottom\":{\"field\":\"bottom\"},\"fill_alpha\":{\"value\":0.1},\"fill_color\":{\"value\":\"#1f77b4\"},\"line_alpha\":{\"value\":0.1},\"line_color\":{\"value\":\"#1f77b4\"},\"top\":{\"field\":\"top\"},\"width\":{\"value\":0.25},\"x\":{\"field\":\"x\"}},\"id\":\"ee88319f-efb0-4ba7-bf81-0ff9f8561924\",\"type\":\"VBar\"},{\"attributes\":{\"source\":{\"id\":\"ddec9793-bd56-4792-9ee4-2fdcb3460dd2\",\"type\":\"ColumnDataSource\"}},\"id\":\"9d3ff4ea-04e0-4b96-8500-f6f6b3ed911c\",\"type\":\"CDSView\"},{\"attributes\":{},\"id\":\"da418685-f777-4f5d-bcd6-ec33f7e3bd78\",\"type\":\"UnionRenderers\"},{\"attributes\":{\"label\":{\"value\":\"BROOKLYN\"},\"renderers\":[{\"id\":\"a5cf5c1a-094b-42a5-8dff-581aa4e209c1\",\"type\":\"GlyphRenderer\"}]},\"id\":\"2f5ee499-b3db-4594-b964-84aca45e8410\",\"type\":\"LegendItem\"},{\"attributes\":{\"data_source\":{\"id\":\"e1f36f86-c837-47a8-9bd9-3cbbda4e7409\",\"type\":\"ColumnDataSource\"},\"glyph\":{\"id\":\"3509abf1-9ade-4c8f-821f-0b2ea446fe5d\",\"type\":\"VBar\"},\"hover_glyph\":null,\"muted_glyph\":null,\"nonselection_glyph\":{\"id\":\"242f7a00-f7cb-454c-871e-894b86225906\",\"type\":\"VBar\"},\"selection_glyph\":null,\"view\":{\"id\":\"8517bab4-44dd-4230-bf7e-7e0921b720cd\",\"type\":\"CDSView\"}},\"id\":\"f66fcfba-d1cf-46c8-ace7-171e2c4b7c7d\",\"type\":\"GlyphRenderer\"},{\"attributes\":{\"bottom\":{\"field\":\"bottom\"},\"fill_color\":{\"value\":\"#e7298a\"},\"line_color\":{\"value\":\"#e7298a\"},\"top\":{\"field\":\"top\"},\"width\":{\"value\":0.25},\"x\":{\"field\":\"x\"}},\"id\":\"3509abf1-9ade-4c8f-821f-0b2ea446fe5d\",\"type\":\"VBar\"},{\"attributes\":{\"callback\":null,\"data\":{\"bottom\":{\"__ndarray__\":\"AAAAACAG6kAAAAAAAMbAQAAAAACAuMRAAAAAAADg2UAAAAAAQA/QQAAAAACAY9NAAAAAAIBQ0UAAAAAAAGLHQAAAAAAgkQJBAAAAAAAW5EAAAAAAgNvQQAAAAADAndFAAAAAAACl1UAAAAAAAMfmQAAAAAAAgeFAAAAAAICpzkAAAAAAAC3NQAAAAAAAzshAAAAAAKD85kAAAAAAAF/aQAAAAAAAdMtAAAAAAIBx6UAAAAAAAPrXQAAAAACAgN1A\",\"dtype\":\"float64\",\"shape\":[24]},\"top\":{\"__ndarray__\":\"AAAAACAG6kAAAAAAAMbAQAAAAACA48ZAAAAAAAAr2kAAAAAAQObQQAAAAABAmdNAAAAAAEB50UAAAAAAgHvIQAAAAADI5gJBAAAAAAAW5EAAAAAAwJrRQAAAAADAndFAAAAAAACl1UAAAAAAAB3nQAAAAABgtuFAAAAAAID9zkAAAAAAAKzOQAAAAAAANMpAAAAAAMAm6EAAAAAAABjcQAAAAACAqcxAAAAAAEDI6UAAAAAAwFrYQAAAAAAA3d5A\",\"dtype\":\"float64\",\"shape\":[24]},\"x\":[\"Blocked Driveway\",\"Broken Muni Meter\",\"Building/Use\",\"DOOR/WINDOW\",\"Dirty Conditions\",\"ELECTRIC\",\"FLOORING/STAIRS\",\"General Construction/Plumbing\",\"HEAT/HOT WATER\",\"Illegal Parking\",\"Noise\",\"Noise - Commercial\",\"Noise - Street/Sidewalk\",\"PAINT/PLASTER\",\"PLUMBING\",\"Rodent\",\"Sanitation Condition\",\"Sewer\",\"Street Condition\",\"Street Light Condition\",\"Traffic Signal Condition\",\"UNSANITARY CONDITION\",\"WATER LEAK\",\"Water System\"]},\"selected\":{\"id\":\"cf538620-e0fc-4719-b295-e871a1ab0133\",\"type\":\"Selection\"},\"selection_policy\":{\"id\":\"8f55016b-054e-4b52-88ca-173c128768ca\",\"type\":\"UnionRenderers\"}},\"id\":\"e1f36f86-c837-47a8-9bd9-3cbbda4e7409\",\"type\":\"ColumnDataSource\"},{\"attributes\":{\"bottom\":{\"field\":\"bottom\"},\"fill_alpha\":{\"value\":0.1},\"fill_color\":{\"value\":\"#1f77b4\"},\"line_alpha\":{\"value\":0.1},\"line_color\":{\"value\":\"#1f77b4\"},\"top\":{\"field\":\"top\"},\"width\":{\"value\":0.25},\"x\":{\"field\":\"x\"}},\"id\":\"242f7a00-f7cb-454c-871e-894b86225906\",\"type\":\"VBar\"},{\"attributes\":{\"source\":{\"id\":\"e1f36f86-c837-47a8-9bd9-3cbbda4e7409\",\"type\":\"ColumnDataSource\"}},\"id\":\"8517bab4-44dd-4230-bf7e-7e0921b720cd\",\"type\":\"CDSView\"},{\"attributes\":{\"bottom\":{\"field\":\"bottom\"},\"fill_alpha\":{\"value\":0.1},\"fill_color\":{\"value\":\"#1f77b4\"},\"line_alpha\":{\"value\":0.1},\"line_color\":{\"value\":\"#1f77b4\"},\"top\":{\"field\":\"top\"},\"width\":{\"value\":0.25},\"x\":{\"field\":\"x\"}},\"id\":\"d6d66770-6ac6-4385-8322-f782aaa4228d\",\"type\":\"VBar\"},{\"attributes\":{},\"id\":\"303f84c2-cd16-4f97-ab79-b81b0ba65c1c\",\"type\":\"UnionRenderers\"},{\"attributes\":{\"bottom\":{\"field\":\"bottom\"},\"fill_alpha\":{\"value\":0.1},\"fill_color\":{\"value\":\"#1f77b4\"},\"line_alpha\":{\"value\":0.1},\"line_color\":{\"value\":\"#1f77b4\"},\"top\":{\"field\":\"top\"},\"width\":{\"value\":0.25},\"x\":{\"field\":\"x\"}},\"id\":\"db02a13a-343b-4a94-9540-15d351fa2668\",\"type\":\"VBar\"},{\"attributes\":{\"bottom\":{\"field\":\"bottom\"},\"fill_color\":{\"value\":\"#66a61e\"},\"line_color\":{\"value\":\"#66a61e\"},\"top\":{\"field\":\"top\"},\"width\":{\"value\":0.25},\"x\":{\"field\":\"x\"}},\"id\":\"d9cfd7df-4aa9-4d41-ac4e-5e5276c945d6\",\"type\":\"VBar\"},{\"attributes\":{\"callback\":null,\"data\":{\"bottom\":{\"__ndarray__\":\"AAAAACAG6kAAAAAAAMbAQAAAAACA48ZAAAAAAAAr2kAAAAAAQObQQAAAAABAmdNAAAAAAEB50UAAAAAAgHvIQAAAAADI5gJBAAAAAAAW5EAAAAAAwJrRQAAAAADAndFAAAAAAACl1UAAAAAAAB3nQAAAAABgtuFAAAAAAID9zkAAAAAAAKzOQAAAAAAANMpAAAAAAMAm6EAAAAAAABjcQAAAAACAqcxAAAAAAEDI6UAAAAAAwFrYQAAAAAAA3d5A\",\"dtype\":\"float64\",\"shape\":[24]},\"top\":{\"__ndarray__\":\"AAAAACAG6kAAAAAAAMbAQAAAAAAAa8lAAAAAAEDX2kAAAAAAgAbSQAAAAADAR9RAAAAAAEDm0UAAAAAAALvJQAAAAABIUANBAAAAAAAW5EAAAAAAAA/SQAAAAADAndFAAAAAAACl1UAAAAAAIJ/nQAAAAADgTOJAAAAAAEAJ0EAAAAAAAJzQQAAAAAAArM5AAAAAAOBJ6UAAAAAAwIHeQAAAAAAArs5AAAAAAMCJ6kAAAAAAQOrYQAAAAABgheBA\",\"dtype\":\"float64\",\"shape\":[24]},\"x\":[\"Blocked Driveway\",\"Broken Muni Meter\",\"Building/Use\",\"DOOR/WINDOW\",\"Dirty Conditions\",\"ELECTRIC\",\"FLOORING/STAIRS\",\"General Construction/Plumbing\",\"HEAT/HOT WATER\",\"Illegal Parking\",\"Noise\",\"Noise - Commercial\",\"Noise - Street/Sidewalk\",\"PAINT/PLASTER\",\"PLUMBING\",\"Rodent\",\"Sanitation Condition\",\"Sewer\",\"Street Condition\",\"Street Light Condition\",\"Traffic Signal Condition\",\"UNSANITARY CONDITION\",\"WATER LEAK\",\"Water System\"]},\"selected\":{\"id\":\"c34d4cd3-fd9b-4262-8926-c5506c3f5acf\",\"type\":\"Selection\"},\"selection_policy\":{\"id\":\"48832c25-90be-4a2f-9835-9ca53f6866a4\",\"type\":\"UnionRenderers\"}},\"id\":\"c9985d50-1a3f-45eb-8012-8ddbee739319\",\"type\":\"ColumnDataSource\"},{\"attributes\":{},\"id\":\"fabb5491-bc7f-45cc-b900-738c3ccafb0f\",\"type\":\"Selection\"},{\"attributes\":{\"label\":{\"value\":\"Flushing\"},\"renderers\":[{\"id\":\"f66fcfba-d1cf-46c8-ace7-171e2c4b7c7d\",\"type\":\"GlyphRenderer\"}]},\"id\":\"c8fc8a48-d3a2-464a-a626-6b719b7e951e\",\"type\":\"LegendItem\"},{\"attributes\":{},\"id\":\"04d4f721-f1c1-474a-b4e0-1f840ebcd81e\",\"type\":\"Selection\"},{\"attributes\":{},\"id\":\"cf538620-e0fc-4719-b295-e871a1ab0133\",\"type\":\"Selection\"},{\"attributes\":{\"data_source\":{\"id\":\"c9985d50-1a3f-45eb-8012-8ddbee739319\",\"type\":\"ColumnDataSource\"},\"glyph\":{\"id\":\"d9cfd7df-4aa9-4d41-ac4e-5e5276c945d6\",\"type\":\"VBar\"},\"hover_glyph\":null,\"muted_glyph\":null,\"nonselection_glyph\":{\"id\":\"d6d66770-6ac6-4385-8322-f782aaa4228d\",\"type\":\"VBar\"},\"selection_glyph\":null,\"view\":{\"id\":\"8ae2c0f7-a009-4511-839a-6ebc2c2fc3b5\",\"type\":\"CDSView\"}},\"id\":\"240ed7e7-9e8e-42d0-a06e-151b6b1b0c76\",\"type\":\"GlyphRenderer\"},{\"attributes\":{\"source\":{\"id\":\"c9985d50-1a3f-45eb-8012-8ddbee739319\",\"type\":\"ColumnDataSource\"}},\"id\":\"8ae2c0f7-a009-4511-839a-6ebc2c2fc3b5\",\"type\":\"CDSView\"},{\"attributes\":{},\"id\":\"60a5a551-54fd-4739-af03-61d023dcdcc9\",\"type\":\"Selection\"},{\"attributes\":{},\"id\":\"8f55016b-054e-4b52-88ca-173c128768ca\",\"type\":\"UnionRenderers\"},{\"attributes\":{\"bottom\":{\"field\":\"bottom\"},\"fill_color\":{\"value\":\"#e6ab02\"},\"line_color\":{\"value\":\"#e6ab02\"},\"top\":{\"field\":\"top\"},\"width\":{\"value\":0.25},\"x\":{\"field\":\"x\"}},\"id\":\"7ed389fc-07e5-4e67-a124-b5a54f61d982\",\"type\":\"VBar\"},{\"attributes\":{\"source\":{\"id\":\"d82e2c19-0fa1-45fd-a837-48b68c24312f\",\"type\":\"ColumnDataSource\"}},\"id\":\"b702fb1b-dd05-4a99-8b17-161a820870e0\",\"type\":\"CDSView\"},{\"attributes\":{\"source\":{\"id\":\"3ed5d235-e85d-4deb-9bbd-2831b12e7be5\",\"type\":\"ColumnDataSource\"}},\"id\":\"05fdbb71-a772-42eb-ba88-1d11419d4898\",\"type\":\"CDSView\"},{\"attributes\":{},\"id\":\"48832c25-90be-4a2f-9835-9ca53f6866a4\",\"type\":\"UnionRenderers\"},{\"attributes\":{\"data_source\":{\"id\":\"d82e2c19-0fa1-45fd-a837-48b68c24312f\",\"type\":\"ColumnDataSource\"},\"glyph\":{\"id\":\"7ed389fc-07e5-4e67-a124-b5a54f61d982\",\"type\":\"VBar\"},\"hover_glyph\":null,\"muted_glyph\":null,\"nonselection_glyph\":{\"id\":\"db02a13a-343b-4a94-9540-15d351fa2668\",\"type\":\"VBar\"},\"selection_glyph\":null,\"view\":{\"id\":\"b702fb1b-dd05-4a99-8b17-161a820870e0\",\"type\":\"CDSView\"}},\"id\":\"86426d4c-89de-4e76-98c3-1279a4f3bdd5\",\"type\":\"GlyphRenderer\"},{\"attributes\":{\"plot\":null,\"text\":\"Distribution of the top 25 complaints among top 7 cities with the most complaints\"},\"id\":\"90a7cbe9-6303-4a99-810f-dfcaf03cc001\",\"type\":\"Title\"},{\"attributes\":{\"callback\":null},\"id\":\"067a6b30-e39a-4254-9999-49aef4b122bf\",\"type\":\"DataRange1d\"},{\"attributes\":{\"label\":{\"value\":\"Jamaica\"},\"renderers\":[{\"id\":\"240ed7e7-9e8e-42d0-a06e-151b6b1b0c76\",\"type\":\"GlyphRenderer\"}]},\"id\":\"70169b0e-9aa7-4b69-b5f7-d7b6f01cbb82\",\"type\":\"LegendItem\"},{\"attributes\":{},\"id\":\"5fd64878-4318-4d1a-ae12-9cad256b10d7\",\"type\":\"CategoricalScale\"},{\"attributes\":{},\"id\":\"c34d4cd3-fd9b-4262-8926-c5506c3f5acf\",\"type\":\"Selection\"},{\"attributes\":{\"formatter\":{\"id\":\"2d24dc4d-d053-4efd-8c05-c2bb021c11b8\",\"type\":\"BasicTickFormatter\"},\"plot\":{\"id\":\"13d78e35-760c-47cf-963f-6a36d67aee4a\",\"subtype\":\"Figure\",\"type\":\"Plot\"},\"ticker\":{\"id\":\"4a17329d-3a69-4a77-aabb-f726f0a7e0ce\",\"type\":\"BasicTicker\"}},\"id\":\"ed4b9e45-ffc0-4767-ab29-74025b950fd9\",\"type\":\"LinearAxis\"},{\"attributes\":{\"active_drag\":\"auto\",\"active_inspect\":\"auto\",\"active_scroll\":\"auto\",\"active_tap\":\"auto\",\"tools\":[{\"id\":\"7c5365d9-ad9f-4f81-99eb-fb5dadf20bea\",\"type\":\"HoverTool\"},{\"id\":\"7774ffeb-0ef5-48da-9469-798bffc791a5\",\"type\":\"CrosshairTool\"},{\"id\":\"70e108bd-7e7b-4bc3-b6dd-89daf7727b4d\",\"type\":\"PanTool\"},{\"id\":\"eecd196f-2dcd-4908-838d-57cd303fbf36\",\"type\":\"BoxZoomTool\"},{\"id\":\"741704c9-d98f-4cbd-86f9-833fed685d17\",\"type\":\"WheelZoomTool\"},{\"id\":\"48cf6fe2-5e69-4424-ab2c-ba5a1d3c8ec1\",\"type\":\"SaveTool\"},{\"id\":\"329ca318-9410-44ab-acf2-6ebf9ffbd142\",\"type\":\"ResetTool\"},{\"id\":\"c0dc385a-fe08-4a6e-8038-fe31ba6f7651\",\"type\":\"HelpTool\"}]},\"id\":\"9b65ca1b-49e8-49ac-bc07-38de26ae6f74\",\"type\":\"Toolbar\"},{\"attributes\":{\"label\":{\"value\":\"NEW YORK\"},\"renderers\":[{\"id\":\"86426d4c-89de-4e76-98c3-1279a4f3bdd5\",\"type\":\"GlyphRenderer\"}]},\"id\":\"9bb75edf-760e-4d14-a3c6-93c27f4da62e\",\"type\":\"LegendItem\"},{\"attributes\":{\"callback\":null,\"factors\":[\"HEAT/HOT WATER\",\"Street Condition\",\"Street Light Condition\",\"Blocked Driveway\",\"Illegal Parking\",\"UNSANITARY CONDITION\",\"PAINT/PLASTER\",\"Water System\",\"PLUMBING\",\"Noise\",\"Noise - Street/Sidewalk\",\"Traffic Signal Condition\",\"Noise - Commercial\",\"DOOR/WINDOW\",\"WATER LEAK\",\"Dirty Conditions\",\"Sewer\",\"Sanitation Condition\",\"DOF Literature Request\",\"ELECTRIC\",\"Rodent\",\"FLOORING/STAIRS\",\"General Construction/Plumbing\",\"Building/Use\",\"Broken Muni Meter\"]},\"id\":\"415f5ae9-aea1-46a5-a330-80359f7b9e9e\",\"type\":\"FactorRange\"},{\"attributes\":{\"data_source\":{\"id\":\"c2ef2c9c-25aa-4869-90a4-160424c7f351\",\"type\":\"ColumnDataSource\"},\"glyph\":{\"id\":\"d8f93f14-ce94-445e-a0a2-ecbb79ecd359\",\"type\":\"VBar\"},\"hover_glyph\":null,\"muted_glyph\":null,\"nonselection_glyph\":{\"id\":\"e4cd59bf-afc4-4404-8382-a8716d8a4dde\",\"type\":\"VBar\"},\"selection_glyph\":null,\"view\":{\"id\":\"fc894dc9-876c-4369-8009-ea4be9c84a08\",\"type\":\"CDSView\"}},\"id\":\"c18d5bd2-6082-4a94-8edb-9a2475acd23f\",\"type\":\"GlyphRenderer\"},{\"attributes\":{\"fill_color\":{\"value\":\"#1b9e77\"},\"line_color\":{\"value\":\"#1b9e77\"},\"top\":{\"field\":\"top\"},\"width\":{\"value\":0.25},\"x\":{\"field\":\"x\"}},\"id\":\"79d7e78d-11e1-4a77-9bee-d9e70446b3cc\",\"type\":\"VBar\"},{\"attributes\":{\"bottom\":{\"field\":\"bottom\"},\"fill_color\":{\"value\":\"#a6761d\"},\"line_color\":{\"value\":\"#a6761d\"},\"top\":{\"field\":\"top\"},\"width\":{\"value\":0.25},\"x\":{\"field\":\"x\"}},\"id\":\"d8f93f14-ce94-445e-a0a2-ecbb79ecd359\",\"type\":\"VBar\"},{\"attributes\":{},\"id\":\"434c22c8-db14-4c08-be9f-1b4b840d08f8\",\"type\":\"LinearScale\"},{\"attributes\":{\"callback\":null,\"data\":{\"bottom\":{\"__ndarray__\":\"AAAAAOBY60AAAAAAQB3TQAAAAAAA/cxAAAAAAMAp4UAAAAAAAD/XQAAAAACAO9lAAAAAAEC110AAAAAAgLbTQAAAAAAQGApBAAAAAKCW6kAAAAAAYLLlQAAAAAAgpOFAAAAAAGD35EAAAAAAgKTuQAAAAAAA7udAAAAAAICt1kAAAAAAANbTQAAAAACAstJAAAAAAFBP8UAAAAAAQEfgQAAAAADAj9BAAAAAAGAR8UAAAAAAQJzfQAAAAACgneZA\",\"dtype\":\"float64\",\"shape\":[24]},\"top\":{\"__ndarray__\":\"AAAAAKCq7EAAAAAAwF7TQAAAAACA/M9AAAAAAOCH4UAAAAAAgA7aQAAAAADA39lAAAAAAIA82EAAAAAAQAjVQAAAAABQXwpBAAAAAEBw7UAAAAAA4HHmQAAAAACAA+JAAAAAAEBp5UAAAAAAIB/vQAAAAADgguhAAAAAAID/10AAAAAAAIrWQAAAAADAXNZAAAAAAOBu9UAAAAAA4E3jQAAAAAAAI9JAAAAAAICH8UAAAAAA4BbgQAAAAACAoulA\",\"dtype\":\"float64\",\"shape\":[24]},\"x\":[\"Blocked Driveway\",\"Broken Muni Meter\",\"Building/Use\",\"DOOR/WINDOW\",\"Dirty Conditions\",\"ELECTRIC\",\"FLOORING/STAIRS\",\"General Construction/Plumbing\",\"HEAT/HOT WATER\",\"Illegal Parking\",\"Noise\",\"Noise - Commercial\",\"Noise - Street/Sidewalk\",\"PAINT/PLASTER\",\"PLUMBING\",\"Rodent\",\"Sanitation Condition\",\"Sewer\",\"Street Condition\",\"Street Light Condition\",\"Traffic Signal Condition\",\"UNSANITARY CONDITION\",\"WATER LEAK\",\"Water System\"]},\"selected\":{\"id\":\"04d4f721-f1c1-474a-b4e0-1f840ebcd81e\",\"type\":\"Selection\"},\"selection_policy\":{\"id\":\"b402d14a-fdc1-411c-a386-cdcddd848d23\",\"type\":\"UnionRenderers\"}},\"id\":\"c2ef2c9c-25aa-4869-90a4-160424c7f351\",\"type\":\"ColumnDataSource\"},{\"attributes\":{\"plot\":{\"id\":\"13d78e35-760c-47cf-963f-6a36d67aee4a\",\"subtype\":\"Figure\",\"type\":\"Plot\"},\"ticker\":{\"id\":\"55c3252d-1578-436d-9c83-ad78102a9d64\",\"type\":\"CategoricalTicker\"}},\"id\":\"bc1db5f6-dae0-4bbb-99ff-1231a9792f3c\",\"type\":\"Grid\"},{\"attributes\":{\"bottom\":{\"field\":\"bottom\"},\"fill_alpha\":{\"value\":0.1},\"fill_color\":{\"value\":\"#1f77b4\"},\"line_alpha\":{\"value\":0.1},\"line_color\":{\"value\":\"#1f77b4\"},\"top\":{\"field\":\"top\"},\"width\":{\"value\":0.25},\"x\":{\"field\":\"x\"}},\"id\":\"e4cd59bf-afc4-4404-8382-a8716d8a4dde\",\"type\":\"VBar\"},{\"attributes\":{\"formatter\":{\"id\":\"701ddf13-cee0-45e3-9020-747bf846280e\",\"type\":\"CategoricalTickFormatter\"},\"major_label_orientation\":0.66,\"plot\":{\"id\":\"13d78e35-760c-47cf-963f-6a36d67aee4a\",\"subtype\":\"Figure\",\"type\":\"Plot\"},\"ticker\":{\"id\":\"55c3252d-1578-436d-9c83-ad78102a9d64\",\"type\":\"CategoricalTicker\"}},\"id\":\"9ec53bb7-8227-49c6-a74b-7b3c53757b34\",\"type\":\"CategoricalAxis\"},{\"attributes\":{\"source\":{\"id\":\"c2ef2c9c-25aa-4869-90a4-160424c7f351\",\"type\":\"ColumnDataSource\"}},\"id\":\"fc894dc9-876c-4369-8009-ea4be9c84a08\",\"type\":\"CDSView\"},{\"attributes\":{},\"id\":\"55c3252d-1578-436d-9c83-ad78102a9d64\",\"type\":\"CategoricalTicker\"},{\"attributes\":{\"callback\":null,\"data\":{\"top\":{\"__ndarray__\":\"AAAAAAAUqkAAAAAAABiKQAAAAAAAAAAAAAAAAAAAAAAAAAAAAAAAAAAAAAAAAAAAAAAAAAAAAAAAAAAAAAAAAAAAAAAAAAAAAAAAAAC8lkAAAAAAAAAAAAAAAAAACqBAAAAAAADYgEAAAAAAAAAAAAAAAAAAAAAAAAAAAACASkAAAAAAAAAAAAAAAAAAAAAAAAAAAADYgEAAAAAAAAAAAAAAAAAAAAAAAAAAAAAAAAAAAAAAAAAAAAAAAAAAAAAA\",\"dtype\":\"float64\",\"shape\":[24]},\"x\":[\"Blocked Driveway\",\"Broken Muni Meter\",\"Building/Use\",\"DOOR/WINDOW\",\"Dirty Conditions\",\"ELECTRIC\",\"FLOORING/STAIRS\",\"General Construction/Plumbing\",\"HEAT/HOT WATER\",\"Illegal Parking\",\"Noise\",\"Noise - Commercial\",\"Noise - Street/Sidewalk\",\"PAINT/PLASTER\",\"PLUMBING\",\"Rodent\",\"Sanitation Condition\",\"Sewer\",\"Street Condition\",\"Street Light Condition\",\"Traffic Signal Condition\",\"UNSANITARY CONDITION\",\"WATER LEAK\",\"Water System\"]},\"selected\":{\"id\":\"cf3561b9-77c5-471c-8f18-df5d239a655e\",\"type\":\"Selection\"},\"selection_policy\":{\"id\":\"561f0051-84f4-455d-8c63-fabff2c2c944\",\"type\":\"UnionRenderers\"}},\"id\":\"3ed5d235-e85d-4deb-9bbd-2831b12e7be5\",\"type\":\"ColumnDataSource\"},{\"attributes\":{},\"id\":\"ba026deb-7253-4f23-b465-df7c15b1e812\",\"type\":\"UnionRenderers\"},{\"attributes\":{},\"id\":\"4a17329d-3a69-4a77-aabb-f726f0a7e0ce\",\"type\":\"BasicTicker\"},{\"attributes\":{\"dimension\":1,\"plot\":{\"id\":\"13d78e35-760c-47cf-963f-6a36d67aee4a\",\"subtype\":\"Figure\",\"type\":\"Plot\"},\"ticker\":{\"id\":\"4a17329d-3a69-4a77-aabb-f726f0a7e0ce\",\"type\":\"BasicTicker\"}},\"id\":\"9bf6e6cd-26f5-4f15-ae95-744a308d88a8\",\"type\":\"Grid\"},{\"attributes\":{\"label\":{\"value\":\"STATEN ISLAND\"},\"renderers\":[{\"id\":\"c18d5bd2-6082-4a94-8edb-9a2475acd23f\",\"type\":\"GlyphRenderer\"}]},\"id\":\"2167cb73-f3ef-421f-b731-08c132e05ac1\",\"type\":\"LegendItem\"},{\"attributes\":{\"fill_alpha\":{\"value\":0.1},\"fill_color\":{\"value\":\"#1f77b4\"},\"line_alpha\":{\"value\":0.1},\"line_color\":{\"value\":\"#1f77b4\"},\"top\":{\"field\":\"top\"},\"width\":{\"value\":0.25},\"x\":{\"field\":\"x\"}},\"id\":\"5862587d-0764-48e2-93fb-79b425b49f27\",\"type\":\"VBar\"},{\"attributes\":{\"callback\":null,\"renderers\":\"auto\",\"tooltips\":[[\"y\",\"$y{int}\"]]},\"id\":\"7c5365d9-ad9f-4f81-99eb-fb5dadf20bea\",\"type\":\"HoverTool\"},{\"attributes\":{},\"id\":\"48cf6fe2-5e69-4424-ab2c-ba5a1d3c8ec1\",\"type\":\"SaveTool\"},{\"attributes\":{},\"id\":\"7774ffeb-0ef5-48da-9469-798bffc791a5\",\"type\":\"CrosshairTool\"},{\"attributes\":{},\"id\":\"70e108bd-7e7b-4bc3-b6dd-89daf7727b4d\",\"type\":\"PanTool\"},{\"attributes\":{\"overlay\":{\"id\":\"2f2d44c7-d5dd-486d-85cb-022f3beb1b64\",\"type\":\"BoxAnnotation\"}},\"id\":\"eecd196f-2dcd-4908-838d-57cd303fbf36\",\"type\":\"BoxZoomTool\"},{\"attributes\":{},\"id\":\"741704c9-d98f-4cbd-86f9-833fed685d17\",\"type\":\"WheelZoomTool\"}],\"root_ids\":[\"13d78e35-760c-47cf-963f-6a36d67aee4a\"]},\"title\":\"Bokeh Application\",\"version\":\"0.12.16\"}};\n",
       "  var render_items = [{\"docid\":\"2c1cc8d1-4aa7-4459-ade2-f74c5c447e21\",\"elementid\":\"d1e5d371-f6c7-45be-9227-ebf5d50efcd4\",\"modelid\":\"13d78e35-760c-47cf-963f-6a36d67aee4a\"}];\n",
       "  root.Bokeh.embed.embed_items_notebook(docs_json, render_items);\n",
       "\n",
       "  }\n",
       "  if (root.Bokeh !== undefined) {\n",
       "    embed_document(root);\n",
       "  } else {\n",
       "    var attempts = 0;\n",
       "    var timer = setInterval(function(root) {\n",
       "      if (root.Bokeh !== undefined) {\n",
       "        embed_document(root);\n",
       "        clearInterval(timer);\n",
       "      }\n",
       "      attempts++;\n",
       "      if (attempts > 100) {\n",
       "        console.log(\"Bokeh: ERROR: Unable to run BokehJS code because BokehJS library is missing\")\n",
       "        clearInterval(timer);\n",
       "      }\n",
       "    }, 10, root)\n",
       "  }\n",
       "})(window);"
      ],
      "application/vnd.bokehjs_exec.v0+json": ""
     },
     "metadata": {
      "application/vnd.bokehjs_exec.v0+json": {
       "id": "13d78e35-760c-47cf-963f-6a36d67aee4a"
      }
     },
     "output_type": "display_data"
    }
   ],
   "source": [
    "# Some code to render a Bokeh stacked bar chart\n",
    "\n",
    "kwargs_figure = {'title': \"Distribution of the top 25 complaints among top 7 cities with the most complaints\",\n",
    "                 'width': 800,\n",
    "                 'height': 400,\n",
    "                 'tools': \"hover,crosshair,pan,box_zoom,wheel_zoom,save,reset,help\"}\n",
    "\n",
    "def plot_complaints_stacked_by_city(df, y='complaint_count'):\n",
    "    p = make_stacked_bar(df, 'complaint_type', 'city_name', y,\n",
    "                         x_labels=list(top_complaints['type']), bar_labels=TOP_CITIES,\n",
    "                         kwargs_figure=kwargs_figure)\n",
    "    p.xaxis.major_label_orientation = 0.66\n",
    "    from bokeh.models import HoverTool\n",
    "    hover_tool = p.select(dict(type=HoverTool))\n",
    "    hover_tool.tooltips = [(\"y\", \"$y{int}\")]\n",
    "    return p\n",
    "\n",
    "show(plot_complaints_stacked_by_city(df_plot))"
   ]
  },
  {
   "cell_type": "markdown",
   "metadata": {
    "nbgrader": {
     "grade": false,
     "locked": true,
     "solution": false
    }
   },
   "source": [
    "**Exercise 5** (2 points). Suppose we want to create a different stacked bar plot that shows, for each complaint type $t$ and city $c$, the fraction of all complaints of type $t$ that occurred in city $c$. Store your result in a dataframe named `df_plot_fraction`. It should have the same columns as `df_plot`, **except** that the `complaint_count` column should be replaced by one named `complaint_frac`, which holds the fractional values.\n",
    "\n",
    "> The test cell will create the chart in addition to checking your result. Note that the normalized bars will not necessarily add up to 1; why not?"
   ]
  },
  {
   "cell_type": "code",
   "execution_count": 44,
   "metadata": {
    "deletable": false,
    "nbgrader": {
     "checksum": "f31f52055dbb5923365c3082b1a64e26",
     "grade": false,
     "grade_id": "norm_above",
     "locked": false,
     "schema_version": 1,
     "solution": true
    },
    "nbpresent": {
     "id": "e8ec1c8f-181e-435b-8c52-73efad01e0df"
    },
    "scrolled": true
   },
   "outputs": [
    {
     "data": {
      "text/html": [
       "<div>\n",
       "<style scoped>\n",
       "    .dataframe tbody tr th:only-of-type {\n",
       "        vertical-align: middle;\n",
       "    }\n",
       "\n",
       "    .dataframe tbody tr th {\n",
       "        vertical-align: top;\n",
       "    }\n",
       "\n",
       "    .dataframe thead th {\n",
       "        text-align: right;\n",
       "    }\n",
       "</style>\n",
       "<table border=\"1\" class=\"dataframe\">\n",
       "  <thead>\n",
       "    <tr style=\"text-align: right;\">\n",
       "      <th></th>\n",
       "      <th>type</th>\n",
       "      <th>freq</th>\n",
       "      <th>city_name</th>\n",
       "      <th>complaint_type</th>\n",
       "      <th>complaint_frac</th>\n",
       "    </tr>\n",
       "  </thead>\n",
       "  <tbody>\n",
       "    <tr>\n",
       "      <th>0</th>\n",
       "      <td>HEAT/HOT WATER</td>\n",
       "      <td>241430</td>\n",
       "      <td>BRONX</td>\n",
       "      <td>HEAT/HOT WATER</td>\n",
       "      <td>0.330075</td>\n",
       "    </tr>\n",
       "    <tr>\n",
       "      <th>1</th>\n",
       "      <td>HEAT/HOT WATER</td>\n",
       "      <td>241430</td>\n",
       "      <td>BROOKLYN</td>\n",
       "      <td>HEAT/HOT WATER</td>\n",
       "      <td>0.299921</td>\n",
       "    </tr>\n",
       "    <tr>\n",
       "      <th>2</th>\n",
       "      <td>HEAT/HOT WATER</td>\n",
       "      <td>241430</td>\n",
       "      <td>Flushing</td>\n",
       "      <td>HEAT/HOT WATER</td>\n",
       "      <td>0.011353</td>\n",
       "    </tr>\n",
       "    <tr>\n",
       "      <th>3</th>\n",
       "      <td>HEAT/HOT WATER</td>\n",
       "      <td>241430</td>\n",
       "      <td>Jamaica</td>\n",
       "      <td>HEAT/HOT WATER</td>\n",
       "      <td>0.013983</td>\n",
       "    </tr>\n",
       "    <tr>\n",
       "      <th>4</th>\n",
       "      <td>HEAT/HOT WATER</td>\n",
       "      <td>241430</td>\n",
       "      <td>NEW YORK</td>\n",
       "      <td>HEAT/HOT WATER</td>\n",
       "      <td>0.230067</td>\n",
       "    </tr>\n",
       "  </tbody>\n",
       "</table>\n",
       "</div>"
      ],
      "text/plain": [
       "             type    freq city_name  complaint_type  complaint_frac\n",
       "0  HEAT/HOT WATER  241430     BRONX  HEAT/HOT WATER        0.330075\n",
       "1  HEAT/HOT WATER  241430  BROOKLYN  HEAT/HOT WATER        0.299921\n",
       "2  HEAT/HOT WATER  241430  Flushing  HEAT/HOT WATER        0.011353\n",
       "3  HEAT/HOT WATER  241430   Jamaica  HEAT/HOT WATER        0.013983\n",
       "4  HEAT/HOT WATER  241430  NEW YORK  HEAT/HOT WATER        0.230067"
      ]
     },
     "execution_count": 44,
     "metadata": {},
     "output_type": "execute_result"
    }
   ],
   "source": [
    "###\n",
    "df_plot_fraction = df_plot.copy()\n",
    "df_plot_fraction['complaint_frac'] = df_plot_fraction['complaint_count']/df_plot_fraction['freq']\n",
    "df_plot_fraction.drop('complaint_count', axis=1, inplace=True)\n",
    "###\n",
    "\n",
    "df_plot_fraction.head()"
   ]
  },
  {
   "cell_type": "code",
   "execution_count": 45,
   "metadata": {
    "nbgrader": {
     "grade": true,
     "grade_id": "norm_above_test",
     "locked": true,
     "points": 2,
     "schema_version": 1,
     "solution": false
    }
   },
   "outputs": [
    {
     "data": {
      "text/html": [
       "\n",
       "<div class=\"bk-root\">\n",
       "    <div class=\"bk-plotdiv\" id=\"1ec58148-daba-443d-a680-61ececbe0857\"></div>\n",
       "</div>"
      ]
     },
     "metadata": {},
     "output_type": "display_data"
    },
    {
     "data": {
      "application/javascript": [
       "(function(root) {\n",
       "  function embed_document(root) {\n",
       "    \n",
       "  var docs_json = {\"b8093848-08c2-49d3-bb57-54e7442060c1\":{\"roots\":{\"references\":[{\"attributes\":{\"plot\":{\"id\":\"574efb58-7d4f-4c2c-b327-0ad10489173b\",\"subtype\":\"Figure\",\"type\":\"Plot\"},\"ticker\":{\"id\":\"bf40faa5-704c-4358-9a7f-87e8784d2d12\",\"type\":\"CategoricalTicker\"}},\"id\":\"2667717f-f8ba-48f2-9abc-b8e640ecf76b\",\"type\":\"Grid\"},{\"attributes\":{\"source\":{\"id\":\"62fec2e2-2287-4dff-93c5-398135a24c92\",\"type\":\"ColumnDataSource\"}},\"id\":\"cac9775a-d6e2-4c42-8929-627bd748ffde\",\"type\":\"CDSView\"},{\"attributes\":{\"formatter\":{\"id\":\"6f71bcd8-6606-4394-8622-95a07685d33e\",\"type\":\"BasicTickFormatter\"},\"plot\":{\"id\":\"574efb58-7d4f-4c2c-b327-0ad10489173b\",\"subtype\":\"Figure\",\"type\":\"Plot\"},\"ticker\":{\"id\":\"6c9ba577-d531-42e4-b983-8602c726aea7\",\"type\":\"BasicTicker\"}},\"id\":\"def5796a-94d1-46f6-9acb-74edacc10c53\",\"type\":\"LinearAxis\"},{\"attributes\":{},\"id\":\"ca95c656-ba6d-468c-819d-8ad5929b68e1\",\"type\":\"Selection\"},{\"attributes\":{\"data_source\":{\"id\":\"62fec2e2-2287-4dff-93c5-398135a24c92\",\"type\":\"ColumnDataSource\"},\"glyph\":{\"id\":\"c51c9f9b-f99b-4a79-b403-004516e8ba37\",\"type\":\"VBar\"},\"hover_glyph\":null,\"muted_glyph\":null,\"nonselection_glyph\":{\"id\":\"7187d9fe-0f46-4463-89d0-bf222135494f\",\"type\":\"VBar\"},\"selection_glyph\":null,\"view\":{\"id\":\"cac9775a-d6e2-4c42-8929-627bd748ffde\",\"type\":\"CDSView\"}},\"id\":\"77aa8ba3-585e-42bd-8b5c-4967704d8f66\",\"type\":\"GlyphRenderer\"},{\"attributes\":{},\"id\":\"8a8d5677-3d33-4227-96ef-1f4547f8a1ae\",\"type\":\"Selection\"},{\"attributes\":{},\"id\":\"6c9ba577-d531-42e4-b983-8602c726aea7\",\"type\":\"BasicTicker\"},{\"attributes\":{\"dimension\":1,\"plot\":{\"id\":\"574efb58-7d4f-4c2c-b327-0ad10489173b\",\"subtype\":\"Figure\",\"type\":\"Plot\"},\"ticker\":{\"id\":\"6c9ba577-d531-42e4-b983-8602c726aea7\",\"type\":\"BasicTicker\"}},\"id\":\"eda2576b-daec-4174-9de9-e1d604a27364\",\"type\":\"Grid\"},{\"attributes\":{\"label\":{\"value\":\"ASTORIA\"},\"renderers\":[{\"id\":\"77aa8ba3-585e-42bd-8b5c-4967704d8f66\",\"type\":\"GlyphRenderer\"}]},\"id\":\"0174a6ae-e746-4c12-a3b8-81a6af367f78\",\"type\":\"LegendItem\"},{\"attributes\":{\"source\":{\"id\":\"72b285fb-2cba-4eca-9bd1-08927b335d30\",\"type\":\"ColumnDataSource\"}},\"id\":\"578817b5-b002-4344-9339-2d1ce9e6a158\",\"type\":\"CDSView\"},{\"attributes\":{},\"id\":\"106ca1c7-31fb-449c-b87b-e5c6056ebc96\",\"type\":\"UnionRenderers\"},{\"attributes\":{\"bottom\":{\"field\":\"bottom\"},\"fill_color\":{\"value\":\"#7570b3\"},\"line_color\":{\"value\":\"#7570b3\"},\"top\":{\"field\":\"top\"},\"width\":{\"value\":0.25},\"x\":{\"field\":\"x\"}},\"id\":\"dfe3dbb6-8211-426c-a937-c628c7ecb879\",\"type\":\"VBar\"},{\"attributes\":{\"data_source\":{\"id\":\"72b285fb-2cba-4eca-9bd1-08927b335d30\",\"type\":\"ColumnDataSource\"},\"glyph\":{\"id\":\"dfe3dbb6-8211-426c-a937-c628c7ecb879\",\"type\":\"VBar\"},\"hover_glyph\":null,\"muted_glyph\":null,\"nonselection_glyph\":{\"id\":\"5bedada3-8836-4b42-95e7-8555a4486c4c\",\"type\":\"VBar\"},\"selection_glyph\":null,\"view\":{\"id\":\"578817b5-b002-4344-9339-2d1ce9e6a158\",\"type\":\"CDSView\"}},\"id\":\"b0e03d66-9e39-4646-a6aa-f322bfead0b7\",\"type\":\"GlyphRenderer\"},{\"attributes\":{\"source\":{\"id\":\"f0034507-e465-45b9-b5e1-821c00a209a8\",\"type\":\"ColumnDataSource\"}},\"id\":\"ce33a2c8-41b6-452c-9e58-71e6b08c7fb5\",\"type\":\"CDSView\"},{\"attributes\":{\"bottom\":{\"field\":\"bottom\"},\"fill_alpha\":{\"value\":0.1},\"fill_color\":{\"value\":\"#1f77b4\"},\"line_alpha\":{\"value\":0.1},\"line_color\":{\"value\":\"#1f77b4\"},\"top\":{\"field\":\"top\"},\"width\":{\"value\":0.25},\"x\":{\"field\":\"x\"}},\"id\":\"5bedada3-8836-4b42-95e7-8555a4486c4c\",\"type\":\"VBar\"},{\"attributes\":{},\"id\":\"d2dc3b33-841f-435d-9e6e-16c01f4732b6\",\"type\":\"Selection\"},{\"attributes\":{\"data_source\":{\"id\":\"f0034507-e465-45b9-b5e1-821c00a209a8\",\"type\":\"ColumnDataSource\"},\"glyph\":{\"id\":\"5718090c-4b3d-4f66-919f-a221ec9fde6a\",\"type\":\"VBar\"},\"hover_glyph\":null,\"muted_glyph\":null,\"nonselection_glyph\":{\"id\":\"9ca0b6c8-bf68-439b-9589-f8c21705238a\",\"type\":\"VBar\"},\"selection_glyph\":null,\"view\":{\"id\":\"ce33a2c8-41b6-452c-9e58-71e6b08c7fb5\",\"type\":\"CDSView\"}},\"id\":\"a54cd681-5094-4d42-b1e9-723682e23000\",\"type\":\"GlyphRenderer\"},{\"attributes\":{\"callback\":null,\"renderers\":\"auto\",\"tooltips\":[[\"y\",\"$y{int}\"]]},\"id\":\"ec8deda7-f31d-452f-b08e-e839b48cd995\",\"type\":\"HoverTool\"},{\"attributes\":{\"fill_color\":{\"value\":\"#1b9e77\"},\"line_color\":{\"value\":\"#1b9e77\"},\"top\":{\"field\":\"top\"},\"width\":{\"value\":0.25},\"x\":{\"field\":\"x\"}},\"id\":\"c51c9f9b-f99b-4a79-b403-004516e8ba37\",\"type\":\"VBar\"},{\"attributes\":{},\"id\":\"9a85e1f7-cba6-4f07-8841-2af6240deafd\",\"type\":\"CrosshairTool\"},{\"attributes\":{},\"id\":\"fa735c9c-8d33-4558-9abf-61951626a4f4\",\"type\":\"PanTool\"},{\"attributes\":{\"overlay\":{\"id\":\"bf652aa2-f604-46ed-956f-3f481397aec1\",\"type\":\"BoxAnnotation\"}},\"id\":\"47a1a3b3-9c4d-456a-ae18-7287e8bf0a67\",\"type\":\"BoxZoomTool\"},{\"attributes\":{},\"id\":\"f001e6c0-d463-4da1-a7b0-5ed17cc18915\",\"type\":\"WheelZoomTool\"},{\"attributes\":{},\"id\":\"3f1eab51-f3cc-4840-9a8b-c735fbda05de\",\"type\":\"SaveTool\"},{\"attributes\":{},\"id\":\"b183fa8c-de4b-4fba-bea9-cf80a79df512\",\"type\":\"UnionRenderers\"},{\"attributes\":{\"bottom_units\":\"screen\",\"fill_alpha\":{\"value\":0.5},\"fill_color\":{\"value\":\"lightgrey\"},\"left_units\":\"screen\",\"level\":\"overlay\",\"line_alpha\":{\"value\":1.0},\"line_color\":{\"value\":\"black\"},\"line_dash\":[4,4],\"line_width\":{\"value\":2},\"plot\":null,\"render_mode\":\"css\",\"right_units\":\"screen\",\"top_units\":\"screen\"},\"id\":\"bf652aa2-f604-46ed-956f-3f481397aec1\",\"type\":\"BoxAnnotation\"},{\"attributes\":{},\"id\":\"f6b26b94-f39a-4331-bee2-d1f77a16fbee\",\"type\":\"UnionRenderers\"},{\"attributes\":{},\"id\":\"8d13761d-5188-4267-83fa-196a38b60424\",\"type\":\"CategoricalTickFormatter\"},{\"attributes\":{\"label\":{\"value\":\"BROOKLYN\"},\"renderers\":[{\"id\":\"b0e03d66-9e39-4646-a6aa-f322bfead0b7\",\"type\":\"GlyphRenderer\"}]},\"id\":\"de3d7407-3f0b-478d-96a3-b566d27d6586\",\"type\":\"LegendItem\"},{\"attributes\":{\"data_source\":{\"id\":\"4037ccfc-16ec-4cd6-944d-c6876c9dac5f\",\"type\":\"ColumnDataSource\"},\"glyph\":{\"id\":\"105411c4-4884-46f1-b3f6-ccd5ba57c258\",\"type\":\"VBar\"},\"hover_glyph\":null,\"muted_glyph\":null,\"nonselection_glyph\":{\"id\":\"988ac730-6de6-49f2-b749-38c3979c9040\",\"type\":\"VBar\"},\"selection_glyph\":null,\"view\":{\"id\":\"d3ad0146-cc1b-4acb-a91f-154c7976a174\",\"type\":\"CDSView\"}},\"id\":\"366047ed-afc6-444e-ae5f-58296ce70c03\",\"type\":\"GlyphRenderer\"},{\"attributes\":{\"callback\":null,\"data\":{\"bottom\":{\"__ndarray__\":\"fJpsxpT5oT/US5FIHtCgPwAAAAAAAAAAAAAAAAAAAAAAAAAAAAAAAAAAAAAAAAAAAAAAAAAAAAAAAAAAAAAAAAAAAAAAAAAAHQgzV9G+kT8AAAAAAAAAAAKxArMwx6g/8lFMflLKhj8AAAAAAAAAAAAAAAAAAAAAJUQXIYuEXj8AAAAAAAAAAAAAAAAAAAAAuw/4LzTBcT8AAAAAAAAAAAAAAAAAAAAAAAAAAAAAAAAAAAAAAAAAAAAAAAAAAAAA\",\"dtype\":\"float64\",\"shape\":[24]},\"top\":{\"__ndarray__\":\"AgSeuHmByT/e6yN0zP/AP4r8EppsBL4/ObUEemjI0z+1ccjaYOzBP/EES7zHMtI/1fRlBNA50z+BKD7ebdi3P7UeUMTyH9U/TEa5e+44wD/mALrxm2mrP5ZPGjRZs7w/lg6Gpzx3yD9romLZE4LUP/Qp+i+FitM/6KPJHgvSzT9sulPc9vC8P0q+QddVS7o/Pfy4WZkLuj9r6PdrCZS0P9xevwWTG6Q/2lnUsktu0j+FIde+TF/TP/Jns5qJR8Q/\",\"dtype\":\"float64\",\"shape\":[24]},\"x\":[\"Blocked Driveway\",\"Broken Muni Meter\",\"Building/Use\",\"DOOR/WINDOW\",\"Dirty Conditions\",\"ELECTRIC\",\"FLOORING/STAIRS\",\"General Construction/Plumbing\",\"HEAT/HOT WATER\",\"Illegal Parking\",\"Noise\",\"Noise - Commercial\",\"Noise - Street/Sidewalk\",\"PAINT/PLASTER\",\"PLUMBING\",\"Rodent\",\"Sanitation Condition\",\"Sewer\",\"Street Condition\",\"Street Light Condition\",\"Traffic Signal Condition\",\"UNSANITARY CONDITION\",\"WATER LEAK\",\"Water System\"]},\"selected\":{\"id\":\"8a8d5677-3d33-4227-96ef-1f4547f8a1ae\",\"type\":\"Selection\"},\"selection_policy\":{\"id\":\"f6b26b94-f39a-4331-bee2-d1f77a16fbee\",\"type\":\"UnionRenderers\"}},\"id\":\"f0034507-e465-45b9-b5e1-821c00a209a8\",\"type\":\"ColumnDataSource\"},{\"attributes\":{\"bottom\":{\"field\":\"bottom\"},\"fill_color\":{\"value\":\"#e7298a\"},\"line_color\":{\"value\":\"#e7298a\"},\"top\":{\"field\":\"top\"},\"width\":{\"value\":0.25},\"x\":{\"field\":\"x\"}},\"id\":\"105411c4-4884-46f1-b3f6-ccd5ba57c258\",\"type\":\"VBar\"},{\"attributes\":{\"callback\":null,\"data\":{\"bottom\":{\"__ndarray__\":\"5ezyegTw4T/ShXGJf53VP1SW0n1MT9o/Sxq9KhNc5T/su+0sZvfdPyRXpf4DAeU/DLNJ3wQC5T/K75h1YYbcPzz/N/HtKOQ/Ra6crTRb3z818FXVdmXUPzgGB07tNts/njiyWjZJ3T8BsPsJsVjlP7o4evWKsOQ/NJV0K8un4T9CXzwLT5XeP8rUbAabK9g/p7ZQYeE62D9TqNDVM4jRP6bvdBHYVtQ/TAaPZ3l85D9KiOdi6rvlPwGnWyau79s/\",\"dtype\":\"float64\",\"shape\":[24]},\"top\":{\"__ndarray__\":\"5ezyegTw4T/ShXGJf53VPySnoSgAEN0/ua3JqPyZ5T9Q/AQ6lIjfPxrbrFs+O+U/BkHMLHYz5T+wu/8Lyd3dP8R6N03vheQ/Ra6crTRb3z+XvVMi3UzVPzgGB07tNts/njiyWjZJ3T8TMJT5SanlPxJCMs+h7+Q/fjxqUCnY4T9zZaF3ZBPgPxx70zlziNk/kVFn9SB12T+PJgBmY63SP8z39MkkPNU/9As0nlLC5D+xrKPYnRPmP0aMDluvOd0/\",\"dtype\":\"float64\",\"shape\":[24]},\"x\":[\"Blocked Driveway\",\"Broken Muni Meter\",\"Building/Use\",\"DOOR/WINDOW\",\"Dirty Conditions\",\"ELECTRIC\",\"FLOORING/STAIRS\",\"General Construction/Plumbing\",\"HEAT/HOT WATER\",\"Illegal Parking\",\"Noise\",\"Noise - Commercial\",\"Noise - Street/Sidewalk\",\"PAINT/PLASTER\",\"PLUMBING\",\"Rodent\",\"Sanitation Condition\",\"Sewer\",\"Street Condition\",\"Street Light Condition\",\"Traffic Signal Condition\",\"UNSANITARY CONDITION\",\"WATER LEAK\",\"Water System\"]},\"selected\":{\"id\":\"91cfeb05-845a-4058-b63c-47a22794f07f\",\"type\":\"Selection\"},\"selection_policy\":{\"id\":\"82779b6c-f949-4039-9c09-f8dc1bb348fd\",\"type\":\"UnionRenderers\"}},\"id\":\"4037ccfc-16ec-4cd6-944d-c6876c9dac5f\",\"type\":\"ColumnDataSource\"},{\"attributes\":{\"bottom\":{\"field\":\"bottom\"},\"fill_alpha\":{\"value\":0.1},\"fill_color\":{\"value\":\"#1f77b4\"},\"line_alpha\":{\"value\":0.1},\"line_color\":{\"value\":\"#1f77b4\"},\"top\":{\"field\":\"top\"},\"width\":{\"value\":0.25},\"x\":{\"field\":\"x\"}},\"id\":\"988ac730-6de6-49f2-b749-38c3979c9040\",\"type\":\"VBar\"},{\"attributes\":{\"label\":{\"value\":\"BRONX\"},\"renderers\":[{\"id\":\"a54cd681-5094-4d42-b1e9-723682e23000\",\"type\":\"GlyphRenderer\"}]},\"id\":\"45a23d57-7e74-4dc8-8c17-d61da32fd053\",\"type\":\"LegendItem\"},{\"attributes\":{\"source\":{\"id\":\"4037ccfc-16ec-4cd6-944d-c6876c9dac5f\",\"type\":\"ColumnDataSource\"}},\"id\":\"d3ad0146-cc1b-4acb-a91f-154c7976a174\",\"type\":\"CDSView\"},{\"attributes\":{\"items\":[{\"id\":\"0174a6ae-e746-4c12-a3b8-81a6af367f78\",\"type\":\"LegendItem\"},{\"id\":\"45a23d57-7e74-4dc8-8c17-d61da32fd053\",\"type\":\"LegendItem\"},{\"id\":\"de3d7407-3f0b-478d-96a3-b566d27d6586\",\"type\":\"LegendItem\"},{\"id\":\"64bc013e-ee23-45b7-9bd5-32781bce9db9\",\"type\":\"LegendItem\"},{\"id\":\"00554b63-857b-43ec-bb0d-3553354167c5\",\"type\":\"LegendItem\"},{\"id\":\"92fa85cc-17fb-40cf-8ec5-608c94d1b88a\",\"type\":\"LegendItem\"},{\"id\":\"c14fc37e-e5ab-47e0-a4ca-a8689871afb4\",\"type\":\"LegendItem\"}],\"plot\":{\"id\":\"574efb58-7d4f-4c2c-b327-0ad10489173b\",\"subtype\":\"Figure\",\"type\":\"Plot\"}},\"id\":\"9ddf4bc7-89b8-431b-a2a0-c0befe812f75\",\"type\":\"Legend\"},{\"attributes\":{},\"id\":\"91cfeb05-845a-4058-b63c-47a22794f07f\",\"type\":\"Selection\"},{\"attributes\":{},\"id\":\"47ea0c8a-95a4-432a-a0f5-43de43c051a2\",\"type\":\"UnionRenderers\"},{\"attributes\":{\"bottom\":{\"field\":\"bottom\"},\"fill_color\":{\"value\":\"#d95f02\"},\"line_color\":{\"value\":\"#d95f02\"},\"top\":{\"field\":\"top\"},\"width\":{\"value\":0.25},\"x\":{\"field\":\"x\"}},\"id\":\"5718090c-4b3d-4f66-919f-a221ec9fde6a\",\"type\":\"VBar\"},{\"attributes\":{\"label\":{\"value\":\"Flushing\"},\"renderers\":[{\"id\":\"366047ed-afc6-444e-ae5f-58296ce70c03\",\"type\":\"GlyphRenderer\"}]},\"id\":\"64bc013e-ee23-45b7-9bd5-32781bce9db9\",\"type\":\"LegendItem\"},{\"attributes\":{\"fill_alpha\":{\"value\":0.1},\"fill_color\":{\"value\":\"#1f77b4\"},\"line_alpha\":{\"value\":0.1},\"line_color\":{\"value\":\"#1f77b4\"},\"top\":{\"field\":\"top\"},\"width\":{\"value\":0.25},\"x\":{\"field\":\"x\"}},\"id\":\"7187d9fe-0f46-4463-89d0-bf222135494f\",\"type\":\"VBar\"},{\"attributes\":{\"data_source\":{\"id\":\"9c84497d-417a-4fe2-a5c6-6d5ed30c0469\",\"type\":\"ColumnDataSource\"},\"glyph\":{\"id\":\"2e7190b1-7231-416f-a489-0f175d4eb50a\",\"type\":\"VBar\"},\"hover_glyph\":null,\"muted_glyph\":null,\"nonselection_glyph\":{\"id\":\"dd7e3324-f845-438d-bfbf-d4ad4636363c\",\"type\":\"VBar\"},\"selection_glyph\":null,\"view\":{\"id\":\"376954d3-1148-4be8-b973-fef6cee42996\",\"type\":\"CDSView\"}},\"id\":\"03c7071b-5682-4159-876c-1987b7de8ccd\",\"type\":\"GlyphRenderer\"},{\"attributes\":{\"bottom\":{\"field\":\"bottom\"},\"fill_color\":{\"value\":\"#66a61e\"},\"line_color\":{\"value\":\"#66a61e\"},\"top\":{\"field\":\"top\"},\"width\":{\"value\":0.25},\"x\":{\"field\":\"x\"}},\"id\":\"2e7190b1-7231-416f-a489-0f175d4eb50a\",\"type\":\"VBar\"},{\"attributes\":{\"callback\":null,\"data\":{\"bottom\":{\"__ndarray__\":\"5ezyegTw4T/ShXGJf53VPySnoSgAEN0/ua3JqPyZ5T9Q/AQ6lIjfPxrbrFs+O+U/BkHMLHYz5T+wu/8Lyd3dP8R6N03vheQ/Ra6crTRb3z+XvVMi3UzVPzgGB07tNts/njiyWjZJ3T8TMJT5SanlPxJCMs+h7+Q/fjxqUCnY4T9zZaF3ZBPgPxx70zlziNk/kVFn9SB12T+PJgBmY63SP8z39MkkPNU/9As0nlLC5D+xrKPYnRPmP0aMDluvOd0/\",\"dtype\":\"float64\",\"shape\":[24]},\"top\":{\"__ndarray__\":\"5ezyegTw4T/ShXGJf53VP2GdSY0TI+A/RykAqS0o5j/2Q1pQONHgP/KcSgpI+OU/s2HDhLa35T8co/7qi2PfP/UQqYJ8+OQ/Ra6crTRb3z/Snom6hNnVPzgGB07tNts/njiyWjZJ3T/54lBJPSPmP3gdjemFoeU/3RHF6Kh34j/5G4ZuHmnhP8o4IYsx490/kj8Gn/+n2j98nT7BFEjUP5Zm9MPNutY/UHPNgx9e5T8k/cPxsZXmP2waqqXVSd8/\",\"dtype\":\"float64\",\"shape\":[24]},\"x\":[\"Blocked Driveway\",\"Broken Muni Meter\",\"Building/Use\",\"DOOR/WINDOW\",\"Dirty Conditions\",\"ELECTRIC\",\"FLOORING/STAIRS\",\"General Construction/Plumbing\",\"HEAT/HOT WATER\",\"Illegal Parking\",\"Noise\",\"Noise - Commercial\",\"Noise - Street/Sidewalk\",\"PAINT/PLASTER\",\"PLUMBING\",\"Rodent\",\"Sanitation Condition\",\"Sewer\",\"Street Condition\",\"Street Light Condition\",\"Traffic Signal Condition\",\"UNSANITARY CONDITION\",\"WATER LEAK\",\"Water System\"]},\"selected\":{\"id\":\"9b28666d-06f3-42a0-979a-0c7a6d6e23c4\",\"type\":\"Selection\"},\"selection_policy\":{\"id\":\"b37c4008-52c6-4d7a-b656-a01f3f073daa\",\"type\":\"UnionRenderers\"}},\"id\":\"9c84497d-417a-4fe2-a5c6-6d5ed30c0469\",\"type\":\"ColumnDataSource\"},{\"attributes\":{\"callback\":null,\"data\":{\"top\":{\"__ndarray__\":\"fJpsxpT5oT/US5FIHtCgPwAAAAAAAAAAAAAAAAAAAAAAAAAAAAAAAAAAAAAAAAAAAAAAAAAAAAAAAAAAAAAAAAAAAAAAAAAAHQgzV9G+kT8AAAAAAAAAAAKxArMwx6g/8lFMflLKhj8AAAAAAAAAAAAAAAAAAAAAJUQXIYuEXj8AAAAAAAAAAAAAAAAAAAAAuw/4LzTBcT8AAAAAAAAAAAAAAAAAAAAAAAAAAAAAAAAAAAAAAAAAAAAAAAAAAAAA\",\"dtype\":\"float64\",\"shape\":[24]},\"x\":[\"Blocked Driveway\",\"Broken Muni Meter\",\"Building/Use\",\"DOOR/WINDOW\",\"Dirty Conditions\",\"ELECTRIC\",\"FLOORING/STAIRS\",\"General Construction/Plumbing\",\"HEAT/HOT WATER\",\"Illegal Parking\",\"Noise\",\"Noise - Commercial\",\"Noise - Street/Sidewalk\",\"PAINT/PLASTER\",\"PLUMBING\",\"Rodent\",\"Sanitation Condition\",\"Sewer\",\"Street Condition\",\"Street Light Condition\",\"Traffic Signal Condition\",\"UNSANITARY CONDITION\",\"WATER LEAK\",\"Water System\"]},\"selected\":{\"id\":\"ca95c656-ba6d-468c-819d-8ad5929b68e1\",\"type\":\"Selection\"},\"selection_policy\":{\"id\":\"b183fa8c-de4b-4fba-bea9-cf80a79df512\",\"type\":\"UnionRenderers\"}},\"id\":\"62fec2e2-2287-4dff-93c5-398135a24c92\",\"type\":\"ColumnDataSource\"},{\"attributes\":{\"bottom\":{\"field\":\"bottom\"},\"fill_alpha\":{\"value\":0.1},\"fill_color\":{\"value\":\"#1f77b4\"},\"line_alpha\":{\"value\":0.1},\"line_color\":{\"value\":\"#1f77b4\"},\"top\":{\"field\":\"top\"},\"width\":{\"value\":0.25},\"x\":{\"field\":\"x\"}},\"id\":\"dd7e3324-f845-438d-bfbf-d4ad4636363c\",\"type\":\"VBar\"},{\"attributes\":{\"source\":{\"id\":\"9c84497d-417a-4fe2-a5c6-6d5ed30c0469\",\"type\":\"ColumnDataSource\"}},\"id\":\"376954d3-1148-4be8-b973-fef6cee42996\",\"type\":\"CDSView\"},{\"attributes\":{},\"id\":\"9b28666d-06f3-42a0-979a-0c7a6d6e23c4\",\"type\":\"Selection\"},{\"attributes\":{},\"id\":\"82779b6c-f949-4039-9c09-f8dc1bb348fd\",\"type\":\"UnionRenderers\"},{\"attributes\":{\"callback\":null,\"data\":{\"bottom\":{\"__ndarray__\":\"5ezyegTw4T/ShXGJf53VP2GdSY0TI+A/RykAqS0o5j/2Q1pQONHgP/KcSgpI+OU/s2HDhLa35T8co/7qi2PfP/UQqYJ8+OQ/Ra6crTRb3z/Snom6hNnVPzgGB07tNts/njiyWjZJ3T/54lBJPSPmP3gdjemFoeU/3RHF6Kh34j/5G4ZuHmnhP8o4IYsx490/kj8Gn/+n2j98nT7BFEjUP5Zm9MPNutY/UHPNgx9e5T8k/cPxsZXmP2waqqXVSd8/\",\"dtype\":\"float64\",\"shape\":[24]},\"top\":{\"__ndarray__\":\"dsIsKoLZ4j+pLH8CuqHoPwITPChYZ+I/qnnBMAhW7D94NYyeJLDlP7a0dzimVes/BkVyl+nD7D9KR+h8RgzoP50eMVIxVew/vh+GQ+7A5D/pQatha0DqP6vRrIPGQOs/FwZgSkpe7D8SHzGms7fsP8oZ9t/uSOw/+FyLpbAd6j/nsS8w98rkP+SxgiQXOOI/U76GFfg+4j/pEz0R8qTVP6ZqTgQ4itg/6Srzty186z+OkLSrYqfsP/LjiPBcauU/\",\"dtype\":\"float64\",\"shape\":[24]},\"x\":[\"Blocked Driveway\",\"Broken Muni Meter\",\"Building/Use\",\"DOOR/WINDOW\",\"Dirty Conditions\",\"ELECTRIC\",\"FLOORING/STAIRS\",\"General Construction/Plumbing\",\"HEAT/HOT WATER\",\"Illegal Parking\",\"Noise\",\"Noise - Commercial\",\"Noise - Street/Sidewalk\",\"PAINT/PLASTER\",\"PLUMBING\",\"Rodent\",\"Sanitation Condition\",\"Sewer\",\"Street Condition\",\"Street Light Condition\",\"Traffic Signal Condition\",\"UNSANITARY CONDITION\",\"WATER LEAK\",\"Water System\"]},\"selected\":{\"id\":\"33970204-fc22-43b8-9e3f-c6987f85da62\",\"type\":\"Selection\"},\"selection_policy\":{\"id\":\"ecc4d8df-777a-447f-aa05-51b48b531d5e\",\"type\":\"UnionRenderers\"}},\"id\":\"23f2860e-230d-4854-855f-1dac77d46e6b\",\"type\":\"ColumnDataSource\"},{\"attributes\":{\"label\":{\"value\":\"Jamaica\"},\"renderers\":[{\"id\":\"03c7071b-5682-4159-876c-1987b7de8ccd\",\"type\":\"GlyphRenderer\"}]},\"id\":\"00554b63-857b-43ec-bb0d-3553354167c5\",\"type\":\"LegendItem\"},{\"attributes\":{\"data_source\":{\"id\":\"23f2860e-230d-4854-855f-1dac77d46e6b\",\"type\":\"ColumnDataSource\"},\"glyph\":{\"id\":\"496dfe0b-36c2-4c81-a41e-4c331936164a\",\"type\":\"VBar\"},\"hover_glyph\":null,\"muted_glyph\":null,\"nonselection_glyph\":{\"id\":\"cf5cdfab-e66a-4e60-b412-afad01aa3cdf\",\"type\":\"VBar\"},\"selection_glyph\":null,\"view\":{\"id\":\"f2e45fd6-79e2-4f1f-9677-294e1dcbc4fc\",\"type\":\"CDSView\"}},\"id\":\"c49ea919-e1d6-4b36-bdbc-9fabc717341d\",\"type\":\"GlyphRenderer\"},{\"attributes\":{\"bottom\":{\"field\":\"bottom\"},\"fill_color\":{\"value\":\"#e6ab02\"},\"line_color\":{\"value\":\"#e6ab02\"},\"top\":{\"field\":\"top\"},\"width\":{\"value\":0.25},\"x\":{\"field\":\"x\"}},\"id\":\"496dfe0b-36c2-4c81-a41e-4c331936164a\",\"type\":\"VBar\"},{\"attributes\":{\"bottom\":{\"field\":\"bottom\"},\"fill_alpha\":{\"value\":0.1},\"fill_color\":{\"value\":\"#1f77b4\"},\"line_alpha\":{\"value\":0.1},\"line_color\":{\"value\":\"#1f77b4\"},\"top\":{\"field\":\"top\"},\"width\":{\"value\":0.25},\"x\":{\"field\":\"x\"}},\"id\":\"cf5cdfab-e66a-4e60-b412-afad01aa3cdf\",\"type\":\"VBar\"},{\"attributes\":{\"source\":{\"id\":\"23f2860e-230d-4854-855f-1dac77d46e6b\",\"type\":\"ColumnDataSource\"}},\"id\":\"f2e45fd6-79e2-4f1f-9677-294e1dcbc4fc\",\"type\":\"CDSView\"},{\"attributes\":{},\"id\":\"33970204-fc22-43b8-9e3f-c6987f85da62\",\"type\":\"Selection\"},{\"attributes\":{},\"id\":\"b37c4008-52c6-4d7a-b656-a01f3f073daa\",\"type\":\"UnionRenderers\"},{\"attributes\":{\"label\":{\"value\":\"NEW YORK\"},\"renderers\":[{\"id\":\"c49ea919-e1d6-4b36-bdbc-9fabc717341d\",\"type\":\"GlyphRenderer\"}]},\"id\":\"92fa85cc-17fb-40cf-8ec5-608c94d1b88a\",\"type\":\"LegendItem\"},{\"attributes\":{\"data_source\":{\"id\":\"ca834029-6e6e-42e9-8e05-e5c55df725a1\",\"type\":\"ColumnDataSource\"},\"glyph\":{\"id\":\"801f721c-43c7-47f2-a95d-ae0164fb1aa8\",\"type\":\"VBar\"},\"hover_glyph\":null,\"muted_glyph\":null,\"nonselection_glyph\":{\"id\":\"1817d0a8-def2-4aa3-88bd-01a47c2e4368\",\"type\":\"VBar\"},\"selection_glyph\":null,\"view\":{\"id\":\"c41059b9-fbd8-4826-ac73-e82c43ac9415\",\"type\":\"CDSView\"}},\"id\":\"60a281a3-9ec6-4b6f-b600-d2d8ef5df73d\",\"type\":\"GlyphRenderer\"},{\"attributes\":{\"callback\":null,\"data\":{\"bottom\":{\"__ndarray__\":\"AgSeuHmByT/e6yN0zP/AP4r8EppsBL4/ObUEemjI0z+1ccjaYOzBP/EES7zHMtI/1fRlBNA50z+BKD7ebdi3P7UeUMTyH9U/TEa5e+44wD/mALrxm2mrP5ZPGjRZs7w/lg6Gpzx3yD9romLZE4LUP/Qp+i+FitM/6KPJHgvSzT9sulPc9vC8P0q+QddVS7o/Pfy4WZkLuj9r6PdrCZS0P9xevwWTG6Q/2lnUsktu0j+FIde+TF/TP/Jns5qJR8Q/\",\"dtype\":\"float64\",\"shape\":[24]},\"top\":{\"__ndarray__\":\"5ezyegTw4T/ShXGJf53VP1SW0n1MT9o/Sxq9KhNc5T/su+0sZvfdPyRXpf4DAeU/DLNJ3wQC5T/K75h1YYbcPzz/N/HtKOQ/Ra6crTRb3z818FXVdmXUPzgGB07tNts/njiyWjZJ3T8BsPsJsVjlP7o4evWKsOQ/NJV0K8un4T9CXzwLT5XeP8rUbAabK9g/p7ZQYeE62D9TqNDVM4jRP6bvdBHYVtQ/TAaPZ3l85D9KiOdi6rvlPwGnWyau79s/\",\"dtype\":\"float64\",\"shape\":[24]},\"x\":[\"Blocked Driveway\",\"Broken Muni Meter\",\"Building/Use\",\"DOOR/WINDOW\",\"Dirty Conditions\",\"ELECTRIC\",\"FLOORING/STAIRS\",\"General Construction/Plumbing\",\"HEAT/HOT WATER\",\"Illegal Parking\",\"Noise\",\"Noise - Commercial\",\"Noise - Street/Sidewalk\",\"PAINT/PLASTER\",\"PLUMBING\",\"Rodent\",\"Sanitation Condition\",\"Sewer\",\"Street Condition\",\"Street Light Condition\",\"Traffic Signal Condition\",\"UNSANITARY CONDITION\",\"WATER LEAK\",\"Water System\"]},\"selected\":{\"id\":\"d2dc3b33-841f-435d-9e6e-16c01f4732b6\",\"type\":\"Selection\"},\"selection_policy\":{\"id\":\"47ea0c8a-95a4-432a-a0f5-43de43c051a2\",\"type\":\"UnionRenderers\"}},\"id\":\"72b285fb-2cba-4eca-9bd1-08927b335d30\",\"type\":\"ColumnDataSource\"},{\"attributes\":{\"bottom\":{\"field\":\"bottom\"},\"fill_color\":{\"value\":\"#a6761d\"},\"line_color\":{\"value\":\"#a6761d\"},\"top\":{\"field\":\"top\"},\"width\":{\"value\":0.25},\"x\":{\"field\":\"x\"}},\"id\":\"801f721c-43c7-47f2-a95d-ae0164fb1aa8\",\"type\":\"VBar\"},{\"attributes\":{\"callback\":null,\"data\":{\"bottom\":{\"__ndarray__\":\"dsIsKoLZ4j+pLH8CuqHoPwITPChYZ+I/qnnBMAhW7D94NYyeJLDlP7a0dzimVes/BkVyl+nD7D9KR+h8RgzoP50eMVIxVew/vh+GQ+7A5D/pQatha0DqP6vRrIPGQOs/FwZgSkpe7D8SHzGms7fsP8oZ9t/uSOw/+FyLpbAd6j/nsS8w98rkP+SxgiQXOOI/U76GFfg+4j/pEz0R8qTVP6ZqTgQ4itg/6Srzty186z+OkLSrYqfsP/LjiPBcauU/\",\"dtype\":\"float64\",\"shape\":[24]},\"top\":{\"__ndarray__\":\"CiZCZU/C4z9fJeA6IvboPy1bl7qaTuQ/oT2Uam7x7D8zL2psa0/oPwrxOEuVB+w/qDuWaQNo7T/uOzDHTKjpP7CsuEKOouw/OetWDXH65j9tQjIeHyjrPwpMbMkd1Os/aE+kNF747D9cf6OTnyrtP51oBkTn+Ow/+Ax1be+i6z9i87YZWaDnP1gVdX1YyuU/dAMce56X5j8WmHwn66rZP0wGwEi739o/OJocZWY67D+ArbnhRivtP+86ZH84Rug/\",\"dtype\":\"float64\",\"shape\":[24]},\"x\":[\"Blocked Driveway\",\"Broken Muni Meter\",\"Building/Use\",\"DOOR/WINDOW\",\"Dirty Conditions\",\"ELECTRIC\",\"FLOORING/STAIRS\",\"General Construction/Plumbing\",\"HEAT/HOT WATER\",\"Illegal Parking\",\"Noise\",\"Noise - Commercial\",\"Noise - Street/Sidewalk\",\"PAINT/PLASTER\",\"PLUMBING\",\"Rodent\",\"Sanitation Condition\",\"Sewer\",\"Street Condition\",\"Street Light Condition\",\"Traffic Signal Condition\",\"UNSANITARY CONDITION\",\"WATER LEAK\",\"Water System\"]},\"selected\":{\"id\":\"2f9392b0-7fc8-4ff3-a8e3-83dd4022e755\",\"type\":\"Selection\"},\"selection_policy\":{\"id\":\"106ca1c7-31fb-449c-b87b-e5c6056ebc96\",\"type\":\"UnionRenderers\"}},\"id\":\"ca834029-6e6e-42e9-8e05-e5c55df725a1\",\"type\":\"ColumnDataSource\"},{\"attributes\":{\"bottom\":{\"field\":\"bottom\"},\"fill_alpha\":{\"value\":0.1},\"fill_color\":{\"value\":\"#1f77b4\"},\"line_alpha\":{\"value\":0.1},\"line_color\":{\"value\":\"#1f77b4\"},\"top\":{\"field\":\"top\"},\"width\":{\"value\":0.25},\"x\":{\"field\":\"x\"}},\"id\":\"1817d0a8-def2-4aa3-88bd-01a47c2e4368\",\"type\":\"VBar\"},{\"attributes\":{\"source\":{\"id\":\"ca834029-6e6e-42e9-8e05-e5c55df725a1\",\"type\":\"ColumnDataSource\"}},\"id\":\"c41059b9-fbd8-4826-ac73-e82c43ac9415\",\"type\":\"CDSView\"},{\"attributes\":{},\"id\":\"ecc4d8df-777a-447f-aa05-51b48b531d5e\",\"type\":\"UnionRenderers\"},{\"attributes\":{},\"id\":\"5e2d5e4e-91b2-49db-ac1c-5ca5dd7c21af\",\"type\":\"ResetTool\"},{\"attributes\":{\"label\":{\"value\":\"STATEN ISLAND\"},\"renderers\":[{\"id\":\"60a281a3-9ec6-4b6f-b600-d2d8ef5df73d\",\"type\":\"GlyphRenderer\"}]},\"id\":\"c14fc37e-e5ab-47e0-a4ca-a8689871afb4\",\"type\":\"LegendItem\"},{\"attributes\":{},\"id\":\"2f9392b0-7fc8-4ff3-a8e3-83dd4022e755\",\"type\":\"Selection\"},{\"attributes\":{},\"id\":\"6f71bcd8-6606-4394-8622-95a07685d33e\",\"type\":\"BasicTickFormatter\"},{\"attributes\":{\"plot\":null,\"text\":\"Distribution of the top 25 complaints among top 7 cities with the most complaints\"},\"id\":\"43b7481d-ad91-49ce-97f8-f47158e7255f\",\"type\":\"Title\"},{\"attributes\":{\"bottom\":{\"field\":\"bottom\"},\"fill_alpha\":{\"value\":0.1},\"fill_color\":{\"value\":\"#1f77b4\"},\"line_alpha\":{\"value\":0.1},\"line_color\":{\"value\":\"#1f77b4\"},\"top\":{\"field\":\"top\"},\"width\":{\"value\":0.25},\"x\":{\"field\":\"x\"}},\"id\":\"9ca0b6c8-bf68-439b-9589-f8c21705238a\",\"type\":\"VBar\"},{\"attributes\":{\"callback\":null},\"id\":\"507c4d75-cac0-4eeb-b797-93525c876065\",\"type\":\"DataRange1d\"},{\"attributes\":{},\"id\":\"0f124c8f-69fa-4ed2-ba95-7d5d7da6ffee\",\"type\":\"HelpTool\"},{\"attributes\":{},\"id\":\"bad45add-d1be-4827-92a8-8b9abc0c514c\",\"type\":\"CategoricalScale\"},{\"attributes\":{},\"id\":\"bf40faa5-704c-4358-9a7f-87e8784d2d12\",\"type\":\"CategoricalTicker\"},{\"attributes\":{\"active_drag\":\"auto\",\"active_inspect\":\"auto\",\"active_scroll\":\"auto\",\"active_tap\":\"auto\",\"tools\":[{\"id\":\"ec8deda7-f31d-452f-b08e-e839b48cd995\",\"type\":\"HoverTool\"},{\"id\":\"9a85e1f7-cba6-4f07-8841-2af6240deafd\",\"type\":\"CrosshairTool\"},{\"id\":\"fa735c9c-8d33-4558-9abf-61951626a4f4\",\"type\":\"PanTool\"},{\"id\":\"47a1a3b3-9c4d-456a-ae18-7287e8bf0a67\",\"type\":\"BoxZoomTool\"},{\"id\":\"f001e6c0-d463-4da1-a7b0-5ed17cc18915\",\"type\":\"WheelZoomTool\"},{\"id\":\"3f1eab51-f3cc-4840-9a8b-c735fbda05de\",\"type\":\"SaveTool\"},{\"id\":\"5e2d5e4e-91b2-49db-ac1c-5ca5dd7c21af\",\"type\":\"ResetTool\"},{\"id\":\"0f124c8f-69fa-4ed2-ba95-7d5d7da6ffee\",\"type\":\"HelpTool\"}]},\"id\":\"e8fb448f-2d6b-47f5-b6c7-0d60a01f8762\",\"type\":\"Toolbar\"},{\"attributes\":{\"callback\":null,\"factors\":[\"HEAT/HOT WATER\",\"Street Condition\",\"Street Light Condition\",\"Blocked Driveway\",\"Illegal Parking\",\"UNSANITARY CONDITION\",\"PAINT/PLASTER\",\"Water System\",\"PLUMBING\",\"Noise\",\"Noise - Street/Sidewalk\",\"Traffic Signal Condition\",\"Noise - Commercial\",\"DOOR/WINDOW\",\"WATER LEAK\",\"Dirty Conditions\",\"Sewer\",\"Sanitation Condition\",\"DOF Literature Request\",\"ELECTRIC\",\"Rodent\",\"FLOORING/STAIRS\",\"General Construction/Plumbing\",\"Building/Use\",\"Broken Muni Meter\"]},\"id\":\"72dae2ee-64e0-4cd3-9a46-fc50fffc8dff\",\"type\":\"FactorRange\"},{\"attributes\":{\"below\":[{\"id\":\"aafdac73-aedf-4784-934b-84250e0e99f1\",\"type\":\"CategoricalAxis\"}],\"left\":[{\"id\":\"def5796a-94d1-46f6-9acb-74edacc10c53\",\"type\":\"LinearAxis\"}],\"plot_height\":400,\"plot_width\":800,\"renderers\":[{\"id\":\"aafdac73-aedf-4784-934b-84250e0e99f1\",\"type\":\"CategoricalAxis\"},{\"id\":\"2667717f-f8ba-48f2-9abc-b8e640ecf76b\",\"type\":\"Grid\"},{\"id\":\"def5796a-94d1-46f6-9acb-74edacc10c53\",\"type\":\"LinearAxis\"},{\"id\":\"eda2576b-daec-4174-9de9-e1d604a27364\",\"type\":\"Grid\"},{\"id\":\"bf652aa2-f604-46ed-956f-3f481397aec1\",\"type\":\"BoxAnnotation\"},{\"id\":\"9ddf4bc7-89b8-431b-a2a0-c0befe812f75\",\"type\":\"Legend\"},{\"id\":\"77aa8ba3-585e-42bd-8b5c-4967704d8f66\",\"type\":\"GlyphRenderer\"},{\"id\":\"a54cd681-5094-4d42-b1e9-723682e23000\",\"type\":\"GlyphRenderer\"},{\"id\":\"b0e03d66-9e39-4646-a6aa-f322bfead0b7\",\"type\":\"GlyphRenderer\"},{\"id\":\"366047ed-afc6-444e-ae5f-58296ce70c03\",\"type\":\"GlyphRenderer\"},{\"id\":\"03c7071b-5682-4159-876c-1987b7de8ccd\",\"type\":\"GlyphRenderer\"},{\"id\":\"c49ea919-e1d6-4b36-bdbc-9fabc717341d\",\"type\":\"GlyphRenderer\"},{\"id\":\"60a281a3-9ec6-4b6f-b600-d2d8ef5df73d\",\"type\":\"GlyphRenderer\"}],\"title\":{\"id\":\"43b7481d-ad91-49ce-97f8-f47158e7255f\",\"type\":\"Title\"},\"toolbar\":{\"id\":\"e8fb448f-2d6b-47f5-b6c7-0d60a01f8762\",\"type\":\"Toolbar\"},\"x_range\":{\"id\":\"72dae2ee-64e0-4cd3-9a46-fc50fffc8dff\",\"type\":\"FactorRange\"},\"x_scale\":{\"id\":\"bad45add-d1be-4827-92a8-8b9abc0c514c\",\"type\":\"CategoricalScale\"},\"y_range\":{\"id\":\"507c4d75-cac0-4eeb-b797-93525c876065\",\"type\":\"DataRange1d\"},\"y_scale\":{\"id\":\"ed872cf1-1d85-453d-83c1-4caa0460dbbc\",\"type\":\"LinearScale\"}},\"id\":\"574efb58-7d4f-4c2c-b327-0ad10489173b\",\"subtype\":\"Figure\",\"type\":\"Plot\"},{\"attributes\":{},\"id\":\"ed872cf1-1d85-453d-83c1-4caa0460dbbc\",\"type\":\"LinearScale\"},{\"attributes\":{\"formatter\":{\"id\":\"8d13761d-5188-4267-83fa-196a38b60424\",\"type\":\"CategoricalTickFormatter\"},\"major_label_orientation\":0.66,\"plot\":{\"id\":\"574efb58-7d4f-4c2c-b327-0ad10489173b\",\"subtype\":\"Figure\",\"type\":\"Plot\"},\"ticker\":{\"id\":\"bf40faa5-704c-4358-9a7f-87e8784d2d12\",\"type\":\"CategoricalTicker\"}},\"id\":\"aafdac73-aedf-4784-934b-84250e0e99f1\",\"type\":\"CategoricalAxis\"}],\"root_ids\":[\"574efb58-7d4f-4c2c-b327-0ad10489173b\"]},\"title\":\"Bokeh Application\",\"version\":\"0.12.16\"}};\n",
       "  var render_items = [{\"docid\":\"b8093848-08c2-49d3-bb57-54e7442060c1\",\"elementid\":\"1ec58148-daba-443d-a680-61ececbe0857\",\"modelid\":\"574efb58-7d4f-4c2c-b327-0ad10489173b\"}];\n",
       "  root.Bokeh.embed.embed_items_notebook(docs_json, render_items);\n",
       "\n",
       "  }\n",
       "  if (root.Bokeh !== undefined) {\n",
       "    embed_document(root);\n",
       "  } else {\n",
       "    var attempts = 0;\n",
       "    var timer = setInterval(function(root) {\n",
       "      if (root.Bokeh !== undefined) {\n",
       "        embed_document(root);\n",
       "        clearInterval(timer);\n",
       "      }\n",
       "      attempts++;\n",
       "      if (attempts > 100) {\n",
       "        console.log(\"Bokeh: ERROR: Unable to run BokehJS code because BokehJS library is missing\")\n",
       "        clearInterval(timer);\n",
       "      }\n",
       "    }, 10, root)\n",
       "  }\n",
       "})(window);"
      ],
      "application/vnd.bokehjs_exec.v0+json": ""
     },
     "metadata": {
      "application/vnd.bokehjs_exec.v0+json": {
       "id": "574efb58-7d4f-4c2c-b327-0ad10489173b"
      }
     },
     "output_type": "display_data"
    },
    {
     "name": "stdout",
     "output_type": "stream",
     "text": [
      "\n",
      "(Passed!)\n"
     ]
    }
   ],
   "source": [
    "# Test cell: `norm_above_test`\n",
    "\n",
    "df_plot_stacked_fraction = cast(df_plot_fraction, key='city_name', value='complaint_frac')\n",
    "\n",
    "if False:\n",
    "    df_plot_stacked_fraction.to_csv('df_plot_stacked_fraction_soln.csv', index=False)\n",
    "\n",
    "show(plot_complaints_stacked_by_city(df_plot_fraction, y='complaint_frac'))\n",
    "\n",
    "def all_tol(x, tol=1e-14):\n",
    "    return all([abs(i) <= tol for i in x])\n",
    "\n",
    "df_plot_fraction_soln = canonicalize_tibble(pd.read_csv('df_plot_fraction_soln.csv'))\n",
    "df_plot_fraction_yours = canonicalize_tibble(df_plot_fraction)\n",
    "\n",
    "nonfloat_cols = df_plot_fraction.columns.difference(['complaint_frac'])\n",
    "assert tibbles_are_equivalent(df_plot_fraction_yours[nonfloat_cols],\n",
    "                              df_plot_fraction_soln[nonfloat_cols])\n",
    "assert all(abs(df_plot_fraction_yours['complaint_frac'] - df_plot_fraction_soln['complaint_frac']) <= 1e-13)\n",
    "\n",
    "print(\"\\n(Passed!)\")"
   ]
  },
  {
   "cell_type": "markdown",
   "metadata": {
    "nbgrader": {
     "grade": false,
     "locked": true,
     "solution": false
    },
    "nbpresent": {
     "id": "7bf18d88-66cb-449d-8590-a49337d7a7ab"
    }
   },
   "source": [
    "## Dates and times in SQL\n",
    "\n",
    "Recall that the input data had a column with timestamps corresponding to when someone submitted a complaint. Let's quickly summarize some of the features in SQL and Python for reasoning about these timestamps."
   ]
  },
  {
   "cell_type": "markdown",
   "metadata": {
    "nbgrader": {
     "grade": false,
     "locked": true,
     "solution": false
    },
    "nbpresent": {
     "id": "37eacdc8-84ad-4d67-8408-9884b7854dbd"
    }
   },
   "source": [
    "The `CreatedDate` column is actually a specially formatted date and time stamp, where you can query against by comparing to strings of the form, `YYYY-MM-DD hh:mm:ss`.\n",
    "\n",
    "For example, let's look for all complaints on September 15, 2015."
   ]
  },
  {
   "cell_type": "code",
   "execution_count": 46,
   "metadata": {
    "nbpresent": {
     "id": "cc53c4a5-e993-45ac-8714-a68df87625cd"
    },
    "scrolled": true
   },
   "outputs": [
    {
     "data": {
      "text/html": [
       "<div>\n",
       "<style scoped>\n",
       "    .dataframe tbody tr th:only-of-type {\n",
       "        vertical-align: middle;\n",
       "    }\n",
       "\n",
       "    .dataframe tbody tr th {\n",
       "        vertical-align: top;\n",
       "    }\n",
       "\n",
       "    .dataframe thead th {\n",
       "        text-align: right;\n",
       "    }\n",
       "</style>\n",
       "<table border=\"1\" class=\"dataframe\">\n",
       "  <thead>\n",
       "    <tr style=\"text-align: right;\">\n",
       "      <th></th>\n",
       "      <th>ComplaintType</th>\n",
       "      <th>CreatedDate</th>\n",
       "      <th>City</th>\n",
       "    </tr>\n",
       "  </thead>\n",
       "  <tbody>\n",
       "    <tr>\n",
       "      <th>0</th>\n",
       "      <td>Illegal Parking</td>\n",
       "      <td>2015-09-15 00:01:23.000000</td>\n",
       "      <td>None</td>\n",
       "    </tr>\n",
       "    <tr>\n",
       "      <th>1</th>\n",
       "      <td>Blocked Driveway</td>\n",
       "      <td>2015-09-15 00:02:29.000000</td>\n",
       "      <td>REGO PARK</td>\n",
       "    </tr>\n",
       "    <tr>\n",
       "      <th>2</th>\n",
       "      <td>Taxi Complaint</td>\n",
       "      <td>2015-09-15 00:02:34.000000</td>\n",
       "      <td>NEW YORK</td>\n",
       "    </tr>\n",
       "    <tr>\n",
       "      <th>3</th>\n",
       "      <td>Opinion for the Mayor</td>\n",
       "      <td>2015-09-15 00:03:07.000000</td>\n",
       "      <td>None</td>\n",
       "    </tr>\n",
       "    <tr>\n",
       "      <th>4</th>\n",
       "      <td>Opinion for the Mayor</td>\n",
       "      <td>2015-09-15 00:03:07.000000</td>\n",
       "      <td>None</td>\n",
       "    </tr>\n",
       "    <tr>\n",
       "      <th>5</th>\n",
       "      <td>Noise - Vehicle</td>\n",
       "      <td>2015-09-15 00:03:14.000000</td>\n",
       "      <td>BROOKLYN</td>\n",
       "    </tr>\n",
       "    <tr>\n",
       "      <th>6</th>\n",
       "      <td>Dirty Conditions</td>\n",
       "      <td>2015-09-15 00:04:00.000000</td>\n",
       "      <td>BROOKLYN</td>\n",
       "    </tr>\n",
       "    <tr>\n",
       "      <th>7</th>\n",
       "      <td>Noise - Commercial</td>\n",
       "      <td>2015-09-15 00:04:22.000000</td>\n",
       "      <td>NEW YORK</td>\n",
       "    </tr>\n",
       "    <tr>\n",
       "      <th>8</th>\n",
       "      <td>UNSANITARY CONDITION</td>\n",
       "      <td>2015-09-15 00:04:24.000000</td>\n",
       "      <td>NEW YORK</td>\n",
       "    </tr>\n",
       "    <tr>\n",
       "      <th>9</th>\n",
       "      <td>PAINT/PLASTER</td>\n",
       "      <td>2015-09-15 00:04:24.000000</td>\n",
       "      <td>NEW YORK</td>\n",
       "    </tr>\n",
       "    <tr>\n",
       "      <th>10</th>\n",
       "      <td>PLUMBING</td>\n",
       "      <td>2015-09-15 00:04:24.000000</td>\n",
       "      <td>BRONX</td>\n",
       "    </tr>\n",
       "    <tr>\n",
       "      <th>11</th>\n",
       "      <td>WATER LEAK</td>\n",
       "      <td>2015-09-15 00:04:24.000000</td>\n",
       "      <td>NEW YORK</td>\n",
       "    </tr>\n",
       "    <tr>\n",
       "      <th>12</th>\n",
       "      <td>Graffiti</td>\n",
       "      <td>2015-09-15 00:04:39.000000</td>\n",
       "      <td>BRONX</td>\n",
       "    </tr>\n",
       "    <tr>\n",
       "      <th>13</th>\n",
       "      <td>Graffiti</td>\n",
       "      <td>2015-09-15 00:05:32.000000</td>\n",
       "      <td>BRONX</td>\n",
       "    </tr>\n",
       "    <tr>\n",
       "      <th>14</th>\n",
       "      <td>Noise - Street/Sidewalk</td>\n",
       "      <td>2015-09-15 00:05:41.000000</td>\n",
       "      <td>BRONX</td>\n",
       "    </tr>\n",
       "    <tr>\n",
       "      <th>15</th>\n",
       "      <td>Noise - Commercial</td>\n",
       "      <td>2015-09-15 00:06:38.000000</td>\n",
       "      <td>NEW YORK</td>\n",
       "    </tr>\n",
       "    <tr>\n",
       "      <th>16</th>\n",
       "      <td>Graffiti</td>\n",
       "      <td>2015-09-15 00:06:46.000000</td>\n",
       "      <td>BRONX</td>\n",
       "    </tr>\n",
       "    <tr>\n",
       "      <th>17</th>\n",
       "      <td>Illegal Parking</td>\n",
       "      <td>2015-09-15 00:07:09.000000</td>\n",
       "      <td>ROSEDALE</td>\n",
       "    </tr>\n",
       "    <tr>\n",
       "      <th>18</th>\n",
       "      <td>Graffiti</td>\n",
       "      <td>2015-09-15 00:08:49.000000</td>\n",
       "      <td>BRONX</td>\n",
       "    </tr>\n",
       "    <tr>\n",
       "      <th>19</th>\n",
       "      <td>Graffiti</td>\n",
       "      <td>2015-09-15 00:10:13.000000</td>\n",
       "      <td>BRONX</td>\n",
       "    </tr>\n",
       "    <tr>\n",
       "      <th>20</th>\n",
       "      <td>Illegal Parking</td>\n",
       "      <td>2015-09-15 00:11:20.000000</td>\n",
       "      <td>QUEENS VILLAGE</td>\n",
       "    </tr>\n",
       "    <tr>\n",
       "      <th>21</th>\n",
       "      <td>Graffiti</td>\n",
       "      <td>2015-09-15 00:11:26.000000</td>\n",
       "      <td>BRONX</td>\n",
       "    </tr>\n",
       "    <tr>\n",
       "      <th>22</th>\n",
       "      <td>Noise - Street/Sidewalk</td>\n",
       "      <td>2015-09-15 00:11:27.000000</td>\n",
       "      <td>BROOKLYN</td>\n",
       "    </tr>\n",
       "    <tr>\n",
       "      <th>23</th>\n",
       "      <td>Animal in a Park</td>\n",
       "      <td>2015-09-15 00:11:36.000000</td>\n",
       "      <td>ELMHURST</td>\n",
       "    </tr>\n",
       "    <tr>\n",
       "      <th>24</th>\n",
       "      <td>Animal Abuse</td>\n",
       "      <td>2015-09-15 00:11:41.000000</td>\n",
       "      <td>BROOKLYN</td>\n",
       "    </tr>\n",
       "    <tr>\n",
       "      <th>25</th>\n",
       "      <td>Blocked Driveway</td>\n",
       "      <td>2015-09-15 00:12:33.000000</td>\n",
       "      <td>BROOKLYN</td>\n",
       "    </tr>\n",
       "    <tr>\n",
       "      <th>26</th>\n",
       "      <td>UNSANITARY CONDITION</td>\n",
       "      <td>2015-09-15 00:12:44.000000</td>\n",
       "      <td>BROOKLYN</td>\n",
       "    </tr>\n",
       "    <tr>\n",
       "      <th>27</th>\n",
       "      <td>Noise - Street/Sidewalk</td>\n",
       "      <td>2015-09-15 00:13:54.000000</td>\n",
       "      <td>BROOKLYN</td>\n",
       "    </tr>\n",
       "    <tr>\n",
       "      <th>28</th>\n",
       "      <td>Noise - Vehicle</td>\n",
       "      <td>2015-09-15 00:15:49.000000</td>\n",
       "      <td>NEW YORK</td>\n",
       "    </tr>\n",
       "    <tr>\n",
       "      <th>29</th>\n",
       "      <td>Rodent</td>\n",
       "      <td>2015-09-15 00:18:07.000000</td>\n",
       "      <td>NEW YORK</td>\n",
       "    </tr>\n",
       "    <tr>\n",
       "      <th>...</th>\n",
       "      <td>...</td>\n",
       "      <td>...</td>\n",
       "      <td>...</td>\n",
       "    </tr>\n",
       "    <tr>\n",
       "      <th>88</th>\n",
       "      <td>Unsanitary Animal Pvt Property</td>\n",
       "      <td>2015-09-15 01:24:45.000000</td>\n",
       "      <td>BROOKLYN</td>\n",
       "    </tr>\n",
       "    <tr>\n",
       "      <th>89</th>\n",
       "      <td>DOT Literature Request</td>\n",
       "      <td>2015-09-15 01:25:41.000000</td>\n",
       "      <td>None</td>\n",
       "    </tr>\n",
       "    <tr>\n",
       "      <th>90</th>\n",
       "      <td>Noise - Commercial</td>\n",
       "      <td>2015-09-15 01:26:03.000000</td>\n",
       "      <td>NEW YORK</td>\n",
       "    </tr>\n",
       "    <tr>\n",
       "      <th>91</th>\n",
       "      <td>Noise - Street/Sidewalk</td>\n",
       "      <td>2015-09-15 01:28:33.000000</td>\n",
       "      <td>NEW YORK</td>\n",
       "    </tr>\n",
       "    <tr>\n",
       "      <th>92</th>\n",
       "      <td>Noise - Street/Sidewalk</td>\n",
       "      <td>2015-09-15 01:30:09.000000</td>\n",
       "      <td>NEW YORK</td>\n",
       "    </tr>\n",
       "    <tr>\n",
       "      <th>93</th>\n",
       "      <td>Noise - Commercial</td>\n",
       "      <td>2015-09-15 01:31:26.000000</td>\n",
       "      <td>KEW GARDENS</td>\n",
       "    </tr>\n",
       "    <tr>\n",
       "      <th>94</th>\n",
       "      <td>Opinion for the Mayor</td>\n",
       "      <td>2015-09-15 01:31:55.000000</td>\n",
       "      <td>None</td>\n",
       "    </tr>\n",
       "    <tr>\n",
       "      <th>95</th>\n",
       "      <td>Noise - Commercial</td>\n",
       "      <td>2015-09-15 01:34:18.000000</td>\n",
       "      <td>ASTORIA</td>\n",
       "    </tr>\n",
       "    <tr>\n",
       "      <th>96</th>\n",
       "      <td>Noise - Commercial</td>\n",
       "      <td>2015-09-15 01:36:25.000000</td>\n",
       "      <td>NEW YORK</td>\n",
       "    </tr>\n",
       "    <tr>\n",
       "      <th>97</th>\n",
       "      <td>Street Condition</td>\n",
       "      <td>2015-09-15 01:37:35.000000</td>\n",
       "      <td>NEW YORK</td>\n",
       "    </tr>\n",
       "    <tr>\n",
       "      <th>98</th>\n",
       "      <td>Rodent</td>\n",
       "      <td>2015-09-15 01:37:42.000000</td>\n",
       "      <td>BROOKLYN</td>\n",
       "    </tr>\n",
       "    <tr>\n",
       "      <th>99</th>\n",
       "      <td>Noise - Commercial</td>\n",
       "      <td>2015-09-15 01:40:08.000000</td>\n",
       "      <td>BROOKLYN</td>\n",
       "    </tr>\n",
       "    <tr>\n",
       "      <th>100</th>\n",
       "      <td>Noise - Commercial</td>\n",
       "      <td>2015-09-15 01:45:15.000000</td>\n",
       "      <td>NEW YORK</td>\n",
       "    </tr>\n",
       "    <tr>\n",
       "      <th>101</th>\n",
       "      <td>Noise - Vehicle</td>\n",
       "      <td>2015-09-15 01:47:16.000000</td>\n",
       "      <td>BROOKLYN</td>\n",
       "    </tr>\n",
       "    <tr>\n",
       "      <th>102</th>\n",
       "      <td>Noise - Commercial</td>\n",
       "      <td>2015-09-15 01:47:56.000000</td>\n",
       "      <td>NEW YORK</td>\n",
       "    </tr>\n",
       "    <tr>\n",
       "      <th>103</th>\n",
       "      <td>Noise - Street/Sidewalk</td>\n",
       "      <td>2015-09-15 01:48:19.000000</td>\n",
       "      <td>BROOKLYN</td>\n",
       "    </tr>\n",
       "    <tr>\n",
       "      <th>104</th>\n",
       "      <td>Blocked Driveway</td>\n",
       "      <td>2015-09-15 01:51:04.000000</td>\n",
       "      <td>BRONX</td>\n",
       "    </tr>\n",
       "    <tr>\n",
       "      <th>105</th>\n",
       "      <td>Noise - Street/Sidewalk</td>\n",
       "      <td>2015-09-15 01:51:14.000000</td>\n",
       "      <td>BROOKLYN</td>\n",
       "    </tr>\n",
       "    <tr>\n",
       "      <th>106</th>\n",
       "      <td>Illegal Parking</td>\n",
       "      <td>2015-09-15 01:52:10.000000</td>\n",
       "      <td>STATEN ISLAND</td>\n",
       "    </tr>\n",
       "    <tr>\n",
       "      <th>107</th>\n",
       "      <td>Illegal Parking</td>\n",
       "      <td>2015-09-15 01:53:19.000000</td>\n",
       "      <td>BRONX</td>\n",
       "    </tr>\n",
       "    <tr>\n",
       "      <th>108</th>\n",
       "      <td>Noise - Commercial</td>\n",
       "      <td>2015-09-15 01:56:32.000000</td>\n",
       "      <td>NEW YORK</td>\n",
       "    </tr>\n",
       "    <tr>\n",
       "      <th>109</th>\n",
       "      <td>Food Establishment</td>\n",
       "      <td>2015-09-15 01:57:38.000000</td>\n",
       "      <td>BROOKLYN</td>\n",
       "    </tr>\n",
       "    <tr>\n",
       "      <th>110</th>\n",
       "      <td>Noise - Park</td>\n",
       "      <td>2015-09-15 01:57:39.000000</td>\n",
       "      <td>NEW YORK</td>\n",
       "    </tr>\n",
       "    <tr>\n",
       "      <th>111</th>\n",
       "      <td>Blocked Driveway</td>\n",
       "      <td>2015-09-15 01:58:05.000000</td>\n",
       "      <td>ELMHURST</td>\n",
       "    </tr>\n",
       "    <tr>\n",
       "      <th>112</th>\n",
       "      <td>Highway Condition</td>\n",
       "      <td>2015-09-15 02:07:01.000000</td>\n",
       "      <td>STATEN ISLAND</td>\n",
       "    </tr>\n",
       "    <tr>\n",
       "      <th>113</th>\n",
       "      <td>Homeless Person Assistance</td>\n",
       "      <td>2015-09-15 02:08:01.000000</td>\n",
       "      <td>NEW YORK</td>\n",
       "    </tr>\n",
       "    <tr>\n",
       "      <th>114</th>\n",
       "      <td>Noise - Commercial</td>\n",
       "      <td>2015-09-15 02:09:46.000000</td>\n",
       "      <td>BRONX</td>\n",
       "    </tr>\n",
       "    <tr>\n",
       "      <th>115</th>\n",
       "      <td>Noise - Street/Sidewalk</td>\n",
       "      <td>2015-09-15 02:11:19.000000</td>\n",
       "      <td>NEW YORK</td>\n",
       "    </tr>\n",
       "    <tr>\n",
       "      <th>116</th>\n",
       "      <td>Noise - Street/Sidewalk</td>\n",
       "      <td>2015-09-15 02:12:49.000000</td>\n",
       "      <td>NEW YORK</td>\n",
       "    </tr>\n",
       "    <tr>\n",
       "      <th>117</th>\n",
       "      <td>Illegal Parking</td>\n",
       "      <td>2015-09-15 02:14:04.000000</td>\n",
       "      <td>None</td>\n",
       "    </tr>\n",
       "  </tbody>\n",
       "</table>\n",
       "<p>118 rows × 3 columns</p>\n",
       "</div>"
      ],
      "text/plain": [
       "                      ComplaintType                 CreatedDate  \\\n",
       "0                   Illegal Parking  2015-09-15 00:01:23.000000   \n",
       "1                  Blocked Driveway  2015-09-15 00:02:29.000000   \n",
       "2                    Taxi Complaint  2015-09-15 00:02:34.000000   \n",
       "3             Opinion for the Mayor  2015-09-15 00:03:07.000000   \n",
       "4             Opinion for the Mayor  2015-09-15 00:03:07.000000   \n",
       "5                   Noise - Vehicle  2015-09-15 00:03:14.000000   \n",
       "6                  Dirty Conditions  2015-09-15 00:04:00.000000   \n",
       "7                Noise - Commercial  2015-09-15 00:04:22.000000   \n",
       "8              UNSANITARY CONDITION  2015-09-15 00:04:24.000000   \n",
       "9                     PAINT/PLASTER  2015-09-15 00:04:24.000000   \n",
       "10                         PLUMBING  2015-09-15 00:04:24.000000   \n",
       "11                       WATER LEAK  2015-09-15 00:04:24.000000   \n",
       "12                         Graffiti  2015-09-15 00:04:39.000000   \n",
       "13                         Graffiti  2015-09-15 00:05:32.000000   \n",
       "14          Noise - Street/Sidewalk  2015-09-15 00:05:41.000000   \n",
       "15               Noise - Commercial  2015-09-15 00:06:38.000000   \n",
       "16                         Graffiti  2015-09-15 00:06:46.000000   \n",
       "17                  Illegal Parking  2015-09-15 00:07:09.000000   \n",
       "18                         Graffiti  2015-09-15 00:08:49.000000   \n",
       "19                         Graffiti  2015-09-15 00:10:13.000000   \n",
       "20                  Illegal Parking  2015-09-15 00:11:20.000000   \n",
       "21                         Graffiti  2015-09-15 00:11:26.000000   \n",
       "22          Noise - Street/Sidewalk  2015-09-15 00:11:27.000000   \n",
       "23                 Animal in a Park  2015-09-15 00:11:36.000000   \n",
       "24                     Animal Abuse  2015-09-15 00:11:41.000000   \n",
       "25                 Blocked Driveway  2015-09-15 00:12:33.000000   \n",
       "26             UNSANITARY CONDITION  2015-09-15 00:12:44.000000   \n",
       "27          Noise - Street/Sidewalk  2015-09-15 00:13:54.000000   \n",
       "28                  Noise - Vehicle  2015-09-15 00:15:49.000000   \n",
       "29                           Rodent  2015-09-15 00:18:07.000000   \n",
       "..                              ...                         ...   \n",
       "88   Unsanitary Animal Pvt Property  2015-09-15 01:24:45.000000   \n",
       "89           DOT Literature Request  2015-09-15 01:25:41.000000   \n",
       "90               Noise - Commercial  2015-09-15 01:26:03.000000   \n",
       "91          Noise - Street/Sidewalk  2015-09-15 01:28:33.000000   \n",
       "92          Noise - Street/Sidewalk  2015-09-15 01:30:09.000000   \n",
       "93               Noise - Commercial  2015-09-15 01:31:26.000000   \n",
       "94            Opinion for the Mayor  2015-09-15 01:31:55.000000   \n",
       "95               Noise - Commercial  2015-09-15 01:34:18.000000   \n",
       "96               Noise - Commercial  2015-09-15 01:36:25.000000   \n",
       "97                 Street Condition  2015-09-15 01:37:35.000000   \n",
       "98                           Rodent  2015-09-15 01:37:42.000000   \n",
       "99               Noise - Commercial  2015-09-15 01:40:08.000000   \n",
       "100              Noise - Commercial  2015-09-15 01:45:15.000000   \n",
       "101                 Noise - Vehicle  2015-09-15 01:47:16.000000   \n",
       "102              Noise - Commercial  2015-09-15 01:47:56.000000   \n",
       "103         Noise - Street/Sidewalk  2015-09-15 01:48:19.000000   \n",
       "104                Blocked Driveway  2015-09-15 01:51:04.000000   \n",
       "105         Noise - Street/Sidewalk  2015-09-15 01:51:14.000000   \n",
       "106                 Illegal Parking  2015-09-15 01:52:10.000000   \n",
       "107                 Illegal Parking  2015-09-15 01:53:19.000000   \n",
       "108              Noise - Commercial  2015-09-15 01:56:32.000000   \n",
       "109              Food Establishment  2015-09-15 01:57:38.000000   \n",
       "110                    Noise - Park  2015-09-15 01:57:39.000000   \n",
       "111                Blocked Driveway  2015-09-15 01:58:05.000000   \n",
       "112               Highway Condition  2015-09-15 02:07:01.000000   \n",
       "113      Homeless Person Assistance  2015-09-15 02:08:01.000000   \n",
       "114              Noise - Commercial  2015-09-15 02:09:46.000000   \n",
       "115         Noise - Street/Sidewalk  2015-09-15 02:11:19.000000   \n",
       "116         Noise - Street/Sidewalk  2015-09-15 02:12:49.000000   \n",
       "117                 Illegal Parking  2015-09-15 02:14:04.000000   \n",
       "\n",
       "               City  \n",
       "0              None  \n",
       "1         REGO PARK  \n",
       "2          NEW YORK  \n",
       "3              None  \n",
       "4              None  \n",
       "5          BROOKLYN  \n",
       "6          BROOKLYN  \n",
       "7          NEW YORK  \n",
       "8          NEW YORK  \n",
       "9          NEW YORK  \n",
       "10            BRONX  \n",
       "11         NEW YORK  \n",
       "12            BRONX  \n",
       "13            BRONX  \n",
       "14            BRONX  \n",
       "15         NEW YORK  \n",
       "16            BRONX  \n",
       "17         ROSEDALE  \n",
       "18            BRONX  \n",
       "19            BRONX  \n",
       "20   QUEENS VILLAGE  \n",
       "21            BRONX  \n",
       "22         BROOKLYN  \n",
       "23         ELMHURST  \n",
       "24         BROOKLYN  \n",
       "25         BROOKLYN  \n",
       "26         BROOKLYN  \n",
       "27         BROOKLYN  \n",
       "28         NEW YORK  \n",
       "29         NEW YORK  \n",
       "..              ...  \n",
       "88         BROOKLYN  \n",
       "89             None  \n",
       "90         NEW YORK  \n",
       "91         NEW YORK  \n",
       "92         NEW YORK  \n",
       "93      KEW GARDENS  \n",
       "94             None  \n",
       "95          ASTORIA  \n",
       "96         NEW YORK  \n",
       "97         NEW YORK  \n",
       "98         BROOKLYN  \n",
       "99         BROOKLYN  \n",
       "100        NEW YORK  \n",
       "101        BROOKLYN  \n",
       "102        NEW YORK  \n",
       "103        BROOKLYN  \n",
       "104           BRONX  \n",
       "105        BROOKLYN  \n",
       "106   STATEN ISLAND  \n",
       "107           BRONX  \n",
       "108        NEW YORK  \n",
       "109        BROOKLYN  \n",
       "110        NEW YORK  \n",
       "111        ELMHURST  \n",
       "112   STATEN ISLAND  \n",
       "113        NEW YORK  \n",
       "114           BRONX  \n",
       "115        NEW YORK  \n",
       "116        NEW YORK  \n",
       "117            None  \n",
       "\n",
       "[118 rows x 3 columns]"
      ]
     },
     "execution_count": 46,
     "metadata": {},
     "output_type": "execute_result"
    }
   ],
   "source": [
    "query = '''\n",
    "  SELECT ComplaintType, CreatedDate, City\n",
    "    FROM data\n",
    "    WHERE CreatedDate >= \"2015-09-15 00:00:00.0\"\n",
    "      AND CreatedDate < \"2015-09-16 00:00:00.0\"\n",
    "    ORDER BY CreatedDate\n",
    "'''\n",
    "df = pd.read_sql_query (query, disk_engine)\n",
    "df"
   ]
  },
  {
   "cell_type": "markdown",
   "metadata": {
    "nbgrader": {
     "grade": false,
     "locked": true,
     "solution": false
    },
    "nbpresent": {
     "id": "0d24847f-3ca6-4458-ac02-8fcb70d382e0"
    }
   },
   "source": [
    "This next example shows how to extract just the hour from the time stamp, using SQL's `strftime()`."
   ]
  },
  {
   "cell_type": "code",
   "execution_count": 47,
   "metadata": {
    "nbpresent": {
     "id": "53acb2a8-c0d6-4f11-8512-5de7404fef2a"
    },
    "scrolled": true
   },
   "outputs": [
    {
     "data": {
      "text/html": [
       "<div>\n",
       "<style scoped>\n",
       "    .dataframe tbody tr th:only-of-type {\n",
       "        vertical-align: middle;\n",
       "    }\n",
       "\n",
       "    .dataframe tbody tr th {\n",
       "        vertical-align: top;\n",
       "    }\n",
       "\n",
       "    .dataframe thead th {\n",
       "        text-align: right;\n",
       "    }\n",
       "</style>\n",
       "<table border=\"1\" class=\"dataframe\">\n",
       "  <thead>\n",
       "    <tr style=\"text-align: right;\">\n",
       "      <th></th>\n",
       "      <th>CreatedDate</th>\n",
       "      <th>Hour</th>\n",
       "      <th>ComplaintType</th>\n",
       "    </tr>\n",
       "  </thead>\n",
       "  <tbody>\n",
       "    <tr>\n",
       "      <th>0</th>\n",
       "      <td>2015-09-15 02:14:04.000000</td>\n",
       "      <td>02</td>\n",
       "      <td>Illegal Parking</td>\n",
       "    </tr>\n",
       "    <tr>\n",
       "      <th>1</th>\n",
       "      <td>2015-09-15 02:12:49.000000</td>\n",
       "      <td>02</td>\n",
       "      <td>Noise - Street/Sidewalk</td>\n",
       "    </tr>\n",
       "    <tr>\n",
       "      <th>2</th>\n",
       "      <td>2015-09-15 02:11:19.000000</td>\n",
       "      <td>02</td>\n",
       "      <td>Noise - Street/Sidewalk</td>\n",
       "    </tr>\n",
       "    <tr>\n",
       "      <th>3</th>\n",
       "      <td>2015-09-15 02:09:46.000000</td>\n",
       "      <td>02</td>\n",
       "      <td>Noise - Commercial</td>\n",
       "    </tr>\n",
       "    <tr>\n",
       "      <th>4</th>\n",
       "      <td>2015-09-15 02:08:01.000000</td>\n",
       "      <td>02</td>\n",
       "      <td>Homeless Person Assistance</td>\n",
       "    </tr>\n",
       "  </tbody>\n",
       "</table>\n",
       "</div>"
      ],
      "text/plain": [
       "                  CreatedDate Hour               ComplaintType\n",
       "0  2015-09-15 02:14:04.000000   02             Illegal Parking\n",
       "1  2015-09-15 02:12:49.000000   02     Noise - Street/Sidewalk\n",
       "2  2015-09-15 02:11:19.000000   02     Noise - Street/Sidewalk\n",
       "3  2015-09-15 02:09:46.000000   02          Noise - Commercial\n",
       "4  2015-09-15 02:08:01.000000   02  Homeless Person Assistance"
      ]
     },
     "execution_count": 47,
     "metadata": {},
     "output_type": "execute_result"
    }
   ],
   "source": [
    "query = '''\n",
    "  SELECT CreatedDate, strftime ('%H', CreatedDate) AS Hour, ComplaintType\n",
    "    FROM data\n",
    "    LIMIT 5\n",
    "'''\n",
    "df = pd.read_sql_query (query, disk_engine)\n",
    "df"
   ]
  },
  {
   "cell_type": "markdown",
   "metadata": {
    "nbgrader": {
     "grade": false,
     "locked": true,
     "solution": false
    },
    "nbpresent": {
     "id": "44ed4db0-df35-4547-93aa-5680ad1d5cdf"
    }
   },
   "source": [
    "**Exercise 6** (3 points). Construct a tibble called `df_complaints_by_hour`, which contains the total number of complaints during a given hour of the day. That is, the variables should be {`hour`, `count`} where each observation is the total number of complaints (`count`) that occurred during a given `hour`.\n",
    "\n",
    "> Interpret `hour` as follows: when `hour` is `02`, that corresponds to the open time interval [`02:00:00`, `03:00:00.0`)."
   ]
  },
  {
   "cell_type": "code",
   "execution_count": 48,
   "metadata": {},
   "outputs": [],
   "source": [
    "from collections import defaultdict, Counter"
   ]
  },
  {
   "cell_type": "code",
   "execution_count": 49,
   "metadata": {
    "deletable": false,
    "nbgrader": {
     "checksum": "0973d1f3d797d1b39d338d2c73905626",
     "grade": false,
     "grade_id": "df_complaints_by_hour",
     "locked": false,
     "schema_version": 1,
     "solution": true
    },
    "nbpresent": {
     "id": "eb10399f-fc01-4283-b1e5-1817de4b7539"
    },
    "scrolled": true
   },
   "outputs": [
    {
     "data": {
      "text/html": [
       "<div>\n",
       "<style scoped>\n",
       "    .dataframe tbody tr th:only-of-type {\n",
       "        vertical-align: middle;\n",
       "    }\n",
       "\n",
       "    .dataframe tbody tr th {\n",
       "        vertical-align: top;\n",
       "    }\n",
       "\n",
       "    .dataframe thead th {\n",
       "        text-align: right;\n",
       "    }\n",
       "</style>\n",
       "<table border=\"1\" class=\"dataframe\">\n",
       "  <thead>\n",
       "    <tr style=\"text-align: right;\">\n",
       "      <th></th>\n",
       "      <th>hour</th>\n",
       "      <th>count</th>\n",
       "    </tr>\n",
       "  </thead>\n",
       "  <tbody>\n",
       "    <tr>\n",
       "      <th>0</th>\n",
       "      <td>02</td>\n",
       "      <td>15226</td>\n",
       "    </tr>\n",
       "    <tr>\n",
       "      <th>1</th>\n",
       "      <td>01</td>\n",
       "      <td>23489</td>\n",
       "    </tr>\n",
       "    <tr>\n",
       "      <th>2</th>\n",
       "      <td>00</td>\n",
       "      <td>564703</td>\n",
       "    </tr>\n",
       "    <tr>\n",
       "      <th>3</th>\n",
       "      <td>23</td>\n",
       "      <td>47113</td>\n",
       "    </tr>\n",
       "    <tr>\n",
       "      <th>4</th>\n",
       "      <td>22</td>\n",
       "      <td>52076</td>\n",
       "    </tr>\n",
       "  </tbody>\n",
       "</table>\n",
       "</div>"
      ],
      "text/plain": [
       "  hour   count\n",
       "0   02   15226\n",
       "1   01   23489\n",
       "2   00  564703\n",
       "3   23   47113\n",
       "4   22   52076"
      ]
     },
     "metadata": {},
     "output_type": "display_data"
    }
   ],
   "source": [
    "# Your task: Construct `df_complaints_by_hour` as directed.\n",
    "###\n",
    "query = '''\n",
    "    SELECT CreatedDate, strftime('%H', CreatedDate) as Hour, ComplaintType\n",
    "    FROM data\n",
    "'''\n",
    "\n",
    "df = pd.read_sql_query(query, disk_engine)\n",
    "d_to_convert = dict(Counter(df['Hour']))\n",
    "df_complaints_by_hour = pd.DataFrame.from_dict(d_to_convert, orient='index')\n",
    "df_complaints_by_hour.reset_index(inplace=True)\n",
    "df_complaints_by_hour.rename(columns={'index':'hour', 0:'count'}, inplace=True)\n",
    "###\n",
    "\n",
    "# Displays your answer:\n",
    "display(df_complaints_by_hour.head())"
   ]
  },
  {
   "cell_type": "code",
   "execution_count": 50,
   "metadata": {
    "deletable": false,
    "nbgrader": {
     "checksum": "393bdbc3a48e5291e1339710c16ed86a",
     "grade": true,
     "grade_id": "df_complaints_by_hour_test",
     "locked": true,
     "points": 3,
     "schema_version": 1,
     "solution": false
    },
    "nbpresent": {
     "id": "24e3056d-62c6-4a24-9f3f-b76201cf8754"
    },
    "scrolled": true
   },
   "outputs": [
    {
     "name": "stdout",
     "output_type": "stream",
     "text": [
      "Reading instructor's solution...\n"
     ]
    },
    {
     "data": {
      "text/html": [
       "<div>\n",
       "<style scoped>\n",
       "    .dataframe tbody tr th:only-of-type {\n",
       "        vertical-align: middle;\n",
       "    }\n",
       "\n",
       "    .dataframe tbody tr th {\n",
       "        vertical-align: top;\n",
       "    }\n",
       "\n",
       "    .dataframe thead th {\n",
       "        text-align: right;\n",
       "    }\n",
       "</style>\n",
       "<table border=\"1\" class=\"dataframe\">\n",
       "  <thead>\n",
       "    <tr style=\"text-align: right;\">\n",
       "      <th></th>\n",
       "      <th>hour</th>\n",
       "      <th>count</th>\n",
       "    </tr>\n",
       "  </thead>\n",
       "  <tbody>\n",
       "    <tr>\n",
       "      <th>0</th>\n",
       "      <td>0</td>\n",
       "      <td>564703</td>\n",
       "    </tr>\n",
       "    <tr>\n",
       "      <th>1</th>\n",
       "      <td>1</td>\n",
       "      <td>23489</td>\n",
       "    </tr>\n",
       "    <tr>\n",
       "      <th>2</th>\n",
       "      <td>2</td>\n",
       "      <td>15226</td>\n",
       "    </tr>\n",
       "    <tr>\n",
       "      <th>3</th>\n",
       "      <td>3</td>\n",
       "      <td>10164</td>\n",
       "    </tr>\n",
       "    <tr>\n",
       "      <th>4</th>\n",
       "      <td>4</td>\n",
       "      <td>8692</td>\n",
       "    </tr>\n",
       "    <tr>\n",
       "      <th>5</th>\n",
       "      <td>5</td>\n",
       "      <td>10224</td>\n",
       "    </tr>\n",
       "    <tr>\n",
       "      <th>6</th>\n",
       "      <td>6</td>\n",
       "      <td>23051</td>\n",
       "    </tr>\n",
       "    <tr>\n",
       "      <th>7</th>\n",
       "      <td>7</td>\n",
       "      <td>42273</td>\n",
       "    </tr>\n",
       "    <tr>\n",
       "      <th>8</th>\n",
       "      <td>8</td>\n",
       "      <td>73811</td>\n",
       "    </tr>\n",
       "    <tr>\n",
       "      <th>9</th>\n",
       "      <td>9</td>\n",
       "      <td>100077</td>\n",
       "    </tr>\n",
       "    <tr>\n",
       "      <th>10</th>\n",
       "      <td>10</td>\n",
       "      <td>114079</td>\n",
       "    </tr>\n",
       "    <tr>\n",
       "      <th>11</th>\n",
       "      <td>11</td>\n",
       "      <td>115849</td>\n",
       "    </tr>\n",
       "    <tr>\n",
       "      <th>12</th>\n",
       "      <td>12</td>\n",
       "      <td>102392</td>\n",
       "    </tr>\n",
       "    <tr>\n",
       "      <th>13</th>\n",
       "      <td>13</td>\n",
       "      <td>100970</td>\n",
       "    </tr>\n",
       "    <tr>\n",
       "      <th>14</th>\n",
       "      <td>14</td>\n",
       "      <td>105425</td>\n",
       "    </tr>\n",
       "    <tr>\n",
       "      <th>15</th>\n",
       "      <td>15</td>\n",
       "      <td>100271</td>\n",
       "    </tr>\n",
       "    <tr>\n",
       "      <th>16</th>\n",
       "      <td>16</td>\n",
       "      <td>86968</td>\n",
       "    </tr>\n",
       "    <tr>\n",
       "      <th>17</th>\n",
       "      <td>17</td>\n",
       "      <td>69920</td>\n",
       "    </tr>\n",
       "    <tr>\n",
       "      <th>18</th>\n",
       "      <td>18</td>\n",
       "      <td>67467</td>\n",
       "    </tr>\n",
       "    <tr>\n",
       "      <th>19</th>\n",
       "      <td>19</td>\n",
       "      <td>57637</td>\n",
       "    </tr>\n",
       "    <tr>\n",
       "      <th>20</th>\n",
       "      <td>20</td>\n",
       "      <td>54997</td>\n",
       "    </tr>\n",
       "    <tr>\n",
       "      <th>21</th>\n",
       "      <td>21</td>\n",
       "      <td>53126</td>\n",
       "    </tr>\n",
       "    <tr>\n",
       "      <th>22</th>\n",
       "      <td>22</td>\n",
       "      <td>52076</td>\n",
       "    </tr>\n",
       "    <tr>\n",
       "      <th>23</th>\n",
       "      <td>23</td>\n",
       "      <td>47113</td>\n",
       "    </tr>\n",
       "  </tbody>\n",
       "</table>\n",
       "</div>"
      ],
      "text/plain": [
       "    hour   count\n",
       "0      0  564703\n",
       "1      1   23489\n",
       "2      2   15226\n",
       "3      3   10164\n",
       "4      4    8692\n",
       "5      5   10224\n",
       "6      6   23051\n",
       "7      7   42273\n",
       "8      8   73811\n",
       "9      9  100077\n",
       "10    10  114079\n",
       "11    11  115849\n",
       "12    12  102392\n",
       "13    13  100970\n",
       "14    14  105425\n",
       "15    15  100271\n",
       "16    16   86968\n",
       "17    17   69920\n",
       "18    18   67467\n",
       "19    19   57637\n",
       "20    20   54997\n",
       "21    21   53126\n",
       "22    22   52076\n",
       "23    23   47113"
      ]
     },
     "metadata": {},
     "output_type": "display_data"
    },
    {
     "name": "stdout",
     "output_type": "stream",
     "text": [
      "\n",
      "(Passed.)\n"
     ]
    }
   ],
   "source": [
    "# Test cell: `df_complaints_by_hour_test`\n",
    "    \n",
    "print (\"Reading instructor's solution...\")\n",
    "if False:\n",
    "    df_complaints_by_hour_soln.to_csv('df_complaints_by_hour_soln.csv', index=False)\n",
    "df_complaints_by_hour_soln = pd.read_csv ('df_complaints_by_hour_soln.csv')\n",
    "display (df_complaints_by_hour_soln)\n",
    "\n",
    "df_complaints_by_hour_norm = df_complaints_by_hour.copy ()\n",
    "df_complaints_by_hour_norm['hour'] = \\\n",
    "    df_complaints_by_hour_norm['hour'].apply (int)\n",
    "assert tibbles_are_equivalent (df_complaints_by_hour_norm,\n",
    "                               df_complaints_by_hour_soln)\n",
    "print (\"\\n(Passed.)\")"
   ]
  },
  {
   "cell_type": "markdown",
   "metadata": {
    "nbgrader": {
     "grade": false,
     "locked": true,
     "solution": false
    }
   },
   "source": [
    "Let's take a quick look at the hour-by-hour breakdown above."
   ]
  },
  {
   "cell_type": "code",
   "execution_count": 51,
   "metadata": {
    "nbpresent": {
     "id": "60bd03aa-679c-4be1-aaed-ec5d22115272"
    }
   },
   "outputs": [
    {
     "data": {
      "text/html": [
       "\n",
       "<div class=\"bk-root\">\n",
       "    <div class=\"bk-plotdiv\" id=\"c8a051f9-e1ba-451e-8bf3-62df38cca3ef\"></div>\n",
       "</div>"
      ]
     },
     "metadata": {},
     "output_type": "display_data"
    },
    {
     "data": {
      "application/javascript": [
       "(function(root) {\n",
       "  function embed_document(root) {\n",
       "    \n",
       "  var docs_json = {\"18f8704e-3b6b-4134-8718-f3f67c178ae8\":{\"roots\":{\"references\":[{\"attributes\":{\"fill_alpha\":{\"value\":0.1},\"fill_color\":{\"value\":\"#1f77b4\"},\"line_alpha\":{\"value\":0.1},\"line_color\":{\"value\":\"#1f77b4\"},\"top\":{\"field\":\"top\"},\"width\":{\"value\":0.9},\"x\":{\"field\":\"x\"}},\"id\":\"b5103320-86eb-483e-b07d-34b94af98c10\",\"type\":\"VBar\"},{\"attributes\":{},\"id\":\"d8cac8ea-8dca-4ec2-999f-13614cb9aeea\",\"type\":\"BasicTickFormatter\"},{\"attributes\":{\"plot\":null,\"text\":\"Complaints by hour\"},\"id\":\"d032b9c3-6ac5-43d8-83a8-d83b363a3cab\",\"type\":\"Title\"},{\"attributes\":{},\"id\":\"0ecf6595-d670-466d-bed1-e417d0885132\",\"type\":\"LinearScale\"},{\"attributes\":{},\"id\":\"2fbd82c7-0cc6-40a3-b380-96f11cd30549\",\"type\":\"CategoricalTicker\"},{\"attributes\":{\"callback\":null,\"data\":{\"top\":[15226,23489,564703,47113,52076,53126,54997,57637,67467,69920,86968,100271,105425,100970,102392,115849,114079,100077,73811,42273,23051,10224,8692,10164],\"x\":[\"02\",\"01\",\"00\",\"23\",\"22\",\"21\",\"20\",\"19\",\"18\",\"17\",\"16\",\"15\",\"14\",\"13\",\"12\",\"11\",\"10\",\"09\",\"08\",\"07\",\"06\",\"05\",\"04\",\"03\"]},\"selected\":{\"id\":\"4b037772-44c7-47f5-89eb-f4ca98beb49f\",\"type\":\"Selection\"},\"selection_policy\":{\"id\":\"0a8f0ead-3b15-4c05-88a0-7d6a2b032e39\",\"type\":\"UnionRenderers\"}},\"id\":\"0a55b2cb-4dc6-4e6f-8427-4a43bbae2b66\",\"type\":\"ColumnDataSource\"},{\"attributes\":{},\"id\":\"0059c4b5-36b7-4cae-9982-315fdb9e3384\",\"type\":\"BasicTicker\"},{\"attributes\":{},\"id\":\"0a8f0ead-3b15-4c05-88a0-7d6a2b032e39\",\"type\":\"UnionRenderers\"},{\"attributes\":{},\"id\":\"2d093dee-c69f-4ad1-9667-0456cf7a15e0\",\"type\":\"CategoricalScale\"},{\"attributes\":{\"fill_color\":{\"value\":\"#1f77b4\"},\"line_color\":{\"value\":\"#1f77b4\"},\"top\":{\"field\":\"top\"},\"width\":{\"value\":0.9},\"x\":{\"field\":\"x\"}},\"id\":\"248d5f89-626a-4d66-bd13-6347499854c6\",\"type\":\"VBar\"},{\"attributes\":{\"bottom_units\":\"screen\",\"fill_alpha\":{\"value\":0.5},\"fill_color\":{\"value\":\"lightgrey\"},\"left_units\":\"screen\",\"level\":\"overlay\",\"line_alpha\":{\"value\":1.0},\"line_color\":{\"value\":\"black\"},\"line_dash\":[4,4],\"line_width\":{\"value\":2},\"plot\":null,\"render_mode\":\"css\",\"right_units\":\"screen\",\"top_units\":\"screen\"},\"id\":\"a99b58e0-427a-485e-adb4-885f76a52b37\",\"type\":\"BoxAnnotation\"},{\"attributes\":{},\"id\":\"1211bc97-42c5-4c03-9175-7374832690a3\",\"type\":\"PanTool\"},{\"attributes\":{\"plot\":{\"id\":\"754d1e92-782d-45a8-a9ce-c90a58c515cc\",\"subtype\":\"Figure\",\"type\":\"Plot\"},\"ticker\":{\"id\":\"2fbd82c7-0cc6-40a3-b380-96f11cd30549\",\"type\":\"CategoricalTicker\"}},\"id\":\"d1920174-e8ae-4e90-b084-27e68d7ea9d6\",\"type\":\"Grid\"},{\"attributes\":{\"callback\":null},\"id\":\"37066595-678f-41b8-bdb3-a60e401d0f65\",\"type\":\"DataRange1d\"},{\"attributes\":{\"source\":{\"id\":\"0a55b2cb-4dc6-4e6f-8427-4a43bbae2b66\",\"type\":\"ColumnDataSource\"}},\"id\":\"ba61b61c-965e-4c1a-9464-f09a85b95486\",\"type\":\"CDSView\"},{\"attributes\":{},\"id\":\"18183887-e385-4e2c-a28a-0e3454a0ae90\",\"type\":\"ResetTool\"},{\"attributes\":{\"below\":[{\"id\":\"9109706d-2ff4-404f-b9d9-c3a83554df3f\",\"type\":\"CategoricalAxis\"}],\"left\":[{\"id\":\"0a19983f-eb4f-40d0-9d07-22175a98d617\",\"type\":\"LinearAxis\"}],\"plot_height\":320,\"plot_width\":800,\"renderers\":[{\"id\":\"9109706d-2ff4-404f-b9d9-c3a83554df3f\",\"type\":\"CategoricalAxis\"},{\"id\":\"d1920174-e8ae-4e90-b084-27e68d7ea9d6\",\"type\":\"Grid\"},{\"id\":\"0a19983f-eb4f-40d0-9d07-22175a98d617\",\"type\":\"LinearAxis\"},{\"id\":\"b766a2ec-4324-411e-9d38-433778dc0496\",\"type\":\"Grid\"},{\"id\":\"a99b58e0-427a-485e-adb4-885f76a52b37\",\"type\":\"BoxAnnotation\"},{\"id\":\"c9478a0e-65b2-4ac1-b26d-fb9beca3ef9c\",\"type\":\"GlyphRenderer\"}],\"title\":{\"id\":\"d032b9c3-6ac5-43d8-83a8-d83b363a3cab\",\"type\":\"Title\"},\"toolbar\":{\"id\":\"ef01db36-df6b-4d4b-91c8-6fd05c29c6ad\",\"type\":\"Toolbar\"},\"x_range\":{\"id\":\"7ac9014d-2c17-4f5c-9582-62903346230c\",\"type\":\"FactorRange\"},\"x_scale\":{\"id\":\"2d093dee-c69f-4ad1-9667-0456cf7a15e0\",\"type\":\"CategoricalScale\"},\"y_range\":{\"id\":\"37066595-678f-41b8-bdb3-a60e401d0f65\",\"type\":\"DataRange1d\"},\"y_scale\":{\"id\":\"0ecf6595-d670-466d-bed1-e417d0885132\",\"type\":\"LinearScale\"}},\"id\":\"754d1e92-782d-45a8-a9ce-c90a58c515cc\",\"subtype\":\"Figure\",\"type\":\"Plot\"},{\"attributes\":{},\"id\":\"eb2c33d3-c565-4e56-a484-a2475bc1566a\",\"type\":\"HelpTool\"},{\"attributes\":{\"overlay\":{\"id\":\"a99b58e0-427a-485e-adb4-885f76a52b37\",\"type\":\"BoxAnnotation\"}},\"id\":\"cc5b1dd5-73eb-4ee4-8d13-6f949aedb298\",\"type\":\"BoxZoomTool\"},{\"attributes\":{\"dimension\":1,\"plot\":{\"id\":\"754d1e92-782d-45a8-a9ce-c90a58c515cc\",\"subtype\":\"Figure\",\"type\":\"Plot\"},\"ticker\":{\"id\":\"0059c4b5-36b7-4cae-9982-315fdb9e3384\",\"type\":\"BasicTicker\"}},\"id\":\"b766a2ec-4324-411e-9d38-433778dc0496\",\"type\":\"Grid\"},{\"attributes\":{\"data_source\":{\"id\":\"0a55b2cb-4dc6-4e6f-8427-4a43bbae2b66\",\"type\":\"ColumnDataSource\"},\"glyph\":{\"id\":\"248d5f89-626a-4d66-bd13-6347499854c6\",\"type\":\"VBar\"},\"hover_glyph\":null,\"muted_glyph\":null,\"nonselection_glyph\":{\"id\":\"b5103320-86eb-483e-b07d-34b94af98c10\",\"type\":\"VBar\"},\"selection_glyph\":null,\"view\":{\"id\":\"ba61b61c-965e-4c1a-9464-f09a85b95486\",\"type\":\"CDSView\"}},\"id\":\"c9478a0e-65b2-4ac1-b26d-fb9beca3ef9c\",\"type\":\"GlyphRenderer\"},{\"attributes\":{},\"id\":\"1dacf8e3-924c-4422-86b3-b46cef3397fd\",\"type\":\"WheelZoomTool\"},{\"attributes\":{},\"id\":\"bcb9498e-e605-4332-88f0-df0ad559bd5b\",\"type\":\"SaveTool\"},{\"attributes\":{\"callback\":null,\"factors\":[\"02\",\"01\",\"00\",\"23\",\"22\",\"21\",\"20\",\"19\",\"18\",\"17\",\"16\",\"15\",\"14\",\"13\",\"12\",\"11\",\"10\",\"09\",\"08\",\"07\",\"06\",\"05\",\"04\",\"03\"]},\"id\":\"7ac9014d-2c17-4f5c-9582-62903346230c\",\"type\":\"FactorRange\"},{\"attributes\":{\"formatter\":{\"id\":\"fdf37c6f-f440-42bf-8004-f6a1b9f7c4a2\",\"type\":\"CategoricalTickFormatter\"},\"plot\":{\"id\":\"754d1e92-782d-45a8-a9ce-c90a58c515cc\",\"subtype\":\"Figure\",\"type\":\"Plot\"},\"ticker\":{\"id\":\"2fbd82c7-0cc6-40a3-b380-96f11cd30549\",\"type\":\"CategoricalTicker\"}},\"id\":\"9109706d-2ff4-404f-b9d9-c3a83554df3f\",\"type\":\"CategoricalAxis\"},{\"attributes\":{},\"id\":\"4b037772-44c7-47f5-89eb-f4ca98beb49f\",\"type\":\"Selection\"},{\"attributes\":{\"formatter\":{\"id\":\"d8cac8ea-8dca-4ec2-999f-13614cb9aeea\",\"type\":\"BasicTickFormatter\"},\"plot\":{\"id\":\"754d1e92-782d-45a8-a9ce-c90a58c515cc\",\"subtype\":\"Figure\",\"type\":\"Plot\"},\"ticker\":{\"id\":\"0059c4b5-36b7-4cae-9982-315fdb9e3384\",\"type\":\"BasicTicker\"}},\"id\":\"0a19983f-eb4f-40d0-9d07-22175a98d617\",\"type\":\"LinearAxis\"},{\"attributes\":{\"active_drag\":\"auto\",\"active_inspect\":\"auto\",\"active_scroll\":\"auto\",\"active_tap\":\"auto\",\"tools\":[{\"id\":\"1211bc97-42c5-4c03-9175-7374832690a3\",\"type\":\"PanTool\"},{\"id\":\"1dacf8e3-924c-4422-86b3-b46cef3397fd\",\"type\":\"WheelZoomTool\"},{\"id\":\"cc5b1dd5-73eb-4ee4-8d13-6f949aedb298\",\"type\":\"BoxZoomTool\"},{\"id\":\"bcb9498e-e605-4332-88f0-df0ad559bd5b\",\"type\":\"SaveTool\"},{\"id\":\"18183887-e385-4e2c-a28a-0e3454a0ae90\",\"type\":\"ResetTool\"},{\"id\":\"eb2c33d3-c565-4e56-a484-a2475bc1566a\",\"type\":\"HelpTool\"}]},\"id\":\"ef01db36-df6b-4d4b-91c8-6fd05c29c6ad\",\"type\":\"Toolbar\"},{\"attributes\":{},\"id\":\"fdf37c6f-f440-42bf-8004-f6a1b9f7c4a2\",\"type\":\"CategoricalTickFormatter\"}],\"root_ids\":[\"754d1e92-782d-45a8-a9ce-c90a58c515cc\"]},\"title\":\"Bokeh Application\",\"version\":\"0.12.16\"}};\n",
       "  var render_items = [{\"docid\":\"18f8704e-3b6b-4134-8718-f3f67c178ae8\",\"elementid\":\"c8a051f9-e1ba-451e-8bf3-62df38cca3ef\",\"modelid\":\"754d1e92-782d-45a8-a9ce-c90a58c515cc\"}];\n",
       "  root.Bokeh.embed.embed_items_notebook(docs_json, render_items);\n",
       "\n",
       "  }\n",
       "  if (root.Bokeh !== undefined) {\n",
       "    embed_document(root);\n",
       "  } else {\n",
       "    var attempts = 0;\n",
       "    var timer = setInterval(function(root) {\n",
       "      if (root.Bokeh !== undefined) {\n",
       "        embed_document(root);\n",
       "        clearInterval(timer);\n",
       "      }\n",
       "      attempts++;\n",
       "      if (attempts > 100) {\n",
       "        console.log(\"Bokeh: ERROR: Unable to run BokehJS code because BokehJS library is missing\")\n",
       "        clearInterval(timer);\n",
       "      }\n",
       "    }, 10, root)\n",
       "  }\n",
       "})(window);"
      ],
      "application/vnd.bokehjs_exec.v0+json": ""
     },
     "metadata": {
      "application/vnd.bokehjs_exec.v0+json": {
       "id": "754d1e92-782d-45a8-a9ce-c90a58c515cc"
      }
     },
     "output_type": "display_data"
    }
   ],
   "source": [
    "p = make_barchart(df_complaints_by_hour, 'hour', 'count',\n",
    "                  {'title': 'Complaints by hour',\n",
    "                   'plot_width': 800, 'plot_height': 320})\n",
    "show(p)"
   ]
  },
  {
   "cell_type": "markdown",
   "metadata": {
    "nbgrader": {
     "grade": false,
     "locked": true,
     "solution": false
    },
    "nbpresent": {
     "id": "674c54f7-dd78-4f01-af25-9bef67a44833"
    }
   },
   "source": [
    "An unusual aspect of these data are the excessively large number of reports associated with hour 0 (midnight up to but excluding 1 am), which would probably strike you as suspicious. Indeed, the reason is that there are some complaints that are dated but with no associated time, which was recorded in the data as exactly `00:00:00.000`."
   ]
  },
  {
   "cell_type": "code",
   "execution_count": 52,
   "metadata": {
    "nbpresent": {
     "id": "20a45c3b-927f-4085-bcd8-9ee389d78219"
    }
   },
   "outputs": [
    {
     "data": {
      "text/html": [
       "<div>\n",
       "<style scoped>\n",
       "    .dataframe tbody tr th:only-of-type {\n",
       "        vertical-align: middle;\n",
       "    }\n",
       "\n",
       "    .dataframe tbody tr th {\n",
       "        vertical-align: top;\n",
       "    }\n",
       "\n",
       "    .dataframe thead th {\n",
       "        text-align: right;\n",
       "    }\n",
       "</style>\n",
       "<table border=\"1\" class=\"dataframe\">\n",
       "  <thead>\n",
       "    <tr style=\"text-align: right;\">\n",
       "      <th></th>\n",
       "      <th>COUNT(*)</th>\n",
       "    </tr>\n",
       "  </thead>\n",
       "  <tbody>\n",
       "    <tr>\n",
       "      <th>0</th>\n",
       "      <td>532285</td>\n",
       "    </tr>\n",
       "  </tbody>\n",
       "</table>\n",
       "</div>"
      ],
      "text/plain": [
       "   COUNT(*)\n",
       "0    532285"
      ]
     },
     "execution_count": 52,
     "metadata": {},
     "output_type": "execute_result"
    }
   ],
   "source": [
    "query = '''\n",
    "  SELECT COUNT(*)\n",
    "    FROM data\n",
    "    WHERE strftime ('%H:%M:%f', CreatedDate) = '00:00:00.000'\n",
    "'''\n",
    "\n",
    "pd.read_sql_query(query, disk_engine)"
   ]
  },
  {
   "cell_type": "markdown",
   "metadata": {
    "nbgrader": {
     "grade": false,
     "locked": true,
     "solution": false
    },
    "nbpresent": {
     "id": "e9ec9d63-dcdc-4df7-a0c9-aeefd333cd66"
    }
   },
   "source": [
    "**Exercise 7** (2 points). What is the most common hour for noise complaints? Compute a tibble called `df_noisy_by_hour` whose variables are {`hour`, `count`} and whose observations are the number of noise complaints that occurred during a given `hour`. Consider a \"noise complaint\" to be any complaint string containing the word `noise`. Be sure to filter out any dates _without_ an associated time, i.e., a timestamp of `00:00:00.000`."
   ]
  },
  {
   "cell_type": "code",
   "execution_count": 59,
   "metadata": {
    "deletable": false,
    "nbgrader": {
     "checksum": "2519d05a9f7b18466b152d20b0be88c9",
     "grade": false,
     "grade_id": "df_noisy_by_hour",
     "locked": false,
     "schema_version": 1,
     "solution": true
    },
    "nbpresent": {
     "id": "d61ad646-a163-4de6-a1ff-e3b983f00d99"
    },
    "scrolled": true
   },
   "outputs": [
    {
     "data": {
      "text/html": [
       "<div>\n",
       "<style scoped>\n",
       "    .dataframe tbody tr th:only-of-type {\n",
       "        vertical-align: middle;\n",
       "    }\n",
       "\n",
       "    .dataframe tbody tr th {\n",
       "        vertical-align: top;\n",
       "    }\n",
       "\n",
       "    .dataframe thead th {\n",
       "        text-align: right;\n",
       "    }\n",
       "</style>\n",
       "<table border=\"1\" class=\"dataframe\">\n",
       "  <thead>\n",
       "    <tr style=\"text-align: right;\">\n",
       "      <th></th>\n",
       "      <th>hour</th>\n",
       "      <th>count</th>\n",
       "    </tr>\n",
       "  </thead>\n",
       "  <tbody>\n",
       "    <tr>\n",
       "      <th>0</th>\n",
       "      <td>00</td>\n",
       "      <td>15349</td>\n",
       "    </tr>\n",
       "    <tr>\n",
       "      <th>1</th>\n",
       "      <td>01</td>\n",
       "      <td>11284</td>\n",
       "    </tr>\n",
       "    <tr>\n",
       "      <th>2</th>\n",
       "      <td>02</td>\n",
       "      <td>7170</td>\n",
       "    </tr>\n",
       "    <tr>\n",
       "      <th>3</th>\n",
       "      <td>03</td>\n",
       "      <td>4241</td>\n",
       "    </tr>\n",
       "    <tr>\n",
       "      <th>4</th>\n",
       "      <td>04</td>\n",
       "      <td>3083</td>\n",
       "    </tr>\n",
       "    <tr>\n",
       "      <th>5</th>\n",
       "      <td>05</td>\n",
       "      <td>2084</td>\n",
       "    </tr>\n",
       "    <tr>\n",
       "      <th>6</th>\n",
       "      <td>06</td>\n",
       "      <td>2832</td>\n",
       "    </tr>\n",
       "    <tr>\n",
       "      <th>7</th>\n",
       "      <td>07</td>\n",
       "      <td>3708</td>\n",
       "    </tr>\n",
       "    <tr>\n",
       "      <th>8</th>\n",
       "      <td>08</td>\n",
       "      <td>4553</td>\n",
       "    </tr>\n",
       "    <tr>\n",
       "      <th>9</th>\n",
       "      <td>09</td>\n",
       "      <td>5122</td>\n",
       "    </tr>\n",
       "    <tr>\n",
       "      <th>10</th>\n",
       "      <td>10</td>\n",
       "      <td>4672</td>\n",
       "    </tr>\n",
       "    <tr>\n",
       "      <th>11</th>\n",
       "      <td>11</td>\n",
       "      <td>4745</td>\n",
       "    </tr>\n",
       "    <tr>\n",
       "      <th>12</th>\n",
       "      <td>12</td>\n",
       "      <td>4316</td>\n",
       "    </tr>\n",
       "    <tr>\n",
       "      <th>13</th>\n",
       "      <td>13</td>\n",
       "      <td>4364</td>\n",
       "    </tr>\n",
       "    <tr>\n",
       "      <th>14</th>\n",
       "      <td>14</td>\n",
       "      <td>4505</td>\n",
       "    </tr>\n",
       "    <tr>\n",
       "      <th>15</th>\n",
       "      <td>15</td>\n",
       "      <td>4576</td>\n",
       "    </tr>\n",
       "    <tr>\n",
       "      <th>16</th>\n",
       "      <td>16</td>\n",
       "      <td>4957</td>\n",
       "    </tr>\n",
       "    <tr>\n",
       "      <th>17</th>\n",
       "      <td>17</td>\n",
       "      <td>5126</td>\n",
       "    </tr>\n",
       "    <tr>\n",
       "      <th>18</th>\n",
       "      <td>18</td>\n",
       "      <td>6797</td>\n",
       "    </tr>\n",
       "    <tr>\n",
       "      <th>19</th>\n",
       "      <td>19</td>\n",
       "      <td>7958</td>\n",
       "    </tr>\n",
       "    <tr>\n",
       "      <th>20</th>\n",
       "      <td>20</td>\n",
       "      <td>9790</td>\n",
       "    </tr>\n",
       "    <tr>\n",
       "      <th>21</th>\n",
       "      <td>21</td>\n",
       "      <td>12659</td>\n",
       "    </tr>\n",
       "    <tr>\n",
       "      <th>22</th>\n",
       "      <td>22</td>\n",
       "      <td>17155</td>\n",
       "    </tr>\n",
       "    <tr>\n",
       "      <th>23</th>\n",
       "      <td>23</td>\n",
       "      <td>19343</td>\n",
       "    </tr>\n",
       "  </tbody>\n",
       "</table>\n",
       "</div>"
      ],
      "text/plain": [
       "   hour  count\n",
       "0    00  15349\n",
       "1    01  11284\n",
       "2    02   7170\n",
       "3    03   4241\n",
       "4    04   3083\n",
       "5    05   2084\n",
       "6    06   2832\n",
       "7    07   3708\n",
       "8    08   4553\n",
       "9    09   5122\n",
       "10   10   4672\n",
       "11   11   4745\n",
       "12   12   4316\n",
       "13   13   4364\n",
       "14   14   4505\n",
       "15   15   4576\n",
       "16   16   4957\n",
       "17   17   5126\n",
       "18   18   6797\n",
       "19   19   7958\n",
       "20   20   9790\n",
       "21   21  12659\n",
       "22   22  17155\n",
       "23   23  19343"
      ]
     },
     "metadata": {},
     "output_type": "display_data"
    }
   ],
   "source": [
    "###\n",
    "query = '''\n",
    "    SELECT strftime ('%H', CreatedDate) AS hour, COUNT(ComplaintType) as count\n",
    "    FROM data\n",
    "    WHERE ComplaintType LIKE '%Noise%' AND strftime ('%H:%M:%f', CreatedDate) <> '00:00:00.000'\n",
    "    GROUP BY hour\n",
    "'''\n",
    "\n",
    "df_noisy_by_hour = pd.read_sql_query(query, disk_engine)\n",
    "###\n",
    "\n",
    "display(df_noisy_by_hour)"
   ]
  },
  {
   "cell_type": "code",
   "execution_count": 60,
   "metadata": {
    "deletable": false,
    "nbgrader": {
     "checksum": "bb7bf35e08281fcf0d874bbcf5f1d4fa",
     "grade": true,
     "grade_id": "df_noisy_by_hour_test",
     "locked": true,
     "points": 2,
     "schema_version": 1,
     "solution": false
    },
    "nbpresent": {
     "id": "2a0c6d57-1438-496d-8ad0-c9e691a2e464"
    },
    "scrolled": true
   },
   "outputs": [
    {
     "name": "stdout",
     "output_type": "stream",
     "text": [
      "Reading instructor's solution...\n"
     ]
    },
    {
     "data": {
      "text/html": [
       "<div>\n",
       "<style scoped>\n",
       "    .dataframe tbody tr th:only-of-type {\n",
       "        vertical-align: middle;\n",
       "    }\n",
       "\n",
       "    .dataframe tbody tr th {\n",
       "        vertical-align: top;\n",
       "    }\n",
       "\n",
       "    .dataframe thead th {\n",
       "        text-align: right;\n",
       "    }\n",
       "</style>\n",
       "<table border=\"1\" class=\"dataframe\">\n",
       "  <thead>\n",
       "    <tr style=\"text-align: right;\">\n",
       "      <th></th>\n",
       "      <th>hour</th>\n",
       "      <th>count</th>\n",
       "    </tr>\n",
       "  </thead>\n",
       "  <tbody>\n",
       "    <tr>\n",
       "      <th>0</th>\n",
       "      <td>0</td>\n",
       "      <td>15349</td>\n",
       "    </tr>\n",
       "    <tr>\n",
       "      <th>1</th>\n",
       "      <td>1</td>\n",
       "      <td>11284</td>\n",
       "    </tr>\n",
       "    <tr>\n",
       "      <th>2</th>\n",
       "      <td>2</td>\n",
       "      <td>7170</td>\n",
       "    </tr>\n",
       "    <tr>\n",
       "      <th>3</th>\n",
       "      <td>3</td>\n",
       "      <td>4241</td>\n",
       "    </tr>\n",
       "    <tr>\n",
       "      <th>4</th>\n",
       "      <td>4</td>\n",
       "      <td>3083</td>\n",
       "    </tr>\n",
       "    <tr>\n",
       "      <th>5</th>\n",
       "      <td>5</td>\n",
       "      <td>2084</td>\n",
       "    </tr>\n",
       "    <tr>\n",
       "      <th>6</th>\n",
       "      <td>6</td>\n",
       "      <td>2832</td>\n",
       "    </tr>\n",
       "    <tr>\n",
       "      <th>7</th>\n",
       "      <td>7</td>\n",
       "      <td>3708</td>\n",
       "    </tr>\n",
       "    <tr>\n",
       "      <th>8</th>\n",
       "      <td>8</td>\n",
       "      <td>4553</td>\n",
       "    </tr>\n",
       "    <tr>\n",
       "      <th>9</th>\n",
       "      <td>9</td>\n",
       "      <td>5122</td>\n",
       "    </tr>\n",
       "    <tr>\n",
       "      <th>10</th>\n",
       "      <td>10</td>\n",
       "      <td>4672</td>\n",
       "    </tr>\n",
       "    <tr>\n",
       "      <th>11</th>\n",
       "      <td>11</td>\n",
       "      <td>4745</td>\n",
       "    </tr>\n",
       "    <tr>\n",
       "      <th>12</th>\n",
       "      <td>12</td>\n",
       "      <td>4316</td>\n",
       "    </tr>\n",
       "    <tr>\n",
       "      <th>13</th>\n",
       "      <td>13</td>\n",
       "      <td>4364</td>\n",
       "    </tr>\n",
       "    <tr>\n",
       "      <th>14</th>\n",
       "      <td>14</td>\n",
       "      <td>4505</td>\n",
       "    </tr>\n",
       "    <tr>\n",
       "      <th>15</th>\n",
       "      <td>15</td>\n",
       "      <td>4576</td>\n",
       "    </tr>\n",
       "    <tr>\n",
       "      <th>16</th>\n",
       "      <td>16</td>\n",
       "      <td>4957</td>\n",
       "    </tr>\n",
       "    <tr>\n",
       "      <th>17</th>\n",
       "      <td>17</td>\n",
       "      <td>5126</td>\n",
       "    </tr>\n",
       "    <tr>\n",
       "      <th>18</th>\n",
       "      <td>18</td>\n",
       "      <td>6797</td>\n",
       "    </tr>\n",
       "    <tr>\n",
       "      <th>19</th>\n",
       "      <td>19</td>\n",
       "      <td>7958</td>\n",
       "    </tr>\n",
       "    <tr>\n",
       "      <th>20</th>\n",
       "      <td>20</td>\n",
       "      <td>9790</td>\n",
       "    </tr>\n",
       "    <tr>\n",
       "      <th>21</th>\n",
       "      <td>21</td>\n",
       "      <td>12659</td>\n",
       "    </tr>\n",
       "    <tr>\n",
       "      <th>22</th>\n",
       "      <td>22</td>\n",
       "      <td>17155</td>\n",
       "    </tr>\n",
       "    <tr>\n",
       "      <th>23</th>\n",
       "      <td>23</td>\n",
       "      <td>19343</td>\n",
       "    </tr>\n",
       "  </tbody>\n",
       "</table>\n",
       "</div>"
      ],
      "text/plain": [
       "    hour  count\n",
       "0      0  15349\n",
       "1      1  11284\n",
       "2      2   7170\n",
       "3      3   4241\n",
       "4      4   3083\n",
       "5      5   2084\n",
       "6      6   2832\n",
       "7      7   3708\n",
       "8      8   4553\n",
       "9      9   5122\n",
       "10    10   4672\n",
       "11    11   4745\n",
       "12    12   4316\n",
       "13    13   4364\n",
       "14    14   4505\n",
       "15    15   4576\n",
       "16    16   4957\n",
       "17    17   5126\n",
       "18    18   6797\n",
       "19    19   7958\n",
       "20    20   9790\n",
       "21    21  12659\n",
       "22    22  17155\n",
       "23    23  19343"
      ]
     },
     "metadata": {},
     "output_type": "display_data"
    },
    {
     "name": "stdout",
     "output_type": "stream",
     "text": [
      "\n",
      "(Passed.)\n"
     ]
    }
   ],
   "source": [
    "# Test cell: `df_noisy_by_hour_test`\n",
    "\n",
    "print (\"Reading instructor's solution...\")\n",
    "if False:\n",
    "    df_noisy_by_hour.to_csv('df_noisy_by_hour_soln.csv', index=False)\n",
    "df_noisy_by_hour_soln = pd.read_csv ('df_noisy_by_hour_soln.csv')\n",
    "display(df_noisy_by_hour_soln)\n",
    "\n",
    "df_noisy_by_hour_norm = df_noisy_by_hour.copy()\n",
    "df_noisy_by_hour_norm['hour'] = \\\n",
    "    df_noisy_by_hour_norm['hour'].apply(int)\n",
    "assert tibbles_are_equivalent (df_noisy_by_hour_norm,\n",
    "                               df_noisy_by_hour_soln)\n",
    "print (\"\\n(Passed.)\")"
   ]
  },
  {
   "cell_type": "code",
   "execution_count": 61,
   "metadata": {
    "nbpresent": {
     "id": "9850fa6b-d951-4f9f-9d23-c8243a75487c"
    },
    "scrolled": true
   },
   "outputs": [
    {
     "data": {
      "text/html": [
       "\n",
       "<div class=\"bk-root\">\n",
       "    <div class=\"bk-plotdiv\" id=\"8e3e2c96-b2d8-412d-8317-6bc320090dcc\"></div>\n",
       "</div>"
      ]
     },
     "metadata": {},
     "output_type": "display_data"
    },
    {
     "data": {
      "application/javascript": [
       "(function(root) {\n",
       "  function embed_document(root) {\n",
       "    \n",
       "  var docs_json = {\"3b62e622-4e91-452b-b03a-2626c84d814b\":{\"roots\":{\"references\":[{\"attributes\":{},\"id\":\"25af3a12-a1ef-4372-b19b-4360c84d87fb\",\"type\":\"CategoricalTickFormatter\"},{\"attributes\":{\"callback\":null,\"data\":{\"top\":[15349,11284,7170,4241,3083,2084,2832,3708,4553,5122,4672,4745,4316,4364,4505,4576,4957,5126,6797,7958,9790,12659,17155,19343],\"x\":[\"00\",\"01\",\"02\",\"03\",\"04\",\"05\",\"06\",\"07\",\"08\",\"09\",\"10\",\"11\",\"12\",\"13\",\"14\",\"15\",\"16\",\"17\",\"18\",\"19\",\"20\",\"21\",\"22\",\"23\"]},\"selected\":{\"id\":\"afdf8c27-7867-4170-af12-338b0dad7f10\",\"type\":\"Selection\"},\"selection_policy\":{\"id\":\"881a9164-c9c5-4d50-8410-3b6156028c88\",\"type\":\"UnionRenderers\"}},\"id\":\"91333ef3-ed61-4e1b-93f8-480276e9205a\",\"type\":\"ColumnDataSource\"},{\"attributes\":{\"overlay\":{\"id\":\"50368b04-cd01-46c3-a71b-26b9144e5d9e\",\"type\":\"BoxAnnotation\"}},\"id\":\"f79748be-3eae-41c5-ad5e-76d090233df7\",\"type\":\"BoxZoomTool\"},{\"attributes\":{\"callback\":null},\"id\":\"ad6ce4e1-3ee0-4b7c-adeb-440222d6730e\",\"type\":\"DataRange1d\"},{\"attributes\":{\"callback\":null,\"factors\":[\"00\",\"01\",\"02\",\"03\",\"04\",\"05\",\"06\",\"07\",\"08\",\"09\",\"10\",\"11\",\"12\",\"13\",\"14\",\"15\",\"16\",\"17\",\"18\",\"19\",\"20\",\"21\",\"22\",\"23\"]},\"id\":\"1946a04f-f79f-4864-a438-85a9df9b3ea0\",\"type\":\"FactorRange\"},{\"attributes\":{\"dimension\":1,\"plot\":{\"id\":\"3c6bee7a-dac1-4b17-a8af-4d11396a1799\",\"subtype\":\"Figure\",\"type\":\"Plot\"},\"ticker\":{\"id\":\"dc6a3a2f-5611-43a8-8daa-ce372a5768d4\",\"type\":\"BasicTicker\"}},\"id\":\"6fb81d2e-9760-4996-8c13-eb0aa90cde62\",\"type\":\"Grid\"},{\"attributes\":{\"plot\":{\"id\":\"3c6bee7a-dac1-4b17-a8af-4d11396a1799\",\"subtype\":\"Figure\",\"type\":\"Plot\"},\"ticker\":{\"id\":\"2913229a-6237-4ce0-910c-8a57dfa7af73\",\"type\":\"CategoricalTicker\"}},\"id\":\"e983aad4-aa6c-425b-80a3-20bb93c6766c\",\"type\":\"Grid\"},{\"attributes\":{\"bottom_units\":\"screen\",\"fill_alpha\":{\"value\":0.5},\"fill_color\":{\"value\":\"lightgrey\"},\"left_units\":\"screen\",\"level\":\"overlay\",\"line_alpha\":{\"value\":1.0},\"line_color\":{\"value\":\"black\"},\"line_dash\":[4,4],\"line_width\":{\"value\":2},\"plot\":null,\"render_mode\":\"css\",\"right_units\":\"screen\",\"top_units\":\"screen\"},\"id\":\"50368b04-cd01-46c3-a71b-26b9144e5d9e\",\"type\":\"BoxAnnotation\"},{\"attributes\":{\"below\":[{\"id\":\"76c140b4-b13c-4530-8e09-a7bb01014639\",\"type\":\"CategoricalAxis\"}],\"left\":[{\"id\":\"9c3c5e51-aa23-4bc8-9caf-327020ce09fb\",\"type\":\"LinearAxis\"}],\"plot_height\":320,\"plot_width\":800,\"renderers\":[{\"id\":\"76c140b4-b13c-4530-8e09-a7bb01014639\",\"type\":\"CategoricalAxis\"},{\"id\":\"e983aad4-aa6c-425b-80a3-20bb93c6766c\",\"type\":\"Grid\"},{\"id\":\"9c3c5e51-aa23-4bc8-9caf-327020ce09fb\",\"type\":\"LinearAxis\"},{\"id\":\"6fb81d2e-9760-4996-8c13-eb0aa90cde62\",\"type\":\"Grid\"},{\"id\":\"50368b04-cd01-46c3-a71b-26b9144e5d9e\",\"type\":\"BoxAnnotation\"},{\"id\":\"5fc09e01-af46-490f-b4a9-f4af6433f2c9\",\"type\":\"GlyphRenderer\"}],\"title\":{\"id\":\"605868a1-1f34-4367-a337-f9df30ba46b7\",\"type\":\"Title\"},\"toolbar\":{\"id\":\"98a7c6ee-3ae9-431c-8e7d-7331a1ef4b67\",\"type\":\"Toolbar\"},\"x_range\":{\"id\":\"1946a04f-f79f-4864-a438-85a9df9b3ea0\",\"type\":\"FactorRange\"},\"x_scale\":{\"id\":\"240699a4-a113-45e9-a543-e28c742b486e\",\"type\":\"CategoricalScale\"},\"y_range\":{\"id\":\"ad6ce4e1-3ee0-4b7c-adeb-440222d6730e\",\"type\":\"DataRange1d\"},\"y_scale\":{\"id\":\"d7788f2d-6820-4d2d-b583-154d5fee953a\",\"type\":\"LinearScale\"}},\"id\":\"3c6bee7a-dac1-4b17-a8af-4d11396a1799\",\"subtype\":\"Figure\",\"type\":\"Plot\"},{\"attributes\":{\"formatter\":{\"id\":\"f48716a0-7bf7-428f-a516-a0f4636dea02\",\"type\":\"BasicTickFormatter\"},\"plot\":{\"id\":\"3c6bee7a-dac1-4b17-a8af-4d11396a1799\",\"subtype\":\"Figure\",\"type\":\"Plot\"},\"ticker\":{\"id\":\"dc6a3a2f-5611-43a8-8daa-ce372a5768d4\",\"type\":\"BasicTicker\"}},\"id\":\"9c3c5e51-aa23-4bc8-9caf-327020ce09fb\",\"type\":\"LinearAxis\"},{\"attributes\":{},\"id\":\"dc6a3a2f-5611-43a8-8daa-ce372a5768d4\",\"type\":\"BasicTicker\"},{\"attributes\":{\"formatter\":{\"id\":\"25af3a12-a1ef-4372-b19b-4360c84d87fb\",\"type\":\"CategoricalTickFormatter\"},\"plot\":{\"id\":\"3c6bee7a-dac1-4b17-a8af-4d11396a1799\",\"subtype\":\"Figure\",\"type\":\"Plot\"},\"ticker\":{\"id\":\"2913229a-6237-4ce0-910c-8a57dfa7af73\",\"type\":\"CategoricalTicker\"}},\"id\":\"76c140b4-b13c-4530-8e09-a7bb01014639\",\"type\":\"CategoricalAxis\"},{\"attributes\":{},\"id\":\"afdf8c27-7867-4170-af12-338b0dad7f10\",\"type\":\"Selection\"},{\"attributes\":{},\"id\":\"f48716a0-7bf7-428f-a516-a0f4636dea02\",\"type\":\"BasicTickFormatter\"},{\"attributes\":{},\"id\":\"d7788f2d-6820-4d2d-b583-154d5fee953a\",\"type\":\"LinearScale\"},{\"attributes\":{},\"id\":\"240699a4-a113-45e9-a543-e28c742b486e\",\"type\":\"CategoricalScale\"},{\"attributes\":{\"active_drag\":\"auto\",\"active_inspect\":\"auto\",\"active_scroll\":\"auto\",\"active_tap\":\"auto\",\"tools\":[{\"id\":\"bce60de5-28ee-4a41-85da-b3fa018a0ddc\",\"type\":\"PanTool\"},{\"id\":\"04908237-8e83-40bd-b167-0698c128ad4c\",\"type\":\"WheelZoomTool\"},{\"id\":\"f79748be-3eae-41c5-ad5e-76d090233df7\",\"type\":\"BoxZoomTool\"},{\"id\":\"3a13cea8-cd99-4621-9218-cca06ba2697a\",\"type\":\"SaveTool\"},{\"id\":\"f23b3645-eb23-4306-a89a-61dce9247af9\",\"type\":\"ResetTool\"},{\"id\":\"aafa6622-0793-45ac-9f77-86bef1288480\",\"type\":\"HelpTool\"}]},\"id\":\"98a7c6ee-3ae9-431c-8e7d-7331a1ef4b67\",\"type\":\"Toolbar\"},{\"attributes\":{},\"id\":\"2913229a-6237-4ce0-910c-8a57dfa7af73\",\"type\":\"CategoricalTicker\"},{\"attributes\":{\"fill_alpha\":{\"value\":0.1},\"fill_color\":{\"value\":\"#1f77b4\"},\"line_alpha\":{\"value\":0.1},\"line_color\":{\"value\":\"#1f77b4\"},\"top\":{\"field\":\"top\"},\"width\":{\"value\":0.9},\"x\":{\"field\":\"x\"}},\"id\":\"4c94c50e-f8db-400b-bd23-f89d840ec79b\",\"type\":\"VBar\"},{\"attributes\":{\"data_source\":{\"id\":\"91333ef3-ed61-4e1b-93f8-480276e9205a\",\"type\":\"ColumnDataSource\"},\"glyph\":{\"id\":\"7132b880-9f91-442d-bfff-766aa67d157c\",\"type\":\"VBar\"},\"hover_glyph\":null,\"muted_glyph\":null,\"nonselection_glyph\":{\"id\":\"4c94c50e-f8db-400b-bd23-f89d840ec79b\",\"type\":\"VBar\"},\"selection_glyph\":null,\"view\":{\"id\":\"cb7f825a-bac3-4979-b1c9-9f2439143dfc\",\"type\":\"CDSView\"}},\"id\":\"5fc09e01-af46-490f-b4a9-f4af6433f2c9\",\"type\":\"GlyphRenderer\"},{\"attributes\":{},\"id\":\"aafa6622-0793-45ac-9f77-86bef1288480\",\"type\":\"HelpTool\"},{\"attributes\":{},\"id\":\"f23b3645-eb23-4306-a89a-61dce9247af9\",\"type\":\"ResetTool\"},{\"attributes\":{\"fill_color\":{\"value\":\"#1f77b4\"},\"line_color\":{\"value\":\"#1f77b4\"},\"top\":{\"field\":\"top\"},\"width\":{\"value\":0.9},\"x\":{\"field\":\"x\"}},\"id\":\"7132b880-9f91-442d-bfff-766aa67d157c\",\"type\":\"VBar\"},{\"attributes\":{\"plot\":null,\"text\":\"Noise complaints by hour\"},\"id\":\"605868a1-1f34-4367-a337-f9df30ba46b7\",\"type\":\"Title\"},{\"attributes\":{},\"id\":\"3a13cea8-cd99-4621-9218-cca06ba2697a\",\"type\":\"SaveTool\"},{\"attributes\":{},\"id\":\"881a9164-c9c5-4d50-8410-3b6156028c88\",\"type\":\"UnionRenderers\"},{\"attributes\":{},\"id\":\"04908237-8e83-40bd-b167-0698c128ad4c\",\"type\":\"WheelZoomTool\"},{\"attributes\":{},\"id\":\"bce60de5-28ee-4a41-85da-b3fa018a0ddc\",\"type\":\"PanTool\"},{\"attributes\":{\"source\":{\"id\":\"91333ef3-ed61-4e1b-93f8-480276e9205a\",\"type\":\"ColumnDataSource\"}},\"id\":\"cb7f825a-bac3-4979-b1c9-9f2439143dfc\",\"type\":\"CDSView\"}],\"root_ids\":[\"3c6bee7a-dac1-4b17-a8af-4d11396a1799\"]},\"title\":\"Bokeh Application\",\"version\":\"0.12.16\"}};\n",
       "  var render_items = [{\"docid\":\"3b62e622-4e91-452b-b03a-2626c84d814b\",\"elementid\":\"8e3e2c96-b2d8-412d-8317-6bc320090dcc\",\"modelid\":\"3c6bee7a-dac1-4b17-a8af-4d11396a1799\"}];\n",
       "  root.Bokeh.embed.embed_items_notebook(docs_json, render_items);\n",
       "\n",
       "  }\n",
       "  if (root.Bokeh !== undefined) {\n",
       "    embed_document(root);\n",
       "  } else {\n",
       "    var attempts = 0;\n",
       "    var timer = setInterval(function(root) {\n",
       "      if (root.Bokeh !== undefined) {\n",
       "        embed_document(root);\n",
       "        clearInterval(timer);\n",
       "      }\n",
       "      attempts++;\n",
       "      if (attempts > 100) {\n",
       "        console.log(\"Bokeh: ERROR: Unable to run BokehJS code because BokehJS library is missing\")\n",
       "        clearInterval(timer);\n",
       "      }\n",
       "    }, 10, root)\n",
       "  }\n",
       "})(window);"
      ],
      "application/vnd.bokehjs_exec.v0+json": ""
     },
     "metadata": {
      "application/vnd.bokehjs_exec.v0+json": {
       "id": "3c6bee7a-dac1-4b17-a8af-4d11396a1799"
      }
     },
     "output_type": "display_data"
    }
   ],
   "source": [
    "p = make_barchart(df_noisy_by_hour, 'hour', 'count',\n",
    "                  {'title': 'Noise complaints by hour',\n",
    "                   'plot_width': 800, 'plot_height': 320})\n",
    "show(p)"
   ]
  },
  {
   "cell_type": "markdown",
   "metadata": {
    "nbgrader": {
     "grade": false,
     "locked": true,
     "solution": false
    },
    "nbpresent": {
     "id": "5e81087c-d19d-497b-9d5c-1a614527a025"
    }
   },
   "source": [
    "**Exercise 8** (ungraded). Create a line chart to show the fraction of complaints (y-axis) associated with each hour of the day (x-axis), with each complaint type shown as a differently colored line. Show just the top 5 complaints (`top_complaints[:5]`). Remember to exclude complaints with a zero-timestamp (i.e., `00:00:00.000`).\n",
    "\n",
    "> **Note.** This exercise is ungraded but we recommend spending some time giving it a try! Feel free to discuss your approaches to this problem on the discussion forums (but do try to do it yourself first). One library you may find useful to try out is holoviews (http://holoviews.org/index.html)"
   ]
  },
  {
   "cell_type": "code",
   "execution_count": 66,
   "metadata": {
    "deletable": false,
    "nbgrader": {
     "checksum": "280124f2ac984097c40d682f7a7af997",
     "grade": true,
     "grade_id": "complaint_types_by_hour",
     "locked": false,
     "points": 0,
     "schema_version": 1,
     "solution": true
    },
    "nbpresent": {
     "id": "396c64c5-fcdb-49dc-9c7b-dddd10cc8d2e"
    },
    "scrolled": false
   },
   "outputs": [
    {
     "name": "stderr",
     "output_type": "stream",
     "text": [
      "WARNING:root:notebook_extension: Holoviews bokeh extension could not be imported, it raised the following exception: AttributeError('module 'bokeh.models.tools' has no attribute 'FreehandDrawTool'')\n"
     ]
    },
    {
     "ename": "ImportError",
     "evalue": "None of the backends could be imported",
     "output_type": "error",
     "traceback": [
      "\u001b[0;31m---------------------------------------------------------------------------\u001b[0m",
      "\u001b[0;31mImportError\u001b[0m                               Traceback (most recent call last)",
      "\u001b[0;32m<ipython-input-66-e57ab8b178a8>\u001b[0m in \u001b[0;36m<module>\u001b[0;34m()\u001b[0m\n\u001b[1;32m      1\u001b[0m \u001b[0;32mimport\u001b[0m \u001b[0mholoviews\u001b[0m \u001b[0;32mas\u001b[0m \u001b[0mhv\u001b[0m\u001b[0;34m\u001b[0m\u001b[0m\n\u001b[0;32m----> 2\u001b[0;31m \u001b[0mhv\u001b[0m\u001b[0;34m.\u001b[0m\u001b[0mextension\u001b[0m\u001b[0;34m(\u001b[0m\u001b[0;34m'bokeh'\u001b[0m\u001b[0;34m)\u001b[0m\u001b[0;34m\u001b[0m\u001b[0m\n\u001b[0m\u001b[1;32m      3\u001b[0m \u001b[0;32mfrom\u001b[0m \u001b[0mholoviews\u001b[0m \u001b[0;32mimport\u001b[0m \u001b[0mBars\u001b[0m\u001b[0;34m\u001b[0m\u001b[0m\n",
      "\u001b[0;32m/opt/conda/lib/python3.6/site-packages/param/parameterized.py\u001b[0m in \u001b[0;36m__new__\u001b[0;34m(class_, *args, **params)\u001b[0m\n\u001b[1;32m   2540\u001b[0m         \u001b[0minst\u001b[0m \u001b[0;34m=\u001b[0m \u001b[0mclass_\u001b[0m\u001b[0;34m.\u001b[0m\u001b[0minstance\u001b[0m\u001b[0;34m(\u001b[0m\u001b[0;34m)\u001b[0m\u001b[0;34m\u001b[0m\u001b[0m\n\u001b[1;32m   2541\u001b[0m         \u001b[0minst\u001b[0m\u001b[0;34m.\u001b[0m\u001b[0mparam\u001b[0m\u001b[0;34m.\u001b[0m\u001b[0m_set_name\u001b[0m\u001b[0;34m(\u001b[0m\u001b[0mclass_\u001b[0m\u001b[0;34m.\u001b[0m\u001b[0m__name__\u001b[0m\u001b[0;34m)\u001b[0m\u001b[0;34m\u001b[0m\u001b[0m\n\u001b[0;32m-> 2542\u001b[0;31m         \u001b[0;32mreturn\u001b[0m \u001b[0minst\u001b[0m\u001b[0;34m.\u001b[0m\u001b[0m__call__\u001b[0m\u001b[0;34m(\u001b[0m\u001b[0;34m*\u001b[0m\u001b[0margs\u001b[0m\u001b[0;34m,\u001b[0m\u001b[0;34m**\u001b[0m\u001b[0mparams\u001b[0m\u001b[0;34m)\u001b[0m\u001b[0;34m\u001b[0m\u001b[0m\n\u001b[0m\u001b[1;32m   2543\u001b[0m \u001b[0;34m\u001b[0m\u001b[0m\n\u001b[1;32m   2544\u001b[0m     \u001b[0;32mdef\u001b[0m \u001b[0m__call__\u001b[0m\u001b[0;34m(\u001b[0m\u001b[0mself\u001b[0m\u001b[0;34m,\u001b[0m\u001b[0;34m*\u001b[0m\u001b[0margs\u001b[0m\u001b[0;34m,\u001b[0m\u001b[0;34m**\u001b[0m\u001b[0mkw\u001b[0m\u001b[0;34m)\u001b[0m\u001b[0;34m:\u001b[0m\u001b[0;34m\u001b[0m\u001b[0m\n",
      "\u001b[0;32m/opt/conda/lib/python3.6/site-packages/holoviews/ipython/__init__.py\u001b[0m in \u001b[0;36m__call__\u001b[0;34m(self, *args, **params)\u001b[0m\n\u001b[1;32m    108\u001b[0m \u001b[0;34m\u001b[0m\u001b[0m\n\u001b[1;32m    109\u001b[0m     \u001b[0;32mdef\u001b[0m \u001b[0m__call__\u001b[0m\u001b[0;34m(\u001b[0m\u001b[0mself\u001b[0m\u001b[0;34m,\u001b[0m \u001b[0;34m*\u001b[0m\u001b[0margs\u001b[0m\u001b[0;34m,\u001b[0m \u001b[0;34m**\u001b[0m\u001b[0mparams\u001b[0m\u001b[0;34m)\u001b[0m\u001b[0;34m:\u001b[0m\u001b[0;34m\u001b[0m\u001b[0m\n\u001b[0;32m--> 110\u001b[0;31m         \u001b[0msuper\u001b[0m\u001b[0;34m(\u001b[0m\u001b[0mnotebook_extension\u001b[0m\u001b[0;34m,\u001b[0m \u001b[0mself\u001b[0m\u001b[0;34m)\u001b[0m\u001b[0;34m.\u001b[0m\u001b[0m__call__\u001b[0m\u001b[0;34m(\u001b[0m\u001b[0;34m*\u001b[0m\u001b[0margs\u001b[0m\u001b[0;34m,\u001b[0m \u001b[0;34m**\u001b[0m\u001b[0mparams\u001b[0m\u001b[0;34m)\u001b[0m\u001b[0;34m\u001b[0m\u001b[0m\n\u001b[0m\u001b[1;32m    111\u001b[0m         \u001b[0;31m# Abort if IPython not found\u001b[0m\u001b[0;34m\u001b[0m\u001b[0;34m\u001b[0m\u001b[0m\n\u001b[1;32m    112\u001b[0m         \u001b[0;32mtry\u001b[0m\u001b[0;34m:\u001b[0m\u001b[0;34m\u001b[0m\u001b[0m\n",
      "\u001b[0;32m/opt/conda/lib/python3.6/site-packages/holoviews/util/__init__.py\u001b[0m in \u001b[0;36m__call__\u001b[0;34m(self, *args, **params)\u001b[0m\n\u001b[1;32m    631\u001b[0m \u001b[0;34m\u001b[0m\u001b[0m\n\u001b[1;32m    632\u001b[0m         \u001b[0;32mif\u001b[0m \u001b[0mselected_backend\u001b[0m \u001b[0;32mis\u001b[0m \u001b[0;32mNone\u001b[0m\u001b[0;34m:\u001b[0m\u001b[0;34m\u001b[0m\u001b[0m\n\u001b[0;32m--> 633\u001b[0;31m             \u001b[0;32mraise\u001b[0m \u001b[0mImportError\u001b[0m\u001b[0;34m(\u001b[0m\u001b[0;34m'None of the backends could be imported'\u001b[0m\u001b[0;34m)\u001b[0m\u001b[0;34m\u001b[0m\u001b[0m\n\u001b[0m\u001b[1;32m    634\u001b[0m         \u001b[0mStore\u001b[0m\u001b[0;34m.\u001b[0m\u001b[0mset_current_backend\u001b[0m\u001b[0;34m(\u001b[0m\u001b[0mselected_backend\u001b[0m\u001b[0;34m)\u001b[0m\u001b[0;34m\u001b[0m\u001b[0m\n\u001b[1;32m    635\u001b[0m \u001b[0;34m\u001b[0m\u001b[0m\n",
      "\u001b[0;31mImportError\u001b[0m: None of the backends could be imported"
     ]
    }
   ],
   "source": [
    "import holoviews as hv\n",
    "hv.extension('bokeh')\n",
    "from holoviews import Bars"
   ]
  },
  {
   "cell_type": "code",
   "execution_count": 70,
   "metadata": {},
   "outputs": [
    {
     "data": {
      "text/html": [
       "<div>\n",
       "<style scoped>\n",
       "    .dataframe tbody tr th:only-of-type {\n",
       "        vertical-align: middle;\n",
       "    }\n",
       "\n",
       "    .dataframe tbody tr th {\n",
       "        vertical-align: top;\n",
       "    }\n",
       "\n",
       "    .dataframe thead th {\n",
       "        text-align: right;\n",
       "    }\n",
       "</style>\n",
       "<table border=\"1\" class=\"dataframe\">\n",
       "  <thead>\n",
       "    <tr style=\"text-align: right;\">\n",
       "      <th></th>\n",
       "      <th>hour</th>\n",
       "      <th>complaint_count</th>\n",
       "      <th>ComplaintType</th>\n",
       "      <th>count</th>\n",
       "    </tr>\n",
       "  </thead>\n",
       "  <tbody>\n",
       "    <tr>\n",
       "      <th>0</th>\n",
       "      <td>00</td>\n",
       "      <td>0.0</td>\n",
       "      <td>APPLIANCE</td>\n",
       "      <td>33</td>\n",
       "    </tr>\n",
       "    <tr>\n",
       "      <th>1</th>\n",
       "      <td>00</td>\n",
       "      <td>0.0</td>\n",
       "      <td>Adopt-A-Basket</td>\n",
       "      <td>1</td>\n",
       "    </tr>\n",
       "    <tr>\n",
       "      <th>2</th>\n",
       "      <td>00</td>\n",
       "      <td>0.0</td>\n",
       "      <td>Agency Issues</td>\n",
       "      <td>47</td>\n",
       "    </tr>\n",
       "    <tr>\n",
       "      <th>3</th>\n",
       "      <td>00</td>\n",
       "      <td>0.0</td>\n",
       "      <td>Air Quality</td>\n",
       "      <td>86</td>\n",
       "    </tr>\n",
       "    <tr>\n",
       "      <th>4</th>\n",
       "      <td>00</td>\n",
       "      <td>0.0</td>\n",
       "      <td>Animal Abuse</td>\n",
       "      <td>190</td>\n",
       "    </tr>\n",
       "  </tbody>\n",
       "</table>\n",
       "</div>"
      ],
      "text/plain": [
       "  hour  complaint_count   ComplaintType  count\n",
       "0   00              0.0       APPLIANCE     33\n",
       "1   00              0.0  Adopt-A-Basket      1\n",
       "2   00              0.0   Agency Issues     47\n",
       "3   00              0.0     Air Quality     86\n",
       "4   00              0.0    Animal Abuse    190"
      ]
     },
     "metadata": {},
     "output_type": "display_data"
    }
   ],
   "source": [
    "###\n",
    "query = '''\n",
    "    SELECT strftime ('%H', CreatedDate) AS hour, SUM(ComplaintType) as complaint_count, \n",
    "        ComplaintType, COUNT(ComplaintType) as count\n",
    "    FROM data\n",
    "    WHERE strftime ('%H:%M:%f', CreatedDate) <> '00:00:00.000'\n",
    "    GROUP BY ComplaintType, hour\n",
    "    ORDER BY hour\n",
    "'''\n",
    "\n",
    "df = pd.read_sql_query(query, disk_engine)\n",
    "display(df.head())\n",
    "\n",
    "###"
   ]
  },
  {
   "cell_type": "markdown",
   "metadata": {
    "nbgrader": {
     "grade": false,
     "locked": true,
     "solution": false
    },
    "nbpresent": {
     "id": "5f08feb8-ec73-4c71-9f22-9c9f2d00b418"
    }
   },
   "source": [
    "### Learn more\n",
    "\n",
    "- Find more open data sets on [Data.gov](https://data.gov) and [NYC Open Data](https://nycopendata.socrata.com)\n",
    "- Learn how to setup [MySql with Pandas and Plotly](http://moderndata.plot.ly/graph-data-from-mysql-database-in-python/)\n",
    "- Big data workflows with [HDF5 and Pandas](http://stackoverflow.com/questions/14262433/large-data-work-flows-using-pandas)"
   ]
  }
 ],
 "metadata": {
  "anaconda-cloud": [],
  "celltoolbar": "Create Assignment",
  "kernelspec": {
   "display_name": "Python 3",
   "language": "python",
   "name": "python3"
  },
  "language_info": {
   "codemirror_mode": {
    "name": "ipython",
    "version": 3
   },
   "file_extension": ".py",
   "mimetype": "text/x-python",
   "name": "python",
   "nbconvert_exporter": "python",
   "pygments_lexer": "ipython3",
   "version": "3.6.5"
  },
  "nbpresent": {
   "slides": {
    "44693b5c-1b6d-4a8a-93dd-9c739ac5f85b": {
     "id": "44693b5c-1b6d-4a8a-93dd-9c739ac5f85b",
     "prev": null,
     "regions": {
      "f1a0724d-d92a-4c41-8b5c-9d5becd385c6": {
       "attrs": {
        "height": 1,
        "width": 1,
        "x": 0.024495214835409,
        "y": -0.019794140456002
       },
       "id": "f1a0724d-d92a-4c41-8b5c-9d5becd385c6"
      }
     }
    }
   },
   "themes": []
  }
 },
 "nbformat": 4,
 "nbformat_minor": 1
}
