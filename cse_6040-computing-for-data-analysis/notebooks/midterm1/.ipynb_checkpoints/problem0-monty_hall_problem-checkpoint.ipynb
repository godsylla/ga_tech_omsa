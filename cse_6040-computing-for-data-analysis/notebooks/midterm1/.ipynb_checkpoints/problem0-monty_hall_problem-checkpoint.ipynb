{
 "cells": [
  {
   "cell_type": "markdown",
   "metadata": {
    "nbgrader": {
     "grade": false,
     "locked": true,
     "solution": false
    }
   },
   "source": [
    "## Simulating Monty Hall Problem"
   ]
  },
  {
   "cell_type": "markdown",
   "metadata": {
    "nbgrader": {
     "grade": false,
     "locked": true,
     "solution": false
    }
   },
   "source": [
    "In this problem, we will be writing pieces to simulate the [Monty hall problem](https://en.wikipedia.org/wiki/Monty_Hall_problem). Monty Hall was the host of \"Let's Make a Deal\" in the 1960's and 70's.\n",
    "\n",
    "The problem can be summarized by the following:\n",
    "\n",
    "> Suppose you're on a game show, and you're given the choice of three doors: Behind one door is a car; behind the others, goats. You pick a door, say No. 1, and the host, who knows what's behind the doors, opens another door, say No. 3, which has a goat. He then says to you, \"Do you want to pick door No. 2?\" Is it to your advantage to switch your choice?\n",
    "\n",
    "> 1. The host must always open a door that was not picked by the contestant.\n",
    "1. The host must always open a door to reveal a goat and never the car.\n",
    "1. The host must always offer the chance to switch between the originally chosen door and the remaining closed door.\n",
    "\n",
    "\n",
    "The typical problem is for 3 doors but we can easily extend it to any number of doors. The simulation for this problem can be designed in different ways. However, we will focus our design using Python's dictionary and string objects along with some basic concepts of probability theory. \n",
    "\n",
    "**Caveat for the whole notebook** - This problem specifically deals with probabilities and simulations. Wherever required, we have implemented 99.7% confidence intervals for checking your answers. Do keep in mind that there is a probability (very small) that your answer lies beyond this interval. In such a scenario, you might want to re-run the test cell. "
   ]
  },
  {
   "cell_type": "markdown",
   "metadata": {
    "nbgrader": {
     "grade": false,
     "locked": true,
     "solution": false
    }
   },
   "source": [
    "**Exercise 0** (2 points) Complete the function `initialize_game()` which has 1 input argument:\n",
    "- `n`: The total number of doors\n",
    "\n",
    "The function will place a car behind one of the **n** doors **randomly and uniformly** (following Uniform Distribution).  \n",
    "\n",
    "The function returns a dictionary with:\n",
    "\n",
    "- keys as strings in the pattern 'Door _x_', where $1 \\leq x \\leq n$, and \n",
    "- values as either the string 'Goat' or the string 'Car'.\n",
    "\n",
    "There can only be one 'Car' in the dictionary. All the other values shall be 'Goat'.\n",
    "\n",
    "**Example**: For `n = 5`, `'Car'` can be behind any door from `'Door 1'` to `'Door 5'`. In this case, `'Car'` is behind `'Door 2'`, the function should return:   \n",
    "`{'Door 1': 'Goat', 'Door 2': 'Car', 'Door 3': 'Goat', 'Door 4': 'Goat', 'Door 5': 'Goat'}` "
   ]
  },
  {
   "cell_type": "code",
   "execution_count": 1,
   "metadata": {},
   "outputs": [],
   "source": [
    "def initialize_game(n):\n",
    "    from random import randrange\n",
    "    #\n",
    "    idx_with_car = randrange(n)\n",
    "    \n",
    "    prizes = [''] * n \n",
    "    for i in range(n):\n",
    "        if i == idx_with_car:\n",
    "            prizes[i] = 'Car'\n",
    "        else:\n",
    "            prizes[i] = 'Goat'\n",
    "    \n",
    "    keys = ['Door ' + str(i+1) for i in range(n)]\n",
    "    \n",
    "    return dict(zip(keys, prizes))\n",
    "    #"
   ]
  },
  {
   "cell_type": "code",
   "execution_count": 2,
   "metadata": {
    "nbgrader": {
     "grade": true,
     "grade_id": "test_ex_0",
     "locked": true,
     "points": "2",
     "solution": false
    },
    "scrolled": true
   },
   "outputs": [
    {
     "name": "stdout",
     "output_type": "stream",
     "text": [
      "\n",
      "Passed!\n"
     ]
    }
   ],
   "source": [
    "## Test code\n",
    "import numpy as np\n",
    "# Testing for 3 Doors\n",
    "door_dict = initialize_game(3)\n",
    "assert type(door_dict) is dict, \"Make sure returned object is a dictionary\"\n",
    "assert len(door_dict) == 3, \"Incorrect number of keys in dictionary\"\n",
    "assert 'Door 1' in door_dict and 'Door 2' in door_dict and 'Door 3' in door_dict, \"Some keys missing in returned dictionary\"\n",
    "\n",
    "d1 = d2 = d3 = 0\n",
    "\n",
    "\n",
    "for  i in range(10000):\n",
    "    door_dict = initialize_game(3)\n",
    "    if door_dict['Door 1'] == 'Car':\n",
    "        d1 += 1/10000\n",
    "    elif door_dict['Door 2'] == 'Car':\n",
    "        d2 += 1/10000\n",
    "    else:\n",
    "        d3 += 1/10000\n",
    "\n",
    "assert  0.36 > d1 and d1 >= 0.30, 'Function initialize_game() might not be doing correct random assignments'\n",
    "assert  0.36 > d2 and d2 >= 0.30, 'Function initialize_game() might not be doing correct random assignments'\n",
    "assert  0.36 > d3 and d3 >= 0.30, 'Function initialize_game() might not be doing correct random assignments'\n",
    "\n",
    "\n",
    "# Testing for 5 Doors\n",
    "door_dict = initialize_game(5)\n",
    "assert type(door_dict) is dict, \"Make sure returned object is a dictionary\"\n",
    "assert len(door_dict) == 5, \"Incorrect number of keys in dictionary\"\n",
    "assert 'Door 1' in door_dict and 'Door 2' in door_dict and 'Door 3' in door_dict and 'Door 4' in door_dict and 'Door 5' in door_dict, \"Some keys missing in returnd dictionary\"\n",
    "\n",
    "d = [0]*5\n",
    "for  i in range(10000):\n",
    "    door_dict = initialize_game(5)\n",
    "    if door_dict['Door 1'] == 'Car':\n",
    "        d[0] += 1/10000\n",
    "    elif door_dict['Door 2'] == 'Car':\n",
    "        d[1] += 1/10000\n",
    "    elif door_dict['Door 3'] == 'Car':\n",
    "        d[2] += 1/10000\n",
    "    elif door_dict['Door 4'] == 'Car':\n",
    "        d[3] += 1/10000\n",
    "    else:\n",
    "        d[4] += 1/10000\n",
    "\n",
    "for i in range(len(d)):\n",
    "    assert 0.24 > d[i] and d[i] >= 0.16, 'Function might not be intializing game following uniform distribution'\n",
    "\n",
    "print(\"\\nPassed!\")"
   ]
  },
  {
   "cell_type": "code",
   "execution_count": 3,
   "metadata": {},
   "outputs": [
    {
     "data": {
      "text/plain": [
       "{'Door 1': 'Goat',\n",
       " 'Door 2': 'Goat',\n",
       " 'Door 3': 'Car',\n",
       " 'Door 4': 'Goat',\n",
       " 'Door 5': 'Goat'}"
      ]
     },
     "execution_count": 3,
     "metadata": {},
     "output_type": "execute_result"
    }
   ],
   "source": [
    "my_door_dict = initialize_game(5)\n",
    "my_door_dict"
   ]
  },
  {
   "cell_type": "markdown",
   "metadata": {
    "nbgrader": {
     "grade": false,
     "locked": true,
     "solution": false
    }
   },
   "source": [
    "**Exercise 1** (1 point) Complete the function `first_choice()` which has 1 input argument: \n",
    "\n",
    "- `door_dict`:  A dictionary representing every numbered door and what that door is hiding (a dictionary similar to that returned by function `intitialize_game(n)`)\n",
    "\n",
    "The goal here is to create a function where the player decides his/her first choice of door **randomly and uniformly** (following Uniform Distribution). \n",
    "\n",
    "The function returns `int` value indicating the door number selected by player depending on number of doors in `door_dict`"
   ]
  },
  {
   "cell_type": "code",
   "execution_count": 4,
   "metadata": {},
   "outputs": [],
   "source": [
    "def first_choice(door_dict:dict) -> int:\n",
    "#\n",
    "    import numpy as np\n",
    "    n = len(door_dict)\n",
    "    doors = [i+1 for i in range(n)]\n",
    "    \n",
    "    return round(int(np.random.choice(doors)))\n",
    "#"
   ]
  },
  {
   "cell_type": "code",
   "execution_count": 5,
   "metadata": {},
   "outputs": [
    {
     "data": {
      "text/plain": [
       "2"
      ]
     },
     "execution_count": 5,
     "metadata": {},
     "output_type": "execute_result"
    }
   ],
   "source": [
    "my_first_choice = first_choice(my_door_dict)\n",
    "my_first_choice"
   ]
  },
  {
   "cell_type": "code",
   "execution_count": 6,
   "metadata": {
    "nbgrader": {
     "grade": true,
     "grade_id": "test_ex_1",
     "locked": true,
     "points": "1",
     "solution": false
    }
   },
   "outputs": [
    {
     "name": "stdout",
     "output_type": "stream",
     "text": [
      "\n",
      "Passed!\n"
     ]
    }
   ],
   "source": [
    "# Test code\n",
    "door_dict = {'Door 1': 'Car', 'Door 2': 'Goat', 'Door 3': 'Goat'}\n",
    "door = first_choice(door_dict)\n",
    "assert type(door) is int, 'Expected int found {}'.format(type(door))\n",
    "# Test for 3 doors\n",
    "d = [0]*3\n",
    "for  i in range(10000):\n",
    "    door = first_choice(door_dict)\n",
    "    d[door - 1] += 1/10000\n",
    "for i in range(3):\n",
    "    assert  0.36 >= d[i] and d[i]>= 0.30, 'Function might not be choosing players first choice uniformly for 3 door game'\n",
    "\n",
    "# Testing for 5 Doors\n",
    "d = [0]*5\n",
    "door_dict = {'Door 1': 'Car', 'Door 2': 'Goat', 'Door 3': 'Goat', 'Door 4': 'Goat', 'Door 5': 'Goat'}\n",
    "for  i in range(10000):\n",
    "    door = first_choice(door_dict)\n",
    "    d[door -1] += 1/10000\n",
    "for i in range(5):\n",
    "    assert  0.25 > d[i] and d[i] >= 0.15, 'Function might not be choosing players first choice uniformly for 5 door game'\n",
    "\n",
    "print(\"\\nPassed!\")"
   ]
  },
  {
   "cell_type": "markdown",
   "metadata": {
    "nbgrader": {
     "grade": false,
     "locked": true,
     "solution": false
    }
   },
   "source": [
    "**Exercise 2** (3 points) Complete the function `monty_opens()` which has 3 input arguments. \n",
    "\n",
    "- `door_dict`: A dictionary similar to that returned by function `initialize_game()`\n",
    "- `player_door`: An integer value denoting the player's first choice of door\n",
    "- `k`: The number of doors to be opened by Monty\n",
    "\n",
    "The function simulates Monty opening a door after the player has already picked an unopened door as their first choice. Opening a door is modelled by deleting goat doors from dictionary `door_dict`. \n",
    "\n",
    "The function returns the modified `door_dict`.\n",
    "\n",
    "There are 2 situations you need to consider:\n",
    "\n",
    "- **Case 1**: If the player's first choice has a `Goat` behind the door, then Monty will open **k** goat doors out of the remaining **n-2** goat doors randomly and uniformly. (Each goat door except player door equally likely to be opened). \n",
    "\n",
    "- **Case 2**: If the player's first choice has a `Car` behind the door, then Monty will open **k** goat doors out of the remaining **n-1** goat doors randomly and uniformly. (Each goat door equally likely to be opened). \n",
    "\n",
    "**Note:** Player door and car door can never be opened. \n",
    "\n",
    "**Example**: Given input:\n",
    "- `door_dict` = `{'Door 1': 'Goat', 'Door 2': 'Car', 'Door 3': 'Goat', 'Door 4': 'Goat', 'Door 5': 'Goat'}`\n",
    "- The player's first choice is `player_door` = 1 (meaning 'Door 1')\n",
    "- `k = 2`, means Monty will open 2 doors out of `n-2=3` goat doors, which are Door 3, 4 and 5.\n",
    "\n",
    "Therefore, your function should return  `door_dict = {'Door 1': 'Goat', 'Door 2': 'Car', 'Door x': 'Goat'}`.\n",
    "- If Monty opens Door 3 and 4 -> x = 5    \n",
    "- If Monty opens Door 3 and 5 -> x = 4    \n",
    "- If Monty opens Door 4 and 5 -> x = 3   \n"
   ]
  },
  {
   "cell_type": "code",
   "execution_count": null,
   "metadata": {},
   "outputs": [],
   "source": [
    "if selection == prize:\n",
    "        remaining = list(set(doors) - set(prize))\n",
    "        open_door = random.choice(list(set(doors) - set(random.choice(remaining))))\n",
    "        alternate = random.choice(list(set(doors) - set(open_door) - set(prize)))\n",
    "\n",
    "else:\n",
    "        open_door = random.choice(list(set(doors) - set(selection) - set(prize)))\n",
    "        alternate = random.choice(list(set(doors) - set(open_door) - set(selection)))"
   ]
  },
  {
   "cell_type": "code",
   "execution_count": 253,
   "metadata": {},
   "outputs": [],
   "source": [
    "import random\n",
    "\n",
    "def monty_opens(door_dict:dict, player_door:int, k:int) -> dict:\n",
    "    assert type(door_dict) is dict, \"input variable door_dict should be a dictionary\"\n",
    "    assert k <= len(door_dict) - 2, \"Incorrect number of doors to be opened in dictionary\"\n",
    "    \n",
    "    tracking_dict = dict()\n",
    "\n",
    "    # Available doors to choose from\n",
    "    doors = list(door_dict.keys())\n",
    "    \n",
    "    first_selection = str()\n",
    "    prize_door = str()\n",
    "    \n",
    "    for d, pr in door_dict.items():\n",
    "        if str(player_door) in d:\n",
    "            first_selection = d\n",
    "        if pr == 'Car':\n",
    "            prize_door = d\n",
    "            tracking_dict[d] = pr\n",
    "            \n",
    "    if first_selection == prize_door:\n",
    "        # Case where Player opens door with Car behind it\n",
    "        # n-1 choices remaining\n",
    "        remaining_choices = random.choice(list(set(doors) - set(first_selection))) \n",
    "        \n",
    "        chances_left = k-1\n",
    "        while chances_left != 0:            \n",
    "            open_door = random.choice(list(set(doors) - set(random.choice(remaining_choices))))\n",
    "            alternate = random.choice(list(set(doors) - set(open_door) - set(prize_door)))\n",
    "        \n",
    "            tracking_dict[alternate] = door_dict[alternate]\n",
    "            choices_left -= 1\n",
    "    else:\n",
    "        choices_left = k-2\n",
    "        while choices_left != 0:\n",
    "            open_door = random.choice(list(set(doors) - set(first_selection) - set(prize))) # make sure they don't choose car\n",
    "            alternate = random.choice(list(set(doors) - set(open_door) - set(first_selection)))\n",
    "            tracking_dict[alternate] = door_dict[alternate]\n",
    "            choices_left -= 1\n",
    "    \n",
    "    return tracking_dict\n",
    "        "
   ]
  },
  {
   "cell_type": "code",
   "execution_count": 254,
   "metadata": {
    "scrolled": true
   },
   "outputs": [
    {
     "ename": "KeyboardInterrupt",
     "evalue": "",
     "output_type": "error",
     "traceback": [
      "\u001b[0;31m---------------------------------------------------------------------------\u001b[0m",
      "\u001b[0;31mKeyboardInterrupt\u001b[0m                         Traceback (most recent call last)",
      "\u001b[0;32m<ipython-input-254-2ab87a2dd26c>\u001b[0m in \u001b[0;36m<module>\u001b[0;34m()\u001b[0m\n\u001b[1;32m      1\u001b[0m \u001b[0mtest_door_dict3\u001b[0m \u001b[0;34m=\u001b[0m \u001b[0;34m{\u001b[0m\u001b[0;34m'Door 1'\u001b[0m\u001b[0;34m:\u001b[0m \u001b[0;34m'Goat'\u001b[0m\u001b[0;34m,\u001b[0m \u001b[0;34m'Door 2'\u001b[0m\u001b[0;34m:\u001b[0m \u001b[0;34m'Car'\u001b[0m\u001b[0;34m,\u001b[0m \u001b[0;34m'Door 3'\u001b[0m\u001b[0;34m:\u001b[0m \u001b[0;34m'Goat'\u001b[0m\u001b[0;34m,\u001b[0m \u001b[0;34m'Door 4'\u001b[0m\u001b[0;34m:\u001b[0m \u001b[0;34m'Goat'\u001b[0m\u001b[0;34m,\u001b[0m \u001b[0;34m'Door 5'\u001b[0m\u001b[0;34m:\u001b[0m \u001b[0;34m'Goat'\u001b[0m\u001b[0;34m}\u001b[0m\u001b[0;34m\u001b[0m\u001b[0m\n\u001b[0;32m----> 2\u001b[0;31m \u001b[0mmonty_opens\u001b[0m\u001b[0;34m(\u001b[0m\u001b[0mtest_door_dict3\u001b[0m\u001b[0;34m,\u001b[0m \u001b[0;36m3\u001b[0m\u001b[0;34m,\u001b[0m \u001b[0;36m1\u001b[0m\u001b[0;34m)\u001b[0m\u001b[0;34m\u001b[0m\u001b[0m\n\u001b[0m",
      "\u001b[0;32m<ipython-input-253-b1bce91daad1>\u001b[0m in \u001b[0;36mmonty_opens\u001b[0;34m(door_dict, player_door, k)\u001b[0m\n\u001b[1;32m     36\u001b[0m         \u001b[0;32mwhile\u001b[0m \u001b[0mchoices_left\u001b[0m \u001b[0;34m!=\u001b[0m \u001b[0;36m0\u001b[0m\u001b[0;34m:\u001b[0m\u001b[0;34m\u001b[0m\u001b[0m\n\u001b[1;32m     37\u001b[0m             \u001b[0mopen_door\u001b[0m \u001b[0;34m=\u001b[0m \u001b[0mrandom\u001b[0m\u001b[0;34m.\u001b[0m\u001b[0mchoice\u001b[0m\u001b[0;34m(\u001b[0m\u001b[0mlist\u001b[0m\u001b[0;34m(\u001b[0m\u001b[0mset\u001b[0m\u001b[0;34m(\u001b[0m\u001b[0mdoors\u001b[0m\u001b[0;34m)\u001b[0m \u001b[0;34m-\u001b[0m \u001b[0mset\u001b[0m\u001b[0;34m(\u001b[0m\u001b[0mfirst_selection\u001b[0m\u001b[0;34m)\u001b[0m \u001b[0;34m-\u001b[0m \u001b[0mset\u001b[0m\u001b[0;34m(\u001b[0m\u001b[0mprize\u001b[0m\u001b[0;34m)\u001b[0m\u001b[0;34m)\u001b[0m\u001b[0;34m)\u001b[0m \u001b[0;31m# make sure they don't choose car\u001b[0m\u001b[0;34m\u001b[0m\u001b[0m\n\u001b[0;32m---> 38\u001b[0;31m             \u001b[0malternate\u001b[0m \u001b[0;34m=\u001b[0m \u001b[0mrandom\u001b[0m\u001b[0;34m.\u001b[0m\u001b[0mchoice\u001b[0m\u001b[0;34m(\u001b[0m\u001b[0mlist\u001b[0m\u001b[0;34m(\u001b[0m\u001b[0mset\u001b[0m\u001b[0;34m(\u001b[0m\u001b[0mdoors\u001b[0m\u001b[0;34m)\u001b[0m \u001b[0;34m-\u001b[0m \u001b[0mset\u001b[0m\u001b[0;34m(\u001b[0m\u001b[0mopen_door\u001b[0m\u001b[0;34m)\u001b[0m \u001b[0;34m-\u001b[0m \u001b[0mset\u001b[0m\u001b[0;34m(\u001b[0m\u001b[0mfirst_selection\u001b[0m\u001b[0;34m)\u001b[0m\u001b[0;34m)\u001b[0m\u001b[0;34m)\u001b[0m\u001b[0;34m\u001b[0m\u001b[0m\n\u001b[0m\u001b[1;32m     39\u001b[0m             \u001b[0mtracking_dict\u001b[0m\u001b[0;34m[\u001b[0m\u001b[0malternate\u001b[0m\u001b[0;34m]\u001b[0m \u001b[0;34m=\u001b[0m \u001b[0mdoor_dict\u001b[0m\u001b[0;34m[\u001b[0m\u001b[0malternate\u001b[0m\u001b[0;34m]\u001b[0m\u001b[0;34m\u001b[0m\u001b[0m\n\u001b[1;32m     40\u001b[0m             \u001b[0mchoices_left\u001b[0m \u001b[0;34m-=\u001b[0m \u001b[0;36m1\u001b[0m\u001b[0;34m\u001b[0m\u001b[0m\n",
      "\u001b[0;32m/opt/conda/lib/python3.6/random.py\u001b[0m in \u001b[0;36mchoice\u001b[0;34m(self, seq)\u001b[0m\n\u001b[1;32m    254\u001b[0m         \u001b[0;34m\"\"\"Choose a random element from a non-empty sequence.\"\"\"\u001b[0m\u001b[0;34m\u001b[0m\u001b[0m\n\u001b[1;32m    255\u001b[0m         \u001b[0;32mtry\u001b[0m\u001b[0;34m:\u001b[0m\u001b[0;34m\u001b[0m\u001b[0m\n\u001b[0;32m--> 256\u001b[0;31m             \u001b[0mi\u001b[0m \u001b[0;34m=\u001b[0m \u001b[0mself\u001b[0m\u001b[0;34m.\u001b[0m\u001b[0m_randbelow\u001b[0m\u001b[0;34m(\u001b[0m\u001b[0mlen\u001b[0m\u001b[0;34m(\u001b[0m\u001b[0mseq\u001b[0m\u001b[0;34m)\u001b[0m\u001b[0;34m)\u001b[0m\u001b[0;34m\u001b[0m\u001b[0m\n\u001b[0m\u001b[1;32m    257\u001b[0m         \u001b[0;32mexcept\u001b[0m \u001b[0mValueError\u001b[0m\u001b[0;34m:\u001b[0m\u001b[0;34m\u001b[0m\u001b[0m\n\u001b[1;32m    258\u001b[0m             \u001b[0;32mraise\u001b[0m \u001b[0mIndexError\u001b[0m\u001b[0;34m(\u001b[0m\u001b[0;34m'Cannot choose from an empty sequence'\u001b[0m\u001b[0;34m)\u001b[0m \u001b[0;32mfrom\u001b[0m \u001b[0;32mNone\u001b[0m\u001b[0;34m\u001b[0m\u001b[0m\n",
      "\u001b[0;31mKeyboardInterrupt\u001b[0m: "
     ]
    }
   ],
   "source": [
    "test_door_dict3 = {'Door 1': 'Goat', 'Door 2': 'Car', 'Door 3': 'Goat', 'Door 4': 'Goat', 'Door 5': 'Goat'}\n",
    "monty_opens(test_door_dict3, 3, 1)"
   ]
  },
  {
   "cell_type": "code",
   "execution_count": 9,
   "metadata": {},
   "outputs": [
    {
     "name": "stdout",
     "output_type": "stream",
     "text": [
      "My initial door dictionary:  {'Door 1': 'Goat', 'Door 2': 'Car', 'Door 3': 'Goat'}\n",
      "My first door choice:  2\n",
      "Number of doors to be opened:  1\n",
      "\n",
      "\n",
      "Unopened doors:  {'Door 2': 'Car', 'Door 1': 'Goat'}\n",
      "Remaining doors to choose from: {'Door 3': 'Goat'}\n"
     ]
    }
   ],
   "source": [
    "my_door_dict = {'Door 1': 'Goat', 'Door 2': 'Car', 'Door 3': 'Goat'}\n",
    "my_first_choice = 2\n",
    "\n",
    "print('My initial door dictionary: ', my_door_dict)\n",
    "print('My first door choice: ', my_first_choice)\n",
    "\n",
    "\n",
    "my_unopened_doors = dict()\n",
    "\n",
    "k = 1\n",
    "print('Number of doors to be opened: ', k)\n",
    "print('\\n')\n",
    "\n",
    "\n",
    "temp_door_dict = my_door_dict.copy()\n",
    "n_tries = len(temp_door_dict)\n",
    "\n",
    "for door, prize in my_door_dict.items():\n",
    "    if prize == 'Car':\n",
    "        my_unopened_doors[door] = prize\n",
    "        temp_door_dict.pop(door, prize)\n",
    "    \n",
    "    if str(my_first_choice) in door:\n",
    "        my_unopened_doors[door] = prize\n",
    "        temp_door_dict.pop(door, prize)\n",
    "        \n",
    "if len(my_unopened_doors) >= 2:\n",
    "    n = k-2\n",
    "    while n != 0 and len(my_unopened_doors) < k :\n",
    "        next_choice = random.choice(list(temp_door_dict.keys()))\n",
    "        my_unopened_doors[next_choice] = my_door_dict[next_choice]\n",
    "        temp_door_dict.pop(next_choice)\n",
    "        n_tries - 1\n",
    "        \n",
    "elif len(my_unopened_doors) != 2:\n",
    "    next_choice = random.choice(list(temp_door_dict.keys()))\n",
    "    my_unopened_doors[next_choice] = my_door_dict[next_choice]\n",
    "    temp_door_dict.pop(next_choice)\n",
    "    \n",
    "\n",
    "print('Unopened doors: ', my_unopened_doors)\n",
    "print('Remaining doors to choose from:', temp_door_dict)"
   ]
  },
  {
   "cell_type": "code",
   "execution_count": 259,
   "metadata": {},
   "outputs": [],
   "source": [
    "import random\n",
    "\n",
    "def monty_opens(door_dict, player_door, k):\n",
    "    assert type(door_dict) is dict, \"input variable door_dict should be a dictionary\"\n",
    "    assert k <= len(door_dict) - 2, \"Incorrect number of doors to be opened in dictionary\"\n",
    "\n",
    "    # instantiate a new dictionary\n",
    "    unopened_doors = dict()\n",
    "    \n",
    "    # keep track of the number of remaining doors to be opened, start it at k\n",
    "    n_tries = k\n",
    "    \n",
    "    # keep track of the number of doors to choose from after each choice is made\n",
    "    remaining_doors_dict = door_dict.copy()\n",
    "    \n",
    "    for door, prize in door_dict.items():\n",
    "        if prize == 'Car':\n",
    "            unopened_doors[door] = prize\n",
    "            remaining_doors_dict.pop(door, prize)\n",
    "\n",
    "        if str(player_door) in door:\n",
    "            unopened_doors[door] = prize\n",
    "            remaining_doors_dict.pop(door, prize)\n",
    "    \n",
    "    if len(unopened_doors) >= 2:  # Case: player_door did not have a 'Car' behind it\n",
    "        n_tries = k-2\n",
    "        while n_tries != 0 and len(unopened_doors) < k : # Keep trying until tries are exhausted\n",
    "            next_choice = random.choice(list(remaining_doors_dict.keys()))\n",
    "            unopened_doors[next_choice] = door_dict[next_choice]\n",
    "            remaining_doors_dict.pop(next_choice) # Remove it from available options to choose from\n",
    "            n_tries -= 1 # Decrement the number of remaining tries\n",
    "\n",
    "    elif len(unopened_doors) < 2:  # Case: player_door has a 'Car' behind it\n",
    "        next_choice = random.choice(list(remaining_doors_dict.keys()))\n",
    "        unopened_doors[next_choice] = door_dict[next_choice]\n",
    "        remaining_doors_dict.pop(next_choice)\n",
    "\n",
    "    door_dict = unopened_doors.copy()\n",
    "    return door_dict"
   ]
  },
  {
   "cell_type": "code",
   "execution_count": 260,
   "metadata": {},
   "outputs": [],
   "source": [
    "test_door_dict = {'Door 1': 'Goat', 'Door 2': 'Car', 'Door 3': 'Goat'}"
   ]
  },
  {
   "cell_type": "code",
   "execution_count": 261,
   "metadata": {},
   "outputs": [
    {
     "data": {
      "text/plain": [
       "{'Door 2': 'Car', 'Door 1': 'Goat'}"
      ]
     },
     "execution_count": 261,
     "metadata": {},
     "output_type": "execute_result"
    }
   ],
   "source": [
    "monty_opens(test_door_dict, 2, 1)"
   ]
  },
  {
   "cell_type": "code",
   "execution_count": 262,
   "metadata": {
    "nbgrader": {
     "grade": true,
     "grade_id": "test_ex_2",
     "locked": true,
     "points": "3",
     "solution": false
    }
   },
   "outputs": [
    {
     "ename": "AssertionError",
     "evalue": "Doors not opening not uniformly and randomly",
     "output_type": "error",
     "traceback": [
      "\u001b[0;31m---------------------------------------------------------------------------\u001b[0m",
      "\u001b[0;31mAssertionError\u001b[0m                            Traceback (most recent call last)",
      "\u001b[0;32m<ipython-input-262-49525bca0961>\u001b[0m in \u001b[0;36m<module>\u001b[0;34m()\u001b[0m\n\u001b[1;32m     44\u001b[0m \u001b[0;32massert\u001b[0m \u001b[0md\u001b[0m\u001b[0;34m[\u001b[0m\u001b[0mn_doors\u001b[0m \u001b[0;34m-\u001b[0m\u001b[0;36m1\u001b[0m\u001b[0;34m]\u001b[0m \u001b[0;34m==\u001b[0m \u001b[0;36m10000\u001b[0m\u001b[0;34m,\u001b[0m \u001b[0;34m'Car door should never be removed from doo dict'\u001b[0m\u001b[0;34m\u001b[0m\u001b[0m\n\u001b[1;32m     45\u001b[0m \u001b[0;32mfor\u001b[0m \u001b[0mi\u001b[0m \u001b[0;32min\u001b[0m \u001b[0mrange\u001b[0m\u001b[0;34m(\u001b[0m\u001b[0;36m1\u001b[0m\u001b[0;34m,\u001b[0m \u001b[0mn_doors\u001b[0m \u001b[0;34m-\u001b[0m \u001b[0;36m1\u001b[0m\u001b[0;34m)\u001b[0m\u001b[0;34m:\u001b[0m\u001b[0;34m\u001b[0m\u001b[0m\n\u001b[0;32m---> 46\u001b[0;31m     \u001b[0;32massert\u001b[0m  \u001b[0mk\u001b[0m\u001b[0;34m/\u001b[0m\u001b[0;34m(\u001b[0m\u001b[0mn_doors\u001b[0m \u001b[0;34m-\u001b[0m \u001b[0;36m2\u001b[0m\u001b[0;34m)\u001b[0m\u001b[0;34m*\u001b[0m\u001b[0;34m(\u001b[0m\u001b[0;36m0.8\u001b[0m\u001b[0;34m)\u001b[0m \u001b[0;34m<=\u001b[0m \u001b[0;34m(\u001b[0m\u001b[0;36m1\u001b[0m \u001b[0;34m-\u001b[0m  \u001b[0md\u001b[0m\u001b[0;34m[\u001b[0m\u001b[0mi\u001b[0m\u001b[0;34m]\u001b[0m\u001b[0;34m/\u001b[0m\u001b[0;36m10000\u001b[0m\u001b[0;34m)\u001b[0m \u001b[0;34m<=\u001b[0m \u001b[0mk\u001b[0m\u001b[0;34m/\u001b[0m\u001b[0;34m(\u001b[0m\u001b[0mn_doors\u001b[0m \u001b[0;34m-\u001b[0m \u001b[0;36m2\u001b[0m\u001b[0;34m)\u001b[0m\u001b[0;34m*\u001b[0m\u001b[0;34m(\u001b[0m\u001b[0;36m1.2\u001b[0m\u001b[0;34m)\u001b[0m\u001b[0;34m,\u001b[0m \u001b[0;34m'Doors not opening not uniformly and randomly'\u001b[0m\u001b[0;34m\u001b[0m\u001b[0m\n\u001b[0m\u001b[1;32m     47\u001b[0m \u001b[0;34m\u001b[0m\u001b[0m\n\u001b[1;32m     48\u001b[0m \u001b[0mprint\u001b[0m\u001b[0;34m(\u001b[0m\u001b[0;34m\"\\nPassed!\"\u001b[0m\u001b[0;34m)\u001b[0m\u001b[0;34m\u001b[0m\u001b[0m\n",
      "\u001b[0;31mAssertionError\u001b[0m: Doors not opening not uniformly and randomly"
     ]
    }
   ],
   "source": [
    "##### Test code\n",
    "\n",
    "# Case 1: Player's first choice has Goat in 3 door Monty hall Game\n",
    "door_dict = {'Door 1': 'Goat', 'Door 2': 'Car', 'Door 3': 'Goat'}\n",
    "door_dict = monty_opens(door_dict, 1, 1)\n",
    "assert type(door_dict) is dict, \"Make sure returned object is a dictionary\"\n",
    "assert len(door_dict) == 2, \"Incorrect number of keys in dictionary\"\n",
    "assert 'Door 1' in door_dict and 'Door 2' in door_dict, \"Incorrect key removed\"\n",
    "door_dict = {'Door 1': 'Car', 'Door 2': 'Goat', 'Door 3': 'Goat'}\n",
    "door_dict = monty_opens(door_dict, 3, 1)\n",
    "assert len(door_dict) == 2, \"Incorrect number of keys in dictionary\"\n",
    "assert 'Door 1' in door_dict and 'Door 3' in door_dict, \"Incorrect key removed\"\n",
    "\n",
    "# Case 2: Player's first choice has Car\n",
    "d1 = 0\n",
    "d3 = 0\n",
    "for i in range(10000):\n",
    "    door_dict = {'Door 1': 'Goat', 'Door 2': 'Car', 'Door 3': 'Goat'}\n",
    "    player_door = 2\n",
    "    door_dict = monty_opens(door_dict, 2, 1)\n",
    "    if 'Door 1' in door_dict:\n",
    "        d1 += 1/10000\n",
    "    else:\n",
    "        d3 += 1/10000\n",
    "assert  0.53 > d1 and d1 >= 0.47, 'Make sure that door is being opened randomly and uniformly'\n",
    "assert  0.53 > d3 and d3 >= 0.47, 'Make sure that door is being opened randomly and uniformly'\n",
    "\n",
    "# Case 3: Checking Random number of intial doors and random number of doors opened by Monty\n",
    "import random\n",
    "n_doors = random.randint(8, 13) \n",
    "k = random.randint(3, 6) \n",
    "car_door = 'Door ' + str(n_doors) \n",
    "player_door = 'Door 1'\n",
    "d = [0]*n_doors\n",
    "for i in range(10000):\n",
    "    door_dict = {}\n",
    "    for i in range(n_doors):\n",
    "        door_dict[\"Door \" + str(i + 1) ] = \"Goat\"\n",
    "    door_dict[\"Door \" + str(n_doors) ] = \"Car\"\n",
    "    door_dict = monty_opens(door_dict, 1, k)\n",
    "    for key, val in door_dict.items():\n",
    "        d[int(key[5:]) - 1] += 1\n",
    "assert d[0] == 10000, 'Player door should never be removed from door dict'\n",
    "assert d[n_doors -1] == 10000, 'Car door should never be removed from doo dict'\n",
    "for i in range(1, n_doors - 1):\n",
    "    assert  k/(n_doors - 2)*(0.8) <= (1 -  d[i]/10000) <= k/(n_doors - 2)*(1.2), 'Doors not opening not uniformly and randomly'\n",
    "\n",
    "print(\"\\nPassed!\")"
   ]
  },
  {
   "cell_type": "markdown",
   "metadata": {
    "nbgrader": {
     "grade": false,
     "locked": true,
     "solution": false
    }
   },
   "source": [
    "**Exercise 3** (2 points) Complete the function `final_decision()` which has 3 input arguments:\n",
    "\n",
    "- `door_dict`: A dictionary after Monty has opened `k` doors using `monty_opens()` function\n",
    "- `player_door`: An integer value denoting player's first choice\n",
    "- `decision`: A string value, either `'Stay'` or `'Switch'`, depending on whether player decides to stay with first choice or switch to another door\n",
    "\n",
    "The function returns string `'Won'` if player wins the game and string `'Lost'` if he/she loses, depending on the player's decision to switch the door or not. \n",
    "\n",
    "The function simulates either: \n",
    "\n",
    "- staying with the first choice of doors, in which case the first choice door (`player_door`) is opened, and either a car or a goat is revealed, or\n",
    "- switching to another door, in which case any of the doors that were NOT the first choice could be selected uniformly and randomly. The selected door is then opened, and either a car or a goat is revealed."
   ]
  },
  {
   "cell_type": "code",
   "execution_count": 201,
   "metadata": {},
   "outputs": [],
   "source": [
    "def final_decision(door_dict:dict, player_door:int, decision:str) -> str:\n",
    "    import random\n",
    "    \n",
    "    doors = list(door_dict.keys())\n",
    "    \n",
    "    first_selection = str()\n",
    "    prize_door = str()  \n",
    "    \n",
    "    for d, pr in door_dict.items():\n",
    "        if str(player_door) in d:\n",
    "            first_selection = d\n",
    "        if pr == 'Car':\n",
    "            prize_door = d\n",
    "                \n",
    "    # Establish some rules\n",
    "    remaining_doors = [d for d in doors if d != first_selection]\n",
    "    alternate_choice= random.choice(remaining_doors)\n",
    "        \n",
    "    # Consider the player's decision to 'Stay' or to 'Switch'\n",
    "    if decision == 'Stay':\n",
    "        if door_dict[first_selection] == 'Car':\n",
    "            return 'Won'\n",
    "        else:\n",
    "            return 'Lost'\n",
    "    elif decision == 'Switch':\n",
    "        if door_dict[alternate_choice] == 'Car':\n",
    "            return 'Won'\n",
    "        else:\n",
    "            return 'Lost'"
   ]
  },
  {
   "cell_type": "code",
   "execution_count": 203,
   "metadata": {
    "nbgrader": {
     "grade": true,
     "grade_id": "test_ex_3",
     "locked": true,
     "points": "2",
     "solution": false
    }
   },
   "outputs": [
    {
     "name": "stdout",
     "output_type": "stream",
     "text": [
      "\n",
      "Passed!\n"
     ]
    }
   ],
   "source": [
    "##### Test code\n",
    "\n",
    "# Case 1\n",
    "door_dict = {'Door 1': 'Goat', 'Door 2': 'Car', 'Door 4': 'Goat'}\n",
    "result = final_decision(door_dict, 1, 'Stay')\n",
    "# General return statement check\n",
    "assert result is 'Lost', \"Please check the return value\"\n",
    "\n",
    "# Case 2\n",
    "door_dict = {'Door 1': 'Goat', 'Door 2': 'Car', 'Door 4': 'Goat'}\n",
    "result = final_decision(door_dict, 2, 'Stay')\n",
    "assert result is 'Won', \"Please check the return value\"\n",
    "\n",
    "# Case 3\n",
    "door_dict = {'Door 1': 'Goat', 'Door 2': 'Car', 'Door 4': 'Goat','Door 5': 'Goat','Door 6': 'Goat'}\n",
    "result = final_decision(door_dict, 2, 'Switch')\n",
    "assert result is 'Lost', \"Please check the return value\"\n",
    "\n",
    "# Case 4\n",
    "door_dict = {'Door 1': 'Goat', 'Door 2': 'Car', 'Door 4': 'Goat','Door 5': 'Goat','Door 6': 'Goat'}\n",
    "result_won = 0\n",
    "result_lost = 0\n",
    "for i in range(10000):\n",
    "    result = final_decision(door_dict, 1, 'Switch')\n",
    "    if result == \"Lost\":\n",
    "        result_lost += 1\n",
    "    else:\n",
    "        result_won += 1\n",
    "prob_winning = result_won/10000\n",
    "#print(prob_winning)\n",
    "assert prob_winning <= 0.27 and prob_winning >= 0.23 , \"Doors not selected at random\"\n",
    "\n",
    "print(\"\\nPassed!\")"
   ]
  },
  {
   "cell_type": "markdown",
   "metadata": {
    "nbgrader": {
     "grade": false,
     "locked": true,
     "solution": false
    }
   },
   "source": [
    "**Exercise 4** (2 points) Now, let's bring the pieces together and simulate a game. In this exercise, you will complete the given `simulate_game` function that simulates Monty Hall game 10000 times. The function has 2 input arguments:\n",
    "\n",
    "- `n`: Number of doors\n",
    "- `k`: Number of doors to be opened be Monty\n",
    "\n",
    "The function returns a tuple with the number of wins each for staying and switching:\n",
    "\n",
    "- `stay_won`: An integer count of the number of wins resulting from a `'Stay'` decision\n",
    "- `switch_won`: An integer count of the number of wins resulting from a `'Switch'` decision\n",
    "\n",
    "**Hint**: You have to think about how you will use the following functions - `first_choice` , `initialize_game` , `final_decision` and `monty_opens` and what their input parameters should be to complete the exercise."
   ]
  },
  {
   "cell_type": "code",
   "execution_count": 206,
   "metadata": {},
   "outputs": [],
   "source": [
    "def simulate_game(n:int, k:int) -> tuple:\n",
    "    stay_won = 0  #Variable to keep a track of the number of times the player won when he/she decided to stay\n",
    "    switch_won = 0  #Variable to keep a track of the number of times the player won when he/she decided to switch\n",
    "    \n",
    "    door_dict = initialize_game(n)\n",
    "    \n",
    "    for i in range(10000):\n",
    "        #\n",
    "        if final_decision(door_dict, first_choice(door_dict), 'Stay') == 'Won':\n",
    "            stay_won += 1\n",
    "        if final_decision(door_dict, first_choice(door_dict), 'Switch') == 'Won':\n",
    "            switch_won += 1\n",
    "        #\n",
    "    return(stay_won, switch_won)"
   ]
  },
  {
   "cell_type": "code",
   "execution_count": 207,
   "metadata": {
    "nbgrader": {
     "grade": true,
     "grade_id": "test_ex_4",
     "locked": true,
     "points": "2",
     "solution": false
    }
   },
   "outputs": [
    {
     "ename": "AssertionError",
     "evalue": "",
     "output_type": "error",
     "traceback": [
      "\u001b[0;31m---------------------------------------------------------------------------\u001b[0m",
      "\u001b[0;31mAssertionError\u001b[0m                            Traceback (most recent call last)",
      "\u001b[0;32m<ipython-input-207-73135f267096>\u001b[0m in \u001b[0;36m<module>\u001b[0;34m()\u001b[0m\n\u001b[1;32m      5\u001b[0m \u001b[0mprob_switch_won\u001b[0m \u001b[0;34m=\u001b[0m \u001b[0mswitch_won\u001b[0m\u001b[0;34m/\u001b[0m\u001b[0;36m10000\u001b[0m\u001b[0;34m\u001b[0m\u001b[0m\n\u001b[1;32m      6\u001b[0m \u001b[0;34m\u001b[0m\u001b[0m\n\u001b[0;32m----> 7\u001b[0;31m \u001b[0;32massert\u001b[0m \u001b[0mprob_switch_won\u001b[0m \u001b[0;34m<=\u001b[0m \u001b[0;36m0.7\u001b[0m  \u001b[0;32mand\u001b[0m \u001b[0mprob_switch_won\u001b[0m \u001b[0;34m>=\u001b[0m \u001b[0;36m0.64\u001b[0m\u001b[0;34m\u001b[0m\u001b[0m\n\u001b[0m\u001b[1;32m      8\u001b[0m \u001b[0;34m\u001b[0m\u001b[0m\n\u001b[1;32m      9\u001b[0m \u001b[0;31m#Case 2\u001b[0m\u001b[0;34m\u001b[0m\u001b[0;34m\u001b[0m\u001b[0m\n",
      "\u001b[0;31mAssertionError\u001b[0m: "
     ]
    }
   ],
   "source": [
    "##### Test code\n",
    "\n",
    "#Case 1\n",
    "stay_won, switch_won = simulate_game(3,1)\n",
    "prob_switch_won = switch_won/10000\n",
    "\n",
    "assert prob_switch_won <= 0.7  and prob_switch_won >= 0.64\n",
    "\n",
    "#Case 2\n",
    "stay_won, switch_won = simulate_game(10,2)\n",
    "prob_switch_won = switch_won/10000\n",
    "\n",
    "assert prob_switch_won <= 0.142  and prob_switch_won >= 0.10\n",
    "\n",
    "\n",
    "#Case 3\n",
    "\n",
    "n_doors = random.randint(8, 13) \n",
    "k = random.randint(3, 6) \n",
    "\n",
    "stay_won, switch_won = simulate_game(n_doors, k)\n",
    "prob_switch_won = switch_won/10000\n",
    "\n",
    "population_prob =  (1/n_doors)*((n_doors-1)/ (n_doors-1 - k))\n",
    "\n",
    "assert prob_switch_won < population_prob * 1.2   and prob_switch_won >= population_prob *(0.80)\n",
    "\n",
    "print(\"\\nPassed!\")"
   ]
  },
  {
   "cell_type": "markdown",
   "metadata": {
    "nbgrader": {
     "grade": false,
     "locked": true,
     "solution": false
    }
   },
   "source": [
    "**Fin!** You've reached the end of this problem. Don't forget to restart the kernel and run the entire notebook from top-to-bottom to make sure you did everything correctly. If that is working, try submitting this problem. (Recall that you must submit and pass the autograder to get credit for your work!)"
   ]
  }
 ],
 "metadata": {
  "kernelspec": {
   "display_name": "Python 3",
   "language": "python",
   "name": "python3"
  },
  "language_info": {
   "codemirror_mode": {
    "name": "ipython",
    "version": 3
   },
   "file_extension": ".py",
   "mimetype": "text/x-python",
   "name": "python",
   "nbconvert_exporter": "python",
   "pygments_lexer": "ipython3",
   "version": "3.6.5"
  }
 },
 "nbformat": 4,
 "nbformat_minor": 2
}
