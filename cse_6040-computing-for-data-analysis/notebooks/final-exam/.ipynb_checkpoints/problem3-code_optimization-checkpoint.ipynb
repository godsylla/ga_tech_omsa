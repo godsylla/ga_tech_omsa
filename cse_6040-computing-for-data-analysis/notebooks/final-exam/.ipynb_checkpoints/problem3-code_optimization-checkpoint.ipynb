{
 "cells": [
  {
   "cell_type": "markdown",
   "metadata": {
    "deletable": false,
    "editable": false,
    "nbgrader": {
     "grade": false,
     "locked": true,
     "solution": false
    }
   },
   "source": [
    "# Problem 3: Optimizing Code  \n",
    "\n",
    "In this problem, there will be 6 exercises that deals with optimizing code. In each exercise, you will be given a task to complete as well as a working version of a function that completes that task. However, the function we provide to you is inefficient and thus you must implement a more efficient way to complete the task. Your goal is to beat the slower function by a certain benchmark, which differs depending on the exercise, and you much beat these benchmarks when **running on Vocareum**. And **all** exercises in this problem will have randomized test cases.    \n",
    "\n",
    "You may import packages you find necessary inside of your functions as long as they are available in the Vocareum environment. We do not import any packages for you, so it is up to you to determine what packages may be needed. However, some of the exercises can be complete using native python.  \n",
    "\n",
    "Please note that this is a longer problem that is worth more points than the rest of your exam questions. Also, exercise 4 depends on exercise 3.  "
   ]
  },
  {
   "cell_type": "markdown",
   "metadata": {
    "deletable": false,
    "editable": false,
    "nbgrader": {
     "grade": false,
     "locked": true,
     "solution": false
    }
   },
   "source": [
    "### How many steps does this take?\n",
    "\n",
    "For the next exercise, you will have the following task. Given a positive integer number `x` greater than 0, you may perform the following two operations. \n",
    "- Divide by 2  \n",
    "- Subtract by 1  \n",
    "\n",
    "Your goal is to figure out how many steps it takes to get `x` to be equal to zero. Each time you perform an operation, the result of the integer must also be an integer.  \n",
    "\n",
    "Take the number `10` as an example:  \n",
    "- `10 / 2 = 5`  \n",
    "- `5 - 1 = 4`  \n",
    "- `4 / 2 = 2`  \n",
    "- `2 / 2 = 1`  \n",
    "- `1 - 1 = 0`  \n",
    "\n",
    "As you can see above, the total number of steps taken is `5`. "
   ]
  },
  {
   "cell_type": "markdown",
   "metadata": {
    "deletable": false,
    "editable": false,
    "nbgrader": {
     "grade": false,
     "locked": true,
     "solution": false
    }
   },
   "source": [
    "**Exercise 0** (2 points)  \n",
    "Write a function `fast_find_num_steps` with the following parameters:  \n",
    "- `x`: The initial number `x` that is represented as a **binary** string.  \n",
    "\n",
    "The function should return how many steps it takes to get this number to be equal to zero using the two allowed operations described above.   \n",
    "**NOTE:** The first character in the string is the **most** significant bit and the last character is the **least** significant bit.  \n",
    "\n",
    "You function must run 2 times faster than `slow_find_num_steps`.  "
   ]
  },
  {
   "cell_type": "code",
   "execution_count": 1,
   "metadata": {
    "collapsed": true,
    "deletable": false,
    "editable": false,
    "nbgrader": {
     "grade": false,
     "locked": true,
     "solution": false
    }
   },
   "outputs": [],
   "source": [
    "def slow_find_num_steps(x):\n",
    "    x_int = int(x,2)\n",
    "    steps = 0\n",
    "    while x_int != 0:\n",
    "        if x_int % 2 == 0:\n",
    "            x_int = x_int // 2 #integer division\n",
    "        else:\n",
    "            x_int = x_int - 1\n",
    "        steps += 1\n",
    "    return steps"
   ]
  },
  {
   "cell_type": "code",
   "execution_count": 2,
   "metadata": {
    "scrolled": false
   },
   "outputs": [
    {
     "data": {
      "text/plain": [
       "'11'"
      ]
     },
     "execution_count": 2,
     "metadata": {},
     "output_type": "execute_result"
    }
   ],
   "source": [
    "bin(int(4/2) + 1)[2:]"
   ]
  },
  {
   "cell_type": "code",
   "execution_count": 3,
   "metadata": {
    "scrolled": false
   },
   "outputs": [
    {
     "data": {
      "text/plain": [
       "3"
      ]
     },
     "execution_count": 3,
     "metadata": {},
     "output_type": "execute_result"
    }
   ],
   "source": [
    "int(bin(int(4/2) + 1)[2:], 2)"
   ]
  },
  {
   "cell_type": "code",
   "execution_count": 4,
   "metadata": {},
   "outputs": [
    {
     "data": {
      "text/plain": [
       "0"
      ]
     },
     "execution_count": 4,
     "metadata": {},
     "output_type": "execute_result"
    }
   ],
   "source": [
    "# bin even # will yield 1 \n",
    "# bin odd # will yield 0 \n",
    "bin(6)[:: -1].index('0')"
   ]
  },
  {
   "cell_type": "code",
   "execution_count": 5,
   "metadata": {
    "collapsed": true
   },
   "outputs": [],
   "source": [
    "def fast_find_num_steps(x):\n",
    "    ### you may assume that we will only pass you a string with only 0's and 1's\n",
    "    ###\n",
    "    # Convert the binary string to an integer\n",
    "    x_int = int(x, 2)\n",
    "      \n",
    "    count_to_0 = lambda x_int: bin(x_int)[::-1].index('0')\n",
    "    \n",
    "    if x_int in [0, 1]:\n",
    "        return 1 - x_int\n",
    "    \n",
    "    if x_int % 2 == 0:\n",
    "        return 1 + fast_find_num_steps(bin(int(x_int/2)))\n",
    "    \n",
    "    return 1 + fast_find_num_steps(bin(int(x_int/2)))\n",
    "    \n",
    "    ###\n"
   ]
  },
  {
   "cell_type": "code",
   "execution_count": 6,
   "metadata": {
    "collapsed": true
   },
   "outputs": [],
   "source": [
    "# def fast_find_num_steps(x):\n",
    "#     ### you may assume that we will only pass you a string with only 0's and 1's\n",
    "#     ###\n",
    "#     # Convert the binary string to an integer\n",
    "#     x_int = int(x, 2)\n",
    "    \n",
    "#     # Conditions\n",
    "#     if x_int == 0:\n",
    "#         return 0                             # No steps needed to get it to be 0\n",
    "#     elif x_int % 2 == 0:                     # If the integer is even:\n",
    "#         new_int = int(x_int / 2)             # Make sure it stores an int b/c division returns a float\n",
    "#         bin_int = bin(new_int)[2:]           # Convert this to a binary integer w/ only 0's and 1's\n",
    "#         return fast_find_num_steps(bin_int[2:]) - 1\n",
    "#     else:\n",
    "#         new_int_plus1 = int(x_int / 2) + 1\n",
    "#         new_int_subt1 = int(x_int / 2) - 1\n",
    "#         bin_int_plus1 = bin(new_int_plus1)[2:]\n",
    "#         bin_int_subt1 = bin(new_int_subt1)[2:]\n",
    "#         return min(fast_find_num_steps(bin_int_plus1), fast_find_num_steps(bin_int_subt1)) - 1\n",
    "#     ###\n"
   ]
  },
  {
   "cell_type": "code",
   "execution_count": 7,
   "metadata": {},
   "outputs": [
    {
     "data": {
      "text/plain": [
       "3"
      ]
     },
     "execution_count": 7,
     "metadata": {},
     "output_type": "execute_result"
    }
   ],
   "source": [
    "fast_find_num_steps(bin(10)[2:])"
   ]
  },
  {
   "cell_type": "code",
   "execution_count": 8,
   "metadata": {
    "deletable": false,
    "editable": false,
    "nbgrader": {
     "grade": true,
     "grade_id": "find_num_steps_test",
     "locked": true,
     "points": "2",
     "solution": false
    }
   },
   "outputs": [
    {
     "name": "stdout",
     "output_type": "stream",
     "text": [
      "Test Case 0...\n"
     ]
    },
    {
     "ename": "AssertionError",
     "evalue": "Correct output 11, Your output 7",
     "output_type": "error",
     "traceback": [
      "\u001b[0;31m---------------------------------------------------------------------------\u001b[0m",
      "\u001b[0;31mAssertionError\u001b[0m                            Traceback (most recent call last)",
      "\u001b[0;32m<ipython-input-8-e1bdb87aab9e>\u001b[0m in \u001b[0;36m<module>\u001b[0;34m()\u001b[0m\n\u001b[1;32m     26\u001b[0m     \u001b[0mslow_result\u001b[0m \u001b[0;34m=\u001b[0m \u001b[0mslow_find_num_steps\u001b[0m\u001b[0;34m(\u001b[0m\u001b[0minput_var\u001b[0m\u001b[0;34m)\u001b[0m\u001b[0;34m\u001b[0m\u001b[0m\n\u001b[1;32m     27\u001b[0m     \u001b[0mfast_result\u001b[0m \u001b[0;34m=\u001b[0m \u001b[0mfast_find_num_steps\u001b[0m\u001b[0;34m(\u001b[0m\u001b[0minput_var\u001b[0m\u001b[0;34m)\u001b[0m\u001b[0;34m\u001b[0m\u001b[0m\n\u001b[0;32m---> 28\u001b[0;31m     \u001b[0;32massert\u001b[0m \u001b[0mslow_result\u001b[0m \u001b[0;34m==\u001b[0m \u001b[0mfast_result\u001b[0m\u001b[0;34m,\u001b[0m \u001b[0;34m\"Correct output {}, Your output {}\"\u001b[0m\u001b[0;34m.\u001b[0m\u001b[0mformat\u001b[0m\u001b[0;34m(\u001b[0m\u001b[0mslow_result\u001b[0m\u001b[0;34m,\u001b[0m \u001b[0mfast_result\u001b[0m\u001b[0;34m)\u001b[0m\u001b[0;34m\u001b[0m\u001b[0m\n\u001b[0m\u001b[1;32m     29\u001b[0m \u001b[0;31m#tests for correctness and timing\u001b[0m\u001b[0;34m\u001b[0m\u001b[0;34m\u001b[0m\u001b[0m\n\u001b[1;32m     30\u001b[0m \u001b[0mprint\u001b[0m\u001b[0;34m(\u001b[0m\u001b[0;34m\"Test Case 5...\"\u001b[0m\u001b[0;34m)\u001b[0m\u001b[0;34m\u001b[0m\u001b[0m\n",
      "\u001b[0;31mAssertionError\u001b[0m: Correct output 11, Your output 7"
     ]
    }
   ],
   "source": [
    "# Test cell: `find_num_steps_test` (2 points)\n",
    "import timeit as ti\n",
    "import datetime as dt\n",
    "import numpy as np\n",
    "import random as rd\n",
    "NUM_OF_RUNS = 5\n",
    "#setting seed\n",
    "seed = int((dt.datetime.now() - dt.datetime(1970,1,1)).total_seconds())\n",
    "rd.seed(seed)\n",
    "np.random.seed(seed)\n",
    "#defining the slow function again\n",
    "def slow_find_num_steps(x):\n",
    "    x_int = int(x,2)\n",
    "    steps = 0\n",
    "    while x_int != 0:\n",
    "        if x_int % 2 == 0:\n",
    "            x_int = x_int // 2 #integer division\n",
    "        else:\n",
    "            x_int = x_int - 1\n",
    "        steps += 1\n",
    "    return steps\n",
    "#tests for correctness\n",
    "for i in range(NUM_OF_RUNS):\n",
    "    print(\"Test Case {}...\".format(i))\n",
    "    input_var = \"\".join(str(bit) for bit in np.random.randint(2, size=8).tolist())\n",
    "    slow_result = slow_find_num_steps(input_var)\n",
    "    fast_result = fast_find_num_steps(input_var)\n",
    "    assert slow_result == fast_result, \"Correct output {}, Your output {}\".format(slow_result, fast_result)\n",
    "#tests for correctness and timing\n",
    "print(\"Test Case 5...\")\n",
    "input_var = \"\".join(str(bit) for bit in np.random.randint(2, size=64).tolist())\n",
    "slow_result = slow_find_num_steps(input_var)\n",
    "fast_result = fast_find_num_steps(input_var)\n",
    "assert slow_result == fast_result, \"Correct output {}, Your output {}\".format(slow_result, fast_result)\n",
    "slow_time = ti.timeit(\"slow_find_num_steps(input_var)\",setup=\"from __main__ import slow_find_num_steps, input_var\", \n",
    "                      number=NUM_OF_RUNS)/NUM_OF_RUNS\n",
    "fast_time = ti.timeit(\"fast_find_num_steps(input_var)\",setup=\"from __main__ import fast_find_num_steps, input_var\", \n",
    "                      number=NUM_OF_RUNS)/NUM_OF_RUNS\n",
    "ratio = slow_time / fast_time\n",
    "print(\"Your solultion is {} times faster.\".format(ratio))\n",
    "assert ratio >= 2, \"Your solution isn't at least 2 times faster than our solution.\"\n",
    "#Passed!\n",
    "print(\"Passed!\")"
   ]
  },
  {
   "cell_type": "markdown",
   "metadata": {
    "deletable": false,
    "editable": false,
    "nbgrader": {
     "grade": false,
     "locked": true,
     "solution": false
    }
   },
   "source": [
    "### How many peaks and valleys?\n",
    "\n",
    "For the next exercise, you will be given a 1-D list of numbers. These represents the elevations of a certain mountain range. Your goal is to find the peaks and valleys in this mountain range. You may treat the first and last element as either a peak or valley.\n",
    "\n",
    "Take the list `[1,2,3,3,2,1,3,4,5,6,7,6,4,3,2]` as an example. If we were to plot out the list in terms of elevation, it would look like the following image:  \n",
    "\n",
    "![peaks_and_valleys](./peaks_and_valleys.png \"Peaks And Valleys\")  \n",
    "\n",
    "The shaded blocks are peaks and valleys. Note that each color represents a different peak or valley. So the total number of peaks and valleys for the example is 5.  "
   ]
  },
  {
   "cell_type": "markdown",
   "metadata": {
    "deletable": false,
    "editable": false,
    "nbgrader": {
     "grade": false,
     "locked": true,
     "solution": false
    }
   },
   "source": [
    "**Exercise 1** (2 points)  \n",
    "Write a function `fast_peak_and_valley` with the following parameters:  \n",
    "- `x`: The list of numbers that represents the elevation of a mountain range.  \n",
    "\n",
    "The function should return the total number of peaks and valleys witin that mountain range.  \n",
    "\n",
    "Your function must run 3 times faster than `slow_peak_and_valley`.  "
   ]
  },
  {
   "cell_type": "code",
   "execution_count": 9,
   "metadata": {
    "collapsed": true,
    "deletable": false,
    "editable": false,
    "nbgrader": {
     "grade": false,
     "locked": true,
     "solution": false
    }
   },
   "outputs": [],
   "source": [
    "def slow_peak_and_valley(x):\n",
    "    total_count = 2\n",
    "    for i in range(1, len(x)-1):\n",
    "        #check if this is a peak going left\n",
    "        peak_left = False\n",
    "        iter_index = i\n",
    "        while not peak_left and iter_index > 0:\n",
    "            iter_index -= 1\n",
    "            if x[i] > x[iter_index]:\n",
    "                peak_left = True\n",
    "            elif x[i] < x[iter_index]:\n",
    "                break\n",
    "        #check if this is peak going right\n",
    "        peak_right = False\n",
    "        iter_index = i\n",
    "        while not peak_right and iter_index < len(x) - 1:\n",
    "            iter_index += 1\n",
    "            if x[i] > x[iter_index]:\n",
    "                peak_right = True\n",
    "            elif x[i] < x[iter_index]:\n",
    "                break\n",
    "        #check if this is valley going left\n",
    "        valley_left = False\n",
    "        iter_index = i\n",
    "        while not valley_left and iter_index > 0:\n",
    "            iter_index -= 1\n",
    "            if x[i] < x[iter_index]:\n",
    "                valley_left = True\n",
    "            elif x[i] > x[iter_index]:\n",
    "                break\n",
    "        #check if this is valley going right\n",
    "        valley_right = False\n",
    "        iter_index = i\n",
    "        while not valley_right and iter_index < len(x) - 1:\n",
    "            iter_index += 1\n",
    "            if x[i] < x[iter_index]:\n",
    "                valley_right = True\n",
    "            elif x[i] > x[iter_index]:\n",
    "                break\n",
    "        if (peak_left and peak_right) or (valley_left and valley_right):\n",
    "            if x[i] != x[i-1]:\n",
    "                total_count += 1\n",
    "    return total_count"
   ]
  },
  {
   "cell_type": "code",
   "execution_count": 10,
   "metadata": {
    "collapsed": true
   },
   "outputs": [],
   "source": [
    "from scipy.signal import find_peaks, argrelmin, argrelmax, argrelextrema"
   ]
  },
  {
   "cell_type": "code",
   "execution_count": 11,
   "metadata": {},
   "outputs": [
    {
     "ename": "NameError",
     "evalue": "name 'test_list' is not defined",
     "output_type": "error",
     "traceback": [
      "\u001b[0;31m---------------------------------------------------------------------------\u001b[0m",
      "\u001b[0;31mNameError\u001b[0m                                 Traceback (most recent call last)",
      "\u001b[0;32m<ipython-input-11-134f9486070d>\u001b[0m in \u001b[0;36m<module>\u001b[0;34m()\u001b[0m\n\u001b[1;32m      1\u001b[0m \u001b[0;32mfrom\u001b[0m \u001b[0mitertools\u001b[0m \u001b[0;32mimport\u001b[0m \u001b[0mgroupby\u001b[0m\u001b[0;34m\u001b[0m\u001b[0m\n\u001b[0;32m----> 2\u001b[0;31m \u001b[0;34m[\u001b[0m\u001b[0mx\u001b[0m\u001b[0;34m[\u001b[0m\u001b[0;36m0\u001b[0m\u001b[0;34m]\u001b[0m \u001b[0;32mfor\u001b[0m \u001b[0mx\u001b[0m \u001b[0;32min\u001b[0m \u001b[0mgroupby\u001b[0m\u001b[0;34m(\u001b[0m\u001b[0mtest_list\u001b[0m\u001b[0;34m)\u001b[0m\u001b[0;34m]\u001b[0m\u001b[0;34m\u001b[0m\u001b[0m\n\u001b[0m",
      "\u001b[0;31mNameError\u001b[0m: name 'test_list' is not defined"
     ]
    }
   ],
   "source": [
    "from itertools import groupby\n",
    "[x[0] for x in groupby(test_list)]"
   ]
  },
  {
   "cell_type": "code",
   "execution_count": 12,
   "metadata": {
    "collapsed": true
   },
   "outputs": [],
   "source": [
    "def fast_peak_and_valley(x):    \n",
    "    ### you may assume that we will only pass you a list of integers\n",
    "    ###\n",
    "    a = np.array(x)\n",
    "#     a = [x[0] for x in groupby(a)]\n",
    "    \n",
    "#     min_inds = argrelmin(x)\n",
    "#     max_inds = argrelmax(x)\n",
    "    \n",
    "#     print(min_inds)\n",
    "#     print(max_inds)\n",
    "#     num_mins = len(min_inds)\n",
    "#     num_maxs = len(max_inds)\n",
    "\n",
    "#     maxs = argrelextrema(x, np.greater)\n",
    "#     mins = argrelextrema(x, np.less)\n",
    "#     print(maxs)\n",
    "#     print(mins)\n",
    "\n",
    "    valleys = np.r_[1, a[1:] < a[:-1]] & np.r_[a[:-1] < a[1:], 1]\n",
    "    peaks = np.r_[1, a[1:] > a[:-1]] & np.r_[a[:-1] >= a[1:], 1] \n",
    "    \n",
    "#     true_valleys = [x[0] for x in groupby(valleys)]\n",
    "#     true_peaks = [x[0] for x in groupby(peaks)]\n",
    "    \n",
    "    \n",
    "#     print('true valleys: ', true_valleys)\n",
    "#     print('true peaks:   ', true_peaks)\n",
    "#     print('v & p:   ', valleys | peaks)\n",
    "#     i = 0\n",
    "#     while i < len(valleys)-1:\n",
    "#         if valleys[i] == valleys[i+1]:\n",
    "#             del valleys[i]\n",
    "#         else:\n",
    "#             i = i+1\n",
    "        \n",
    "#     i = 0\n",
    "#     while i < len(peaks)-1:\n",
    "#         if peaks[i] == peaks[i+1]:\n",
    "#             del peaks[i]\n",
    "#         else:\n",
    "#             i = i+1       \n",
    "            \n",
    "#     print('valleys: ', valleys)\n",
    "#     print('peaks:   ', peaks)\n",
    "    \n",
    "#     print('v & p:   ', valleys | peaks)\n",
    "    \n",
    "#     return np.sum(true_valleys) + np.sum(true_peaks)\n",
    "#     return np.sum(np.array(true_valleys).astype(bool) | np.array(true_peaks).astype(bool))\n",
    "    return (np.sum(valleys | peaks))\n",
    "    ###\n"
   ]
  },
  {
   "cell_type": "code",
   "execution_count": 13,
   "metadata": {
    "scrolled": true
   },
   "outputs": [
    {
     "data": {
      "text/plain": [
       "5"
      ]
     },
     "execution_count": 13,
     "metadata": {},
     "output_type": "execute_result"
    }
   ],
   "source": [
    "test_list = [1,2,3,3,2,1,3,4,5,6,7,6,4,3,2]\n",
    "fast_peak_and_valley(test_list)"
   ]
  },
  {
   "cell_type": "code",
   "execution_count": 14,
   "metadata": {
    "deletable": false,
    "editable": false,
    "nbgrader": {
     "grade": true,
     "grade_id": "peak_and_valley_test",
     "locked": true,
     "points": "2",
     "solution": false
    }
   },
   "outputs": [
    {
     "name": "stdout",
     "output_type": "stream",
     "text": [
      "Test Case 0...\n",
      "Test Case 1...\n",
      "Test Case 2...\n",
      "Test Case 3...\n",
      "Test Case 4...\n"
     ]
    },
    {
     "ename": "AssertionError",
     "evalue": "Correct output 6331, Your output 6127",
     "output_type": "error",
     "traceback": [
      "\u001b[0;31m---------------------------------------------------------------------------\u001b[0m",
      "\u001b[0;31mAssertionError\u001b[0m                            Traceback (most recent call last)",
      "\u001b[0;32m<ipython-input-14-3ce22ef18a08>\u001b[0m in \u001b[0;36m<module>\u001b[0;34m()\u001b[0m\n\u001b[1;32m     79\u001b[0m \u001b[0mslow_result\u001b[0m \u001b[0;34m=\u001b[0m \u001b[0mslow_peak_and_valley\u001b[0m\u001b[0;34m(\u001b[0m\u001b[0minput_var\u001b[0m\u001b[0;34m)\u001b[0m\u001b[0;34m\u001b[0m\u001b[0m\n\u001b[1;32m     80\u001b[0m \u001b[0mfast_result\u001b[0m \u001b[0;34m=\u001b[0m \u001b[0mfast_peak_and_valley\u001b[0m\u001b[0;34m(\u001b[0m\u001b[0minput_var\u001b[0m\u001b[0;34m)\u001b[0m\u001b[0;34m\u001b[0m\u001b[0m\n\u001b[0;32m---> 81\u001b[0;31m \u001b[0;32massert\u001b[0m \u001b[0mslow_result\u001b[0m \u001b[0;34m==\u001b[0m \u001b[0mfast_result\u001b[0m\u001b[0;34m,\u001b[0m \u001b[0;34m\"Correct output {}, Your output {}\"\u001b[0m\u001b[0;34m.\u001b[0m\u001b[0mformat\u001b[0m\u001b[0;34m(\u001b[0m\u001b[0mslow_result\u001b[0m\u001b[0;34m,\u001b[0m \u001b[0mfast_result\u001b[0m\u001b[0;34m)\u001b[0m\u001b[0;34m\u001b[0m\u001b[0m\n\u001b[0m\u001b[1;32m     82\u001b[0m slow_time = ti.timeit(\"slow_peak_and_valley(input_var)\",setup=\"from __main__ import slow_peak_and_valley, input_var\", \n\u001b[1;32m     83\u001b[0m                       number=NUM_OF_RUNS)/NUM_OF_RUNS\n",
      "\u001b[0;31mAssertionError\u001b[0m: Correct output 6331, Your output 6127"
     ]
    }
   ],
   "source": [
    "# Test cell: `peak_and_valley_test` (2 points)\n",
    "import timeit as ti\n",
    "import datetime as dt\n",
    "import numpy as np\n",
    "import random as rd\n",
    "NUM_OF_RUNS = 5\n",
    "#setting seed\n",
    "seed = int((dt.datetime.now() - dt.datetime(1970,1,1)).total_seconds())\n",
    "rd.seed(seed)\n",
    "np.random.seed(seed)\n",
    "#defining the slow function again\n",
    "def slow_peak_and_valley(x):\n",
    "    total_count = 2\n",
    "    for i in range(1, len(x)-1):\n",
    "        #check if this is a peak going left\n",
    "        peak_left = False\n",
    "        iter_index = i\n",
    "        while not peak_left and iter_index > 0:\n",
    "            iter_index -= 1\n",
    "            if x[i] > x[iter_index]:\n",
    "                peak_left = True\n",
    "            elif x[i] < x[iter_index]:\n",
    "                break\n",
    "        #check if this is peak going right\n",
    "        peak_right = False\n",
    "        iter_index = i\n",
    "        while not peak_right and iter_index < len(x) - 1:\n",
    "            iter_index += 1\n",
    "            if x[i] > x[iter_index]:\n",
    "                peak_right = True\n",
    "            elif x[i] < x[iter_index]:\n",
    "                break\n",
    "        #check if this is valley going left\n",
    "        valley_left = False\n",
    "        iter_index = i\n",
    "        while not valley_left and iter_index > 0:\n",
    "            iter_index -= 1\n",
    "            if x[i] < x[iter_index]:\n",
    "                valley_left = True\n",
    "            elif x[i] > x[iter_index]:\n",
    "                break\n",
    "        #check if this is valley going right\n",
    "        valley_right = False\n",
    "        iter_index = i\n",
    "        while not valley_right and iter_index < len(x) - 1:\n",
    "            iter_index += 1\n",
    "            if x[i] < x[iter_index]:\n",
    "                valley_right = True\n",
    "            elif x[i] > x[iter_index]:\n",
    "                break\n",
    "        if (peak_left and peak_right) or (valley_left and valley_right):\n",
    "            if x[i] != x[i-1]:\n",
    "                total_count += 1\n",
    "    return total_count\n",
    "#tests for correctness\n",
    "print(\"Test Case 0...\")\n",
    "input_var = [1,2,3,3,2,1,3,4,5,6,7,6,4,3,2]\n",
    "slow_result = slow_peak_and_valley(input_var)\n",
    "fast_result = fast_peak_and_valley(input_var)\n",
    "assert slow_result == fast_result, \"Correct output {}, Your output {}\".format(slow_result, fast_result)\n",
    "print(\"Test Case 1...\")\n",
    "input_var = [1,2,1,2,1,2,1,2,1,2,1,2,1,2,1]\n",
    "slow_result = slow_peak_and_valley(input_var)\n",
    "fast_result = fast_peak_and_valley(input_var)\n",
    "assert slow_result == fast_result, \"Correct output {}, Your output {}\".format(slow_result, fast_result)\n",
    "print(\"Test Case 2...\")\n",
    "input_var = [1,2,2,2,2,3,3,2,2,1,1,2,2,2,2]\n",
    "slow_result = slow_peak_and_valley(input_var)\n",
    "fast_result = fast_peak_and_valley(input_var)\n",
    "assert slow_result == fast_result, \"Correct output {}, Your output {}\".format(slow_result, fast_result)\n",
    "print(\"Test Case 3...\")\n",
    "input_var = np.random.randint(10, size=15).tolist()\n",
    "slow_result = slow_peak_and_valley(input_var)\n",
    "fast_result = fast_peak_and_valley(input_var)\n",
    "assert slow_result == fast_result, \"Correct output {}, Your output {}\".format(slow_result, fast_result)\n",
    "#tests for correctness and timing\n",
    "print(\"Test Case 4...\")\n",
    "input_var = np.random.randint(10, size=10000).tolist()\n",
    "slow_result = slow_peak_and_valley(input_var)\n",
    "fast_result = fast_peak_and_valley(input_var)\n",
    "assert slow_result == fast_result, \"Correct output {}, Your output {}\".format(slow_result, fast_result)\n",
    "slow_time = ti.timeit(\"slow_peak_and_valley(input_var)\",setup=\"from __main__ import slow_peak_and_valley, input_var\", \n",
    "                      number=NUM_OF_RUNS)/NUM_OF_RUNS\n",
    "fast_time = ti.timeit(\"fast_peak_and_valley(input_var)\",setup=\"from __main__ import fast_peak_and_valley, input_var\", \n",
    "                      number=NUM_OF_RUNS)/NUM_OF_RUNS\n",
    "ratio = slow_time / fast_time\n",
    "print(\"Your solultion is {} times faster.\".format(ratio))\n",
    "assert ratio >= 3, \"Your solution isn't at least 3 times faster than our solution.\"\n",
    "#Passed!\n",
    "print(\"Passed!\")"
   ]
  },
  {
   "cell_type": "markdown",
   "metadata": {
    "deletable": false,
    "editable": false,
    "nbgrader": {
     "grade": false,
     "locked": true,
     "solution": false
    }
   },
   "source": [
    "### Finding pairs of sums\n",
    "\n",
    "For the next exercise, you will be given a list of integers `x` and a number `n`. Your task is to find **distinct** pairs of numbers in `x` such that their sum is `n`. Your result should be a set of the pair of numbers.  \n",
    "Take the list `[1, 2, 3, 3, 5, 5, 5, 6, 6, 7, 8, 9, 9]` and the number `10` as an example.   \n",
    "The resulting set of pairs would be: `{(1, 9), (2, 8), (3, 7), (5, 5)}`.  "
   ]
  },
  {
   "cell_type": "markdown",
   "metadata": {
    "deletable": false,
    "editable": false,
    "nbgrader": {
     "grade": false,
     "locked": true,
     "solution": false
    }
   },
   "source": [
    "**Exercise 2** (3 points)  \n",
    "Write a function `fast_find_pair_sums` with the following parameters:  \n",
    "- `x`: The list of integer numbers.\n",
    "- `n`: The number that your pairs should sum up to.  \n",
    "\n",
    "The function should return a set of tuples where the values in the tuple sum up to `n`. For the numbers in the pairs, make sure the smaller of two numbers is the first element in the tuple.  \n",
    "**NOTE:** The numbers in `x` may not be sorted. \n",
    "\n",
    "You function must run 5 times faster than `slow_find_pair_sums`.  "
   ]
  },
  {
   "cell_type": "code",
   "execution_count": 15,
   "metadata": {
    "collapsed": true,
    "deletable": false,
    "editable": false,
    "nbgrader": {
     "grade": false,
     "locked": true,
     "solution": false
    }
   },
   "outputs": [],
   "source": [
    "def slow_find_pair_sums(x, n):\n",
    "    pairs = set()\n",
    "    for i in range(len(x)):\n",
    "        for j in range(len(x)):\n",
    "            if i != j:\n",
    "                if x[i] + x[j] == n:\n",
    "                    if x[i] < x[j]:\n",
    "                        pairs.add((x[i], x[j]))\n",
    "                    else:\n",
    "                        pairs.add((x[j], x[i]))\n",
    "    return pairs"
   ]
  },
  {
   "cell_type": "code",
   "execution_count": 16,
   "metadata": {
    "collapsed": true
   },
   "outputs": [],
   "source": [
    "from itertools import combinations\n",
    "# from collections import defaultdict"
   ]
  },
  {
   "cell_type": "code",
   "execution_count": 17,
   "metadata": {
    "collapsed": true
   },
   "outputs": [],
   "source": [
    "def fast_find_pair_sums(x, n):\n",
    "    ### you may assume that x is always a list of positive integers and n is an positive integer\n",
    "    ### also n is greater than all values in x\n",
    "    ###\n",
    "    pairs = set()\n",
    "    \n",
    "    for a, b in set(combinations(sorted(x), 2)):\n",
    "        if a + b == n:\n",
    "            pairs.add((a, b))\n",
    "    \n",
    "    return pairs\n",
    "    ###\n"
   ]
  },
  {
   "cell_type": "code",
   "execution_count": 18,
   "metadata": {},
   "outputs": [
    {
     "data": {
      "text/plain": [
       "{(1, 9), (2, 8), (3, 7), (5, 5)}"
      ]
     },
     "execution_count": 18,
     "metadata": {},
     "output_type": "execute_result"
    }
   ],
   "source": [
    "test_x = [1, 2, 3, 3, 5, 5, 5, 6, 6, 7, 8, 9, 9]\n",
    "test_n = 10\n",
    "fast_find_pair_sums(test_x, test_n)"
   ]
  },
  {
   "cell_type": "code",
   "execution_count": 19,
   "metadata": {
    "deletable": false,
    "editable": false,
    "nbgrader": {
     "grade": true,
     "grade_id": "find_pair_sums_test",
     "locked": true,
     "points": "3",
     "solution": false
    }
   },
   "outputs": [
    {
     "name": "stdout",
     "output_type": "stream",
     "text": [
      "Test Case 0...\n",
      "Test Case 1...\n",
      "Test Case 2...\n",
      "Test Case 3...\n",
      "Test Case 4...\n",
      "Test Case 5...\n",
      "Your solultion is 5.1556828125682435 times faster.\n",
      "Passed!\n"
     ]
    }
   ],
   "source": [
    "# Test cell: `find_pair_sums_test` (3 points)\n",
    "import timeit as ti\n",
    "import datetime as dt\n",
    "import numpy as np\n",
    "import random as rd\n",
    "NUM_OF_RUNS = 5\n",
    "#setting seed\n",
    "seed = int((dt.datetime.now() - dt.datetime(1970,1,1)).total_seconds())\n",
    "rd.seed(seed)\n",
    "np.random.seed(seed)\n",
    "#defining the slow function again\n",
    "def slow_find_pair_sums(x, n):\n",
    "    pairs = set()\n",
    "    for i in range(len(x)):\n",
    "        for j in range(len(x)):\n",
    "            if i != j:\n",
    "                if x[i] + x[j] == n:\n",
    "                    if x[i] < x[j]:\n",
    "                        pairs.add((x[i], x[j]))\n",
    "                    else:\n",
    "                        pairs.add((x[j], x[i]))\n",
    "    return pairs\n",
    "#tests for correctness\n",
    "for i in range(NUM_OF_RUNS):\n",
    "    print(\"Test Case {}...\".format(i))\n",
    "    input_num = rd.randint(10, 101)\n",
    "    input_list = np.random.randint(input_num, size=20).tolist()\n",
    "    input_var = (input_list, input_num)\n",
    "    slow_result = sorted(slow_find_pair_sums(*input_var))\n",
    "    fast_result = sorted(fast_find_pair_sums(*input_var))\n",
    "    assert slow_result == fast_result, \"Correct output {}, Your output {}\".format(slow_result, fast_result)\n",
    "# #tests for correctness and timing\n",
    "print(\"Test Case 5...\")\n",
    "input_num = rd.randint(10, 101)\n",
    "input_list = np.random.randint(input_num, size=1000).tolist()\n",
    "input_var = (input_list, input_num)\n",
    "slow_result = sorted(slow_find_pair_sums(*input_var))\n",
    "fast_result = sorted(fast_find_pair_sums(*input_var))\n",
    "assert slow_result == fast_result, \"Correct output {}, Your output {}\".format(slow_result, fast_result)\n",
    "slow_time = ti.timeit(\"slow_find_pair_sums(*input_var)\",setup=\"from __main__ import slow_find_pair_sums, input_var\", \n",
    "                      number=NUM_OF_RUNS)/NUM_OF_RUNS\n",
    "fast_time = ti.timeit(\"fast_find_pair_sums(*input_var)\",setup=\"from __main__ import fast_find_pair_sums, input_var\", \n",
    "                      number=NUM_OF_RUNS)/NUM_OF_RUNS\n",
    "ratio = slow_time / fast_time\n",
    "print(\"Your solultion is {} times faster.\".format(ratio))\n",
    "assert ratio >= 5, \"Your solution isn't at least 5 times faster than our solution.\"\n",
    "#Passed!\n",
    "print(\"Passed!\")"
   ]
  },
  {
   "cell_type": "markdown",
   "metadata": {
    "deletable": false,
    "editable": false,
    "nbgrader": {
     "grade": false,
     "locked": true,
     "solution": false
    }
   },
   "source": [
    "### Element checking\n",
    "For the next exercise, you will be given a 2D array of integer values. The each entry in the 2D array represents an age of a person. Your task is to check where the person represented by the array is due to visit the DMV soon. So for each element in the array check if they match the list of criteria below. You must return a corresponding 2D array, 1 if the entry meets all the condition and 0 if the entry does not meet the conditions.  \n",
    "\n",
    "- The person is at least 14\n",
    "- The person's age ends in 4 or 9\n",
    "- And the person is not 19\n",
    "\n",
    "For example, an age array of  \n",
    "```\n",
    "[[22, 13, 31, 13],\n",
    " [17, 14, 24, 22]]\n",
    "``` \n",
    "\n",
    "will have the output array as   \n",
    "```\n",
    "[[0, 0, 0, 0], \n",
    " [0, 1, 1, 0]]\n",
    "```"
   ]
  },
  {
   "cell_type": "markdown",
   "metadata": {
    "deletable": false,
    "editable": false,
    "nbgrader": {
     "grade": false,
     "locked": true,
     "solution": false
    }
   },
   "source": [
    "**Exercise 3** (2 points)  \n",
    "Write a function `fast_check_elem` with the following parameters:  \n",
    "- `X`: The list of 2D age array as described above. \n",
    "\n",
    "The function should return a 2D array with the entries of either 0 or 1 as described above.  \n",
    "\n",
    "You function must run 15 times faster than `slow_check_elem`. "
   ]
  },
  {
   "cell_type": "code",
   "execution_count": 20,
   "metadata": {
    "collapsed": true,
    "deletable": false,
    "editable": false,
    "nbgrader": {
     "grade": false,
     "locked": true,
     "solution": false
    }
   },
   "outputs": [],
   "source": [
    "def slow_check_elem(X):\n",
    "    out = [[0]*len(X[0]) for _ in range(len(X))]\n",
    "    for i in range(len(X)):\n",
    "        for j in range(len(X[i])):\n",
    "            check = X[i][j]\n",
    "            if check>=14 and check%5==4 and check!=19:\n",
    "                out[i][j] = 2\n",
    "    return out"
   ]
  },
  {
   "cell_type": "code",
   "execution_count": 21,
   "metadata": {},
   "outputs": [
    {
     "name": "stdout",
     "output_type": "stream",
     "text": [
      "(2, 4)\n",
      "[[0. 0. 0. 0.]\n",
      " [0. 0. 0. 0.]]\n",
      "[[0. 0. 0. 0.]\n",
      " [0. 1. 1. 0.]]\n"
     ]
    }
   ],
   "source": [
    "test_2d = np.array([[22, 13, 31, 13],\n",
    "                    [17, 14, 24, 22]])\n",
    "print(test_2d.shape)\n",
    "\n",
    "test = np.zeros(shape=test_2d.shape)\n",
    "print(test)\n",
    "for i, t2 in enumerate(test_2d):\n",
    "    test[i] = (t2 >= 14) & (t2 != 19) & (t2%5 == 4).astype(int)\n",
    "    \n",
    "print(test)"
   ]
  },
  {
   "cell_type": "code",
   "execution_count": 22,
   "metadata": {
    "collapsed": true
   },
   "outputs": [],
   "source": [
    "def fast_check_elem(X):\n",
    "    ### You may assume that all entries in X contain numerical values\n",
    "    ###\n",
    "    X_arr = np.array(X)\n",
    "    \n",
    "    test = np.zeros(shape=X_arr.shape)\n",
    "\n",
    "    for i, x in enumerate(X_arr):\n",
    "        test[i] = (x >= 14) & (x != 19) & (x%5 == 4).astype(int)\n",
    "        \n",
    "    return test\n",
    "    ###\n"
   ]
  },
  {
   "cell_type": "code",
   "execution_count": 23,
   "metadata": {
    "deletable": false,
    "editable": false,
    "nbgrader": {
     "grade": true,
     "grade_id": "check_elem_test",
     "locked": true,
     "points": "2",
     "solution": false
    }
   },
   "outputs": [
    {
     "name": "stdout",
     "output_type": "stream",
     "text": [
      "Test Case 0...\n",
      "Test Case 1...\n",
      "Test Case 2...\n",
      "Test Case 3...\n",
      "Test Case 4...\n",
      "Test Case 5...\n",
      "Your solution is 18.36610193597957 times faster.\n",
      "Passed!\n"
     ]
    }
   ],
   "source": [
    "# Test cell: `check_elem_test` (2 points)\n",
    "import timeit as ti\n",
    "import datetime as dt\n",
    "import numpy as np\n",
    "import random as rd\n",
    "NUM_OF_RUNS = 5\n",
    "#setting seed\n",
    "seed = int((dt.datetime.now() - dt.datetime(1970,1,1)).total_seconds())\n",
    "rd.seed(seed)\n",
    "np.random.seed(seed)\n",
    "#defining the slow function again\n",
    "def slow_check_elem(X):\n",
    "    out = [[0]*len(X[0]) for _ in range(len(X))]\n",
    "    for i in range(len(X)):\n",
    "        for j in range(len(X[i])):\n",
    "            check = X[i][j]\n",
    "            if check>=14 and check%5==4 and check!=19:\n",
    "                out[i][j] = 1\n",
    "    return out\n",
    "#tests for correctness\n",
    "for i in range(NUM_OF_RUNS):\n",
    "    print(\"Test Case {}...\".format(i))\n",
    "    n = np.random.randint(4,8,dtype=int)\n",
    "    m = np.random.randint(4,8,dtype=int)\n",
    "    input_var = np.random.randint(12,35,size=(n,m),dtype=int)\n",
    "    slow_result = slow_check_elem(input_var)\n",
    "    fast_result = fast_check_elem(input_var)\n",
    "    np.testing.assert_array_equal(fast_result,slow_result)\n",
    "#tests for correctness and timing\n",
    "print(\"Test Case 5...\")\n",
    "n = np.random.randint(500,600,dtype=int)\n",
    "m = np.random.randint(500,600,dtype=int)\n",
    "input_var = np.random.randint(12,35,size=(n,m),dtype=int)\n",
    "slow_result = slow_check_elem(input_var)\n",
    "fast_result = fast_check_elem(input_var)\n",
    "np.testing.assert_array_equal(fast_result,slow_result)\n",
    "slow_time = ti.timeit(\"slow_check_elem(input_var)\",setup=\"from __main__ import slow_check_elem, input_var\", \n",
    "                      number=NUM_OF_RUNS)/NUM_OF_RUNS\n",
    "fast_time = ti.timeit(\"fast_check_elem(input_var)\",setup=\"from __main__ import fast_check_elem, input_var\", \n",
    "                      number=NUM_OF_RUNS)/NUM_OF_RUNS\n",
    "ratio = slow_time / fast_time\n",
    "print(\"Your solution is {} times faster.\".format(ratio))\n",
    "assert ratio >= 15, \"Your solution isn't at least 15 times faster than our solution.\"\n",
    "print(\"Passed!\")"
   ]
  },
  {
   "cell_type": "markdown",
   "metadata": {
    "deletable": false,
    "editable": false,
    "nbgrader": {
     "grade": false,
     "locked": true,
     "solution": false
    }
   },
   "source": [
    "### Dot products\n",
    "For the next exercise, you will be given a 2D array created using the `fast_check_elem` function. Your task is to create a function that returns the dot product of the array and the transpose of itself."
   ]
  },
  {
   "cell_type": "markdown",
   "metadata": {
    "deletable": false,
    "editable": false,
    "nbgrader": {
     "grade": false,
     "locked": true,
     "solution": false
    }
   },
   "source": [
    "**Exercise 4** (3 points)  \n",
    "Write a function `fast_dot_prod` with the following parameters:  \n",
    "- `X`: The list of 2D age array as described above. \n",
    "\n",
    "The function should return the result of $XX^T$. \n",
    "\n",
    "You function must run 1.4 times faster than `slow_dot_prod`. "
   ]
  },
  {
   "cell_type": "code",
   "execution_count": 24,
   "metadata": {
    "collapsed": true,
    "deletable": false,
    "editable": false,
    "nbgrader": {
     "grade": false,
     "locked": true,
     "solution": false
    }
   },
   "outputs": [],
   "source": [
    "def slow_dot_prod(X):\n",
    "    return X.dot(X.T)"
   ]
  },
  {
   "cell_type": "code",
   "execution_count": 25,
   "metadata": {
    "collapsed": true
   },
   "outputs": [],
   "source": [
    "from scipy.linalg import blas"
   ]
  },
  {
   "cell_type": "code",
   "execution_count": 26,
   "metadata": {
    "collapsed": true
   },
   "outputs": [],
   "source": [
    "def fast_dot_prod(X):\n",
    "    ### You may assume that all entries in X contain numerical values\n",
    "    ###\n",
    "    return blas.dgemm(alpha=1., a=X.T, b=X.T, trans_a=True)\n",
    "    ###\n"
   ]
  },
  {
   "cell_type": "code",
   "execution_count": 27,
   "metadata": {
    "deletable": false,
    "editable": false,
    "nbgrader": {
     "grade": true,
     "grade_id": "dot_prod_test",
     "locked": true,
     "points": "3",
     "solution": false
    }
   },
   "outputs": [
    {
     "name": "stdout",
     "output_type": "stream",
     "text": [
      "Test Case 0...\n",
      "Test Case 1...\n",
      "Test Case 2...\n",
      "Test Case 3...\n",
      "Test Case 4...\n",
      "Test Case 5...\n",
      "Your solution is 1.5788274274703522 times faster.\n",
      "Passed!\n"
     ]
    }
   ],
   "source": [
    "# Test cell: `dot_prod_test` (3 points)\n",
    "import timeit as ti\n",
    "import datetime as dt\n",
    "import numpy as np\n",
    "import random as rd\n",
    "NUM_OF_RUNS = 5\n",
    "#setting seed\n",
    "seed = int((dt.datetime.now() - dt.datetime(1970,1,1)).total_seconds())\n",
    "rd.seed(seed)\n",
    "np.random.seed(seed)\n",
    "#defining the slow function again\n",
    "def slow_dot_prod(X):\n",
    "    return X.dot(X.T)\n",
    "#tests for correctness\n",
    "for i in range(NUM_OF_RUNS):\n",
    "    print(\"Test Case {}...\".format(i))\n",
    "    n = np.random.randint(4,8,dtype=int)\n",
    "    m = np.random.randint(4,8,dtype=int)\n",
    "    input_var = np.random.rand(n,m)\n",
    "    slow_result = slow_dot_prod(input_var)\n",
    "    fast_result = fast_dot_prod(input_var)\n",
    "    np.testing.assert_array_almost_equal(fast_result, slow_result, decimal = 5)\n",
    "#tests for correctness and timing\n",
    "print(\"Test Case 5...\")\n",
    "test_array = np.random.randint(12,35,size=(5000,25),dtype=int)\n",
    "input_var = fast_check_elem(test_array)*test_array\n",
    "slow_result = slow_dot_prod(input_var)\n",
    "fast_result = fast_dot_prod(input_var)\n",
    "np.testing.assert_array_almost_equal(fast_result, slow_result, decimal = 5)\n",
    "slow_time = ti.timeit(\"slow_dot_prod(input_var)\",setup=\"from __main__ import slow_dot_prod, input_var\", \n",
    "                      number=NUM_OF_RUNS)/NUM_OF_RUNS\n",
    "fast_time = ti.timeit(\"fast_dot_prod(input_var)\",setup=\"from __main__ import fast_dot_prod, input_var\", \n",
    "                      number=NUM_OF_RUNS)/NUM_OF_RUNS\n",
    "ratio = slow_time / fast_time\n",
    "print(\"Your solution is {} times faster.\".format(ratio))\n",
    "assert ratio >= 1.4, \"Your solution isn't at least 1.4 times faster than our solution.\"\n",
    "print(\"Passed!\")"
   ]
  },
  {
   "cell_type": "markdown",
   "metadata": {
    "deletable": false,
    "editable": false,
    "nbgrader": {
     "grade": false,
     "locked": true,
     "solution": false
    }
   },
   "source": [
    "### Average pixel compression\n",
    "\n",
    "In this exercise, you will be given 4 2-D array that represents the RGBA values of an image. Your goal calculate the RGBA values of a new compressed image based on the images given. The approach for this is to average the values of each 2 by 2 pixel block into a single pixel.    \n",
    "\n",
    "Take this 2-D array as an example:  \n",
    "```\n",
    "[[4, 4, 1, 2], \n",
    " [4, 4, 3, 2], \n",
    " [3, 4, 1, 1],\n",
    " [5, 4, 1, 5]]\n",
    "```  \n",
    "\n",
    "The resulting compressed array would be:  \n",
    "```\n",
    "[[4, 2], \n",
    " [4, 2]]\n",
    "``` "
   ]
  },
  {
   "cell_type": "markdown",
   "metadata": {
    "deletable": false,
    "editable": false,
    "nbgrader": {
     "grade": false,
     "locked": true,
     "solution": false
    }
   },
   "source": [
    "**Exercise 5** (3 points)  \n",
    "Write a function `fast_calc_compression` with the following parameters:  \n",
    "- `R`: A numpy array representing the red values of an image\n",
    "- `G`: A numpy array representing the green values of an image\n",
    "- `B`: A numpy array representing the blue values of an image\n",
    "- `A`: A numpy array representing the alpha values of an image\n",
    "\n",
    "The function should return tuple containing the compressed versions of `R`, `G`, `B`, and `A` using the compression method described above. The compressed `R`, `G`, `B` and `A` must also be numpy arrays with integer values. \n",
    "\n",
    "**Hint:** `np.ix_` may be useful here. https://docs.scipy.org/doc/numpy/reference/generated/numpy.ix_.html\n",
    "\n",
    "You function must run 10 times faster than `slow_calc_compression`.  "
   ]
  },
  {
   "cell_type": "code",
   "execution_count": null,
   "metadata": {
    "collapsed": true,
    "deletable": false,
    "editable": false,
    "nbgrader": {
     "grade": false,
     "locked": true,
     "solution": false
    }
   },
   "outputs": [],
   "source": [
    "def slow_calc_compression(R, G, B, A):\n",
    "    import numpy as np\n",
    "    new_shape = R.shape[0] // 2\n",
    "    compressed_R = np.zeros((new_shape, new_shape))\n",
    "    compressed_G = np.zeros((new_shape, new_shape))\n",
    "    compressed_B = np.zeros((new_shape, new_shape)) \n",
    "    compressed_A = np.zeros((new_shape, new_shape))    \n",
    "    for i in range(0, new_shape):\n",
    "        for j in range(0, new_shape):\n",
    "            old_i = 2*i\n",
    "            old_j = 2*j\n",
    "            compressed_R[i][j] = (R[old_i][old_j] + R[old_i+1][old_j] + R[old_i][old_j+1] + R[old_i+1][old_j+1]) // 4\n",
    "            compressed_G[i][j] = (G[old_i][old_j] + G[old_i+1][old_j] + G[old_i][old_j+1] + G[old_i+1][old_j+1]) // 4\n",
    "            compressed_B[i][j] = (B[old_i][old_j] + B[old_i+1][old_j] + B[old_i][old_j+1] + B[old_i+1][old_j+1]) // 4\n",
    "            compressed_A[i][j] = (A[old_i][old_j] + A[old_i+1][old_j] + A[old_i][old_j+1] + A[old_i+1][old_j+1]) // 4\n",
    "    return (compressed_R, compressed_G, compressed_B, compressed_A)"
   ]
  },
  {
   "cell_type": "code",
   "execution_count": null,
   "metadata": {
    "collapsed": true
   },
   "outputs": [],
   "source": [
    "def fast_calc_compression(R, G, B, A):\n",
    "    ### you may assume the shape of R, G, B, and A is a square matrix and will have the same size\n",
    "    ### also the total number of elements in each matrix is divisible by 4\n",
    "    ### also the numbers in R, G and B range from 0-255\n",
    "    ###\n",
    "    \n",
    "    ###\n"
   ]
  },
  {
   "cell_type": "code",
   "execution_count": null,
   "metadata": {
    "collapsed": true,
    "deletable": false,
    "editable": false,
    "nbgrader": {
     "grade": true,
     "grade_id": "calc_compression_test",
     "locked": true,
     "points": "3",
     "solution": false
    }
   },
   "outputs": [],
   "source": [
    "# Test cell: `calc_compression_test` (3 points)\n",
    "import timeit as ti\n",
    "import datetime as dt\n",
    "import numpy as np\n",
    "import random as rd\n",
    "from PIL import Image\n",
    "NUM_OF_RUNS = 5\n",
    "#setting seed\n",
    "seed = int((dt.datetime.now() - dt.datetime(1970,1,1)).total_seconds())\n",
    "rd.seed(seed)\n",
    "np.random.seed(seed)\n",
    "#defining the slow function again\n",
    "def slow_calc_compression(R, G, B, A):\n",
    "    import numpy as np\n",
    "    new_shape = R.shape[0] // 2\n",
    "    compressed_R = np.zeros((new_shape, new_shape))\n",
    "    compressed_G = np.zeros((new_shape, new_shape))\n",
    "    compressed_B = np.zeros((new_shape, new_shape)) \n",
    "    compressed_A = np.zeros((new_shape, new_shape))    \n",
    "    for i in range(0, new_shape):\n",
    "        for j in range(0, new_shape):\n",
    "            old_i = 2*i\n",
    "            old_j = 2*j\n",
    "            compressed_R[i][j] = (R[old_i][old_j] + R[old_i+1][old_j] + R[old_i][old_j+1] + R[old_i+1][old_j+1]) // 4\n",
    "            compressed_G[i][j] = (G[old_i][old_j] + G[old_i+1][old_j] + G[old_i][old_j+1] + G[old_i+1][old_j+1]) // 4\n",
    "            compressed_B[i][j] = (B[old_i][old_j] + B[old_i+1][old_j] + B[old_i][old_j+1] + B[old_i+1][old_j+1]) // 4\n",
    "            compressed_A[i][j] = (A[old_i][old_j] + A[old_i+1][old_j] + A[old_i][old_j+1] + A[old_i+1][old_j+1]) // 4\n",
    "    return (compressed_R, compressed_G, compressed_B, compressed_A)\n",
    "#tests for correctness\n",
    "for i in range(NUM_OF_RUNS):\n",
    "    print(\"Test Case {}...\".format(i))\n",
    "    input_R = np.random.randint(256, size=(i*4 + 4, i*4 + 4))\n",
    "    input_G = np.random.randint(256, size=(i*4 + 4, i*4 + 4))\n",
    "    input_B = np.random.randint(256, size=(i*4 + 4, i*4 + 4))\n",
    "    input_A = np.random.randint(256, size=(i*4 + 4, i*4 + 4))\n",
    "    input_var = (input_R, input_G, input_B, input_A)\n",
    "    slow_result_R, slow_result_G, slow_result_B, slow_result_A = slow_calc_compression(*input_var)\n",
    "    fast_result_R, fast_result_G, fast_result_B, fast_result_A = fast_calc_compression(*input_var)\n",
    "    np.testing.assert_array_equal(slow_result_R, fast_result_R, \n",
    "                                  \"Correct output\\n {}, \\nYour output\\n {}\".format(slow_result_R, fast_result_R))\n",
    "    np.testing.assert_array_equal(slow_result_G, fast_result_G, \n",
    "                                  \"Correct output\\n {}, \\nYour output\\n {}\".format(slow_result_G, fast_result_G))\n",
    "    np.testing.assert_array_equal(slow_result_B, fast_result_B, \n",
    "                                  \"Correct output\\n {}, \\nYour output\\n {}\".format(slow_result_B, fast_result_B))\n",
    "    np.testing.assert_array_equal(slow_result_A, fast_result_A, \n",
    "                                  \"Correct output\\n {}, \\nYour output\\n {}\".format(slow_result_A, fast_result_A))    \n",
    "# #tests for correctness and timing\n",
    "print(\"Test Case 5...\")\n",
    "print(\"\")\n",
    "print(\"Working with a small 160 X 160 image.\")\n",
    "surfer = Image.open(\"surfer.png\")\n",
    "print(\"Uncompressed Image:\")\n",
    "display(surfer)\n",
    "#get width and height\n",
    "width, height = surfer.size\n",
    "#get the pixels\n",
    "pixels = surfer.getdata()\n",
    "pixels = np.asarray(pixels)\n",
    "pixels = np.reshape(pixels, newshape=(width, height, 4))\n",
    "#split into separate variables\n",
    "input_R = pixels[:,:,0]\n",
    "input_G = pixels[:,:,1]\n",
    "input_B = pixels[:,:,2]\n",
    "input_A = pixels[:,:,3]\n",
    "input_var = (input_R, input_G, input_B, input_A)\n",
    "#conver and test for correctness\n",
    "slow_result_R, slow_result_G, slow_result_B, slow_result_A = slow_calc_compression(*input_var)\n",
    "fast_result_R, fast_result_G, fast_result_B, fast_result_A = fast_calc_compression(*input_var)\n",
    "np.testing.assert_array_equal(slow_result_R, fast_result_R, \n",
    "                                  \"Correct output\\n {}, \\nYour output\\n {}\".format(slow_result_R, fast_result_R))\n",
    "np.testing.assert_array_equal(slow_result_G, fast_result_G, \n",
    "                              \"Correct output\\n {}, \\nYour output\\n {}\".format(slow_result_G, fast_result_G))\n",
    "np.testing.assert_array_equal(slow_result_B, fast_result_B, \n",
    "                              \"Correct output\\n {}, \\nYour output\\n {}\".format(slow_result_B, fast_result_B))\n",
    "np.testing.assert_array_equal(slow_result_A, fast_result_A, \n",
    "                              \"Correct output\\n {}, \\nYour output\\n {}\".format(slow_result_A, fast_result_A))  \n",
    "#test for timing \n",
    "slow_time = ti.timeit(\"slow_calc_compression(*input_var)\",setup=\"from __main__ import slow_calc_compression, input_var\", \n",
    "                      number=NUM_OF_RUNS)/NUM_OF_RUNS\n",
    "fast_time = ti.timeit(\"fast_calc_compression(*input_var)\",setup=\"from __main__ import fast_calc_compression, input_var\", \n",
    "                      number=NUM_OF_RUNS)/NUM_OF_RUNS\n",
    "ratio = slow_time / fast_time\n",
    "print(\"Your solultion is {} times faster.\".format(ratio))\n",
    "assert ratio >= 10, \"Your solution isn't at least 10 times faster than our solution.\"\n",
    "#take the compressed pixels and change back into an image\n",
    "new_width, new_height = fast_result_R.shape[0], fast_result_R.shape[1]\n",
    "new_pixels = np.zeros(shape=(new_width, new_height, 4)).astype(int)\n",
    "new_pixels[:,:,0] = fast_result_R\n",
    "new_pixels[:,:,1] = fast_result_G\n",
    "new_pixels[:,:,2] = fast_result_B\n",
    "new_pixels[:,:,3] = fast_result_A\n",
    "new_pixels = new_pixels.reshape(new_width * new_height, 4)\n",
    "new_pixel_list = []\n",
    "for i in range(new_pixels.shape[0]):\n",
    "    new_pixel_list.append((new_pixels[i][0], new_pixels[i][1], new_pixels[i][2], new_pixels[i][3]))\n",
    "new_surfer = Image.new(\"RGBA\", (new_width, new_height))\n",
    "new_surfer.putdata(new_pixel_list)\n",
    "print(\"Compressed Image:\")\n",
    "display(new_surfer)\n",
    "print(\"And now you got a mini surfer! =)\")\n",
    "print(\"Passed!\")"
   ]
  },
  {
   "cell_type": "markdown",
   "metadata": {
    "deletable": false,
    "editable": false,
    "nbgrader": {
     "grade": false,
     "locked": true,
     "solution": false
    }
   },
   "source": [
    "**Fin!** You've reached the end of this problem. Don't forget to restart the\n",
    "kernel and run the entire notebook from top-to-bottom to make sure you did\n",
    "everything correctly. If that is working, try submitting this problem. (Recall\n",
    "that you *must* submit and pass the autograder to get credit for your work!)"
   ]
  }
 ],
 "metadata": {
  "kernelspec": {
   "display_name": "Python 3 [3.6]",
   "language": "python",
   "name": "python3"
  },
  "language_info": {
   "codemirror_mode": {
    "name": "ipython",
    "version": 3
   },
   "file_extension": ".py",
   "mimetype": "text/x-python",
   "name": "python",
   "nbconvert_exporter": "python",
   "pygments_lexer": "ipython3",
   "version": "3.6.4"
  }
 },
 "nbformat": 4,
 "nbformat_minor": 2
}
