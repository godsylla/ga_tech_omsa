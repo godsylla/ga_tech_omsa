{
 "cells": [
  {
   "cell_type": "markdown",
   "metadata": {},
   "source": [
    "# Problem 4\n",
    "\n",
    "This problem consists of a single exercise worth ten (10) points.\n",
    "\n",
    "**Exercise 0** (10 points). Complete the function `flatten(L)`, which takes a \"complex list,\" `L`, as input and returns a \"flat\" copy.\n",
    "\n",
    "By complex, we mean that the input list `L` consists of **arbitrarily nested lists of strings and integers**. For instance, here is a complex list:\n",
    "\n",
    "```python\n",
    "    L = [['a', ['cat'], 2],[[[3]], 'dog'], 4, 5]\n",
    "```\n",
    "\n",
    "Observe that there are strings and integers, but that these may be embedded within lists inside lists inside lists...\n",
    "\n",
    "Given such a list, your computational task is to extract all the strings and integers, and return them in a single flattened list. For example:\n",
    "\n",
    "```python\n",
    "  assert flatten(L) == ['a', 'cat', 2, 3, 'dog', 4, 5]\n",
    "```\n",
    "\n",
    "In your flattened version, the strings and integers must appear in the same \"left-to-right\" order as they do in the original list. For instance, if you strip out all the square brackets in the definition of `L` above, then observe that `'cat'` appears to the right of `'a'`, and `2` appears to the right of `'cat'`, and `3` appears to the right of `2`, etc.\n",
    "\n",
    "> Hint: One reasonable approach to this problem is to use _recursion_, that is, the idea of a function that calls itself to solve subproblems. See \"Recursive programs\" at the Wikipedia page on [Recursion as it is used in computer science](https://en.wikipedia.org/wiki/Recursion_%28computer_science%29#Recursive_programs)."
   ]
  },
  {
   "cell_type": "code",
   "execution_count": 1,
   "metadata": {},
   "outputs": [],
   "source": [
    "!pip install iteration_utilities --quiet"
   ]
  },
  {
   "cell_type": "code",
   "execution_count": 2,
   "metadata": {
    "scrolled": true
   },
   "outputs": [],
   "source": [
    "from iteration_utilities import deepflatten"
   ]
  },
  {
   "cell_type": "code",
   "execution_count": 10,
   "metadata": {},
   "outputs": [],
   "source": [
    "L1 = [['a', ['cat'], 2], [[[3]], 'dog'], 4, 5]\n",
    "L2 = [[1,[['b'],2],'t',[[3]],'snow'],'x',['hat',7]]\n",
    "L3 = ['x',1,'z']\n",
    "L4 = []"
   ]
  },
  {
   "cell_type": "code",
   "execution_count": 11,
   "metadata": {
    "scrolled": false
   },
   "outputs": [
    {
     "name": "stdout",
     "output_type": "stream",
     "text": [
      "['a', ['cat'], 2]\n",
      "[[[3]], 'dog']\n",
      "4\n",
      "5\n"
     ]
    }
   ],
   "source": [
    "for elem in L:\n",
    "    print(elem)"
   ]
  },
  {
   "cell_type": "code",
   "execution_count": 22,
   "metadata": {},
   "outputs": [
    {
     "data": {
      "text/plain": [
       "\"[['a', ['cat'], 2], [[[3]], 'dog'], 4, 5]\""
      ]
     },
     "execution_count": 22,
     "metadata": {},
     "output_type": "execute_result"
    }
   ],
   "source": [
    "str(L)"
   ]
  },
  {
   "cell_type": "code",
   "execution_count": 59,
   "metadata": {
    "scrolled": true
   },
   "outputs": [],
   "source": [
    "# parent_list = []\n",
    "\n",
    "# for x in L:\n",
    "#     child_list = []\n",
    "#     if isinstance(x, list):\n",
    "#         child_list.extend(x)\n",
    "#         print(child_list)\n",
    "#     else:\n",
    "#         parent_list.append(x)\n",
    "\n",
    "#     parent_list.extend(child_list)\n",
    "# print(parent_list)"
   ]
  },
  {
   "cell_type": "code",
   "execution_count": 24,
   "metadata": {},
   "outputs": [
    {
     "data": {
      "text/plain": [
       "['a', 2, 'dog', 4, 5, 'cat', 3]"
      ]
     },
     "execution_count": 24,
     "metadata": {},
     "output_type": "execute_result"
    }
   ],
   "source": [
    "# parent_list2 = []\n",
    "# for x in parent_list:\n",
    "#     child_list2 = []\n",
    "#     if isinstance(x, list):\n",
    "#         child_list2.extend(x)\n",
    "#         parent_list.extend(child_list2)\n",
    "#     else:\n",
    "#         parent_list2.append(x)\n",
    "#     parent_list.extend(child_list2)\n",
    "    \n",
    "# parent_list2"
   ]
  },
  {
   "cell_type": "code",
   "execution_count": 51,
   "metadata": {},
   "outputs": [
    {
     "data": {
      "text/plain": [
       "['a', 'cat', 2, 3, 'dog', 4, 5]"
      ]
     },
     "execution_count": 51,
     "metadata": {},
     "output_type": "execute_result"
    }
   ],
   "source": [
    "# my_flatten(L)"
   ]
  },
  {
   "cell_type": "code",
   "execution_count": 40,
   "metadata": {},
   "outputs": [
    {
     "data": {
      "text/plain": [
       "[1, 'b', 2, 't', 3, 'snow', 'x', 'hat', 7]"
      ]
     },
     "execution_count": 40,
     "metadata": {},
     "output_type": "execute_result"
    }
   ],
   "source": [
    "# my_flatten(L2)"
   ]
  },
  {
   "cell_type": "markdown",
   "metadata": {},
   "source": [
    "https://stackoverflow.com/questions/12472338/flattening-a-list-recursively"
   ]
  },
  {
   "cell_type": "code",
   "execution_count": 56,
   "metadata": {},
   "outputs": [],
   "source": [
    "def flatten(my_list):\n",
    "    if my_list == []:\n",
    "        return my_list\n",
    "    if isinstance(my_list[0], list):\n",
    "        return flatten(my_list[0]) + flatten(my_list[1:])\n",
    "    return my_list[:1] + flatten(my_list[1:])"
   ]
  },
  {
   "cell_type": "code",
   "execution_count": 57,
   "metadata": {
    "scrolled": true
   },
   "outputs": [
    {
     "data": {
      "text/plain": [
       "['a', 'cat', 2, 3, 'dog', 4, 5]"
      ]
     },
     "execution_count": 57,
     "metadata": {},
     "output_type": "execute_result"
    }
   ],
   "source": [
    "flatten(L)"
   ]
  },
  {
   "cell_type": "code",
   "execution_count": 58,
   "metadata": {},
   "outputs": [
    {
     "name": "stdout",
     "output_type": "stream",
     "text": [
      "Your result: \n",
      "['a', 'cat', 2, 3, 'dog', 4, 5]\n",
      "True result: \n",
      "['a', 'cat', 2, 3, 'dog', 4, 5]\n",
      "\n",
      "\n",
      "Your result: \n",
      "[1, 'b', 2, 't', 3, 'snow', 'x', 'hat', 7]\n",
      "True result: \n",
      "[1, 'b', 2, 't', 3, 'snow', 'x', 'hat', 7]\n",
      "\n",
      "\n",
      "Your result: \n",
      "['x', 1, 'z']\n",
      "True result: \n",
      "['x', 1, 'z']\n",
      "\n",
      "\n",
      "Your result: \n",
      "[]\n",
      "True result: \n",
      "[]\n",
      "\n",
      "(Passed!)\n"
     ]
    }
   ],
   "source": [
    "# Test cell: test_flatten (10 points)\n",
    "\n",
    "L = [['a',['cat'],2],[[[3]],'dog'],4,5]\n",
    "FL = flatten(L)\n",
    "True_L = ['a', 'cat', 2, 3, 'dog', 4, 5]\n",
    "print(\"Your result: \\n{}\".format(FL))\n",
    "print('True result: \\n{}'.format(True_L))\n",
    "assert type(FL) is list and FL == ['a', 'cat', 2, 3, 'dog', 4, 5]\n",
    "print(\"\\n\")\n",
    "\n",
    "L = [[1,[['b'],2],'t',[[3]],'snow'],'x',['hat',7]]\n",
    "FL = flatten(L)\n",
    "True_L = [1, 'b', 2, 't', 3, 'snow', 'x', 'hat', 7]\n",
    "print(\"Your result: \\n{}\".format(FL))\n",
    "print('True result: \\n{}'.format(True_L))\n",
    "assert type(FL) is list and FL == [1, 'b', 2, 't', 3, 'snow', 'x', 'hat', 7]\n",
    "print(\"\\n\")\n",
    "\n",
    "L = ['x',1,'z']\n",
    "FL = flatten(L)\n",
    "True_L = ['x',1,'z']\n",
    "print(\"Your result: \\n{}\".format(FL))\n",
    "print('True result: \\n{}'.format(True_L))\n",
    "assert type(FL) is list and FL == ['x',1,'z']\n",
    "print(\"\\n\")\n",
    "\n",
    "L = []\n",
    "FL = flatten(L)\n",
    "True_L = []\n",
    "print(\"Your result: \\n{}\".format(FL))\n",
    "print('True result: \\n{}'.format(True_L))\n",
    "assert type(FL) is list and FL == []\n",
    "\n",
    "print(\"\\n(Passed!)\")"
   ]
  },
  {
   "cell_type": "markdown",
   "metadata": {},
   "source": [
    "Fin! You've reached the end of this problem. Don't forget to restart the kernel and run the entire notebook from top-to-bottom to make sure you did everything correctly. If that is working, try submitting this problem. (Recall that you must submit and pass the autograder to get credit for your work!)\n",
    "\n"
   ]
  }
 ],
 "metadata": {
  "kernelspec": {
   "display_name": "Python 3",
   "language": "python",
   "name": "python3"
  },
  "language_info": {
   "codemirror_mode": {
    "name": "ipython",
    "version": 3
   },
   "file_extension": ".py",
   "mimetype": "text/x-python",
   "name": "python",
   "nbconvert_exporter": "python",
   "pygments_lexer": "ipython3",
   "version": "3.6.5"
  }
 },
 "nbformat": 4,
 "nbformat_minor": 2
}
