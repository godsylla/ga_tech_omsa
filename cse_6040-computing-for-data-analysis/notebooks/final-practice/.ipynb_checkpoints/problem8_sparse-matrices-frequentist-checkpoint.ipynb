{
 "cells": [
  {
   "cell_type": "markdown",
   "metadata": {
    "deletable": false,
    "editable": false,
    "nbgrader": {
     "grade": false,
     "grade_id": "cell-324a96e6c478b2b2",
     "locked": true,
     "schema_version": 1,
     "solution": false
    }
   },
   "source": [
    "# Problem 8\n",
    "\n",
    "This problem is about counting triangles in a graph, which has applications in social network analysis.\n",
    "\n",
    "It has **four (4)** exercises, numbered 0-3, which are worth a total of ten (10) points."
   ]
  },
  {
   "cell_type": "markdown",
   "metadata": {
    "deletable": false,
    "editable": false,
    "nbgrader": {
     "grade": false,
     "grade_id": "cell-b4ca6f642fa17c3b",
     "locked": true,
     "schema_version": 1,
     "solution": false
    }
   },
   "source": [
    "## Background: Counting triangles in a social network\n",
    "\n",
    "A social network may be modeled as an undirected graph, like the one shown below.\n",
    "\n",
    "![An example of an undirected graph](./graph.png)"
   ]
  },
  {
   "cell_type": "markdown",
   "metadata": {
    "deletable": false,
    "editable": false,
    "nbgrader": {
     "grade": false,
     "grade_id": "cell-73c50c3d950b4e65",
     "locked": true,
     "schema_version": 1,
     "solution": false
    }
   },
   "source": [
    "The _nodes_ (or _vertices_) of this graph, shown as numbered circles, might represent people, and the _edges_ (or links connecting them) might represent who is friends with whom. In this case, person 0 is friends with all the \"odd birds\" of this network, persons 1, 3, and 5, but has no direct connection to persons 2 and 4."
   ]
  },
  {
   "cell_type": "markdown",
   "metadata": {
    "deletable": false,
    "editable": false,
    "nbgrader": {
     "grade": false,
     "grade_id": "cell-a4404c6fd84c6a38",
     "locked": true,
     "schema_version": 1,
     "solution": false
    }
   },
   "source": [
    "**Adjacency matrix.** Let $A$ be the _adjacency matrix_ representation of the graph, defined as follows. The entries of $A$ are either 0 or 1; and $a_{i,j}$ equals 1 if and only if there is an edge connecting nodes $i$ and $j$. For instance, for the graph shown above,\n",
    "\n",
    "$$\n",
    "A = \\begin{bmatrix}\n",
    "        0 & 1 & 0 & 1 & 0 & 1 \\\\\n",
    "        1 & 0 & 0 & 1 & 0 & 0 \\\\\n",
    "        0 & 0 & 0 & 1 & 0 & 0 \\\\\n",
    "        1 & 1 & 1 & 0 & 1 & 1 \\\\\n",
    "        0 & 0 & 0 & 1 & 0 & 0 \\\\\n",
    "        1 & 0 & 0 & 1 & 0 & 0\n",
    "    \\end{bmatrix}.\n",
    "$$\n",
    "\n",
    "Observe that the relationships are symmetric. For instance, 0 and 1 are mutually connected; therefore, both $a_{0,1}$ and $a_{1, 0}$ equal 1, and in general, $A = A^T$."
   ]
  },
  {
   "cell_type": "markdown",
   "metadata": {
    "deletable": false,
    "editable": false,
    "nbgrader": {
     "grade": false,
     "grade_id": "cell-a3ab862d327066fb",
     "locked": true,
     "schema_version": 1,
     "solution": false
    }
   },
   "source": [
    "**Counting triangles.** One type of analysis one might perform on such a graph is _counting triangles_, that is, the number of relationships of the form $a$ knows $b$, $b$ knows $c$, and $c$ knows $a$. In the graph shown above, there are two such triangles: (0, 1, 3) and (0, 3, 5).\n",
    "\n",
    "Here is one way to count triangles, which uses linear algebra.\n",
    "\n",
    "First, let $A \\cdot B$ denote matrix multiplication. That is, $C = A \\cdot B$ means $c_{i,j} = \\sum_k a_{i,k} b_{k, j}$.\n",
    "\n",
    "Next, let $A \\odot B$ denote _elementwise_ multiplication. That is, $E = A \\odot B$ means $e_{i, j} = a_{i, j} b_{i, j}$."
   ]
  },
  {
   "cell_type": "markdown",
   "metadata": {
    "deletable": false,
    "editable": false,
    "nbgrader": {
     "grade": false,
     "grade_id": "cell-4b7f330b5d10a7fc",
     "locked": true,
     "schema_version": 1,
     "solution": false
    }
   },
   "source": [
    "Then, here is a two-step method to compute the number of triangles, which we'll denote as $t(A)$:\n",
    "\n",
    "$$\n",
    "\\begin{eqnarray}\n",
    "       C & = & (A \\cdot A) \\odot A \\\\\n",
    "    t(A) & = & \\frac{1}{6} \\sum_{i, j} c_{i,j}.\n",
    "\\end{eqnarray}\n",
    "$$\n",
    "\n",
    "The first step computes a \"count\" matrix $C$. Each element, $c_{i,j}$, counts the number of triangles in which both $i$ and $j$ appear. For the example shown above, it turns out that $c_{0, 1} = c_{1,0} = 1$ since there is only one triangle that uses the edge $(0, 1)$, whereas $c_{0, 3} = c_{3, 0} = 2$ because the edge $(0, 3)$ appears in two triangles.\n",
    "\n",
    "The second step sums all the elements of $C$. However, the sum alone will overcount the number of unique triangles by a factor of six (6), hence the additional factor of $\\frac{1}{6}$. (Why?)\n",
    "\n",
    "> Instead of summing all the entries of $A$, one can exploit symmetry and consider just the upper- or lower-triangle, but more on that later!"
   ]
  },
  {
   "cell_type": "markdown",
   "metadata": {
    "deletable": false,
    "editable": false,
    "nbgrader": {
     "grade": false,
     "grade_id": "cell-779775a9d973ec2f",
     "locked": true,
     "schema_version": 1,
     "solution": false
    }
   },
   "source": [
    "**Exercise 0** (3 points). Implement a function, **`count_triangles(A)`**, that implements the above formula. That is, given a symmetric Numpy array `A` representing the adjacency matrix of a graph, this function will return the number of triangles.\n",
    "\n",
    "Your implementation should return a value of type **int**. For example, for the matrix in the sample,\n",
    "\n",
    "```python\n",
    "    assert count_triangles(A) == int(2)\n",
    "```"
   ]
  },
  {
   "cell_type": "code",
   "execution_count": 1,
   "metadata": {
    "nbgrader": {
     "grade": false,
     "grade_id": "count_triangles",
     "locked": false,
     "schema_version": 1,
     "solution": true
    }
   },
   "outputs": [
    {
     "name": "stdout",
     "output_type": "stream",
     "text": [
      "2\n"
     ]
    }
   ],
   "source": [
    "import numpy as np\n",
    "\n",
    "def count_triangles(A):\n",
    "    assert (type(A) is np.ndarray) and (A.ndim == 2) and (A.shape[0] == A.shape[1])\n",
    "    ###\n",
    "    dot_prod = A.dot(A)\n",
    "    elem_mult= np.multiply(dot_prod, A)\n",
    "    \n",
    "    triangles = np.sum(elem_mult)/6\n",
    "    return int(triangles)\n",
    "    ###\n",
    "\n",
    "A = np.array([[0, 1, 0, 1, 0, 1],\n",
    "              [1, 0, 0, 1, 0, 0],\n",
    "              [0, 0, 0, 1, 0, 0],\n",
    "              [1, 1, 1, 0, 1, 1],\n",
    "              [0, 0, 0, 1, 0, 0],\n",
    "              [1, 0, 0, 1, 0, 0]], dtype=int)\n",
    "print(count_triangles(A))"
   ]
  },
  {
   "cell_type": "code",
   "execution_count": 2,
   "metadata": {
    "deletable": false,
    "editable": false,
    "nbgrader": {
     "grade": true,
     "grade_id": "count_triangles_test",
     "locked": true,
     "points": 1,
     "schema_version": 1,
     "solution": false
    }
   },
   "outputs": [
    {
     "name": "stdout",
     "output_type": "stream",
     "text": [
      "\n",
      "(Passed part 1.)\n"
     ]
    }
   ],
   "source": [
    "# Test cell: `count_triangles_test`\n",
    "\n",
    "ntri_A = count_triangles(A)\n",
    "assert type(ntri_A) is int, \"You should return a value of type `int`.\"\n",
    "assert ntri_A == 2, \"The graph only has 2 triangles, not {}\".format(ntri_A)\n",
    "\n",
    "print(\"\\n(Passed part 1.)\")"
   ]
  },
  {
   "cell_type": "code",
   "execution_count": 3,
   "metadata": {
    "deletable": false,
    "editable": false,
    "nbgrader": {
     "grade": true,
     "grade_id": "count_triangles_test2",
     "locked": true,
     "points": 2,
     "schema_version": 1,
     "solution": false
    }
   },
   "outputs": [
    {
     "name": "stdout",
     "output_type": "stream",
     "text": [
      "0 15 15.0\n",
      "1 17 16.0\n",
      "2 17 16.333333333333332\n",
      "3 15 16.0\n",
      "4 24 17.6\n",
      "5 23 18.5\n",
      "6 25 19.428571428571427\n",
      "7 17 19.125\n",
      "8 29 20.22222222222222\n",
      "9 14 19.6\n",
      "10 12 18.90909090909091\n",
      "11 15 18.583333333333332\n",
      "12 30 19.46153846153846\n",
      "13 22 19.642857142857142\n",
      "14 25 20.0\n",
      "15 14 19.625\n",
      "16 28 20.11764705882353\n",
      "17 20 20.11111111111111\n",
      "18 16 19.894736842105264\n",
      "19 21 19.95\n",
      "20 23 20.095238095238095\n",
      "21 19 20.045454545454547\n",
      "22 19 20.0\n",
      "23 20 20.0\n",
      "24 12 19.68\n"
     ]
    },
    {
     "name": "stderr",
     "output_type": "stream",
     "text": [
      "/usr/local/lib/python3.6/site-packages/scipy/stats/stats.py:1713: FutureWarning: Using a non-tuple sequence for multidimensional indexing is deprecated; use `arr[tuple(seq)]` instead of `arr[seq]`. In the future this will be interpreted as an array index, `arr[np.array(seq)]`, which will result either in an error or a different result.\n",
      "  return np.add.reduce(sorted[indexer] * weights, axis=axis) / sumval\n"
     ]
    },
    {
     "data": {
      "image/png": "[encoded data removed]",
      "text/plain": [
       "<matplotlib.figure.Figure at 0x7fa83404eba8>"
      ]
     },
     "metadata": {},
     "output_type": "display_data"
    }
   ],
   "source": [
    "# Test cell: `count_triangles_test2`\n",
    "import matplotlib.pyplot as plt\n",
    "%matplotlib inline\n",
    "import seaborn as sns\n",
    "\n",
    "def check_count_triangles_large(n, den=1e-2):\n",
    "    U_large = np.triu(np.random.rand(n, n) <= den).astype(int)\n",
    "    np.fill_diagonal(U_large, 0)\n",
    "    A_large = U_large + U_large.T\n",
    "    return count_triangles(A_large)\n",
    "\n",
    "n, den, k_max, mu, sd = 500, 1e-2, 25, 21, 5\n",
    "nts = np.zeros(k_max, dtype=int)\n",
    "for k in range(k_max):\n",
    "    nts[k] = check_count_triangles_large(n, den)\n",
    "    print(k, nts[k], np.sum(nts[:k+1])/(k+1))\n",
    "sns.distplot(nts)\n",
    "plt.xlabel(\"Number of triangles\")\n",
    "plt.ylabel(\"Count\")\n",
    "plt.title(\"{} trials: {} nodes, uniform random connections, {}% fill\".format(k_max, n, den*100))\n",
    "\n",
    "assert (mu-sd) <= np.mean(nts) <= (mu+sd), \"mean={}\".format(np.mean(nts))"
   ]
  },
  {
   "cell_type": "markdown",
   "metadata": {
    "deletable": false,
    "editable": false,
    "nbgrader": {
     "grade": false,
     "grade_id": "cell-b4ec96c4fe4e412e",
     "locked": true,
     "schema_version": 1,
     "solution": false
    }
   },
   "source": [
    "## Actor network\n",
    "\n",
    "Let's apply the triangle counts to a real \"social\" network, namely, the graph of actors who have appeared in the same movie. The dataset in this problem uses data collected on a crawl of the [Top 250 movies on the Internet Movie Database](https://github.com/napsternxg/IMDB-Graph/tree/master/Data/tutorial/tutorial) (circa 2012).\n",
    "\n",
    "Let's start by loading this data, which is contained in a pair of JSON files.\n",
    "\n",
    "> These data are pre-loaded on Vocareum. A copy is available at the following URL, but you may need to adapt the code below to use it. https://cse6040.gatech.edu/datasets/imdb.zip"
   ]
  },
  {
   "cell_type": "code",
   "execution_count": 4,
   "metadata": {
    "collapsed": true,
    "deletable": false,
    "editable": false,
    "nbgrader": {
     "grade": false,
     "grade_id": "cell-38fd73d5b41c7559",
     "locked": true,
     "schema_version": 1,
     "solution": false
    }
   },
   "outputs": [],
   "source": [
    "import json\n",
    "\n",
    "def fn(fn_base, dirname='../resource/asnlib/publicdata/'):\n",
    "    return \"{}{}\".format(dirname, fn_base)\n",
    "\n",
    "def load_json(basefile):\n",
    "    filename = fn(basefile)\n",
    "    json_file = open(filename, encoding=\"utf8\")\n",
    "    json_str = json_file.read()\n",
    "    json_data = json.loads(json_str)\n",
    "    return json_data\n",
    "\n",
    "movies_json = load_json(\"imdb.json\")\n",
    "casts_json = load_json(\"imdb_cast.json\")"
   ]
  },
  {
   "cell_type": "markdown",
   "metadata": {
    "deletable": false,
    "editable": false,
    "nbgrader": {
     "grade": false,
     "grade_id": "cell-5dd95a586866ea18",
     "locked": true,
     "schema_version": 1,
     "solution": false
    }
   },
   "source": [
    "**About the data.** There are two parts to the data.\n",
    "\n",
    "The first is `movies_json`, which is a JSON formatted collection of movie titles and IDs. It is a list and here are the first few entries:"
   ]
  },
  {
   "cell_type": "code",
   "execution_count": 5,
   "metadata": {
    "deletable": false,
    "editable": false,
    "nbgrader": {
     "grade": false,
     "grade_id": "cell-64dd41d226beb116",
     "locked": true,
     "schema_version": 1,
     "solution": false
    }
   },
   "outputs": [
    {
     "name": "stdout",
     "output_type": "stream",
     "text": [
      "=== First five entries of `movies_json` ===\n",
      "\n",
      "[0] {'link': ['/title/tt0111161/'], 'name': ['The Shawshank Redemption']}\n",
      "[1] {'link': ['/title/tt0068646/'], 'name': ['The Godfather']}\n",
      "[2] {'link': ['/title/tt0071562/'], 'name': ['The Godfather: Part II']}\n",
      "[3] {'link': ['/title/tt0110912/'], 'name': ['Pulp Fiction']}\n",
      "[4] {'link': ['/title/tt0060196/'], 'name': ['The Good, the Bad and the Ugly']}\n",
      "...\n"
     ]
    }
   ],
   "source": [
    "print(\"=== First five entries of `movies_json` ===\\n\")\n",
    "for k, m in enumerate(movies_json[:5]):\n",
    "    print(\"[{}] {}\".format(k, m))\n",
    "print(\"...\")"
   ]
  },
  {
   "cell_type": "markdown",
   "metadata": {
    "deletable": false,
    "editable": false,
    "nbgrader": {
     "grade": false,
     "grade_id": "cell-8bf60a62bd7dfee1",
     "locked": true,
     "schema_version": 1,
     "solution": false
    }
   },
   "source": [
    "The second part is `casts_json`, which is a JSON formatted collection of movies with information about who appeared in the movie. It is also a list and here is the very first element.\n",
    "\n",
    "Observe that it is a dictionary with information about a single movie, including the movie's title, it's IMDB URL, and list of actors (cast members)."
   ]
  },
  {
   "cell_type": "code",
   "execution_count": 6,
   "metadata": {
    "deletable": false,
    "editable": false,
    "nbgrader": {
     "grade": false,
     "grade_id": "cell-271118dbcfa67b0a",
     "locked": true,
     "schema_version": 1,
     "solution": false
    },
    "scrolled": true
   },
   "outputs": [
    {
     "name": "stdout",
     "output_type": "stream",
     "text": [
      "=== First entry of `casts_json` ===\n",
      "\n",
      "{\n",
      "   \"movie\": {\n",
      "      \"url\": \"http://www.imdb.com/title/tt0050083/fullcredits\",\n",
      "      \"name\": [\n",
      "         \"12 Angry Men (1957) - Full cast and crew\"\n",
      "      ]\n",
      "   },\n",
      "   \"rank\": 1,\n",
      "   \"cast\": [\n",
      "      {\n",
      "         \"link\": [\n",
      "            \"/name/nm0000842/\"\n",
      "         ],\n",
      "         \"name\": [\n",
      "            \"Martin Balsam\"\n",
      "         ]\n",
      "      },\n",
      "      {\n",
      "         \"link\": [\n",
      "            \"/name/nm0275835/\"\n",
      "         ],\n",
      "         \"name\": [\n",
      "            \"John Fiedler\"\n",
      "         ]\n",
      "      },\n",
      "      {\n",
      "         \"link\": [\n",
      "            \"/name/nm0002011/\"\n",
      "         ],\n",
      "         \"name\": [\n",
      "            \"Lee J. Cobb\"\n",
      "         ]\n",
      "      },\n",
      "      {\n",
      "         \"link\": [\n",
      "            \"/name/nm0550855/\"\n",
      "         ],\n",
      "         \"name\": [\n",
      "            \"E.G. Marshall\"\n",
      "         ]\n",
      "      },\n",
      "      {\n",
      "         \"link\": [\n",
      "            \"/name/nm0001430/\"\n",
      "         ],\n",
      "         \"name\": [\n",
      "            \"Jack Klugman\"\n",
      "         ]\n",
      "      },\n",
      "      {\n",
      "         \"link\": [\n",
      "            \"/name/nm0083081/\"\n",
      "         ],\n",
      "         \"name\": [\n",
      "            \"Edward Binns\"\n",
      "         ]\n",
      "      },\n",
      "      {\n",
      "         \"link\": [\n",
      "            \"/name/nm0912001/\"\n",
      "         ],\n",
      "         \"name\": [\n",
      "            \"Jack Warden\"\n",
      "         ]\n",
      "      },\n",
      "      {\n",
      "         \"link\": [\n",
      "            \"/name/nm0000020/\"\n",
      "         ],\n",
      "         \"name\": [\n",
      "            \"Henry Fonda\"\n",
      "         ]\n",
      "      },\n",
      "      {\n",
      "         \"link\": [\n",
      "            \"/name/nm0842137/\"\n",
      "         ],\n",
      "         \"name\": [\n",
      "            \"Joseph Sweeney\"\n",
      "         ]\n",
      "      },\n",
      "      {\n",
      "         \"link\": [\n",
      "            \"/name/nm0003225/\"\n",
      "         ],\n",
      "         \"name\": [\n",
      "            \"Ed Begley\"\n",
      "         ]\n",
      "      },\n",
      "      {\n",
      "         \"link\": [\n",
      "            \"/name/nm0903667/\"\n",
      "         ],\n",
      "         \"name\": [\n",
      "            \"George Voskovec\"\n",
      "         ]\n",
      "      },\n",
      "      {\n",
      "         \"link\": [\n",
      "            \"/name/nm0916434/\"\n",
      "         ],\n",
      "         \"name\": [\n",
      "            \"Robert Webber\"\n",
      "         ]\n",
      "      },\n",
      "      {\n",
      "         \"link\": [\n",
      "            \"/name/nm0094036/\"\n",
      "         ],\n",
      "         \"name\": [\n",
      "            \"Rudy Bond\"\n",
      "         ]\n",
      "      },\n",
      "      {\n",
      "         \"link\": [\n",
      "            \"/name/nm0446450/\"\n",
      "         ],\n",
      "         \"name\": [\n",
      "            \"James Kelly\"\n",
      "         ]\n",
      "      },\n",
      "      {\n",
      "         \"link\": [\n",
      "            \"/name/nm0625180/\"\n",
      "         ],\n",
      "         \"name\": [\n",
      "            \"Billy Nelson\"\n",
      "         ]\n",
      "      },\n",
      "      {\n",
      "         \"link\": [\n",
      "            \"/name/nm0767847/\"\n",
      "         ],\n",
      "         \"name\": [\n",
      "            \"John Savoca\"\n",
      "         ]\n",
      "      }\n",
      "   ]\n",
      "}\n"
     ]
    }
   ],
   "source": [
    "print(\"=== First entry of `casts_json` ===\\n\")\n",
    "print(json.dumps(casts_json[0], indent=3))"
   ]
  },
  {
   "cell_type": "markdown",
   "metadata": {
    "deletable": false,
    "editable": false,
    "nbgrader": {
     "grade": false,
     "grade_id": "cell-5b42af76df60880f",
     "locked": true,
     "schema_version": 1,
     "solution": false
    }
   },
   "source": [
    "#### **Exercise 1** (2 points). Implement a function that, given the `casts_json` list, returns a dictionary that maps actor links to actor names.\n",
    "\n",
    "In the example above, the first actor listed for \"12 Angry Men\" is `\"Martin Balsam\"`, whose link is `\"/name/nm0000842/\"`. Therefore, the dictionary that your function returns should include the key-value pair, `\"/name/nm0000842/\" : \"Martin Balsam\"`.\n",
    "\n",
    "> _Slightly tricky bit._ You will need to pay careful attention to the structure of the output above to get this one right."
   ]
  },
  {
   "cell_type": "code",
   "execution_count": 7,
   "metadata": {
    "scrolled": true
   },
   "outputs": [
    {
     "data": {
      "text/plain": [
       "dict"
      ]
     },
     "execution_count": 7,
     "metadata": {},
     "output_type": "execute_result"
    }
   ],
   "source": [
    "type(casts_json[0])"
   ]
  },
  {
   "cell_type": "code",
   "execution_count": 8,
   "metadata": {
    "scrolled": false
   },
   "outputs": [
    {
     "data": {
      "text/plain": [
       "[{'link': ['/name/nm0000842/'], 'name': ['Martin Balsam']},\n",
       " {'link': ['/name/nm0275835/'], 'name': ['John Fiedler']},\n",
       " {'link': ['/name/nm0002011/'], 'name': ['Lee J. Cobb']},\n",
       " {'link': ['/name/nm0550855/'], 'name': ['E.G. Marshall']},\n",
       " {'link': ['/name/nm0001430/'], 'name': ['Jack Klugman']},\n",
       " {'link': ['/name/nm0083081/'], 'name': ['Edward Binns']},\n",
       " {'link': ['/name/nm0912001/'], 'name': ['Jack Warden']},\n",
       " {'link': ['/name/nm0000020/'], 'name': ['Henry Fonda']},\n",
       " {'link': ['/name/nm0842137/'], 'name': ['Joseph Sweeney']},\n",
       " {'link': ['/name/nm0003225/'], 'name': ['Ed Begley']},\n",
       " {'link': ['/name/nm0903667/'], 'name': ['George Voskovec']},\n",
       " {'link': ['/name/nm0916434/'], 'name': ['Robert Webber']},\n",
       " {'link': ['/name/nm0094036/'], 'name': ['Rudy Bond']},\n",
       " {'link': ['/name/nm0446450/'], 'name': ['James Kelly']},\n",
       " {'link': ['/name/nm0625180/'], 'name': ['Billy Nelson']},\n",
       " {'link': ['/name/nm0767847/'], 'name': ['John Savoca']}]"
      ]
     },
     "execution_count": 8,
     "metadata": {},
     "output_type": "execute_result"
    }
   ],
   "source": [
    "test_record = casts_json[0]\n",
    "test_record.get('cast')"
   ]
  },
  {
   "cell_type": "code",
   "execution_count": 9,
   "metadata": {
    "nbgrader": {
     "grade": false,
     "grade_id": "gather_actors",
     "locked": false,
     "schema_version": 1,
     "solution": true
    }
   },
   "outputs": [
    {
     "name": "stdout",
     "output_type": "stream",
     "text": [
      "Found 12975 unique actors.\n",
      "\n",
      "'/name/nm0000842/' -> 'Martin Balsam'\n"
     ]
    }
   ],
   "source": [
    "def gather_actors(casts):\n",
    "    actors = dict() # Use to store (actor link) : (actor name) pairs\n",
    "    for movie in casts:\n",
    "        assert \"cast\" in movie\n",
    "        ###\n",
    "        cast_members = movie.get('cast')\n",
    "        for member in cast_members:\n",
    "            k = member['link'][0]\n",
    "            v = member['name'][0]\n",
    "            actors.update({k:v})\n",
    "        ###\n",
    "    return actors\n",
    "\n",
    "actors = gather_actors(casts_json)\n",
    "print(\"Found {} unique actors.\\n\".format(len(actors)))\n",
    "\n",
    "assert \"/name/nm0000842/\" in actors\n",
    "print(\"'{}' -> '{}'\".format(\"/name/nm0000842/\", actors[\"/name/nm0000842/\"]))\n",
    "assert actors[\"/name/nm0000842/\"] == \"Martin Balsam\""
   ]
  },
  {
   "cell_type": "code",
   "execution_count": 10,
   "metadata": {
    "deletable": false,
    "editable": false,
    "nbgrader": {
     "grade": true,
     "grade_id": "gather_actors_test",
     "locked": true,
     "points": 2,
     "schema_version": 1,
     "solution": false
    }
   },
   "outputs": [
    {
     "name": "stdout",
     "output_type": "stream",
     "text": [
      "\n",
      "(Passed!)\n"
     ]
    }
   ],
   "source": [
    "# Test cell: `gather_actors_test`\n",
    "\n",
    "assert (\"/name/nm0872820/\" in actors) and (actors[\"/name/nm0872820/\"] == \"Amedeo Trilli\")\n",
    "assert (\"/name/nm0279786/\" in actors) and (actors[\"/name/nm0279786/\"] == \"Shug Fisher\")\n",
    "assert (\"/name/nm0802831/\" in actors) and (actors[\"/name/nm0802831/\"] == \"Tony Sirico\")\n",
    "assert (\"/name/nm0924692/\" in actors) and (actors[\"/name/nm0924692/\"] == \"Dean White\")\n",
    "assert (\"/name/nm0248074/\" in actors) and (actors[\"/name/nm0248074/\"] == \"Jake Eberle\")\n",
    "assert (\"/name/nm1067542/\" in actors) and (actors[\"/name/nm1067542/\"] == \"Grace Keller\")\n",
    "assert (\"/name/nm0903694/\" in actors) and (actors[\"/name/nm0903694/\"] == \"Carl Voss\")\n",
    "assert (\"/name/nm1504897/\" in actors) and (actors[\"/name/nm1504897/\"] == \"Radka Kucharova\")\n",
    "assert (\"/name/nm0644905/\" in actors) and (actors[\"/name/nm0644905/\"] == \"Tae-kyung Oh\")\n",
    "assert (\"/name/nm0727037/\" in actors) and (actors[\"/name/nm0727037/\"] == \"Gary Riley\")\n",
    "assert (\"/name/nm2006011/\" in actors) and (actors[\"/name/nm2006011/\"] == \"Glenn Stanton\")\n",
    "assert (\"/name/nm0193389/\" in actors) and (actors[\"/name/nm0193389/\"] == \"John Curtis\")\n",
    "assert (\"/name/nm0829189/\" in actors) and (actors[\"/name/nm0829189/\"] == \"Avril Stewart\")\n",
    "assert (\"/name/nm1211469/\" in actors) and (actors[\"/name/nm1211469/\"] == \"Karine Asure\")\n",
    "assert (\"/name/nm0598388/\" in actors) and (actors[\"/name/nm0598388/\"] == \"Jacques Monod\")\n",
    "assert (\"/name/nm1663820/\" in actors) and (actors[\"/name/nm1663820/\"] == \"Michael Garnet Stewart\")\n",
    "assert (\"/name/nm0009388/\" in actors) and (actors[\"/name/nm0009388/\"] == \"Khosrow Abrishami\")\n",
    "assert (\"/name/nm0020513/\" in actors) and (actors[\"/name/nm0020513/\"] == \"Fletcher Allen\")\n",
    "assert (\"/name/nm0615419/\" in actors) and (actors[\"/name/nm0615419/\"] == \"John Murtagh\")\n",
    "assert (\"/name/nm0120165/\" in actors) and (actors[\"/name/nm0120165/\"] == \"Keith S. Bullock\")\n",
    "assert (\"/name/nm0448560/\" in actors) and (actors[\"/name/nm0448560/\"] == \"Colin Kenny\")\n",
    "assert (\"/name/nm0882139/\" in actors) and (actors[\"/name/nm0882139/\"] == \"David Ursin\")\n",
    "assert (\"/name/nm1597244/\" in actors) and (actors[\"/name/nm1597244/\"] == \"Carol Meirelles\")\n",
    "assert (\"/name/nm0316079/\" in actors) and (actors[\"/name/nm0316079/\"] == \"Paul Giamatti\")\n",
    "assert (\"/name/nm3546231/\" in actors) and (actors[\"/name/nm3546231/\"] == \"Leonard B. John\")\n",
    "\n",
    "print(\"\\n(Passed!)\")"
   ]
  },
  {
   "cell_type": "markdown",
   "metadata": {
    "deletable": false,
    "editable": false,
    "nbgrader": {
     "grade": false,
     "grade_id": "cell-767212cf8ed0cae2",
     "locked": true,
     "schema_version": 1,
     "solution": false
    }
   },
   "source": [
    "**Exercise 2** (2 points). Implement a function, **`count_appearances(casts)`**, that counts how many times each actor appeared in a movie. It should return a dictionary where the key is the actor's link and the value is the number of occurrences."
   ]
  },
  {
   "cell_type": "code",
   "execution_count": 11,
   "metadata": {
    "scrolled": false
   },
   "outputs": [
    {
     "data": {
      "text/plain": [
       "{'movie': {'url': 'http://www.imdb.com/title/tt0050083/fullcredits',\n",
       "  'name': ['12 Angry Men (1957) - Full cast and crew']},\n",
       " 'rank': 1,\n",
       " 'cast': [{'link': ['/name/nm0000842/'], 'name': ['Martin Balsam']},\n",
       "  {'link': ['/name/nm0275835/'], 'name': ['John Fiedler']},\n",
       "  {'link': ['/name/nm0002011/'], 'name': ['Lee J. Cobb']},\n",
       "  {'link': ['/name/nm0550855/'], 'name': ['E.G. Marshall']},\n",
       "  {'link': ['/name/nm0001430/'], 'name': ['Jack Klugman']},\n",
       "  {'link': ['/name/nm0083081/'], 'name': ['Edward Binns']},\n",
       "  {'link': ['/name/nm0912001/'], 'name': ['Jack Warden']},\n",
       "  {'link': ['/name/nm0000020/'], 'name': ['Henry Fonda']},\n",
       "  {'link': ['/name/nm0842137/'], 'name': ['Joseph Sweeney']},\n",
       "  {'link': ['/name/nm0003225/'], 'name': ['Ed Begley']},\n",
       "  {'link': ['/name/nm0903667/'], 'name': ['George Voskovec']},\n",
       "  {'link': ['/name/nm0916434/'], 'name': ['Robert Webber']},\n",
       "  {'link': ['/name/nm0094036/'], 'name': ['Rudy Bond']},\n",
       "  {'link': ['/name/nm0446450/'], 'name': ['James Kelly']},\n",
       "  {'link': ['/name/nm0625180/'], 'name': ['Billy Nelson']},\n",
       "  {'link': ['/name/nm0767847/'], 'name': ['John Savoca']}]}"
      ]
     },
     "execution_count": 11,
     "metadata": {},
     "output_type": "execute_result"
    }
   ],
   "source": [
    "casts_json[0]\n",
    "# test record"
   ]
  },
  {
   "cell_type": "code",
   "execution_count": 12,
   "metadata": {
    "scrolled": true
   },
   "outputs": [
    {
     "data": {
      "text/plain": [
       "12975"
      ]
     },
     "execution_count": 12,
     "metadata": {},
     "output_type": "execute_result"
    }
   ],
   "source": [
    "len(actors)"
   ]
  },
  {
   "cell_type": "code",
   "execution_count": 13,
   "metadata": {
    "nbgrader": {
     "grade": false,
     "grade_id": "count_appearances",
     "locked": false,
     "schema_version": 1,
     "solution": true
    }
   },
   "outputs": [
    {
     "name": "stdout",
     "output_type": "stream",
     "text": [
      "Morgan Freeman (/name/nm0000151/) appeared in 7 movies, according to your calculation.\n"
     ]
    },
    {
     "data": {
      "text/plain": [
       "[('/name/nm0283170/', 'Bess Flowers', 12),\n",
       " ('/name/nm0001652/', 'John Ratzenberger', 10),\n",
       " ('/name/nm0000134/', 'Robert De Niro', 9),\n",
       " ('/name/nm0000071/', 'James Stewart', 9),\n",
       " ('/name/nm0000033/', 'Alfred Hitchcock', 9),\n",
       " ('/name/nm0180679/', 'Gino Corrado', 8),\n",
       " ('/name/nm0528802/', 'Sherry Lynn', 8),\n",
       " ('/name/nm0000151/', 'Morgan Freeman', 7),\n",
       " ('/name/nm0000148/', 'Harrison Ford', 7),\n",
       " ('/name/nm0569680/', 'Mickie McGowan', 7),\n",
       " ('/name/nm0000168/', 'Samuel L. Jackson', 6),\n",
       " ('/name/nm0000114/', 'Steve Buscemi', 6),\n",
       " ('/name/nm0000142/', 'Clint Eastwood', 6),\n",
       " ('/name/nm0000323/', 'Michael Caine', 6),\n",
       " ('/name/nm0915989/', 'Hugo Weaving', 6),\n",
       " ('/name/nm0000704/', 'Elijah Wood', 6),\n",
       " ('/name/nm0602100/', 'Bert Moorhouse', 6),\n",
       " ('/name/nm0869863/', 'Arthur Tovey', 6),\n",
       " ('/name/nm0003424/', 'Hank Mann', 6),\n",
       " ('/name/nm0000122/', 'Charles Chaplin', 6),\n",
       " ('/name/nm0639444/', \"William H. O'Brien\", 6),\n",
       " ('/name/nm0000246/', 'Bruce Willis', 5),\n",
       " ('/name/nm0000199/', 'Al Pacino', 5),\n",
       " ('/name/nm0000380/', 'Robert Duvall', 5),\n",
       " ('/name/nm0000288/', 'Christian Bale', 5)]"
      ]
     },
     "execution_count": 13,
     "metadata": {},
     "output_type": "execute_result"
    }
   ],
   "source": [
    "def count_appearances(casts):\n",
    "    ###\n",
    "    appearances = {}\n",
    "    for movie in casts:\n",
    "        cast_members = movie['cast']\n",
    "        for member in cast_members:\n",
    "            l = member['link'][0]\n",
    "            if l in appearances:\n",
    "                appearances[l] += 1\n",
    "            else:\n",
    "                appearances[l] = 1\n",
    "    \n",
    "    return appearances\n",
    "    ###\n",
    "    \n",
    "appearances = count_appearances(casts_json)\n",
    "print(\"{} ({}) appeared in {} movies, according to your calculation.\".format(actors['/name/nm0000151/'],\n",
    "                                                                             '/name/nm0000151/',\n",
    "                                                                             appearances['/name/nm0000151/']))\n",
    "\n",
    "# Top 25 actors/actresses by number of appearances:\n",
    "top25_appearances_links = sorted(appearances.keys(), key=appearances.__getitem__, reverse=True)[:25]\n",
    "top25_appearances = [(link, actors[link], appearances[link]) for link in top25_appearances_links]\n",
    "top25_appearances"
   ]
  },
  {
   "cell_type": "code",
   "execution_count": 14,
   "metadata": {
    "deletable": false,
    "editable": false,
    "nbgrader": {
     "grade": true,
     "grade_id": "count_appearances_test",
     "locked": true,
     "points": 2,
     "schema_version": 1,
     "solution": false
    }
   },
   "outputs": [
    {
     "name": "stdout",
     "output_type": "stream",
     "text": [
      "\n",
      "(Passed.)\n"
     ]
    }
   ],
   "source": [
    "# Test cell: `count_appearances_test`\n",
    "\n",
    "assert appearances['/name/nm4723252/'] == 1 # Shirin Azimiyannezhad\n",
    "assert appearances['/name/nm0574436/'] == 1 # Hilton McRae\n",
    "assert appearances['/name/nm1753600/'] == 2 # Maciej Kowalewski\n",
    "assert appearances['/name/nm1595614/'] == 1 # Diego Batista\n",
    "assert appearances['/name/nm0201349/'] == 1 # Daphne Darling\n",
    "assert appearances['/name/nm0642138/'] == 1 # Dennis O'Neill\n",
    "assert appearances['/name/nm3325895/'] == 1 # Kyle Patrick Brennan\n",
    "assert appearances['/name/nm0660998/'] == 1 # Charles Paraventi\n",
    "assert appearances['/name/nm0703600/'] == 1 # Eddie Quillan\n",
    "assert appearances['/name/nm0629697/'] == 1 # Rachel Nichols\n",
    "assert appearances['/name/nm2715776/'] == 1 # Sharlene Grover\n",
    "assert appearances['/name/nm0027323/'] == 1 # Richard Anderson\n",
    "assert appearances['/name/nm0154021/'] == 2 # Geoffrey Chater\n",
    "assert appearances['/name/nm0180987/'] == 1 # Lloyd Corrigan\n",
    "assert appearances['/name/nm5523580/'] == 1 # Madhav Vaze\n",
    "assert appearances['/name/nm0798620/'] == 1 # Ruth Silveira\n",
    "assert appearances['/name/nm3193186/'] == 1 # Rubina Ali\n",
    "assert appearances['/name/nm0361876/'] == 1 # Nigel Harbach\n",
    "assert appearances['/name/nm0560983/'] == 1 # Michael Mauree\n",
    "assert appearances['/name/nm0665886/'] == 2 # Lee Patrick\n",
    "assert appearances['/name/nm0676349/'] == 1 # Brock Peters\n",
    "assert appearances['/name/nm4587948/'] == 1 # Francesca Ortenzio\n",
    "assert appearances['/name/nm0366873/'] == 1 # Neill Hartley\n",
    "assert appearances['/name/nm0219666/'] == 1 # Reginald Denny\n",
    "assert appearances['/name/nm2803526/'] == 1 # Don Kress\n",
    "\n",
    "print(\"\\n(Passed.)\")"
   ]
  },
  {
   "cell_type": "markdown",
   "metadata": {
    "deletable": false,
    "editable": false,
    "nbgrader": {
     "grade": false,
     "grade_id": "cell-173b9f679f64c689",
     "locked": true,
     "schema_version": 1,
     "solution": false
    }
   },
   "source": [
    "**Exercise 3** (3 points). For each actor, determines the number of triangles containing him or her. Store this result in dictionary named **`tri_counts`**, where **`tri_counts[link]`** stores the triangle count for the actor whose link is given by `link`.\n",
    "\n",
    "> _Remark 0._ For this problem, the graph should be defined as follows. Each actor is a node; an edge exists between two actors if they appeared in the same movie.\n",
    ">\n",
    "> _Remark 1._ The choice of method to solve this exercise is open-ended. We have suggested the linear algebraic technique shown above; however, feel free to use any other computational approach that makes sense to you and can be implemented with reasonable efficiency -- see _Remark 2_, below.\n",
    ">\n",
    "> _Remark 2._ Whatever method you choose, it will be critical to exploit the sparsity of the actor network. That is, observe that there are nearly $n=13,\\!000$ actors in this dataset, so any method that scales like $\\mathcal{O}(n^2)$ (or worse) is not likely to pass the autograder's time limit."
   ]
  },
  {
   "cell_type": "code",
   "execution_count": 15,
   "metadata": {
    "scrolled": true
   },
   "outputs": [
    {
     "data": {
      "text/plain": [
       "12975"
      ]
     },
     "execution_count": 15,
     "metadata": {},
     "output_type": "execute_result"
    }
   ],
   "source": [
    "len(actors)"
   ]
  },
  {
   "cell_type": "code",
   "execution_count": 16,
   "metadata": {
    "scrolled": true
   },
   "outputs": [
    {
     "name": "stderr",
     "output_type": "stream",
     "text": [
      "/usr/local/lib/python3.6/site-packages/ipykernel_launcher.py:2: DeprecationWarning: `comb` is deprecated!\n",
      "Importing `comb` from scipy.misc is deprecated in scipy 1.0.0. Use `scipy.special.comb` instead.\n",
      "  \n"
     ]
    },
    {
     "data": {
      "text/plain": [
       "84168825.0"
      ]
     },
     "execution_count": 16,
     "metadata": {},
     "output_type": "execute_result"
    }
   ],
   "source": [
    "from scipy import misc\n",
    "misc.comb(len(actors), 2, repetition=False)"
   ]
  },
  {
   "cell_type": "code",
   "execution_count": 17,
   "metadata": {
    "collapsed": true
   },
   "outputs": [],
   "source": [
    "from scipy.sparse import coo_matrix\n",
    "from itertools import combinations"
   ]
  },
  {
   "cell_type": "code",
   "execution_count": 21,
   "metadata": {
    "nbgrader": {
     "grade": false,
     "grade_id": "tri_counts",
     "locked": false,
     "schema_version": 1,
     "solution": true
    }
   },
   "outputs": [
    {
     "name": "stdout",
     "output_type": "stream",
     "text": [
      "A.sum_duplicates():  (12975, 12975)\n",
      "(A > 0).astype(int):  (12975, 12975)\n"
     ]
    }
   ],
   "source": [
    "###\n",
    "# Creates indices for the sparse matrices\n",
    "def assign_actor_ids (actors_d):\n",
    "    idtoactor = {}\n",
    "    actortoid = {}\n",
    "    \n",
    "    for i, link in enumerate(actors_d.keys()):\n",
    "        idtoactor[i] = link\n",
    "        actortoid[link] = i\n",
    "    \n",
    "    return idtoactor, actortoid\n",
    "\n",
    "# Build coordinates for the sparse matrices\n",
    "def build_cast_coordinates (casts, actortoid_d):\n",
    "    I, J = [], []\n",
    "    \n",
    "    for movie in casts:\n",
    "        cast_members = movie['cast'] # cast_members is type list\n",
    "        \n",
    "        for ai, aj in combinations(cast_members, 2):  # generate pair-wise combinations within a movie\n",
    "            i = actortoid_d[ai['link'][0]]\n",
    "            j = actortoid_d[aj['link'][0]]\n",
    "            \n",
    "            I += [i, j]\n",
    "            J += [j, i]\n",
    "            \n",
    "    return I, J\n",
    "\n",
    "# Use the coordinates to convert to a sparse coo matrix\n",
    "def coordinates_to_coo (I, J):\n",
    "    n = max(I) + 1\n",
    "    \n",
    "    V = np.ones(len(I), dtype=int)\n",
    "    R = I \n",
    "    C = J\n",
    "    \n",
    "    A = coo_matrix((V, (R, C)), shape=(n, n))\n",
    "    A.sum_duplicates()\n",
    "    print('A.sum_duplicates(): ', A.shape)\n",
    "    A = (A > 0).astype(int)\n",
    "    print('(A > 0).astype(int): ', A.shape)\n",
    "    \n",
    "    return A\n",
    "\n",
    "# Now that we have the A matrix, calculate the triangles count\n",
    "def count_actor_triangles (A):\n",
    "    return A.dot(A) * A\n",
    "\n",
    "def sum_actor_triangles (triangle_counts, idtoactor_d):\n",
    "    n = len(idtoactor_d)\n",
    "    tri_counts_raw = triangle_counts.sum(axis=1) # row-wise summation for numpy\n",
    "\n",
    "    tri_counts = {}\n",
    "    for i, c in enumerate(tri_counts_raw):\n",
    "        tri_counts[idtoactor_d[i]] = c.item()\n",
    "    \n",
    "    return tri_counts\n",
    "    \n",
    "### PUTTING IT ALL TOGETHER\n",
    "\n",
    "id2actor, actor2id = assign_actor_ids(actors) # grab needed info to build coordinates for sparse matrix\n",
    "I, J = build_cast_coordinates(casts_json, actor2id) # R for row coordinates, C for column coordinates\n",
    "A = coordinates_to_coo(I, J) # Make a sparse matrix using R, C\n",
    "C = count_actor_triangles(A) # count the number of triangles\n",
    "tri_counts = sum_actor_triangles(C, id2actor)"
   ]
  },
  {
   "cell_type": "code",
   "execution_count": 22,
   "metadata": {
    "deletable": false,
    "editable": false,
    "nbgrader": {
     "grade": true,
     "grade_id": "tri_counts_test0",
     "locked": true,
     "points": 1,
     "schema_version": 1,
     "solution": false
    }
   },
   "outputs": [
    {
     "name": "stdout",
     "output_type": "stream",
     "text": [
      "Actors in the most triangles:\n",
      "[('/name/nm0000198/', 'Gary Oldman', 38289360), ('/name/nm0180679/', 'Gino Corrado', 38200470), ('/name/nm0000151/', 'Morgan Freeman', 37309136), ('/name/nm0000323/', 'Michael Caine', 36764575), ('/name/nm0000288/', 'Christian Bale', 36468321), ('/name/nm0614165/', 'Cillian Murphy', 36404837), ('/name/nm0175410/', \"Frank O'Connor\", 36370907), ('/name/nm2720736/', 'Ernest Pierce', 35835774), ('/name/nm0602100/', 'Bert Moorhouse', 34232302), ('/name/nm0227117/', 'John Dilson', 33411930)]\n",
      "\n",
      "(Passed part 1 of 3.)\n"
     ]
    }
   ],
   "source": [
    "# Test cell: `tri_counts_test0` -- 1 point for computing something\n",
    "\n",
    "# From https://docs.python.org/3/howto/sorting.html\n",
    "assert type(tri_counts) is dict, \"Per the instructions, `tri_counts` should be a dictonary.\"\n",
    "top10_actor_links = sorted(tri_counts.keys(), key=tri_counts.__getitem__, reverse=True)[:10]\n",
    "top10_actor_counts = [(link, actors[link], tri_counts[link]) for link in top10_actor_links]\n",
    "top10_actor_names = [n for _, n, _ in top10_actor_counts]\n",
    "print(\"Actors in the most triangles:\\n{}\".format(top10_actor_counts))\n",
    "\n",
    "print(\"\\n(Passed part 1 of 3.)\")"
   ]
  },
  {
   "cell_type": "code",
   "execution_count": 23,
   "metadata": {
    "deletable": false,
    "editable": false,
    "nbgrader": {
     "grade": true,
     "grade_id": "tri_counts_test1",
     "locked": true,
     "points": 1,
     "schema_version": 1,
     "solution": false
    }
   },
   "outputs": [
    {
     "name": "stdout",
     "output_type": "stream",
     "text": [
      "\n",
      "(Passed part 2 of 3.)\n"
     ]
    }
   ],
   "source": [
    "# Test cell: `tri_counts_test1` -- 2 points for getting at least half the top actors\n",
    "\n",
    "our_top10 = {'Bert Moorhouse', 'Christian Bale', 'Cillian Murphy', \\\n",
    "             'Ernest Pierce', \"Frank O'Connor\", 'Gary Oldman', \\\n",
    "             'Gino Corrado', 'Michael Caine', 'Milton Kibbee', \\\n",
    "             'Morgan Freeman'}\n",
    "your_top10 = set(top10_actor_names)\n",
    "assert len(our_top10 & your_top10) >= 5, \"Got less than half the top 10 right.\"\n",
    "\n",
    "print(\"\\n(Passed part 2 of 3.)\")"
   ]
  },
  {
   "cell_type": "code",
   "execution_count": 24,
   "metadata": {
    "deletable": false,
    "editable": false,
    "nbgrader": {
     "grade": true,
     "grade_id": "tri_counts_test2",
     "locked": true,
     "points": 1,
     "schema_version": 1,
     "solution": false
    }
   },
   "outputs": [
    {
     "name": "stdout",
     "output_type": "stream",
     "text": [
      "\n",
      "(Passed part 3 of 3.)\n"
     ]
    }
   ],
   "source": [
    "# UPDATED test cell: `tri_counts_test2` -- 1 point for getting most of the rank-ordered top 10 list\n",
    "\n",
    "our_top10_list_weighted = ['Gino Corrado', \"Frank O'Connor\", 'Bert Moorhouse', 'Gary Oldman',\n",
    "                           'Michael Caine', 'Morgan Freeman', 'Cillian Murphy', 'Christian Bale',\n",
    "                           'Milton Kibbee', 'Ernest Pierce']\n",
    "our_top10_list_unweighted = ['Gary Oldman', 'Gino Corrado', 'Morgan Freeman', 'Michael Caine',\n",
    "                             'Christian Bale', 'Cillian Murphy', \"Frank O'Connor\", 'Ernest Pierce',\n",
    "                             'Bert Moorhouse', 'John Dilson']\n",
    "\n",
    "# Meta-comment: The top actors by number of appearances includes men and women,\n",
    "# but the actors that appear in the most triangles seems to be dominated by men!\n",
    "\n",
    "our_top_list_merged = set(our_top10_list_weighted) | set(our_top10_list_unweighted)\n",
    "\n",
    "assert len(set(our_top_list_merged) & set(top10_actor_names)) >= 9, \"Too many mismatches in your top 10 list\"\n",
    "print(\"\\n(Passed part 3 of 3.)\")"
   ]
  },
  {
   "cell_type": "markdown",
   "metadata": {
    "deletable": false,
    "editable": false,
    "nbgrader": {
     "grade": false,
     "grade_id": "cell-d3f5c8a0add3fec7",
     "locked": true,
     "schema_version": 1,
     "solution": false
    }
   },
   "source": [
    "**Fin!** That's the end of this problem, which is the last problem of the final exam. Don't forget to submit your work!"
   ]
  }
 ],
 "metadata": {
  "celltoolbar": "Create Assignment",
  "kernelspec": {
   "display_name": "Python 3.6 [deprecated]",
   "language": "python",
   "name": "python36"
  },
  "language_info": {
   "codemirror_mode": {
    "name": "ipython",
    "version": 3
   },
   "file_extension": ".py",
   "mimetype": "text/x-python",
   "name": "python",
   "nbconvert_exporter": "python",
   "pygments_lexer": "ipython3",
   "version": "3.6.4"
  }
 },
 "nbformat": 4,
 "nbformat_minor": 1
}
