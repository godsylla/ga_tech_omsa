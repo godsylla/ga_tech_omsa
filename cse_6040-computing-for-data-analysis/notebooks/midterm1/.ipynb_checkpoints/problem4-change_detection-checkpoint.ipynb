{
 "cells": [
  {
   "cell_type": "markdown",
   "metadata": {
    "nbgrader": {
     "grade": false,
     "locked": true,
     "solution": false
    }
   },
   "source": [
    "# Problem 4: Change Detection"
   ]
  },
  {
   "cell_type": "markdown",
   "metadata": {
    "nbgrader": {
     "grade": false,
     "locked": true,
     "solution": false
    }
   },
   "source": [
    "In this problem, you will implement a computational primitive used in change detection. This technique is the cumulative sum, or CuSum, method.\n",
    "\n",
    "This problem has 5 exercises, numbered 0 through 4 and worth 2 points each."
   ]
  },
  {
   "cell_type": "markdown",
   "metadata": {
    "nbgrader": {
     "grade": false,
     "locked": true,
     "solution": false
    }
   },
   "source": [
    "**Motivating example.** Consider the central heating system of a house. A thermostat monitors the air temperature every 10 seconds. When the control unit determines that the temperature has dropped below the desired setpoint, the heater turns on. You are asked to design an algorithm to tell the heater when it's time to turn on.\n",
    "\n",
    "The catch is that the sensor occasionally reports an erroneous value.\n",
    "\n",
    "Therefore, you don't want to raise an alert too early for a single errant temperature. Yet, you also don't want to wait too long to raise an alarm. The CuSum primitive with detection of temperature decrease will help you in your task."
   ]
  },
  {
   "cell_type": "markdown",
   "metadata": {
    "nbgrader": {
     "grade": false,
     "locked": true,
     "solution": false
    }
   },
   "source": [
    "**Definition: CuSum** Let $t$ denote the current time. The CuSum primitive calculates a value, $S_t$, by the formula\n",
    "$$ S_t = \\max \\left\\{ 0, S_{t-1} + (\\mu - x_t) \\right\\}, $$\n",
    "where\n",
    "*\t$S_t$ is the value of the function at time $t$;\n",
    "*\t$S_{t-1}$ is the value of the function at time $t-1$;\n",
    "*\t$\\mu$ is a predetermined mean value, either from an expert or possibly calculated over a range of observed data;\n",
    "*\tand $x_t$ is the observed value of the temperature sensor at time $t$.\n",
    "Take a moment to convince yourself that $S_t$ is always at least zero, and that it is computed by updating the previous value, $S_{t-1}$, by the difference between the current observation ($x_t$) and an expected mean value ($\\mu$).\n"
   ]
  },
  {
   "cell_type": "markdown",
   "metadata": {
    "nbgrader": {
     "grade": false,
     "locked": true,
     "solution": false
    }
   },
   "source": [
    "\n",
    "Take a moment to convince yourself that $S_t$ is always at least zero, and that it is computed by updating the previous value, $S_{t-1}$, by the difference between the current observation ($x_t$) and an expected mean value ($\\mu$).\n",
    "\n",
    "\n",
    "\n",
    "The analysis. You wish to raise an alarm only when the value of $S_t$ crosses a predetermined threshold value, $\\alpha$, i.e., when $S_t > \\alpha$.\n",
    "Let's break down this analysis task into smaller parts.\n"
   ]
  },
  {
   "cell_type": "markdown",
   "metadata": {
    "nbgrader": {
     "grade": false,
     "locked": true,
     "solution": false
    }
   },
   "source": [
    "**Exercise 0** (2 points). Write a function, calc_mean(L), that takes a list of values as input and returns the mean of these values. The returned value should be a float.\n",
    "\n",
    "If L is empty, your function should return 0.0."
   ]
  },
  {
   "cell_type": "code",
   "execution_count": 1,
   "metadata": {},
   "outputs": [],
   "source": [
    "import numpy as np"
   ]
  },
  {
   "cell_type": "code",
   "execution_count": 2,
   "metadata": {
    "nbgrader": {
     "grade": false,
     "grade_id": "test_ex_0",
     "locked": false,
     "points": "2",
     "solution": false
    }
   },
   "outputs": [],
   "source": [
    "def calc_mean(L):\n",
    "    #\n",
    "    if L == []:\n",
    "        return 0.0\n",
    "    else:\n",
    "        return float(np.mean(L))\n",
    "    #\n"
   ]
  },
  {
   "cell_type": "code",
   "execution_count": 3,
   "metadata": {
    "nbgrader": {
     "grade": true,
     "grade_id": "test_ex_0",
     "locked": true,
     "points": "2",
     "solution": false
    }
   },
   "outputs": [
    {
     "name": "stdout",
     "output_type": "stream",
     "text": [
      "The first of three tests passed.\n",
      "The second of three tests passed.\n",
      "The third of three tests passed.\n",
      "\n",
      "(Passed!)\n"
     ]
    }
   ],
   "source": [
    "## Test cell: `exercise0`\n",
    "\n",
    "import numpy as np\n",
    "def test_calc_mean():\n",
    "    from math import isclose\n",
    "    \n",
    "    # === Test case 1 ===\n",
    "    l1 = [1,2,3,4,5,6,7,8,9,10,11]\n",
    "    v1 = calc_mean(l1)\n",
    "    assert type(v1) is float, 'The output type of your function is not a `float`.'\n",
    "    assert v1 == 6\n",
    "    print('The first of three tests passed.')\n",
    "    \n",
    "    # === Test case 2 ===\n",
    "    l2 = [0.6147724086784333,\n",
    "     0.041371060901369994,\n",
    "     0.15517074629809358,\n",
    "     0.9994471337608886,\n",
    "     0.34722143849306275,\n",
    "     0.9736540850206432,\n",
    "     0.9876353838953996,\n",
    "     0.43634148883600743,\n",
    "     0.19253345111181208,\n",
    "     0.9009963538834159,\n",
    "     0.0128030718775628,\n",
    "     0.49096023681186607,\n",
    "     0.7077636910061673,\n",
    "     0.08720641952991925,\n",
    "     0.11623445158154477,\n",
    "     0.5693725240553406,\n",
    "     0.21344540877232931,\n",
    "     0.9002574759050241,\n",
    "     0.48243289649604815,\n",
    "     0.10056662767642566,\n",
    "     0.7849777627597629,\n",
    "     0.19465211312640196,\n",
    "     0.24315693645974512,\n",
    "     0.03280598433741133,\n",
    "     0.9068657045623628,\n",
    "     0.8137126323327173,\n",
    "     0.4709064813407924,\n",
    "     0.8129058009526944,\n",
    "     0.21502524948350632,\n",
    "     0.9799785187660908,\n",
    "     0.6398366879644906,\n",
    "     0.1763342967561098,\n",
    "     0.8600030568483623,\n",
    "     0.06474748719556933,\n",
    "     0.17812693869592933,\n",
    "     0.6383284889427977,\n",
    "     0.15655520642675347,\n",
    "     0.9348178779950076,\n",
    "     0.30987851590583027,\n",
    "     0.4257618080414638,\n",
    "     0.05640492355676585,\n",
    "     0.5896060176458584,\n",
    "     0.6927091337694952,\n",
    "     0.4779798826877506,\n",
    "     0.12616636986977003,\n",
    "     0.9657925560517088,\n",
    "     0.9921928728923576,\n",
    "     0.5195728322270448,\n",
    "     0.5347703718671102,\n",
    "     0.6766015340172438,\n",
    "     0.5723492327566893,\n",
    "     0.8686225610761558,\n",
    "     0.7507097235435711,\n",
    "     0.8354470091034075,\n",
    "     0.4710212262143838,\n",
    "     0.6129726876928584,\n",
    "     0.9835526850557775,\n",
    "     0.456509500680786,\n",
    "     0.5432556087604551,\n",
    "     0.4054179327898174,\n",
    "     0.42824401398053835,\n",
    "     0.3129138114275283,\n",
    "     0.1224140133827466,\n",
    "     0.6680206838711844,\n",
    "     0.01421622087230101,\n",
    "     0.5834231089638673,\n",
    "     0.7629695652366693,\n",
    "     0.022635672817869712,\n",
    "     0.4982537409553647,\n",
    "     0.45619559492743234,\n",
    "     0.6997574981949215,\n",
    "     0.8852275128900928,\n",
    "     0.6354408255303142,\n",
    "     0.6173324771436511,\n",
    "     0.8125828432894691,\n",
    "     0.14441920559155552,\n",
    "     0.546271957665997,\n",
    "     0.07176999659289907,\n",
    "     0.9387954123123966,\n",
    "     0.16083705910262458,\n",
    "     0.7079371445595795,\n",
    "     0.6521862976232009,\n",
    "     0.3783981542310192,\n",
    "     0.3680400775054291,\n",
    "     0.6612607701755463,\n",
    "     0.3521612486201041,\n",
    "     0.4620998818749855,\n",
    "     0.6438310682088813,\n",
    "     0.08542505813604229,\n",
    "     0.914457432737063,\n",
    "     0.045825132886521236,\n",
    "     0.7663149379499217,\n",
    "     0.1974530956941304,\n",
    "     0.1399606052200838,\n",
    "     0.1707515682711065,\n",
    "     0.6146344959640809,\n",
    "     0.973624652163067,\n",
    "     0.6592102237643751,\n",
    "     0.5262452694633635,\n",
    "     0.16479882048585615]\n",
    "    v2 = calc_mean(l2)\n",
    "    assert type(v2) is float, 'The output type of your function is not what is expected'\n",
    "    assert isclose(v2, 0.5016755571602795, rel_tol=1e-15 * len(l2)), \"Your value: {}\".format(v2)\n",
    "    print('The second of three tests passed.')\n",
    "    \n",
    "    # Test 3\n",
    "    assert calc_mean([]) == 0.0, \"Did not return the correct value for an empty input.\"\n",
    "    print('The third of three tests passed.')\n",
    "    \n",
    "test_calc_mean()\n",
    "print(\"\\n(Passed!)\")"
   ]
  },
  {
   "cell_type": "markdown",
   "metadata": {
    "nbgrader": {
     "grade": false,
     "locked": true,
     "solution": false
    }
   },
   "source": [
    "Now that you have calculated the mean, the next step is to implement the function for calculating CuSum."
   ]
  },
  {
   "cell_type": "markdown",
   "metadata": {
    "nbgrader": {
     "grade": false,
     "locked": true,
     "solution": false
    }
   },
   "source": [
    "**Exercise 1** (2 points). Write a function, cusum(x, mu), that takes a list of observed temperatures, x, and mean parameter mu as inputs, and then returns a list of the cumulative sum values at each time.\n",
    "Recall that these CuSum values are defined by\n",
    "$$ S_t = \\max \\left\\{ 0, S_{t-1} + (\\mu - x_t) \\right\\}. $$\n",
    "Assume that $S_{-1} = 0$, that is, the value at $t=-1$, which is \"before\" $t=0$, is zero.\n",
    "\n",
    "For example:\n",
    "```python\n",
    "x = [20,21,20,19,18,17,15,10,6,5,4,5,2,5,6,6]\n",
    "mu = 12\n",
    "assert cusum(x, m) == [0, 0, 0, 0, 0, 0, 0, 0, 2, 8, 15, 23, 30, 40, 47, 53, 59]\n",
    "```\n"
   ]
  },
  {
   "cell_type": "code",
   "execution_count": 4,
   "metadata": {},
   "outputs": [],
   "source": [
    "test_x = [20, 21, 20, 19, 18, 17, 15, 10, 6, 5, 4, 5, 2, 5, 6, 6]\n",
    "test_mu = 12"
   ]
  },
  {
   "cell_type": "code",
   "execution_count": 5,
   "metadata": {},
   "outputs": [],
   "source": [
    "def cusum(x:list, mu:(int, float)) -> list:\n",
    "    #\n",
    "    S = []\n",
    "    for i, xi in enumerate(x):\n",
    "        if i == 0:\n",
    "            s_tminus1 = 0\n",
    "            s_t = max(0, (s_tminus1 + (mu - xi)))\n",
    "            S.append(s_t)\n",
    "        else:\n",
    "            s_tminus1 = S[i-1]\n",
    "            s_t = max(0, (s_tminus1 + (mu - xi)))\n",
    "            S.append(s_t)\n",
    "\n",
    "    return [0] + S\n",
    "    #"
   ]
  },
  {
   "cell_type": "code",
   "execution_count": 6,
   "metadata": {
    "nbgrader": {
     "grade": true,
     "grade_id": "test_ex_1",
     "locked": true,
     "points": "2",
     "solution": false
    }
   },
   "outputs": [
    {
     "name": "stdout",
     "output_type": "stream",
     "text": [
      "Test case:\n",
      "- x == [20, 21, 20, 19, 18, 17, 15, 10, 6, 5, 4, 5, 2, 5, 6, 6]\n",
      "- mu == 12\n",
      "- True solution: [0, 0, 0, 0, 0, 0, 0, 0, 2, 8, 15, 23, 30, 40, 47, 53, 59]\n",
      "- Your solution: [0, 0, 0, 0, 0, 0, 0, 0, 2, 8, 15, 23, 30, 40, 47, 53, 59]\n",
      "\n",
      "\n",
      "Test case:\n",
      "- x == [50, 51, 52, 50, 47, 44, 42, 40, 39]\n",
      "- mu == 46\n",
      "- True solution: [0, 0, 0, 0, 0, 0, 2, 6, 12, 19]\n",
      "- Your solution: [0, 0, 0, 0, 0, 0, 2, 6, 12, 19]\n",
      "\n",
      "\n",
      "Test case:\n",
      "- x == [100, 99, 97, 90, 80, 77, 70, 60, 70]\n",
      "- mu == 82\n",
      "- True solution: [0, 0, 0, 0, 0, 2, 7, 19, 41, 53]\n",
      "- Your solution: [0, 0, 0, 0, 0, 2, 7, 19, 41, 53]\n",
      "\n",
      "\n",
      "(Passed!)\n"
     ]
    }
   ],
   "source": [
    "# Test cell: `exercise1`\n",
    "\n",
    "def check_exercise1(x, mu, S_true):\n",
    "    from math import isclose\n",
    "    print(\"Test case:\\n- x == {}\\n- mu == {}\\n- True solution: {}\".format(x, mu, S_true))\n",
    "    S_you = cusum(x, mu)\n",
    "    print(\"- Your solution: {}\".format(S_you))\n",
    "    assert type(S_you) is list, \"Your function did not return a list.\"\n",
    "    assert all([isclose(s, t, rel_tol=1e-15*len(x)) for s, t in zip(S_you, S_true)]), \"Numerical values differ!\"\n",
    "    print(\"\\n\")\n",
    "\n",
    "# Test 0\n",
    "check_exercise1([20,21,20,19,18,17,15,10,6,5,4,5,2,5,6,6], 12, [0, 0, 0, 0, 0, 0, 0, 0, 2, 8, 15, 23, 30, 40, 47, 53, 59])\n",
    "\n",
    "# Test 1\n",
    "check_exercise1([50,51,52,50,47,44,42,40,39],46,\n",
    "                [0, 0, 0, 0, 0, 0, 2, 6, 12, 19])\n",
    "\n",
    "# Test 2\n",
    "check_exercise1([100,99,97,90,80,77,70,60,70],82,\n",
    "                [0, 0, 0, 0, 0, 2, 7, 19, 41, 53])\n",
    "\n",
    "\n",
    "print(\"(Passed!)\")"
   ]
  },
  {
   "cell_type": "markdown",
   "metadata": {
    "nbgrader": {
     "grade": false,
     "locked": true,
     "solution": false
    }
   },
   "source": [
    "**Exercise 2** (2 points). Write a function, get_index(CS, alpha), that takes a list CS and threshold alpha as inputs and returns the position, index, of the first element such that CS[index] > alpha.\n",
    "\n",
    "For example:\n",
    "```python\n",
    "CS = [0, 0, 0, 0, 1, 0, 1, 4, 9, 8, 12, 13, 12, 10, 9, 7, 9]\n",
    "alpha = 12\n",
    "assert get_index(CS, alpha) == 11\n",
    "If no such element is found in CS, the function should return -1.\n",
    "```"
   ]
  },
  {
   "cell_type": "code",
   "execution_count": 7,
   "metadata": {},
   "outputs": [],
   "source": [
    "def get_index(CS:list, alpha:(int, float)) -> int:\n",
    "    #\n",
    "    i = None\n",
    "    for idx, s in enumerate(CS):\n",
    "        if s > alpha:\n",
    "            i = idx\n",
    "            return i\n",
    "        else:\n",
    "            continue\n",
    "            \n",
    "    if i == None:\n",
    "        return -1\n",
    "    #"
   ]
  },
  {
   "cell_type": "code",
   "execution_count": 8,
   "metadata": {
    "nbgrader": {
     "grade": true,
     "grade_id": "test_ex_2",
     "locked": true,
     "points": "2",
     "solution": false
    }
   },
   "outputs": [
    {
     "name": "stdout",
     "output_type": "stream",
     "text": [
      "Test case:\n",
      "- Input         : [0, 0, 0, 0, 1, 0, 1, 4, 9, 8, 12, 13, 12, 10, 9, 7, 9]\n",
      "- Threshold     : 12\n",
      "- Correct output: 11\n",
      "- Your output   : 11\n",
      "Test case:\n",
      "- Input         : [0, 0, 0, 0, 1, 0, 1, 4, 9, 8, 12, 13, 12, 10, 9, 7, 9]\n",
      "- Threshold     : 15\n",
      "- Correct output: -1\n",
      "- Your output   : -1\n",
      "Test case:\n",
      "- Input         : [0, 14, 0, 0, 1, 0, 1, 4, 9, 8, 12, 13, 12, 10, 9, 7, 9]\n",
      "- Threshold     : 12\n",
      "- Correct output: 1\n",
      "- Your output   : 1\n",
      "Test case:\n",
      "- Input         : [0, 1, 0, 0, 1, 0, 1, 4, 9, 8, 12, 13, 17, 19, 25, 30, 20]\n",
      "- Threshold     : 25\n",
      "- Correct output: 15\n",
      "- Your output   : 15\n",
      "\n",
      "(Passed!)\n"
     ]
    }
   ],
   "source": [
    "# Test cell: `exercise2`\n",
    "\n",
    "def check_exercise2(CS, alpha, ans):\n",
    "    print(\"Test case:\")\n",
    "    print(\"- Input         : {}\".format(CS))\n",
    "    print(\"- Threshold     : {}\".format(alpha))\n",
    "    print(\"- Correct output: {}\".format(ans))\n",
    "    your_ans = get_index(CS, alpha)\n",
    "    print(\"- Your output   : {}\".format(your_ans))\n",
    "    assert your_ans == ans, \"Solutions do not match!\"\n",
    "\n",
    "# Test 1\n",
    "check_exercise2([0, 0, 0, 0, 1, 0, 1, 4, 9, 8, 12, 13, 12, 10, 9, 7, 9], 12, 11)\n",
    "\n",
    "# Test 2\n",
    "check_exercise2([0, 0, 0, 0, 1, 0, 1, 4, 9, 8, 12, 13, 12, 10, 9, 7, 9], 15, -1)\n",
    "\n",
    "# Test 3\n",
    "check_exercise2([0, 14, 0, 0, 1, 0, 1, 4, 9, 8, 12, 13, 12, 10, 9, 7, 9], 12, 1)\n",
    "\n",
    "# Test 4\n",
    "check_exercise2([0, 1, 0, 0, 1, 0, 1, 4, 9, 8, 12, 13, 17, 19, 25, 30, 20], 25, 15)\n",
    "\n",
    "print(\"\\n(Passed!)\")"
   ]
  },
  {
   "cell_type": "markdown",
   "metadata": {
    "nbgrader": {
     "grade": false,
     "locked": true,
     "solution": false
    }
   },
   "source": [
    "**Putting it all together.** Recall that you've now built the following functions:\n",
    "\n",
    "* calc_mean(L): returns the mean of L;\n",
    "* cusum(x, mu): returns the CuSum for the sequence x[:], given mu; and\n",
    "* get_index(CS, alpha): returns the position in CS that exceeds a threshold alpha.\n",
    "\n",
    "\n",
    "Now let's put all the pieces of this puzzle together!"
   ]
  },
  {
   "cell_type": "markdown",
   "metadata": {
    "nbgrader": {
     "grade": false,
     "locked": true,
     "solution": false
    }
   },
   "source": [
    "**Exercise 3** (2 points). Write a function, raise_alarm(x, alpha), that takes a list of observed temperatures, x, and a threshold, alpha, as inputs, and returns the first element as a pair (tuple), (index, element), such that the CuSum at time index exceeds alpha.\n",
    "\n",
    "For the mean ( μ ), use the mean of x. And if no CuSum value exceeds the threshold, your function should return (-1, None).\n",
    "\n",
    "Here is an example that should raise an alarm:\n",
    "```python\n",
    "x = [0, 0, 0, 0, 1, 0, 1, 4, 9, 8, 12, 13, 12, 10, 9, 7, 9]\n",
    "alpha = 12\n",
    "assert raise_alarm(x, alpha) == (3 , 0)\n",
    "```\n",
    "\n",
    "And here is an example where there is no alarm:\n",
    "\n",
    "```python\n",
    "x = [11, 15, 35, 34, 11, 1, 28, 37, 20, 32, 25, 21, 45, 25, 31, 16, 36, 28, 18, 25]\n",
    "alpha = 50\n",
    "assert raise_alarm(x, alpha) == (-1, None)\n",
    "```"
   ]
  },
  {
   "cell_type": "code",
   "execution_count": 16,
   "metadata": {},
   "outputs": [
    {
     "name": "stdout",
     "output_type": "stream",
     "text": [
      "5.588235294117647\n"
     ]
    }
   ],
   "source": [
    "test_x = [0, 0, 0, 0, 1, 0, 1, 4, 9, 8, 12, 13, 12, 10, 9, 7, 9]\n",
    "\n",
    "test_mu = calc_mean(test_x)\n",
    "print(test_mu)\n",
    "\n",
    "test_alpha = 12"
   ]
  },
  {
   "cell_type": "code",
   "execution_count": 17,
   "metadata": {},
   "outputs": [
    {
     "data": {
      "text/plain": [
       "[0,\n",
       " 5.588235294117647,\n",
       " 11.176470588235293,\n",
       " 16.764705882352942,\n",
       " 22.352941176470587,\n",
       " 26.941176470588232,\n",
       " 32.52941176470588,\n",
       " 37.11764705882352,\n",
       " 38.70588235294117,\n",
       " 35.29411764705881,\n",
       " 32.88235294117646,\n",
       " 26.4705882352941,\n",
       " 19.058823529411747,\n",
       " 12.647058823529393,\n",
       " 8.23529411764704,\n",
       " 4.823529411764687,\n",
       " 3.4117647058823337,\n",
       " 0]"
      ]
     },
     "execution_count": 17,
     "metadata": {},
     "output_type": "execute_result"
    }
   ],
   "source": [
    "cusum(test_x, test_mu)"
   ]
  },
  {
   "cell_type": "code",
   "execution_count": 11,
   "metadata": {
    "nbgrader": {
     "grade": false,
     "grade_id": "test_ex_3",
     "locked": false,
     "points": "2",
     "solution": false
    }
   },
   "outputs": [],
   "source": [
    "def raise_alarm(x:list, alpha:(int, float)) -> tuple:\n",
    "    #\n",
    "    mu = calc_mean(x)\n",
    "    S = cusum(x, mu)\n",
    "    \n",
    "    index = get_index(S, alpha)\n",
    "    \n",
    "    if index != -1:\n",
    "        element = S[index]\n",
    "    else:\n",
    "        element = None\n",
    "        \n",
    "    return (index, element)\n",
    "    #\n"
   ]
  },
  {
   "cell_type": "code",
   "execution_count": 12,
   "metadata": {},
   "outputs": [
    {
     "data": {
      "text/plain": [
       "(3, 16.764705882352942)"
      ]
     },
     "execution_count": 12,
     "metadata": {},
     "output_type": "execute_result"
    }
   ],
   "source": [
    "raise_alarm(test_x, test_alpha)"
   ]
  },
  {
   "cell_type": "code",
   "execution_count": 18,
   "metadata": {
    "nbgrader": {
     "grade": true,
     "grade_id": "test_ex_3_0",
     "locked": true,
     "points": "1",
     "solution": false
    }
   },
   "outputs": [
    {
     "name": "stdout",
     "output_type": "stream",
     "text": [
      "Test case:\n",
      "- Observations  : [20, 21, 20, 19, 18, 17, 15, 10, 6, 5, 4, 5, 2, 5, 6, 6]\n",
      "- Threshold     : 2\n",
      "- Correct output: (9, 5)\n",
      "- Your output   : (9, 6.375)\n"
     ]
    },
    {
     "ename": "AssertionError",
     "evalue": "Element part of the returned pair did not match!",
     "output_type": "error",
     "traceback": [
      "\u001b[0;31m---------------------------------------------------------------------------\u001b[0m",
      "\u001b[0;31mAssertionError\u001b[0m                            Traceback (most recent call last)",
      "\u001b[0;32m<ipython-input-18-643536b1a5e4>\u001b[0m in \u001b[0;36m<module>\u001b[0;34m()\u001b[0m\n\u001b[1;32m     19\u001b[0m \u001b[0;34m\u001b[0m\u001b[0m\n\u001b[1;32m     20\u001b[0m \u001b[0;31m# Test 1\u001b[0m\u001b[0;34m\u001b[0m\u001b[0;34m\u001b[0m\u001b[0m\n\u001b[0;32m---> 21\u001b[0;31m \u001b[0mcheck_exercise3\u001b[0m\u001b[0;34m(\u001b[0m\u001b[0;34m[\u001b[0m\u001b[0;36m20\u001b[0m\u001b[0;34m,\u001b[0m\u001b[0;36m21\u001b[0m\u001b[0;34m,\u001b[0m\u001b[0;36m20\u001b[0m\u001b[0;34m,\u001b[0m\u001b[0;36m19\u001b[0m\u001b[0;34m,\u001b[0m\u001b[0;36m18\u001b[0m\u001b[0;34m,\u001b[0m\u001b[0;36m17\u001b[0m\u001b[0;34m,\u001b[0m\u001b[0;36m15\u001b[0m\u001b[0;34m,\u001b[0m\u001b[0;36m10\u001b[0m\u001b[0;34m,\u001b[0m\u001b[0;36m6\u001b[0m\u001b[0;34m,\u001b[0m\u001b[0;36m5\u001b[0m\u001b[0;34m,\u001b[0m\u001b[0;36m4\u001b[0m\u001b[0;34m,\u001b[0m\u001b[0;36m5\u001b[0m\u001b[0;34m,\u001b[0m\u001b[0;36m2\u001b[0m\u001b[0;34m,\u001b[0m\u001b[0;36m5\u001b[0m\u001b[0;34m,\u001b[0m\u001b[0;36m6\u001b[0m\u001b[0;34m,\u001b[0m\u001b[0;36m6\u001b[0m\u001b[0;34m]\u001b[0m\u001b[0;34m,\u001b[0m \u001b[0;36m2\u001b[0m\u001b[0;34m,\u001b[0m \u001b[0;34m(\u001b[0m\u001b[0;36m9\u001b[0m\u001b[0;34m,\u001b[0m\u001b[0;36m5\u001b[0m\u001b[0;34m)\u001b[0m\u001b[0;34m)\u001b[0m\u001b[0;34m\u001b[0m\u001b[0m\n\u001b[0m\u001b[1;32m     22\u001b[0m \u001b[0;34m\u001b[0m\u001b[0m\n\u001b[1;32m     23\u001b[0m \u001b[0;31m# test 2\u001b[0m\u001b[0;34m\u001b[0m\u001b[0;34m\u001b[0m\u001b[0m\n",
      "\u001b[0;32m<ipython-input-18-643536b1a5e4>\u001b[0m in \u001b[0;36mcheck_exercise3\u001b[0;34m(x, alpha, ans)\u001b[0m\n\u001b[1;32m     15\u001b[0m     \u001b[0;32melse\u001b[0m\u001b[0;34m:\u001b[0m\u001b[0;34m\u001b[0m\u001b[0m\n\u001b[1;32m     16\u001b[0m         \u001b[0mcheck1\u001b[0m \u001b[0;34m=\u001b[0m \u001b[0misclose\u001b[0m\u001b[0;34m(\u001b[0m\u001b[0mans\u001b[0m\u001b[0;34m[\u001b[0m\u001b[0;36m1\u001b[0m\u001b[0;34m]\u001b[0m\u001b[0;34m,\u001b[0m \u001b[0myour_ans\u001b[0m\u001b[0;34m[\u001b[0m\u001b[0;36m1\u001b[0m\u001b[0;34m]\u001b[0m\u001b[0;34m,\u001b[0m \u001b[0mrel_tol\u001b[0m\u001b[0;34m=\u001b[0m\u001b[0;36m1e-15\u001b[0m\u001b[0;34m)\u001b[0m\u001b[0;34m\u001b[0m\u001b[0m\n\u001b[0;32m---> 17\u001b[0;31m     \u001b[0;32massert\u001b[0m \u001b[0mcheck1\u001b[0m\u001b[0;34m,\u001b[0m \u001b[0;34m\"Element part of the returned pair did not match!\"\u001b[0m\u001b[0;34m\u001b[0m\u001b[0m\n\u001b[0m\u001b[1;32m     18\u001b[0m     \u001b[0mprint\u001b[0m\u001b[0;34m(\u001b[0m\u001b[0;34m\"\"\u001b[0m\u001b[0;34m)\u001b[0m\u001b[0;34m\u001b[0m\u001b[0m\n\u001b[1;32m     19\u001b[0m \u001b[0;34m\u001b[0m\u001b[0m\n",
      "\u001b[0;31mAssertionError\u001b[0m: Element part of the returned pair did not match!"
     ]
    }
   ],
   "source": [
    "## Test cell: `exercise3_0`\n",
    "\n",
    "def check_exercise3(x, alpha, ans):\n",
    "    from math import isclose\n",
    "    print(\"Test case:\")\n",
    "    print(\"- Observations  : {}\".format(x))\n",
    "    print(\"- Threshold     : {}\".format(alpha))\n",
    "    print(\"- Correct output: {}\".format(ans))\n",
    "    your_ans = raise_alarm(x, alpha)\n",
    "    assert type(your_ans) is tuple and len(your_ans) == 2, \"You did not return a pair!\"\n",
    "    print(\"- Your output   : {}\".format(your_ans))\n",
    "    assert ans[0] == your_ans[0], \"Index position part of the returned pair did not match!\"\n",
    "    if ans[0] == -1:\n",
    "        check1 = (ans[1] == your_ans[1]) # None value\n",
    "    else:\n",
    "        check1 = isclose(ans[1], your_ans[1], rel_tol=1e-15)\n",
    "    assert check1, \"Element part of the returned pair did not match!\"\n",
    "    print(\"\")\n",
    "\n",
    "# Test 1\n",
    "check_exercise3([20,21,20,19,18,17,15,10,6,5,4,5,2,5,6,6], 2, (9,5))\n",
    "\n",
    "# test 2\n",
    "check_exercise3([50,51,52,50,47,44,42,40,39],46, (-1, None))\n",
    "\n",
    "print(\"Passed: test 1/2\")"
   ]
  },
  {
   "cell_type": "code",
   "execution_count": 19,
   "metadata": {
    "nbgrader": {
     "grade": true,
     "grade_id": "test_ex_3_1",
     "locked": true,
     "points": "1",
     "solution": false
    }
   },
   "outputs": [
    {
     "name": "stdout",
     "output_type": "stream",
     "text": [
      "The list values and your point of change detection\n",
      "----------------- list 0 ----------------- \n"
     ]
    },
    {
     "data": {
      "text/plain": [
       "<Figure size 640x480 with 1 Axes>"
      ]
     },
     "metadata": {},
     "output_type": "display_data"
    },
    {
     "name": "stdout",
     "output_type": "stream",
     "text": [
      "----------------- list 1 ----------------- \n"
     ]
    },
    {
     "data": {
      "text/plain": [
       "<Figure size 640x480 with 1 Axes>"
      ]
     },
     "metadata": {},
     "output_type": "display_data"
    },
    {
     "name": "stdout",
     "output_type": "stream",
     "text": [
      "----------------- list 2 ----------------- \n"
     ]
    },
    {
     "data": {
      "text/plain": [
       "<Figure size 640x480 with 1 Axes>"
      ]
     },
     "metadata": {},
     "output_type": "display_data"
    },
    {
     "name": "stdout",
     "output_type": "stream",
     "text": [
      "----------------- list 3 ----------------- \n"
     ]
    },
    {
     "data": {
      "text/plain": [
       "<Figure size 640x480 with 1 Axes>"
      ]
     },
     "metadata": {},
     "output_type": "display_data"
    },
    {
     "name": "stdout",
     "output_type": "stream",
     "text": [
      "----------------- list 4 ----------------- \n"
     ]
    },
    {
     "data": {
      "text/plain": [
       "<Figure size 640x480 with 1 Axes>"
      ]
     },
     "metadata": {},
     "output_type": "display_data"
    },
    {
     "name": "stdout",
     "output_type": "stream",
     "text": [
      "----------------- list 5 ----------------- \n"
     ]
    },
    {
     "data": {
      "text/plain": [
       "<Figure size 640x480 with 1 Axes>"
      ]
     },
     "metadata": {},
     "output_type": "display_data"
    },
    {
     "name": "stdout",
     "output_type": "stream",
     "text": [
      "----------------- list 6 ----------------- \n"
     ]
    },
    {
     "data": {
      "text/plain": [
       "<Figure size 640x480 with 1 Axes>"
      ]
     },
     "metadata": {},
     "output_type": "display_data"
    },
    {
     "name": "stdout",
     "output_type": "stream",
     "text": [
      "----------------- list 7 ----------------- \n"
     ]
    },
    {
     "data": {
      "text/plain": [
       "<Figure size 640x480 with 1 Axes>"
      ]
     },
     "metadata": {},
     "output_type": "display_data"
    },
    {
     "name": "stdout",
     "output_type": "stream",
     "text": [
      "----------------- list 8 ----------------- \n"
     ]
    },
    {
     "data": {
      "text/plain": [
       "<Figure size 640x480 with 1 Axes>"
      ]
     },
     "metadata": {},
     "output_type": "display_data"
    },
    {
     "name": "stdout",
     "output_type": "stream",
     "text": [
      "----------------- list 9 ----------------- \n"
     ]
    },
    {
     "data": {
      "text/plain": [
       "<Figure size 640x480 with 1 Axes>"
      ]
     },
     "metadata": {},
     "output_type": "display_data"
    },
    {
     "name": "stdout",
     "output_type": "stream",
     "text": [
      "----------------- list 10 ----------------- \n"
     ]
    },
    {
     "data": {
      "text/plain": [
       "<Figure size 640x480 with 1 Axes>"
      ]
     },
     "metadata": {},
     "output_type": "display_data"
    },
    {
     "name": "stdout",
     "output_type": "stream",
     "text": [
      "----------------- list 11 ----------------- \n"
     ]
    },
    {
     "data": {
      "text/plain": [
       "<Figure size 640x480 with 1 Axes>"
      ]
     },
     "metadata": {},
     "output_type": "display_data"
    },
    {
     "name": "stdout",
     "output_type": "stream",
     "text": [
      "----------------- list 12 ----------------- \n"
     ]
    },
    {
     "data": {
      "text/plain": [
       "<Figure size 640x480 with 1 Axes>"
      ]
     },
     "metadata": {},
     "output_type": "display_data"
    },
    {
     "name": "stdout",
     "output_type": "stream",
     "text": [
      "----------------- list 13 ----------------- \n"
     ]
    },
    {
     "data": {
      "text/plain": [
       "<Figure size 640x480 with 1 Axes>"
      ]
     },
     "metadata": {},
     "output_type": "display_data"
    },
    {
     "name": "stdout",
     "output_type": "stream",
     "text": [
      "----------------- list 14 ----------------- \n"
     ]
    },
    {
     "data": {
      "text/plain": [
       "<Figure size 640x480 with 1 Axes>"
      ]
     },
     "metadata": {},
     "output_type": "display_data"
    },
    {
     "name": "stdout",
     "output_type": "stream",
     "text": [
      "\n",
      " Passed: test 2/2\n"
     ]
    }
   ],
   "source": [
    "## Test cell: `exercise3_1`\n",
    "import matplotlib.pyplot as plt\n",
    "import numpy as np\n",
    "print(\"The list values and your point of change detection\")\n",
    "for i in range(15):\n",
    "    change_index = np.random.randint(10,100)\n",
    "    change_volume = np.random.randint(3,5)\n",
    "    test_input = list(np.random.random(change_index)+change_volume)+list(np.random.random(20))\n",
    "    test_input.insert(change_index - 10, change_volume)\n",
    "    test_input.insert(change_index - 20, change_volume)\n",
    "    \n",
    "    # Plot sequences\n",
    "    print(\"----------------- list {} ----------------- \".format(i))\n",
    "    plt.plot(test_input)\n",
    "    your_ans = raise_alarm(test_input,change_volume*2)[0]\n",
    "    plt.plot([your_ans]*10, range(10), 'k-', lw=1)\n",
    "    plt.show()\n",
    "    assert raise_alarm(test_input,change_volume*5)[0] >= change_index, print(\"You do not have the correct index of change\")\n",
    "    \n",
    "print(\"\\n Passed: test 2/2\")"
   ]
  },
  {
   "cell_type": "markdown",
   "metadata": {
    "nbgrader": {
     "grade": false,
     "locked": true,
     "solution": false
    }
   },
   "source": [
    "Let's take this one step further.\n",
    "\n",
    "In the previous exercises, we considered the mean of the list to be a constant value (or a known value) over all times. Such a random time series is said to be stationary. But there are cases when the system is non-stationary, where the mean value varies in time. This phenomenon occurs with, for instance, seasonal data, like when the average temperature depends on the time of year.\n",
    "\n",
    "In this case, you might want a dynamic CuSum, that is, one that maintains a **moving average** that you update over time. For the last exercise in this notebook, let's implement a key piece of such a method.\n",
    "\n"
   ]
  },
  {
   "cell_type": "markdown",
   "metadata": {
    "nbgrader": {
     "grade": false,
     "locked": true,
     "solution": false
    }
   },
   "source": [
    "**Exercise 4** (2 points). Write a function, calc_mean_dynamic(L), that takes a list of values L and returns a new list, mu, where mu[t] is the average value of the preceding five time points,L[t-5], L[t-4], L[t-3], L[t-2], and L[t-1].\n",
    "\n",
    "When t < 5, the preceding time points do not exist. Your computation should assume that they do and that their values are 0.\n",
    "\n",
    "That is, consider this example:\n",
    "```python\n",
    "L = [1, 1, 2, 4, 6, 2, 1]\n",
    "assert calc_mean_dynamic(L) == [0, 0.25, 0.5, 1, 2, 3.25, 3.5]\n",
    "```\n",
    "At t=0, there are no earlier time points. Therefore, the output should be $\\frac{0+0+0+0+0}{5} = 0$. At t=1, there is only one preceding time point, L[0]=1. Therefore, the dynamic or moving average should be computed as $\\frac{0+0+0+0+1}{5} = 0.2$. At t=2, it would be $\\frac{0+0+0+1+1}{5} = 0.4$."
   ]
  },
  {
   "cell_type": "code",
   "execution_count": null,
   "metadata": {},
   "outputs": [],
   "source": [
    "def calc_mean_dynamic(L):\n",
    "    #\n",
    "    # YOUR CODE HERE\n",
    "    #\n"
   ]
  },
  {
   "cell_type": "code",
   "execution_count": null,
   "metadata": {
    "nbgrader": {
     "grade": true,
     "grade_id": "test_ex_4",
     "locked": true,
     "points": "2",
     "solution": false
    }
   },
   "outputs": [],
   "source": [
    "# Test cell: `exercise4`\n",
    "\n",
    "def check_exercise4(L, ans):\n",
    "    from math import isclose\n",
    "    print(\"Test case:\")\n",
    "    print(\"- Input      : {}\".format(L))\n",
    "    print(\"- True answer: {}\".format(ans))\n",
    "    your_ans = calc_mean_dynamic(L)\n",
    "    print(\"- Your answer: {}\".format(your_ans))\n",
    "    assert len(ans) == len(your_ans), \"Output lengths do not match!\"\n",
    "    for i, (a, b) in enumerate(zip(ans, your_ans)):\n",
    "        assert isclose(a, b, rel_tol=1e-13), \"Answers differ at position {}: {} vs. {}\".format(i, a, b)\n",
    "    print(\"\")\n",
    "\n",
    "# test 1\n",
    "check_exercise4([1, 1, 2, 4, 6, 2, 1],\n",
    "                [0.0, 0.2, 0.4, 0.8, 1.6, 2.8, 3.0])\n",
    "\n",
    "# test 2\n",
    "check_exercise4([39, 37, 17, 28, 36, 40, 35, 32, 23, 1, 38, 3, 33, 3, 47, 13, 24, 38, 14, 8],\n",
    "                [0.0,7.8,15.2,18.6,24.2,31.4,31.6,31.2,34.2,33.2,26.2,25.8,19.4,19.6,15.6,24.8,19.8,24.0,25.0,27.2])\n",
    "\n",
    "# test 3\n",
    "check_exercise4([1,1,2,4,2,4,6,8,9,1,2,3],\n",
    "                [0.0, 0.2, 0.4, 0.8, 1.6, 2.0, 2.6, 3.6, 4.8, 5.8, 5.6, 5.2])\n",
    "\n",
    "print(\"(Passed!)\")"
   ]
  },
  {
   "cell_type": "markdown",
   "metadata": {
    "nbgrader": {
     "grade": false,
     "locked": true,
     "solution": false
    }
   },
   "source": [
    "**Fin!** You've reached the end of this problem. Don't forget to restart the kernel and run the entire notebook from top-to-bottom to make sure you did everything correctly. If that is working, try submitting this problem. (Recall that you must submit and pass the autograder to get credit for your work!)"
   ]
  }
 ],
 "metadata": {
  "kernelspec": {
   "display_name": "Python 3",
   "language": "python",
   "name": "python3"
  },
  "language_info": {
   "codemirror_mode": {
    "name": "ipython",
    "version": 3
   },
   "file_extension": ".py",
   "mimetype": "text/x-python",
   "name": "python",
   "nbconvert_exporter": "python",
   "pygments_lexer": "ipython3",
   "version": "3.6.5"
  }
 },
 "nbformat": 4,
 "nbformat_minor": 2
}
