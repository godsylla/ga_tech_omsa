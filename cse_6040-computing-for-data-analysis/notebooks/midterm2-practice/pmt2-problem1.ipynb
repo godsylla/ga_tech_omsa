{
 "cells": [
  {
   "cell_type": "markdown",
   "metadata": {
    "nbgrader": {
     "grade": false,
     "grade_id": "cell-8afe685fae04c5c5",
     "locked": true,
     "schema_version": 1,
     "solution": false
    }
   },
   "source": [
    "# Problem 1: Drug Trial\n",
    "\n",
    "In this problem, you'll analyze some data from a medical drug trial. There are three exercises worth a total of ten points.\n",
    "\n",
    "Two of the exercises allow you to use **either** Pandas **or** SQL to solve it. Choose the method that feels is more natural to you.\n",
    "\n",
    "> **Note**: Because Vocareum only supports the `sqlite3` module with Python 3.5, this problem is tied to that version (rather than 3.6). As such, some care may be needed to ensure that you are only using features available in the corresponding versions of Python and supporting libraries (e.g., `pandas`, `sqlite3`)."
   ]
  },
  {
   "cell_type": "markdown",
   "metadata": {
    "nbgrader": {
     "grade": false,
     "grade_id": "cell-01be814c65991562",
     "locked": true,
     "schema_version": 1,
     "solution": false
    }
   },
   "source": [
    "## Setup\n",
    "\n",
    "Run the following few code cells, which will load the modules and sample data you'll need for this problem."
   ]
  },
  {
   "cell_type": "code",
   "execution_count": null,
   "metadata": {
    "nbgrader": {
     "grade": false,
     "grade_id": "cell-3c9592cb563fbdec",
     "locked": true,
     "schema_version": 1,
     "solution": false
    }
   },
   "outputs": [],
   "source": [
    "import sys\n",
    "import pandas as pd\n",
    "import numpy as np\n",
    "import sqlite3 as db\n",
    "\n",
    "print(\"Python version: {}\".format(sys.version))\n",
    "print(\"pandas version: {}\".format(pd.__version__))\n",
    "print(\"numpy version: {}\".format(np.__version__))\n",
    "print(\"sqlite3 version: {}\".format(db.version))\n",
    "\n",
    "from IPython.display import display\n",
    "from cse6040utils import canonicalize_tibble, tibbles_are_equivalent"
   ]
  },
  {
   "cell_type": "code",
   "execution_count": null,
   "metadata": {
    "nbgrader": {
     "grade": false,
     "locked": true,
     "solution": false
    }
   },
   "outputs": [],
   "source": [
    "from cse6040utils import download_all\n",
    "\n",
    "datasets = {'Drugs_soln.csv': '6df060bde8dea48986dc12650a4fbef5',\n",
    "            'avg_dose_soln.csv': 'f604e3da488d489792fec220ada738f8',\n",
    "            'drugs.csv': '33bb1fa5068069a483a6e05fafde40d0',\n",
    "            'nst_count_soln.csv': '7519ad4764eb238a9120fa7cd1f006de',\n",
    "            'nst_count_soln--corrected.csv': '81f801cd20775a51f92a1b28593c0915',\n",
    "            'swt_count_soln.csv': 'fbbb7368d31856665c3e5e1b19d93d65'}\n",
    "\n",
    "DATA_SUFFIX = \"drug-trials/\"\n",
    "data_paths = download_all(datasets, local_suffix=DATA_SUFFIX, url_suffix=DATA_SUFFIX)\n",
    "    \n",
    "print(\"\\n(All data appears to be ready.)\")"
   ]
  },
  {
   "cell_type": "markdown",
   "metadata": {
    "nbgrader": {
     "grade": false,
     "grade_id": "cell-d69a03cdfcd56f46",
     "locked": true,
     "schema_version": 1,
     "solution": false
    }
   },
   "source": [
    "## The data\n",
    "\n",
    "Company XYZ currently uses Medication A to treat all its patients and is considering a switch to Medication B. A critical part of the evaluation of Medication B is how much of it would be used among XYZ’s patients.\n",
    "\n",
    "The company did a trial of Medication B. The data in the accompanying CSV file, `Drugs.csv`, is data taken from roughly 130 patients at least 2 months before switching medications and up to 3 months while on the new medication.\n",
    "\n",
    "A patient can be taking medication A or medication B, but cannot be taking both at the same time.\n",
    "\n",
    "The following code cell will read this data and store it in a dataframe named `Drugs`."
   ]
  },
  {
   "cell_type": "code",
   "execution_count": null,
   "metadata": {
    "nbgrader": {
     "grade": false,
     "grade_id": "cell-25818825291e3bfe",
     "locked": true,
     "schema_version": 1,
     "solution": false
    }
   },
   "outputs": [],
   "source": [
    "Drugs = pd.read_csv(data_paths['drugs.csv'], header=0)\n",
    "assert len(Drugs) == 2022\n",
    "Drugs.head()"
   ]
  },
  {
   "cell_type": "markdown",
   "metadata": {},
   "source": [
    "Each row indicates that a patient (identified by his or her `'ID'`) took one **dose** of a particular drug on a particular day. The size of the dose was `'Units'`."
   ]
  },
  {
   "cell_type": "markdown",
   "metadata": {
    "nbgrader": {
     "grade": false,
     "grade_id": "cell-d44423f24154e0bd",
     "locked": true,
     "schema_version": 1,
     "solution": false
    }
   },
   "source": [
    "## Exercises"
   ]
  },
  {
   "cell_type": "markdown",
   "metadata": {
    "nbgrader": {
     "grade": false,
     "grade_id": "cell-953b977c25217b4b",
     "locked": true,
     "schema_version": 1,
     "solution": false
    }
   },
   "source": [
    "**Exercise 0** (1 points). All you have to do is read the code in the following code cell and run it. You should observe the following.\n",
    "\n",
    "First, the `'Med'`, `'Admin Date'`, and `'Units'` columns are stored as strings initially.\n",
    "\n",
    "Secondly, there are some handy functions in Pandas to change the `'Admin Date'` and '`Units`' columns into more \"natural\" native Python types, namely, a floating-point type and a Python `datetime` type, respectively. Indeed, once in this form, it is easy to use Pandas to, say, extract the month as its own column."
   ]
  },
  {
   "cell_type": "code",
   "execution_count": null,
   "metadata": {
    "nbgrader": {
     "grade": true,
     "grade_id": "cell-d161fe1a08dde060",
     "locked": true,
     "points": 1,
     "schema_version": 1,
     "solution": false
    }
   },
   "outputs": [],
   "source": [
    "# Observe types:\n",
    "for col in ['Med', 'Admin Date', 'Units']:\n",
    "    print(\"Column '{}' has type {}.\".format(col, type(Drugs[col].iloc[0])))\n",
    "    \n",
    "# Convert strings to \"natural\" types:\n",
    "Drugs = pd.read_csv(data_paths['drugs.csv'], header=0)\n",
    "Drugs['Units'] = pd.to_numeric(Drugs['Units'].str.replace(',',''), errors='coerce')\n",
    "Drugs['Admin Date'] = pd.to_datetime(Drugs['Admin Date'], infer_datetime_format=True)\n",
    "Drugs['Month'] = Drugs['Admin Date'].dt.month\n",
    "\n",
    "print (\"\\nFive random records from the `Drugs` table:\")\n",
    "display(Drugs.iloc[np.random.choice (len (Drugs), 5)])\n",
    "\n",
    "assert Drugs['Units'].dtype == 'float64'\n",
    "assert Drugs['Month'].dtype == 'int64'"
   ]
  },
  {
   "cell_type": "markdown",
   "metadata": {
    "nbgrader": {
     "grade": false,
     "grade_id": "cell-1fb5d7377e435403",
     "locked": true,
     "schema_version": 1,
     "solution": false
    }
   },
   "source": [
    "**Exercise 1** (1 point). Again, all you need to do is read and run the following code cell. It creates an SQLite database file named `drug_trial.db` and copies the Pandas dataframe from above into it as a table named `Drugs`.\n",
    "\n",
    "The `conn` variable holds a live connection to this data."
   ]
  },
  {
   "cell_type": "code",
   "execution_count": null,
   "metadata": {
    "nbgrader": {
     "grade": true,
     "grade_id": "cell-33c9cb8b19360894",
     "locked": true,
     "points": 1,
     "schema_version": 1,
     "solution": false
    },
    "scrolled": true
   },
   "outputs": [],
   "source": [
    "# Import Drugs_soln dataframe above to sqlite database\n",
    "# Connect to a database (or create one if it doesn't exist)\n",
    "conn = db.connect('drug_trial.db')\n",
    "Drugs.to_sql('Drugs', conn, if_exists='replace', index=False)\n",
    "pd.read_sql_query('SELECT * FROM Drugs LIMIT 5', conn)"
   ]
  },
  {
   "cell_type": "markdown",
   "metadata": {
    "nbgrader": {
     "grade": false,
     "grade_id": "cell-94e24c3f24084975",
     "locked": true,
     "schema_version": 1,
     "solution": false
    }
   },
   "source": [
    "**Exercise 2** (2 points). **Suppose you want to know the average dose, for each medication (A and B) and month ranging from July to November.**\n",
    "\n",
    "For example, it will turn out that in July the average dose of drug A was 5,129.56 units (rounded to two decimal places), and in September the average dose of drug B was 7.04.\n",
    "\n",
    "Write some code to perform this calculation. Store your results in a Pandas data frame named `avg_dose` having the following three columns:\n",
    "- `'Month'`: The month;\n",
    "- `'Med'`: The medication, either `'Med A'` and `'Med B'`;\n",
    "- `'Units'`: The average dose, **rounded to 2 decimal digits**.\n",
    "\n",
    "> You can write either Pandas code or SQL code. If using Pandas, the data exists in the `Drugs` dataframe; if using SQL, the `conn` database connection holds a table named `Drugs`."
   ]
  },
  {
   "cell_type": "code",
   "execution_count": null,
   "metadata": {
    "nbgrader": {
     "grade": false,
     "grade_id": "avg_dose",
     "locked": false,
     "schema_version": 1,
     "solution": true
    }
   },
   "outputs": [],
   "source": [
    "#\n",
    "# YOUR CODE HERE\n",
    "#\n",
    "\n",
    "# Show your solution:\n",
    "display(avg_dose)"
   ]
  },
  {
   "cell_type": "code",
   "execution_count": null,
   "metadata": {
    "nbgrader": {
     "grade": true,
     "grade_id": "avg_dose_test",
     "locked": true,
     "points": 2,
     "schema_version": 1,
     "solution": false
    }
   },
   "outputs": [],
   "source": [
    "# Test code\n",
    "# Read what we believe is the exact result (up to permutations)\n",
    "avg_dose_soln = pd.read_csv(data_paths['avg_dose_soln.csv'])\n",
    "\n",
    "# Check that we got a data frame of the expected shape:\n",
    "assert 'avg_dose' in globals(), \"You need to store your results in a dataframe named `avg_dose`.\"\n",
    "assert type(avg_dose) is type(pd.DataFrame()), \"`avg_dose` does not appear to be a Pandas dataframe.\"\n",
    "assert len(avg_dose) == len(avg_dose_soln), \"The number of rows of `avg_dose` does not match our solution.\"\n",
    "assert set(avg_dose.columns) == set(['Month', 'Med', 'Units']), \"Your table does not have the right set of columns.\"\n",
    "\n",
    "assert tibbles_are_equivalent(avg_dose, avg_dose_soln)\n",
    "print(\"\\n(Passed!)\")"
   ]
  },
  {
   "cell_type": "markdown",
   "metadata": {
    "nbgrader": {
     "grade": false,
     "grade_id": "cell-42b1cb75d2cac447",
     "locked": true,
     "schema_version": 1,
     "solution": false
    }
   },
   "source": [
    "**Exercise 3** (6 points). For each month, write some code to calculate the following:\n",
    "- (3 points) How many patients switched from medication A to medication B? Store youre results in a Pandas dataframe named `swt_count`.\n",
    "- (3 points) How many patients started on medication B, having never been on medication A before? Store your results in a Pandas dataframe named `nst_count`.\n",
    "\n",
    "The two dataframes should have two columns: `Month` and `Count`. Again, you can choose to use SQL queries or Pandas directly to generate these dataframes.\n",
    "\n",
    "> If it's helpful, recall that patients can only be switched from medication A to medication B, but not from B back to A."
   ]
  },
  {
   "cell_type": "code",
   "execution_count": null,
   "metadata": {
    "collapsed": true,
    "nbgrader": {
     "grade": false,
     "grade_id": "swt_count",
     "locked": false,
     "schema_version": 1,
     "solution": true
    }
   },
   "outputs": [],
   "source": [
    "# Write your solution to compute `swt_count` in this code cell.\n",
    "\n",
    "#\n",
    "# YOUR CODE HERE\n",
    "#\n"
   ]
  },
  {
   "cell_type": "code",
   "execution_count": null,
   "metadata": {
    "nbgrader": {
     "grade": true,
     "grade_id": "swt_count_test",
     "locked": true,
     "points": 3,
     "schema_version": 1,
     "solution": false
    }
   },
   "outputs": [],
   "source": [
    "# Test code for exercise_a\n",
    "# Read what we believe is the exact result\n",
    "swt_count_soln = pd.read_csv(data_paths['swt_count_soln.csv'])\n",
    "\n",
    "# Check that we got a data frame of the expected shape:\n",
    "assert 'swt_count' in globals ()\n",
    "assert type (swt_count) is type (pd.DataFrame ())\n",
    "assert len (swt_count) == len (swt_count_soln)\n",
    "assert set (swt_count.columns) == set (['Month', 'Count'])\n",
    "\n",
    "print (\"Number of patients who switched from Med A to Med B each month:\")\n",
    "display (swt_count)\n",
    "\n",
    "assert tibbles_are_equivalent (swt_count, swt_count_soln)\n",
    "print (\"\\n(Passed!)\")"
   ]
  },
  {
   "cell_type": "code",
   "execution_count": null,
   "metadata": {
    "collapsed": true,
    "nbgrader": {
     "grade": false,
     "grade_id": "nst_count",
     "locked": false,
     "schema_version": 1,
     "solution": true
    }
   },
   "outputs": [],
   "source": [
    "# Write your solution to compute `nst_count` in this code cell.\n",
    "\n",
    "#\n",
    "# YOUR CODE HERE\n",
    "#\n"
   ]
  },
  {
   "cell_type": "code",
   "execution_count": null,
   "metadata": {
    "nbgrader": {
     "grade": true,
     "grade_id": "nst_count_test",
     "locked": true,
     "points": 3,
     "schema_version": 1,
     "solution": false
    }
   },
   "outputs": [],
   "source": [
    "# Test code for exercise_b\n",
    "# Read what we believe is the exact result\n",
    "nst_count_soln_corrected = pd.read_csv(data_paths['nst_count_soln--corrected.csv'])\n",
    "nst_count_soln_ok = pd.read_csv(data_paths['nst_count_soln.csv'])\n",
    "\n",
    "# Check that we got a data frame of the expected shape:\n",
    "assert 'nst_count' in globals ()\n",
    "assert type (nst_count) is type (pd.DataFrame ())\n",
    "assert (len (nst_count) == len (nst_count_soln_corrected)) or (len (nst_count) == len (nst_count_soln_ok))\n",
    "assert set (nst_count.columns) == set (['Month', 'Count'])\n",
    "\n",
    "print (\"Number of patients who newly start Med B each month:\")\n",
    "display (nst_count)\n",
    "\n",
    "assert tibbles_are_equivalent(nst_count, nst_count_soln_ok) \\\n",
    "       or tibbles_are_equivalent(nst_count, nst_count_soln_corrected)\n",
    "print (\"\\n(Passed!)\")"
   ]
  },
  {
   "cell_type": "code",
   "execution_count": null,
   "metadata": {
    "collapsed": true,
    "nbgrader": {
     "grade": false,
     "grade_id": "cell-eb48bda5ebd34f89",
     "locked": true,
     "schema_version": 1,
     "solution": false
    }
   },
   "outputs": [],
   "source": [
    "# Some cleanup code\n",
    "conn.close()"
   ]
  },
  {
   "cell_type": "markdown",
   "metadata": {
    "nbgrader": {
     "grade": false,
     "grade_id": "cell-414131b79b8af02c",
     "locked": true,
     "schema_version": 1,
     "solution": false
    }
   },
   "source": [
    "**Fin!** Well done! If you have successfully completed this problem, move on to the next one. Good luck!"
   ]
  }
 ],
 "metadata": {
  "celltoolbar": "Create Assignment",
  "kernel_info": {
   "name": "python3"
  },
  "kernelspec": {
   "display_name": "Python 3",
   "language": "python",
   "name": "python3"
  },
  "language_info": {
   "codemirror_mode": {
    "name": "ipython",
    "version": 3
   },
   "file_extension": ".py",
   "mimetype": "text/x-python",
   "name": "python",
   "nbconvert_exporter": "python",
   "pygments_lexer": "ipython3",
   "version": "3.5.2"
  },
  "nteract": {
   "version": "0.11.9"
  }
 },
 "nbformat": 4,
 "nbformat_minor": 2
}
