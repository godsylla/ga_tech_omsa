{
 "cells": [
  {
   "cell_type": "markdown",
   "metadata": {
    "nbgrader": {
     "grade": false,
     "locked": true,
     "solution": false
    }
   },
   "source": [
    "**Important note**! Before you turn in this lab notebook, make sure everything runs as expected:\n",
    "\n",
    "- First, restart the kernel -- in the menubar, select Kernel → Restart.\n",
    "- Then run all cells -- in the menubar, select Cell → Run All.\n",
    "\n",
    "Make sure you fill in any place that says YOUR CODE HERE or \"YOUR ANSWER HERE.\""
   ]
  },
  {
   "cell_type": "markdown",
   "metadata": {
    "nbgrader": {
     "grade": false,
     "locked": true,
     "solution": false
    }
   },
   "source": [
    "# Air and Ground Travel Times\n",
    "\n",
    "In this problem, you analyze travel times between cities in the United States. You will use several datasets, including a subset of data from a [Kaggle dataset](https://www.kaggle.com/giovamata/airlinedelaycauses/data).\n",
    "\n",
    "The goals of this problem are to find the average flight time between two cities and to find the roundtrip time between two cities using ground travel."
   ]
  },
  {
   "cell_type": "markdown",
   "metadata": {
    "collapsed": true,
    "nbgrader": {
     "grade": false,
     "locked": true,
     "solution": false
    }
   },
   "source": [
    "The first set of code cells sets up the problem and loads the Kaggle dataset into a Pandas dataframe (`flighttimes`). The `flighttimes` table contains the flight departure and arrival times of over 1 million flights. There are four columns in the table: **DepTime**, which is the departure time of the flight (in Army time); **ArrTime**, which is the arrival time of the flight (in Army time); **Origin**, which is the three-letter airport code for the origin (or departure) airport; and **Dest**, which is the three-letter airport code for the destination airport.  "
   ]
  },
  {
   "cell_type": "code",
   "execution_count": 1,
   "metadata": {
    "nbgrader": {
     "grade": false,
     "locked": true,
     "solution": false
    },
    "scrolled": false
   },
   "outputs": [
    {
     "name": "stdout",
     "output_type": "stream",
     "text": [
      "'FlightInfo.csv' is ready!\n",
      "'airports.csv' is ready!\n",
      "'city_average_times_soln.csv' is ready!\n",
      "'city_ids.csv' is ready!\n",
      "'city_travel_times_soln.csv' is ready!\n",
      "'flight_times_soln.csv' is ready!\n",
      "'flights.csv' is ready!\n",
      "'ground_distances_cities.csv' is ready!\n",
      "Loading flighttimes dataset as DataFrame...\n",
      "flighttimes dataset successfully loaded as Pandas DataFrame!\n",
      "The First 5 Lines of the flighttimes Dataset: \n",
      "  DepTime ArrTime Origin Dest\n",
      "0   20:03   22:11    IAD  TPA\n",
      "1   07:54   10:02    IAD  TPA\n",
      "2   06:28   08:04    IND  BWI\n",
      "3   18:29   19:59    IND  BWI\n",
      "4   19:40   21:21    IND  JAX\n"
     ]
    }
   ],
   "source": [
    "# Load flighttimes dataset\n",
    "from cse6040utils import download_all, canonicalize_tibble, tibbles_are_equivalent\n",
    "import pandas as pd\n",
    "import numpy as np\n",
    "\n",
    "datasets = {'FlightInfo.csv': '64ac75c61dc09a3a7bb2a856a27f9584',\n",
    "            'airports.csv': '07349facc5ac5e73a34f084f1a261148',\n",
    "            'city_average_times_soln.csv': 'fccce0d257ba51d9518469e67963696b',\n",
    "            'city_ids.csv': 'b78508ea9768a41fc2bcfa3f10056a6d',\n",
    "            'city_travel_times_soln.csv': '104213b86e5082c22176d3b811cbf094',\n",
    "            'flight_times_soln.csv': '967dd2f4e66999c76889c6e159be0169',\n",
    "            'flights.csv': 'd9313f61c4689f20184bccb9e89afd6d',\n",
    "            'ground_distances_cities.csv': 'ac64e84c460ea41244d7b4f254311b1c'}\n",
    "datapaths = download_all(datasets, local_suffix='flight-paths/', url_suffix='flight-paths/')\n",
    "\n",
    "print('Loading flighttimes dataset as DataFrame...')\n",
    "# Data preprocessing on flighttimes dataset\n",
    "FlightInfo = pd.read_csv(datapaths['FlightInfo.csv'])\n",
    "d = FlightInfo['DepTime'].tolist()\n",
    "a = FlightInfo['ArrTime'].tolist()\n",
    "\n",
    "for i,j in enumerate(d):\n",
    "    if len(str(int(j))) == 3:\n",
    "        d[i] = '0{}:{}'.format(str(int(j))[0], str(int(j))[1:])\n",
    "    elif len(str(int(j))) == 4:\n",
    "        d[i] = '{}:{}'.format(str(int(j))[:2], str(int(j))[2:])\n",
    "    else:\n",
    "        d[i] = np.nan\n",
    "\n",
    "for i,j in enumerate(a):\n",
    "    if len(str(int(j))) == 3:\n",
    "        a[i] = '0{}:{}'.format(str(int(j))[0], str(int(j))[1:])\n",
    "    elif len(str(int(j))) == 4:\n",
    "        a[i] = '{}:{}'.format(str(int(j))[:2], str(int(j))[2:])\n",
    "    else:\n",
    "        a[i] = np.nan\n",
    "        \n",
    "FlightInfo['DepTime'] = d\n",
    "FlightInfo['ArrTime'] = a\n",
    "\n",
    "flighttimes = FlightInfo.dropna()\n",
    "\n",
    "print('flighttimes dataset successfully loaded as Pandas DataFrame!')\n",
    "print('The First 5 Lines of the flighttimes Dataset: ')\n",
    "print(flighttimes.head())"
   ]
  },
  {
   "cell_type": "markdown",
   "metadata": {
    "nbgrader": {
     "grade": false,
     "locked": true,
     "solution": false
    }
   },
   "source": [
    "To find the average time between unique flights, we must first compute the time between each of the flights in the data. \n",
    "\n",
    "**Exercise 0** (2 points). Create a dataframe, `flight_times`, that includes the time in minutes between the `ArrTime` and `DepTime` of each flight in the `flighttimes` dataset. The final result should have three columns:\n",
    "\n",
    "* **`'Origin'`**: the origin airport three-letter code;\n",
    "* **`'Dest'`**: the destination airport three-letter code; and\n",
    "* **`'Time'`**: the time between `ArrTime` and `DepTime` in minutes. \n",
    "\n",
    "Note that some of the **Time** values may be negative, or even zero. In such cases, the most likely explanation is a \"wraparound\" effect, where `ArrTime` appears to occur before `DepTime`. **For simplicity, any such negative (or even any zero) values should be removed from the final dataFrame.**"
   ]
  },
  {
   "cell_type": "code",
   "execution_count": 2,
   "metadata": {
    "scrolled": true
   },
   "outputs": [
    {
     "name": "stdout",
     "output_type": "stream",
     "text": [
      "<class 'pandas.core.frame.DataFrame'>\n",
      "Int64Index: 1007071 entries, 0 to 1048574\n",
      "Data columns (total 4 columns):\n",
      "DepTime    1007071 non-null object\n",
      "ArrTime    1007071 non-null object\n",
      "Origin     1007071 non-null object\n",
      "Dest       1007071 non-null object\n",
      "dtypes: object(4)\n",
      "memory usage: 38.4+ MB\n"
     ]
    }
   ],
   "source": [
    "flighttimes.info()"
   ]
  },
  {
   "cell_type": "code",
   "execution_count": 3,
   "metadata": {
    "collapsed": true
   },
   "outputs": [],
   "source": [
    "from datetime import datetime, time \n",
    "from dateutil import parser"
   ]
  },
  {
   "cell_type": "code",
   "execution_count": 4,
   "metadata": {
    "scrolled": true
   },
   "outputs": [
    {
     "data": {
      "text/plain": [
       "(1006568, 4)"
      ]
     },
     "execution_count": 4,
     "metadata": {},
     "output_type": "execute_result"
    }
   ],
   "source": [
    "flighttimes[flighttimes['ArrTime'] != flighttimes['DepTime']].shape"
   ]
  },
  {
   "cell_type": "code",
   "execution_count": 5,
   "metadata": {},
   "outputs": [
    {
     "data": {
      "text/plain": [
       "(981478, 4)"
      ]
     },
     "execution_count": 5,
     "metadata": {},
     "output_type": "execute_result"
    }
   ],
   "source": [
    "flighttimes[flighttimes['ArrTime'] > flighttimes['DepTime']].shape"
   ]
  },
  {
   "cell_type": "code",
   "execution_count": 6,
   "metadata": {},
   "outputs": [
    {
     "data": {
      "text/html": [
       "<div>\n",
       "<style scoped>\n",
       "    .dataframe tbody tr th:only-of-type {\n",
       "        vertical-align: middle;\n",
       "    }\n",
       "\n",
       "    .dataframe tbody tr th {\n",
       "        vertical-align: top;\n",
       "    }\n",
       "\n",
       "    .dataframe thead th {\n",
       "        text-align: right;\n",
       "    }\n",
       "</style>\n",
       "<table border=\"1\" class=\"dataframe\">\n",
       "  <thead>\n",
       "    <tr style=\"text-align: right;\">\n",
       "      <th></th>\n",
       "      <th>DepTime</th>\n",
       "      <th>ArrTime</th>\n",
       "      <th>Origin</th>\n",
       "      <th>Dest</th>\n",
       "    </tr>\n",
       "  </thead>\n",
       "  <tbody>\n",
       "    <tr>\n",
       "      <th>0</th>\n",
       "      <td>20:03</td>\n",
       "      <td>22:11</td>\n",
       "      <td>IAD</td>\n",
       "      <td>TPA</td>\n",
       "    </tr>\n",
       "    <tr>\n",
       "      <th>1</th>\n",
       "      <td>07:54</td>\n",
       "      <td>10:02</td>\n",
       "      <td>IAD</td>\n",
       "      <td>TPA</td>\n",
       "    </tr>\n",
       "    <tr>\n",
       "      <th>2</th>\n",
       "      <td>06:28</td>\n",
       "      <td>08:04</td>\n",
       "      <td>IND</td>\n",
       "      <td>BWI</td>\n",
       "    </tr>\n",
       "    <tr>\n",
       "      <th>3</th>\n",
       "      <td>18:29</td>\n",
       "      <td>19:59</td>\n",
       "      <td>IND</td>\n",
       "      <td>BWI</td>\n",
       "    </tr>\n",
       "    <tr>\n",
       "      <th>4</th>\n",
       "      <td>19:40</td>\n",
       "      <td>21:21</td>\n",
       "      <td>IND</td>\n",
       "      <td>JAX</td>\n",
       "    </tr>\n",
       "  </tbody>\n",
       "</table>\n",
       "</div>"
      ],
      "text/plain": [
       "  DepTime ArrTime Origin Dest\n",
       "0   20:03   22:11    IAD  TPA\n",
       "1   07:54   10:02    IAD  TPA\n",
       "2   06:28   08:04    IND  BWI\n",
       "3   18:29   19:59    IND  BWI\n",
       "4   19:40   21:21    IND  JAX"
      ]
     },
     "metadata": {},
     "output_type": "display_data"
    }
   ],
   "source": [
    "#\n",
    "flight_times = flighttimes[flighttimes['ArrTime'] > flighttimes['DepTime']]\n",
    "flight_times = flight_times[~(flight_times['ArrTime'] == flight_times['DepTime'])]\n",
    "flight_times.reset_index(drop=True, inplace=True)\n",
    "display(flight_times.head())\n",
    "#"
   ]
  },
  {
   "cell_type": "code",
   "execution_count": 7,
   "metadata": {
    "collapsed": true
   },
   "outputs": [],
   "source": [
    "flight_times['DepHr'] = [int(time.split(':')[0]) for time in flight_times['DepTime']]\n",
    "flight_times['DepMin'] =[int(time.split(':')[1]) for time in flight_times['DepTime']]\n",
    "\n",
    "flight_times['ArrHr'] = [int(time.split(':')[0]) for time in flight_times['ArrTime']]\n",
    "flight_times['ArrMin'] =[int(time.split(':')[1]) for time in flight_times['ArrTime']]\n",
    "\n",
    "flight_times['DepHr(inMin)'] = [hr * 60 for hr in flight_times['DepHr']]\n",
    "flight_times['ArrHr(inMin)'] = [hr * 60 for hr in flight_times['ArrHr']]\n",
    "\n",
    "flight_times['Time'] = (flight_times['ArrHr(inMin)'] + flight_times['ArrMin']) - (flight_times['DepHr(inMin)'] + flight_times['DepMin'])\n",
    "\n",
    "flight_times = flight_times[['Origin', 'Dest', 'Time']]"
   ]
  },
  {
   "cell_type": "code",
   "execution_count": 8,
   "metadata": {
    "nbgrader": {
     "grade": true,
     "grade_id": "flight_times",
     "locked": true,
     "points": "2",
     "solution": false
    }
   },
   "outputs": [
    {
     "name": "stdout",
     "output_type": "stream",
     "text": [
      "===== First 5 Lines of Your Solution =====\n",
      "  Origin Dest  Time\n",
      "0    IAD  TPA   128\n",
      "1    IAD  TPA   128\n",
      "2    IND  BWI    96\n",
      "3    IND  BWI    90\n",
      "4    IND  JAX   101\n",
      "\n",
      "\n",
      "===== First 5 Lines of Instructor Solution =====\n",
      "  Origin Dest  Time\n",
      "0    IAD  TPA   128\n",
      "1    IAD  TPA   128\n",
      "2    IND  BWI    96\n",
      "3    IND  BWI    90\n",
      "4    IND  JAX   101\n",
      "\n",
      " Checking if DataFrames Match...\n",
      "\n",
      "(Passed!)\n"
     ]
    }
   ],
   "source": [
    "## TEST CODE EXERCISE 0 - flight_times\n",
    "\n",
    "flight_times_soln = pd.read_csv(datapaths['flight_times_soln.csv'])\n",
    "\n",
    "print('===== First 5 Lines of Your Solution =====')\n",
    "print(flight_times.head())\n",
    "\n",
    "print('\\n')\n",
    "print('===== First 5 Lines of Instructor Solution =====')\n",
    "print(flight_times_soln.head())\n",
    "\n",
    "print('\\n Checking if DataFrames Match...')\n",
    "assert tibbles_are_equivalent(flight_times, flight_times_soln) == True, print('\\n DataFrames do not match')\n",
    "print(\"\\n(Passed!)\")"
   ]
  },
  {
   "cell_type": "markdown",
   "metadata": {
    "nbgrader": {
     "grade": false,
     "locked": true,
     "solution": false
    }
   },
   "source": [
    "For the next part of this problem, we will load in a dataset containing the city names corresponding to each of the airports."
   ]
  },
  {
   "cell_type": "code",
   "execution_count": 9,
   "metadata": {
    "nbgrader": {
     "grade": false,
     "locked": true,
     "solution": false
    }
   },
   "outputs": [
    {
     "name": "stdout",
     "output_type": "stream",
     "text": [
      "  Code                                 Name         City State\n",
      "0  ABE  Lehigh Valley International Airport    Allentown    PA\n",
      "1  ABI             Abilene Regional Airport      Abilene    TX\n",
      "2  ABQ    Albuquerque International Sunport  Albuquerque    NM\n",
      "3  ABR            Aberdeen Regional Airport     Aberdeen    SD\n",
      "4  ABY   Southwest Georgia Regional Airport       Albany    GA\n"
     ]
    }
   ],
   "source": [
    "# Load airports dataset into Pandas DataFrame\n",
    "airports = pd.read_csv(datapaths['airports.csv'])\n",
    "print(airports.head())"
   ]
  },
  {
   "cell_type": "markdown",
   "metadata": {
    "nbgrader": {
     "grade": false,
     "locked": true,
     "solution": false
    }
   },
   "source": [
    "**Exercise 1** (2 points). Replace the airport codes from execise 0 with their city and state using the airports dataset. Store the result in a DataFrame named `city_travel_times`. The final result should have three columns:\n",
    "\n",
    "* **`'origin_city'`**: the origin city of the flight, in the form \"City, State\";\n",
    "* **`'destination_city'`**: the destination city of the flight, in the form \"City, State\";\n",
    "* and **`'Time'`**: same column and values as the previous exercise, i.e., the time between `'ArrTime'` and `'DepTime'` in minutes.\n",
    "\n",
    "This final dataframe should only have the rows in which the origin and destination are present in your `flight_times` dataframe as well as the `airports` dataframe.\n",
    "\n",
    "Note that some airports have the same city and state. For the purposes of this problem, you do NOT have to differentiate between those airports. For example, `IAD` and `DCA` will both have the same `origin_city`, `\"Washington, DC\"`. "
   ]
  },
  {
   "cell_type": "code",
   "execution_count": 10,
   "metadata": {
    "scrolled": true
   },
   "outputs": [
    {
     "data": {
      "text/html": [
       "<div>\n",
       "<style scoped>\n",
       "    .dataframe tbody tr th:only-of-type {\n",
       "        vertical-align: middle;\n",
       "    }\n",
       "\n",
       "    .dataframe tbody tr th {\n",
       "        vertical-align: top;\n",
       "    }\n",
       "\n",
       "    .dataframe thead th {\n",
       "        text-align: right;\n",
       "    }\n",
       "</style>\n",
       "<table border=\"1\" class=\"dataframe\">\n",
       "  <thead>\n",
       "    <tr style=\"text-align: right;\">\n",
       "      <th></th>\n",
       "      <th>Origin</th>\n",
       "      <th>Dest</th>\n",
       "      <th>Time</th>\n",
       "    </tr>\n",
       "  </thead>\n",
       "  <tbody>\n",
       "    <tr>\n",
       "      <th>0</th>\n",
       "      <td>IAD</td>\n",
       "      <td>TPA</td>\n",
       "      <td>128</td>\n",
       "    </tr>\n",
       "    <tr>\n",
       "      <th>1</th>\n",
       "      <td>IAD</td>\n",
       "      <td>TPA</td>\n",
       "      <td>128</td>\n",
       "    </tr>\n",
       "    <tr>\n",
       "      <th>2</th>\n",
       "      <td>IND</td>\n",
       "      <td>BWI</td>\n",
       "      <td>96</td>\n",
       "    </tr>\n",
       "    <tr>\n",
       "      <th>3</th>\n",
       "      <td>IND</td>\n",
       "      <td>BWI</td>\n",
       "      <td>90</td>\n",
       "    </tr>\n",
       "    <tr>\n",
       "      <th>4</th>\n",
       "      <td>IND</td>\n",
       "      <td>JAX</td>\n",
       "      <td>101</td>\n",
       "    </tr>\n",
       "  </tbody>\n",
       "</table>\n",
       "</div>"
      ],
      "text/plain": [
       "  Origin Dest  Time\n",
       "0    IAD  TPA   128\n",
       "1    IAD  TPA   128\n",
       "2    IND  BWI    96\n",
       "3    IND  BWI    90\n",
       "4    IND  JAX   101"
      ]
     },
     "metadata": {},
     "output_type": "display_data"
    },
    {
     "data": {
      "text/plain": [
       "296"
      ]
     },
     "metadata": {},
     "output_type": "display_data"
    },
    {
     "data": {
      "text/plain": [
       "296"
      ]
     },
     "metadata": {},
     "output_type": "display_data"
    }
   ],
   "source": [
    "display(flight_times.head())\n",
    "display(flight_times.Origin.nunique())\n",
    "display(flight_times.Dest.nunique())"
   ]
  },
  {
   "cell_type": "code",
   "execution_count": 11,
   "metadata": {},
   "outputs": [
    {
     "data": {
      "text/html": [
       "<div>\n",
       "<style scoped>\n",
       "    .dataframe tbody tr th:only-of-type {\n",
       "        vertical-align: middle;\n",
       "    }\n",
       "\n",
       "    .dataframe tbody tr th {\n",
       "        vertical-align: top;\n",
       "    }\n",
       "\n",
       "    .dataframe thead th {\n",
       "        text-align: right;\n",
       "    }\n",
       "</style>\n",
       "<table border=\"1\" class=\"dataframe\">\n",
       "  <thead>\n",
       "    <tr style=\"text-align: right;\">\n",
       "      <th></th>\n",
       "      <th>Code</th>\n",
       "      <th>Name</th>\n",
       "      <th>City</th>\n",
       "      <th>State</th>\n",
       "    </tr>\n",
       "  </thead>\n",
       "  <tbody>\n",
       "    <tr>\n",
       "      <th>0</th>\n",
       "      <td>ABE</td>\n",
       "      <td>Lehigh Valley International Airport</td>\n",
       "      <td>Allentown</td>\n",
       "      <td>PA</td>\n",
       "    </tr>\n",
       "    <tr>\n",
       "      <th>1</th>\n",
       "      <td>ABI</td>\n",
       "      <td>Abilene Regional Airport</td>\n",
       "      <td>Abilene</td>\n",
       "      <td>TX</td>\n",
       "    </tr>\n",
       "    <tr>\n",
       "      <th>2</th>\n",
       "      <td>ABQ</td>\n",
       "      <td>Albuquerque International Sunport</td>\n",
       "      <td>Albuquerque</td>\n",
       "      <td>NM</td>\n",
       "    </tr>\n",
       "    <tr>\n",
       "      <th>3</th>\n",
       "      <td>ABR</td>\n",
       "      <td>Aberdeen Regional Airport</td>\n",
       "      <td>Aberdeen</td>\n",
       "      <td>SD</td>\n",
       "    </tr>\n",
       "    <tr>\n",
       "      <th>4</th>\n",
       "      <td>ABY</td>\n",
       "      <td>Southwest Georgia Regional Airport</td>\n",
       "      <td>Albany</td>\n",
       "      <td>GA</td>\n",
       "    </tr>\n",
       "  </tbody>\n",
       "</table>\n",
       "</div>"
      ],
      "text/plain": [
       "  Code                                 Name         City State\n",
       "0  ABE  Lehigh Valley International Airport    Allentown    PA\n",
       "1  ABI             Abilene Regional Airport      Abilene    TX\n",
       "2  ABQ    Albuquerque International Sunport  Albuquerque    NM\n",
       "3  ABR            Aberdeen Regional Airport     Aberdeen    SD\n",
       "4  ABY   Southwest Georgia Regional Airport       Albany    GA"
      ]
     },
     "metadata": {},
     "output_type": "display_data"
    },
    {
     "data": {
      "text/plain": [
       "712"
      ]
     },
     "metadata": {},
     "output_type": "display_data"
    }
   ],
   "source": [
    "display(airports.head())\n",
    "display(airports.Code.nunique())"
   ]
  },
  {
   "cell_type": "code",
   "execution_count": 12,
   "metadata": {
    "nbgrader": {
     "grade": false,
     "grade_id": "city_travel_times",
     "locked": false,
     "solution": true
    }
   },
   "outputs": [
    {
     "data": {
      "text/html": [
       "<div>\n",
       "<style scoped>\n",
       "    .dataframe tbody tr th:only-of-type {\n",
       "        vertical-align: middle;\n",
       "    }\n",
       "\n",
       "    .dataframe tbody tr th {\n",
       "        vertical-align: top;\n",
       "    }\n",
       "\n",
       "    .dataframe thead th {\n",
       "        text-align: right;\n",
       "    }\n",
       "</style>\n",
       "<table border=\"1\" class=\"dataframe\">\n",
       "  <thead>\n",
       "    <tr style=\"text-align: right;\">\n",
       "      <th></th>\n",
       "      <th>Origin</th>\n",
       "      <th>Dest</th>\n",
       "      <th>Time</th>\n",
       "      <th>origin_city</th>\n",
       "      <th>destination_city</th>\n",
       "    </tr>\n",
       "  </thead>\n",
       "  <tbody>\n",
       "    <tr>\n",
       "      <th>0</th>\n",
       "      <td>IAD</td>\n",
       "      <td>TPA</td>\n",
       "      <td>128</td>\n",
       "      <td>Washington, DC</td>\n",
       "      <td>Tampa, FL</td>\n",
       "    </tr>\n",
       "    <tr>\n",
       "      <th>1</th>\n",
       "      <td>IAD</td>\n",
       "      <td>TPA</td>\n",
       "      <td>128</td>\n",
       "      <td>Washington, DC</td>\n",
       "      <td>Tampa, FL</td>\n",
       "    </tr>\n",
       "    <tr>\n",
       "      <th>2</th>\n",
       "      <td>IND</td>\n",
       "      <td>BWI</td>\n",
       "      <td>96</td>\n",
       "      <td>Indianapolis, IN</td>\n",
       "      <td>BWI Airport, MD</td>\n",
       "    </tr>\n",
       "    <tr>\n",
       "      <th>3</th>\n",
       "      <td>IND</td>\n",
       "      <td>BWI</td>\n",
       "      <td>90</td>\n",
       "      <td>Indianapolis, IN</td>\n",
       "      <td>BWI Airport, MD</td>\n",
       "    </tr>\n",
       "    <tr>\n",
       "      <th>4</th>\n",
       "      <td>IND</td>\n",
       "      <td>JAX</td>\n",
       "      <td>101</td>\n",
       "      <td>Indianapolis, IN</td>\n",
       "      <td>Jacksonville, FL</td>\n",
       "    </tr>\n",
       "  </tbody>\n",
       "</table>\n",
       "</div>"
      ],
      "text/plain": [
       "  Origin Dest  Time       origin_city  destination_city\n",
       "0    IAD  TPA   128    Washington, DC         Tampa, FL\n",
       "1    IAD  TPA   128    Washington, DC         Tampa, FL\n",
       "2    IND  BWI    96  Indianapolis, IN   BWI Airport, MD\n",
       "3    IND  BWI    90  Indianapolis, IN   BWI Airport, MD\n",
       "4    IND  JAX   101  Indianapolis, IN  Jacksonville, FL"
      ]
     },
     "metadata": {},
     "output_type": "display_data"
    },
    {
     "data": {
      "text/plain": [
       "(981478, 5)"
      ]
     },
     "metadata": {},
     "output_type": "display_data"
    }
   ],
   "source": [
    "# Create a dictionary for city, state corresponding to airport codes\n",
    "from collections import defaultdict\n",
    "\n",
    "airport_city_by_code = defaultdict(str)\n",
    "\n",
    "for i in range(len(airports)):\n",
    "    code = airports.loc[i, 'Code']\n",
    "    airport_city_by_code[code] = airports.loc[i, 'City'] + ', ' + airports.loc[i, 'State']\n",
    "    \n",
    "assert len(airport_city_by_code) == len(airports['Code'].unique().tolist())\n",
    "\n",
    "\n",
    "# Create the city_travel_times dataframe\n",
    "city_travel_times = flight_times.copy()\n",
    "city_travel_times.drop_duplicates(subset=(['Origin', 'Dest']))\n",
    "\n",
    "origin_city = []\n",
    "destination_city = []\n",
    "for i in range(len(city_travel_times)):\n",
    "    orig = city_travel_times.loc[i, 'Origin']\n",
    "    dest = city_travel_times.loc[i, 'Dest']\n",
    "    \n",
    "    origin_city.append(airport_city_by_code[orig])\n",
    "    destination_city.append(airport_city_by_code[dest])\n",
    "    \n",
    "city_travel_times['origin_city'] = origin_city\n",
    "city_travel_times['destination_city'] = destination_city\n",
    "# city_travel_times.drop(['Origin', 'Dest'], axis=1, inplace=True)\n",
    "\n",
    "display(city_travel_times.head())\n",
    "display(city_travel_times.shape)"
   ]
  },
  {
   "cell_type": "code",
   "execution_count": 13,
   "metadata": {
    "collapsed": true,
    "scrolled": true
   },
   "outputs": [],
   "source": [
    "# Final dataframe should only have the rows in which the origin and destination \n",
    "# are present in your flight_times dataframe as well as the airports dataframe.\n",
    "\n",
    "flight_times_dests = flight_times['Dest'].unique().tolist()\n",
    "flight_times_origins = flight_times['Origin'].unique().tolist()\n",
    "\n",
    "city_travel_times = city_travel_times[city_travel_times['Origin'].isin(flight_times_dests)]\n",
    "city_travel_times = city_travel_times[city_travel_times['Dest'].isin(flight_times_origins)]\n",
    "\n",
    "\n",
    "airport_codes = airports['Code'].unique().tolist()\n",
    "\n",
    "city_travel_times = city_travel_times[city_travel_times['Origin'].isin(airport_codes)]\n",
    "city_travel_times = city_travel_times[city_travel_times['Dest'].isin(airport_codes)]\n",
    "city_travel_times.drop(['Origin', 'Dest'], axis=1, inplace=True)\n"
   ]
  },
  {
   "cell_type": "code",
   "execution_count": 14,
   "metadata": {
    "nbgrader": {
     "grade": true,
     "grade_id": "city_travel_times_soln",
     "locked": true,
     "points": "2",
     "solution": false
    }
   },
   "outputs": [
    {
     "name": "stdout",
     "output_type": "stream",
     "text": [
      "===== First 5 Lines of Your Solution =====\n",
      "   Time       origin_city  destination_city\n",
      "0   128    Washington, DC         Tampa, FL\n",
      "1   128    Washington, DC         Tampa, FL\n",
      "2    96  Indianapolis, IN   BWI Airport, MD\n",
      "3    90  Indianapolis, IN   BWI Airport, MD\n",
      "4   101  Indianapolis, IN  Jacksonville, FL\n",
      "\n",
      "\n",
      "====== First 5 Lines of Instructor Solution =====\n",
      "      origin_city destination_city  Time\n",
      "0  Washington, DC        Tampa, FL   128\n",
      "1  Washington, DC        Tampa, FL   128\n",
      "2  Washington, DC        Tampa, FL   126\n",
      "3  Washington, DC        Tampa, FL   137\n",
      "4  Washington, DC        Tampa, FL   133\n",
      "\n",
      " Checking if DataFrames Match...\n",
      "\n",
      "(Passed!)\n"
     ]
    }
   ],
   "source": [
    "## TEST CODE EXERCISE 1 - city_travel_times\n",
    "city_travel_times_soln = pd.read_csv(datapaths['city_travel_times_soln.csv'])\n",
    "\n",
    "print('===== First 5 Lines of Your Solution =====')\n",
    "print(city_travel_times.head())\n",
    "\n",
    "print('\\n')\n",
    "print('====== First 5 Lines of Instructor Solution =====')\n",
    "print(city_travel_times_soln.head())\n",
    "\n",
    "print('\\n Checking if DataFrames Match...')\n",
    "assert tibbles_are_equivalent(city_travel_times, city_travel_times_soln) == True, print(\"\\n DataFrames do not match\")\n",
    "print(\"\\n(Passed!)\")"
   ]
  },
  {
   "cell_type": "markdown",
   "metadata": {
    "nbgrader": {
     "grade": false,
     "locked": true,
     "solution": false
    }
   },
   "source": [
    "Finally, we will get the average flight time for each unique city to city flight.\n",
    "\n",
    "**Exercise 2** (2 points). Create a new DataFrame, `city_average_times`, which lists the average flight time of each unique city to city flight in the `flighttimes` dataset. The final result should be a DataFrame with three columns:  **origin_city**: the origin city of the flight, in the form \"City, State\" ; **destination_city**: the destination city of the flight, in the form \"City, State\" ; and **average_time**: the average flight time between the origin and destination city. Round the results to the nearest two decimal places."
   ]
  },
  {
   "cell_type": "code",
   "execution_count": 15,
   "metadata": {},
   "outputs": [
    {
     "data": {
      "text/html": [
       "<div>\n",
       "<style scoped>\n",
       "    .dataframe tbody tr th:only-of-type {\n",
       "        vertical-align: middle;\n",
       "    }\n",
       "\n",
       "    .dataframe tbody tr th {\n",
       "        vertical-align: top;\n",
       "    }\n",
       "\n",
       "    .dataframe thead th {\n",
       "        text-align: right;\n",
       "    }\n",
       "</style>\n",
       "<table border=\"1\" class=\"dataframe\">\n",
       "  <thead>\n",
       "    <tr style=\"text-align: right;\">\n",
       "      <th></th>\n",
       "      <th>Time</th>\n",
       "      <th>origin_city</th>\n",
       "      <th>destination_city</th>\n",
       "    </tr>\n",
       "  </thead>\n",
       "  <tbody>\n",
       "    <tr>\n",
       "      <th>0</th>\n",
       "      <td>128</td>\n",
       "      <td>Washington, DC</td>\n",
       "      <td>Tampa, FL</td>\n",
       "    </tr>\n",
       "    <tr>\n",
       "      <th>1</th>\n",
       "      <td>128</td>\n",
       "      <td>Washington, DC</td>\n",
       "      <td>Tampa, FL</td>\n",
       "    </tr>\n",
       "    <tr>\n",
       "      <th>2</th>\n",
       "      <td>96</td>\n",
       "      <td>Indianapolis, IN</td>\n",
       "      <td>BWI Airport, MD</td>\n",
       "    </tr>\n",
       "  </tbody>\n",
       "</table>\n",
       "</div>"
      ],
      "text/plain": [
       "   Time       origin_city destination_city\n",
       "0   128    Washington, DC        Tampa, FL\n",
       "1   128    Washington, DC        Tampa, FL\n",
       "2    96  Indianapolis, IN  BWI Airport, MD"
      ]
     },
     "execution_count": 15,
     "metadata": {},
     "output_type": "execute_result"
    }
   ],
   "source": [
    "city_travel_times.head(3)"
   ]
  },
  {
   "cell_type": "code",
   "execution_count": 16,
   "metadata": {
    "nbgrader": {
     "grade": false,
     "grade_id": "city_average_times_response",
     "locked": false,
     "solution": true
    }
   },
   "outputs": [
    {
     "data": {
      "text/html": [
       "<div>\n",
       "<style scoped>\n",
       "    .dataframe tbody tr th:only-of-type {\n",
       "        vertical-align: middle;\n",
       "    }\n",
       "\n",
       "    .dataframe tbody tr th {\n",
       "        vertical-align: top;\n",
       "    }\n",
       "\n",
       "    .dataframe thead th {\n",
       "        text-align: right;\n",
       "    }\n",
       "</style>\n",
       "<table border=\"1\" class=\"dataframe\">\n",
       "  <thead>\n",
       "    <tr style=\"text-align: right;\">\n",
       "      <th></th>\n",
       "      <th>origin_city</th>\n",
       "      <th>destination_city</th>\n",
       "      <th>average_time</th>\n",
       "    </tr>\n",
       "  </thead>\n",
       "  <tbody>\n",
       "    <tr>\n",
       "      <th>0</th>\n",
       "      <td>Abilene, TX</td>\n",
       "      <td>Dallas, TX</td>\n",
       "      <td>59.844340</td>\n",
       "    </tr>\n",
       "    <tr>\n",
       "      <th>1</th>\n",
       "      <td>Adak Island, AK</td>\n",
       "      <td>Anchorage, AK</td>\n",
       "      <td>220.043478</td>\n",
       "    </tr>\n",
       "    <tr>\n",
       "      <th>2</th>\n",
       "      <td>Aguadilla, PR</td>\n",
       "      <td>New York, NY</td>\n",
       "      <td>200.634146</td>\n",
       "    </tr>\n",
       "    <tr>\n",
       "      <th>3</th>\n",
       "      <td>Aguadilla, PR</td>\n",
       "      <td>Newark, NJ</td>\n",
       "      <td>220.542857</td>\n",
       "    </tr>\n",
       "    <tr>\n",
       "      <th>4</th>\n",
       "      <td>Aguadilla, PR</td>\n",
       "      <td>Orlando, FL</td>\n",
       "      <td>143.209302</td>\n",
       "    </tr>\n",
       "  </tbody>\n",
       "</table>\n",
       "</div>"
      ],
      "text/plain": [
       "       origin_city destination_city  average_time\n",
       "0      Abilene, TX       Dallas, TX     59.844340\n",
       "1  Adak Island, AK    Anchorage, AK    220.043478\n",
       "2    Aguadilla, PR     New York, NY    200.634146\n",
       "3    Aguadilla, PR       Newark, NJ    220.542857\n",
       "4    Aguadilla, PR      Orlando, FL    143.209302"
      ]
     },
     "execution_count": 16,
     "metadata": {},
     "output_type": "execute_result"
    }
   ],
   "source": [
    "#\n",
    "city_average_times = city_travel_times.groupby(['origin_city', 'destination_city']).mean()\n",
    "city_average_times.rename(columns={'Time':'average_time'},\n",
    "                          inplace=True)\n",
    "city_average_times.reset_index(inplace=True)\n",
    "city_average_times.head()\n",
    "#\n"
   ]
  },
  {
   "cell_type": "code",
   "execution_count": 17,
   "metadata": {
    "nbgrader": {
     "grade": true,
     "grade_id": "city_average_times",
     "locked": true,
     "points": "2",
     "solution": false
    }
   },
   "outputs": [
    {
     "name": "stdout",
     "output_type": "stream",
     "text": [
      "===== First 5 Lines of Your Solution =====\n",
      "       origin_city destination_city  average_time\n",
      "0      Abilene, TX       Dallas, TX     59.844340\n",
      "1  Adak Island, AK    Anchorage, AK    220.043478\n",
      "2    Aguadilla, PR     New York, NY    200.634146\n",
      "3    Aguadilla, PR       Newark, NJ    220.542857\n",
      "4    Aguadilla, PR      Orlando, FL    143.209302\n",
      "\n",
      "\n",
      "====== First 5 Lines of Instructor Solution =====\n",
      "       origin_city destination_city  average_time\n",
      "0      Abilene, TX       Dallas, TX         59.84\n",
      "1  Adak Island, AK    Anchorage, AK        220.04\n",
      "2    Aguadilla, PR     New York, NY        200.63\n",
      "3    Aguadilla, PR       Newark, NJ        220.54\n",
      "4    Aguadilla, PR      Orlando, FL        143.21\n",
      "\n",
      " Checking if DataFrames Match...\n",
      "\n",
      "(Passed!)\n"
     ]
    }
   ],
   "source": [
    "## TEST CODE EXERCISE 2 - city_average_times\n",
    "city_average_times_soln = pd.read_csv(datapaths['city_average_times_soln.csv'])\n",
    "\n",
    "print('===== First 5 Lines of Your Solution =====')\n",
    "print(city_average_times.head())\n",
    "\n",
    "print('\\n')\n",
    "print('====== First 5 Lines of Instructor Solution =====')\n",
    "print(city_average_times_soln.head())\n",
    "\n",
    "print('\\n Checking if DataFrames Match...')\n",
    "assert city_average_times.shape == city_average_times_soln.shape, print(\"Dimensions of your solution do not match the instructor's solution\")\n",
    "soln = pd.merge(city_average_times, city_average_times_soln, how=\"right\", on=[\"origin_city\", \"destination_city\"])\n",
    "soln_time = soln[\"average_time_y\"] - soln[\"average_time_x\"]\n",
    "tolerance = 1\n",
    "assert max(abs(soln_time)) <=tolerance, print(\"Your average time is beyond the tolerances provided\")\n",
    "print(\"\\n(Passed!)\")"
   ]
  },
  {
   "cell_type": "markdown",
   "metadata": {
    "nbgrader": {
     "grade": false,
     "locked": true,
     "solution": false
    }
   },
   "source": [
    "Next, let's look at ground travel times. In the test cell below, we generate a DataFrame, `ground_distances_cities`, that shows the average travel times (in hours) from one city to another if you did not take a plane. Note that the travel time from `A -> B` may not be the same as the travel time from `B -> A` because of traffic/waiting for trains/etc. \n",
    "\n",
    "(Also note: these are not true ground travel times. They are made up based on the distances between cities in terms of latitude/longitude. If you use these times to plan your next road trip, you may be in for a rude surprise!)"
   ]
  },
  {
   "cell_type": "code",
   "execution_count": 18,
   "metadata": {
    "nbgrader": {
     "grade": false,
     "locked": true,
     "solution": false
    }
   },
   "outputs": [
    {
     "name": "stdout",
     "output_type": "stream",
     "text": [
      "  Starting_City      Ending_City  Average_Travel_Time\n",
      "0   Abilene, TX  Adak Island, AK                80.39\n",
      "1   Abilene, TX    Aguadilla, PR                43.40\n",
      "2   Abilene, TX       Albany, GA                19.51\n",
      "3   Abilene, TX       Albany, NY                29.87\n",
      "4   Abilene, TX  Albuquerque, NM                12.41\n"
     ]
    }
   ],
   "source": [
    "ground_distances_cities = pd.read_csv(datapaths['ground_distances_cities.csv'])\n",
    "ground_distances_cities[\"Average_Travel_Time\"] = ground_distances_cities[\"Average_Travel_Time\"].round(2)\n",
    "print(ground_distances_cities.head())"
   ]
  },
  {
   "cell_type": "markdown",
   "metadata": {
    "nbgrader": {
     "grade": false,
     "locked": true,
     "solution": false
    }
   },
   "source": [
    "Next, we will assign each city a unique id and make a new DataFrame that shows the starting and ending cities in terms of their ids:"
   ]
  },
  {
   "cell_type": "code",
   "execution_count": 19,
   "metadata": {
    "nbgrader": {
     "grade": false,
     "locked": true,
     "solution": false
    },
    "scrolled": true
   },
   "outputs": [
    {
     "name": "stdout",
     "output_type": "stream",
     "text": [
      "The First 5 Lines of the city_ids Dataset: \n",
      "                 id\n",
      "City               \n",
      "Abilene, TX       0\n",
      "Adak Island, AK   1\n",
      "Aguadilla, PR     2\n",
      "Albany, GA        3\n",
      "Albany, NY        4\n"
     ]
    }
   ],
   "source": [
    "# Read city ids\n",
    "city_ids = pd.read_csv(datapaths['city_ids.csv'], index_col=\"City\")\n",
    "city_codes_dict = city_ids.to_dict()[\"id\"]\n",
    "print('The First 5 Lines of the city_ids Dataset: ')\n",
    "print(city_ids.head())"
   ]
  },
  {
   "cell_type": "code",
   "execution_count": 20,
   "metadata": {},
   "outputs": [
    {
     "data": {
      "text/plain": [
       "(293, 1)"
      ]
     },
     "execution_count": 20,
     "metadata": {},
     "output_type": "execute_result"
    }
   ],
   "source": [
    "city_ids.shape"
   ]
  },
  {
   "cell_type": "markdown",
   "metadata": {
    "nbgrader": {
     "grade": false,
     "locked": true,
     "solution": false
    }
   },
   "source": [
    "The name of the new DataFrame being generated is `gnd_travel_ids`. The first five lines of the DataFrame can be seen by running the code cell below:"
   ]
  },
  {
   "cell_type": "code",
   "execution_count": 21,
   "metadata": {
    "nbgrader": {
     "grade": false,
     "locked": true,
     "solution": false
    }
   },
   "outputs": [
    {
     "name": "stdout",
     "output_type": "stream",
     "text": [
      "The First 5 Lines of gnd_travel_ids: \n",
      "   Starting_City  Ending_City  Average_Travel_Time\n",
      "0              0            1                80.39\n",
      "1              0            2                43.40\n",
      "2              0            3                19.51\n",
      "3              0            4                29.87\n",
      "4              0            5                12.41\n"
     ]
    }
   ],
   "source": [
    "# Generate gnd_travel_ids DataFrame\n",
    "\n",
    "gnd_travel_ids = ground_distances_cities.copy()\n",
    "gnd_travel_ids['Starting_City'] = gnd_travel_ids['Starting_City'].map(city_codes_dict)\n",
    "gnd_travel_ids['Ending_City'] = gnd_travel_ids['Ending_City'].map(city_codes_dict)\n",
    "print('The First 5 Lines of gnd_travel_ids: ')\n",
    "print(gnd_travel_ids.head())"
   ]
  },
  {
   "cell_type": "markdown",
   "metadata": {
    "nbgrader": {
     "grade": false,
     "locked": true,
     "solution": false
    }
   },
   "source": [
    "Now, we will put the values in the `gnd_travel_ids` DataFrame into a square table, with equal number of rows and columns which represent the origins and destinations. \n",
    "\n",
    "**Exercise 3** (1 point). Create a **pandas `DataFrame`**, named `travel_matrix`, where each element in `travel_matrix`, `[origin_id, destination_id]`, is the average_travel_time for that origin_id, destination_id combination. For instance, the value for `travel_matrix[0][1]` should be 80.387829. It should be noted that there are 293 distinct city ids (ranging from 0 to 292). \n",
    "\n",
    "(Note: The function `pivot_table()` in pandas may be helpful here. Also, the diagonal entries in the table represent the same origin and destination. Such entries must be equal to zero since the direct travel time from the origin to itself is 0. In the square table, any missing values must be filled by zero as well.)"
   ]
  },
  {
   "cell_type": "code",
   "execution_count": 22,
   "metadata": {
    "nbgrader": {
     "grade": false,
     "grade_id": "travel_matrix_1_response",
     "locked": false,
     "solution": true
    },
    "scrolled": false
   },
   "outputs": [
    {
     "data": {
      "text/html": [
       "<div>\n",
       "<style scoped>\n",
       "    .dataframe tbody tr th:only-of-type {\n",
       "        vertical-align: middle;\n",
       "    }\n",
       "\n",
       "    .dataframe tbody tr th {\n",
       "        vertical-align: top;\n",
       "    }\n",
       "\n",
       "    .dataframe thead tr th {\n",
       "        text-align: left;\n",
       "    }\n",
       "\n",
       "    .dataframe thead tr:last-of-type th {\n",
       "        text-align: right;\n",
       "    }\n",
       "</style>\n",
       "<table border=\"1\" class=\"dataframe\">\n",
       "  <thead>\n",
       "    <tr>\n",
       "      <th></th>\n",
       "      <th colspan=\"21\" halign=\"left\">Average_Travel_Time</th>\n",
       "    </tr>\n",
       "    <tr>\n",
       "      <th>Ending_City</th>\n",
       "      <th>0</th>\n",
       "      <th>1</th>\n",
       "      <th>2</th>\n",
       "      <th>3</th>\n",
       "      <th>4</th>\n",
       "      <th>5</th>\n",
       "      <th>6</th>\n",
       "      <th>7</th>\n",
       "      <th>8</th>\n",
       "      <th>9</th>\n",
       "      <th>...</th>\n",
       "      <th>283</th>\n",
       "      <th>284</th>\n",
       "      <th>285</th>\n",
       "      <th>286</th>\n",
       "      <th>287</th>\n",
       "      <th>288</th>\n",
       "      <th>289</th>\n",
       "      <th>290</th>\n",
       "      <th>291</th>\n",
       "      <th>292</th>\n",
       "    </tr>\n",
       "    <tr>\n",
       "      <th>Starting_City</th>\n",
       "      <th></th>\n",
       "      <th></th>\n",
       "      <th></th>\n",
       "      <th></th>\n",
       "      <th></th>\n",
       "      <th></th>\n",
       "      <th></th>\n",
       "      <th></th>\n",
       "      <th></th>\n",
       "      <th></th>\n",
       "      <th></th>\n",
       "      <th></th>\n",
       "      <th></th>\n",
       "      <th></th>\n",
       "      <th></th>\n",
       "      <th></th>\n",
       "      <th></th>\n",
       "      <th></th>\n",
       "      <th></th>\n",
       "      <th></th>\n",
       "      <th></th>\n",
       "    </tr>\n",
       "  </thead>\n",
       "  <tbody>\n",
       "    <tr>\n",
       "      <th>0</th>\n",
       "      <td>0.00</td>\n",
       "      <td>80.39</td>\n",
       "      <td>43.40</td>\n",
       "      <td>19.51</td>\n",
       "      <td>29.87</td>\n",
       "      <td>12.41</td>\n",
       "      <td>11.22</td>\n",
       "      <td>32.60</td>\n",
       "      <td>11.46</td>\n",
       "      <td>60.96</td>\n",
       "      <td>...</td>\n",
       "      <td>26.78</td>\n",
       "      <td>35.38</td>\n",
       "      <td>3.98</td>\n",
       "      <td>12.70</td>\n",
       "      <td>26.86</td>\n",
       "      <td>31.63</td>\n",
       "      <td>48.60</td>\n",
       "      <td>32.20</td>\n",
       "      <td>56.29</td>\n",
       "      <td>20.93</td>\n",
       "    </tr>\n",
       "    <tr>\n",
       "      <th>1</th>\n",
       "      <td>82.39</td>\n",
       "      <td>0.00</td>\n",
       "      <td>115.49</td>\n",
       "      <td>98.66</td>\n",
       "      <td>111.25</td>\n",
       "      <td>82.03</td>\n",
       "      <td>87.57</td>\n",
       "      <td>102.83</td>\n",
       "      <td>80.77</td>\n",
       "      <td>32.22</td>\n",
       "      <td>...</td>\n",
       "      <td>67.92</td>\n",
       "      <td>108.50</td>\n",
       "      <td>81.18</td>\n",
       "      <td>89.48</td>\n",
       "      <td>104.30</td>\n",
       "      <td>111.44</td>\n",
       "      <td>52.52</td>\n",
       "      <td>63.39</td>\n",
       "      <td>42.76</td>\n",
       "      <td>70.95</td>\n",
       "    </tr>\n",
       "    <tr>\n",
       "      <th>2</th>\n",
       "      <td>40.40</td>\n",
       "      <td>117.49</td>\n",
       "      <td>0.00</td>\n",
       "      <td>24.48</td>\n",
       "      <td>29.15</td>\n",
       "      <td>50.81</td>\n",
       "      <td>37.47</td>\n",
       "      <td>26.66</td>\n",
       "      <td>42.41</td>\n",
       "      <td>100.21</td>\n",
       "      <td>...</td>\n",
       "      <td>60.20</td>\n",
       "      <td>27.51</td>\n",
       "      <td>42.98</td>\n",
       "      <td>36.85</td>\n",
       "      <td>25.10</td>\n",
       "      <td>29.09</td>\n",
       "      <td>79.50</td>\n",
       "      <td>70.32</td>\n",
       "      <td>88.32</td>\n",
       "      <td>55.54</td>\n",
       "    </tr>\n",
       "  </tbody>\n",
       "</table>\n",
       "<p>3 rows × 293 columns</p>\n",
       "</div>"
      ],
      "text/plain": [
       "              Average_Travel_Time                                        \\\n",
       "Ending_City                   0       1       2      3       4      5     \n",
       "Starting_City                                                             \n",
       "0                            0.00   80.39   43.40  19.51   29.87  12.41   \n",
       "1                           82.39    0.00  115.49  98.66  111.25  82.03   \n",
       "2                           40.40  117.49    0.00  24.48   29.15  50.81   \n",
       "\n",
       "                                             ...                          \\\n",
       "Ending_City      6       7      8       9    ...      283     284    285   \n",
       "Starting_City                                ...                           \n",
       "0              11.22   32.60  11.46   60.96  ...    26.78   35.38   3.98   \n",
       "1              87.57  102.83  80.77   32.22  ...    67.92  108.50  81.18   \n",
       "2              37.47   26.66  42.41  100.21  ...    60.20   27.51  42.98   \n",
       "\n",
       "                                                                  \n",
       "Ending_City      286     287     288    289    290    291    292  \n",
       "Starting_City                                                     \n",
       "0              12.70   26.86   31.63  48.60  32.20  56.29  20.93  \n",
       "1              89.48  104.30  111.44  52.52  63.39  42.76  70.95  \n",
       "2              36.85   25.10   29.09  79.50  70.32  88.32  55.54  \n",
       "\n",
       "[3 rows x 293 columns]"
      ]
     },
     "execution_count": 22,
     "metadata": {},
     "output_type": "execute_result"
    }
   ],
   "source": [
    "#\n",
    "travel_matrix = pd.pivot_table(gnd_travel_ids, values=['Average_Travel_Time'], \n",
    "                               index=['Starting_City'], \n",
    "                               columns=['Ending_City'],)\n",
    "\n",
    "# travel_matrix.reset_index(drop=True, inplace=True)\n",
    "\n",
    "travel_matrix.rename(index={'Starting_City' : None}, \n",
    "                     columns={'Ending_City' : None},\n",
    "                     inplace=True)\n",
    "travel_matrix.fillna(0, inplace=True)\n",
    "travel_matrix.head(3)\n",
    "#"
   ]
  },
  {
   "cell_type": "code",
   "execution_count": 23,
   "metadata": {
    "collapsed": true,
    "scrolled": true
   },
   "outputs": [],
   "source": [
    "# .to_records() helped\n",
    "upd_travel_mat = pd.DataFrame(travel_matrix.to_records())\n",
    "upd_travel_mat.reset_index(drop=True, inplace=True)\n",
    "upd_travel_mat.drop('Starting_City', axis=1, inplace=True)\n",
    "\n",
    "col_names = []\n",
    "for col in upd_travel_mat.columns:\n",
    "    stripped = col.strip(\"(Average_Travel_Time' ,)\")\n",
    "    col_names.append(int(stripped))\n",
    "    \n",
    "upd_travel_mat.head()\n",
    "upd_travel_mat.rename(columns=dict(zip(upd_travel_mat.columns, col_names)), inplace=True)\n",
    "travel_matrix = upd_travel_mat.copy()"
   ]
  },
  {
   "cell_type": "code",
   "execution_count": 24,
   "metadata": {},
   "outputs": [
    {
     "data": {
      "text/html": [
       "<div>\n",
       "<style scoped>\n",
       "    .dataframe tbody tr th:only-of-type {\n",
       "        vertical-align: middle;\n",
       "    }\n",
       "\n",
       "    .dataframe tbody tr th {\n",
       "        vertical-align: top;\n",
       "    }\n",
       "\n",
       "    .dataframe thead th {\n",
       "        text-align: right;\n",
       "    }\n",
       "</style>\n",
       "<table border=\"1\" class=\"dataframe\">\n",
       "  <thead>\n",
       "    <tr style=\"text-align: right;\">\n",
       "      <th></th>\n",
       "      <th>0</th>\n",
       "      <th>1</th>\n",
       "      <th>2</th>\n",
       "      <th>3</th>\n",
       "      <th>4</th>\n",
       "      <th>5</th>\n",
       "      <th>6</th>\n",
       "      <th>7</th>\n",
       "      <th>8</th>\n",
       "      <th>9</th>\n",
       "      <th>...</th>\n",
       "      <th>283</th>\n",
       "      <th>284</th>\n",
       "      <th>285</th>\n",
       "      <th>286</th>\n",
       "      <th>287</th>\n",
       "      <th>288</th>\n",
       "      <th>289</th>\n",
       "      <th>290</th>\n",
       "      <th>291</th>\n",
       "      <th>292</th>\n",
       "    </tr>\n",
       "  </thead>\n",
       "  <tbody>\n",
       "    <tr>\n",
       "      <th>274</th>\n",
       "      <td>21.13</td>\n",
       "      <td>92.69</td>\n",
       "      <td>28.72</td>\n",
       "      <td>12.27</td>\n",
       "      <td>22.15</td>\n",
       "      <td>24.92</td>\n",
       "      <td>14.83</td>\n",
       "      <td>15.72</td>\n",
       "      <td>20.04</td>\n",
       "      <td>67.94</td>\n",
       "      <td>...</td>\n",
       "      <td>33.72</td>\n",
       "      <td>18.47</td>\n",
       "      <td>17.79</td>\n",
       "      <td>11.37</td>\n",
       "      <td>19.80</td>\n",
       "      <td>24.77</td>\n",
       "      <td>53.00</td>\n",
       "      <td>44.11</td>\n",
       "      <td>64.87</td>\n",
       "      <td>34.95</td>\n",
       "    </tr>\n",
       "    <tr>\n",
       "      <th>269</th>\n",
       "      <td>7.79</td>\n",
       "      <td>89.68</td>\n",
       "      <td>40.75</td>\n",
       "      <td>18.98</td>\n",
       "      <td>25.22</td>\n",
       "      <td>20.72</td>\n",
       "      <td>3.57</td>\n",
       "      <td>27.90</td>\n",
       "      <td>16.91</td>\n",
       "      <td>65.49</td>\n",
       "      <td>...</td>\n",
       "      <td>23.48</td>\n",
       "      <td>28.67</td>\n",
       "      <td>10.53</td>\n",
       "      <td>10.43</td>\n",
       "      <td>22.11</td>\n",
       "      <td>25.94</td>\n",
       "      <td>52.76</td>\n",
       "      <td>36.60</td>\n",
       "      <td>60.58</td>\n",
       "      <td>21.63</td>\n",
       "    </tr>\n",
       "    <tr>\n",
       "      <th>21</th>\n",
       "      <td>72.06</td>\n",
       "      <td>36.78</td>\n",
       "      <td>105.03</td>\n",
       "      <td>88.74</td>\n",
       "      <td>96.73</td>\n",
       "      <td>70.88</td>\n",
       "      <td>85.63</td>\n",
       "      <td>92.90</td>\n",
       "      <td>75.82</td>\n",
       "      <td>16.17</td>\n",
       "      <td>...</td>\n",
       "      <td>56.83</td>\n",
       "      <td>98.38</td>\n",
       "      <td>71.19</td>\n",
       "      <td>73.20</td>\n",
       "      <td>92.12</td>\n",
       "      <td>94.06</td>\n",
       "      <td>37.54</td>\n",
       "      <td>50.86</td>\n",
       "      <td>26.77</td>\n",
       "      <td>67.18</td>\n",
       "    </tr>\n",
       "    <tr>\n",
       "      <th>139</th>\n",
       "      <td>24.57</td>\n",
       "      <td>105.74</td>\n",
       "      <td>25.84</td>\n",
       "      <td>12.39</td>\n",
       "      <td>20.86</td>\n",
       "      <td>33.97</td>\n",
       "      <td>20.74</td>\n",
       "      <td>25.29</td>\n",
       "      <td>29.62</td>\n",
       "      <td>78.44</td>\n",
       "      <td>...</td>\n",
       "      <td>36.60</td>\n",
       "      <td>27.37</td>\n",
       "      <td>20.21</td>\n",
       "      <td>23.42</td>\n",
       "      <td>20.45</td>\n",
       "      <td>21.61</td>\n",
       "      <td>63.84</td>\n",
       "      <td>54.58</td>\n",
       "      <td>74.63</td>\n",
       "      <td>42.83</td>\n",
       "    </tr>\n",
       "    <tr>\n",
       "      <th>147</th>\n",
       "      <td>9.85</td>\n",
       "      <td>87.21</td>\n",
       "      <td>36.57</td>\n",
       "      <td>10.14</td>\n",
       "      <td>24.16</td>\n",
       "      <td>15.26</td>\n",
       "      <td>7.38</td>\n",
       "      <td>30.66</td>\n",
       "      <td>16.89</td>\n",
       "      <td>74.71</td>\n",
       "      <td>...</td>\n",
       "      <td>29.07</td>\n",
       "      <td>30.37</td>\n",
       "      <td>15.53</td>\n",
       "      <td>14.62</td>\n",
       "      <td>25.87</td>\n",
       "      <td>27.69</td>\n",
       "      <td>57.19</td>\n",
       "      <td>34.87</td>\n",
       "      <td>58.95</td>\n",
       "      <td>25.53</td>\n",
       "    </tr>\n",
       "  </tbody>\n",
       "</table>\n",
       "<p>5 rows × 293 columns</p>\n",
       "</div>"
      ],
      "text/plain": [
       "       0       1       2      3      4      5      6      7      8      9    \\\n",
       "274  21.13   92.69   28.72  12.27  22.15  24.92  14.83  15.72  20.04  67.94   \n",
       "269   7.79   89.68   40.75  18.98  25.22  20.72   3.57  27.90  16.91  65.49   \n",
       "21   72.06   36.78  105.03  88.74  96.73  70.88  85.63  92.90  75.82  16.17   \n",
       "139  24.57  105.74   25.84  12.39  20.86  33.97  20.74  25.29  29.62  78.44   \n",
       "147   9.85   87.21   36.57  10.14  24.16  15.26   7.38  30.66  16.89  74.71   \n",
       "\n",
       "     ...      283    284    285    286    287    288    289    290    291  \\\n",
       "274  ...    33.72  18.47  17.79  11.37  19.80  24.77  53.00  44.11  64.87   \n",
       "269  ...    23.48  28.67  10.53  10.43  22.11  25.94  52.76  36.60  60.58   \n",
       "21   ...    56.83  98.38  71.19  73.20  92.12  94.06  37.54  50.86  26.77   \n",
       "139  ...    36.60  27.37  20.21  23.42  20.45  21.61  63.84  54.58  74.63   \n",
       "147  ...    29.07  30.37  15.53  14.62  25.87  27.69  57.19  34.87  58.95   \n",
       "\n",
       "       292  \n",
       "274  34.95  \n",
       "269  21.63  \n",
       "21   67.18  \n",
       "139  42.83  \n",
       "147  25.53  \n",
       "\n",
       "[5 rows x 293 columns]"
      ]
     },
     "execution_count": 24,
     "metadata": {},
     "output_type": "execute_result"
    }
   ],
   "source": [
    "travel_matrix.sample(5)"
   ]
  },
  {
   "cell_type": "code",
   "execution_count": 25,
   "metadata": {
    "nbgrader": {
     "grade": true,
     "grade_id": "travel_matrix_1",
     "locked": true,
     "points": "1",
     "solution": false
    }
   },
   "outputs": [
    {
     "name": "stdout",
     "output_type": "stream",
     "text": [
      "Test 1: Are all Diagonals 0?\n",
      "Yes, all Diagonals are 0! \n",
      "\n",
      "Test 2: Are the dimensions correct?\n",
      "Yes, dimensions are correct! \n",
      "\n",
      "Test 3: Checking if Select Values are the Same...\n",
      "Great! Select Values are the Same!\n",
      "\n",
      "(Passed!)\n"
     ]
    }
   ],
   "source": [
    "## TEST CODE PART 1, EXERCISE 3 - travel_matrix_1\n",
    "\n",
    "assert type(travel_matrix) is pd.DataFrame, \"`type(travel_matrix) == {}` instead of `pd.DataFrame`.\".format(type(travel_matrix))\n",
    "\n",
    "# Test 1 - All Diagonals in the Matrix are 0\n",
    "print('Test 1: Are all Diagonals 0?')\n",
    "travel_mat = np.array(travel_matrix)\n",
    "assert np.all(np.diag(travel_mat) == 0) == True\n",
    "print('Yes, all Diagonals are 0! \\n')\n",
    "# Test 2 - Dimensions\n",
    "print('Test 2: Are the dimensions correct?')\n",
    "row, col = travel_matrix.shape\n",
    "assert row == col == 293\n",
    "print('Yes, dimensions are correct! \\n')\n",
    "\n",
    "\n",
    "# Test 3 - Select Values in Matrix are the same\n",
    "tol = 1\n",
    "print('Test 3: Checking if Select Values are the Same...')\n",
    "assert abs(travel_matrix[1][0] - 80.38) < tol\n",
    "assert abs(travel_matrix[0][1] - 82.38) < tol\n",
    "assert abs(travel_matrix[30][50] - 24.47) < tol\n",
    "assert abs(travel_matrix[50][30] - 29.47) < tol\n",
    "assert abs(travel_matrix[260][118] - 96.85) < tol\n",
    "assert abs(travel_matrix[118][260] - 95.85) < tol\n",
    "assert abs(travel_matrix[3][292] - 36.43) < tol\n",
    "assert abs(travel_matrix[292][3] - 32.43) < tol\n",
    "assert abs(travel_matrix[279][256] - 15.82) < tol\n",
    "assert abs(travel_matrix[256][279] - 18.82) < tol\n",
    "print('Great! Select Values are the Same!')\n",
    "\n",
    "print('\\n(Passed!)')"
   ]
  },
  {
   "cell_type": "markdown",
   "metadata": {
    "nbgrader": {
     "grade": false,
     "locked": true,
     "solution": false
    }
   },
   "source": [
    "**Exercise 4** (3 points) Now write some code to compute a **2-D Numpy array** named `round_trip`, which contains the amount of time taken to complete a round trip between all possible origins and destinations as appear in the table `gnd_travel_ids`. Your table should be a square matrix. Any entry `(i, j)` in the matrix must contain the total time to go from `i` to `j` and back to `i`."
   ]
  },
  {
   "cell_type": "code",
   "execution_count": 26,
   "metadata": {
    "nbgrader": {
     "grade": false,
     "grade_id": "travel_matrix_2_response",
     "locked": false,
     "solution": true
    }
   },
   "outputs": [
    {
     "data": {
      "text/html": [
       "<div>\n",
       "<style scoped>\n",
       "    .dataframe tbody tr th:only-of-type {\n",
       "        vertical-align: middle;\n",
       "    }\n",
       "\n",
       "    .dataframe tbody tr th {\n",
       "        vertical-align: top;\n",
       "    }\n",
       "\n",
       "    .dataframe thead th {\n",
       "        text-align: right;\n",
       "    }\n",
       "</style>\n",
       "<table border=\"1\" class=\"dataframe\">\n",
       "  <thead>\n",
       "    <tr style=\"text-align: right;\">\n",
       "      <th></th>\n",
       "      <th>Starting_City</th>\n",
       "      <th>Ending_City</th>\n",
       "      <th>Average_Travel_Time</th>\n",
       "    </tr>\n",
       "  </thead>\n",
       "  <tbody>\n",
       "    <tr>\n",
       "      <th>0</th>\n",
       "      <td>0</td>\n",
       "      <td>1</td>\n",
       "      <td>80.39</td>\n",
       "    </tr>\n",
       "    <tr>\n",
       "      <th>1</th>\n",
       "      <td>0</td>\n",
       "      <td>2</td>\n",
       "      <td>43.40</td>\n",
       "    </tr>\n",
       "    <tr>\n",
       "      <th>2</th>\n",
       "      <td>0</td>\n",
       "      <td>3</td>\n",
       "      <td>19.51</td>\n",
       "    </tr>\n",
       "    <tr>\n",
       "      <th>3</th>\n",
       "      <td>0</td>\n",
       "      <td>4</td>\n",
       "      <td>29.87</td>\n",
       "    </tr>\n",
       "    <tr>\n",
       "      <th>4</th>\n",
       "      <td>0</td>\n",
       "      <td>5</td>\n",
       "      <td>12.41</td>\n",
       "    </tr>\n",
       "  </tbody>\n",
       "</table>\n",
       "</div>"
      ],
      "text/plain": [
       "   Starting_City  Ending_City  Average_Travel_Time\n",
       "0              0            1                80.39\n",
       "1              0            2                43.40\n",
       "2              0            3                19.51\n",
       "3              0            4                29.87\n",
       "4              0            5                12.41"
      ]
     },
     "metadata": {},
     "output_type": "display_data"
    },
    {
     "data": {
      "text/plain": [
       "(85556, 3)"
      ]
     },
     "metadata": {},
     "output_type": "display_data"
    }
   ],
   "source": [
    "#\n",
    "display(gnd_travel_ids.head())\n",
    "display(gnd_travel_ids.shape)\n",
    "#"
   ]
  },
  {
   "cell_type": "code",
   "execution_count": 27,
   "metadata": {
    "scrolled": true
   },
   "outputs": [
    {
     "data": {
      "text/plain": [
       "293"
      ]
     },
     "metadata": {},
     "output_type": "display_data"
    },
    {
     "data": {
      "text/plain": [
       "293"
      ]
     },
     "metadata": {},
     "output_type": "display_data"
    }
   ],
   "source": [
    "display(gnd_travel_ids['Starting_City'].nunique())\n",
    "display(gnd_travel_ids['Ending_City'].nunique())"
   ]
  },
  {
   "cell_type": "code",
   "execution_count": 28,
   "metadata": {
    "collapsed": true
   },
   "outputs": [],
   "source": [
    "# Create a dictionary with round trip values\n",
    "# keys are tuples of starting, and ending_city\n",
    "\n",
    "round_trip_times = defaultdict(float)\n",
    "avg_roundtrip_times = []\n",
    "\n",
    "for i in range(len(gnd_travel_ids)):\n",
    "    a = gnd_travel_ids.loc[i, 'Starting_City']\n",
    "    b = gnd_travel_ids.loc[i, 'Ending_City']\n",
    "    a_to_b = gnd_travel_ids.loc[i, 'Average_Travel_Time']\n",
    "    \n",
    "    idx = np.where((gnd_travel_ids['Starting_City'] == b) & (gnd_travel_ids['Ending_City'] == a))[0][0]\n",
    "    b_to_a = gnd_travel_ids.loc[idx, 'Average_Travel_Time']\n",
    "    \n",
    "    round_trip_times[(a, b)] = a_to_b + b_to_a\n",
    "    avg_roundtrip_times.append(a_to_b + b_to_a)"
   ]
  },
  {
   "cell_type": "code",
   "execution_count": 29,
   "metadata": {
    "scrolled": true
   },
   "outputs": [
    {
     "data": {
      "text/plain": [
       "RangeIndex(start=0, stop=293, step=1)"
      ]
     },
     "metadata": {},
     "output_type": "display_data"
    },
    {
     "data": {
      "text/plain": [
       "Index(['0', '1', '2', '3', '4', '5', '6', '7', '8', '9',\n",
       "       ...\n",
       "       '283', '284', '285', '286', '287', '288', '289', '290', '291', '292'],\n",
       "      dtype='object', length=293)"
      ]
     },
     "metadata": {},
     "output_type": "display_data"
    },
    {
     "data": {
      "text/html": [
       "<div>\n",
       "<style scoped>\n",
       "    .dataframe tbody tr th:only-of-type {\n",
       "        vertical-align: middle;\n",
       "    }\n",
       "\n",
       "    .dataframe tbody tr th {\n",
       "        vertical-align: top;\n",
       "    }\n",
       "\n",
       "    .dataframe thead th {\n",
       "        text-align: right;\n",
       "    }\n",
       "</style>\n",
       "<table border=\"1\" class=\"dataframe\">\n",
       "  <thead>\n",
       "    <tr style=\"text-align: right;\">\n",
       "      <th></th>\n",
       "      <th>0</th>\n",
       "      <th>1</th>\n",
       "      <th>2</th>\n",
       "      <th>3</th>\n",
       "      <th>4</th>\n",
       "      <th>5</th>\n",
       "      <th>6</th>\n",
       "      <th>7</th>\n",
       "      <th>8</th>\n",
       "      <th>9</th>\n",
       "      <th>...</th>\n",
       "      <th>283</th>\n",
       "      <th>284</th>\n",
       "      <th>285</th>\n",
       "      <th>286</th>\n",
       "      <th>287</th>\n",
       "      <th>288</th>\n",
       "      <th>289</th>\n",
       "      <th>290</th>\n",
       "      <th>291</th>\n",
       "      <th>292</th>\n",
       "    </tr>\n",
       "  </thead>\n",
       "  <tbody>\n",
       "    <tr>\n",
       "      <th>0</th>\n",
       "      <td>0.00</td>\n",
       "      <td>162.78</td>\n",
       "      <td>83.80</td>\n",
       "      <td>42.02</td>\n",
       "      <td>66.74</td>\n",
       "      <td>20.82</td>\n",
       "      <td>24.44</td>\n",
       "      <td>65.20</td>\n",
       "      <td>23.92</td>\n",
       "      <td>123.92</td>\n",
       "      <td>...</td>\n",
       "      <td>44.56</td>\n",
       "      <td>65.76</td>\n",
       "      <td>14.96</td>\n",
       "      <td>25.40</td>\n",
       "      <td>54.72</td>\n",
       "      <td>70.26</td>\n",
       "      <td>97.20</td>\n",
       "      <td>63.40</td>\n",
       "      <td>106.58</td>\n",
       "      <td>43.86</td>\n",
       "    </tr>\n",
       "    <tr>\n",
       "      <th>1</th>\n",
       "      <td>162.78</td>\n",
       "      <td>0.00</td>\n",
       "      <td>232.98</td>\n",
       "      <td>196.32</td>\n",
       "      <td>221.50</td>\n",
       "      <td>159.06</td>\n",
       "      <td>182.14</td>\n",
       "      <td>207.66</td>\n",
       "      <td>165.54</td>\n",
       "      <td>69.44</td>\n",
       "      <td>...</td>\n",
       "      <td>141.84</td>\n",
       "      <td>216.00</td>\n",
       "      <td>162.36</td>\n",
       "      <td>172.96</td>\n",
       "      <td>208.60</td>\n",
       "      <td>220.88</td>\n",
       "      <td>107.04</td>\n",
       "      <td>122.78</td>\n",
       "      <td>81.52</td>\n",
       "      <td>141.90</td>\n",
       "    </tr>\n",
       "    <tr>\n",
       "      <th>2</th>\n",
       "      <td>83.80</td>\n",
       "      <td>232.98</td>\n",
       "      <td>0.00</td>\n",
       "      <td>50.96</td>\n",
       "      <td>62.30</td>\n",
       "      <td>101.62</td>\n",
       "      <td>72.94</td>\n",
       "      <td>53.32</td>\n",
       "      <td>82.82</td>\n",
       "      <td>198.42</td>\n",
       "      <td>...</td>\n",
       "      <td>116.40</td>\n",
       "      <td>59.02</td>\n",
       "      <td>79.96</td>\n",
       "      <td>75.70</td>\n",
       "      <td>49.20</td>\n",
       "      <td>56.18</td>\n",
       "      <td>157.00</td>\n",
       "      <td>131.64</td>\n",
       "      <td>180.64</td>\n",
       "      <td>112.08</td>\n",
       "    </tr>\n",
       "    <tr>\n",
       "      <th>3</th>\n",
       "      <td>42.02</td>\n",
       "      <td>196.32</td>\n",
       "      <td>50.96</td>\n",
       "      <td>0.00</td>\n",
       "      <td>37.58</td>\n",
       "      <td>55.38</td>\n",
       "      <td>31.72</td>\n",
       "      <td>40.28</td>\n",
       "      <td>42.78</td>\n",
       "      <td>148.34</td>\n",
       "      <td>...</td>\n",
       "      <td>71.92</td>\n",
       "      <td>34.34</td>\n",
       "      <td>32.02</td>\n",
       "      <td>41.16</td>\n",
       "      <td>26.72</td>\n",
       "      <td>43.04</td>\n",
       "      <td>123.50</td>\n",
       "      <td>90.62</td>\n",
       "      <td>139.24</td>\n",
       "      <td>68.86</td>\n",
       "    </tr>\n",
       "    <tr>\n",
       "      <th>4</th>\n",
       "      <td>66.74</td>\n",
       "      <td>221.50</td>\n",
       "      <td>62.30</td>\n",
       "      <td>37.58</td>\n",
       "      <td>0.00</td>\n",
       "      <td>74.40</td>\n",
       "      <td>53.90</td>\n",
       "      <td>17.32</td>\n",
       "      <td>67.80</td>\n",
       "      <td>169.78</td>\n",
       "      <td>...</td>\n",
       "      <td>84.74</td>\n",
       "      <td>16.36</td>\n",
       "      <td>69.40</td>\n",
       "      <td>54.34</td>\n",
       "      <td>33.84</td>\n",
       "      <td>13.76</td>\n",
       "      <td>136.32</td>\n",
       "      <td>109.72</td>\n",
       "      <td>140.92</td>\n",
       "      <td>101.06</td>\n",
       "    </tr>\n",
       "  </tbody>\n",
       "</table>\n",
       "<p>5 rows × 293 columns</p>\n",
       "</div>"
      ],
      "text/plain": [
       "      0       1       2       3       4       5       6       7       8    \\\n",
       "0    0.00  162.78   83.80   42.02   66.74   20.82   24.44   65.20   23.92   \n",
       "1  162.78    0.00  232.98  196.32  221.50  159.06  182.14  207.66  165.54   \n",
       "2   83.80  232.98    0.00   50.96   62.30  101.62   72.94   53.32   82.82   \n",
       "3   42.02  196.32   50.96    0.00   37.58   55.38   31.72   40.28   42.78   \n",
       "4   66.74  221.50   62.30   37.58    0.00   74.40   53.90   17.32   67.80   \n",
       "\n",
       "      9     ...       283     284     285     286     287     288     289  \\\n",
       "0  123.92   ...     44.56   65.76   14.96   25.40   54.72   70.26   97.20   \n",
       "1   69.44   ...    141.84  216.00  162.36  172.96  208.60  220.88  107.04   \n",
       "2  198.42   ...    116.40   59.02   79.96   75.70   49.20   56.18  157.00   \n",
       "3  148.34   ...     71.92   34.34   32.02   41.16   26.72   43.04  123.50   \n",
       "4  169.78   ...     84.74   16.36   69.40   54.34   33.84   13.76  136.32   \n",
       "\n",
       "      290     291     292  \n",
       "0   63.40  106.58   43.86  \n",
       "1  122.78   81.52  141.90  \n",
       "2  131.64  180.64  112.08  \n",
       "3   90.62  139.24   68.86  \n",
       "4  109.72  140.92  101.06  \n",
       "\n",
       "[5 rows x 293 columns]"
      ]
     },
     "execution_count": 29,
     "metadata": {},
     "output_type": "execute_result"
    }
   ],
   "source": [
    "my_travel_times = gnd_travel_ids.copy()\n",
    "my_travel_times['RoundTrip_Times'] = avg_roundtrip_times\n",
    "\n",
    "round_trip = pd.pivot_table(data=my_travel_times, \n",
    "                            index='Starting_City',\n",
    "                            columns='Ending_City', \n",
    "                            values='RoundTrip_Times')\n",
    "\n",
    "round_trip.reset_index(drop=True, inplace=True)\n",
    "round_trip = pd.DataFrame(round_trip.to_records())\n",
    "round_trip.drop('index', axis=1, inplace=True)\n",
    "round_trip.fillna(0, inplace=True)\n",
    "\n",
    "# Need to format the indices, which are of str type\n",
    "display(round_trip.index)\n",
    "display(round_trip.columns)\n",
    "\n",
    "round_trip.index = [int(i) for i in range(len(round_trip))]\n",
    "round_trip.rename(columns=dict(zip(round_trip.columns, round_trip.index)), inplace=True)\n",
    "\n",
    "round_trip.head()"
   ]
  },
  {
   "cell_type": "code",
   "execution_count": 34,
   "metadata": {
    "nbgrader": {
     "grade": true,
     "grade_id": "travel_matrix_2",
     "locked": true,
     "points": "3",
     "solution": false
    }
   },
   "outputs": [
    {
     "name": "stdout",
     "output_type": "stream",
     "text": [
      "\n",
      "(Passed!)\n"
     ]
    }
   ],
   "source": [
    "## TEST CODE PART 2 OF 2, EXERCISE 4 - travel_matrix_2\n",
    "import random\n",
    "n_test = 1000\n",
    "for _ in range(n_test):\n",
    "    origin = random.randint(0, 292)\n",
    "    dest = random.randint(0, 292)\n",
    "    round_travel_time = round_trip.loc[origin, dest]\n",
    "    o1 = gnd_travel_ids[\"Starting_City\"] == origin\n",
    "    d1 = gnd_travel_ids[\"Ending_City\"] == dest\n",
    "    d2 = gnd_travel_ids[\"Starting_City\"] == dest\n",
    "    o2 = gnd_travel_ids[\"Ending_City\"] == origin\n",
    "    if origin != dest:\n",
    "        time = gnd_travel_ids[o1 & d1][\"Average_Travel_Time\"].values[0] + gnd_travel_ids[o2 & d2][\"Average_Travel_Time\"].values[0]\n",
    "        assert time == round_travel_time\n",
    "\n",
    "print('\\n(Passed!)')"
   ]
  },
  {
   "cell_type": "markdown",
   "metadata": {
    "nbgrader": {
     "grade": false,
     "locked": true,
     "solution": false
    }
   },
   "source": [
    "**Fin!** You've reached the end of this problem. Don't forget to restart the\n",
    "kernel and run the entire notebook from top-to-bottom to make sure you did\n",
    "everything correctly. If that is working, try submitting this problem. (Recall\n",
    "that you *must* submit and pass the autograder to get credit for your work!)"
   ]
  }
 ],
 "metadata": {
  "celltoolbar": "Create Assignment",
  "kernel_info": {
   "name": "python3"
  },
  "kernelspec": {
   "display_name": "Python 3 [3.6]",
   "language": "python",
   "name": "python3"
  },
  "language_info": {
   "codemirror_mode": {
    "name": "ipython",
    "version": 3
   },
   "file_extension": ".py",
   "mimetype": "text/x-python",
   "name": "python",
   "nbconvert_exporter": "python",
   "pygments_lexer": "ipython3",
   "version": "3.6.4"
  },
  "nteract": {
   "version": "0.11.9"
  }
 },
 "nbformat": 4,
 "nbformat_minor": 2
}
