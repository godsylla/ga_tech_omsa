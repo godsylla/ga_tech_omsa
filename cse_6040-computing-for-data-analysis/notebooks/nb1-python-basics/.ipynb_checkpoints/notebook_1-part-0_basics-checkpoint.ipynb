{
 "cells": [
  {
   "cell_type": "markdown",
   "metadata": {},
   "source": [
    "# Python review: Values, variables, types, lists, and strings\n",
    "\n",
    "These first few notebooks are a set of exercises with two goals:\n",
    "\n",
    "1. Review the basics of Python\n",
    "2. Familiarize you with Jupyter\n",
    "\n",
    "Regarding the first goal, these initial notebooks cover material we think you should already know from [Chris Simpkins's](https://www.cc.gatech.edu/~simpkins/) [Python Bootcamp from Fall 2018](http://datamastery.gitlab.io/msabc/august2018.html). This bootcamp is what students on the on-campus Georgia Tech MS Analytics students took.\n",
    "\n",
    "Regarding the second goal, you'll observe that the bootcamp has each student install and work directly with the Python interpreter, which runs locally on his or her machine (e.g., see the `Video: Getting Started` link and Slide 7 of his Intro to Python slides). But in this course, we are using Jupyter Notebooks as the development environment. You can think of a Jupyter notebook as a web-based \"skin\" for running a Python interpreter---possibly hosted on a remote server, which is the case in this course. Here is a good tutorial on [Jupyter](https://www.datacamp.com/community/tutorials/tutorial-jupyter-notebook)."
   ]
  },
  {
   "cell_type": "markdown",
   "metadata": {},
   "source": [
    "> **Note for [MS Analytics](http://analytics.gatech.edu) students.** In this course we assume you are using [Vocareum's deployment](https://www.vocareum.com/) of Jupyter. You also have an option to use other Jupyter environments, including installing and running Jupyter on your own system. We can't provide technical support to you if you choose to go those routes, but if you'd like to do that anyway, we recommend [Microsoft Azure Notebooks](https://notebooks.azure.com/) as a web-hosted option or the Continuum Analytics [Anaconda distribution](https://www.continuum.io/downloads) as a locally installed option."
   ]
  },
  {
   "cell_type": "markdown",
   "metadata": {},
   "source": [
    "**Study hint: Read the test code!** You'll notice that most of the exercises below have a place for you to code up your answer followed by a \"test cell.\" That's a code cell that checks the output of your code to see whether it appears to produce correct results. You can often learn a lot by reading the test code. In fact, sometimes it gives you a hint about how to approach the problem. As such, we encourage you to try to read the test cells even if they seem cryptic, which is deliberate!"
   ]
  },
  {
   "cell_type": "markdown",
   "metadata": {},
   "source": [
    "**Exercise 0** (1 point). Run the code cell below. It should display the output string, `Hello, world!`."
   ]
  },
  {
   "cell_type": "code",
   "execution_count": 1,
   "metadata": {},
   "outputs": [
    {
     "name": "stdout",
     "output_type": "stream",
     "text": [
      "Hello world!\n"
     ]
    }
   ],
   "source": [
    "print('Hello world!')"
   ]
  },
  {
   "cell_type": "markdown",
   "metadata": {},
   "source": [
    "**Exercise 1** (`x_float_test`: 1 point). Create a variable named `x_float` whose numerical value is one (1) and whose type is *floating-point*."
   ]
  },
  {
   "cell_type": "code",
   "execution_count": 2,
   "metadata": {},
   "outputs": [],
   "source": [
    "x_float = 1.0"
   ]
  },
  {
   "cell_type": "code",
   "execution_count": 3,
   "metadata": {},
   "outputs": [
    {
     "name": "stdout",
     "output_type": "stream",
     "text": [
      "\n",
      "(Passed!)\n"
     ]
    }
   ],
   "source": [
    "# `x_float_test`: Test cell\n",
    "assert x_float == 1\n",
    "assert type(x_float) is float\n",
    "print(\"\\n(Passed!)\")"
   ]
  },
  {
   "cell_type": "markdown",
   "metadata": {},
   "source": [
    "**Exercise 2** `(strcat_ba_test`: 1 point). Complete the following function, `strcat_ba(a, b)`, so that given two strings, a and  b, it returns the concatenation of b followed by a (pay attention to the order in these instructions!)."
   ]
  },
  {
   "cell_type": "code",
   "execution_count": 4,
   "metadata": {},
   "outputs": [],
   "source": [
    "def strcat_ba(a, b):\n",
    "    assert type(a) is str\n",
    "    assert type(b) is str\n",
    "#\n",
    "    return b+a\n",
    "#"
   ]
  },
  {
   "cell_type": "code",
   "execution_count": 5,
   "metadata": {},
   "outputs": [
    {
     "name": "stdout",
     "output_type": "stream",
     "text": [
      "jedyj\n",
      "aib\n",
      "aibjedyj\n",
      "strcat_ba(\"jedyj\", \"aib\") == \"aibjedyj\"\n",
      "aib\n",
      "jedyj\n",
      "\n",
      "(Passed!)\n"
     ]
    }
   ],
   "source": [
    "# deconstruct the test cell to learn from it\n",
    "\n",
    "# `strcat_ba_test`: Test cell\n",
    "\n",
    "# Workaround: # Python 3.5.2 does not have `random.choices()` (available in 3.6+)\n",
    "\n",
    "def random_letter():\n",
    "    from random import choice\n",
    "    return choice('abcdefghijklmnopqrstuvwxyz')\n",
    "\n",
    "def random_string(n, fun=random_letter):\n",
    "    return ''.join([str(fun()) for _ in range(n)])\n",
    "\n",
    "a = random_string(5)\n",
    "print(a)\n",
    "\n",
    "b = random_string(3) \n",
    "print(b)\n",
    "\n",
    "c = strcat_ba(a, b)\n",
    "print(c)\n",
    "\n",
    "print('strcat_ba(\"{}\", \"{}\") == \"{}\"'.format(a, b, c))\n",
    "assert len(c) == len(a) + len(b)\n",
    "\n",
    "print(c[:len(b)])\n",
    "assert c[:len(b)] == b\n",
    "\n",
    "print(c[-len(a):])\n",
    "assert c[-len(a):] == a\n",
    "print(\"\\n(Passed!)\")"
   ]
  },
  {
   "cell_type": "markdown",
   "metadata": {},
   "source": [
    "**Exercise 3** (`strcat_list_test`: 2 points). Complete the following function, `strcat_list(L)`, which generalizes the previous function: given a *list* of strings, `L[:]`, returns the concatenation of the strings in reverse order. For example:\n",
    "\n",
    "```python\n",
    "    strcat_list(['abc', 'def', 'ghi']) == 'ghidefabc'\n",
    "```"
   ]
  },
  {
   "cell_type": "code",
   "execution_count": 6,
   "metadata": {},
   "outputs": [],
   "source": [
    "test_list = ['abc', 'def', 'ghi']"
   ]
  },
  {
   "cell_type": "code",
   "execution_count": 7,
   "metadata": {},
   "outputs": [],
   "source": [
    "# def strcat_list(L):\n",
    "#     assert type(L) is list\n",
    "#     #\n",
    "#     # reverse the order of the list\n",
    "#     # note that the .reverse() method returns None\n",
    "#     # it is an in-place change that is made on the list object \n",
    "#     L.reverse()\n",
    "    \n",
    "#     concat = ''\n",
    "#     for item in L: # therefore we can iterate over the original input after reversing it\n",
    "#         concat += item\n",
    "    \n",
    "#     return concat\n",
    "#     #\n",
    "\n",
    "## NOTE: BECAUSE THE L.reverse() CHANGES THE LIST ELEMENTS IN PLACE, IT IS CAUSING THE LIST THAT IS PASSED IN\n",
    "## AS INPUT TO BE RE-REVERSING ITSELF IN THE TEST CODE ASSERTION"
   ]
  },
  {
   "cell_type": "code",
   "execution_count": 8,
   "metadata": {},
   "outputs": [],
   "source": [
    "# Try using L[::-1]\n",
    "\n",
    "def strcat_list(L):\n",
    "    assert type(L) is list\n",
    "\n",
    "    # reverse the order of the list\n",
    "    new_list = L[::-1]\n",
    "    \n",
    "    return ''.join(new_list)\n",
    "    "
   ]
  },
  {
   "cell_type": "code",
   "execution_count": 9,
   "metadata": {},
   "outputs": [
    {
     "data": {
      "text/plain": [
       "'ghidefabc'"
      ]
     },
     "execution_count": 9,
     "metadata": {},
     "output_type": "execute_result"
    }
   ],
   "source": [
    "strcat_list(test_list)"
   ]
  },
  {
   "cell_type": "code",
   "execution_count": 12,
   "metadata": {
    "scrolled": true
   },
   "outputs": [
    {
     "name": "stdout",
     "output_type": "stream",
     "text": [
      "['qex', 'qpn', 'agb', 'gun', 'zzm', 'gxj']\n",
      "gxjzzmgunagbqpnqex\n",
      "L == ['qex', 'qpn', 'agb', 'gun', 'zzm', 'gxj']\n",
      "strcat_list(L) == 'gxjzzmgunagbqpnqex'\n",
      "\n",
      "(Passed!)\n"
     ]
    }
   ],
   "source": [
    "# `strcat_list_test`: Test cell\n",
    "n = 3\n",
    "nL = 6\n",
    "\n",
    "L = [random_string(n) for _ in range(nL)]\n",
    "print(L)\n",
    "\n",
    "Lc = strcat_list(L)\n",
    "print (Lc)\n",
    "\n",
    "print('L == {}'.format(L))\n",
    "print('strcat_list(L) == \\'{}\\''.format(Lc))\n",
    "\n",
    "assert all([Lc[i*n:(i+1)*n] == L[nL-i-1] for i, x in zip(range(nL), L)])\n",
    "print(\"\\n(Passed!)\")"
   ]
  },
  {
   "cell_type": "markdown",
   "metadata": {},
   "source": [
    "**Exercise 4** (`floor_fraction_test`: 1 point). Suppose you are given two variables, `a` and `b`, whose values are the real numbers, $a \\geq 0$ (non-negative) and $b > 0$ (positive). Complete the function, `floor_fraction(a, b)` so that it returns $\\left\\lfloor\\frac{a}{b}\\right\\rfloor$, that is, the *floor* of $\\frac{a}{b}$. The *type* of the returned value must be `int` (an integer)."
   ]
  },
  {
   "cell_type": "code",
   "execution_count": 13,
   "metadata": {},
   "outputs": [],
   "source": [
    "def is_number(x):\n",
    "    \"\"\"Returns `True` if `x` is a number-like type, e.g., `int`, `float`, `Decimal()`, ...\"\"\"\n",
    "    from numbers import Number\n",
    "    return isinstance(x, Number)\n",
    "    \n",
    "def floor_fraction(a, b):\n",
    "    assert is_number(a) and a >= 0\n",
    "    assert is_number(b) and b > 0\n",
    "    #\n",
    "    return int(a/b)\n",
    "    #\n"
   ]
  },
  {
   "cell_type": "code",
   "execution_count": 14,
   "metadata": {},
   "outputs": [
    {
     "name": "stdout",
     "output_type": "stream",
     "text": [
      "floor_fraction(0.16567043417927274, 0.508551083964308) == floor(0.32576950360192347) == 0\n",
      "\n",
      "(Passed!)\n"
     ]
    }
   ],
   "source": [
    "# `floor_fraction_test`: Test cell\n",
    "from random import random\n",
    "a = random()\n",
    "b = random()\n",
    "c = floor_fraction(a, b)\n",
    "\n",
    "print('floor_fraction({}, {}) == floor({}) == {}'.format(a, b, a/b, c))\n",
    "assert b*c <= a <= b*(c+1)\n",
    "assert type(c) is int\n",
    "print('\\n(Passed!)')"
   ]
  },
  {
   "cell_type": "markdown",
   "metadata": {},
   "source": [
    "**Exercise 5** (`ceiling_fraction_test`: 1 point). Complete the function, `ceiling_fraction(a, b)`, which for any numeric inputs, `a` and `b`, corresponding to real numbers, $a \\geq 0$ and $b > 0$, returns $\\left\\lceil\\frac{a}{b}\\right\\rceil$, that is, the *ceiling* of $\\frac{a}{b}$. The type of the returned value must be `int`."
   ]
  },
  {
   "cell_type": "code",
   "execution_count": null,
   "metadata": {},
   "outputs": [],
   "source": [
    "def ceiling_fraction(a, b):\n",
    "    assert is_number(a) and a >= 0\n",
    "    assert is_number(b) and b > 0\n",
    "    #\n",
    "    # YOUR CODE HERE\n",
    "    #\n"
   ]
  }
 ],
 "metadata": {
  "kernelspec": {
   "display_name": "Python 3",
   "language": "python",
   "name": "python3"
  },
  "language_info": {
   "codemirror_mode": {
    "name": "ipython",
    "version": 3
   },
   "file_extension": ".py",
   "mimetype": "text/x-python",
   "name": "python",
   "nbconvert_exporter": "python",
   "pygments_lexer": "ipython3",
   "version": "3.6.5"
  }
 },
 "nbformat": 4,
 "nbformat_minor": 2
}
