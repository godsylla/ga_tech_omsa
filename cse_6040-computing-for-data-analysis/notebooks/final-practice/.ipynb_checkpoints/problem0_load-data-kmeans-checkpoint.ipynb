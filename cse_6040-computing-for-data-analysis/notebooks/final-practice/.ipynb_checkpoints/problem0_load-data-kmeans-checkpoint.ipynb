{
 "cells": [
  {
   "cell_type": "markdown",
   "metadata": {
    "collapsed": true
   },
   "source": [
    "# Problem 0\n",
    "\n",
    "Winter is coming (or rather, is here). So let's do some warm-up exercises to get you in the right mindset for the rest of the exam.\n",
    "\n",
    "This problem should be **easy**. Its purpose is to assess whether you can read and understand the Python documentation of some (likely unfamiliar) functionality and apply it.\n",
    "\n",
    "This problem has three (3) exercises (numbered 0-2) and is worth a total of ten (10) points."
   ]
  },
  {
   "cell_type": "markdown",
   "metadata": {},
   "source": [
    "## Setup\n",
    "\n",
    "This problem depends on the following modules. Make sure these are available on your system before beginning."
   ]
  },
  {
   "cell_type": "code",
   "execution_count": 1,
   "metadata": {
    "collapsed": true
   },
   "outputs": [],
   "source": [
    "import pandas as pd\n",
    "\n",
    "from IPython.display import display\n",
    "\n",
    "import seaborn as sns\n",
    "%matplotlib inline\n",
    "\n",
    "from scipy.cluster.vq import kmeans2\n",
    "\n",
    "# Utility function for later on\n",
    "def make_scatter_plot (df, x=\"x_1\", y=\"x_2\", hue=\"label\",\n",
    "                       palette={0: \"red\", 1: \"olive\", 2: \"blue\", 3: \"green\"},\n",
    "                       size=5,\n",
    "                       centers=None):\n",
    "    from seaborn import lmplot\n",
    "    from matplotlib.pyplot import scatter\n",
    "    if (hue is not None) and (hue in df.columns):\n",
    "        lmplot (x=x, y=y, hue=hue, data=df, palette=palette,\n",
    "                fit_reg=False)\n",
    "    else:\n",
    "        lmplot (x=x, y=y, data=df, fit_reg=False)\n",
    "\n",
    "    if centers is not None:\n",
    "        scatter (centers[:,0], centers[:,1],\n",
    "                 marker=u'*', s=500,\n",
    "                 c=[palette[0], palette[1]])\n",
    "\n",
    "import urllib\n",
    "import gzip"
   ]
  },
  {
   "cell_type": "markdown",
   "metadata": {},
   "source": [
    "## Download and unpack a compressed file\n",
    "\n",
    "**Exercise 0** (4 points). Write a function that\n",
    "\n",
    "- downloads a compressed gzip (`xxx.gz`) file from the interwebs, given its URL; and\n",
    "- returns a file-like handle to it.\n",
    "\n",
    "In particular, find and read the documentation for [`urllib.request.urlopen()`](https://docs.python.org/3/library/urllib.request.html) and [`gzip.open()`](https://docs.python.org/3/library/gzip.html), and use them to implement the desired function.\n",
    "\n",
    "> Note: `gzip.open()` accepts an optional argument named `mode`, which specifies how to interpret the contents of the data when decompressing it. The `url_open_gz()` function you implement should simply pass its `mode` argument onto `gzip.open()`.\n",
    "\n",
    "The test code will check your implementation and uses it to download a dataset, which you will need for the rest of this problem."
   ]
  },
  {
   "cell_type": "code",
   "execution_count": 2,
   "metadata": {
    "collapsed": true,
    "nbgrader": {
     "grade": false,
     "grade_id": "open_url_gz",
     "locked": false,
     "solution": true
    }
   },
   "outputs": [],
   "source": [
    "def open_url_gz (url_gz, mode='rt'):\n",
    "    \"\"\"\n",
    "    Given a URL to a compressed gzip (.gz) file, downloads it to a\n",
    "    temporary location, unpacks it, and returns a file-like handle\n",
    "    for reading its uncompressed contents.\n",
    "    \"\"\"\n",
    "    print (\"Downloading\", url_gz, \"...\")\n",
    "    \n",
    "    ###\n",
    "    opened = urllib.request.urlopen(url_gz)\n",
    "    return gzip.open(opened, mode=mode)\n",
    "    ###\n"
   ]
  },
  {
   "cell_type": "code",
   "execution_count": 3,
   "metadata": {
    "deletable": false,
    "editable": false,
    "nbgrader": {
     "grade": true,
     "grade_id": "open_url_gz_test",
     "locked": true,
     "points": 4,
     "solution": false
    }
   },
   "outputs": [
    {
     "name": "stdout",
     "output_type": "stream",
     "text": [
      "Downloading https://cse6040.gatech.edu/datasets/message_in_a_bottle.txt.gz ...\n",
      "\n",
      "Downloaded the message: 'Good luck, kiddos!'\n",
      "\n",
      "(Passed check 1 of 2!)\n",
      "\n",
      "Downloading http://cse6040.gatech.edu/datasets/faithful.dat.gz ...\n",
      "\n",
      "(Passed check 2 of 2!)\n"
     ]
    }
   ],
   "source": [
    "# Test code for Part 1-A\n",
    "\n",
    "# First, check a small message.\n",
    "url_msg_gz = 'https://cse6040.gatech.edu/datasets/message_in_a_bottle.txt.gz'\n",
    "with open_url_gz (url_msg_gz) as fp_msg:\n",
    "    line = fp_msg.readline ()\n",
    "    msg = line.strip ()\n",
    "    print (\"\\nDownloaded the message: '%s'\" % msg)\n",
    "    \n",
    "assert msg == 'Good luck, kiddos!'\n",
    "print (\"\\n(Passed check 1 of 2!)\\n\")\n",
    "\n",
    "# Next, use this function to download a dataset.\n",
    "url_data_gz = 'http://cse6040.gatech.edu/datasets/faithful.dat.gz'\n",
    "with open_url_gz (url_data_gz) as fp:\n",
    "    fp_local = open ('faithful.dat', 'wt')\n",
    "    fp_local.write (fp.read ())\n",
    "    fp_local.close ()\n",
    "with open ('faithful.dat', 'rt') as fp_faithful:\n",
    "    assert fp_faithful.readline () == 'Old Faithful Geyser Data\\n'\n",
    "\n",
    "print (\"\\n(Passed check 2 of 2!)\")"
   ]
  },
  {
   "cell_type": "markdown",
   "metadata": {},
   "source": [
    "## Load the \"Old Faithful\" dataset\n",
    "\n",
    "The test code above, assuming you implemented `open_url_gz()` correctly, should have downloaded and unpacked a file in the local directory called `faithful.dat`.\n",
    "\n",
    "If you did not manage to get a working implementation that does that, then manually download a copy of this file now from here: http://www.stat.cmu.edu/~larry/all-of-statistics/=data/faithful.dat\n",
    "\n",
    "(In either case, you should probably click on the above URL to see what is in the file, as you'll be working with this data.)\n",
    "\n",
    "This particular dataset comes from a study of the [Old Faithful geyser](https://en.wikipedia.org/wiki/Old_Faithful) in Yellowstone National Park. Amazingly, this geyser erupts very regularly, hence the name! The dataset contains a bunch of observations, where each observation consists of a) the duration of an eruption (in minutes), and b) the time until the next eruption (again in minutes)."
   ]
  },
  {
   "cell_type": "markdown",
   "metadata": {},
   "source": [
    "**Exercise 1** (2 points). Use the Pandas function, [`pd.read_table()`](http://pandas.pydata.org/pandas-docs/version/0.18.1/generated/pandas.read_table.html), to read this dataset from `faithful.dat` and store it in a data frame with two columns, one named `eruptions` and one named `waiting`.\n",
    "\n",
    "> Hint: There is a one-line solution, which requires only that you set the right arguments to `pd.read_table()`."
   ]
  },
  {
   "cell_type": "code",
   "execution_count": 4,
   "metadata": {
    "nbgrader": {
     "grade": false,
     "grade_id": "load_old_faithful",
     "locked": false,
     "solution": true
    }
   },
   "outputs": [
    {
     "data": {
      "text/html": [
       "<div>\n",
       "<style scoped>\n",
       "    .dataframe tbody tr th:only-of-type {\n",
       "        vertical-align: middle;\n",
       "    }\n",
       "\n",
       "    .dataframe tbody tr th {\n",
       "        vertical-align: top;\n",
       "    }\n",
       "\n",
       "    .dataframe thead th {\n",
       "        text-align: right;\n",
       "    }\n",
       "</style>\n",
       "<table border=\"1\" class=\"dataframe\">\n",
       "  <thead>\n",
       "    <tr style=\"text-align: right;\">\n",
       "      <th></th>\n",
       "      <th>eruptions</th>\n",
       "      <th>waiting</th>\n",
       "    </tr>\n",
       "  </thead>\n",
       "  <tbody>\n",
       "    <tr>\n",
       "      <th>1</th>\n",
       "      <td>3.600</td>\n",
       "      <td>79</td>\n",
       "    </tr>\n",
       "    <tr>\n",
       "      <th>2</th>\n",
       "      <td>1.800</td>\n",
       "      <td>54</td>\n",
       "    </tr>\n",
       "    <tr>\n",
       "      <th>3</th>\n",
       "      <td>3.333</td>\n",
       "      <td>74</td>\n",
       "    </tr>\n",
       "    <tr>\n",
       "      <th>4</th>\n",
       "      <td>2.283</td>\n",
       "      <td>62</td>\n",
       "    </tr>\n",
       "    <tr>\n",
       "      <th>5</th>\n",
       "      <td>4.533</td>\n",
       "      <td>85</td>\n",
       "    </tr>\n",
       "  </tbody>\n",
       "</table>\n",
       "</div>"
      ],
      "text/plain": [
       "   eruptions  waiting\n",
       "1      3.600       79\n",
       "2      1.800       54\n",
       "3      3.333       74\n",
       "4      2.283       62\n",
       "5      4.533       85"
      ]
     },
     "metadata": {},
     "output_type": "display_data"
    },
    {
     "name": "stdout",
     "output_type": "stream",
     "text": [
      "...\n"
     ]
    },
    {
     "data": {
      "text/html": [
       "<div>\n",
       "<style scoped>\n",
       "    .dataframe tbody tr th:only-of-type {\n",
       "        vertical-align: middle;\n",
       "    }\n",
       "\n",
       "    .dataframe tbody tr th {\n",
       "        vertical-align: top;\n",
       "    }\n",
       "\n",
       "    .dataframe thead th {\n",
       "        text-align: right;\n",
       "    }\n",
       "</style>\n",
       "<table border=\"1\" class=\"dataframe\">\n",
       "  <thead>\n",
       "    <tr style=\"text-align: right;\">\n",
       "      <th></th>\n",
       "      <th>eruptions</th>\n",
       "      <th>waiting</th>\n",
       "    </tr>\n",
       "  </thead>\n",
       "  <tbody>\n",
       "    <tr>\n",
       "      <th>268</th>\n",
       "      <td>4.117</td>\n",
       "      <td>81</td>\n",
       "    </tr>\n",
       "    <tr>\n",
       "      <th>269</th>\n",
       "      <td>2.150</td>\n",
       "      <td>46</td>\n",
       "    </tr>\n",
       "    <tr>\n",
       "      <th>270</th>\n",
       "      <td>4.417</td>\n",
       "      <td>90</td>\n",
       "    </tr>\n",
       "    <tr>\n",
       "      <th>271</th>\n",
       "      <td>1.817</td>\n",
       "      <td>46</td>\n",
       "    </tr>\n",
       "    <tr>\n",
       "      <th>272</th>\n",
       "      <td>4.467</td>\n",
       "      <td>74</td>\n",
       "    </tr>\n",
       "  </tbody>\n",
       "</table>\n",
       "</div>"
      ],
      "text/plain": [
       "     eruptions  waiting\n",
       "268      4.117       81\n",
       "269      2.150       46\n",
       "270      4.417       90\n",
       "271      1.817       46\n",
       "272      4.467       74"
      ]
     },
     "metadata": {},
     "output_type": "display_data"
    }
   ],
   "source": [
    "###\n",
    "faithful = pd.read_table('faithful.dat',\n",
    "                         sep='\\s+',\n",
    "                         skiprows=26,\n",
    "                         names=['eruptions', 'waiting'])\n",
    "###\n",
    "# Quickly inspect this data\n",
    "display (faithful.head ())\n",
    "print (\"...\")\n",
    "display (faithful.tail ())"
   ]
  },
  {
   "cell_type": "code",
   "execution_count": 5,
   "metadata": {
    "deletable": false,
    "editable": false,
    "nbgrader": {
     "grade": true,
     "grade_id": "load_old_faithful_test",
     "locked": true,
     "points": 3,
     "solution": false
    }
   },
   "outputs": [
    {
     "name": "stdout",
     "output_type": "stream",
     "text": [
      "\n",
      "(Passed!)\n"
     ]
    },
    {
     "data": {
      "image/png": "[encoded data removed]",
      "text/plain": [
       "<matplotlib.figure.Figure at 0x7feb7acebdd8>"
      ]
     },
     "metadata": {},
     "output_type": "display_data"
    }
   ],
   "source": [
    "# Test code\n",
    "\n",
    "make_scatter_plot (faithful, x='eruptions', y='waiting', hue=None)\n",
    "\n",
    "# Sanity check a few values\n",
    "assert set (faithful.columns) == set (['eruptions', 'waiting'])\n",
    "assert sum (faithful['waiting'] == 54) == 9\n",
    "assert sum (faithful['waiting'] == 90) == 6\n",
    "print (\"\\n(Passed!)\")"
   ]
  },
  {
   "cell_type": "markdown",
   "metadata": {},
   "source": [
    "## Cluster this data\n",
    "\n",
    "**Exercise 2** (2 points). The plot of the data suggests that there is a relationship between how long an eruption lasts and the time between eruptions. Use Scipy's [`kmeans2()`](https://docs.scipy.org/doc/scipy-0.14.0/reference/generated/scipy.cluster.vq.kmeans2.html) to estimate this cluster structure, specifically by doing the following.\n",
    "\n",
    "- Assign each point of `faithful` an integer cluster label that is either 0 or 1. Store these labels in a new column of the data frame named `label`.\n",
    "- Compute the centers of the two clusters, storing them in a $2 \\times 2$ Numpy array named `centers`, where each row `centers[i, :]` is a center whose columns contain its coordinates."
   ]
  },
  {
   "cell_type": "code",
   "execution_count": 6,
   "metadata": {
    "collapsed": true
   },
   "outputs": [],
   "source": [
    "from scipy.cluster.vq import kmeans2"
   ]
  },
  {
   "cell_type": "code",
   "execution_count": 7,
   "metadata": {
    "nbgrader": {
     "grade": false,
     "grade_id": "kmeans2",
     "locked": false,
     "solution": true
    }
   },
   "outputs": [
    {
     "name": "stdout",
     "output_type": "stream",
     "text": [
      "\n",
      "=== Clusters ===\n",
      "- Cluster 0: 172 points centered at [ 4.29793023 80.28488372]\n",
      "- Cluster 1: 100 points centered at [ 2.09433 54.75   ]\n"
     ]
    },
    {
     "data": {
      "image/png": "[encoded data removed]",
      "text/plain": [
       "<matplotlib.figure.Figure at 0x7feb78c359b0>"
      ]
     },
     "metadata": {},
     "output_type": "display_data"
    }
   ],
   "source": [
    "###\n",
    "centers, labels = kmeans2(faithful, k=2)\n",
    "assert len(labels) == len(faithful)\n",
    "\n",
    "faithful['label'] = labels\n",
    "###\n",
    "\n",
    "num_clusters = 2\n",
    "class_sizes = [sum (labels==c) for c in range (num_clusters)]\n",
    "print (\"\\n=== Clusters ===\")\n",
    "for c in range (num_clusters):\n",
    "    print (\"- Cluster {}: {} points centered at {}\".format (c,\n",
    "                                                            class_sizes[c],\n",
    "                                                            centers[c, :2]))\n",
    "\n",
    "make_scatter_plot (faithful, x='eruptions', y='waiting', centers=centers)"
   ]
  },
  {
   "cell_type": "code",
   "execution_count": 8,
   "metadata": {
    "deletable": false,
    "editable": false,
    "nbgrader": {
     "grade": true,
     "grade_id": "kmeans2_test",
     "locked": true,
     "points": 3,
     "solution": false
    }
   },
   "outputs": [
    {
     "name": "stdout",
     "output_type": "stream",
     "text": [
      "\n",
      "(Passed!)\n"
     ]
    }
   ],
   "source": [
    "assert 90 <= min (class_sizes) <= max (class_sizes) <= 180\n",
    "print (\"\\n(Passed!)\")"
   ]
  },
  {
   "cell_type": "markdown",
   "metadata": {},
   "source": [
    "**Fin!** If you've reached this point and all tests above pass, you are ready to submit your solution to this problem. Don't forget to save you work prior to submitting."
   ]
  }
 ],
 "metadata": {
  "celltoolbar": "Create Assignment",
  "kernelspec": {
   "display_name": "Python 3.6 [deprecated]",
   "language": "python",
   "name": "python36"
  },
  "language_info": {
   "codemirror_mode": {
    "name": "ipython",
    "version": 3
   },
   "file_extension": ".py",
   "mimetype": "text/x-python",
   "name": "python",
   "nbconvert_exporter": "python",
   "pygments_lexer": "ipython3",
   "version": "3.6.4"
  }
 },
 "nbformat": 4,
 "nbformat_minor": 1
}
