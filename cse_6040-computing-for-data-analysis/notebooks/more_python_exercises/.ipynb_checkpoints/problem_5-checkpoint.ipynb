{
 "cells": [
  {
   "cell_type": "markdown",
   "metadata": {},
   "source": [
    "# Problem 5\n",
    "\n",
    "### Pair counts\n",
    "This problem consists of a single exercise worth ten (10) points."
   ]
  },
  {
   "cell_type": "markdown",
   "metadata": {},
   "source": [
    "**Exercise 0** (10 points). Given a list of integers, find the number of pairs that are consecutive.\n",
    "\n",
    "For example, given the list, `[1, 2, 5, 8]`:\n",
    "- the pairs that can be formed from the given list are `(1, 2)`, `(1, 5)`, `(1, 8)`, `(2, 5)`, `(2, 8)`, `(5, 8)`;\n",
    "- the only pair that has consecutive integers is `(1, 2)` and hence the value to be returned is one (1).\n",
    "\n",
    "If elements in the list are repeated, they should be treated as members of a distinct pair. For instance, if the list were `[1, 1, 1, 2, 2, 5, 8, 8]`, then there are three ways to choose `1` and two ways to choose `2`, or a total of $3\\times 2=6$ ways to choose the pair `(1, 2)`, so that the answer would in this case be 6.\n",
    "\n",
    "The first test case below tests for the correctness of the solution whereas the second one tests for the efficiency of the solution. That is, it should not take too long for the second case to pass! (To get \"full credit,\" try to find a method that takes less than two (2) seconds on the test input of the second test.)\n",
    "\n",
    "> _Application note._ Although this might seem like a toy problem to solve, its application forms the basis of _pattern recognition_. For example, suppose you are trying to discover the buying pattern of products in a supermarket and want to figure out if placing two products next to each other impact each others' sales. (Does placing milk next to cereal drive both their sales upwards? Or if placing Muesli next to Cereal will lead to additional Muesli sales, since people who buy cereal would anyway buy Milk even if it is in the other corner of the store?)\n",
    ">\n",
    "> In mapping that concrete placement problem into this abstract analysis problem, you can think of the list of numbers as the shelf numbers of products in a receipt, and you are trying to find out the number of cases where the products were in adjacent shelves. "
   ]
  },
  {
   "cell_type": "code",
   "execution_count": 1,
   "metadata": {},
   "outputs": [],
   "source": [
    "import numpy as np\n",
    "import CPSol as cp\n",
    "\n",
    "from itertools import combinations\n",
    "from collections import Counter\n",
    "from pprint import pprint"
   ]
  },
  {
   "cell_type": "code",
   "execution_count": 2,
   "metadata": {},
   "outputs": [],
   "source": [
    "L = [1, 1, 1, 2, 2, 5, 8, 8]\n",
    "L1=[1,2,3,4,5,6,7,8,9]\n",
    "L2=[1,1,1,2,2,3,4,10] # answer is 9\n",
    "L3=[1,4,7,9]\n",
    "L4=[]"
   ]
  },
  {
   "cell_type": "code",
   "execution_count": 3,
   "metadata": {},
   "outputs": [],
   "source": [
    "def count_pairs(L):\n",
    "    assert type(L)==list\n",
    "    \n",
    "    d_to_ch = Counter(L)\n",
    "\n",
    "    count = 0\n",
    "    for k in d_to_ch:\n",
    "        if k+1 in d_to_ch.keys():\n",
    "            count += d_to_ch[k] * d_to_ch[k+1]\n",
    "    \n",
    "    return count   "
   ]
  },
  {
   "cell_type": "code",
   "execution_count": 4,
   "metadata": {
    "scrolled": true
   },
   "outputs": [
    {
     "data": {
      "text/plain": [
       "6"
      ]
     },
     "metadata": {},
     "output_type": "display_data"
    },
    {
     "data": {
      "text/plain": [
       "8"
      ]
     },
     "metadata": {},
     "output_type": "display_data"
    },
    {
     "data": {
      "text/plain": [
       "9"
      ]
     },
     "metadata": {},
     "output_type": "display_data"
    },
    {
     "data": {
      "text/plain": [
       "0"
      ]
     },
     "metadata": {},
     "output_type": "display_data"
    },
    {
     "data": {
      "text/plain": [
       "0"
      ]
     },
     "metadata": {},
     "output_type": "display_data"
    }
   ],
   "source": [
    "display(count_pairs(L))\n",
    "display(count_pairs(L1))\n",
    "display(count_pairs(L2))\n",
    "display(count_pairs(L3))\n",
    "display(count_pairs(L4))"
   ]
  },
  {
   "cell_type": "code",
   "execution_count": 5,
   "metadata": {},
   "outputs": [
    {
     "name": "stdout",
     "output_type": "stream",
     "text": [
      "\n",
      "(Passed!)\n"
     ]
    }
   ],
   "source": [
    "# Test cell: Test_Code1\n",
    "\n",
    "def test_code1():\n",
    "    L1=[1,2,3,4,5,6,7,8,9]\n",
    "    L2=[1,1,1,2,2,3,4,10]\n",
    "    L3=[1,4,7,9]\n",
    "    L4=[]\n",
    "    assert count_pairs(L1)==8, \"Test Case L1 failed\"\n",
    "    assert count_pairs(L2)==9, \"Test Case L2 failed\"\n",
    "    assert count_pairs(L3)==0, \"Test Case L3 failed\"\n",
    "    assert count_pairs(L4)==0, \"Test Case L4 failed\"\n",
    "    \n",
    "    print(\"\\n(Passed!)\")\n",
    "    \n",
    "test_code1()"
   ]
  },
  {
   "cell_type": "code",
   "execution_count": 6,
   "metadata": {},
   "outputs": [
    {
     "name": "stdout",
     "output_type": "stream",
     "text": [
      "Checking correctness on a large, random list...\n",
      "(Passed correctness check!)\n",
      "\n",
      "Checking speed...\n",
      "1.15 ms ± 17.3 µs per loop (mean ± std. dev. of 7 runs, 1000 loops each)\n",
      "(Passed timing check!)\n"
     ]
    }
   ],
   "source": [
    "# Test cell: Test_Code2\n",
    "\n",
    "# This test case will test the efficieny of your solution. If it takes too long (>2 min) to run the code,\n",
    "# please try improving your method.\n",
    "\n",
    "import numpy as np\n",
    "biglist = list(np.random.choice(100, 5000, replace=True))\n",
    "\n",
    "print(\"Checking correctness on a large, random list...\")\n",
    "result1 = cp.count_pairs_soln(biglist)\n",
    "result2 = count_pairs(biglist)\n",
    "assert result1 == result2\n",
    "print(\"(Passed correctness check!)\")\n",
    "    \n",
    "print(\"\\nChecking speed...\")\n",
    "timing = %timeit -o count_pairs(biglist)\n",
    "assert timing.average < 2.0\n",
    "print(\"(Passed timing check!)\")"
   ]
  },
  {
   "cell_type": "markdown",
   "metadata": {},
   "source": [
    "**Fin!** You've reached the end of this problem. Don't forget to restart the\n",
    "kernel and run the entire notebook from top-to-bottom to make sure you did\n",
    "everything correctly. If that is working, try submitting this problem. (Recall\n",
    "that you *must* submit and pass the autograder to get credit for your work!)"
   ]
  }
 ],
 "metadata": {
  "kernelspec": {
   "display_name": "Python 3",
   "language": "python",
   "name": "python3"
  },
  "language_info": {
   "codemirror_mode": {
    "name": "ipython",
    "version": 3
   },
   "file_extension": ".py",
   "mimetype": "text/x-python",
   "name": "python",
   "nbconvert_exporter": "python",
   "pygments_lexer": "ipython3",
   "version": "3.6.3"
  }
 },
 "nbformat": 4,
 "nbformat_minor": 2
}
