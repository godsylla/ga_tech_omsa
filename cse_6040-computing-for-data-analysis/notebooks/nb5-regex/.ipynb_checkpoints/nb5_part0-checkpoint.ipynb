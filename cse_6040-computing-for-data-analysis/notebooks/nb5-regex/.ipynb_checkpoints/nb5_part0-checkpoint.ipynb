{
 "cells": [
  {
   "cell_type": "markdown",
   "metadata": {
    "nbgrader": {
     "grade": false,
     "grade_id": "cell-68fd8fe196863861",
     "locked": true,
     "schema_version": 1,
     "solution": false
    }
   },
   "source": [
    "# Part 0 of 2: Simple string processing review\n",
    "\n",
    "This notebook accompanies the videos for Topic 5: Preprocessing unstructured text."
   ]
  },
  {
   "cell_type": "code",
   "execution_count": 1,
   "metadata": {},
   "outputs": [],
   "source": [
    "text = \"sgtEEEr2020.0\""
   ]
  },
  {
   "cell_type": "code",
   "execution_count": 2,
   "metadata": {},
   "outputs": [
    {
     "name": "stdout",
     "output_type": "stream",
     "text": [
      "1. False\n",
      "2. [True, True, True, True, True, True, True, False, False, False, False, False, False]\n"
     ]
    }
   ],
   "source": [
    "# Strings have methods for checking \"global\" string properties\n",
    "print(\"1.\", text.isalpha())\n",
    "\n",
    "# These can also be applied per character\n",
    "print(\"2.\", [c.isalpha() for c in text])"
   ]
  },
  {
   "cell_type": "code",
   "execution_count": 3,
   "metadata": {},
   "outputs": [
    {
     "name": "stdout",
     "output_type": "stream",
     "text": [
      "BELOW: (global) -> (per character)\n",
      "False --> [False, False, False, False, False, False, False, True, True, True, True, False, True]\n",
      "False --> [False, False, False, False, False, False, False, False, False, False, False, False, False]\n",
      "False --> [True, True, True, False, False, False, True, False, False, False, False, False, False]\n",
      "False --> [False, False, False, True, True, True, False, False, False, False, False, False, False]\n",
      "False --> [False, False, False, False, False, False, False, True, True, True, True, False, True]\n"
     ]
    }
   ],
   "source": [
    "# Here are a bunch of additional useful methods\n",
    "print(\"BELOW: (global) -> (per character)\")\n",
    "print(text.isdigit(), \"-->\", [c.isdigit() for c in text])\n",
    "print(text.isspace(), \"-->\", [c.isspace() for c in text])\n",
    "print(text.islower(), \"-->\", [c.islower() for c in text])\n",
    "print(text.isupper(), \"-->\", [c.isupper() for c in text])\n",
    "print(text.isnumeric(), \"-->\", [c.isnumeric() for c in text])"
   ]
  },
  {
   "cell_type": "markdown",
   "metadata": {
    "nbgrader": {
     "grade": false,
     "grade_id": "cell-0a99319dc0dd5f6c",
     "locked": true,
     "schema_version": 1,
     "solution": false
    }
   },
   "source": [
    "**Exercise 0** (1 point). Create a new function that checks whether a given input string is a properly formatted social security number, i.e., has the pattern, `XXX-XX-XXXX`, _including_ the separator dashes, where each `X` is a digit. It should return `True` if so or `False` otherwise."
   ]
  },
  {
   "cell_type": "code",
   "execution_count": 4,
   "metadata": {
    "nbgrader": {
     "grade": false,
     "grade_id": "is_ssn",
     "locked": false,
     "schema_version": 1,
     "solution": true
    }
   },
   "outputs": [],
   "source": [
    "def is_ssn(s):\n",
    "    #\n",
    "    conditions = [len(s) == 11, s[:3].isdigit(), s[3] == '-', s[4:6].isdigit(), s[6] == '-', s[7:].isdigit()]\n",
    "    return all(conditions)\n",
    "    #"
   ]
  },
  {
   "cell_type": "code",
   "execution_count": 5,
   "metadata": {
    "nbgrader": {
     "grade": true,
     "grade_id": "is_ssn_test",
     "locked": true,
     "points": 1,
     "schema_version": 1,
     "solution": false
    }
   },
   "outputs": [
    {
     "name": "stdout",
     "output_type": "stream",
     "text": [
      "\n",
      "(Passed!)\n"
     ]
    }
   ],
   "source": [
    "# Test cell: `is_snn_test`\n",
    "assert is_ssn('832-38-1847')\n",
    "assert not is_ssn('832 -38 -  1847')\n",
    "assert not is_ssn('832-bc-3847')\n",
    "assert not is_ssn('832381847')\n",
    "assert not is_ssn('8323-8-1847')\n",
    "assert not is_ssn('abc-de-ghij')\n",
    "print(\"\\n(Passed!)\")"
   ]
  },
  {
   "cell_type": "markdown",
   "metadata": {},
   "source": [
    "# Regular expressions\n",
    "\n",
    "Exercise 0 hints at the general problem of finding patterns in text. A handy tool for this problem is Python's [regular expression module](https://docs.python.org/3/howto/regex.html).\n",
    "\n",
    "A _regular expression_ is specially formatted pattern, written as a string. Matching patterns with regular expressions has 3 steps:\n",
    "\n",
    "1. You come up with a pattern to find.\n",
    "2. You compile it into a _pattern object_.\n",
    "3. You apply the pattern object to a string, to find _matches_, i.e., instances of the pattern within the string.\n",
    "\n",
    "> What follows is just a small sample of what is possible with regular expressions in Python; refer to the [regular expression documentation](https://docs.python.org/3/howto/regex.html) for many more examples and details."
   ]
  },
  {
   "cell_type": "code",
   "execution_count": 6,
   "metadata": {},
   "outputs": [],
   "source": [
    "import re"
   ]
  },
  {
   "cell_type": "markdown",
   "metadata": {
    "nbgrader": {
     "grade": false,
     "grade_id": "cell-c953dd7aa8b5f9a5",
     "locked": true,
     "schema_version": 1,
     "solution": false
    }
   },
   "source": [
    "## Basics\n",
    "\n",
    "Let's see how this scheme works for the simplest case, in which the pattern is an exact substring."
   ]
  },
  {
   "cell_type": "code",
   "execution_count": 7,
   "metadata": {},
   "outputs": [
    {
     "name": "stdout",
     "output_type": "stream",
     "text": [
      "<_sre.SRE_Match object; span=(16, 19), match='fox'>\n"
     ]
    }
   ],
   "source": [
    "pattern = 'fox'\n",
    "pattern_matcher = re.compile(pattern)\n",
    "\n",
    "input = 'The quick brown fox jumps over the lazy dog'\n",
    "matches = pattern_matcher.search(input)\n",
    "print(matches)"
   ]
  },
  {
   "cell_type": "markdown",
   "metadata": {},
   "source": [
    "You can also query matches for more information."
   ]
  },
  {
   "cell_type": "code",
   "execution_count": 8,
   "metadata": {
    "scrolled": true
   },
   "outputs": [
    {
     "name": "stdout",
     "output_type": "stream",
     "text": [
      "fox\n",
      "16\n",
      "19\n",
      "(16, 19)\n"
     ]
    }
   ],
   "source": [
    "print(matches.group())\n",
    "print(matches.start())\n",
    "print(matches.end())\n",
    "print(matches.span())"
   ]
  },
  {
   "cell_type": "markdown",
   "metadata": {},
   "source": [
    "**Module-level searching.** For infrequently used patterns, you can also skip creating the pattern object and just call the module-level search function, `re.search()`."
   ]
  },
  {
   "cell_type": "code",
   "execution_count": 9,
   "metadata": {},
   "outputs": [
    {
     "name": "stdout",
     "output_type": "stream",
     "text": [
      "Found jump @ (20, 24)\n"
     ]
    }
   ],
   "source": [
    "matches_2 = re.search ('jump', input)\n",
    "assert matches_2 is not None\n",
    "print (\"Found\", matches_2.group (), \"@\", matches_2.span ())"
   ]
  },
  {
   "cell_type": "markdown",
   "metadata": {},
   "source": [
    "**Other Search Methods**\n",
    "1. match() - \tDetermine if the RE matches at the beginning of the string.\n",
    "2. search() - \tScan through a string, looking for any location where this RE matches.\n",
    "3. findall() - \tFind all substrings where the RE matches, and returns them as a list.\n",
    "4. finditer() -\tFind all substrings where the RE matches, and returns them as an iterator."
   ]
  },
  {
   "cell_type": "markdown",
   "metadata": {},
   "source": [
    "**Creating pattern groups** "
   ]
  },
  {
   "cell_type": "code",
   "execution_count": 10,
   "metadata": {},
   "outputs": [
    {
     "name": "stdout",
     "output_type": "stream",
     "text": [
      "('Rich', None, 'Vuduc')\n",
      "('Rich', 'S ', 'Vuduc')\n",
      "('Rich', 'Salamander ', 'Vuduc')\n"
     ]
    }
   ],
   "source": [
    "# Make the expression more readable with a re.VERBOSE pattern\n",
    "re_names2 = re.compile ('''^              # Beginning of string\n",
    "                           ([a-zA-Z]+)    # First name\n",
    "                           \\s+            # At least one space\n",
    "                           ([a-zA-Z]+\\s)? # Optional middle name\n",
    "                           ([a-zA-Z]+)    # Last name\n",
    "                           $              # End of string\n",
    "                        ''',\n",
    "                        re.VERBOSE)\n",
    "print (re_names2.match ('Rich Vuduc').groups ())\n",
    "print (re_names2.match ('Rich S Vuduc').groups ())\n",
    "print (re_names2.match ('Rich Salamander Vuduc').groups ())"
   ]
  },
  {
   "cell_type": "markdown",
   "metadata": {},
   "source": [
    "For more details on the re.VERBOSE pattern, see [here.](https://docs.python.org/2/library/re.html#re.VERBOSE)"
   ]
  },
  {
   "cell_type": "markdown",
   "metadata": {},
   "source": [
    "**Tagging pattern groups**"
   ]
  },
  {
   "cell_type": "code",
   "execution_count": 11,
   "metadata": {},
   "outputs": [
    {
     "name": "stdout",
     "output_type": "stream",
     "text": [
      "Rich\n",
      "S \n",
      "Vuduc\n"
     ]
    }
   ],
   "source": [
    "# Named groups\n",
    "re_names3 = re.compile ('''^\n",
    "                           (?P<first>[a-zA-Z]+)\n",
    "                           \\s\n",
    "                           (?P<middle>[a-zA-Z]+\\s)?\n",
    "                           \\s*\n",
    "                           (?P<last>[a-zA-Z]+)\n",
    "                           $\n",
    "                        ''',\n",
    "                        re.VERBOSE)\n",
    "print (re_names3.match ('Rich Vuduc').group ('first'))\n",
    "print (re_names3.match ('Rich S Vuduc').group ('middle'))\n",
    "print (re_names3.match ('Rich Salamander Vuduc').group ('last'))"
   ]
  },
  {
   "cell_type": "markdown",
   "metadata": {},
   "source": [
    "**A regular expression debugger.** There are several online tools to help you write and debug your regular expressions. See, for instance, [pythex](https://pythex.org/), [regexr](https://regexr.com/), or [regex101](https://regex101.com/)."
   ]
  },
  {
   "cell_type": "markdown",
   "metadata": {},
   "source": [
    "## Email addresses\n",
    "\n",
    "In the next exercise, you'll apply what you've learned about regular expressions to build a pattern matcher for email addresses.\n",
    "\n",
    "Although there is a [formal specification of what constitutes a valid email address](https://tools.ietf.org/html/rfc5322#section-3.4.1), for this exercise, let's use the following simplified rules.\n",
    "\n",
    "* We will restrict our attention to ASCII addresses and ignore Unicode. If you don't know what that means, don't worry about it---you shouldn't need to do anything special given our code templates, below.\n",
    "* An email address has two parts, the username and the domain name. These are separated by an `@` character.\n",
    "* A username **must begin with an alphabetic** character. It may be followed by any number of additional _alphanumeric_ characters or any of the following special characters: `.` (period), `-` (hyphen), `_` (underscore), or `+` (plus).\n",
    "* A domain name **must end with an alphabetic** character. It may consist of any of the following characters: alphanumeric characters, `.` (period), `-` (hyphen), or `_` (underscore).\n",
    "* Alphabetic characters may be uppercase or lowercase.\n",
    "* No whitespace characters are allowed.\n",
    "\n",
    "Valid domain names usually have additional restrictions, e.g., there are a limited number of endings, such as `.com`, `.edu`, and so on. However, for this exercise you may ignore this fact."
   ]
  },
  {
   "cell_type": "markdown",
   "metadata": {
    "nbgrader": {
     "grade": false,
     "grade_id": "cell-bccd5fe8a605f83c",
     "locked": true,
     "schema_version": 1,
     "solution": false
    }
   },
   "source": [
    "**Exercise 1** (2 points). Write a function `parse_email` that, given an email address `s`, returns a tuple, `(user-id, domain)` corresponding to the user name and domain name.\n",
    "\n",
    "For instance, given `richie@cc.gatech.edu` it should return `(richie, cc.gatech.edu)`.\n",
    "\n",
    "Your function should parse the email only if it exactly matches the email specification. For example, if there are leading or trailing spaces, the function should *not* match those. See the test cases for examples.\n",
    "\n",
    "If the input is not a valid email address, the function should raise a `ValueError`.\n",
    "\n",
    "> The requirement, \"raise a `ValueError`\" refers to a technique for handling errors in a program known as _exception handling_. The Python documentation covers [exceptions](https://docs.python.org/3/tutorial/errors.html) in more detail, including [raising `ValueError` objects](https://docs.python.org/3/tutorial/errors.html#raising-exceptions)."
   ]
  },
  {
   "cell_type": "code",
   "execution_count": 12,
   "metadata": {},
   "outputs": [],
   "source": [
    "import string\n",
    "import numpy as np"
   ]
  },
  {
   "cell_type": "code",
   "execution_count": 13,
   "metadata": {},
   "outputs": [],
   "source": [
    "test_email = '   quiggy.smith38x@gmail.com'"
   ]
  },
  {
   "cell_type": "code",
   "execution_count": 14,
   "metadata": {
    "scrolled": true
   },
   "outputs": [
    {
     "data": {
      "text/plain": [
       "['   quiggy.smith38x', 'gmail.com']"
      ]
     },
     "execution_count": 14,
     "metadata": {},
     "output_type": "execute_result"
    }
   ],
   "source": [
    "un_dom_test = test_email.split('@')\n",
    "un_dom_test"
   ]
  },
  {
   "cell_type": "code",
   "execution_count": 15,
   "metadata": {},
   "outputs": [
    {
     "data": {
      "text/plain": [
       "'abcdefghijklmnopqrstuvwxyzABCDEFGHIJKLMNOPQRSTUVWXYZ0123456789_.-'"
      ]
     },
     "execution_count": 15,
     "metadata": {},
     "output_type": "execute_result"
    }
   ],
   "source": [
    "lettersnumschs = string.ascii_letters + string.digits + '_.-'\n",
    "lettersnumschs"
   ]
  },
  {
   "cell_type": "code",
   "execution_count": 16,
   "metadata": {},
   "outputs": [
    {
     "data": {
      "text/plain": [
       "18"
      ]
     },
     "execution_count": 16,
     "metadata": {},
     "output_type": "execute_result"
    }
   ],
   "source": [
    "len(un_dom_test[0])"
   ]
  },
  {
   "cell_type": "code",
   "execution_count": 17,
   "metadata": {
    "scrolled": false
   },
   "outputs": [
    {
     "data": {
      "text/plain": [
       "15"
      ]
     },
     "execution_count": 17,
     "metadata": {},
     "output_type": "execute_result"
    }
   ],
   "source": [
    "np.sum([ch in lettersnumschs for ch in un_dom_test[0]])"
   ]
  },
  {
   "cell_type": "code",
   "execution_count": 18,
   "metadata": {
    "nbgrader": {
     "grade": false,
     "grade_id": "parse_email",
     "locked": false,
     "schema_version": 1,
     "solution": true
    }
   },
   "outputs": [],
   "source": [
    "def parse_email (s):\n",
    "    \"\"\"Parses a string as an email address, returning an (id, domain) pair.\"\"\"\n",
    "    \n",
    "    try:\n",
    "        # split the string by the @ symbol\n",
    "        un_domain = s.split('@')\n",
    "        \n",
    "        # check on the criteria for a valid email\n",
    "        if s[0].isalpha() == False:\n",
    "            raise ValueError\n",
    "        \n",
    "        alphanumchs = string.ascii_letters + string.digits + '_.-'\n",
    "        if np.sum([ch in alphanumchs for ch in un_domain[0]]) != len(un_domain[0]):\n",
    "            raise ValueError\n",
    "        if np.sum([ch in alphanumchs for ch in un_domain[1]]) != len(un_domain[1]):\n",
    "            raise ValueError\n",
    "            \n",
    "        if s[-1].isalpha() == False:\n",
    "            raise ValueError\n",
    "        \n",
    "    except ValueError:\n",
    "        print('Not a valid email address')\n",
    "        raise\n",
    "        \n",
    "    return tuple(un_domain)\n",
    "    #"
   ]
  },
  {
   "cell_type": "code",
   "execution_count": 19,
   "metadata": {
    "nbgrader": {
     "grade": true,
     "grade_id": "parse_email_test",
     "locked": true,
     "points": 2,
     "schema_version": 1,
     "solution": false
    },
    "scrolled": true
   },
   "outputs": [
    {
     "name": "stdout",
     "output_type": "stream",
     "text": [
      "Testing valid email: 'richie@cc.gatech.edu'\n",
      "Testing valid email: 'bertha_hugely@sampson.edu'\n",
      "Testing valid email: 'JKRowling@Huge-Books.org'\n",
      "Testing invalid email: 'x @hpcgarage.org'\n",
      "Not a valid email address\n",
      "==> Correctly throws an exception!\n",
      "Testing invalid email: '   quiggy.smith38x@gmail.com'\n",
      "Not a valid email address\n",
      "==> Correctly throws an exception!\n",
      "Testing invalid email: 'richie@cc.gatech.edu  '\n",
      "Not a valid email address\n",
      "==> Correctly throws an exception!\n",
      "Testing invalid email: '4test@gmail.com'\n",
      "Not a valid email address\n",
      "==> Correctly throws an exception!\n",
      "Testing invalid email: 'richie@cc.gatech.edu7'\n",
      "Not a valid email address\n",
      "==> Correctly throws an exception!\n"
     ]
    }
   ],
   "source": [
    "# Test cell: `parse_email_test`\n",
    "\n",
    "def pass_case(u, d):\n",
    "    s = u + '@' + d\n",
    "    msg = \"Testing valid email: '{}'\".format(s)\n",
    "    print(msg)\n",
    "    assert parse_email(s) == (u, d), msg\n",
    "    \n",
    "pass_case('richie', 'cc.gatech.edu')\n",
    "pass_case('bertha_hugely', 'sampson.edu')\n",
    "pass_case('JKRowling', 'Huge-Books.org')\n",
    "\n",
    "def fail_case(s):\n",
    "    msg = \"Testing invalid email: '{}'\".format(s)\n",
    "    print(msg)\n",
    "    try:\n",
    "        parse_email(s)\n",
    "    except ValueError:\n",
    "        print(\"==> Correctly throws an exception!\")\n",
    "    else:\n",
    "        raise AssertionError(\"Should have, but did not, throw an exception!\")\n",
    "        \n",
    "fail_case('x @hpcgarage.org')\n",
    "fail_case('   quiggy.smith38x@gmail.com')\n",
    "fail_case('richie@cc.gatech.edu  ')\n",
    "fail_case('4test@gmail.com')\n",
    "fail_case('richie@cc.gatech.edu7')"
   ]
  },
  {
   "cell_type": "markdown",
   "metadata": {},
   "source": [
    "## Phone numbers"
   ]
  },
  {
   "cell_type": "markdown",
   "metadata": {
    "nbgrader": {
     "grade": false,
     "grade_id": "cell-a0c6c3084205c049",
     "locked": true,
     "schema_version": 1,
     "solution": false
    }
   },
   "source": [
    "**Exercise 2** (2 points). Write a function to parse US phone numbers written in the canonical \"(404) 555-1212\" format, \n",
    "- i.e., a three-digit area code enclosed in parentheses followed by a seven-digit local number in three-hyphen-four digit format.  \n",
    "- It should also **ignore** all leading and trailing spaces, as well as any spaces that appear between the area code and local numbers.  \n",
    "- However, it should **not** accept any spaces in the area code (e.g., in '(404)') nor should it in the seven-digit local number.\n",
    "\n",
    "\n",
    "**It should return a triple of strings, `(area_code, first_three, last_four)`.**\n",
    "\n",
    "If the input is not a valid phone number, it should raise a `ValueError`."
   ]
  },
  {
   "cell_type": "code",
   "execution_count": 20,
   "metadata": {},
   "outputs": [],
   "source": [
    "test_phone_1 = '(404) 555-1212'\n",
    "test_phone_2 = '(404) 5551212'\n",
    "test_phone_3 = '404-555-1212'\n",
    "test_phone_4 = '404-5551212'\n",
    "test_phone_5 = '404555-1212'\n",
    "test_phone_6 = '4045551212'\n",
    "test_phone_7 = \"404-121-2121\"\n",
    "test_phone_8 = '(404)555 -1212'\n",
    "test_phone_9 = \" ( 404)121-2121\"\n",
    "test_phone_10 = '(404)121-2121'"
   ]
  },
  {
   "cell_type": "code",
   "execution_count": 21,
   "metadata": {
    "nbgrader": {
     "grade": false,
     "grade_id": "parse_phone1",
     "locked": false,
     "schema_version": 1,
     "solution": true
    }
   },
   "outputs": [],
   "source": [
    "def parse_phone1 (s):\n",
    "    assert type(s) is str\n",
    "    \n",
    "    phone_pattern = re.compile('''^        # start the pattern\n",
    "                            (\\s+)?         # optional leading spaces\n",
    "                            (\\D\\d+\\D)      # area code\n",
    "                            (\\s+)?         # optional space\n",
    "                            (\\d+\\D\\d+)     # phone number separated by hyphen\n",
    "                            (\\s+)?         # optional trailing spaces\n",
    "                            $              # end the pattern\n",
    "                            ''', re.VERBOSE)\n",
    "    \n",
    "    convert_to_tup = []\n",
    "    try:\n",
    "        match = phone_pattern.match(s)\n",
    "        if match is None:\n",
    "            raise ValueError\n",
    "        else:\n",
    "            groups = match.groups()\n",
    "            assert len(groups) == 5, 'Match did not work correctly'\n",
    "\n",
    "            for i in range(len(groups)):\n",
    "                if groups[i] is None:\n",
    "                    pass\n",
    "                elif '(' in groups[i] or ')' in groups[i]:\n",
    "                    convert_to_tup.append(groups[i][1:-1])\n",
    "                elif len(groups[i]) == 8 :\n",
    "                    split_up = groups[i].split('-')\n",
    "\n",
    "                    convert_to_tup.extend(split_up)\n",
    "                else:\n",
    "                    pass\n",
    "\n",
    "        return tuple(convert_to_tup)\n",
    "    \n",
    "    except ValueError:\n",
    "        raise"
   ]
  },
  {
   "cell_type": "code",
   "execution_count": 22,
   "metadata": {
    "scrolled": true
   },
   "outputs": [
    {
     "data": {
      "text/plain": [
       "'(404)121-2121'"
      ]
     },
     "metadata": {},
     "output_type": "display_data"
    },
    {
     "data": {
      "text/plain": [
       "('404', '121', '2121')"
      ]
     },
     "execution_count": 22,
     "metadata": {},
     "output_type": "execute_result"
    }
   ],
   "source": [
    "display(test_phone_10)\n",
    "parse_phone1(test_phone_10)"
   ]
  },
  {
   "cell_type": "code",
   "execution_count": 23,
   "metadata": {
    "nbgrader": {
     "grade": true,
     "grade_id": "parse_phone1_test",
     "locked": true,
     "points": 2,
     "schema_version": 1,
     "solution": false
    }
   },
   "outputs": [
    {
     "name": "stdout",
     "output_type": "stream",
     "text": [
      "Should pass: '(404) 121-2121'\n",
      "Should pass: '(404)121-2121'\n",
      "Should pass: '    (180) 359-6715     '\n",
      "Should pass: ' (177) 238-9291     '\n",
      "Should pass: '    (148)     923-5045  '\n",
      "Should pass: ' (054)     239-8036   '\n",
      "Should pass: '   (876)     183-1777    '\n",
      "Should fail: '404-121-2121'\n",
      "==> Correctly throws an exception.\n",
      "Should fail: '(404)555 -1212'\n",
      "==> Correctly throws an exception.\n",
      "Should fail: ' ( 404)121-2121'\n",
      "==> Correctly throws an exception.\n",
      "Should fail: '(abc) def-ghij'\n",
      "==> Correctly throws an exception.\n"
     ]
    }
   ],
   "source": [
    "# Test cell: `parse_phone1_test`\n",
    "\n",
    "def rand_spaces(m=5):\n",
    "    from random import randint\n",
    "    return ' ' * randint(0, m)\n",
    "\n",
    "def asm_phone(a, l, r):\n",
    "    return rand_spaces() + '(' + a + ')' + rand_spaces() + l + '-' + r + rand_spaces()\n",
    "\n",
    "def gen_digits(k):\n",
    "    from random import choice # 3.5 compatible; 3.6 has `choices()`\n",
    "    DIGITS = '0123456789'\n",
    "    return ''.join([choice(DIGITS) for _ in range(k)])\n",
    "\n",
    "def pass_phone(p=None, a=None, l=None, r=None):\n",
    "    if p is None:\n",
    "        a = gen_digits(3)\n",
    "        l = gen_digits(3)\n",
    "        r = gen_digits(4)\n",
    "        p = asm_phone(a, l, r)\n",
    "    else:\n",
    "        assert a is not None and l is not None and r is not None, \"Need to supply sample solution.\"\n",
    "    msg = \"Should pass: '{}'\".format(p)\n",
    "    print(msg)\n",
    "    p_you = parse_phone1(p)\n",
    "    assert p_you == (a, l, r), \"Got {} instead of ('{}', '{}', '{}')\".format(p_you, a, l, r)\n",
    "    \n",
    "def fail_phone(s):\n",
    "    msg = \"Should fail: '{}'\".format(s)\n",
    "    print(msg)\n",
    "    try:\n",
    "        p_you = parse_phone1(s)\n",
    "    except ValueError:\n",
    "        print(\"==> Correctly throws an exception.\")\n",
    "    else:\n",
    "        raise AssertionError(\"Failed to throw a `ValueError` exception!\")\n",
    "\n",
    "\n",
    "# Cases that should definitely pass:\n",
    "pass_phone('(404) 121-2121', '404', '121', '2121')\n",
    "pass_phone('(404)121-2121', '404', '121', '2121')\n",
    "for _ in range(5):\n",
    "    pass_phone()\n",
    "    \n",
    "fail_phone(\"404-121-2121\")\n",
    "fail_phone('(404)555 -1212')\n",
    "fail_phone(\" ( 404)121-2121\")\n",
    "fail_phone(\"(abc) def-ghij\")"
   ]
  },
  {
   "cell_type": "markdown",
   "metadata": {
    "nbgrader": {
     "grade": false,
     "grade_id": "cell-92b8099165470979",
     "locked": true,
     "schema_version": 1,
     "solution": false
    }
   },
   "source": [
    "**Exercise 3** (3 points). Implement an enhanced phone number parser that can handle any of these patterns.\n",
    "\n",
    "* (404) 555-1212\n",
    "* (404) 5551212\n",
    "* 404-555-1212\n",
    "* 404-5551212\n",
    "* 404555-1212\n",
    "* 4045551212\n",
    "\n",
    "As before, it should not be sensitive to leading or trailing spaces. Also, for the patterns in which the area code is enclosed in parentheses, it should not be sensitive to the number of spaces separating the area code from the remainder of the number."
   ]
  },
  {
   "cell_type": "code",
   "execution_count": 24,
   "metadata": {},
   "outputs": [],
   "source": [
    " phone_pattern = re.compile('''^           # Begin pattern\n",
    "                        (\\d{3}\\D)?     # 0. area code format 1 404-\n",
    "                        (\\(\\d{3}\\))?   # 1. area code format 2 (404)\n",
    "                        (\\d{6}\\D)?     # 2. area code + first 3 combined 404555- \n",
    "                        (\\d{3}\\D)?     # 3. phone number 1st 3 digits 555-\n",
    "                        (\\d{4})?       # 4. phone number 2nd 4 digits 1212\n",
    "                        (\\d{7})?       # 5. phone number 1st 3 and last 4 5551212 combined\n",
    "                        (\\d{10})?      # 6. phone number all 10 4045551212\n",
    "                            $              # end the pattern\n",
    "                            ''', re.VERBOSE)"
   ]
  },
  {
   "cell_type": "code",
   "execution_count": 25,
   "metadata": {},
   "outputs": [],
   "source": [
    "test_phone = '404 555-3355'"
   ]
  },
  {
   "cell_type": "code",
   "execution_count": 26,
   "metadata": {
    "scrolled": true
   },
   "outputs": [
    {
     "data": {
      "text/plain": [
       "('404 ', None, None, '555-', '3355', None, None)"
      ]
     },
     "execution_count": 26,
     "metadata": {},
     "output_type": "execute_result"
    }
   ],
   "source": [
    "m = phone_pattern.match(test_phone)\n",
    "groups = m.groups()\n",
    "groups"
   ]
  },
  {
   "cell_type": "code",
   "execution_count": 27,
   "metadata": {},
   "outputs": [
    {
     "ename": "SyntaxError",
     "evalue": "unexpected EOF while parsing (<ipython-input-27-d89d91df6858>, line 2)",
     "output_type": "error",
     "traceback": [
      "\u001b[0;36m  File \u001b[0;32m\"<ipython-input-27-d89d91df6858>\"\u001b[0;36m, line \u001b[0;32m2\u001b[0m\n\u001b[0;31m    \u001b[0m\n\u001b[0m    ^\u001b[0m\n\u001b[0;31mSyntaxError\u001b[0m\u001b[0;31m:\u001b[0m unexpected EOF while parsing\n"
     ]
    }
   ],
   "source": [
    "for i in range(len(groups)):\n",
    "    "
   ]
  },
  {
   "cell_type": "code",
   "execution_count": 28,
   "metadata": {},
   "outputs": [
    {
     "data": {
      "text/plain": [
       "True"
      ]
     },
     "execution_count": 28,
     "metadata": {},
     "output_type": "execute_result"
    }
   ],
   "source": [
    "'  '.isspace()"
   ]
  },
  {
   "cell_type": "code",
   "execution_count": 29,
   "metadata": {},
   "outputs": [
    {
     "data": {
      "text/plain": [
       "True"
      ]
     },
     "execution_count": 29,
     "metadata": {},
     "output_type": "execute_result"
    }
   ],
   "source": [
    "' ' in m.groups()[0]"
   ]
  },
  {
   "cell_type": "code",
   "execution_count": 30,
   "metadata": {
    "nbgrader": {
     "grade": false,
     "grade_id": "parse_phone2",
     "locked": false,
     "schema_version": 1,
     "solution": true
    }
   },
   "outputs": [],
   "source": [
    "def parse_phone2 (s):\n",
    "    # strip the empty spaces out of the string\n",
    "    s_nosp = s.replace(' ', '')\n",
    "    \n",
    "    if '.' in s_nosp:\n",
    "        raise ValueError\n",
    "    \n",
    "    phone_pattern = re.compile('''^           # Begin pattern\n",
    "                        (\\s+)?\n",
    "                        (\\d{3}\\D)?     # 0. area code format 1 404-\n",
    "                        (\\s+)?\n",
    "                        (\\(\\d{3}\\))?   # 1. area code format 2 (404)\n",
    "                        (\\s+)?\n",
    "                        (\\d{6}\\D)?     # 2. area code + first 3 combined 404555- \n",
    "                        (\\d{3}\\D)?     # 3. phone number 1st 3 digits 555-\n",
    "                        (\\d{4})?       # 4. phone number 2nd 4 digits 1212\n",
    "                        (\\d{7})?       # 5. phone number 1st 3 and last 4 5551212 combined\n",
    "                        (\\d{10})?      # 6. phone number all 10 4045551212\n",
    "                        (\\s+)?\n",
    "                            $              # end the pattern\n",
    "                            ''', re.VERBOSE)\n",
    "\n",
    "    convert_to_tup = []\n",
    "    try:\n",
    "        match = phone_pattern.match(s)\n",
    "\n",
    "        if match is None:\n",
    "            raise ValueError\n",
    "            \n",
    "        else:\n",
    "            groups = match.groups()\n",
    "            print(groups)\n",
    "            assert len(groups) == 11, 'Match did not work correctly'\n",
    "\n",
    "            for i in range(len(groups)):\n",
    "                \n",
    "                if groups[i] is None or groups[i].isspace():\n",
    "                    pass\n",
    "                \n",
    "                elif ' ' in groups[i]:\n",
    "                    raise ValueError \n",
    "                    \n",
    "                elif '(' in groups[i] or ')' in groups[i]:\n",
    "                    convert_to_tup.append(groups[i][1:-1])\n",
    "                    \n",
    "                elif '-' in groups[i] and len(groups[i]) == 4: # for the case where it's 404- or 555-\n",
    "                    convert_to_tup.append(groups[i][:-1])\n",
    "                    \n",
    "                elif '-' in groups[i] and len(groups[i]) == 7: # for the case where it's 404555-\n",
    "                    no_hyph = groups[i].replace('-', '')\n",
    "                    convert_to_tup.append(no_hyph[:3])\n",
    "                    convert_to_tup.append(no_hyph[3:])\n",
    "                    \n",
    "                elif len(groups[i]) == 7 and groups[i].isdigit():\n",
    "                    convert_to_tup.append(groups[i][:3])\n",
    "                    convert_to_tup.append(groups[i][3:])\n",
    "                    \n",
    "                elif groups[i].isdigit() and len(groups[i]) == 4:\n",
    "                    convert_to_tup.append(groups[i])\n",
    "                    \n",
    "                elif groups[i].isdigit() and len(groups[i]) == 10:\n",
    "                    convert_to_tup.append(groups[i][:3]) # for the area code\n",
    "                    convert_to_tup.append(groups[i][3:6]) # for the 1st 3 numbers\n",
    "                    convert_to_tup.append(groups[i][6:]) # for the last 4 digits\n",
    "                else:\n",
    "                    continue\n",
    "                \n",
    "    except ValueError:\n",
    "        raise\n",
    "\n",
    "    return tuple(convert_to_tup)\n"
   ]
  },
  {
   "cell_type": "code",
   "execution_count": 31,
   "metadata": {},
   "outputs": [
    {
     "name": "stdout",
     "output_type": "stream",
     "text": [
      "(None, '404 ', None, None, None, None, '555-', '3355', None, None, None)\n"
     ]
    },
    {
     "ename": "ValueError",
     "evalue": "",
     "output_type": "error",
     "traceback": [
      "\u001b[0;31m---------------------------------------------------------------------------\u001b[0m",
      "\u001b[0;31mValueError\u001b[0m                                Traceback (most recent call last)",
      "\u001b[0;32m<ipython-input-31-cfc7948dc051>\u001b[0m in \u001b[0;36m<module>\u001b[0;34m()\u001b[0m\n\u001b[0;32m----> 1\u001b[0;31m \u001b[0mm1\u001b[0m \u001b[0;34m=\u001b[0m \u001b[0mparse_phone2\u001b[0m\u001b[0;34m(\u001b[0m\u001b[0mtest_phone\u001b[0m\u001b[0;34m)\u001b[0m\u001b[0;34m\u001b[0m\u001b[0m\n\u001b[0m\u001b[1;32m      2\u001b[0m \u001b[0mm1\u001b[0m\u001b[0;34m\u001b[0m\u001b[0m\n",
      "\u001b[0;32m<ipython-input-30-fd7a131f5c1b>\u001b[0m in \u001b[0;36mparse_phone2\u001b[0;34m(s)\u001b[0m\n\u001b[1;32m     39\u001b[0m \u001b[0;34m\u001b[0m\u001b[0m\n\u001b[1;32m     40\u001b[0m                 \u001b[0;32melif\u001b[0m \u001b[0;34m' '\u001b[0m \u001b[0;32min\u001b[0m \u001b[0mgroups\u001b[0m\u001b[0;34m[\u001b[0m\u001b[0mi\u001b[0m\u001b[0;34m]\u001b[0m\u001b[0;34m:\u001b[0m\u001b[0;34m\u001b[0m\u001b[0m\n\u001b[0;32m---> 41\u001b[0;31m                     \u001b[0;32mraise\u001b[0m \u001b[0mValueError\u001b[0m\u001b[0;34m\u001b[0m\u001b[0m\n\u001b[0m\u001b[1;32m     42\u001b[0m \u001b[0;34m\u001b[0m\u001b[0m\n\u001b[1;32m     43\u001b[0m                 \u001b[0;32melif\u001b[0m \u001b[0;34m'('\u001b[0m \u001b[0;32min\u001b[0m \u001b[0mgroups\u001b[0m\u001b[0;34m[\u001b[0m\u001b[0mi\u001b[0m\u001b[0;34m]\u001b[0m \u001b[0;32mor\u001b[0m \u001b[0;34m')'\u001b[0m \u001b[0;32min\u001b[0m \u001b[0mgroups\u001b[0m\u001b[0;34m[\u001b[0m\u001b[0mi\u001b[0m\u001b[0;34m]\u001b[0m\u001b[0;34m:\u001b[0m\u001b[0;34m\u001b[0m\u001b[0m\n",
      "\u001b[0;31mValueError\u001b[0m: "
     ]
    }
   ],
   "source": [
    "m1 = parse_phone2(test_phone)\n",
    "m1"
   ]
  },
  {
   "cell_type": "code",
   "execution_count": 32,
   "metadata": {
    "nbgrader": {
     "grade": true,
     "grade_id": "parse_phone2_test",
     "locked": true,
     "points": 3,
     "schema_version": 1,
     "solution": false
    }
   },
   "outputs": [
    {
     "name": "stdout",
     "output_type": "stream",
     "text": [
      "Should pass: '  (404)   555-1212  '\n",
      "('  ', None, None, '(404)', '   ', None, '555-', '1212', None, None, '  ')\n",
      "Should pass: '(404)555-1212  '\n",
      "(None, None, None, '(404)', None, None, '555-', '1212', None, None, '  ')\n",
      "Should pass: '  404-555-1212 '\n",
      "('  ', '404-', None, None, None, None, '555-', '1212', None, None, ' ')\n",
      "Should pass: '  404-5551212 '\n",
      "('  ', '404-', None, None, None, None, None, None, '5551212', None, ' ')\n",
      "Should pass: ' 4045551212'\n",
      "(' ', None, None, None, None, None, None, None, None, '4045551212', None)\n",
      "Should pass: '634-4969348     '\n",
      "(None, '634-', None, None, None, None, None, None, '4969348', None, '     ')\n",
      "Should pass: ' 537744-9206'\n",
      "(' ', None, None, None, None, '537744-', None, '9206', None, None, None)\n",
      "Should pass: '  918467-4634     '\n",
      "('  ', None, None, None, None, '918467-', None, '4634', None, None, '     ')\n",
      "Should pass: ' (228)8344842    '\n",
      "(' ', None, None, '(228)', None, None, None, None, '8344842', None, '    ')\n",
      "Should pass: '     (430)7031338'\n",
      "('     ', None, None, '(430)', None, None, None, None, '7031338', None, None)\n",
      "Should fail: '+1 (404) 555-3355'\n",
      "==> Function correctly raised an exception.\n",
      "Should fail: '404.555.3355'\n",
      "==> Function correctly raised an exception.\n",
      "Should fail: '404 555-3355'\n",
      "(None, '404 ', None, None, None, None, '555-', '3355', None, None, None)\n",
      "==> Function correctly raised an exception.\n",
      "Should fail: '404 555 3355'\n",
      "(None, '404 ', None, None, None, None, '555 ', '3355', None, None, None)\n",
      "==> Function correctly raised an exception.\n",
      "Should fail: '(404-555-1212'\n",
      "==> Function correctly raised an exception.\n",
      "\n",
      "(Passed!)\n"
     ]
    }
   ],
   "source": [
    "# Test cell: `parse_phone2_test`\n",
    "\n",
    "def asm_phone2(a, l, r):\n",
    "    from random import random\n",
    "    x = random()\n",
    "    if x < 0.33:\n",
    "        a2 = '(' + a + ')' + rand_spaces()\n",
    "    elif x < 0.67:\n",
    "        a2 = a + '-'\n",
    "    else:\n",
    "        a2 = a\n",
    "    y = random()\n",
    "    if y < 0.5:\n",
    "        l2 = l + '-'\n",
    "    else:\n",
    "        l2 = l\n",
    "    return rand_spaces() + a2 + l2 + r + rand_spaces()\n",
    "\n",
    "def pass_phone2(p=None, a=None, l=None, r=None):\n",
    "    if p is None:\n",
    "        a = gen_digits(3)\n",
    "        l = gen_digits(3)\n",
    "        r = gen_digits(4)\n",
    "        p = asm_phone2(a, l, r)\n",
    "    else:\n",
    "        assert a is not None and l is not None and r is not None, \"Need to supply sample solution.\"\n",
    "    msg = \"Should pass: '{}'\".format(p)\n",
    "    print(msg)\n",
    "    p_you = parse_phone2(p)\n",
    "    assert p_you == (a, l, r), \"Got {} instead of ('{}', '{}', '{}')\".format(p_you, a, l, r)\n",
    "    \n",
    "pass_phone2(\"  (404)   555-1212  \", '404', '555', '1212')\n",
    "pass_phone2(\"(404)555-1212  \", '404', '555', '1212')\n",
    "pass_phone2(\"  404-555-1212 \", '404', '555', '1212')\n",
    "pass_phone2(\"  404-5551212 \", '404', '555', '1212')\n",
    "pass_phone2(\" 4045551212\", '404', '555', '1212')\n",
    "    \n",
    "for _ in range(5):\n",
    "    pass_phone2()\n",
    "    \n",
    "    \n",
    "def fail_phone2(s):\n",
    "    msg = \"Should fail: '{}'\".format(s)\n",
    "    print(msg)\n",
    "    try:\n",
    "        parse_phone2 (s)\n",
    "    except ValueError:\n",
    "        print (\"==> Function correctly raised an exception.\")\n",
    "    else:\n",
    "        raise AssertionError (\"Function did *not* raise an exception as expected!\")\n",
    "        \n",
    "failure_cases = ['+1 (404) 555-3355',\n",
    "                 '404.555.3355',\n",
    "                 '404 555-3355',\n",
    "                 '404 555 3355',\n",
    "                 '(404-555-1212'\n",
    "                ]\n",
    "for s in failure_cases:\n",
    "    fail_phone2(s)\n",
    "    \n",
    "print(\"\\n(Passed!)\")"
   ]
  },
  {
   "cell_type": "markdown",
   "metadata": {
    "collapsed": true,
    "nbgrader": {
     "grade": false,
     "grade_id": "cell-4e60d75d4b47de9c",
     "locked": true,
     "schema_version": 1,
     "solution": false
    }
   },
   "source": [
    "**Fin!** This cell marks the end of Part 0. Don't forget to save, restart and rerun all cells, and submit it. When you are done, proceed to Parts 1 and 2."
   ]
  }
 ],
 "metadata": {
  "celltoolbar": "Create Assignment",
  "kernelspec": {
   "display_name": "Python 3",
   "language": "python",
   "name": "python3"
  },
  "language_info": {
   "codemirror_mode": {
    "name": "ipython",
    "version": 3
   },
   "file_extension": ".py",
   "mimetype": "text/x-python",
   "name": "python",
   "nbconvert_exporter": "python",
   "pygments_lexer": "ipython3",
   "version": "3.6.3"
  }
 },
 "nbformat": 4,
 "nbformat_minor": 1
}
