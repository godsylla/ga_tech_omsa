{
 "cells": [
  {
   "cell_type": "markdown",
   "metadata": {
    "nbgrader": {
     "grade": false,
     "locked": true,
     "solution": false
    }
   },
   "source": [
    "# Linear Optimization using Regex"
   ]
  },
  {
   "cell_type": "markdown",
   "metadata": {
    "nbgrader": {
     "grade": false,
     "locked": true,
     "solution": false
    }
   },
   "source": [
    "This problem will test your mastery of basic python data structures as well as the use of Regex. It consists of four (4) exercises, numbered 0 to 3, and it is worth a total of ten (10) points."
   ]
  },
  {
   "cell_type": "markdown",
   "metadata": {
    "nbgrader": {
     "grade": false,
     "locked": true,
     "solution": false
    }
   },
   "source": [
    "## Introduction to Linear Optimization\n",
    "A <a href=\"https://www2.isye.gatech.edu/~spyros/LP/node2.html#SECTION00010010000000000000\">linear optimization</a> problem has a linear **objective function** and linear equality and/or linear inequality constraints. Here is an example:\n",
    "\n",
    "$$min \\:  3p+q$$\n",
    "\n",
    "with the **objective function** being of the form:\n",
    "$$c_{1}x_{1}+c_{2}x_{2}+...+c_{n}x_{n}$$\n",
    "which you minimize or maximize subject to the **constraints** \n",
    "\n",
    "$$\\mathrm{ p + 2q >= 2}$$\n",
    "$$\\mathrm{ 2p + 5q >= 3}$$\n",
    "$$\\mathrm{ p >= 0, q >= 0}$$\n",
    "\n",
    "with **constraints** being either linear equalities or inequalities of the form:\n",
    "\n",
    "$$a_{i1}x_{1}+a_{i2}x_{2}+a_{i3}x_{3}+...+a_{in}x_{n}=b_{i}$$ \n",
    "\n",
    "for the ith equation, where the $=$ sign may be replaced by $<=$ or $>=$, and\n",
    "    $$x_{i} >= 0$$\n",
    "for every variable. "
   ]
  },
  {
   "cell_type": "markdown",
   "metadata": {
    "nbgrader": {
     "grade": false,
     "locked": true,
     "solution": false
    }
   },
   "source": [
    "**Exercise 0** (3 points) Complete the `getRegEx()` function which returns a regular expression string to match any linear equations or inequations, such as the ones below. You may have any number of terms on the left hand side or the right hand side of the equation.\n",
    "\n",
    "You need to return a regular expression string such that when compiled, the `.findall()` method will parse the entire equation/inequation. Eg.\n",
    "\n",
    "The equation:\n",
    "\n",
    "$$3x <= 6+2y+7z$$\n",
    "\n",
    "will parse into the list of tuples:\n",
    "\n",
    "`[('', '3', 'x', '<='), ('', '6', '', ''), ('+', '2', 'y', ''), ('+', '7', 'z', '')]`\n",
    "\n",
    "It is worth noting that any of the linear equations/inequations can be parsed into separate groups with the parts:\n",
    "- the sign,\n",
    "- the coefficient,\n",
    "- the variable,\n",
    "- the equality/inequality symbol\n",
    "\n",
    "any of which may or may not be present.\n",
    "\n",
    "The first test cell will test against the above equations while the second test cell will test against some similar randomly generated equations."
   ]
  },
  {
   "cell_type": "code",
   "execution_count": 1,
   "metadata": {},
   "outputs": [],
   "source": [
    "import re"
   ]
  },
  {
   "cell_type": "code",
   "execution_count": 2,
   "metadata": {},
   "outputs": [],
   "source": [
    "test_equation = '3x<=6+2y+7z'"
   ]
  },
  {
   "cell_type": "code",
   "execution_count": 3,
   "metadata": {
    "scrolled": true
   },
   "outputs": [
    {
     "data": {
      "text/plain": [
       "[('', '3', 'x', '<='),\n",
       " ('', '6', '', ''),\n",
       " ('+', '2', 'y', ''),\n",
       " ('+', '7', 'z', '')]"
      ]
     },
     "execution_count": 3,
     "metadata": {},
     "output_type": "execute_result"
    }
   ],
   "source": [
    "pattern = \"(\\+|\\-)?(\\d+|.)(\\w)?(\\<=|\\>=|\\>|\\<|\\=)?\"\n",
    "re.findall(pattern, test_equation)"
   ]
  },
  {
   "cell_type": "code",
   "execution_count": 4,
   "metadata": {},
   "outputs": [],
   "source": [
    "import re\n",
    "# the function is intended to establish the patterns we're trying to find\n",
    "\n",
    "def getRegEx():\n",
    "    regex = \"(\\+|\\-)?(\\d+|.)(\\w)?(\\<=|\\>=|\\>|\\<|\\=)?\"\n",
    "    return regex"
   ]
  },
  {
   "cell_type": "code",
   "execution_count": 5,
   "metadata": {
    "nbgrader": {
     "grade": true,
     "grade_id": "Basic Test 1",
     "locked": true,
     "points": "1",
     "solution": false
    }
   },
   "outputs": [
    {
     "name": "stdout",
     "output_type": "stream",
     "text": [
      "Passed!\n"
     ]
    }
   ],
   "source": [
    "# Test cell 1: test against the above equations (1 point)\n",
    "\n",
    "equation_1= '3x<=6+2y+7z'\n",
    "pattern= getRegEx()\n",
    "result = re.findall(pattern, equation_1)\n",
    "assert result == [('', '3', 'x', '<='), ('', '6', '', ''), ('+', '2', 'y', ''), ('+', '7', 'z', '')], \"The equation is not parsed by your regular equation\"\n",
    "print(\"Passed!\")"
   ]
  },
  {
   "cell_type": "code",
   "execution_count": 6,
   "metadata": {
    "nbgrader": {
     "grade": true,
     "grade_id": "Advanced Tests",
     "locked": true,
     "points": "2",
     "solution": false
    },
    "scrolled": true
   },
   "outputs": [
    {
     "ename": "FileNotFoundError",
     "evalue": "[Errno 2] No such file or directory: 'e2.txt'",
     "output_type": "error",
     "traceback": [
      "\u001b[0;31m---------------------------------------------------------------------------\u001b[0m",
      "\u001b[0;31mFileNotFoundError\u001b[0m                         Traceback (most recent call last)",
      "\u001b[0;32m<ipython-input-6-35dbe52082f5>\u001b[0m in \u001b[0;36m<module>\u001b[0;34m()\u001b[0m\n\u001b[1;32m     90\u001b[0m     \u001b[0mfilename\u001b[0m \u001b[0;34m=\u001b[0m \u001b[0;34m'e2.txt'\u001b[0m\u001b[0;34m\u001b[0m\u001b[0m\n\u001b[1;32m     91\u001b[0m \u001b[0;34m\u001b[0m\u001b[0m\n\u001b[0;32m---> 92\u001b[0;31m \u001b[0;32mwith\u001b[0m \u001b[0mopen\u001b[0m\u001b[0;34m(\u001b[0m\u001b[0mfilename\u001b[0m\u001b[0;34m)\u001b[0m \u001b[0;32mas\u001b[0m \u001b[0mf\u001b[0m\u001b[0;34m:\u001b[0m\u001b[0;34m\u001b[0m\u001b[0m\n\u001b[0m\u001b[1;32m     93\u001b[0m     \u001b[0mdata\u001b[0m \u001b[0;34m=\u001b[0m \u001b[0mf\u001b[0m\u001b[0;34m.\u001b[0m\u001b[0mreadlines\u001b[0m\u001b[0;34m(\u001b[0m\u001b[0;34m)\u001b[0m\u001b[0;34m\u001b[0m\u001b[0m\n\u001b[1;32m     94\u001b[0m     \u001b[0mmotif\u001b[0m \u001b[0;34m=\u001b[0m \u001b[0mdata\u001b[0m\u001b[0;34m\u001b[0m\u001b[0m\n",
      "\u001b[0;31mFileNotFoundError\u001b[0m: [Errno 2] No such file or directory: 'e2.txt'"
     ]
    }
   ],
   "source": [
    "# Test cell 2: test against random equations (2 points)\n",
    "\n",
    "import random\n",
    "import string\n",
    "import os\n",
    "from random import randint\n",
    "from collections import defaultdict\n",
    "\n",
    "def is_vocareum():\n",
    "    return os.path.exists('.voc')\n",
    "\n",
    "def generateEquation():\n",
    "    #Generating the number of variables in the equation:\n",
    "    num_var=randint(1,20)\n",
    "    vc_dict=defaultdict(list)\n",
    "    vc_const = 0\n",
    "    #Generating the variables and coefficients:\n",
    "    variables=[]\n",
    "    coefficients=[]\n",
    "    variables2=[]\n",
    "    coefficients2=[]\n",
    "    equation1=''\n",
    "    equation2=''\n",
    "    equation=''\n",
    "    \n",
    "    for i in range(0, num_var):\n",
    "        coefficients.append(randint(1, 20))\n",
    "        variables.append(random.choice([*string.ascii_lowercase] + ['']))\n",
    "        \n",
    "    for i in range(0, num_var):\n",
    "        coefficients2.append(randint(1, 20))\n",
    "        variables2.append(random.choice([*string.ascii_lowercase] + ['']))\n",
    "\n",
    "    #Forming the equations:\n",
    "    for i in range(0, num_var):\n",
    "        prob= random.uniform(0, 1)\n",
    "        sign=''\n",
    "        if(prob>=0.5):\n",
    "            sign='+'\n",
    "        else:\n",
    "            sign='-'\n",
    "        equation1=equation1+sign+str(coefficients[i])+variables[i]\n",
    "        equation2=equation2+sign+str(coefficients2[i])+variables2[i]\n",
    "        if variables[i]:\n",
    "            if(variables[i] not in vc_dict.keys()):\n",
    "                vc_dict[variables[i]] = [int(sign+str(coefficients[i]))]\n",
    "            else:\n",
    "                value = int(vc_dict.pop(variables[i])[0])\n",
    "                value = value + int(sign+str(coefficients[i]))\n",
    "                vc_dict[variables[i]] = [value]\n",
    "        else:\n",
    "            vc_const -= int(sign+str(coefficients[i]))\n",
    "            \n",
    "        if variables2[i]:\n",
    "            if(variables2[i] not in vc_dict.keys()):\n",
    "                vc_dict[variables2[i]] = [-1 * int(sign+str(coefficients2[i]))]\n",
    "            else:\n",
    "                value = vc_dict.pop(variables2[i])[0]\n",
    "                value = value - int(sign+str(coefficients2[i]))\n",
    "                vc_dict[variables2[i]] = [value]\n",
    "        else:\n",
    "            vc_const += int(sign+str(coefficients2[i]))\n",
    "            \n",
    "\n",
    "    #Finding an inequality for the equation\n",
    "    inequality_prob= random.uniform(0, 1)\n",
    "    inequality=''\n",
    "    if(inequality_prob>=0 and inequality_prob<0.33):\n",
    "        inequality='='\n",
    "    elif(inequality_prob>=0.33 and inequality_prob<0.66):\n",
    "        inequality='>='\n",
    "    else:\n",
    "        inequality='<='\n",
    "\n",
    "    equation= equation1+inequality\n",
    "    if(equation2[0]=='+'):\n",
    "        equation= equation+equation2[1:]\n",
    "    else:\n",
    "        equation= equation+equation2\n",
    "\n",
    "    if(equation[0]=='+'):    \n",
    "        return equation[1:], vc_dict, vc_const\n",
    "    else:\n",
    "        return equation, vc_dict, vc_const\n",
    "    \n",
    "filename=''\n",
    "if is_vocareum():\n",
    "    filename = '../resource/asnlib/publicdata/e2.txt'\n",
    "else:\n",
    "    filename = 'e2.txt'\n",
    "\n",
    "with open(filename) as f:\n",
    "    data = f.readlines()\n",
    "    motif = data\n",
    "motif=str(motif)[2:-4]\n",
    "motif=motif[:3]+motif[4:]\n",
    "motif=motif[:5]+motif[6:]\n",
    "motif=motif[:12]+motif[13:]\n",
    "pattern2 = re.compile(motif)\n",
    "    \n",
    "# Test cases\n",
    "for i in range(0, 20):\n",
    "    equation_2, vc_dict, vc_const = generateEquation()\n",
    "    print(equation_2)\n",
    "    result1 = re.findall(pattern, equation_2)\n",
    "    result2 = pattern2.findall(equation_2)\n",
    "    print(result1, \"\\n\")\n",
    "    assert result1 == result2, \"The equation is not parsed by your regular expression\"\n",
    "    \n",
    "print(\"Passed!\")"
   ]
  },
  {
   "cell_type": "code",
   "execution_count": 7,
   "metadata": {
    "scrolled": true
   },
   "outputs": [
    {
     "data": {
      "text/plain": [
       "[('-', '20', 'j', ''),\n",
       " ('+', '2', 'v', ''),\n",
       " ('-', '16', 'a', ''),\n",
       " ('+', '19', 'l', '>='),\n",
       " ('-', '20', 'u', ''),\n",
       " ('+', '1', 's', ''),\n",
       " ('-', '5', 'u', ''),\n",
       " ('+', '6', 'j', '')]"
      ]
     },
     "execution_count": 7,
     "metadata": {},
     "output_type": "execute_result"
    }
   ],
   "source": [
    "test_equation2 = '-20j+2v-16a+19l>=-20u+1s-5u+6j'\n",
    "pattern = \"(\\+|\\-)?(\\d+|.)(\\w)?(\\<=|\\>=|\\>|\\<|\\=)?\"\n",
    "re.findall(pattern, test_equation2)"
   ]
  },
  {
   "cell_type": "markdown",
   "metadata": {
    "nbgrader": {
     "grade": false,
     "locked": true,
     "solution": false
    }
   },
   "source": [
    "**Exercise 1** (3 points)\n",
    "Convert the terms of a linear equation into a python dictionary, *equation_dict*. Store the variables of the equation as keys and their corresponding coefficients as values in the form of lists. \n",
    "\n",
    "For example, if we have the following equation: $x-2y=20 + 6y$, we will have the equation dictionary and the constant as follows:\n",
    "\n",
    "*equation_dict* = {'x': [1], 'y': [-8]}\n",
    "\n",
    "*constant* = 20\n",
    "\n",
    "Return the dictionary as the first parameter of the return statement and the constant of the equation as the second parameter of the return statement.\n",
    "\n",
    "Before forming the dictionaries, make sure that all terms of variables and coefficients are on the left hand side of the equation, and all the constants/intercepts are on the right hand side of the equation i.e. given $6x=7y+4$, convert it to $6x-7y=4$."
   ]
  },
  {
   "cell_type": "code",
   "execution_count": 11,
   "metadata": {},
   "outputs": [
    {
     "name": "stdout",
     "output_type": "stream",
     "text": [
      "['x-2y', '20+6y']\n"
     ]
    }
   ],
   "source": [
    "test_equation3 = 'x-2y=20+6y'\n",
    "\n",
    "# split on the inequality\n",
    "inequalities_to_try = ['<=', '>=', '<', '>', '=']\n",
    "\n",
    "for ineq in inequalities_to_try:\n",
    "    split_ineq = test_equation3.split(ineq)\n",
    "    \n",
    "print(split_ineq)"
   ]
  },
  {
   "cell_type": "code",
   "execution_count": 55,
   "metadata": {},
   "outputs": [
    {
     "data": {
      "text/plain": [
       "[['', 'x', '', ''],\n",
       " ['-', '2', 'y', ''],\n",
       " ['-', '20', '', ''],\n",
       " ['-', '6', 'y', '']]"
      ]
     },
     "execution_count": 55,
     "metadata": {},
     "output_type": "execute_result"
    }
   ],
   "source": [
    "matched = []\n",
    "for i, ineq in enumerate(split_ineq):\n",
    "    \n",
    "    # flip the sign on one side of the equation\n",
    "    if i%2 != 0:        \n",
    "        pattern = getRegEx()\n",
    "        match = re.findall(pattern, ineq)\n",
    "        \n",
    "        match = [list(m) for m in match]\n",
    "        matched.extend(match)\n",
    "        \n",
    "        for m in match:\n",
    "            if m[0] == '+':\n",
    "                m[0] = '-'\n",
    "            elif m[0] == '-':\n",
    "                m[0] = '+'\n",
    "            else:\n",
    "                m[0] = '-'\n",
    "                    \n",
    "    else:\n",
    "        match = re.findall(pattern, ineq)\n",
    "        matched.extend([list(m) for m in match])\n",
    "    \n",
    "matched"
   ]
  },
  {
   "cell_type": "code",
   "execution_count": 56,
   "metadata": {},
   "outputs": [
    {
     "name": "stdout",
     "output_type": "stream",
     "text": [
      "-2\n",
      "-20\n",
      "-6\n"
     ]
    },
    {
     "data": {
      "text/plain": [
       "{'x': [], 'y': []}"
      ]
     },
     "execution_count": 56,
     "metadata": {},
     "output_type": "execute_result"
    }
   ],
   "source": [
    "my_equation_dict = {}\n",
    "\n",
    "for match in matched:\n",
    "    for i, m in enumerate(match):\n",
    "        if m in string.ascii_lowercase and m not in string.whitespace:\n",
    "            my_equation_dict[m] = []\n",
    "        if m.isdigit():\n",
    "            match[i] = int(match[i-1]+m)\n",
    "            print(match[i])\n",
    "            \n",
    "my_equation_dict            \n"
   ]
  },
  {
   "cell_type": "code",
   "execution_count": 66,
   "metadata": {},
   "outputs": [],
   "source": [
    "def getDict(equation:str) -> dict:\n",
    "    import string\n",
    "\n",
    "    equation_dict={}\n",
    "    constant=0\n",
    "\n",
    "    # split on the inequalities so you can then flip the signs\n",
    "    inequalities_to_try = ['<=', '>=', '<', '>', '=']\n",
    "\n",
    "    for ineq in inequalities_to_try:\n",
    "        split_ineq = test_equation3.split(ineq)\n",
    "\n",
    "    # flip the signs for one side \n",
    "    matched = []\n",
    "    for i, ineq in enumerate(split_ineq):\n",
    "    \n",
    "        # flip the sign on one side of the equation\n",
    "        if i%2 != 0:        \n",
    "            pattern = getRegEx()\n",
    "            match = re.findall(pattern, ineq)\n",
    "\n",
    "            match = [list(m) for m in match]\n",
    "            matched.extend(match)\n",
    "\n",
    "            for m in match:\n",
    "                if m[0] == '+':\n",
    "                    m[0] = '-'\n",
    "                elif m[0] == '-':\n",
    "                    m[0] = '+'\n",
    "                else:\n",
    "                    m[0] = '-'\n",
    "\n",
    "        else:\n",
    "            match = re.findall(pattern, ineq)\n",
    "            matched.extend([list(m) for m in match])\n",
    "    \n",
    "    # \n",
    "    return equation_dict, -constant"
   ]
  },
  {
   "cell_type": "code",
   "execution_count": null,
   "metadata": {
    "collapsed": true,
    "nbgrader": {
     "grade": true,
     "grade_id": "Equation dictionary test",
     "locked": true,
     "points": "3",
     "solution": false
    }
   },
   "outputs": [],
   "source": [
    "# Testing cell\n",
    "\n",
    "for i in range(0, 5):\n",
    "    equation, vc_dict, vc_const= generateEquation()\n",
    "    print(vc_dict)\n",
    "    print(vc_const)\n",
    "    print(\"The equation is: \", equation)\n",
    "    equation_dict, constant= getDict(equation)\n",
    "    assert len(vc_dict)==len(equation_dict), \"The length of the dictionaries are unequal\"\n",
    "    assert vc_dict.keys() == equation_dict.keys(), \"The keys of the dictionary do not match\"\n",
    "    for key in vc_dict.keys():\n",
    "        assert set(vc_dict[key]) == set(equation_dict[key]), \"The dictionaries do not match\"\n",
    "    assert vc_const == constant, \"Constants do not match\"\n",
    "    print(\"Passed!\")"
   ]
  },
  {
   "cell_type": "markdown",
   "metadata": {
    "nbgrader": {
     "grade": false,
     "locked": true,
     "solution": false
    }
   },
   "source": [
    "### Standard Normal Form of Linear Optimization Problem\n",
    "The standard form of a Linear Program can be defined as,\n",
    "\n",
    "$$\\mathrm{min\\ {c}^{T} x}$$\n",
    "subject to the constraints$$Ax=b$$\n",
    "$$x>=0$$\n",
    "\n",
    "We can then define the original example linear program as:\n",
    "\n",
    "$c=\\begin{bmatrix}3\\\\1\\\\\\end{bmatrix},x=\\begin{bmatrix}p\\\\q\\\\\\end{bmatrix},\n",
    "A=\\begin{bmatrix}\n",
    "    1 & 2\\\\\n",
    "    2 & 5\\\\\n",
    "\\end{bmatrix},b=\\begin{bmatrix}2\\\\3\\\\\\end{bmatrix}\n",
    "$\n",
    "\n",
    "This format can be used to solve optimization problems using packages such as PuLP and software such as EXPRESS. These packages typically use an algorithm called Simplex to solve the system of equation/inequations to get a solution to the linear optimization problem. However, for the sake of convenience, we will use numpy to solve the system of equations. If your matrices are correct, you will get the correct solution for the system of equations."
   ]
  },
  {
   "cell_type": "markdown",
   "metadata": {
    "nbgrader": {
     "grade": false,
     "locked": true,
     "solution": false
    }
   },
   "source": [
    "**Exercise 2** (3 points) In the below function, complete the code to fill the matrix A and the arrays c and b from a list of equations. \n",
    "\n",
    "To facilitate the test cell's use of numpy, format your matrix A as nested lists, with a list for each row, like\n",
    "```\n",
    "matrix = [[row1_col1, row1_col2, row1_col3],[row2_col1, row2_col2, row2_col3]]\n",
    "```\n",
    "and your arrays c and b as a list, like\n",
    "```\n",
    "array = [element1, element2]\n",
    "```\n",
    "\n",
    "\n",
    "The original example, then, would be provided to `ConvertToStandardNormalForm()` as a list of strings and a separate string for the objective function:\n",
    "```\n",
    "equations = ['p+2q>=2', '2p+5q>=3']\n",
    "objective_function = '3p+q'\n",
    "```\n",
    "The $x_{i} >= 0$ is assumed and is not included in either the input arguments, nor the solution result.\n",
    "\n",
    "The results returned from `ConvertToStandardNormalForm()` would then be:\n",
    "```\n",
    "c = [3,1]\n",
    "b = [2,3]\n",
    "A = [[1,2],[2,5]]\n",
    "```\n",
    "for `x = {p, q}`\n",
    "\n",
    "or \n",
    "```\n",
    "c = [1,3]\n",
    "b = [2,3]\n",
    "A = [[2,1],[5,2]]\n",
    "```\n",
    "for `x = {q, p}` which is an equivalent representation (can you see why?)"
   ]
  },
  {
   "cell_type": "code",
   "execution_count": null,
   "metadata": {
    "collapsed": true
   },
   "outputs": [],
   "source": [
    "def ConvertToStandardNormalForm(equations, objective_function):\n",
    "    ##INPUT: equation: string\n",
    "    ##OUTPUT: c, b, and A\n",
    "    #\n",
    "    # YOUR CODE HERE\n",
    "    #\n",
    "\n",
    "    return A, b, c"
   ]
  },
  {
   "cell_type": "code",
   "execution_count": null,
   "metadata": {
    "collapsed": true,
    "nbgrader": {
     "grade": true,
     "grade_id": "Standard Form Solution",
     "locked": true,
     "points": "3",
     "solution": false
    }
   },
   "outputs": [],
   "source": [
    "#Test cell for the standard normal form\n",
    "\n",
    "import numpy as np\n",
    "import scipy as sp\n",
    "import os\n",
    "import hashlib\n",
    "import io\n",
    "from scipy import optimize\n",
    "\n",
    "equations= []\n",
    "\n",
    "def is_vocareum():\n",
    "    return os.path.exists('.voc')\n",
    "\n",
    "filename=''\n",
    "if is_vocareum():\n",
    "    filename = '../resource/asnlib/publicdata/equations.txt'\n",
    "else:\n",
    "    filename = 'equations.txt'\n",
    "\n",
    "with open(filename) as f:\n",
    "    data = f.readlines()\n",
    "    for line in data:\n",
    "        equations.append(line[:-1])\n",
    "        print(line)\n",
    "\n",
    "A, b, c = ConvertToStandardNormalForm(equations[:-1], equations[-1])\n",
    "\n",
    "result= sp.optimize.linprog(c, A_ub=A, b_ub=b, bounds=((None, None), (-3, None)), options={\"disp\": False})\n",
    "\n",
    "solution= result.x\n",
    "objective_value= result.fun\n",
    "\n",
    "print(\"Your solution:\", solution)\n",
    "print(\"Your objective value\", objective_value)\n",
    "\n",
    "sol=[]\n",
    "\n",
    "if is_vocareum():\n",
    "    filename = '../resource/asnlib/publicdata/Solution1.txt'\n",
    "else:\n",
    "    filename = 'Solution1.txt'\n",
    "with open(filename) as f:\n",
    "    data = f.readlines()\n",
    "    sol = data[0].split(',')\n",
    "\n",
    "assert int(sol[-1])==int(result.fun), \"Your objective value does not match ours, i.e. recheck your solution\"\n",
    "print(\"Passed!\")"
   ]
  },
  {
   "cell_type": "markdown",
   "metadata": {
    "nbgrader": {
     "grade": false,
     "locked": true,
     "solution": false
    }
   },
   "source": [
    "## Use of Optimization: \n",
    "### Production planning by Compaq\n",
    "This is a problem that Compaq had faced illustrating the usefulness of linear optimization. Compaq introduced three new computer systems and two workstations: GP-1, GP-2, and GP-3, as well as WS-1 and WS-2. In the following table, we list the models, the list prices (in dollars), and the memory usage.\n",
    "\n",
    "<table>\n",
    "  <tr>\n",
    "    <th>System</th>\n",
    "    <th>Price</th>\n",
    "    <th>#256K Boards</th>\n",
    "  </tr>\n",
    "  <tr>\n",
    "    <td>GP-1</td>\n",
    "    <td>60,000</td>\n",
    "    <td>4</td>\n",
    "  </tr>\n",
    "  <tr>\n",
    "    <td>GP-2</td>\n",
    "    <td>40,000</td>\n",
    "    <td>2</td>\n",
    "  </tr>\n",
    "  <tr>\n",
    "    <td>GP-3</td>\n",
    "    <td>30,000</td>\n",
    "    <td>2</td>\n",
    "  </tr>\n",
    "  <tr>\n",
    "    <td>WS-1</td>\n",
    "    <td>30,000</td>\n",
    "    <td>2</td>\n",
    "  </tr>\n",
    "  <tr>\n",
    "    <td>WS-2</td>\n",
    "    <td>15,000</td>\n",
    "    <td>1</td>\n",
    "  </tr>\n",
    "</table>\n",
    "\n",
    "The following dificulties were anticipated:\n",
    "1. The in-house supplier of CPUs could provide at most 7,000 units, due to debugging problems.\n",
    "2. The supply of 256K memory boards was limited to be no more than 8,000 units.\n",
    "\n",
    "On the demand side, the marketing department established the following:\n",
    "1. The maximum demand for the first quarter would be 1,800 for GP-1 system, 300 for GP-3 system, 3,800 for the whole GP, and 3,200 for the whole WS family.\n",
    "2. Included in these projects were 500 orders for GP-2 system, 500 orders for WS-1, and 400 orders for WS-2 that had already been received and had to be fulfilled in the first quarter.\n",
    "\n",
    "Compaq needed to make a production plan to consider all the above production limitations and demand projections and to maximize the revenue."
   ]
  },
  {
   "cell_type": "markdown",
   "metadata": {},
   "source": [
    "### Linear Model for Compaq\n",
    "\n",
    "The above problem can be reformulated as: \n",
    "\n",
    "$${max \\: a*60000 + b*40000 + c*30000 + d*30000 + e*15000}$$\n",
    "subject to the constraints\n",
    "$$a+b+c+d+e <= 7000$$\n",
    "$$4a+2b+2c+2d+e <= 8000$$\n",
    "$$a+b+c <= 3800$$\n",
    "$$d+e <= 3200$$\n",
    "$$a <= 1800$$\n",
    "$$c <= 300$$\n",
    "$$b >= 500$$\n",
    "$$d >= 500$$\n",
    "$$e >= 400$$\n",
    "\n",
    "Also, keep in mind\n",
    "$${max \\: {c}^{T}x} = {-min \\: (-{c}^{T}x)}$$\n",
    "and minimization is the standard form of a Linear Program"
   ]
  },
  {
   "cell_type": "markdown",
   "metadata": {
    "nbgrader": {
     "grade": false,
     "locked": true,
     "solution": false
    }
   },
   "source": [
    "**Exercise 3** (1 points) Your task will be to solve the above problem, and maximize Compaq's profits. \n",
    "Complete the Compaq function to maximize Compaq's profits. Use the ConvertToStandardNormalForm function to help you. \n",
    "The matrices formed will be passed into a linear program solver to output the best solution.\n",
    "\n",
    "*Hint: Keep in mind that since this is a maximization problem, each value of matric c will have to be multiplied by -1 to bring it into standard form (please ignore the minus sign '-' outside the minimization expression, this will be accounted for in the solution).*"
   ]
  },
  {
   "cell_type": "code",
   "execution_count": null,
   "metadata": {
    "collapsed": true
   },
   "outputs": [],
   "source": [
    "#Your Function should return A, b, c, and X matrices\n",
    "def Compaq(equations, objective_function):\n",
    "    ##INPUT: equation: string\n",
    "    ##OUTPUT: Matrices c, b, and A\n",
    "    #\n",
    "    # YOUR CODE HERE\n",
    "    #\n",
    "    return A,b,c"
   ]
  },
  {
   "cell_type": "code",
   "execution_count": null,
   "metadata": {
    "collapsed": true,
    "nbgrader": {
     "grade": true,
     "grade_id": "Compaq Problem Solution",
     "locked": true,
     "points": "1",
     "solution": false
    }
   },
   "outputs": [],
   "source": [
    "#Test cell for the compaq problem\n",
    "\n",
    "import numpy as np\n",
    "import scipy as sp\n",
    "import hashlib\n",
    "import io\n",
    "from scipy import optimize\n",
    "\n",
    "#Test cases for the standard normal form\n",
    "\n",
    "equations= []\n",
    "\n",
    "filename = 'equations2.txt'\n",
    "filename=''\n",
    "if is_vocareum():\n",
    "    filename = '../resource/asnlib/publicdata/equations2.txt'\n",
    "\n",
    "with open(filename) as f:\n",
    "    data = f.readlines()\n",
    "    for line in data:\n",
    "        equations.append(line[:-1])\n",
    "\n",
    "A, b, c = Compaq(equations[:-1], equations[-1])\n",
    "print(A,b,c)\n",
    "result= sp.optimize.linprog(c, A_ub=A, b_ub=b, bounds=((0, 1800),(500, None),(0, 300),(500, None),(400, None)), options={\"disp\": False})\n",
    "\n",
    "solution= result.x\n",
    "objective_value= result.fun\n",
    "\n",
    "print(\"Your solution:\", solution)\n",
    "print(\"Your objective value\", objective_value)\n",
    "\n",
    "sol=[]\n",
    "filename = 'Solution2.txt'\n",
    "filename=''\n",
    "if is_vocareum():\n",
    "    filename = '../resource/asnlib/publicdata/Solution2.txt'\n",
    "\n",
    "with open(filename) as f:\n",
    "    data = f.readlines()\n",
    "    sol= data[0].split(',')\n",
    "    \n",
    "print(int(sol[-1]))\n",
    "\n",
    "assert int(sol[-1])==int(result.fun), \"Your objective value does not match ours, i.e. recheck your solution\"\n",
    "print(\"So the maximum profit is: $\", -1*objective_value)\n",
    "print(\"Passed!\")"
   ]
  },
  {
   "cell_type": "markdown",
   "metadata": {
    "nbgrader": {
     "grade": false,
     "locked": true,
     "solution": false
    }
   },
   "source": [
    "**Fin!** You've reached the end of this problem. Don't forget to restart the kernel and run the entire notebook from top-to-bottom to make sure you did everything correctly. If that is working, try submitting this problem. (Recall that you must submit and pass the autograder to get credit for your work!)"
   ]
  }
 ],
 "metadata": {
  "kernelspec": {
   "display_name": "Python 3",
   "language": "python",
   "name": "python3"
  },
  "language_info": {
   "codemirror_mode": {
    "name": "ipython",
    "version": 3
   },
   "file_extension": ".py",
   "mimetype": "text/x-python",
   "name": "python",
   "nbconvert_exporter": "python",
   "pygments_lexer": "ipython3",
   "version": "3.6.5"
  }
 },
 "nbformat": 4,
 "nbformat_minor": 2
}
