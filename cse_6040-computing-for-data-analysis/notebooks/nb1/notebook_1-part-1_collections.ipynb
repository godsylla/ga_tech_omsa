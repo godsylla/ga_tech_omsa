{
 "cells": [
  {
   "cell_type": "markdown",
   "metadata": {},
   "source": [
    "# Python review: Basic collections of values\n",
    "\n",
    "This notebook continues the review of Python basics based on [Chris Simpkins's](https://www.cc.gatech.edu/~simpkins/) [Python Bootcamp](http://datamastery.gitlab.io/msabc/august2018.html). The focus here is on basic collections: tuples, dictionaries, and sets."
   ]
  },
  {
   "cell_type": "markdown",
   "metadata": {},
   "source": [
    "**Exercise 0** (`minmax_test`: 1 point). Complete the function `minmax(L)`, which takes a list `L` and returns a pair---that is, 2-element Python tuple, or \"2-tuple\"---whose first element is the minimum value in the list and whose second element is the maximum. For instance:\n",
    "\n",
    "```python\n",
    "  minmax([8, 7, 2, 5, 1]) == (1, 8)\n",
    "```"
   ]
  },
  {
   "cell_type": "code",
   "execution_count": 1,
   "metadata": {},
   "outputs": [],
   "source": [
    "def minmax(L):\n",
    "    assert hasattr(L, \"__iter__\")\n",
    "    \n",
    "    return (min(L), max(L))"
   ]
  },
  {
   "cell_type": "code",
   "execution_count": 2,
   "metadata": {},
   "outputs": [
    {
     "name": "stdout",
     "output_type": "stream",
     "text": [
      "minmax([8, 7, 2, 5, 1]) -> (1, 8) [True: (1, 8)]\n",
      "minmax([625, 286, 386, 74, 821, 207, 190, 100, 647, 140]) -> (74, 821) [True: (74, 821)]\n",
      "\n",
      "(Passed!)\n"
     ]
    }
   ],
   "source": [
    "# `minmax_test`: Test cell\n",
    "\n",
    "L = [8, 7, 2, 5, 1]\n",
    "mmL = minmax(L)\n",
    "mmL_true = (1, 8)\n",
    "print(\"minmax({}) -> {} [True: {}]\".format(L, mmL, mmL_true))\n",
    "assert type(mmL) is tuple and mmL == (1, 8)\n",
    "\n",
    "from random import sample\n",
    "L = sample(range(1000), 10)\n",
    "mmL = minmax(L)\n",
    "L_s = sorted(L)\n",
    "mmL_true = (L_s[0], L_s[-1])\n",
    "print(\"minmax({}) -> {} [True: {}]\".format(L, mmL, mmL_true))\n",
    "assert mmL == mmL_true\n",
    "\n",
    "print(\"\\n(Passed!)\")"
   ]
  },
  {
   "cell_type": "markdown",
   "metadata": {},
   "source": [
    "**Exercise 1** (`remove_all_test`: 2 points). Complete the function `remove_all(L, x)` so that, given a list `L` and a target value `x`, it returns a *copy* of the list that excludes *all* occurrences of `x` but preserves the order of the remaining elements. For instance:\n",
    "\n",
    "```python\n",
    "    remove_all([1, 2, 3, 2, 4, 8, 2], 2) == [1, 3, 4, 8]\n",
    "```\n",
    "\n",
    "> **Note.** Your implementation should *not* modify the list being passed into `remove_all`."
   ]
  },
  {
   "cell_type": "code",
   "execution_count": 3,
   "metadata": {},
   "outputs": [],
   "source": [
    "def remove_all(L, x):\n",
    "    assert type(L) is list and x is not None\n",
    "    #\n",
    "    S = [elem for elem in L if elem != x]\n",
    "    return S\n",
    "    #\n"
   ]
  },
  {
   "cell_type": "code",
   "execution_count": 4,
   "metadata": {},
   "outputs": [
    {
     "name": "stdout",
     "output_type": "stream",
     "text": [
      "Testing `remove_all([1, 2, 3, 2, 4, 8, 2], 2)`...\n",
      "\tTrue solution: [1, 3, 4, 8]\n",
      "\tYour computed solution: [1, 3, 4, 8]\n",
      "Testing `remove_all([2, 6, 7, 3, 2, 6, 0, 9, 5, 4, 0, 3, 3, 7, 7, 2, 1, 1, 7, 3], 6)`...\n",
      "\tTrue solution: [2, 7, 3, 2, 0, 9, 5, 4, 0, 3, 3, 7, 7, 2, 1, 1, 7, 3]\n",
      "\tYour computed solution: [2, 7, 3, 2, 0, 9, 5, 4, 0, 3, 3, 7, 7, 2, 1, 1, 7, 3]\n",
      "\n",
      "(Passed!)\n"
     ]
    }
   ],
   "source": [
    "# `remove_all_test`: Test cell\n",
    "def test_it(L, x, L_ans):\n",
    "    print(\"Testing `remove_all({}, {})`...\".format(L, x))\n",
    "    print(\"\\tTrue solution: {}\".format(L_ans))\n",
    "    L_copy = L.copy()\n",
    "    L_rem = remove_all(L_copy, x)\n",
    "    print(\"\\tYour computed solution: {}\".format(L_rem))\n",
    "    assert L_copy == L, \"Your code appears to modify the input list.\"\n",
    "    assert L_rem == L_ans, \"The returned list is incorrect.\"\n",
    "\n",
    "# Test 1: Example\n",
    "test_it([1, 2, 3, 2, 4, 8, 2], 2, [1, 3, 4, 8])\n",
    "\n",
    "# Test 2: Random list\n",
    "from random import randint\n",
    "target = randint(0, 9)\n",
    "L_input = []\n",
    "L_ans = []\n",
    "for _ in range(20):\n",
    "    v = randint(0, 9)\n",
    "    L_input.append(v)\n",
    "    if v != target:\n",
    "        L_ans.append(v)\n",
    "test_it(L_input, target, L_ans)\n",
    "\n",
    "print(\"\\n(Passed!)\")"
   ]
  },
  {
   "cell_type": "markdown",
   "metadata": {},
   "source": [
    "**Exercise 2** (`compress_vector_test`: 2 points). Suppose you are given a vector, `x`, containing real values that are mostly zero. For instance:\n",
    "\n",
    "```python\n",
    "    x = [0.0, 0.87, 0.0, 0.0, 0.0, 0.32, 0.46, 0.0, 0.0, 0.10, 0.0, 0.0]\n",
    "```\n",
    "\n",
    "Complete the function, `compress_vector(x)`, so that returns a dictionary `d` with two keys, `d['inds']` and `d['vals']`, which are lists that indicate the position and value of all the *non-zero* entries of `x`. For the previous example,\n",
    "\n",
    "```python\n",
    "    d['inds'] = [1, 5, 6, 9]\n",
    "    d['vals'] = [0.87, 0.32, 0.46, 0.10]\n",
    "```\n",
    "\n",
    "> **Note 1.** Your implementation must _not_ modify the input vector `x`.\n",
    "\n",
    "> **Note 2.** If `x` contains only zero entries, `d['inds']` and `d['vals']` should be empty lists."
   ]
  },
  {
   "cell_type": "code",
   "execution_count": 5,
   "metadata": {},
   "outputs": [],
   "source": [
    "from collections import defaultdict"
   ]
  },
  {
   "cell_type": "code",
   "execution_count": 6,
   "metadata": {},
   "outputs": [],
   "source": [
    "def compress_vector(x):\n",
    "    assert type(x) is list\n",
    "    d = {\n",
    "        'inds': [], \n",
    "        'vals': [],\n",
    "    }\n",
    "    #\n",
    "    for i, ex in enumerate(x):\n",
    "        if ex != 0.0:\n",
    "            d['inds'].append(i)\n",
    "            d['vals'].append(ex)\n",
    "        else:\n",
    "            continue\n",
    "    #\n",
    "    return d"
   ]
  },
  {
   "cell_type": "code",
   "execution_count": 7,
   "metadata": {
    "scrolled": false
   },
   "outputs": [
    {
     "name": "stdout",
     "output_type": "stream",
     "text": [
      "Testing `compress_vector(x=[0.0, 0.87, 0.0, 0.0, 0.0, 0.32, 0.46, 0.0, 0.0, 0.1, 0.0, 0.0])`:\n",
      "\t`x` has 8 zero entries.\n",
      "\tx (after call): [0.0, 0.87, 0.0, 0.0, 0.0, 0.32, 0.46, 0.0, 0.0, 0.1, 0.0, 0.0]\n",
      "\td: {'inds': [1, 5, 6, 9], 'vals': [0.87, 0.32, 0.46, 0.1]}\n",
      "\n",
      "Testing `compress_vector(x=[0.0, 0.0, 0.0, 0.0, 0.0, 0.0, 0.0, 0.0, 0.0, 0.0, 0.0, 0.64, 0.0, 0.0, 0.0, 0.0, 0.0, 0.0, 0.0, 0.0])`:\n",
      "\t`x` has 19 zero entries.\n",
      "\tx (after call): [0.0, 0.0, 0.0, 0.0, 0.0, 0.0, 0.0, 0.0, 0.0, 0.0, 0.0, 0.64, 0.0, 0.0, 0.0, 0.0, 0.0, 0.0, 0.0, 0.0]\n",
      "\td: {'inds': [11], 'vals': [0.64]}\n",
      "\n",
      "Testing `compress_vector(x=[0.0, 0.0, 0.0, 0.0, 0.0, 0.0, 0.0, 0.0, 0.4, 0.81, 0.72, 0.0, 0.0, 0.0, 0.0, 0.0, 0.05, 0.0, 0.0, 0.61])`:\n",
      "\t`x` has 15 zero entries.\n",
      "\tx (after call): [0.0, 0.0, 0.0, 0.0, 0.0, 0.0, 0.0, 0.0, 0.4, 0.81, 0.72, 0.0, 0.0, 0.0, 0.0, 0.0, 0.05, 0.0, 0.0, 0.61]\n",
      "\td: {'inds': [8, 9, 10, 16, 19], 'vals': [0.4, 0.81, 0.72, 0.05, 0.61]}\n",
      "\n",
      "Testing `compress_vector(x=[0.0, 0.0, 0.0, 0.0, 0.0, 0.19, 0.0, 0.0, 0.0, 0.0, 0.0, 0.0, 0.0, 0.0, 0.0, 0.52, 0.0, 0.86, 0.0, 0.0])`:\n",
      "\t`x` has 17 zero entries.\n",
      "\tx (after call): [0.0, 0.0, 0.0, 0.0, 0.0, 0.19, 0.0, 0.0, 0.0, 0.0, 0.0, 0.0, 0.0, 0.0, 0.0, 0.52, 0.0, 0.86, 0.0, 0.0]\n",
      "\td: {'inds': [5, 15, 17], 'vals': [0.19, 0.52, 0.86]}\n",
      "Testing `compress_vector(x=[0.0, 0.0, 0.0, 0.0, 0.0, 0.0, 0.0, 0.0, 0.0, 0.0])`:\n",
      "\t`x` has 10 zero entries.\n",
      "\tx (after call): [0.0, 0.0, 0.0, 0.0, 0.0, 0.0, 0.0, 0.0, 0.0, 0.0]\n",
      "\td: {'inds': [], 'vals': []}\n",
      "\n",
      "(Passed!)\n"
     ]
    }
   ],
   "source": [
    "# `compress_vector_test`: Test cell\n",
    "def check_compress_vector(x_orig):\n",
    "    print(\"Testing `compress_vector(x={})`:\".format(x_orig))\n",
    "    x = x_orig.copy()\n",
    "    nz = x.count(0.0)\n",
    "    print(\"\\t`x` has {} zero entries.\".format(nz))\n",
    "    d = compress_vector(x)\n",
    "    print(\"\\tx (after call): {}\".format(x))\n",
    "    print(\"\\td: {}\".format(d))\n",
    "    assert x == x_orig, \"Your implementation appears to modify the input.\"\n",
    "    assert type(d) is dict, \"Output type is not `dict` (a dictionary).\"\n",
    "    assert 'inds' in d and type(d['inds']) is list, \"Output key, 'inds', does not have a value of type `list`.\"\n",
    "    assert 'vals' in d and type(d['vals']) is list, \"Output key, 'vals', does not have a value of type `list`.\"\n",
    "    assert len(d['inds']) == len(d['vals']), \"`d['inds']` and `d['vals']` are lists of unequal length.\"\n",
    "    for i, v in zip(d['inds'], d['vals']):\n",
    "        assert x[i] == v, \"x[{}] == {} instead of {}\".format(i, x[i], v)\n",
    "    assert nz + len(d['vals']) == len(x), \"Output may be missing values.\"\n",
    "    assert len(d.keys()) == 2, \"Output may have keys other than 'inds' and 'vals'.\"\n",
    "    \n",
    "# Test 1: Example\n",
    "x = [0.0, 0.87, 0.0, 0.0, 0.0, 0.32, 0.46, 0.0, 0.0, 0.10, 0.0, 0.0]\n",
    "check_compress_vector(x)\n",
    "\n",
    "# Test 2: Random sparse vectors\n",
    "from random import random\n",
    "for _ in range(3):\n",
    "    print(\"\")\n",
    "    x = []\n",
    "    for _ in range(20):\n",
    "        if random() <= 0.8: # Make about 10% of entries zero\n",
    "            v = 0.0\n",
    "        else:\n",
    "            v = float(\"{:.2f}\".format(random()))\n",
    "        x.append(v)\n",
    "    check_compress_vector(x)\n",
    "    \n",
    "# Test 3: Empty vector\n",
    "x = [0.0] * 10\n",
    "check_compress_vector(x)\n",
    "\n",
    "print(\"\\n(Passed!)\")"
   ]
  },
  {
   "cell_type": "markdown",
   "metadata": {
    "nbgrader": {
     "grade": false,
     "grade_id": "cell-ce49f2928089c229",
     "locked": true,
     "schema_version": 1,
     "solution": false
    }
   },
   "source": [
    "**Repeated indices.** Consider the compressed vector data structure, `d`, in the preceding exercise, which stores a list of indices (`d['inds']`) and a list of values (`d['vals']`).\n",
    "\n",
    "Suppose we allow duplicate indices, possibly with different values. For example:\n",
    "\n",
    "```python\n",
    "    d['inds'] == [0,   3,   7,   3,   3,   5, 1]\n",
    "    d['vals'] == [1.0, 2.0, 3.0, 4.0, 5.0, 6.0, 7.0]\n",
    "```\n",
    "\n",
    "In this case, the index 3 appears three times. (Also note that the indices `d['ind']` need not appear in sorted order.)\n",
    "\n",
    "Let's adopt the convention that when there are repeated indices, the \"true\" value there is the _sum_ of the individual values. In other words, the true vector corresponding to this example of `d` would be:\n",
    "\n",
    "```python\n",
    "    # ind:  0    1    2    3*    4    5    6    7\n",
    "    x == [1.0, 7.0, 0.0, 11.0, 0.0, 6.0, 0.0, 3.0]\n",
    "```"
   ]
  },
  {
   "cell_type": "code",
   "execution_count": 8,
   "metadata": {},
   "outputs": [],
   "source": [
    "vector_x = [0.0, 0.87, 0.0, 0.0, 0.0, 0.32, 0.46, 0.0, 0.0, 0.10, 0.0, 0.0]"
   ]
  },
  {
   "cell_type": "markdown",
   "metadata": {},
   "source": [
    "**Exercise 3** (`decompress_vector_test`: 2 points). Complete the function `decompress_vector(d)` that takes a compressed vector `d`, which is a dictionary with keys for the indices (`inds`) and values (`vals`), and returns the corresponding full vector. For any repeated index, the values should be summed.\n",
    "\n",
    "The function should accept an _optional_ parameter, `n`, that specifies the length of the full vector. You may assume this length is at least `max(d['inds'])+1`."
   ]
  },
  {
   "cell_type": "code",
   "execution_count": 9,
   "metadata": {},
   "outputs": [],
   "source": [
    "import numpy as np\n",
    "from collections import Counter, defaultdict"
   ]
  },
  {
   "cell_type": "code",
   "execution_count": 10,
   "metadata": {},
   "outputs": [],
   "source": [
    "def decompress_vector(d, n=None):\n",
    "    # Checks the input\n",
    "    assert type(d) is dict and 'inds' in d and 'vals' in d, \"Not a dictionary or missing keys\"\n",
    "    assert type(d['inds']) is list and type(d['vals']) is list, \"Not a list\"\n",
    "    assert len(d['inds']) == len(d['vals']), \"Length mismatch\"\n",
    "    \n",
    "    # Determine length of the full vector\n",
    "    i_max = max(d['inds']) if d['inds'] else -1\n",
    "    if n is None:\n",
    "        n = i_max+1\n",
    "    else:\n",
    "        assert n > i_max, \"Bad value for full vector length\"\n",
    "    \n",
    "    # zip the inds and vals together\n",
    "    zipped_d = dict(zip(d['inds'], d['vals']))\n",
    "    zipped_l = list(zip(d['inds'], d['vals']))\n",
    "    \n",
    "    # Count index appearances\n",
    "    index_appearances = Counter(d['inds'])\n",
    "    \n",
    "    # Create new list:\n",
    "    decompressed = []\n",
    "    \n",
    "    if n == 0:\n",
    "        return None\n",
    "    \n",
    "    # Iterate over range(n)\n",
    "    for i in range(n):\n",
    "        \n",
    "        # Count how many times the index appears\n",
    "        if d['inds'].count(i) ==1:\n",
    "            decompressed.append(zipped_d[i])\n",
    "        elif d['inds'].count(i) == 0:\n",
    "            decompressed.append(0.0)\n",
    "        elif d['inds'].count(i) > 1:\n",
    "            add_these = [tup for tup in zipped_l if tup[0] == i]\n",
    "            decompressed.append(np.sum([tup[1] for tup in add_these \n",
    "                                        if index_appearances[tup[0]] > 1]))\n",
    "            \n",
    "    return list(decompressed)\n",
    "    "
   ]
  },
  {
   "cell_type": "code",
   "execution_count": 11,
   "metadata": {},
   "outputs": [
    {
     "name": "stdout",
     "output_type": "stream",
     "text": [
      "Testing `decompress_vector(d, n)`:\n",
      "\tx_true: [1.0, 7.0, 0.0, 11.0, 0.0, 6.0, 0.0, 3.0]\n",
      "\td: {'inds': [0, 3, 7, 3, 3, 5, 1], 'vals': [1.0, 2.0, 3.0, 4.0, 5.0, 6.0, 7.0]}\n",
      "\tn: None\n",
      "\t=> x[:8]: [1.0, 7.0, 0.0, 11.0, 0.0, 6.0, 0.0, 3.0]\n",
      "\n",
      "Testing `decompress_vector(d, n)`:\n",
      "\tx_true: [0.0, 0.0, 0.0, 1.87, 1.2999999999999998, 0.0, 0.0, 0.0, 0.0, 0.0]\n",
      "\td: {'inds': [4, 4, 3, 4, 4, 3, 3], 'vals': [0.29, 0.03, 0.85, 0.87, 0.11, 0.97, 0.05]}\n",
      "\tn: 10\n",
      "\t=> x[:10]: [0.0, 0.0, 0.0, 1.8699999999999999, 1.3, 0.0, 0.0, 0.0, 0.0, 0.0]\n",
      "\n",
      "Testing `decompress_vector(d, n)`:\n",
      "\tx_true: [0.0, 0.68, 0.0, 0.8600000000000001, 0.0, 0.8599999999999999, 0.0, 0.1, 0.0, 0.7]\n",
      "\td: {'inds': [9, 7, 3, 3, 1, 3, 3, 5, 5], 'vals': [0.7, 0.1, 0.07, 0.05, 0.68, 0.22, 0.52, 0.57, 0.29]}\n",
      "\tn: None\n",
      "\t=> x[:10]: [0.0, 0.68, 0.0, 0.8600000000000001, 0.0, 0.85999999999999988, 0.0, 0.1, 0.0, 0.7]\n",
      "\n",
      "Testing `decompress_vector(d, n)`:\n",
      "\tx_true: [0.0, 0.0, 0.0, 0.0, 0.0, 0.0, 0.0, 0.0, 0.0, 0.0]\n",
      "\td: {'inds': [], 'vals': []}\n",
      "\tn: 10\n",
      "\t=> x[:10]: [0.0, 0.0, 0.0, 0.0, 0.0, 0.0, 0.0, 0.0, 0.0, 0.0]\n",
      "\n",
      "Testing `decompress_vector(d, n)`:\n",
      "\tx_true: [0.0, 0.0, 0.0, 0.0, 0.0, 0.0, 0.0, 0.0, 0.0, 0.0]\n",
      "\td: {'inds': [], 'vals': []}\n",
      "\tn: 10\n",
      "\t=> x[:10]: [0.0, 0.0, 0.0, 0.0, 0.0, 0.0, 0.0, 0.0, 0.0, 0.0]\n",
      "\n",
      "Testing `decompress_vector(d, n)`:\n",
      "\tx_true: [0.0, 0.0, 0.0, 1.04, 0.0, 1.7, 0.0, 1.28, 0.0, 0.0]\n",
      "\td: {'inds': [3, 3, 5, 5, 7, 7, 5, 3, 3, 7], 'vals': [0.07, 0.26, 0.36, 0.52, 0.23, 0.9, 0.82, 0.5, 0.21, 0.15]}\n",
      "\tn: 10\n",
      "\t=> x[:10]: [0.0, 0.0, 0.0, 1.04, 0.0, 1.7, 0.0, 1.28, 0.0, 0.0]\n",
      "\n",
      "Testing `decompress_vector(d, n)`:\n",
      "\tx_true: [0.0, 0.0, 0.0, 0.0, 0.0]\n",
      "\td: {'inds': [], 'vals': []}\n",
      "\tn: 5\n",
      "\t=> x[:5]: [0.0, 0.0, 0.0, 0.0, 0.0]\n",
      "\n",
      "(Passed!)\n"
     ]
    }
   ],
   "source": [
    "# `decompress_vector_test`: Test cell\n",
    "def check_decompress_vector(d_orig, x_true):\n",
    "    print(\"Testing `decompress_vector(d, n)`:\")\n",
    "    print(\"\\tx_true: {}\".format(x_true))\n",
    "    print(\"\\td: {}\".format(d_orig))\n",
    "    d = d_orig.copy()\n",
    "    n_true = len(x_true)\n",
    "    if d['inds'] and max(d['inds'])+1 == n_true:\n",
    "        n = None\n",
    "    else:\n",
    "        n = n_true\n",
    "    print(\"\\tn: {}\".format(n))\n",
    "    x = decompress_vector(d, n)\n",
    "    print(\"\\t=> x[:{}]: {}\".format(len(x), x))\n",
    "    assert type(x) is list and len(x) == n_true, \"Output vector has the wrong length.\"\n",
    "    assert all([abs(x_i - x_true_i) < n_true*1e-15 for x_i, x_true_i in zip(x, x_true)])\n",
    "    assert d == d_orig\n",
    "    \n",
    "# Test 1: Example\n",
    "d = {}\n",
    "d['inds'] = [0,   3,   7,   3,   3,   5, 1]\n",
    "d['vals'] = [1.0, 2.0, 3.0, 4.0, 5.0, 6.0, 7.0]\n",
    "x_true = [1.0, 7.0, 0.0, 11.0, 0.0, 6.0, 0.0, 3.0]\n",
    "check_decompress_vector(d, x_true)\n",
    "\n",
    "# Test 2: Random vectors\n",
    "def gen_cvec_reps(p_nz, n_max):\n",
    "    from random import random, randrange, sample\n",
    "    x_true = [0.0] * n_max\n",
    "    d = {'inds': [], 'vals': []}\n",
    "    for i in range(n_max):\n",
    "        if random() <= p_nz: # Create non-zero\n",
    "            n_rep = randrange(1, 5)\n",
    "            d['inds'].extend([i] * n_rep)\n",
    "            v_i = [float(\"{:.2f}\".format(random())) for _ in range(n_rep)]\n",
    "            d['vals'].extend(v_i)\n",
    "            x_true[i] = sum(v_i)\n",
    "    perm = sample(range(len(d['inds'])), k=len(d['inds']))\n",
    "    d['inds'] = [d['inds'][k] for k in perm]\n",
    "    d['vals'] = [d['vals'][k] for k in perm]\n",
    "    return (d, x_true)\n",
    "\n",
    "p_nz = 0.2 # probability of a non-zero\n",
    "n_max = 10 # maximum full-vector length\n",
    "for _ in range(5): # 5 trials\n",
    "    print(\"\")\n",
    "    (d, x_true) = gen_cvec_reps(p_nz, n_max)\n",
    "    check_decompress_vector(d, x_true)\n",
    "    \n",
    "# Test 3: Empty vector of length 5\n",
    "print(\"\")\n",
    "check_decompress_vector({'inds': [], 'vals': []}, ([0.0] * 5))\n",
    "\n",
    "print(\"\\n(Passed!)\")"
   ]
  },
  {
   "cell_type": "markdown",
   "metadata": {},
   "source": [
    "**Exercise 4** (`find_common_inds_test`: 1 point). Suppose you are given two compressed vectors, `d1` and `d2`, each represented as described above and possibly with repeated indices. Complete the function `find_common_inds(d1, d2)` so that it returns a list of the indices they have in common.\n",
    "\n",
    "For instance, suppose:\n",
    "\n",
    "```python\n",
    "    d1 == {'inds': [9, 9, 1, 9, 8, 1], 'vals': [0.28, 0.84, 0.71, 0.03, 0.04, 0.75]}\n",
    "    d2 == {'inds': [0, 9, 9, 1, 3, 3, 9], 'vals': [0.26, 0.06, 0.46, 0.58, 0.42, 0.21, 0.53, 0.76]}\n",
    "```\n",
    "\n",
    "Then:\n",
    "\n",
    "```python\n",
    "    find_common_inds(d1, d2) == [1, 9]\n",
    "```\n",
    "\n",
    "> **Note 1.** The returned list must not have duplicate indices, even if the inputs do. In the example, the index 9 is repeated in both `d1` and `d2`, but the output includes just one 9.\n",
    "\n",
    "> **Note 2.** In the returned list, the order of indices does not matter. For instance, the example shows `[1, 9]` but `[9, 1]` would also be valid."
   ]
  },
  {
   "cell_type": "code",
   "execution_count": 16,
   "metadata": {},
   "outputs": [],
   "source": [
    "d1 = {'inds': [9, 9, 1, 9, 8, 1], 'vals': [0.28, 0.84, 0.71, 0.03, 0.04, 0.75]}\n",
    "d2 = {'inds': [0, 9, 9, 1, 3, 3, 9], 'vals': [0.26, 0.06, 0.46, 0.58, 0.42, 0.21, 0.53, 0.76]}"
   ]
  },
  {
   "cell_type": "code",
   "execution_count": 19,
   "metadata": {},
   "outputs": [],
   "source": [
    "def find_common_inds(d1, d2):\n",
    "    assert type(d1) is dict and 'inds' in d1 and 'vals' in d1\n",
    "    assert type(d2) is dict and 'inds' in d2 and 'vals' in d2\n",
    "    #\n",
    "    aset = set(d1['inds'])\n",
    "    bset = set(d2['inds'])\n",
    "    \n",
    "    return list(aset.intersection(bset))\n",
    "    #\n"
   ]
  },
  {
   "cell_type": "code",
   "execution_count": 20,
   "metadata": {},
   "outputs": [
    {
     "data": {
      "text/plain": [
       "[9, 1]"
      ]
     },
     "execution_count": 20,
     "metadata": {},
     "output_type": "execute_result"
    }
   ],
   "source": [
    "find_common_inds(d1, d2)"
   ]
  },
  {
   "cell_type": "code",
   "execution_count": 21,
   "metadata": {},
   "outputs": [
    {
     "name": "stdout",
     "output_type": "stream",
     "text": [
      "Testing `check_find_common_inds(d1, d2, ans)`:\n",
      "\td1: {'inds': [9, 9, 1, 9, 8, 1], 'vals': [0.28, 0.84, 0.71, 0.03, 0.04, 0.75]}\n",
      "\td2: {'inds': [0, 9, 9, 1, 3, 3, 9], 'vals': [0.26, 0.06, 0.46, 0.58, 0.42, 0.21, 0.53, 0.76]}\n",
      "\texpected ans: [1, 9]\n",
      "\tcomputed common: [9, 1]\n",
      "\n",
      "Testing `check_find_common_inds(d1, d2, ans)`:\n",
      "\td1: {'inds': [6, 3, 15, 17, 17, 13, 3, 11, 15, 13, 3, 14, 6, 8, 18, 13, 15, 17, 4], 'vals': [0.1, 0.7, 0.1, 0.7, 0.6, 0.9, 0.7, 0.2, 0.0, 0.5, 0.4, 0.6, 0.8, 0.3, 0.8, 0.5, 0.8, 0.6, 0.7]}\n",
      "\td2: {'inds': [1, 10, 9, 5, 19, 12, 2, 16, 1, 5, 7, 12, 9, 16, 16, 12, 10, 1, 7, 10, 0, 2], 'vals': [0.5, 0.6, 1.0, 0.5, 0.7, 0.3, 0.1, 0.3, 0.6, 0.3, 0.6, 0.9, 0.4, 0.8, 0.6, 0.4, 0.0, 0.1, 0.9, 0.1, 0.6, 0.6]}\n",
      "\texpected ans: []\n",
      "\tcomputed common: []\n",
      "\n",
      "Testing `check_find_common_inds(d1, d2, ans)`:\n",
      "\td1: {'inds': [19, 0, 9, 17, 17, 16, 16, 8, 2, 11, 7, 19, 9, 7, 9, 4, 0, 0], 'vals': [1.0, 0.2, 0.8, 0.7, 0.5, 1.0, 0.8, 0.4, 0.9, 0.2, 0.7, 0.4, 0.4, 0.9, 0.7, 1.0, 0.3, 0.7]}\n",
      "\td2: {'inds': [10, 18, 18, 18, 12, 12, 17, 10, 13, 14, 16, 6, 17, 17, 5, 5, 3, 6, 13, 13, 10], 'vals': [0.2, 0.0, 0.0, 0.5, 1.0, 0.2, 0.5, 0.1, 0.3, 0.8, 0.5, 0.2, 0.1, 0.6, 0.6, 0.3, 0.4, 0.4, 0.5, 0.0, 0.5]}\n",
      "\texpected ans: [17, 16]\n",
      "\tcomputed common: [16, 17]\n",
      "\n",
      "Testing `check_find_common_inds(d1, d2, ans)`:\n",
      "\td1: {'inds': [2, 11, 3, 4, 5, 3, 1, 11, 11, 12, 4, 16, 10, 1, 4, 12, 0, 1, 0, 16], 'vals': [0.7, 0.9, 0.5, 0.9, 0.5, 0.1, 0.0, 0.6, 0.2, 0.3, 0.9, 0.1, 0.7, 0.0, 0.9, 0.9, 0.9, 0.5, 0.6, 0.3]}\n",
      "\td2: {'inds': [14, 9, 18, 8, 18, 19, 7, 13, 9, 13, 19, 13, 17, 17, 6, 15, 6, 9], 'vals': [0.2, 0.0, 0.1, 0.4, 0.2, 0.8, 0.2, 0.6, 0.9, 0.1, 0.2, 0.9, 0.9, 0.9, 0.8, 1.0, 0.7, 0.0]}\n",
      "\texpected ans: []\n",
      "\tcomputed common: []\n",
      "\n",
      "Testing `check_find_common_inds(d1, d2, ans)`:\n",
      "\td1: {'inds': [12, 12, 17, 16, 6, 19, 2, 12, 0, 2, 6, 8, 0, 6, 8, 17, 16, 0, 11, 18, 17, 2], 'vals': [0.5, 0.7, 0.2, 0.2, 0.5, 0.0, 0.5, 0.3, 0.3, 0.9, 1.0, 0.5, 0.6, 1.0, 0.6, 0.4, 0.8, 0.0, 0.9, 0.1, 0.1, 0.9]}\n",
      "\td2: {'inds': [14, 3, 9, 13, 1, 10, 4, 14, 5, 6, 9, 9, 5, 7, 6, 3], 'vals': [0.5, 0.8, 0.0, 0.8, 0.4, 0.4, 1.0, 0.9, 0.5, 1.0, 0.2, 0.9, 0.0, 0.4, 0.2, 0.9]}\n",
      "\texpected ans: [6]\n",
      "\tcomputed common: [6]\n",
      "\n",
      "Testing `check_find_common_inds(d1, d2, ans)`:\n",
      "\td1: {'inds': [17, 13, 5, 14, 0, 1, 5, 4, 4, 2, 6, 4, 2, 3, 0, 14, 1, 6, 0, 6], 'vals': [0.5, 0.5, 0.9, 0.7, 0.5, 0.8, 0.5, 0.7, 1.0, 1.0, 0.5, 0.2, 0.1, 0.1, 0.7, 0.2, 0.3, 0.4, 0.8, 0.3]}\n",
      "\td2: {'inds': [11, 11, 12, 18, 12, 13, 9, 15, 19, 18, 7, 8, 13, 11, 13, 15, 9, 10, 18, 9], 'vals': [0.9, 0.9, 0.4, 0.0, 0.7, 0.3, 0.9, 0.8, 0.0, 0.6, 0.2, 0.6, 1.0, 0.9, 1.0, 0.6, 0.8, 0.6, 0.8, 0.4]}\n",
      "\texpected ans: [13]\n",
      "\tcomputed common: [13]\n",
      "\n",
      "(Passed!))\n"
     ]
    }
   ],
   "source": [
    "# `find_common_inds_test`: Test cell\n",
    "def check_find_common_inds(d1, d2, ans):\n",
    "    print(\"Testing `check_find_common_inds(d1, d2, ans)`:\")\n",
    "    print(\"\\td1: {}\".format(d1))\n",
    "    print(\"\\td2: {}\".format(d2))\n",
    "    print(\"\\texpected ans: {}\".format(ans))\n",
    "    common = find_common_inds(d1, d2)\n",
    "    print(\"\\tcomputed common: {}\".format(common))\n",
    "    assert type(common) is list\n",
    "    assert sorted(common) == sorted(ans), \"Answers do not match.\"\n",
    "    \n",
    "# Test 1: Example\n",
    "d1 = {'inds': [9, 9, 1, 9, 8, 1], 'vals': [0.28, 0.84, 0.71, 0.03, 0.04, 0.75]}\n",
    "d2 = {'inds': [0, 9, 9, 1, 3, 3, 9], 'vals': [0.26, 0.06, 0.46, 0.58, 0.42, 0.21, 0.53, 0.76]}\n",
    "ans = [1, 9]\n",
    "check_find_common_inds(d1, d2, ans)\n",
    "\n",
    "# Test 2: Random tests\n",
    "from random import random, randrange, sample, shuffle\n",
    "p_common = 0.2\n",
    "for _ in range(5):\n",
    "    print(\"\")\n",
    "    n_min = 10\n",
    "    x = sample(range(2*n_min), 2*n_min)\n",
    "    i1, i2 = x[:n_min], x[n_min:]\n",
    "    inds1, inds2 = [], []\n",
    "    ans = []\n",
    "    for k, i in enumerate(i1):\n",
    "        if random() <= p_common:\n",
    "            i2[k] = i\n",
    "            ans.append(i)\n",
    "        inds1.extend([i] * randrange(1, 4))\n",
    "        inds2.extend([i2[k]] * randrange(1, 4))\n",
    "    shuffle(inds1)\n",
    "    d1 = {'inds': inds1, 'vals': [float(\"{:.1f}\".format(random())) for _ in range(len(inds1))]}\n",
    "    shuffle(inds2)\n",
    "    d2 = {'inds': inds2, 'vals': [float(\"{:.1f}\".format(random())) for _ in range(len(inds2))]}\n",
    "    check_find_common_inds(d1, d2, ans)\n",
    "\n",
    "print(\"\\n(Passed!))\")"
   ]
  },
  {
   "cell_type": "code",
   "execution_count": null,
   "metadata": {},
   "outputs": [],
   "source": []
  }
 ],
 "metadata": {
  "kernelspec": {
   "display_name": "Python 3",
   "language": "python",
   "name": "python3"
  },
  "language_info": {
   "codemirror_mode": {
    "name": "ipython",
    "version": 3
   },
   "file_extension": ".py",
   "mimetype": "text/x-python",
   "name": "python",
   "nbconvert_exporter": "python",
   "pygments_lexer": "ipython3",
   "version": "3.6.3"
  }
 },
 "nbformat": 4,
 "nbformat_minor": 2
}
