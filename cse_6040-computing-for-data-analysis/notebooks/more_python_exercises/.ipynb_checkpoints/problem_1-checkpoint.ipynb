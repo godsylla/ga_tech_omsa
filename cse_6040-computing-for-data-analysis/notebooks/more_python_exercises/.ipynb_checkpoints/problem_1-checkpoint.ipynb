{
 "cells": [
  {
   "cell_type": "markdown",
   "metadata": {},
   "source": [
    "# More Python Exercises"
   ]
  },
  {
   "cell_type": "markdown",
   "metadata": {},
   "source": [
    "## Problem 1 \n",
    "\n",
    "**Exercise 0** (2 points).  Write a function, `transform` that takes a string and performs the following operations to it: converts the string to lower case letters only and removes any spaces in the string.\n",
    "\n",
    "> In this problem, \"space\" means only the space character, not other forms of whitespace, such as tabs and newlines.\n",
    "\n",
    "For example:\n",
    "\n",
    "```python\n",
    "  assert transform('Hello, World!') == 'hello,world'\n",
    "```"
   ]
  },
  {
   "cell_type": "code",
   "execution_count": 5,
   "metadata": {},
   "outputs": [
    {
     "name": "stdout",
     "output_type": "stream",
     "text": [
      "hello,world!\n"
     ]
    }
   ],
   "source": [
    "def transform(k):\n",
    "    #\n",
    "    lowered = k.lower()\n",
    "    return lowered.replace(' ', '')\n",
    "    #\n",
    "    \n",
    "print(transform('Hello, World!'))"
   ]
  },
  {
   "cell_type": "code",
   "execution_count": 6,
   "metadata": {},
   "outputs": [
    {
     "name": "stdout",
     "output_type": "stream",
     "text": [
      "\n",
      "(Passed!)\n"
     ]
    }
   ],
   "source": [
    "# Test cell: test_transform\n",
    "\n",
    "assert transform('HELLO').isupper() is False\n",
    "assert transform(' ').isspace() is False\n",
    "assert transform('HeL lO\\ttHe\\nRe') == 'hello\\tthe\\nre'\n",
    "\n",
    "print(\"\\n(Passed!)\")"
   ]
  },
  {
   "cell_type": "markdown",
   "metadata": {},
   "source": [
    "**Exercise 1** (3 + 5 == 8 points).  Write a function, `remove_dups(S)` that takes a list `S` and removes multiple occurrences of any element. The function returns a list with only one occurrence of each element.\n",
    "\n",
    "For example, `remove_dups(['cat', 'dog', 'sheep', 'dog'])` would return `['cat', 'dog', 'sheep']`.\n",
    "\n",
    "This exercise has two test cells. The first checks that your implementation returns the right answer. The second tests your solution on a large list. To get full credit, your implementation must take less than a certain amount of time!"
   ]
  },
  {
   "cell_type": "code",
   "execution_count": 7,
   "metadata": {},
   "outputs": [],
   "source": [
    "def remove_dups(S):\n",
    "    deduped = set(S)\n",
    "    return list(deduped)"
   ]
  },
  {
   "cell_type": "code",
   "execution_count": 8,
   "metadata": {},
   "outputs": [
    {
     "name": "stdout",
     "output_type": "stream",
     "text": [
      "\n",
      "(Passed!)\n"
     ]
    }
   ],
   "source": [
    "# Test cell: test_remove_dups_correct\n",
    "listA = ['cat', 'dog', 'sheep', 'dog']\n",
    "listB = [1,2,3,4,3,2,1,5]\n",
    "\n",
    "assert isinstance(remove_dups(listA), list)\n",
    "\n",
    "your_listA = remove_dups(listA)\n",
    "assert len(remove_dups(listA)) == 3 and set(your_listA) == {'cat', 'dog', 'sheep'}\n",
    "your_listB = remove_dups(listB)\n",
    "assert len(remove_dups(listB)) == 5 and set(your_listB) == set(range(1,6))\n",
    "\n",
    "print(\"\\n(Passed!)\")"
   ]
  },
  {
   "cell_type": "code",
   "execution_count": 9,
   "metadata": {},
   "outputs": [
    {
     "name": "stdout",
     "output_type": "stream",
     "text": [
      "541 µs ± 20 µs per loop (mean ± std. dev. of 7 runs, 1000 loops each)\n"
     ]
    }
   ],
   "source": [
    "# Test cell: test_remove_dups_fast\n",
    "\n",
    "from random import sample\n",
    "large_list = sample(range(1000000000), 10000)\n",
    "timing = %timeit -o remove_dups(large_list)\n",
    "assert timing.average < 1e-2 # 10 ms time limit for 10,000 elements"
   ]
  },
  {
   "cell_type": "markdown",
   "metadata": {},
   "source": [
    "Fin! You've reached the end of this problem. Don't forget to restart the kernel and run the entire notebook from top-to-bottom to make sure you did everything correctly. If that is working, try submitting this problem. (Recall that you must submit and pass the autograder to get credit for your work!)"
   ]
  }
 ],
 "metadata": {
  "kernelspec": {
   "display_name": "Python 3",
   "language": "python",
   "name": "python3"
  },
  "language_info": {
   "codemirror_mode": {
    "name": "ipython",
    "version": 3
   },
   "file_extension": ".py",
   "mimetype": "text/x-python",
   "name": "python",
   "nbconvert_exporter": "python",
   "pygments_lexer": "ipython3",
   "version": "3.6.5"
  }
 },
 "nbformat": 4,
 "nbformat_minor": 2
}
