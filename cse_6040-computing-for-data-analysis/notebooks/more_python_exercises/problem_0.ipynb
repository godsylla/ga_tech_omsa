{
 "cells": [
  {
   "cell_type": "markdown",
   "metadata": {},
   "source": [
    "# More Python Exercises"
   ]
  },
  {
   "cell_type": "markdown",
   "metadata": {},
   "source": [
    "## Problem 0 - Fast Searching in Ordered Collections (10 points)"
   ]
  },
  {
   "cell_type": "code",
   "execution_count": 1,
   "metadata": {},
   "outputs": [],
   "source": [
    "# Suppose you're given a list of already sorted numbers:\n",
    "A = [2, 16, 26, 32, 52, 71, 80, 88]\n",
    "\n",
    "# These are already sorted:\n",
    "assert A == sorted(A)"
   ]
  },
  {
   "cell_type": "code",
   "execution_count": 2,
   "metadata": {},
   "outputs": [
    {
     "name": "stdout",
     "output_type": "stream",
     "text": [
      "A contains 32: True\n",
      "A contains 7: False\n",
      "A contains -10: False\n"
     ]
    }
   ],
   "source": [
    "# Check to see if an element exists in the list:\n",
    "def contains(A, x):\n",
    "    \"\"\"Returns True only if the value `x` exists in `A`.\"\"\"\n",
    "    return x in A\n",
    "\n",
    "print(\"A contains 32: {}\".format(contains(A, 32)))\n",
    "print(\"A contains 7: {}\".format(contains(A, 7)))\n",
    "print(\"A contains -10: {}\".format(contains(A, -10)))"
   ]
  },
  {
   "cell_type": "markdown",
   "metadata": {},
   "source": [
    "This method works fine and is reasonably fast on small lists. However, if the list is very large, this method can be wasteful, computationally speaking.\n",
    "\n",
    "That's because it does **not** take advantage of the fact that `A` is already ordered. In such a case, it should be easier to determine whether the element exists. (How?)"
   ]
  },
  {
   "cell_type": "markdown",
   "metadata": {},
   "source": [
    "**Exercise 0** (3 + 7 == 10 points). Write a function, `ordered_contains(S, x)`, that takes an **already sorted** list, `S`, as input, and determines whether it contains `x`. But there is one more condition: your method **must** be **at least ten times faster** than `contains()` for \"large\" lists!\n",
    "\n",
    "In particular, there are two test codes for this exercise. The first one checks that your procedure does, indeed, return the correct result by comparing its output to `contains()`, which we will assume is correct. Correctness is worth three (3) points of partial credit out of ten (10). The second test cell checks whether your implementation is faster than `contains()` for a relatively large, but ordered, list. If your implementation is slower for smaller lists, that is okay!\n",
    "\n",
    "> **Hint.** If you can find a standard Python library routine to help you, by all means, use it!"
   ]
  },
  {
   "cell_type": "code",
   "execution_count": 3,
   "metadata": {},
   "outputs": [],
   "source": [
    "import bisect"
   ]
  },
  {
   "cell_type": "code",
   "execution_count": 6,
   "metadata": {},
   "outputs": [
    {
     "data": {
      "text/plain": [
       "3"
      ]
     },
     "execution_count": 6,
     "metadata": {},
     "output_type": "execute_result"
    }
   ],
   "source": [
    "bisect.bisect_left(A, 32)"
   ]
  },
  {
   "cell_type": "code",
   "execution_count": 11,
   "metadata": {},
   "outputs": [
    {
     "data": {
      "text/plain": [
       "True"
      ]
     },
     "execution_count": 11,
     "metadata": {},
     "output_type": "execute_result"
    }
   ],
   "source": [
    "A[3] == 32"
   ]
  },
  {
   "cell_type": "code",
   "execution_count": 8,
   "metadata": {},
   "outputs": [
    {
     "data": {
      "text/plain": [
       "0"
      ]
     },
     "execution_count": 8,
     "metadata": {},
     "output_type": "execute_result"
    }
   ],
   "source": [
    "bisect.bisect_left(A, -10)"
   ]
  },
  {
   "cell_type": "code",
   "execution_count": 10,
   "metadata": {
    "scrolled": true
   },
   "outputs": [
    {
     "data": {
      "text/plain": [
       "False"
      ]
     },
     "execution_count": 10,
     "metadata": {},
     "output_type": "execute_result"
    }
   ],
   "source": [
    "A[0] == -10"
   ]
  },
  {
   "cell_type": "code",
   "execution_count": 12,
   "metadata": {},
   "outputs": [
    {
     "data": {
      "text/plain": [
       "8"
      ]
     },
     "execution_count": 12,
     "metadata": {},
     "output_type": "execute_result"
    }
   ],
   "source": [
    "bisect.bisect_left(A, 1000000)"
   ]
  },
  {
   "cell_type": "code",
   "execution_count": 13,
   "metadata": {
    "scrolled": true
   },
   "outputs": [
    {
     "ename": "IndexError",
     "evalue": "list index out of range",
     "output_type": "error",
     "traceback": [
      "\u001b[0;31m---------------------------------------------------------------------------\u001b[0m",
      "\u001b[0;31mIndexError\u001b[0m                                Traceback (most recent call last)",
      "\u001b[0;32m<ipython-input-13-c81bb5828fbb>\u001b[0m in \u001b[0;36m<module>\u001b[0;34m()\u001b[0m\n\u001b[0;32m----> 1\u001b[0;31m \u001b[0mA\u001b[0m\u001b[0;34m[\u001b[0m\u001b[0;36m8\u001b[0m\u001b[0;34m]\u001b[0m\u001b[0;34m\u001b[0m\u001b[0m\n\u001b[0m",
      "\u001b[0;31mIndexError\u001b[0m: list index out of range"
     ]
    }
   ],
   "source": [
    "A[8]"
   ]
  },
  {
   "cell_type": "code",
   "execution_count": 14,
   "metadata": {},
   "outputs": [
    {
     "data": {
      "text/plain": [
       "8"
      ]
     },
     "execution_count": 14,
     "metadata": {},
     "output_type": "execute_result"
    }
   ],
   "source": [
    "len(A)"
   ]
  },
  {
   "cell_type": "code",
   "execution_count": 21,
   "metadata": {},
   "outputs": [
    {
     "name": "stdout",
     "output_type": "stream",
     "text": [
      "A contains 32: True\n",
      "A contains 7: False\n",
      "A contains -10: False\n",
      "\n",
      "(Did those results match the earlier example?)\n"
     ]
    }
   ],
   "source": [
    "# write your code into this function here:\n",
    "def ordered_contains(S, x):\n",
    "    # You may assume that `S` is sorted\n",
    "    # Try the bisect method\n",
    "            \n",
    "    x_index = bisect.bisect_left(S, x) \n",
    "    if x_index < len(S):\n",
    "        return S[x_index] == x\n",
    "    else:\n",
    "        return False\n",
    "                \n",
    "print(\"A contains 32: {}\".format(ordered_contains(A, 32)))\n",
    "print(\"A contains 7: {}\".format(ordered_contains(A, 7)))\n",
    "print(\"A contains -10: {}\".format(ordered_contains(A, -10)))\n",
    "print(\"\\n(Did those results match the earlier example?)\")"
   ]
  },
  {
   "cell_type": "code",
   "execution_count": 22,
   "metadata": {},
   "outputs": [
    {
     "name": "stdout",
     "output_type": "stream",
     "text": [
      "Checking your code on this input: S = [2, 15, 29, 30, 34, 41, 42, 48, 56, 85, 89, 94, 99]\n",
      "\n",
      "(Passed basic correctness checks.)\n",
      "\n",
      "Timing `contains()`...\n",
      "241 ns ± 17.2 ns per loop (mean ± std. dev. of 7 runs, 1000000 loops each)\n",
      "\n",
      "Timing `ordered_contains_1()`...\n",
      "628 ns ± 8.02 ns per loop (mean ± std. dev. of 7 runs, 1000000 loops each)\n",
      "\n",
      "(This problem is small, so it's okay if your method is slower.)\n",
      "\n",
      "(Passed!)\n"
     ]
    }
   ],
   "source": [
    "# Test cell: `test_is_correct` (1 point)\n",
    "\n",
    "from random import randint, sample\n",
    "\n",
    "def gen_list(n, v_max, v_min=0):\n",
    "    return sample(range(v_min, v_max), n)\n",
    "\n",
    "def gen_sorted_list(n, v_max, v_min=0):\n",
    "    return sorted(gen_list(n, v_max, v_min))\n",
    "\n",
    "def check_case(S, x):\n",
    "    msg = \"`contains(S, {}) == {}` while `ordered_contains(S, {}) == {}`!\"\n",
    "    true_solution = contains(S, x)\n",
    "    your_solution = ordered_contains(S, x)\n",
    "    assert your_solution == true_solution, msg.format(true_solution, your_solution)\n",
    "\n",
    "S = gen_sorted_list(13, 100)\n",
    "print(\"Checking your code on this input: S = {}\".format(S))\n",
    "\n",
    "check_case(S, S[0])\n",
    "check_case(S, S[0]-1)\n",
    "check_case(S, S[-1])\n",
    "check_case(S, S[-1]+1)\n",
    "\n",
    "for x in gen_list(50, 100, -100):\n",
    "    check_case(S, x)\n",
    "print(\"\\n(Passed basic correctness checks.)\")\n",
    "\n",
    "print(\"\\nTiming `contains()`...\")\n",
    "x = randint(-100, 100)\n",
    "%timeit contains(S, x)\n",
    "\n",
    "print(\"\\nTiming `ordered_contains_1()`...\")\n",
    "%timeit ordered_contains(S, x)\n",
    "\n",
    "print(\"\\n(This problem is small, so it's okay if your method is slower.)\")\n",
    "print(\"\\n(Passed!)\")"
   ]
  },
  {
   "cell_type": "code",
   "execution_count": 23,
   "metadata": {},
   "outputs": [
    {
     "name": "stdout",
     "output_type": "stream",
     "text": [
      "Generating a list of size n=1740566...\n",
      "Quick correctness check...\n",
      "\n",
      "(Passed.)\n",
      "\n",
      "Timing `contains()`...\n",
      "136 ms ± 6 ms per loop (mean ± std. dev. of 7 runs, 10 loops each)\n",
      "\n",
      "Timing `ordered_contains()`...\n",
      "1.09 µs ± 47.8 ns per loop (mean ± std. dev. of 7 runs, 1000000 loops each)\n",
      "\n",
      "(Passed -- you were 124239.4x faster!)\n"
     ]
    }
   ],
   "source": [
    "# Test cell: `test_is_faster` (7 points)\n",
    "\n",
    "N_MIN = 1000000\n",
    "N_MAX = 2*N_MIN\n",
    "R_MAX = max(10*N_MAX, 1000000000)\n",
    "\n",
    "n = randint(N_MIN, N_MAX)\n",
    "print(\"Generating a list of size n={}...\".format(n))\n",
    "\n",
    "S_large = gen_sorted_list(n, R_MAX)\n",
    "\n",
    "print(\"Quick correctness check...\")\n",
    "x = randint(-R_MAX, R_MAX)\n",
    "check_case(S_large, x)\n",
    "print(\"\\n(Passed.)\")\n",
    "\n",
    "print(\"\\nTiming `contains()`...\")\n",
    "t_baseline = %timeit -o contains(S_large, x)\n",
    "print(\"\\nTiming `ordered_contains()`...\")\n",
    "t_better = %timeit -o ordered_contains(S_large, x)\n",
    "\n",
    "speedup = t_baseline.average / t_better.average\n",
    "assert speedup >= 10, \"Your method was only {:.2f}x faster (< 1 means it was slower)!\".format(speedup)\n",
    "\n",
    "print(\"\\n(Passed -- you were {:.1f}x faster!)\".format(speedup))"
   ]
  },
  {
   "cell_type": "code",
   "execution_count": null,
   "metadata": {},
   "outputs": [],
   "source": []
  }
 ],
 "metadata": {
  "kernelspec": {
   "display_name": "Python 3",
   "language": "python",
   "name": "python3"
  },
  "language_info": {
   "codemirror_mode": {
    "name": "ipython",
    "version": 3
   },
   "file_extension": ".py",
   "mimetype": "text/x-python",
   "name": "python",
   "nbconvert_exporter": "python",
   "pygments_lexer": "ipython3",
   "version": "3.6.3"
  }
 },
 "nbformat": 4,
 "nbformat_minor": 2
}
