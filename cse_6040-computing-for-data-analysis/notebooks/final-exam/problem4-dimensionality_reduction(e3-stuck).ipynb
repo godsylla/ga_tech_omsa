{
 "cells": [
  {
   "cell_type": "markdown",
   "metadata": {
    "deletable": false,
    "editable": false,
    "nbgrader": {
     "grade": false,
     "locked": true,
     "solution": false
    }
   },
   "source": [
    "# Problem 4 \n",
    "\n",
    "For this problem, you will be asked to create a dimensionality reduction technique used in the pre-processing step for pattern-classification and other machine learning applications. The modifications you will make to this notebook will test your ability to implement an algorithm you may not have seen before.\n",
    "\n",
    "Our goal is to develop a linear transformation method that is commonly used for dimensionality reduction like PCA (Principal component analysis). In contrast to PCA, we will implement a “supervised” technique that computes the directions  that will represent the axes that maximize the separation between multiple classes. By the end of this problem you will be able to reduce the dimensions of a $d$-dimensional dataset by projecting it onto a $(k)$-dimensional subspace (where $k<d$). "
   ]
  },
  {
   "cell_type": "markdown",
   "metadata": {
    "collapsed": true,
    "deletable": false,
    "editable": false,
    "nbgrader": {
     "grade": false,
     "locked": true,
     "solution": false
    }
   },
   "source": [
    "## Let's load the data first\n",
    "\n",
    "We have loaded the required dataset for you in the code below. Go ahead and run the cell. \n",
    "\n",
    "In the following dataset - there are 4 numerical columns - `col1, col2, col3, col4` and one `class` column that signifies the class label for each row. "
   ]
  },
  {
   "cell_type": "code",
   "execution_count": 1,
   "metadata": {
    "deletable": false,
    "editable": false,
    "nbgrader": {
     "grade": false,
     "locked": true,
     "solution": false
    },
    "scrolled": true
   },
   "outputs": [
    {
     "name": "stdout",
     "output_type": "stream",
     "text": [
      "Dimesion of dataset: (149, 5)\n"
     ]
    },
    {
     "data": {
      "text/html": [
       "<div>\n",
       "<style scoped>\n",
       "    .dataframe tbody tr th:only-of-type {\n",
       "        vertical-align: middle;\n",
       "    }\n",
       "\n",
       "    .dataframe tbody tr th {\n",
       "        vertical-align: top;\n",
       "    }\n",
       "\n",
       "    .dataframe thead th {\n",
       "        text-align: right;\n",
       "    }\n",
       "</style>\n",
       "<table border=\"1\" class=\"dataframe\">\n",
       "  <thead>\n",
       "    <tr style=\"text-align: right;\">\n",
       "      <th></th>\n",
       "      <th>col1</th>\n",
       "      <th>col2</th>\n",
       "      <th>col3</th>\n",
       "      <th>col4</th>\n",
       "      <th>class</th>\n",
       "    </tr>\n",
       "  </thead>\n",
       "  <tbody>\n",
       "    <tr>\n",
       "      <th>144</th>\n",
       "      <td>6.7</td>\n",
       "      <td>3.0</td>\n",
       "      <td>5.2</td>\n",
       "      <td>2.3</td>\n",
       "      <td>3</td>\n",
       "    </tr>\n",
       "    <tr>\n",
       "      <th>145</th>\n",
       "      <td>6.3</td>\n",
       "      <td>2.5</td>\n",
       "      <td>5.0</td>\n",
       "      <td>1.9</td>\n",
       "      <td>3</td>\n",
       "    </tr>\n",
       "    <tr>\n",
       "      <th>146</th>\n",
       "      <td>6.5</td>\n",
       "      <td>3.0</td>\n",
       "      <td>5.2</td>\n",
       "      <td>2.0</td>\n",
       "      <td>3</td>\n",
       "    </tr>\n",
       "    <tr>\n",
       "      <th>147</th>\n",
       "      <td>6.2</td>\n",
       "      <td>3.4</td>\n",
       "      <td>5.4</td>\n",
       "      <td>2.3</td>\n",
       "      <td>3</td>\n",
       "    </tr>\n",
       "    <tr>\n",
       "      <th>148</th>\n",
       "      <td>5.9</td>\n",
       "      <td>3.0</td>\n",
       "      <td>5.1</td>\n",
       "      <td>1.8</td>\n",
       "      <td>3</td>\n",
       "    </tr>\n",
       "  </tbody>\n",
       "</table>\n",
       "</div>"
      ],
      "text/plain": [
       "     col1  col2  col3  col4  class\n",
       "144   6.7   3.0   5.2   2.3      3\n",
       "145   6.3   2.5   5.0   1.9      3\n",
       "146   6.5   3.0   5.2   2.0      3\n",
       "147   6.2   3.4   5.4   2.3      3\n",
       "148   5.9   3.0   5.1   1.8      3"
      ]
     },
     "execution_count": 1,
     "metadata": {},
     "output_type": "execute_result"
    }
   ],
   "source": [
    "import sys\n",
    "sys.path.insert(0, '../resource/asnlib/publicdata/')\n",
    "import pandas as pd\n",
    "import numpy as np\n",
    "np.warnings.filterwarnings('ignore')\n",
    "r = 2 #rounding factor\n",
    "df = pd.read_csv('problem4_input.csv')\n",
    "\n",
    "X = df[['col1', 'col2', 'col3', 'col4']].values\n",
    "y = df['class'].values\n",
    "\n",
    "print(\"Dimesion of dataset: {}\".format(df.shape))\n",
    "df.tail()"
   ]
  },
  {
   "cell_type": "markdown",
   "metadata": {
    "deletable": false,
    "editable": false,
    "nbgrader": {
     "grade": false,
     "locked": true,
     "solution": false
    }
   },
   "source": [
    "## Plotting Histograms of features"
   ]
  },
  {
   "cell_type": "code",
   "execution_count": 2,
   "metadata": {
    "deletable": false,
    "editable": false,
    "nbgrader": {
     "grade": false,
     "locked": true,
     "solution": false
    }
   },
   "outputs": [
    {
     "data": {
      "image/png": "[encoded data removed]",
      "text/plain": [
       "<matplotlib.figure.Figure at 0x7f32e4561a20>"
      ]
     },
     "metadata": {},
     "output_type": "display_data"
    }
   ],
   "source": [
    "%matplotlib inline\n",
    "from plot_utils import plot_hist, plot_step\n",
    "plot_hist(X, y, df)"
   ]
  },
  {
   "cell_type": "markdown",
   "metadata": {
    "deletable": false,
    "editable": false,
    "nbgrader": {
     "grade": false,
     "locked": true,
     "solution": false
    }
   },
   "source": [
    "There are 3 unique classes in the dataset. By just looking at these histograms, we can see that the `col3` and `col4` are better suited as potential features to separate between the three classes. "
   ]
  },
  {
   "cell_type": "markdown",
   "metadata": {
    "deletable": false,
    "editable": false,
    "nbgrader": {
     "grade": false,
     "locked": true,
     "solution": false
    }
   },
   "source": [
    "#### Important Note\n",
    "\n",
    "This notebook contains **hidden test cells** which will test your solution on a larger dataset (more rows and class labels). Make sure your solution is generic. \n",
    "\n",
    "To help you understand how that larger dataset looks like, you can run the below cells to get a preview."
   ]
  },
  {
   "cell_type": "code",
   "execution_count": 3,
   "metadata": {
    "deletable": false,
    "editable": false,
    "nbgrader": {
     "grade": false,
     "locked": true,
     "solution": false
    },
    "scrolled": true
   },
   "outputs": [
    {
     "data": {
      "text/html": [
       "<div>\n",
       "<style scoped>\n",
       "    .dataframe tbody tr th:only-of-type {\n",
       "        vertical-align: middle;\n",
       "    }\n",
       "\n",
       "    .dataframe tbody tr th {\n",
       "        vertical-align: top;\n",
       "    }\n",
       "\n",
       "    .dataframe thead th {\n",
       "        text-align: right;\n",
       "    }\n",
       "</style>\n",
       "<table border=\"1\" class=\"dataframe\">\n",
       "  <thead>\n",
       "    <tr style=\"text-align: right;\">\n",
       "      <th></th>\n",
       "      <th>I0</th>\n",
       "      <th>PA500</th>\n",
       "      <th>HFS</th>\n",
       "      <th>DA</th>\n",
       "      <th>Area</th>\n",
       "      <th>A/DA</th>\n",
       "      <th>Max IP</th>\n",
       "      <th>DR</th>\n",
       "      <th>P</th>\n",
       "      <th>class</th>\n",
       "    </tr>\n",
       "  </thead>\n",
       "  <tbody>\n",
       "    <tr>\n",
       "      <th>0</th>\n",
       "      <td>524.794072</td>\n",
       "      <td>0.187448</td>\n",
       "      <td>0.032114</td>\n",
       "      <td>228.800228</td>\n",
       "      <td>6843.598481</td>\n",
       "      <td>29.910803</td>\n",
       "      <td>60.204880</td>\n",
       "      <td>220.737212</td>\n",
       "      <td>556.828334</td>\n",
       "      <td>2</td>\n",
       "    </tr>\n",
       "    <tr>\n",
       "      <th>1</th>\n",
       "      <td>330.000000</td>\n",
       "      <td>0.226893</td>\n",
       "      <td>0.265290</td>\n",
       "      <td>121.154201</td>\n",
       "      <td>3163.239472</td>\n",
       "      <td>26.109202</td>\n",
       "      <td>69.717361</td>\n",
       "      <td>99.084964</td>\n",
       "      <td>400.225776</td>\n",
       "      <td>2</td>\n",
       "    </tr>\n",
       "    <tr>\n",
       "      <th>2</th>\n",
       "      <td>551.879287</td>\n",
       "      <td>0.232478</td>\n",
       "      <td>0.063530</td>\n",
       "      <td>264.804935</td>\n",
       "      <td>11888.391830</td>\n",
       "      <td>44.894903</td>\n",
       "      <td>77.793297</td>\n",
       "      <td>253.785300</td>\n",
       "      <td>656.769449</td>\n",
       "      <td>2</td>\n",
       "    </tr>\n",
       "    <tr>\n",
       "      <th>3</th>\n",
       "      <td>380.000000</td>\n",
       "      <td>0.240855</td>\n",
       "      <td>0.286234</td>\n",
       "      <td>137.640111</td>\n",
       "      <td>5402.171180</td>\n",
       "      <td>39.248524</td>\n",
       "      <td>88.758446</td>\n",
       "      <td>105.198568</td>\n",
       "      <td>493.701813</td>\n",
       "      <td>2</td>\n",
       "    </tr>\n",
       "    <tr>\n",
       "      <th>4</th>\n",
       "      <td>362.831266</td>\n",
       "      <td>0.200713</td>\n",
       "      <td>0.244346</td>\n",
       "      <td>124.912559</td>\n",
       "      <td>3290.462446</td>\n",
       "      <td>26.342127</td>\n",
       "      <td>69.389389</td>\n",
       "      <td>103.866552</td>\n",
       "      <td>424.796503</td>\n",
       "      <td>2</td>\n",
       "    </tr>\n",
       "  </tbody>\n",
       "</table>\n",
       "</div>"
      ],
      "text/plain": [
       "           I0     PA500       HFS          DA          Area       A/DA  \\\n",
       "0  524.794072  0.187448  0.032114  228.800228   6843.598481  29.910803   \n",
       "1  330.000000  0.226893  0.265290  121.154201   3163.239472  26.109202   \n",
       "2  551.879287  0.232478  0.063530  264.804935  11888.391830  44.894903   \n",
       "3  380.000000  0.240855  0.286234  137.640111   5402.171180  39.248524   \n",
       "4  362.831266  0.200713  0.244346  124.912559   3290.462446  26.342127   \n",
       "\n",
       "      Max IP          DR           P  class  \n",
       "0  60.204880  220.737212  556.828334      2  \n",
       "1  69.717361   99.084964  400.225776      2  \n",
       "2  77.793297  253.785300  656.769449      2  \n",
       "3  88.758446  105.198568  493.701813      2  \n",
       "4  69.389389  103.866552  424.796503      2  "
      ]
     },
     "execution_count": 3,
     "metadata": {},
     "output_type": "execute_result"
    }
   ],
   "source": [
    "test_preview = pd.read_csv('test_input_small.csv')\n",
    "test_preview.head()\n"
   ]
  },
  {
   "cell_type": "code",
   "execution_count": 4,
   "metadata": {},
   "outputs": [
    {
     "data": {
      "text/plain": [
       "(13, 10)"
      ]
     },
     "execution_count": 4,
     "metadata": {},
     "output_type": "execute_result"
    }
   ],
   "source": [
    "test_preview.shape"
   ]
  },
  {
   "cell_type": "markdown",
   "metadata": {
    "deletable": false,
    "editable": false,
    "nbgrader": {
     "grade": false,
     "locked": true,
     "solution": false
    }
   },
   "source": [
    "**Exercise 1** (0 points): Computing the $d$-dimensional mean vectors.\n",
    "\n",
    "Complete the `calculate_mean_vector(X,y)` function where - \n",
    "1. `X` = $ n \\times d$ matrix of input features, where $n$ = number of data points, $d$ = number of features\n",
    "2. `y` = a vector of length $n$ denoting class labels for the $n$ data points\n",
    "\n",
    "The function will return a $k \\times d$ matrix (2d numpy array) where $k$ = number of unique class. The order in which means appear should be as follows:\n",
    "\n",
    "$$ \\begin{bmatrix} \n",
    "\\vec\\mu_{class \\, 1} \\\\\n",
    "\\vec\\mu_{class \\,  2} \\\\\n",
    ". \\\\\n",
    ". \\\\\n",
    "\\vec\\mu_{class \\, k}\n",
    "\\end{bmatrix} $$\n",
    "\n",
    "**Important Note**: \n",
    "- Notebook contains **hidden test cells** which will test your solution on a larger dataset (more rows and class labels). Make sure your solution is generic. \n",
    "\n",
    "- We will test your solution rounding it to two decimal place. You **do not** need to round."
   ]
  },
  {
   "cell_type": "code",
   "execution_count": 5,
   "metadata": {},
   "outputs": [
    {
     "data": {
      "text/plain": [
       "array([[4.9, 3. , 1.4, 0.2],\n",
       "       [4.7, 3.2, 1.3, 0.2],\n",
       "       [4.6, 3.1, 1.5, 0.2],\n",
       "       [5. , 3.6, 1.4, 0.2],\n",
       "       [5.4, 3.9, 1.7, 0.4],\n",
       "       [4.6, 3.4, 1.4, 0.3],\n",
       "       [5. , 3.4, 1.5, 0.2],\n",
       "       [4.4, 2.9, 1.4, 0.2],\n",
       "       [4.9, 3.1, 1.5, 0.1],\n",
       "       [5.4, 3.7, 1.5, 0.2]])"
      ]
     },
     "execution_count": 5,
     "metadata": {},
     "output_type": "execute_result"
    }
   ],
   "source": [
    "X[:10]"
   ]
  },
  {
   "cell_type": "code",
   "execution_count": 6,
   "metadata": {
    "scrolled": true
   },
   "outputs": [
    {
     "data": {
      "text/plain": [
       "array([1, 1, 1, 1, 1, 1, 1, 1, 1, 1])"
      ]
     },
     "execution_count": 6,
     "metadata": {},
     "output_type": "execute_result"
    }
   ],
   "source": [
    "y[:10]"
   ]
  },
  {
   "cell_type": "code",
   "execution_count": 7,
   "metadata": {
    "deletable": false,
    "editable": false,
    "nbgrader": {
     "grade": false,
     "locked": true,
     "solution": false
    }
   },
   "outputs": [
    {
     "data": {
      "text/plain": [
       "array([[5.00408163, 3.41632653, 1.46530612, 0.24489796],\n",
       "       [5.936     , 2.77      , 4.26      , 1.326     ],\n",
       "       [6.588     , 2.974     , 5.552     , 2.026     ]])"
      ]
     },
     "execution_count": 7,
     "metadata": {},
     "output_type": "execute_result"
    }
   ],
   "source": [
    "def calculate_mean_vector(X,y):\n",
    "    #Initiate a blank numpy.ndarray object\n",
    "    mean_vectors = np.zeros((len(set(y)),X.shape[1]))\n",
    "\n",
    "    for idx, cl in enumerate(set(y)):\n",
    "        mean_vectors[idx]= np.mean(X[y==cl], axis=0)\n",
    "\n",
    "    return mean_vectors\n",
    "\n",
    "mean_vectors = calculate_mean_vector(X,y)\n",
    "mean_vectors"
   ]
  },
  {
   "cell_type": "code",
   "execution_count": 8,
   "metadata": {
    "deletable": false,
    "editable": false,
    "nbgrader": {
     "grade": true,
     "grade_id": "dummy_ex1",
     "locked": true,
     "points": "0",
     "solution": false
    }
   },
   "outputs": [
    {
     "name": "stdout",
     "output_type": "stream",
     "text": [
      "*********\n",
      "Passed dummy test cell\n",
      "Note : There are hidden test cells that run on a totally different but identical dataset\n"
     ]
    }
   ],
   "source": [
    "## Dummy Test Cell 1\n",
    "\n",
    "student_answer = np.round(calculate_mean_vector(X,y),r)\n",
    "# print(f'Your answer : \\n{student_answer}')\n",
    "\n",
    "teachers_answer = np.round(np.array([[5.00408163, 3.41632653, 1.46530612, 0.24489796],\n",
    "                            [5.936     , 2.77      , 4.26      , 1.326     ],\n",
    "                            [6.588     , 2.974     , 5.552     , 2.026     ]]),r)\n",
    "# print(f'Teachers answer : \\n{teachers_answer}')\n",
    "\n",
    "assert np.array_equal(student_answer, teachers_answer), \"Check the answer\"\n",
    "\n",
    "print(\"*********\")\n",
    "print(\"Passed dummy test cell\")\n",
    "print(\"Note : There are hidden test cells that run on a totally different but identical dataset\")"
   ]
  },
  {
   "cell_type": "code",
   "execution_count": 9,
   "metadata": {
    "deletable": false,
    "editable": false,
    "nbgrader": {
     "grade": true,
     "grade_id": "test_ex1",
     "locked": true,
     "points": "0",
     "solution": false
    }
   },
   "outputs": [],
   "source": [
    "###\n",
    "### AUTOGRADER TEST - DO NOT REMOVE\n",
    "###\n"
   ]
  },
  {
   "cell_type": "markdown",
   "metadata": {
    "deletable": false,
    "editable": false,
    "nbgrader": {
     "grade": false,
     "locked": true,
     "solution": false
    }
   },
   "source": [
    "**Exercise 2** (6 points): Computing estimate of Covariance Matrices"
   ]
  },
  {
   "cell_type": "markdown",
   "metadata": {
    "deletable": false,
    "editable": false,
    "nbgrader": {
     "grade": false,
     "locked": true,
     "solution": false
    }
   },
   "source": [
    "Now, we will compute the two $d\\times d$-dimensional matrices: The within-class and the between-class estimates of covariance matrix.\n",
    "\n",
    "#### 2.1 Within-class (3 points)\n",
    "\n",
    "Complete the function `get_S_W_matrix(X, y)` that returns the within-class estimate of covariance matrix $S_W$. \n",
    "\n",
    "$$ S_w = \\sum_{i=1}^{k}S_i$$\n",
    "\n",
    "$$ \\textit{where } \\, \\,  S_i = \\sum_{\\textbf x \\epsilon D_i} (\\textbf {x} - \\textbf{m}_i)(\\textbf {x} - \\textbf{m}_i)^t  \\, \\, \\,  \\textit{(covariance matrix estimate for every class 'i')}$$\n",
    "\n",
    "$$ \\textbf{m}_i = \\frac{1}{n_i}\\sum_{\\textbf x \\epsilon D_i} \\textbf {x}  $$\n",
    "\n",
    "$D_i$ are data points labeled as class $i$. \n",
    "$n_i$ is the number of datapoints in class $i$. \n",
    "$k$ is the number of unique classes in the dataset. \n",
    "$d$ is the number of features.\n",
    "\n",
    "Note that $\\bf x$ and $\\bf m_i$ are vectors.\n",
    "\n"
   ]
  },
  {
   "cell_type": "code",
   "execution_count": 10,
   "metadata": {
    "scrolled": false
   },
   "outputs": [
    {
     "data": {
      "text/plain": [
       "(149, 4)"
      ]
     },
     "execution_count": 10,
     "metadata": {},
     "output_type": "execute_result"
    }
   ],
   "source": [
    "X.shape"
   ]
  },
  {
   "cell_type": "code",
   "execution_count": 11,
   "metadata": {
    "scrolled": true
   },
   "outputs": [
    {
     "data": {
      "text/plain": [
       "array([[0., 0., 0., 0.],\n",
       "       [0., 0., 0., 0.],\n",
       "       [0., 0., 0., 0.],\n",
       "       [0., 0., 0., 0.]])"
      ]
     },
     "execution_count": 11,
     "metadata": {},
     "output_type": "execute_result"
    }
   ],
   "source": [
    "np.zeros((4, 4))"
   ]
  },
  {
   "cell_type": "code",
   "execution_count": 12,
   "metadata": {},
   "outputs": [
    {
     "data": {
      "text/plain": [
       "(149, 4)"
      ]
     },
     "execution_count": 12,
     "metadata": {},
     "output_type": "execute_result"
    }
   ],
   "source": [
    "(X - mean_vectors[1]).shape"
   ]
  },
  {
   "cell_type": "code",
   "execution_count": 13,
   "metadata": {},
   "outputs": [
    {
     "name": "stdout",
     "output_type": "stream",
     "text": [
      "(49, 4)\n",
      "(50, 4)\n",
      "(50, 4)\n",
      "[[38.94718367 13.67513469 24.62013878  5.65982041]\n",
      " [13.67513469 17.02813878  8.1253551   4.91688163]\n",
      " [24.62013878  8.1253551  27.21582041  6.25072653]\n",
      " [ 5.65982041  4.91688163  6.25072653  6.17362449]]\n"
     ]
    }
   ],
   "source": [
    "def get_S_W_matrix(X,y):\n",
    "    S_W = np.zeros((X.shape[1],X.shape[1]))\n",
    "\n",
    "    ###\n",
    "    # Calculate the mean vectors\n",
    "    mean_vectors = calculate_mean_vector(X, y)\n",
    "    \n",
    "    S_cl_to_sum = []\n",
    "    for idx, cl in enumerate(set(y)):\n",
    "        # filter on only the X points associated w/ the corresponding class y\n",
    "        X_di = X[y==cl]\n",
    "        \n",
    "        # focus on the mean vector associated with class y\n",
    "        m_i = mean_vectors[idx]\n",
    "        \n",
    "        diff_vec = X_di - m_i\n",
    "        print(diff_vec.shape)\n",
    "        S_cl = (diff_vec.T.dot(diff_vec))\n",
    "        S_cl_to_sum.append(S_cl)\n",
    "        \n",
    "    for S in S_cl_to_sum:\n",
    "        S_W = np.add(S, S_W)\n",
    "    ###\n",
    "    \n",
    "    return S_W\n",
    "\n",
    "S_W = get_S_W_matrix(X,y)\n",
    "print(S_W)"
   ]
  },
  {
   "cell_type": "code",
   "execution_count": 14,
   "metadata": {
    "deletable": false,
    "editable": false,
    "nbgrader": {
     "grade": true,
     "grade_id": "dummy_ex2_1",
     "locked": true,
     "points": "0",
     "solution": false
    }
   },
   "outputs": [
    {
     "name": "stdout",
     "output_type": "stream",
     "text": [
      "(49, 4)\n",
      "(50, 4)\n",
      "(50, 4)\n",
      "Your answer : \n",
      "[[38.95 13.68 24.62  5.66]\n",
      " [13.68 17.03  8.13  4.92]\n",
      " [24.62  8.13 27.22  6.25]\n",
      " [ 5.66  4.92  6.25  6.17]]\n",
      "Teachers answer \n",
      "[[38.95 13.68 24.62  5.66]\n",
      " [13.68 17.03  8.13  4.92]\n",
      " [24.62  8.13 27.22  6.25]\n",
      " [ 5.66  4.92  6.25  6.17]]\n",
      "*********\n",
      "Passed dummy test cell\n",
      "Note : There are hidden test cells that run on a totally different but identical dataset\n"
     ]
    }
   ],
   "source": [
    "## Dummy Test Cell 2.1\n",
    "\n",
    "student_answer_ex2 = np.round(get_S_W_matrix(X,y),r)\n",
    "print(f'Your answer : \\n{student_answer_ex2}')\n",
    "assert (type(student_answer_ex2)==np.ndarray), \"Check the data type of your result\"\n",
    "\n",
    "teachers_answer_ex2 = np.round(np.array([[38.94718367, 13.67513469, 24.62013878,  5.65982041],\n",
    "                                         [13.67513469, 17.02813878,  8.1253551 ,  4.91688163],\n",
    "                                         [24.62013878,  8.1253551 , 27.21582041,  6.25072653],\n",
    "                                         [ 5.65982041,  4.91688163,  6.25072653,  6.17362449]]),r)\n",
    "print(f'Teachers answer \\n{teachers_answer_ex2}')\n",
    "\n",
    "assert np.array_equal(student_answer_ex2, teachers_answer_ex2), \"Check the answer\"\n",
    "\n",
    "print(\"*********\")\n",
    "print(\"Passed dummy test cell\")\n",
    "print(\"Note : There are hidden test cells that run on a totally different but identical dataset\")\n"
   ]
  },
  {
   "cell_type": "code",
   "execution_count": 15,
   "metadata": {
    "deletable": false,
    "editable": false,
    "nbgrader": {
     "grade": true,
     "grade_id": "test_ex2_1",
     "locked": true,
     "points": "3",
     "solution": false
    }
   },
   "outputs": [],
   "source": [
    "###\n",
    "### AUTOGRADER TEST - DO NOT REMOVE\n",
    "###\n"
   ]
  },
  {
   "cell_type": "markdown",
   "metadata": {
    "deletable": false,
    "editable": false,
    "nbgrader": {
     "grade": false,
     "locked": true,
     "solution": false
    }
   },
   "source": [
    "#### 2.2 Between-class covariance matrix estimate (3 points)\n",
    "\n",
    "Complete the function `get_S_B_matrix(X,y)` which returns the between-class estimate of covariance matrix $S_B$.\n",
    "\n",
    "$$ S_B = \\sum_{i}^{k} N_i (\\textbf {m}_i - \\textbf{m})(\\textbf {m}_i - \\textbf{m})^t  \\, \\, \\,  \\textit{(covariance matrix estimate for every class 'i')}$$\n",
    "\n",
    "where $\\bf m$ is the overall mean and $\\textbf{m}_i$ and $N_i$ are the sample mean and sizes of the respective classes."
   ]
  },
  {
   "cell_type": "code",
   "execution_count": 16,
   "metadata": {
    "scrolled": true
   },
   "outputs": [
    {
     "data": {
      "text/plain": [
       "array([5.84832215, 3.05100671, 3.77449664, 1.20536913])"
      ]
     },
     "execution_count": 16,
     "metadata": {},
     "output_type": "execute_result"
    }
   ],
   "source": [
    "np.mean(X, axis=0)"
   ]
  },
  {
   "cell_type": "code",
   "execution_count": 17,
   "metadata": {},
   "outputs": [
    {
     "name": "stdout",
     "output_type": "stream",
     "text": [
      "[[ 62.66489686 -19.19238302 163.39348539  70.61152187]\n",
      " [-19.19238302  10.78421022 -55.0015296  -22.047687  ]\n",
      " [163.39348539 -55.0015296  431.04726684 184.53967615]\n",
      " [ 70.61152187 -22.047687   184.53967615  79.60208021]]\n"
     ]
    }
   ],
   "source": [
    "def get_S_B_matrix(X,y):\n",
    "    \n",
    "    ###\n",
    "    S_B = np.zeros((X.shape[1], X.shape[1]))\n",
    "    \n",
    "    # Calculate the mean vectors and overall mean\n",
    "    mean_vectors = calculate_mean_vector(X, y)\n",
    "    overall_mean = np.mean(X, axis=0).reshape(1, X.shape[1])\n",
    "    \n",
    "    Sb_to_sum = []\n",
    "    for idx, cl in enumerate(set(y)):\n",
    "        # Get the sample size for class cl\n",
    "        N_i = len(X[y==cl])\n",
    "        \n",
    "        # focus on the mean vector associated with class y\n",
    "        m_i = mean_vectors[idx]\n",
    "        \n",
    "        diff_vec = m_i - overall_mean\n",
    "        Sb = np.dot(N_i*diff_vec.T, diff_vec)\n",
    "        Sb_to_sum.append(Sb)\n",
    "        \n",
    "    for S in Sb_to_sum:\n",
    "        S_B = np.add(S, S_B)\n",
    "    ###\n",
    "    \n",
    "    return S_B\n",
    "\n",
    "S_B = get_S_B_matrix(X,y)\n",
    "print(S_B)"
   ]
  },
  {
   "cell_type": "code",
   "execution_count": 18,
   "metadata": {
    "deletable": false,
    "editable": false,
    "nbgrader": {
     "grade": true,
     "grade_id": "dummy_ex2_2",
     "locked": true,
     "points": "0",
     "solution": false
    }
   },
   "outputs": [
    {
     "name": "stdout",
     "output_type": "stream",
     "text": [
      "*********\n",
      "Passed dummy test cell\n",
      "Note : There are hidden test cells that run on a totally different but identical dataset\n"
     ]
    }
   ],
   "source": [
    "## Dummy Test Cell 2.2\n",
    "student_answer_ex2_2 = np.round(get_S_B_matrix(X,y),r)\n",
    "# print(f'Your answer : \\n{student_answer_ex2_2}')\n",
    "\n",
    "assert (type(student_answer_ex2_2)==np.ndarray), \"Check the data type of your result\"\n",
    "\n",
    "teachers_answer_ex2_2 = np.round(np.array([ [62.66489686, -19.19238302, 163.39348539,  70.61152187],\n",
    "                                            [-19.19238302,  10.78421022, -55.0015296 , -22.047687],\n",
    "                                            [163.39348539, -55.0015296 , 431.04726684, 184.53967615],\n",
    "                                            [ 70.61152187, -22.047687  , 184.53967615,  79.60208021]]),r)\n",
    "# print(f'Teachers answer : \\n{teachers_answer_ex2_2}')\n",
    "\n",
    "assert np.array_equal(student_answer_ex2_2, teachers_answer_ex2_2), \"Check the answer\"\n",
    "\n",
    "print(\"*********\")\n",
    "print(\"Passed dummy test cell\")\n",
    "print(\"Note : There are hidden test cells that run on a totally different but identical dataset\")\n"
   ]
  },
  {
   "cell_type": "code",
   "execution_count": 19,
   "metadata": {
    "deletable": false,
    "editable": false,
    "nbgrader": {
     "grade": true,
     "grade_id": "test_ex2_2",
     "locked": true,
     "points": "3",
     "solution": false
    }
   },
   "outputs": [],
   "source": [
    "###\n",
    "### AUTOGRADER TEST - DO NOT REMOVE\n",
    "###\n"
   ]
  },
  {
   "cell_type": "markdown",
   "metadata": {
    "collapsed": true,
    "deletable": false,
    "editable": false,
    "nbgrader": {
     "grade": false,
     "locked": true,
     "solution": false
    }
   },
   "source": [
    "**Exercise 3:** (2 points)"
   ]
  },
  {
   "cell_type": "markdown",
   "metadata": {
    "collapsed": true,
    "deletable": false,
    "editable": false,
    "nbgrader": {
     "grade": false,
     "locked": true,
     "solution": false
    }
   },
   "source": [
    "#### Main idea: \n",
    "\n",
    "From the 2 scatter matrix above, we can solve the generalized eigenvalue problem for the matrix $S^{−1}_WS_B$ to computes the directions that will represent the axes that maximize the separation between multiple classes.\n",
    "\n",
    "We are not only interested in merely projecting the data into a subspace that improves the class separability, but also reduces the dimensionality of our feature space, (where the eigenvectors will form the axes of this new feature subspace). However, the eigenvectors only define the directions of the new axis, since they all have the same unit length 1.\n",
    "\n",
    "In order to decide which eigenvector(s) we want to drop for our lower-dimensional subspace, we have to take a look at the corresponding eigenvalues of the eigenvectors. Roughly speaking, the eigenvectors with the lowest eigenvalues bear the least information about the distribution of the data, and those are the ones we want to drop.\n",
    "\n",
    "The common approach is to rank the eigenvectors from highest to lowest corresponding to their eigenvalues and choose the top eigenvectors."
   ]
  },
  {
   "cell_type": "markdown",
   "metadata": {
    "collapsed": true,
    "deletable": false,
    "editable": false,
    "nbgrader": {
     "grade": false,
     "locked": true,
     "solution": false
    }
   },
   "source": [
    "#### For this exercise, there are 2 tasks:\n",
    "\n",
    "##### Given Input: Within-class & Between-class estimate of covariance matrices\n",
    "\n",
    "1. Calculate eigenvalue and eigenvector from matrix $S^{−1}_WS_B$ (See [numpy.linalg.eig](https://docs.scipy.org/doc/numpy/reference/generated/numpy.linalg.eig.html) )\n",
    "\n",
    "2. Return eigen_list: a list of [eigenvalue, eigenvector, variance_explained] sorted from high to low based on eigenvalue. \n",
    "    Here is how to calculate [variance_explained](https://stats.stackexchange.com/questions/31908/what-is-percentage-of-variance-in-pca/31911).\n",
    "\n",
    "\n",
    "##### Output: eigen_list as a numpy ndarray object\n",
    "\n",
    "    [ [eigenvalue_1, eigenvector_1, variance_explained_1],\n",
    "\n",
    "      ..., \n",
    "\n",
    "      [eigenvalue_n, eigenvector_n, variance_explained_n] ]\n",
    "\n",
    "**Note**: eigenvector is a list of number. Sample output should look like the picture below."
   ]
  },
  {
   "cell_type": "markdown",
   "metadata": {
    "deletable": false,
    "editable": false,
    "nbgrader": {
     "grade": false,
     "locked": true,
     "solution": false
    }
   },
   "source": [
    "![alt text](Ex4.png \"Title\")\n"
   ]
  },
  {
   "cell_type": "code",
   "execution_count": 20,
   "metadata": {},
   "outputs": [
    {
     "name": "stdout",
     "output_type": "stream",
     "text": [
      "eigenvalues:  [ 3.18745794e+01  2.76937486e-01 -6.26858233e-16  3.10312741e-15] \n",
      "\n",
      "eigenvectors:  [[-0.20511216 -0.38692895  0.54633986  0.7139522 ]\n",
      " [-0.00835164 -0.58911633  0.25447583 -0.76688608]\n",
      " [ 0.7145727  -0.03630892  0.02342374 -0.6982255 ]\n",
      " [-0.79036335  0.41273135  0.42222368 -0.16341898]] \n",
      "\n",
      "explained variance:  [0.9913864876958728, 0.008613512304127149, 9.651573885530934e-17, -1.949700335913353e-17] \n",
      "\n"
     ]
    }
   ],
   "source": [
    "def get_eigen_list(S_W,S_B):\n",
    "    ###\n",
    "    input_matrix = (np.linalg.inv(S_W)).dot(S_B)\n",
    "    values, vectors = np.linalg.eig(input_matrix)\n",
    "    print('eigenvalues: ', values, '\\n')\n",
    "    \n",
    "    true_vectors = []\n",
    "    for i in range(len(vectors)):\n",
    "        col_vector = []\n",
    "        for vec in vectors:\n",
    "            col_vector.append(vec[i])\n",
    "        true_vectors.append(col_vector)\n",
    "    true_vectors = np.array(true_vectors)\n",
    "    print('eigenvectors: ', true_vectors, '\\n')\n",
    "    \n",
    "    eigenval_sum = np.sum(values)\n",
    "    \n",
    "    zipped = list(zip(values, true_vectors))\n",
    "    zipped_sorted = sorted(zipped, key=lambda x: x[0], reverse=True)\n",
    "    \n",
    "    eigen_list = []\n",
    "    for val, vec in zipped_sorted: \n",
    "        explained_variance = val/eigenval_sum\n",
    "        eigen_list.append([val, vec, explained_variance])\n",
    "    print('explained variance: ', [ev[2] for ev in eigen_list], '\\n')\n",
    "    \n",
    "    return np.array(eigen_list)\n",
    "    ###\n",
    "\n",
    "eigen_list = get_eigen_list(S_W,S_B)"
   ]
  },
  {
   "cell_type": "code",
   "execution_count": 21,
   "metadata": {
    "deletable": false,
    "editable": false,
    "nbgrader": {
     "grade": true,
     "grade_id": "dummy_ex3",
     "locked": true,
     "points": "0",
     "solution": false
    }
   },
   "outputs": [
    {
     "name": "stdout",
     "output_type": "stream",
     "text": [
      "(49, 4)\n",
      "(50, 4)\n",
      "(50, 4)\n",
      "eigenvalues:  [ 3.18745794e+01  2.76937486e-01 -6.26858233e-16  3.10312741e-15] \n",
      "\n",
      "eigenvectors:  [[-0.20511216 -0.38692895  0.54633986  0.7139522 ]\n",
      " [-0.00835164 -0.58911633  0.25447583 -0.76688608]\n",
      " [ 0.7145727  -0.03630892  0.02342374 -0.6982255 ]\n",
      " [-0.79036335  0.41273135  0.42222368 -0.16341898]] \n",
      "\n",
      "explained variance:  [0.9913864876958728, 0.008613512304127149, 9.651573885530934e-17, -1.949700335913353e-17] \n",
      "\n"
     ]
    },
    {
     "ename": "AssertionError",
     "evalue": "not equal",
     "output_type": "error",
     "traceback": [
      "\u001b[0;31m---------------------------------------------------------------------------\u001b[0m",
      "\u001b[0;31mAssertionError\u001b[0m                            Traceback (most recent call last)",
      "\u001b[0;32m<ipython-input-21-9635877c9605>\u001b[0m in \u001b[0;36m<module>\u001b[0;34m()\u001b[0m\n\u001b[1;32m     22\u001b[0m                 \u001b[0;32massert\u001b[0m \u001b[0mnp\u001b[0m\u001b[0;34m.\u001b[0m\u001b[0marray_equal\u001b[0m\u001b[0;34m(\u001b[0m\u001b[0mnp\u001b[0m\u001b[0;34m.\u001b[0m\u001b[0mround\u001b[0m\u001b[0;34m(\u001b[0m\u001b[0mstudent_answer_ex3\u001b[0m\u001b[0;34m[\u001b[0m\u001b[0mi\u001b[0m\u001b[0;34m]\u001b[0m\u001b[0;34m[\u001b[0m\u001b[0mj\u001b[0m\u001b[0;34m]\u001b[0m\u001b[0;34m,\u001b[0m\u001b[0mr\u001b[0m\u001b[0;34m)\u001b[0m\u001b[0;34m*\u001b[0m\u001b[0;34m-\u001b[0m\u001b[0;36m1\u001b[0m\u001b[0;34m,\u001b[0m\u001b[0mnp\u001b[0m\u001b[0;34m.\u001b[0m\u001b[0mround\u001b[0m\u001b[0;34m(\u001b[0m\u001b[0mteachers_answer_ex3\u001b[0m\u001b[0;34m[\u001b[0m\u001b[0mi\u001b[0m\u001b[0;34m]\u001b[0m\u001b[0;34m[\u001b[0m\u001b[0mj\u001b[0m\u001b[0;34m]\u001b[0m\u001b[0;34m,\u001b[0m\u001b[0mr\u001b[0m\u001b[0;34m)\u001b[0m\u001b[0;34m)\u001b[0m\u001b[0;34m,\u001b[0m\u001b[0;34m\"not equal\"\u001b[0m\u001b[0;34m\u001b[0m\u001b[0m\n\u001b[1;32m     23\u001b[0m         \u001b[0;32melse\u001b[0m\u001b[0;34m:\u001b[0m\u001b[0;34m\u001b[0m\u001b[0m\n\u001b[0;32m---> 24\u001b[0;31m             \u001b[0;32massert\u001b[0m \u001b[0mnp\u001b[0m\u001b[0;34m.\u001b[0m\u001b[0marray_equal\u001b[0m\u001b[0;34m(\u001b[0m\u001b[0mnp\u001b[0m\u001b[0;34m.\u001b[0m\u001b[0mround\u001b[0m\u001b[0;34m(\u001b[0m\u001b[0mstudent_answer_ex3\u001b[0m\u001b[0;34m[\u001b[0m\u001b[0mi\u001b[0m\u001b[0;34m]\u001b[0m\u001b[0;34m[\u001b[0m\u001b[0mj\u001b[0m\u001b[0;34m]\u001b[0m\u001b[0;34m,\u001b[0m\u001b[0mr\u001b[0m\u001b[0;34m)\u001b[0m\u001b[0;34m,\u001b[0m\u001b[0mnp\u001b[0m\u001b[0;34m.\u001b[0m\u001b[0mround\u001b[0m\u001b[0;34m(\u001b[0m\u001b[0mteachers_answer_ex3\u001b[0m\u001b[0;34m[\u001b[0m\u001b[0mi\u001b[0m\u001b[0;34m]\u001b[0m\u001b[0;34m[\u001b[0m\u001b[0mj\u001b[0m\u001b[0;34m]\u001b[0m\u001b[0;34m,\u001b[0m\u001b[0mr\u001b[0m\u001b[0;34m)\u001b[0m\u001b[0;34m)\u001b[0m\u001b[0;34m,\u001b[0m\u001b[0;34m\"not equal\"\u001b[0m\u001b[0;34m\u001b[0m\u001b[0m\n\u001b[0m\u001b[1;32m     25\u001b[0m \u001b[0;34m\u001b[0m\u001b[0m\n\u001b[1;32m     26\u001b[0m \u001b[0mprint\u001b[0m\u001b[0;34m(\u001b[0m\u001b[0;34m\"*********\"\u001b[0m\u001b[0;34m)\u001b[0m\u001b[0;34m\u001b[0m\u001b[0m\n",
      "\u001b[0;31mAssertionError\u001b[0m: not equal"
     ]
    }
   ],
   "source": [
    "## Dummy Test Cell 3\n",
    "\n",
    "student_answer_ex3 = get_eigen_list(get_S_W_matrix(X,y),get_S_B_matrix(X,y))\n",
    "# print(f'Your answer : \\n{student_answer_ex3}')\n",
    "\n",
    "teachers_answer_ex3 = np.array([[31.874579396957305, np.array([-0.20511216, -0.38692895,  0.54633986,  0.7139522 ]), 99.13865],\n",
    "                                [0.27693748627003545, np.array([-0.00835164, -0.58911633,  0.25447583, -0.76688608]), 0.86135],\n",
    "                                [0.0, np.array([ 0.75474, -0.22471, -0.19941, -0.26944]), 0.0],\n",
    "                                [0.0, np.array([ 0.75474, -0.22471, -0.19941, -0.26944]), 0.0]])\n",
    "# print(f'Teachers answer : \\n{teachers_answer_ex3}')\n",
    "\n",
    "assert (type(student_answer_ex3))==(type(teachers_answer_ex3)), \"check the type of your result, should be a numpy.ndarray object\"\n",
    "\n",
    "for i in range(2):\n",
    "    for j in range(len(teachers_answer_ex3[i])):\n",
    "#         print(student_answer_ex3[i][j], \"- your answer\")\n",
    "#         print(teachers_answer_ex3[i][j],\"- solution\",\"\\n*****\")\n",
    "        if (type(student_answer_ex3[i][j])) == np.ndarray:\n",
    "            try:\n",
    "                assert np.array_equal(np.round(student_answer_ex3[i][j],r),np.round(teachers_answer_ex3[i][j],r)),\"not equal\"\n",
    "            except: \n",
    "                assert np.array_equal(np.round(student_answer_ex3[i][j],r)*-1,np.round(teachers_answer_ex3[i][j],r)),\"not equal\"\n",
    "        else:\n",
    "            assert np.array_equal(np.round(student_answer_ex3[i][j],r),np.round(teachers_answer_ex3[i][j],r)),\"not equal\"\n",
    "\n",
    "print(\"*********\")\n",
    "print(\"Passed dummy test cell\")\n",
    "print(\"Note : There are hidden test cells that run on a totally different but identical dataset\")\n"
   ]
  },
  {
   "cell_type": "code",
   "execution_count": 22,
   "metadata": {
    "deletable": false,
    "editable": false,
    "nbgrader": {
     "grade": true,
     "grade_id": "test_ex3",
     "locked": true,
     "points": "2",
     "solution": false
    }
   },
   "outputs": [],
   "source": [
    "###\n",
    "### AUTOGRADER TEST - DO NOT REMOVE\n",
    "###\n"
   ]
  },
  {
   "cell_type": "markdown",
   "metadata": {
    "collapsed": true,
    "deletable": false,
    "editable": false,
    "nbgrader": {
     "grade": false,
     "locked": true,
     "solution": false
    }
   },
   "source": [
    "**Exercise 4** (2 point) : \n",
    "\n",
    "Transforming the samples onto the new space with top k eigenvectors, that have cumulative of variance explained percentage bigger or equal to a specific threshold.\n",
    "\n",
    "Step 1: From the eigen_list above, we can construct a $k×d$-dimensional eigenvector matrix $W$ (here $4×k$: based on the k most informative eigenpairs that have cumulative percentage of variance explained >= a specific threshold) and thereby reducing the initial 4-dimensional feature space into a k-dimensional feature subspace.\n",
    "\n",
    "Step 2: Next, we use the 4×k-dimensional matrix $W$ that we just computed to transform our samples onto the new subspace via the equation\n",
    "\n",
    "$$Y = X×W$$.\n",
    "\n",
    "where $X$ is a $n×d$-dimensional matrix representing the $n$ samples, and $Y$ is the transformed $n×k$-dimensional samples in the new subspace.\n",
    "\n",
    "Example:"
   ]
  },
  {
   "cell_type": "markdown",
   "metadata": {
    "deletable": false,
    "editable": false,
    "nbgrader": {
     "grade": false,
     "locked": true,
     "solution": false
    }
   },
   "source": [
    "![alt text](Ex4.png \"Title\")\n"
   ]
  },
  {
   "cell_type": "markdown",
   "metadata": {
    "deletable": false,
    "editable": false,
    "nbgrader": {
     "grade": false,
     "locked": true,
     "solution": false
    }
   },
   "source": [
    "If variance_explained_threshold = 80, then W will be formed by Vec1.\n",
    "\n",
    "If variance_explained_threshold = 90, then W will be formed by Vec1 & Vec2.\n",
    "\n",
    "If variance_explained_threshold = 95, then W will be formed by Vec1, Vec2 & Vec3."
   ]
  },
  {
   "cell_type": "code",
   "execution_count": 17,
   "metadata": {
    "collapsed": true,
    "nbgrader": {
     "grade": false,
     "locked": false,
     "solution": false
    }
   },
   "outputs": [],
   "source": [
    "def transformed_matrix(X, eigen_list, variance_explained_threshold=99.5):\n",
    "    \n",
    "    ###\n",
    "    ### YOUR CODE HERE\n",
    "    ###\n",
    "    \n",
    "Y = transformed_matrix(X,eigen_list,99.5)"
   ]
  },
  {
   "cell_type": "code",
   "execution_count": 25,
   "metadata": {
    "deletable": false,
    "editable": false,
    "nbgrader": {
     "grade": true,
     "grade_id": "dummy_ex4",
     "locked": true,
     "points": "0",
     "solution": false
    }
   },
   "outputs": [
    {
     "name": "stdout",
     "output_type": "stream",
     "text": [
      "*********\n",
      "Passed dummy test cell\n",
      "Note : There are hidden test cells that run on a totally different but identical dataset\n"
     ]
    }
   ],
   "source": [
    "## Dummy Test Cell 4\n",
    "\n",
    "student_answer_ex4 = transformed_matrix(X, teachers_answer_ex3, 99.5)\n",
    "# print(f'Your answer : \\n{student_answer_ex4}')\n",
    "\n",
    "student_answer_ex4_2 = transformed_matrix(X, teachers_answer_ex3, 99)\n",
    "# print(f'Your answer : \\n{student_answer_ex4_2}')\n",
    "\n",
    "assert (type(student_answer_ex4)==np.ndarray), \"Check the data type of your result\"\n",
    "assert (type(student_answer_ex4_2)==np.ndarray), \"Check the data type of your result\"\n",
    "\n",
    "teachers_answer_ex4 = np.load('../resource/asnlib/publicdata/teachers_answer_ex4.npy')\n",
    "# print(f'Our solution : \\n{teachers_answer_ex4}')\n",
    "teachers_answer_ex4_2 = np.load('../resource/asnlib/publicdata/teachers_answer_ex4_2.npy')\n",
    "# print(f'Our solution : \\n{teachers_answer_ex4_2}')\n",
    "\n",
    "assert np.array_equal(np.round(student_answer_ex4,r), np.round(teachers_answer_ex4,r)), \"Check the answer on threshold = 99.5\"\n",
    "assert np.array_equal(np.round(student_answer_ex4_2,r), np.round(teachers_answer_ex4_2,r)), \"Check the answer on threshold = 99\"\n",
    "\n",
    "print(\"*********\")\n",
    "print(\"Passed dummy test cell\")\n",
    "print(\"Note : There are hidden test cells that run on a totally different but identical dataset\")\n"
   ]
  },
  {
   "cell_type": "code",
   "execution_count": 26,
   "metadata": {
    "deletable": false,
    "editable": false,
    "nbgrader": {
     "grade": true,
     "grade_id": "test_ex4",
     "locked": true,
     "points": "2",
     "solution": false
    }
   },
   "outputs": [
    {
     "name": "stdout",
     "output_type": "stream",
     "text": [
      "Ex4 : HIDDEN TEST PASSED\n"
     ]
    }
   ],
   "source": [
    "###\n",
    "### AUTOGRADER TEST - DO NOT REMOVE\n",
    "###\n"
   ]
  },
  {
   "cell_type": "markdown",
   "metadata": {
    "deletable": false,
    "editable": false,
    "nbgrader": {
     "grade": false,
     "locked": true,
     "solution": false
    }
   },
   "source": [
    "### How does our dataset look in the new subspace?\n",
    "\n",
    "Okay! Great job passing all the test cells. \n",
    "\n",
    "Let's visualize the transformed dataset in the new subspace (new dimensions)."
   ]
  },
  {
   "cell_type": "code",
   "execution_count": null,
   "metadata": {
    "collapsed": true,
    "deletable": false,
    "editable": false,
    "nbgrader": {
     "grade": false,
     "locked": true,
     "solution": false
    }
   },
   "outputs": [],
   "source": [
    "plot_step(Y, y)"
   ]
  },
  {
   "cell_type": "markdown",
   "metadata": {
    "deletable": false,
    "editable": false,
    "nbgrader": {
     "grade": false,
     "locked": true,
     "solution": false
    }
   },
   "source": [
    "**Finished!** You've reached the end of this problem. Don't forget to restart the kernel and run the entire notebook from top-to-bottom to make sure you did everything correctly. If that is working, try submitting this problem. (Recall that you must submit and pass the autograder to get credit for your work!)"
   ]
  }
 ],
 "metadata": {
  "kernelspec": {
   "display_name": "Python 3",
   "language": "python",
   "name": "python3"
  },
  "language_info": {
   "codemirror_mode": {
    "name": "ipython",
    "version": 3
   },
   "file_extension": ".py",
   "mimetype": "text/x-python",
   "name": "python",
   "nbconvert_exporter": "python",
   "pygments_lexer": "ipython3",
   "version": "3.6.5"
  }
 },
 "nbformat": 4,
 "nbformat_minor": 2
}
