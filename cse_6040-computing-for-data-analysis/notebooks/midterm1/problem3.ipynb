{
 "cells": [
  {
   "cell_type": "markdown",
   "metadata": {
    "nbgrader": {
     "grade": false,
     "grade_id": "cell-9aaf26a925783c90",
     "locked": true,
     "schema_version": 1,
     "solution": false
    }
   },
   "source": [
    "# Floating-point arithmetic reloaded\n",
    "\n",
    "In this problem, let's try to tackle some interesting floating-point calculations."
   ]
  },
  {
   "cell_type": "markdown",
   "metadata": {
    "nbgrader": {
     "grade": false,
     "grade_id": "cell-024b2bd877479b1d",
     "locked": true,
     "schema_version": 1,
     "solution": false
    }
   },
   "source": [
    "## Calculate square root of a floating-point number\n",
    "\n",
    "To calculate the square root of a number like 18.49, things would have been quite easy by just running a single line of code:"
   ]
  },
  {
   "cell_type": "code",
   "execution_count": null,
   "metadata": {
    "collapsed": true,
    "nbgrader": {
     "grade": false,
     "grade_id": "cell-c0e27a92bd395366",
     "locked": false,
     "schema_version": 1,
     "solution": false
    },
    "scrolled": true
   },
   "outputs": [],
   "source": [
    "print(18.49 ** 0.5)"
   ]
  },
  {
   "cell_type": "markdown",
   "metadata": {
    "nbgrader": {
     "grade": false,
     "grade_id": "cell-024b2bd877479b1d",
     "locked": true,
     "schema_version": 1,
     "solution": false
    }
   },
   "source": [
    "However, in this problem, we will implement this operation manually. To do so, we will utilize a technique similar to the bisection method.\n",
    "\n",
    "Through this problem we will walk through the bisection method and the various steps to perform a square root operation and then division using the bisection method. \n",
    "\n",
    "The bisection method is a way to approximate a solution to an equation. The solutions will not be 100% accurate, but should be so to a set significance. "
   ]
  },
  {
   "cell_type": "code",
   "execution_count": null,
   "metadata": {
    "collapsed": true,
    "nbgrader": {
     "grade": false,
     "grade_id": "cell-c0e27a92bd395366",
     "locked": false,
     "schema_version": 1,
     "solution": false
    }
   },
   "outputs": [],
   "source": [
    "import math, sys"
   ]
  },
  {
   "cell_type": "markdown",
   "metadata": {
    "nbgrader": {
     "grade": false,
     "grade_id": "cell-cd4af9ff41ebbca3",
     "locked": true,
     "schema_version": 1,
     "solution": false
    }
   },
   "source": [
    "**Exercise 0** Given two numbers $a$ & $b$, return `True` if $a$ and $b$ are close to each other within the given tolerance and `False` otherwise."
   ]
  },
  {
   "cell_type": "code",
   "execution_count": null,
   "metadata": {
    "collapsed": true,
    "nbgrader": {
     "grade": false,
     "grade_id": "cell-f43436f5b27c8d5f",
     "locked": false,
     "schema_version": 1,
     "solution": false
    }
   },
   "outputs": [],
   "source": [
    "def is_close(a, b, epsilon):\n",
    "    ###Begin Solution\n",
    "   \n",
    "    ###End Solution"
   ]
  },
  {
   "cell_type": "code",
   "execution_count": null,
   "metadata": {
    "collapsed": true,
    "nbgrader": {
     "grade": true,
     "grade_id": "Ex_0_test",
     "locked": true,
     "points": "1 ",
     "solution": false
    }
   },
   "outputs": [],
   "source": [
    "#Test cell: Ex_0_test\n",
    "\n",
    "sol1 = is_close(4,1,4)\n",
    "assert sol1 == True, 'Incorrect solution, please try again.'\n",
    "\n",
    "sol2 = is_close(-4,1,3)\n",
    "assert sol2 == False, 'Incorrect solution, please try again.'\n",
    "\n",
    "sol3 = is_close(0.5, -0.5, 1)\n",
    "assert sol3 == False, 'Incorrect solution, please try again.'\n",
    "\n",
    "sol4 = is_close(0.67, -0.33, 2)\n",
    "assert sol4 == True, 'Incorrect solution, please try again.'\n",
    "\n",
    "print(\"\\nPassed!\")"
   ]
  },
  {
   "cell_type": "markdown",
   "metadata": {
    "collapsed": true,
    "nbgrader": {
     "grade": false,
     "locked": true,
     "solution": false
    }
   },
   "source": [
    "For this exercise we will use positive values only. First we need to identify the searching interval. \n",
    "     \n",
    "For all $x$ where $f(x) = \\sqrt(x)$, if $x < 1$ the searching interval is $[x, 1]$. If not less than 1, \n",
    "the searching interval is $[1.0, x]$. "
   ]
  },
  {
   "cell_type": "markdown",
   "metadata": {
    "nbgrader": {
     "grade": false,
     "grade_id": "cell-cd4af9ff41ebbca3",
     "locked": true,
     "schema_version": 1,
     "solution": false
    }
   },
   "source": [
    "**Exercise 1** Determine the searching interval, depending upon the number $n$ that we try to find its square root."
   ]
  },
  {
   "cell_type": "code",
   "execution_count": null,
   "metadata": {
    "collapsed": true,
    "nbgrader": {
     "grade": false,
     "grade_id": "cell-f43436f5b27c8d5f",
     "locked": false,
     "schema_version": 1,
     "solution": false
    }
   },
   "outputs": [],
   "source": [
    "def square_root_searching_interval(n):\n",
    "    ###Begin solution\n",
    "   \n",
    "    ###End solution"
   ]
  },
  {
   "cell_type": "code",
   "execution_count": null,
   "metadata": {
    "collapsed": true,
    "nbgrader": {
     "grade": true,
     "grade_id": "Ex_1_test",
     "locked": true,
     "points": "2",
     "solution": false
    }
   },
   "outputs": [],
   "source": [
    "#Test cell: Ex_1_test\n",
    "\n",
    "assert (square_root_searching_interval(3.0)) == (1.0, 3.0), \"Incorrect answer, please try again\"\n",
    "assert (square_root_searching_interval(0.2274)) == (0.2274, 1.0), \"Incorrect answer, please try again\"\n",
    "assert (square_root_searching_interval(1.00001)) == (1.0,1.00001), \"Incorrect answer, please try again\"\n",
    "\n",
    "print(\"\\nPassed!\")"
   ]
  },
  {
   "cell_type": "markdown",
   "metadata": {
    "nbgrader": {
     "grade": false,
     "locked": true,
     "solution": false
    }
   },
   "source": [
    "Once the searching interval ($[x,y]$) is calculated, we can begin the bisection method!      \n",
    "      \n",
    "While $|x-y| \\geq \\epsilon$ the following steps will cycle:    \n",
    "$r = (x + y) / 2$     \n",
    "If $r^2 \\geq n$ then $y = r$, else $x = r$.      \n",
    "      \n",
    "When $|x-y| < \\epsilon$ the bisection method is complete, and print the last $r$.      "
   ]
  },
  {
   "cell_type": "markdown",
   "metadata": {
    "nbgrader": {
     "grade": false,
     "grade_id": "cell-cd4af9ff41ebbca3",
     "locked": true,
     "schema_version": 1,
     "solution": false
    }
   },
   "source": [
    "**Exercise 2** Find the square root of a number $n$, by using the bisection method. Please note, you should not use the sqrt() function from math. You are to perform the bisection method, which will not yield an exact result. Please look for accuracy within 0.000001 of the exact result. "
   ]
  },
  {
   "cell_type": "code",
   "execution_count": null,
   "metadata": {
    "collapsed": true,
    "nbgrader": {
     "grade": false,
     "grade_id": "cell-f43436f5b27c8d5f",
     "locked": false,
     "schema_version": 1,
     "solution": false
    }
   },
   "outputs": [],
   "source": [
    "def square_root(n):\n",
    "    (left, right) = square_root_searching_interval(n)\n",
    "    ###Begin solution\n",
    "\n",
    "\n",
    "    ###End solution\n",
    "\n",
    "    return left"
   ]
  },
  {
   "cell_type": "code",
   "execution_count": null,
   "metadata": {
    "collapsed": true,
    "nbgrader": {
     "grade": true,
     "grade_id": "Ex_2_test",
     "locked": true,
     "points": "2",
     "solution": false
    },
    "scrolled": true
   },
   "outputs": [],
   "source": [
    "#Test cell: Ex_2_test\n",
    "from random import randint\n",
    "\n",
    "assert square_root(4) >= (math.sqrt(4) - 0.000001), \"Value is too low. Please try again.\"\n",
    "assert square_root(4) <= (math.sqrt(4) + 0.000001), \"Value is too high. Please try again.\"\n",
    "assert square_root(4) != math.sqrt(4), \"Use bisection method, not sqrt in Python.\"\n",
    "\n",
    "assert square_root(10.7) >= (math.sqrt(10.7) - 0.000001), \"Value is too low. Please try again.\"\n",
    "assert square_root(10.7) <= (math.sqrt(10.7) + 0.000001), \"Value is too high. Please try again.\"\n",
    "assert square_root(10.7) != math.sqrt(10.7), \"Use bisection method, not sqrt in Python.\"\n",
    "\n",
    "a = randint(0,1000)\n",
    "assert square_root(a) >= (math.sqrt(a) - 0.000001), \"Value is too low. Please try again.\"\n",
    "assert square_root(a) <= (math.sqrt(a) + 0.000001), \"Value is too high. Please try again.\"\n",
    "assert square_root(a) != math.sqrt(a), \"Use bisection method, not sqrt in Python.\"\n",
    "\n",
    "print(\"\\nPassed!\")"
   ]
  },
  {
   "cell_type": "markdown",
   "metadata": {
    "nbgrader": {
     "grade": false,
     "grade_id": "cell-024b2bd877479b1d",
     "locked": true,
     "schema_version": 1,
     "solution": false
    }
   },
   "source": [
    "## Calculate square root of a floating-point number\n",
    "\n",
    "We could use a similar technique to calculate the result of a positive floating point number $a$ divided by a positive floating point number $b$, by using only additive and multiplicative operations. You can assume that the result will not exceed `sys.float_info.max`."
   ]
  },
  {
   "cell_type": "markdown",
   "metadata": {
    "collapsed": true,
    "nbgrader": {
     "grade": false,
     "locked": true,
     "solution": false
    }
   },
   "source": [
    "Similar to Exercise 0, for division using the bisection method we need an interval to start with. If $b < 1.0$ the\n",
    "bounds for the upper bound for the searching interval is sys.float_info.max, with a as the lower bound. "
   ]
  },
  {
   "cell_type": "markdown",
   "metadata": {
    "nbgrader": {
     "grade": false,
     "grade_id": "cell-cd4af9ff41ebbca3",
     "locked": true,
     "schema_version": 1,
     "solution": false
    }
   },
   "source": [
    "**Exercise 3** Determine the searching interval, depending upon $a$ and $b$."
   ]
  },
  {
   "cell_type": "code",
   "execution_count": null,
   "metadata": {
    "collapsed": true,
    "nbgrader": {
     "grade": false,
     "grade_id": "cell-f43436f5b27c8d5f",
     "locked": false,
     "schema_version": 1,
     "solution": false
    }
   },
   "outputs": [],
   "source": [
    "def division_searching_interval(a, b):\n",
    "    ###Begin solution\n",
    "    \n",
    "    ###End solution"
   ]
  },
  {
   "cell_type": "code",
   "execution_count": null,
   "metadata": {
    "collapsed": true,
    "nbgrader": {
     "grade": true,
     "grade_id": "Ex_3_test",
     "locked": true,
     "points": "2",
     "solution": false
    }
   },
   "outputs": [],
   "source": [
    "#Test cell: Ex_3_test\n",
    "\n",
    "assert division_searching_interval(4,2) == (0.0, 4), \"Incorrect, please try again\"\n",
    "assert division_searching_interval(2,4) == (0.0, 2), \"Incorrect, please try again\"\n",
    "assert division_searching_interval(10,0.5) == (10, sys.float_info.max), \"Incorrect, please try again\"\n",
    "assert division_searching_interval(38, 1) == (0.0, 38), \"Incorrect, please try again\"\n",
    "\n",
    "print(\"\\nPassed!\")"
   ]
  },
  {
   "cell_type": "markdown",
   "metadata": {
    "collapsed": true,
    "nbgrader": {
     "grade": false,
     "locked": true,
     "solution": false
    }
   },
   "source": [
    "Next we will use the bisection method to calculate a division function. This will be somewhat similar to Exercise 2.   \n",
    "       \n",
    "While $|x-y| \\geq \\epsilon$:     \n",
    "    $r = x + (y-x) / 2$      \n",
    "If $r*b > a$ then $x = r$, or else $y = r$       "
   ]
  },
  {
   "cell_type": "markdown",
   "metadata": {
    "nbgrader": {
     "grade": false,
     "grade_id": "cell-cd4af9ff41ebbca3",
     "locked": true,
     "schema_version": 1,
     "solution": false
    }
   },
   "source": [
    "**Exercise 4** Calculate $\\frac{a}{b}$, by using the bisection method. Please note the value calculated will not be exact, and may be +/- 0.000001 off from the exact calculation. "
   ]
  },
  {
   "cell_type": "code",
   "execution_count": null,
   "metadata": {
    "collapsed": true,
    "nbgrader": {
     "grade": false,
     "grade_id": "cell-f43436f5b27c8d5f",
     "locked": false,
     "schema_version": 1,
     "solution": false
    }
   },
   "outputs": [],
   "source": [
    "def division(a, b):\n",
    "    (left, right) = division_searching_interval(a, b)\n",
    "\n",
    "    ###Begin solution\n",
    "\n",
    " \n",
    "    ###End solution\n",
    "    \n",
    "    return left"
   ]
  },
  {
   "cell_type": "code",
   "execution_count": null,
   "metadata": {
    "collapsed": true,
    "nbgrader": {
     "grade": true,
     "grade_id": "Ex_4_test",
     "locked": true,
     "points": "3",
     "solution": false
    }
   },
   "outputs": [],
   "source": [
    "#Test cell: Ex_4_test\n",
    "\n",
    "assert division(10.5,2.01) <= (10.5/2.01 + 0.000001), \"Value too high, please try again.\"\n",
    "assert division(10.5,2.01) >= (10.5/2.01 - 0.000001), \"Value too low, please try again.\"\n",
    "assert division(10.5,2.01) != (10.5/2.01), \"Use bisection method, not python division\"\n",
    "\n",
    "assert division(0.2, 0.006) <= (0.2/0.006 + 0.000001), \"Value too high, please try again.\"\n",
    "assert division(0.2, 0.006) >= (0.2/0.006 - 0.000001), \"Value too low, please try again.\"\n",
    "assert division(0.2,0.006) != (0.2/0.006), \"USe bisection method, not python division\"\n",
    "\n",
    "\n",
    "print(\"\\nPassed!\")"
   ]
  },
  {
   "cell_type": "markdown",
   "metadata": {
    "collapsed": true,
    "nbgrader": {
     "grade": false,
     "grade_id": "cell-1b03f5b32a35fb6b",
     "locked": true,
     "schema_version": 1,
     "solution": false
    }
   },
   "source": [
    "**Done!** You have reached the end of this problem. If you are satisfied, be sure to submit, declare victory, and move on!"
   ]
  }
 ],
 "metadata": {
  "celltoolbar": "Create Assignment",
  "kernelspec": {
   "display_name": "Python 2",
   "language": "python",
   "name": "python2"
  },
  "language_info": {
   "codemirror_mode": {
    "name": "ipython",
    "version": 3
   },
   "file_extension": ".py",
   "mimetype": "text/x-python",
   "name": "python",
   "nbconvert_exporter": "python",
   "pygments_lexer": "ipython3",
   "version": "3.5.2"
  }
 },
 "nbformat": 4,
 "nbformat_minor": 1
}
